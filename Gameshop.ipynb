{
 "cells": [
  {
   "cell_type": "markdown",
   "metadata": {},
   "source": [
    "<div  style=\"border-radius: 10px; box-shadow: 2px 2px 2px; border: 1px solid; padding: 10px \">\n",
    "\n",
    "**Дмитрий, привет!**\n",
    "\n",
    "Меня зовут Василий Митров и я буду проверять твой проект. Предлагаю общаться на «ты». Если это неприемлемо, то дай мне знать и мы перейдем на «вы». Моя основная цель — не указать на совершенные тобою ошибки, а поделиться своим опытом и помочь тебе стать аналитиком данных.\n",
    "\n",
    "Для удобства я оставлю комментарии в отдельных ячейках Markdown с заголовком «Комментарий ревьюера». Пожалуйста, не перемещай, не изменяй и не удаляй их - так наше общение будет более продуктивным. Я буду использовать цветовую разметку:\n",
    "\n",
    "<div class=\"alert alert-danger\" style=\"border-radius: 10px; box-shadow: 2px 2px 2px; border: 1px solid; padding: 10px \">\n",
    "<b>Комментарий ревьюера</b> \n",
    "    \n",
    "✍ Так выделены самые важные замечания. Без их отработки проект не будет принят. При проверке я обращаю внимание не только на код, но и на интерпретацию и анализ результатов, а также соответствие данных техническому заданию.\n",
    "</div>\n",
    "\n",
    "<div class=\"alert alert-warning\" style=\"border-radius: 10px; box-shadow: 2px 2px 2px; border: 1px solid; padding: 10px \">\n",
    "<b>Комментарий ревьюера</b> \n",
    "    \n",
    "📝 Так выделены небольшие замечания или рекомендации. Постарайся, пожалуйста, учесть эти комментарии в этом проекте или в будущих проектах.\n",
    "</div>\n",
    "\n",
    "<div class=\"alert alert-success\" style=\"border-radius: 10px; box-shadow: 2px 2px 2px; border: 1px solid; padding: 10px \">\n",
    "<b>Комментарий ревьюера</b> \n",
    "    \n",
    "👍 Так выделены все остальные комментарии, включая рекомендации, позитивные моменты или какие-то рассуждения и пояснения.\n",
    "</div>\n",
    "\n",
    "Давай работать над проектом в диалоге: если ты что-то меняешь в проекте или отвечаешь на мои комментарии — пиши об этом. Мне будет легче отследить изменения, если ты выделишь свои комментарии:\n",
    "\n",
    "<div class=\"alert alert-info\" style=\"border-radius: 10px; box-shadow: 2px 2px 2px; border: 1px solid; padding: 10px \"> \n",
    "<b>Комментарий студента</b> \n",
    "    \n",
    "Например, вот так. Также, если есть какие-то вопросы, или что-то осталось непонятным по ревью - спрашивай в таких блоках и я постараюсь дать ответ.\n",
    "</div>\n",
    "\n",
    "---"
   ]
  },
  {
   "cell_type": "markdown",
   "metadata": {},
   "source": [
    "# Сборный проект №1"
   ]
  },
  {
   "cell_type": "markdown",
   "metadata": {},
   "source": [
    "### Описание проекта\n",
    "Вы работаете в интернет-магазине «Стримчик», который продаёт по всему миру компьютерные игры. Из открытых источников доступны исторические данные о продажах игр, оценки пользователей и экспертов, жанры и платформы (например, Xbox или PlayStation). Вам нужно выявить определяющие успешность игры закономерности. Это позволит сделать ставку на потенциально популярный продукт и спланировать рекламные кампании.\n",
    "\n",
    "\n",
    "Перед вами данные до 2016 года. Представим, что сейчас декабрь 2016 г., и вы планируете кампанию на 2017-й. Нужно отработать принцип работы с данными. Неважно, прогнозируете ли вы продажи на 2017 год по данным 2016-го или же 2027-й — по данным 2026 года.\n",
    "\n",
    "\n",
    "В наборе данных попадается аббревиатура ESRB (Entertainment Software Rating Board) — это ассоциация, определяющая возрастной рейтинг компьютерных игр. ESRB оценивает игровой контент и присваивает ему подходящую возрастную категорию, например, «Для взрослых», «Для детей младшего возраста» или «Для подростков».\n",
    "\n",
    "#### Описание данных\n",
    "\n",
    "* Name — название игры\n",
    "* Platform — платформа\n",
    "* Year_of_Release — год выпуска\n",
    "* Genre — жанр игры\n",
    "* NA_sales — продажи в Северной Америке (миллионы проданных копий)\n",
    "* EU_sales — продажи в Европе (миллионы проданных копий)\n",
    "* JP_sales — продажи в Японии (миллионы проданных копий)\n",
    "* Other_sales — продажи в других странах (миллионы проданных копий)\n",
    "* Critic_Score — оценка критиков (максимум 100)\n",
    "* User_Score — оценка пользователей (максимум 10)\n",
    "* Rating — рейтинг от организации ESRB (англ. Entertainment Software Rating Board). Эта ассоциация определяет рейтинг компьютерных игр и присваивает им подходящую возрастную категорию.\n",
    "* Данные за 2016 год могут быть неполными.\n",
    "\n",
    "#### План работы:\n",
    "\n",
    "* Открыть нужный файл\n",
    "* Провести предобработку, если потребуется\n",
    "* Добавить необходимые данные в таблицу, если это потребуется\n",
    "\n",
    "\n",
    "Провести иследования по предоставленным данным по следующий параметрам:\n",
    "- Кол-во выпускаемых игр в разбивке по годам\n",
    "- Продажи по отдельным платформа\n",
    "- Выбор актуальных платформ и период для иследования\n",
    "- Расчитать корреляцию продаж и отзывов\n",
    "- Проверить общее распределение игр по жанру\n",
    "\n",
    "\n",
    "\n",
    "* Составить портрет пользователей по регионам\n",
    "* Проверить гипотезы"
   ]
  },
  {
   "cell_type": "markdown",
   "metadata": {},
   "source": [
    "<div class=\"alert alert-success\" style=\"border-radius: 10px; box-shadow: 2px 2px 2px; border: 1px solid; padding: 10px \">\n",
    "<b>Комментарий ревьюера v.1</b> \n",
    "    \n",
    "👍 \n",
    "Вступление в работу очень важно. Так ты поясняешь то, чему она посвящена. Еще лучше будет, если ты сделаешь план работы с гиперссылками. Да, есть плагин ToC. Но хорошо бы уметь реализовывать интерактивный план проекта вручную. Как это реализовать - смотри по ссылке :https://stackoverflow.com/questions/49535664/how-to-hyperlink-in-a-jupyter-notebook/49717704\n",
    "</div>"
   ]
  },
  {
   "cell_type": "markdown",
   "metadata": {},
   "source": [
    "### Изучение данных"
   ]
  },
  {
   "cell_type": "code",
   "execution_count": 1,
   "metadata": {},
   "outputs": [],
   "source": [
    "import pandas as pd\n",
    "from scipy import stats as st\n",
    "import numpy as np\n",
    "%matplotlib inline\n",
    "import matplotlib.pyplot as plt\n",
    "import seaborn as sns\n",
    "sns.set()"
   ]
  },
  {
   "cell_type": "markdown",
   "metadata": {},
   "source": [
    "<div class=\"alert alert-success\" style=\"border-radius: 10px; box-shadow: 2px 2px 2px; border: 1px solid; padding: 10px \">\n",
    "<b>Комментарий ревьюера v.1</b> \n",
    "    \n",
    "👍 \n",
    "Правильно, что весь импорт ты проводишь в первой ячейке работы. Так твой коллега, запускающий работу, будет в курсе используемых в ней библиотек и сможет при необходимости быстро настроить окружение.\n",
    "</div>"
   ]
  },
  {
   "cell_type": "code",
   "execution_count": 2,
   "metadata": {},
   "outputs": [
    {
     "data": {
      "text/html": [
       "<div>\n",
       "<style scoped>\n",
       "    .dataframe tbody tr th:only-of-type {\n",
       "        vertical-align: middle;\n",
       "    }\n",
       "\n",
       "    .dataframe tbody tr th {\n",
       "        vertical-align: top;\n",
       "    }\n",
       "\n",
       "    .dataframe thead th {\n",
       "        text-align: right;\n",
       "    }\n",
       "</style>\n",
       "<table border=\"1\" class=\"dataframe\">\n",
       "  <thead>\n",
       "    <tr style=\"text-align: right;\">\n",
       "      <th></th>\n",
       "      <th>Name</th>\n",
       "      <th>Platform</th>\n",
       "      <th>Year_of_Release</th>\n",
       "      <th>Genre</th>\n",
       "      <th>NA_sales</th>\n",
       "      <th>EU_sales</th>\n",
       "      <th>JP_sales</th>\n",
       "      <th>Other_sales</th>\n",
       "      <th>Critic_Score</th>\n",
       "      <th>User_Score</th>\n",
       "      <th>Rating</th>\n",
       "    </tr>\n",
       "  </thead>\n",
       "  <tbody>\n",
       "    <tr>\n",
       "      <th>0</th>\n",
       "      <td>Wii Sports</td>\n",
       "      <td>Wii</td>\n",
       "      <td>2006.0</td>\n",
       "      <td>Sports</td>\n",
       "      <td>41.36</td>\n",
       "      <td>28.96</td>\n",
       "      <td>3.77</td>\n",
       "      <td>8.45</td>\n",
       "      <td>76.0</td>\n",
       "      <td>8</td>\n",
       "      <td>E</td>\n",
       "    </tr>\n",
       "    <tr>\n",
       "      <th>1</th>\n",
       "      <td>Super Mario Bros.</td>\n",
       "      <td>NES</td>\n",
       "      <td>1985.0</td>\n",
       "      <td>Platform</td>\n",
       "      <td>29.08</td>\n",
       "      <td>3.58</td>\n",
       "      <td>6.81</td>\n",
       "      <td>0.77</td>\n",
       "      <td>NaN</td>\n",
       "      <td>NaN</td>\n",
       "      <td>NaN</td>\n",
       "    </tr>\n",
       "    <tr>\n",
       "      <th>2</th>\n",
       "      <td>Mario Kart Wii</td>\n",
       "      <td>Wii</td>\n",
       "      <td>2008.0</td>\n",
       "      <td>Racing</td>\n",
       "      <td>15.68</td>\n",
       "      <td>12.76</td>\n",
       "      <td>3.79</td>\n",
       "      <td>3.29</td>\n",
       "      <td>82.0</td>\n",
       "      <td>8.3</td>\n",
       "      <td>E</td>\n",
       "    </tr>\n",
       "    <tr>\n",
       "      <th>3</th>\n",
       "      <td>Wii Sports Resort</td>\n",
       "      <td>Wii</td>\n",
       "      <td>2009.0</td>\n",
       "      <td>Sports</td>\n",
       "      <td>15.61</td>\n",
       "      <td>10.93</td>\n",
       "      <td>3.28</td>\n",
       "      <td>2.95</td>\n",
       "      <td>80.0</td>\n",
       "      <td>8</td>\n",
       "      <td>E</td>\n",
       "    </tr>\n",
       "    <tr>\n",
       "      <th>4</th>\n",
       "      <td>Pokemon Red/Pokemon Blue</td>\n",
       "      <td>GB</td>\n",
       "      <td>1996.0</td>\n",
       "      <td>Role-Playing</td>\n",
       "      <td>11.27</td>\n",
       "      <td>8.89</td>\n",
       "      <td>10.22</td>\n",
       "      <td>1.00</td>\n",
       "      <td>NaN</td>\n",
       "      <td>NaN</td>\n",
       "      <td>NaN</td>\n",
       "    </tr>\n",
       "    <tr>\n",
       "      <th>5</th>\n",
       "      <td>Tetris</td>\n",
       "      <td>GB</td>\n",
       "      <td>1989.0</td>\n",
       "      <td>Puzzle</td>\n",
       "      <td>23.20</td>\n",
       "      <td>2.26</td>\n",
       "      <td>4.22</td>\n",
       "      <td>0.58</td>\n",
       "      <td>NaN</td>\n",
       "      <td>NaN</td>\n",
       "      <td>NaN</td>\n",
       "    </tr>\n",
       "    <tr>\n",
       "      <th>6</th>\n",
       "      <td>New Super Mario Bros.</td>\n",
       "      <td>DS</td>\n",
       "      <td>2006.0</td>\n",
       "      <td>Platform</td>\n",
       "      <td>11.28</td>\n",
       "      <td>9.14</td>\n",
       "      <td>6.50</td>\n",
       "      <td>2.88</td>\n",
       "      <td>89.0</td>\n",
       "      <td>8.5</td>\n",
       "      <td>E</td>\n",
       "    </tr>\n",
       "    <tr>\n",
       "      <th>7</th>\n",
       "      <td>Wii Play</td>\n",
       "      <td>Wii</td>\n",
       "      <td>2006.0</td>\n",
       "      <td>Misc</td>\n",
       "      <td>13.96</td>\n",
       "      <td>9.18</td>\n",
       "      <td>2.93</td>\n",
       "      <td>2.84</td>\n",
       "      <td>58.0</td>\n",
       "      <td>6.6</td>\n",
       "      <td>E</td>\n",
       "    </tr>\n",
       "    <tr>\n",
       "      <th>8</th>\n",
       "      <td>New Super Mario Bros. Wii</td>\n",
       "      <td>Wii</td>\n",
       "      <td>2009.0</td>\n",
       "      <td>Platform</td>\n",
       "      <td>14.44</td>\n",
       "      <td>6.94</td>\n",
       "      <td>4.70</td>\n",
       "      <td>2.24</td>\n",
       "      <td>87.0</td>\n",
       "      <td>8.4</td>\n",
       "      <td>E</td>\n",
       "    </tr>\n",
       "    <tr>\n",
       "      <th>9</th>\n",
       "      <td>Duck Hunt</td>\n",
       "      <td>NES</td>\n",
       "      <td>1984.0</td>\n",
       "      <td>Shooter</td>\n",
       "      <td>26.93</td>\n",
       "      <td>0.63</td>\n",
       "      <td>0.28</td>\n",
       "      <td>0.47</td>\n",
       "      <td>NaN</td>\n",
       "      <td>NaN</td>\n",
       "      <td>NaN</td>\n",
       "    </tr>\n",
       "  </tbody>\n",
       "</table>\n",
       "</div>"
      ],
      "text/plain": [
       "                        Name Platform  Year_of_Release         Genre  \\\n",
       "0                 Wii Sports      Wii           2006.0        Sports   \n",
       "1          Super Mario Bros.      NES           1985.0      Platform   \n",
       "2             Mario Kart Wii      Wii           2008.0        Racing   \n",
       "3          Wii Sports Resort      Wii           2009.0        Sports   \n",
       "4   Pokemon Red/Pokemon Blue       GB           1996.0  Role-Playing   \n",
       "5                     Tetris       GB           1989.0        Puzzle   \n",
       "6      New Super Mario Bros.       DS           2006.0      Platform   \n",
       "7                   Wii Play      Wii           2006.0          Misc   \n",
       "8  New Super Mario Bros. Wii      Wii           2009.0      Platform   \n",
       "9                  Duck Hunt      NES           1984.0       Shooter   \n",
       "\n",
       "   NA_sales  EU_sales  JP_sales  Other_sales  Critic_Score User_Score Rating  \n",
       "0     41.36     28.96      3.77         8.45          76.0          8      E  \n",
       "1     29.08      3.58      6.81         0.77           NaN        NaN    NaN  \n",
       "2     15.68     12.76      3.79         3.29          82.0        8.3      E  \n",
       "3     15.61     10.93      3.28         2.95          80.0          8      E  \n",
       "4     11.27      8.89     10.22         1.00           NaN        NaN    NaN  \n",
       "5     23.20      2.26      4.22         0.58           NaN        NaN    NaN  \n",
       "6     11.28      9.14      6.50         2.88          89.0        8.5      E  \n",
       "7     13.96      9.18      2.93         2.84          58.0        6.6      E  \n",
       "8     14.44      6.94      4.70         2.24          87.0        8.4      E  \n",
       "9     26.93      0.63      0.28         0.47           NaN        NaN    NaN  "
      ]
     },
     "execution_count": 2,
     "metadata": {},
     "output_type": "execute_result"
    }
   ],
   "source": [
    "data = pd.read_csv('/datasets/games.csv')\n",
    "data.head(10)"
   ]
  },
  {
   "cell_type": "code",
   "execution_count": 3,
   "metadata": {},
   "outputs": [
    {
     "name": "stdout",
     "output_type": "stream",
     "text": [
      "<class 'pandas.core.frame.DataFrame'>\n",
      "RangeIndex: 16715 entries, 0 to 16714\n",
      "Data columns (total 11 columns):\n",
      " #   Column           Non-Null Count  Dtype  \n",
      "---  ------           --------------  -----  \n",
      " 0   Name             16713 non-null  object \n",
      " 1   Platform         16715 non-null  object \n",
      " 2   Year_of_Release  16446 non-null  float64\n",
      " 3   Genre            16713 non-null  object \n",
      " 4   NA_sales         16715 non-null  float64\n",
      " 5   EU_sales         16715 non-null  float64\n",
      " 6   JP_sales         16715 non-null  float64\n",
      " 7   Other_sales      16715 non-null  float64\n",
      " 8   Critic_Score     8137 non-null   float64\n",
      " 9   User_Score       10014 non-null  object \n",
      " 10  Rating           9949 non-null   object \n",
      "dtypes: float64(6), object(5)\n",
      "memory usage: 1.4+ MB\n"
     ]
    }
   ],
   "source": [
    "data.info()"
   ]
  },
  {
   "cell_type": "code",
   "execution_count": 4,
   "metadata": {
    "scrolled": true
   },
   "outputs": [
    {
     "data": {
      "text/html": [
       "<div>\n",
       "<style scoped>\n",
       "    .dataframe tbody tr th:only-of-type {\n",
       "        vertical-align: middle;\n",
       "    }\n",
       "\n",
       "    .dataframe tbody tr th {\n",
       "        vertical-align: top;\n",
       "    }\n",
       "\n",
       "    .dataframe thead th {\n",
       "        text-align: right;\n",
       "    }\n",
       "</style>\n",
       "<table border=\"1\" class=\"dataframe\">\n",
       "  <thead>\n",
       "    <tr style=\"text-align: right;\">\n",
       "      <th></th>\n",
       "      <th>Year_of_Release</th>\n",
       "      <th>NA_sales</th>\n",
       "      <th>EU_sales</th>\n",
       "      <th>JP_sales</th>\n",
       "      <th>Other_sales</th>\n",
       "      <th>Critic_Score</th>\n",
       "    </tr>\n",
       "  </thead>\n",
       "  <tbody>\n",
       "    <tr>\n",
       "      <th>count</th>\n",
       "      <td>16446.000000</td>\n",
       "      <td>16715.000000</td>\n",
       "      <td>16715.000000</td>\n",
       "      <td>16715.000000</td>\n",
       "      <td>16715.000000</td>\n",
       "      <td>8137.000000</td>\n",
       "    </tr>\n",
       "    <tr>\n",
       "      <th>mean</th>\n",
       "      <td>2006.484616</td>\n",
       "      <td>0.263377</td>\n",
       "      <td>0.145060</td>\n",
       "      <td>0.077617</td>\n",
       "      <td>0.047342</td>\n",
       "      <td>68.967679</td>\n",
       "    </tr>\n",
       "    <tr>\n",
       "      <th>std</th>\n",
       "      <td>5.877050</td>\n",
       "      <td>0.813604</td>\n",
       "      <td>0.503339</td>\n",
       "      <td>0.308853</td>\n",
       "      <td>0.186731</td>\n",
       "      <td>13.938165</td>\n",
       "    </tr>\n",
       "    <tr>\n",
       "      <th>min</th>\n",
       "      <td>1980.000000</td>\n",
       "      <td>0.000000</td>\n",
       "      <td>0.000000</td>\n",
       "      <td>0.000000</td>\n",
       "      <td>0.000000</td>\n",
       "      <td>13.000000</td>\n",
       "    </tr>\n",
       "    <tr>\n",
       "      <th>25%</th>\n",
       "      <td>2003.000000</td>\n",
       "      <td>0.000000</td>\n",
       "      <td>0.000000</td>\n",
       "      <td>0.000000</td>\n",
       "      <td>0.000000</td>\n",
       "      <td>60.000000</td>\n",
       "    </tr>\n",
       "    <tr>\n",
       "      <th>50%</th>\n",
       "      <td>2007.000000</td>\n",
       "      <td>0.080000</td>\n",
       "      <td>0.020000</td>\n",
       "      <td>0.000000</td>\n",
       "      <td>0.010000</td>\n",
       "      <td>71.000000</td>\n",
       "    </tr>\n",
       "    <tr>\n",
       "      <th>75%</th>\n",
       "      <td>2010.000000</td>\n",
       "      <td>0.240000</td>\n",
       "      <td>0.110000</td>\n",
       "      <td>0.040000</td>\n",
       "      <td>0.030000</td>\n",
       "      <td>79.000000</td>\n",
       "    </tr>\n",
       "    <tr>\n",
       "      <th>max</th>\n",
       "      <td>2016.000000</td>\n",
       "      <td>41.360000</td>\n",
       "      <td>28.960000</td>\n",
       "      <td>10.220000</td>\n",
       "      <td>10.570000</td>\n",
       "      <td>98.000000</td>\n",
       "    </tr>\n",
       "  </tbody>\n",
       "</table>\n",
       "</div>"
      ],
      "text/plain": [
       "       Year_of_Release      NA_sales      EU_sales      JP_sales  \\\n",
       "count     16446.000000  16715.000000  16715.000000  16715.000000   \n",
       "mean       2006.484616      0.263377      0.145060      0.077617   \n",
       "std           5.877050      0.813604      0.503339      0.308853   \n",
       "min        1980.000000      0.000000      0.000000      0.000000   \n",
       "25%        2003.000000      0.000000      0.000000      0.000000   \n",
       "50%        2007.000000      0.080000      0.020000      0.000000   \n",
       "75%        2010.000000      0.240000      0.110000      0.040000   \n",
       "max        2016.000000     41.360000     28.960000     10.220000   \n",
       "\n",
       "        Other_sales  Critic_Score  \n",
       "count  16715.000000   8137.000000  \n",
       "mean       0.047342     68.967679  \n",
       "std        0.186731     13.938165  \n",
       "min        0.000000     13.000000  \n",
       "25%        0.000000     60.000000  \n",
       "50%        0.010000     71.000000  \n",
       "75%        0.030000     79.000000  \n",
       "max       10.570000     98.000000  "
      ]
     },
     "execution_count": 4,
     "metadata": {},
     "output_type": "execute_result"
    }
   ],
   "source": [
    "data.describe()"
   ]
  },
  {
   "cell_type": "markdown",
   "metadata": {},
   "source": [
    "#### Вывод \n",
    "Имеем таблицу состоящюю из 11 колонок и 16715 строк, наблюдаем пропущены знгачения в 6 колонках"
   ]
  },
  {
   "cell_type": "markdown",
   "metadata": {},
   "source": [
    "<div class=\"alert alert-success\" style=\"border-radius: 10px; box-shadow: 2px 2px 2px; border: 1px solid; padding: 10px \">\n",
    "<b>Комментарий ревьюера v.1</b> \n",
    "    \n",
    "👍 \n",
    "Хорошая вводная часть.\n",
    "\n",
    "Рекомендую создать универсальную функцию, которая будет принимать на вход датафрейм, а на выходе она будет выводить всего нужные характеристики, например, head, describe, info, дубликаты и т.п.\n",
    "</div>"
   ]
  },
  {
   "cell_type": "markdown",
   "metadata": {},
   "source": [
    "### Шаг 2. Подготовьте данные"
   ]
  },
  {
   "cell_type": "code",
   "execution_count": 5,
   "metadata": {},
   "outputs": [],
   "source": [
    "data.columns = map(str.lower, data.columns)"
   ]
  },
  {
   "cell_type": "markdown",
   "metadata": {},
   "source": [
    "Переведем название колонок в нижний регистр"
   ]
  },
  {
   "cell_type": "code",
   "execution_count": 6,
   "metadata": {},
   "outputs": [
    {
     "data": {
      "text/plain": [
       "name               0\n",
       "platform           0\n",
       "year_of_release    0\n",
       "genre              0\n",
       "na_sales           0\n",
       "eu_sales           0\n",
       "jp_sales           0\n",
       "other_sales        0\n",
       "critic_score       0\n",
       "user_score         0\n",
       "rating             0\n",
       "dtype: int64"
      ]
     },
     "execution_count": 6,
     "metadata": {},
     "output_type": "execute_result"
    }
   ],
   "source": [
    "data[data.duplicated()].count()"
   ]
  },
  {
   "cell_type": "markdown",
   "metadata": {},
   "source": [
    "<div class=\"alert alert-success\" style=\"border-radius: 10px; box-shadow: 2px 2px 2px; border: 1px solid; padding: 10px \">\n",
    "<b>Комментарий ревьюера v.1</b> \n",
    "    \n",
    "👍 \n",
    "Молодец, что не забываешь про явные дубликаты.\n",
    "</div>"
   ]
  },
  {
   "cell_type": "markdown",
   "metadata": {},
   "source": [
    "<div class=\"alert alert-danger\" style=\"border-radius: 10px; box-shadow: 2px 2px 2px; border: 1px solid; padding: 10px \">\n",
    "<b>Комментарий ревьюера v.1</b> \n",
    "    \n",
    "✍ \n",
    "Но, также мы можем проверить наличие неявных дубликатов. Неявные дубликаты могут появиться в случаях, когда данные собирались из разных источников или в системе были какие-то сбои при логировании. Я пометил этот момент красным, для того, что бы мы попрактиковались в этом, также это пригодится в следующих проектах.\n",
    "    \n",
    "Сделать это можно так: мы уже привели названия столбцов к нижнему регистру, теперь проведем вот такую проверку `data[data[['name', 'platform','year_of_release']].duplicated(keep=False)]`\n",
    "    \n",
    "Попробуй, пожалуйста, реализовать и сделать заключение, есть ли неявные дубликаты и что мы можем с ними сделать :)\n",
    "</div>"
   ]
  },
  {
   "cell_type": "code",
   "execution_count": 7,
   "metadata": {},
   "outputs": [
    {
     "data": {
      "text/html": [
       "<div>\n",
       "<style scoped>\n",
       "    .dataframe tbody tr th:only-of-type {\n",
       "        vertical-align: middle;\n",
       "    }\n",
       "\n",
       "    .dataframe tbody tr th {\n",
       "        vertical-align: top;\n",
       "    }\n",
       "\n",
       "    .dataframe thead th {\n",
       "        text-align: right;\n",
       "    }\n",
       "</style>\n",
       "<table border=\"1\" class=\"dataframe\">\n",
       "  <thead>\n",
       "    <tr style=\"text-align: right;\">\n",
       "      <th></th>\n",
       "      <th>name</th>\n",
       "      <th>platform</th>\n",
       "      <th>year_of_release</th>\n",
       "      <th>genre</th>\n",
       "      <th>na_sales</th>\n",
       "      <th>eu_sales</th>\n",
       "      <th>jp_sales</th>\n",
       "      <th>other_sales</th>\n",
       "      <th>critic_score</th>\n",
       "      <th>user_score</th>\n",
       "      <th>rating</th>\n",
       "    </tr>\n",
       "  </thead>\n",
       "  <tbody>\n",
       "    <tr>\n",
       "      <th>604</th>\n",
       "      <td>Madden NFL 13</td>\n",
       "      <td>PS3</td>\n",
       "      <td>2012.0</td>\n",
       "      <td>Sports</td>\n",
       "      <td>2.11</td>\n",
       "      <td>0.22</td>\n",
       "      <td>0.00</td>\n",
       "      <td>0.23</td>\n",
       "      <td>83.0</td>\n",
       "      <td>5.5</td>\n",
       "      <td>E</td>\n",
       "    </tr>\n",
       "    <tr>\n",
       "      <th>659</th>\n",
       "      <td>NaN</td>\n",
       "      <td>GEN</td>\n",
       "      <td>1993.0</td>\n",
       "      <td>NaN</td>\n",
       "      <td>1.78</td>\n",
       "      <td>0.53</td>\n",
       "      <td>0.00</td>\n",
       "      <td>0.08</td>\n",
       "      <td>NaN</td>\n",
       "      <td>NaN</td>\n",
       "      <td>NaN</td>\n",
       "    </tr>\n",
       "    <tr>\n",
       "      <th>14244</th>\n",
       "      <td>NaN</td>\n",
       "      <td>GEN</td>\n",
       "      <td>1993.0</td>\n",
       "      <td>NaN</td>\n",
       "      <td>0.00</td>\n",
       "      <td>0.00</td>\n",
       "      <td>0.03</td>\n",
       "      <td>0.00</td>\n",
       "      <td>NaN</td>\n",
       "      <td>NaN</td>\n",
       "      <td>NaN</td>\n",
       "    </tr>\n",
       "    <tr>\n",
       "      <th>16230</th>\n",
       "      <td>Madden NFL 13</td>\n",
       "      <td>PS3</td>\n",
       "      <td>2012.0</td>\n",
       "      <td>Sports</td>\n",
       "      <td>0.00</td>\n",
       "      <td>0.01</td>\n",
       "      <td>0.00</td>\n",
       "      <td>0.00</td>\n",
       "      <td>83.0</td>\n",
       "      <td>5.5</td>\n",
       "      <td>E</td>\n",
       "    </tr>\n",
       "  </tbody>\n",
       "</table>\n",
       "</div>"
      ],
      "text/plain": [
       "                name platform  year_of_release   genre  na_sales  eu_sales  \\\n",
       "604    Madden NFL 13      PS3           2012.0  Sports      2.11      0.22   \n",
       "659              NaN      GEN           1993.0     NaN      1.78      0.53   \n",
       "14244            NaN      GEN           1993.0     NaN      0.00      0.00   \n",
       "16230  Madden NFL 13      PS3           2012.0  Sports      0.00      0.01   \n",
       "\n",
       "       jp_sales  other_sales  critic_score user_score rating  \n",
       "604        0.00         0.23          83.0        5.5      E  \n",
       "659        0.00         0.08           NaN        NaN    NaN  \n",
       "14244      0.03         0.00           NaN        NaN    NaN  \n",
       "16230      0.00         0.00          83.0        5.5      E  "
      ]
     },
     "execution_count": 7,
     "metadata": {},
     "output_type": "execute_result"
    }
   ],
   "source": [
    "data[data[['name', 'platform','year_of_release']].duplicated(keep=False)]"
   ]
  },
  {
   "cell_type": "code",
   "execution_count": 8,
   "metadata": {},
   "outputs": [],
   "source": [
    "data.loc[600,'eu_sales'] = 0.23 # суммируем значение дубликатов из разных источников\n",
    "data = data.drop(16230).reset_index()"
   ]
  },
  {
   "cell_type": "markdown",
   "metadata": {},
   "source": [
    "<div class=\"alert alert-success\" style=\"border-radius: 10px; box-shadow: 2px 2px 2px; border: 1px solid; padding: 10px \">\n",
    "<b>Комментарий ревьюера v.2</b> \n",
    "    \n",
    "👍 \n",
    "\n",
    "</div>"
   ]
  },
  {
   "cell_type": "code",
   "execution_count": 9,
   "metadata": {},
   "outputs": [
    {
     "name": "stdout",
     "output_type": "stream",
     "text": [
      "<class 'pandas.core.frame.DataFrame'>\n",
      "RangeIndex: 16714 entries, 0 to 16713\n",
      "Data columns (total 12 columns):\n",
      " #   Column           Non-Null Count  Dtype  \n",
      "---  ------           --------------  -----  \n",
      " 0   index            16714 non-null  int64  \n",
      " 1   name             16712 non-null  object \n",
      " 2   platform         16714 non-null  object \n",
      " 3   year_of_release  16445 non-null  float64\n",
      " 4   genre            16712 non-null  object \n",
      " 5   na_sales         16714 non-null  float64\n",
      " 6   eu_sales         16714 non-null  float64\n",
      " 7   jp_sales         16714 non-null  float64\n",
      " 8   other_sales      16714 non-null  float64\n",
      " 9   critic_score     8136 non-null   float64\n",
      " 10  user_score       10013 non-null  object \n",
      " 11  rating           9948 non-null   object \n",
      "dtypes: float64(6), int64(1), object(5)\n",
      "memory usage: 1.5+ MB\n"
     ]
    }
   ],
   "source": [
    "data.info()"
   ]
  },
  {
   "cell_type": "code",
   "execution_count": 10,
   "metadata": {},
   "outputs": [
    {
     "data": {
      "text/plain": [
       "array(['E', nan, 'M', 'T', 'E10+', 'K-A', 'AO', 'EC', 'RP'], dtype=object)"
      ]
     },
     "execution_count": 10,
     "metadata": {},
     "output_type": "execute_result"
    }
   ],
   "source": [
    "data['rating'].unique()"
   ]
  },
  {
   "cell_type": "code",
   "execution_count": 11,
   "metadata": {},
   "outputs": [
    {
     "data": {
      "text/plain": [
       "array(['E', 'RP', 'M', 'T', 'E10+', 'K-A', 'AO', 'EC'], dtype=object)"
      ]
     },
     "execution_count": 11,
     "metadata": {},
     "output_type": "execute_result"
    }
   ],
   "source": [
    "data['rating'] = data['rating'].fillna('RP')\n",
    "data['rating'].unique()"
   ]
  },
  {
   "cell_type": "markdown",
   "metadata": {},
   "source": [
    "RP - это категория игры которые не были оценены ESRB, следовательно все пропуски в данной колонке заполним им."
   ]
  },
  {
   "cell_type": "markdown",
   "metadata": {},
   "source": [
    "<div class=\"alert alert-success\" style=\"border-radius: 10px; box-shadow: 2px 2px 2px; border: 1px solid; padding: 10px \">\n",
    "<b>Комментарий ревьюера v.1</b> \n",
    "    \n",
    "👍 \n",
    "Верное решение\n",
    "</div>"
   ]
  },
  {
   "cell_type": "code",
   "execution_count": 12,
   "metadata": {},
   "outputs": [
    {
     "data": {
      "text/plain": [
       "array([8. , nan, 8.3, 8.5, 6.6, 8.4, 8.6, 7.7, 6.3, 7.4, 8.2, 9. , 7.9,\n",
       "       8.1, 8.7, 7.1, 3.4, 5.3, 4.8, 3.2, 8.9, 6.4, 7.8, 7.5, 2.6, 7.2,\n",
       "       9.2, 7. , 7.3, 4.3, 7.6, 5.7, 5. , 9.1, 6.5, 8.8, 6.9, 9.4, 6.8,\n",
       "       6.1, 6.7, 5.4, 4. , 4.9, 4.5, 9.3, 6.2, 4.2, 6. , 3.7, 4.1, 5.8,\n",
       "       5.6, 5.5, 4.4, 4.6, 5.9, 3.9, 3.1, 2.9, 5.2, 3.3, 4.7, 5.1, 3.5,\n",
       "       2.5, 1.9, 3. , 2.7, 2.2, 2. , 9.5, 2.1, 3.6, 2.8, 1.8, 3.8, 0. ,\n",
       "       1.6, 9.6, 2.4, 1.7, 1.1, 0.3, 1.5, 0.7, 1.2, 2.3, 0.5, 1.3, 0.2,\n",
       "       0.6, 1.4, 0.9, 1. , 9.7])"
      ]
     },
     "execution_count": 12,
     "metadata": {},
     "output_type": "execute_result"
    }
   ],
   "source": [
    "data['user_score'] = data['user_score'].replace('tbd', np.nan, regex=True).astype(float)\n",
    "data['user_score'].unique()"
   ]
  },
  {
   "cell_type": "code",
   "execution_count": 13,
   "metadata": {},
   "outputs": [
    {
     "data": {
      "text/plain": [
       "array([76., nan, 82., 80., 89., 58., 87., 91., 61., 97., 95., 77., 88.,\n",
       "       83., 94., 93., 85., 86., 98., 96., 90., 84., 73., 74., 78., 92.,\n",
       "       71., 72., 68., 62., 49., 67., 81., 66., 56., 79., 70., 59., 64.,\n",
       "       75., 60., 63., 69., 50., 25., 42., 44., 55., 48., 57., 29., 47.,\n",
       "       65., 54., 20., 53., 37., 38., 33., 52., 30., 32., 43., 45., 51.,\n",
       "       40., 46., 39., 34., 35., 41., 36., 28., 31., 27., 26., 19., 23.,\n",
       "       24., 21., 17., 22., 13.])"
      ]
     },
     "execution_count": 13,
     "metadata": {},
     "output_type": "execute_result"
    }
   ],
   "source": [
    "data['critic_score'].unique()"
   ]
  },
  {
   "cell_type": "markdown",
   "metadata": {},
   "source": [
    "tbd - дословный перевод как будет определено, следовательно можем заменить на nan "
   ]
  },
  {
   "cell_type": "markdown",
   "metadata": {},
   "source": [
    "<div class=\"alert alert-success\" style=\"border-radius: 10px; box-shadow: 2px 2px 2px; border: 1px solid; padding: 10px \">\n",
    "<b>Комментарий ревьюера v.1</b> \n",
    "    \n",
    "👍 Верно, `tbd` означает `To Be Determined`, т.к. игра ещё не выпущена. Тут можно заменить заглушкой, а можно привести в nan\n",
    "</div>"
   ]
  },
  {
   "cell_type": "code",
   "execution_count": 14,
   "metadata": {},
   "outputs": [
    {
     "data": {
      "text/plain": [
       "659      NaN\n",
       "14244    NaN\n",
       "Name: name, dtype: object"
      ]
     },
     "execution_count": 14,
     "metadata": {},
     "output_type": "execute_result"
    }
   ],
   "source": [
    "data['name'][data['name'].isnull()]"
   ]
  },
  {
   "cell_type": "code",
   "execution_count": 15,
   "metadata": {},
   "outputs": [
    {
     "data": {
      "text/html": [
       "<div>\n",
       "<style scoped>\n",
       "    .dataframe tbody tr th:only-of-type {\n",
       "        vertical-align: middle;\n",
       "    }\n",
       "\n",
       "    .dataframe tbody tr th {\n",
       "        vertical-align: top;\n",
       "    }\n",
       "\n",
       "    .dataframe thead th {\n",
       "        text-align: right;\n",
       "    }\n",
       "</style>\n",
       "<table border=\"1\" class=\"dataframe\">\n",
       "  <thead>\n",
       "    <tr style=\"text-align: right;\">\n",
       "      <th></th>\n",
       "      <th>index</th>\n",
       "      <th>name</th>\n",
       "      <th>platform</th>\n",
       "      <th>year_of_release</th>\n",
       "      <th>genre</th>\n",
       "      <th>na_sales</th>\n",
       "      <th>eu_sales</th>\n",
       "      <th>jp_sales</th>\n",
       "      <th>other_sales</th>\n",
       "      <th>critic_score</th>\n",
       "      <th>user_score</th>\n",
       "      <th>rating</th>\n",
       "    </tr>\n",
       "  </thead>\n",
       "  <tbody>\n",
       "    <tr>\n",
       "      <th>659</th>\n",
       "      <td>659</td>\n",
       "      <td>NaN</td>\n",
       "      <td>GEN</td>\n",
       "      <td>1993.0</td>\n",
       "      <td>NaN</td>\n",
       "      <td>1.78</td>\n",
       "      <td>0.53</td>\n",
       "      <td>0.00</td>\n",
       "      <td>0.08</td>\n",
       "      <td>NaN</td>\n",
       "      <td>NaN</td>\n",
       "      <td>RP</td>\n",
       "    </tr>\n",
       "    <tr>\n",
       "      <th>14244</th>\n",
       "      <td>14244</td>\n",
       "      <td>NaN</td>\n",
       "      <td>GEN</td>\n",
       "      <td>1993.0</td>\n",
       "      <td>NaN</td>\n",
       "      <td>0.00</td>\n",
       "      <td>0.00</td>\n",
       "      <td>0.03</td>\n",
       "      <td>0.00</td>\n",
       "      <td>NaN</td>\n",
       "      <td>NaN</td>\n",
       "      <td>RP</td>\n",
       "    </tr>\n",
       "  </tbody>\n",
       "</table>\n",
       "</div>"
      ],
      "text/plain": [
       "       index name platform  year_of_release genre  na_sales  eu_sales  \\\n",
       "659      659  NaN      GEN           1993.0   NaN      1.78      0.53   \n",
       "14244  14244  NaN      GEN           1993.0   NaN      0.00      0.00   \n",
       "\n",
       "       jp_sales  other_sales  critic_score  user_score rating  \n",
       "659        0.00         0.08           NaN         NaN     RP  \n",
       "14244      0.03         0.00           NaN         NaN     RP  "
      ]
     },
     "execution_count": 15,
     "metadata": {},
     "output_type": "execute_result"
    }
   ],
   "source": [
    "data.iloc[[659,14244]]"
   ]
  },
  {
   "cell_type": "code",
   "execution_count": 16,
   "metadata": {},
   "outputs": [],
   "source": [
    "data = data.dropna(subset=['name']).reset_index(drop=True)"
   ]
  },
  {
   "cell_type": "markdown",
   "metadata": {},
   "source": [
    "К сожалению по имеющимся данынм востановить название и жанр игр невозможно, удаляем((("
   ]
  },
  {
   "cell_type": "markdown",
   "metadata": {},
   "source": [
    "<div class=\"alert alert-success\" style=\"border-radius: 10px; box-shadow: 2px 2px 2px; border: 1px solid; padding: 10px \">\n",
    "<b>Комментарий ревьюера v.1</b> \n",
    "    \n",
    "👍 \n",
    "Верно, доля пропусков здесь менее 5% и для экономии времени их можно удалить.\n",
    "</div>"
   ]
  },
  {
   "cell_type": "code",
   "execution_count": 17,
   "metadata": {},
   "outputs": [],
   "source": [
    "data = data.dropna(subset=['year_of_release']).reset_index(drop=True)"
   ]
  },
  {
   "cell_type": "code",
   "execution_count": 18,
   "metadata": {},
   "outputs": [],
   "source": [
    "data['year_of_release'] = data['year_of_release'].astype(int)"
   ]
  },
  {
   "cell_type": "code",
   "execution_count": 19,
   "metadata": {},
   "outputs": [
    {
     "name": "stdout",
     "output_type": "stream",
     "text": [
      "<class 'pandas.core.frame.DataFrame'>\n",
      "RangeIndex: 16443 entries, 0 to 16442\n",
      "Data columns (total 12 columns):\n",
      " #   Column           Non-Null Count  Dtype  \n",
      "---  ------           --------------  -----  \n",
      " 0   index            16443 non-null  int64  \n",
      " 1   name             16443 non-null  object \n",
      " 2   platform         16443 non-null  object \n",
      " 3   year_of_release  16443 non-null  int64  \n",
      " 4   genre            16443 non-null  object \n",
      " 5   na_sales         16443 non-null  float64\n",
      " 6   eu_sales         16443 non-null  float64\n",
      " 7   jp_sales         16443 non-null  float64\n",
      " 8   other_sales      16443 non-null  float64\n",
      " 9   critic_score     7982 non-null   float64\n",
      " 10  user_score       7462 non-null   float64\n",
      " 11  rating           16443 non-null  object \n",
      "dtypes: float64(6), int64(2), object(4)\n",
      "memory usage: 1.5+ MB\n"
     ]
    }
   ],
   "source": [
    "data.info()"
   ]
  },
  {
   "cell_type": "markdown",
   "metadata": {},
   "source": [
    "232 строки не должны сильно повлиять на иследования из представленной выборки уцдаляем, оставшиеся приводим к типу int, однакор в списке присутствуют игры с годом названии, но за исключением серии игр FIFA, в основном он не соответствует году релиза игры"
   ]
  },
  {
   "cell_type": "code",
   "execution_count": 20,
   "metadata": {},
   "outputs": [],
   "source": [
    "data['general_sales'] = data['na_sales']+data['eu_sales']+data['jp_sales']+data['other_sales']"
   ]
  },
  {
   "cell_type": "markdown",
   "metadata": {},
   "source": [
    "<div class=\"alert alert-success\" style=\"border-radius: 10px; box-shadow: 2px 2px 2px; border: 1px solid; padding: 10px \">\n",
    "<b>Комментарий ревьюера v.1</b> \n",
    "    \n",
    "👍 \n",
    "Отлично! Колонка с общими продажами создана. \n",
    "    \n",
    "Также, мы можем работать с набором столбцов:</font><br>\n",
    "`data = data[['na_sales','eu_sales','jp_sales', 'other_sales']].sum(axis = 1)`\n",
    "</div>"
   ]
  },
  {
   "cell_type": "code",
   "execution_count": 21,
   "metadata": {},
   "outputs": [
    {
     "data": {
      "text/html": [
       "<div>\n",
       "<style scoped>\n",
       "    .dataframe tbody tr th:only-of-type {\n",
       "        vertical-align: middle;\n",
       "    }\n",
       "\n",
       "    .dataframe tbody tr th {\n",
       "        vertical-align: top;\n",
       "    }\n",
       "\n",
       "    .dataframe thead th {\n",
       "        text-align: right;\n",
       "    }\n",
       "</style>\n",
       "<table border=\"1\" class=\"dataframe\">\n",
       "  <thead>\n",
       "    <tr style=\"text-align: right;\">\n",
       "      <th></th>\n",
       "      <th>index</th>\n",
       "      <th>name</th>\n",
       "      <th>platform</th>\n",
       "      <th>year_of_release</th>\n",
       "      <th>genre</th>\n",
       "      <th>na_sales</th>\n",
       "      <th>eu_sales</th>\n",
       "      <th>jp_sales</th>\n",
       "      <th>other_sales</th>\n",
       "      <th>critic_score</th>\n",
       "      <th>user_score</th>\n",
       "      <th>rating</th>\n",
       "      <th>general_sales</th>\n",
       "    </tr>\n",
       "  </thead>\n",
       "  <tbody>\n",
       "    <tr>\n",
       "      <th>0</th>\n",
       "      <td>0</td>\n",
       "      <td>Wii Sports</td>\n",
       "      <td>Wii</td>\n",
       "      <td>2006</td>\n",
       "      <td>Sports</td>\n",
       "      <td>41.36</td>\n",
       "      <td>28.96</td>\n",
       "      <td>3.77</td>\n",
       "      <td>8.45</td>\n",
       "      <td>76.0</td>\n",
       "      <td>8.0</td>\n",
       "      <td>E</td>\n",
       "      <td>82.54</td>\n",
       "    </tr>\n",
       "    <tr>\n",
       "      <th>1</th>\n",
       "      <td>1</td>\n",
       "      <td>Super Mario Bros.</td>\n",
       "      <td>NES</td>\n",
       "      <td>1985</td>\n",
       "      <td>Platform</td>\n",
       "      <td>29.08</td>\n",
       "      <td>3.58</td>\n",
       "      <td>6.81</td>\n",
       "      <td>0.77</td>\n",
       "      <td>NaN</td>\n",
       "      <td>NaN</td>\n",
       "      <td>RP</td>\n",
       "      <td>40.24</td>\n",
       "    </tr>\n",
       "    <tr>\n",
       "      <th>2</th>\n",
       "      <td>2</td>\n",
       "      <td>Mario Kart Wii</td>\n",
       "      <td>Wii</td>\n",
       "      <td>2008</td>\n",
       "      <td>Racing</td>\n",
       "      <td>15.68</td>\n",
       "      <td>12.76</td>\n",
       "      <td>3.79</td>\n",
       "      <td>3.29</td>\n",
       "      <td>82.0</td>\n",
       "      <td>8.3</td>\n",
       "      <td>E</td>\n",
       "      <td>35.52</td>\n",
       "    </tr>\n",
       "    <tr>\n",
       "      <th>3</th>\n",
       "      <td>3</td>\n",
       "      <td>Wii Sports Resort</td>\n",
       "      <td>Wii</td>\n",
       "      <td>2009</td>\n",
       "      <td>Sports</td>\n",
       "      <td>15.61</td>\n",
       "      <td>10.93</td>\n",
       "      <td>3.28</td>\n",
       "      <td>2.95</td>\n",
       "      <td>80.0</td>\n",
       "      <td>8.0</td>\n",
       "      <td>E</td>\n",
       "      <td>32.77</td>\n",
       "    </tr>\n",
       "    <tr>\n",
       "      <th>4</th>\n",
       "      <td>4</td>\n",
       "      <td>Pokemon Red/Pokemon Blue</td>\n",
       "      <td>GB</td>\n",
       "      <td>1996</td>\n",
       "      <td>Role-Playing</td>\n",
       "      <td>11.27</td>\n",
       "      <td>8.89</td>\n",
       "      <td>10.22</td>\n",
       "      <td>1.00</td>\n",
       "      <td>NaN</td>\n",
       "      <td>NaN</td>\n",
       "      <td>RP</td>\n",
       "      <td>31.38</td>\n",
       "    </tr>\n",
       "  </tbody>\n",
       "</table>\n",
       "</div>"
      ],
      "text/plain": [
       "   index                      name platform  year_of_release         genre  \\\n",
       "0      0                Wii Sports      Wii             2006        Sports   \n",
       "1      1         Super Mario Bros.      NES             1985      Platform   \n",
       "2      2            Mario Kart Wii      Wii             2008        Racing   \n",
       "3      3         Wii Sports Resort      Wii             2009        Sports   \n",
       "4      4  Pokemon Red/Pokemon Blue       GB             1996  Role-Playing   \n",
       "\n",
       "   na_sales  eu_sales  jp_sales  other_sales  critic_score  user_score rating  \\\n",
       "0     41.36     28.96      3.77         8.45          76.0         8.0      E   \n",
       "1     29.08      3.58      6.81         0.77           NaN         NaN     RP   \n",
       "2     15.68     12.76      3.79         3.29          82.0         8.3      E   \n",
       "3     15.61     10.93      3.28         2.95          80.0         8.0      E   \n",
       "4     11.27      8.89     10.22         1.00           NaN         NaN     RP   \n",
       "\n",
       "   general_sales  \n",
       "0          82.54  \n",
       "1          40.24  \n",
       "2          35.52  \n",
       "3          32.77  \n",
       "4          31.38  "
      ]
     },
     "execution_count": 21,
     "metadata": {},
     "output_type": "execute_result"
    }
   ],
   "source": [
    "data.head()"
   ]
  },
  {
   "cell_type": "markdown",
   "metadata": {},
   "source": [
    "Добавляем столбец общих продаж"
   ]
  },
  {
   "cell_type": "markdown",
   "metadata": {},
   "source": [
    "#### Вывод по предобработке данных:\n",
    "- Перевели название колонок в нижний регистр.\n",
    "- Проверили на наличие полных дубликатов, убедились в их отсутствие.\n",
    "- Заполнили пропуски в колонках оценка критиков и пользователей.\n",
    "- Удалили пусте значения в колонке Имя в кол-ву 2 шт.\n",
    "- Так же отчистили колонку год релиза от пустых значений в кол-ву 232 строки.\n",
    "- Добавлен столбец кол-ва общихъ продаж во всех регионах."
   ]
  },
  {
   "cell_type": "markdown",
   "metadata": {},
   "source": [
    "<div class=\"alert alert-success\" style=\"border-radius: 10px; box-shadow: 2px 2px 2px; border: 1px solid; padding: 10px \">\n",
    "<b>Комментарий ревьюера v.1</b> \n",
    "    \n",
    "👍 \n",
    "Отлично! Приступим к исследовательскому анализу.\n",
    "</div>"
   ]
  },
  {
   "cell_type": "markdown",
   "metadata": {},
   "source": [
    "### Шаг 3. Проведите исследовательский анализ данных"
   ]
  },
  {
   "cell_type": "markdown",
   "metadata": {},
   "source": [
    "Посмотрите, сколько игр выпускалось в разные годы. Важны ли данные за все периоды?"
   ]
  },
  {
   "cell_type": "code",
   "execution_count": 22,
   "metadata": {},
   "outputs": [
    {
     "data": {
      "image/png": "[encoded data removed]",
      "text/plain": [
       "<Figure size 1080x360 with 1 Axes>"
      ]
     },
     "metadata": {},
     "output_type": "display_data"
    }
   ],
   "source": [
    "plt.figure(figsize=(15,5))\n",
    "sns.lineplot(data=data.pivot_table(index='year_of_release',\n",
    "                                   values='name',\n",
    "                                   aggfunc='count'))\n",
    "plt.xlabel('Год')\n",
    "plt.ylabel('Кол-во')\n",
    "plt.title('Кол-во игр по годам выхода')\n",
    "plt.show()"
   ]
  },
  {
   "cell_type": "markdown",
   "metadata": {},
   "source": [
    "<div class=\"alert alert-warning\" style=\"border-radius: 10px; box-shadow: 2px 2px 2px; border: 1px solid; padding: 10px \">\n",
    "<b>Комментарий ревьюера v.1</b> \n",
    "    \n",
    "📝 \n",
    "Советую не использовать гистограммы, когда речь идет про время, т.к. алгоритм формирования данных для гистограммы вносит искажения при визуализации.\n",
    "\n",
    "Когда есть время:\n",
    "- если дискрета нет (год\\месяц\\день\\час\\минут), то выделяем сами нужный\n",
    "- если есть используем готовый (в данном случае год)\n",
    "- агрегируем по выделенному дискрету \n",
    "- визуализируем агрегированные данные.\n",
    "    \n",
    "    \n",
    "Здесь можно использовать, например lineplot\n",
    "</div>"
   ]
  },
  {
   "cell_type": "markdown",
   "metadata": {},
   "source": [
    "<div class=\"alert alert-success\" style=\"border-radius: 10px; box-shadow: 2px 2px 2px; border: 1px solid; padding: 10px \">\n",
    "<b>Комментарий ревьюера v.2</b> \n",
    "    \n",
    "👍 \n",
    "Супер!\n",
    "</div>"
   ]
  },
  {
   "cell_type": "code",
   "execution_count": 23,
   "metadata": {},
   "outputs": [
    {
     "data": {
      "text/plain": [
       "count    16443.000000\n",
       "mean      2006.485921\n",
       "std          5.875546\n",
       "min       1980.000000\n",
       "25%       2003.000000\n",
       "50%       2007.000000\n",
       "75%       2010.000000\n",
       "max       2016.000000\n",
       "Name: year_of_release, dtype: float64"
      ]
     },
     "execution_count": 23,
     "metadata": {},
     "output_type": "execute_result"
    }
   ],
   "source": [
    "data['year_of_release'].describe()"
   ]
  },
  {
   "cell_type": "markdown",
   "metadata": {},
   "source": [
    "* Самое большое кол-во игр пришлось на 2008 и 2009 года\n",
    "* По графику видно что оснновная масса игр выпускалась в период с 2003 по 2010 гг.\n",
    "* после 2011 года начинается спад по кол-ву игр, можем связать это с маштабом игр которые начанали выпускаться и то что основную популярность начали набирать игры AAA категории, по немногу вытесняя игры A,B,BB которые становились менее привлекательными на фоне крупных игр.\n",
    "* Относительно пика продаж можем это связать с выходом новых консолей 7-го поколения в 2006 году, как показывает практика на старте продаж каждого поколения имеется дифицит новых релизов, а в течении года или двух это нивилируется. Плюс практически одновременный старт продаж сразу трех крупных игроков рынка игр.Так же если я не ошибаюсь steam  который сейчас является главным магазином покупки игр на pc так же начал работать на реализацию игр сторонних издательств в 2006 году.\n",
    "* Актуальными годами для сравнения предлагаю взять года с 2013 по 2016, т.к. в 2013 стартавало 8-ое поколение консолей и к ццелевому году вероятнее всего наберут пик популярности."
   ]
  },
  {
   "cell_type": "markdown",
   "metadata": {},
   "source": [
    "<div class=\"alert alert-success\" style=\"border-radius: 10px; box-shadow: 2px 2px 2px; border: 1px solid; padding: 10px \">\n",
    "<b>Комментарий ревьюера v.1</b> \n",
    "    \n",
    "👍 \n",
    "Отличный вывод\n",
    "</div>"
   ]
  },
  {
   "cell_type": "code",
   "execution_count": 24,
   "metadata": {},
   "outputs": [
    {
     "data": {
      "image/png": "[encoded data removed]",
      "text/plain": [
       "<Figure size 1080x360 with 1 Axes>"
      ]
     },
     "metadata": {},
     "output_type": "display_data"
    }
   ],
   "source": [
    "df=data.pivot_table(index=('platform'),\n",
    "                    values=('general_sales'),\n",
    "                    aggfunc=sum).reset_index().sort_values('general_sales',\n",
    "                                                           ascending = False)\n",
    "plt.figure(figsize=(15,5))\n",
    "sns.barplot(x='platform',\n",
    "            y='general_sales',\n",
    "            data=df)\n",
    "plt.title('Кол-во игр на разных платформах')\n",
    "plt.xlabel('Платформа')\n",
    "plt.ylabel(\"Количество выпущенных игр\")\n",
    "plt.show()"
   ]
  },
  {
   "cell_type": "markdown",
   "metadata": {},
   "source": [
    "* Из графика видно что наибольшей популярностью пользовались ps2, xbox 360, ps3, wii, ds, ps one."
   ]
  },
  {
   "cell_type": "code",
   "execution_count": 25,
   "metadata": {},
   "outputs": [
    {
     "data": {
      "text/html": [
       "<div>\n",
       "<style scoped>\n",
       "    .dataframe tbody tr th:only-of-type {\n",
       "        vertical-align: middle;\n",
       "    }\n",
       "\n",
       "    .dataframe tbody tr th {\n",
       "        vertical-align: top;\n",
       "    }\n",
       "\n",
       "    .dataframe thead th {\n",
       "        text-align: right;\n",
       "    }\n",
       "</style>\n",
       "<table border=\"1\" class=\"dataframe\">\n",
       "  <thead>\n",
       "    <tr style=\"text-align: right;\">\n",
       "      <th></th>\n",
       "      <th>platform</th>\n",
       "      <th>general_sales</th>\n",
       "    </tr>\n",
       "  </thead>\n",
       "  <tbody>\n",
       "    <tr>\n",
       "      <th>16</th>\n",
       "      <td>PS2</td>\n",
       "      <td>1233.56</td>\n",
       "    </tr>\n",
       "    <tr>\n",
       "      <th>28</th>\n",
       "      <td>X360</td>\n",
       "      <td>961.24</td>\n",
       "    </tr>\n",
       "    <tr>\n",
       "      <th>17</th>\n",
       "      <td>PS3</td>\n",
       "      <td>931.33</td>\n",
       "    </tr>\n",
       "    <tr>\n",
       "      <th>26</th>\n",
       "      <td>Wii</td>\n",
       "      <td>890.89</td>\n",
       "    </tr>\n",
       "    <tr>\n",
       "      <th>4</th>\n",
       "      <td>DS</td>\n",
       "      <td>802.78</td>\n",
       "    </tr>\n",
       "    <tr>\n",
       "      <th>15</th>\n",
       "      <td>PS</td>\n",
       "      <td>727.58</td>\n",
       "    </tr>\n",
       "  </tbody>\n",
       "</table>\n",
       "</div>"
      ],
      "text/plain": [
       "   platform  general_sales\n",
       "16      PS2        1233.56\n",
       "28     X360         961.24\n",
       "17      PS3         931.33\n",
       "26      Wii         890.89\n",
       "4        DS         802.78\n",
       "15       PS         727.58"
      ]
     },
     "execution_count": 25,
     "metadata": {},
     "output_type": "execute_result"
    }
   ],
   "source": [
    "df.head(6)"
   ]
  },
  {
   "cell_type": "code",
   "execution_count": 26,
   "metadata": {},
   "outputs": [
    {
     "data": {
      "image/png": "[encoded data removed]",
      "text/plain": [
       "<Figure size 1080x360 with 1 Axes>"
      ]
     },
     "metadata": {},
     "output_type": "display_data"
    }
   ],
   "source": [
    "plat = ['PS2','X360','PS3','Wii','DS','PS']\n",
    "sales_platform=data.query('platform == @plat and year_of_release>= 2000').pivot_table(index=('platform','year_of_release'),\n",
    "                 values='general_sales',\n",
    "                 aggfunc=sum).sort_values('general_sales',\n",
    "                                          ascending = False).reset_index()\n",
    "plt.figure(figsize=(15,5))\n",
    "sns.lineplot(data=sales_platform,\n",
    "             x='year_of_release',\n",
    "             y='general_sales',\n",
    "             hue='platform')\n",
    "plt.title('Количество игр выпускаемые в разные года')\n",
    "plt.xlabel('Год выпуска')\n",
    "plt.ylabel('Количество выпущенных игр')\n",
    "plt.show()\n"
   ]
  },
  {
   "cell_type": "markdown",
   "metadata": {},
   "source": [
    "По графику видно, что активное использование консоли или срок жизни консоли порядком 10 лет, однако смена поколений происходит в среднем раз в 6 лет и со временем растет. Так же можем отметить что выход нового поколения сразу отображается на продажах 'старого' поколения."
   ]
  },
  {
   "cell_type": "markdown",
   "metadata": {},
   "source": [
    "<div class=\"alert alert-success\" style=\"border-radius: 10px; box-shadow: 2px 2px 2px; border: 1px solid; padding: 10px \">\n",
    "<b>Комментарий ревьюера v.1</b> \n",
    "    \n",
    "👍 \n",
    "Жизненный цикл определен верно.\n",
    "</div>"
   ]
  },
  {
   "cell_type": "code",
   "execution_count": 27,
   "metadata": {},
   "outputs": [
    {
     "data": {
      "text/html": [
       "<div>\n",
       "<style scoped>\n",
       "    .dataframe tbody tr th:only-of-type {\n",
       "        vertical-align: middle;\n",
       "    }\n",
       "\n",
       "    .dataframe tbody tr th {\n",
       "        vertical-align: top;\n",
       "    }\n",
       "\n",
       "    .dataframe thead th {\n",
       "        text-align: right;\n",
       "    }\n",
       "</style>\n",
       "<table border=\"1\" class=\"dataframe\">\n",
       "  <thead>\n",
       "    <tr style=\"text-align: right;\">\n",
       "      <th>year_of_release</th>\n",
       "      <th>2013</th>\n",
       "      <th>2014</th>\n",
       "      <th>2015</th>\n",
       "      <th>2016</th>\n",
       "    </tr>\n",
       "    <tr>\n",
       "      <th>platform</th>\n",
       "      <th></th>\n",
       "      <th></th>\n",
       "      <th></th>\n",
       "      <th></th>\n",
       "    </tr>\n",
       "  </thead>\n",
       "  <tbody>\n",
       "    <tr>\n",
       "      <th>3DS</th>\n",
       "      <td>56.57</td>\n",
       "      <td>43.76</td>\n",
       "      <td>27.78</td>\n",
       "      <td>15.14</td>\n",
       "    </tr>\n",
       "    <tr>\n",
       "      <th>DS</th>\n",
       "      <td>1.54</td>\n",
       "      <td>NaN</td>\n",
       "      <td>NaN</td>\n",
       "      <td>NaN</td>\n",
       "    </tr>\n",
       "    <tr>\n",
       "      <th>PC</th>\n",
       "      <td>12.38</td>\n",
       "      <td>13.28</td>\n",
       "      <td>8.52</td>\n",
       "      <td>5.25</td>\n",
       "    </tr>\n",
       "    <tr>\n",
       "      <th>PS3</th>\n",
       "      <td>113.25</td>\n",
       "      <td>47.76</td>\n",
       "      <td>16.82</td>\n",
       "      <td>3.60</td>\n",
       "    </tr>\n",
       "    <tr>\n",
       "      <th>PS4</th>\n",
       "      <td>25.99</td>\n",
       "      <td>100.00</td>\n",
       "      <td>118.90</td>\n",
       "      <td>69.25</td>\n",
       "    </tr>\n",
       "    <tr>\n",
       "      <th>PSP</th>\n",
       "      <td>3.14</td>\n",
       "      <td>0.24</td>\n",
       "      <td>0.12</td>\n",
       "      <td>NaN</td>\n",
       "    </tr>\n",
       "    <tr>\n",
       "      <th>PSV</th>\n",
       "      <td>10.59</td>\n",
       "      <td>11.90</td>\n",
       "      <td>6.25</td>\n",
       "      <td>4.25</td>\n",
       "    </tr>\n",
       "    <tr>\n",
       "      <th>Wii</th>\n",
       "      <td>8.59</td>\n",
       "      <td>3.75</td>\n",
       "      <td>1.14</td>\n",
       "      <td>0.18</td>\n",
       "    </tr>\n",
       "    <tr>\n",
       "      <th>WiiU</th>\n",
       "      <td>21.65</td>\n",
       "      <td>22.03</td>\n",
       "      <td>16.35</td>\n",
       "      <td>4.60</td>\n",
       "    </tr>\n",
       "    <tr>\n",
       "      <th>X360</th>\n",
       "      <td>88.58</td>\n",
       "      <td>34.74</td>\n",
       "      <td>11.96</td>\n",
       "      <td>1.52</td>\n",
       "    </tr>\n",
       "    <tr>\n",
       "      <th>XOne</th>\n",
       "      <td>18.96</td>\n",
       "      <td>54.07</td>\n",
       "      <td>60.14</td>\n",
       "      <td>26.15</td>\n",
       "    </tr>\n",
       "  </tbody>\n",
       "</table>\n",
       "</div>"
      ],
      "text/plain": [
       "year_of_release    2013    2014    2015   2016\n",
       "platform                                      \n",
       "3DS               56.57   43.76   27.78  15.14\n",
       "DS                 1.54     NaN     NaN    NaN\n",
       "PC                12.38   13.28    8.52   5.25\n",
       "PS3              113.25   47.76   16.82   3.60\n",
       "PS4               25.99  100.00  118.90  69.25\n",
       "PSP                3.14    0.24    0.12    NaN\n",
       "PSV               10.59   11.90    6.25   4.25\n",
       "Wii                8.59    3.75    1.14   0.18\n",
       "WiiU              21.65   22.03   16.35   4.60\n",
       "X360              88.58   34.74   11.96   1.52\n",
       "XOne              18.96   54.07   60.14  26.15"
      ]
     },
     "execution_count": 27,
     "metadata": {},
     "output_type": "execute_result"
    }
   ],
   "source": [
    "data_actual = data.query('year_of_release>=2013').reset_index()\n",
    "data_actual.pivot_table(index='platform',\n",
    "                        columns='year_of_release',\n",
    "                        values='general_sales',\n",
    "                        aggfunc='sum')"
   ]
  },
  {
   "cell_type": "markdown",
   "metadata": {},
   "source": [
    "<div class=\"alert alert-success\" style=\"border-radius: 10px; box-shadow: 2px 2px 2px; border: 1px solid; padding: 10px \">\n",
    "<b>Комментарий ревьюера v.1</b> \n",
    "    \n",
    "👍 \n",
    "Верно. Для целей прогнозирования продаж на следующий год даже в традиционных бизнесах редко берут данные более чем за 2-3 года. А в такой динамично меняющейся индустрии, как компьютерные игры и вовсе не стоит брать слишком большой временной интервал - иначе обязательно захватим уже отжившие тренды. Но и очень короткий период не подходит для прогнозирования, так что надо выбирать золотую середину (но не менее 2-х полных лет и не более 5 лет).\n",
    "</div>"
   ]
  },
  {
   "cell_type": "code",
   "execution_count": 28,
   "metadata": {},
   "outputs": [
    {
     "data": {
      "image/png": "[encoded data removed]",
      "text/plain": [
       "<Figure size 1080x720 with 1 Axes>"
      ]
     },
     "metadata": {},
     "output_type": "display_data"
    }
   ],
   "source": [
    "plt.figure(figsize=(15,10))\n",
    "sns.boxplot(data=data.query('year_of_release>=2013'), x='platform', y='general_sales')\n",
    "plt.title('Размах продаж игр на платформах по годам')\n",
    "plt.xlabel('платформа')\n",
    "plt.ylabel('млн проданных копий')\n",
    "plt.ylim(0, 2)\n",
    "plt.show()"
   ]
  },
  {
   "cell_type": "markdown",
   "metadata": {},
   "source": [
    "В актуальном промежутке видим, что набирают популярность PS4 и XOne, так же рекемендую рассматривать пк так же как перспективную платформу, остальные же платформы подходят к концу жизненного цикла. График потверждает наши предположения, отчетливо видно что медианы PS4 и XOne выше своих предшействующих поколений"
   ]
  },
  {
   "cell_type": "markdown",
   "metadata": {},
   "source": [
    "<div class=\"alert alert-info\" style=\"border-radius: 10px; box-shadow: 2px 2px 2px; border: 1px solid; padding: 10px \"> \n",
    "\n",
    "    \n",
    "Не уверен что правильно тебя понял\n",
    "</div>\n"
   ]
  },
  {
   "cell_type": "markdown",
   "metadata": {},
   "source": [
    "<div class=\"alert alert-danger\" style=\"border-radius: 10px; box-shadow: 2px 2px 2px; border: 1px solid; padding: 10px \">\n",
    "<b>Комментарий ревьюера v.1</b> \n",
    "    \n",
    "✍ \n",
    "Немного не так. Нам не нужно диаграмму размаха строить по сводной таблице, которая агрегирует данные. Нам необходимо отразить продажи по каждой проданной игре каждой платформы.\n",
    "   \n",
    "</div>"
   ]
  },
  {
   "cell_type": "markdown",
   "metadata": {},
   "source": [
    "<div class=\"alert alert-success\" style=\"border-radius: 10px; box-shadow: 2px 2px 2px; border: 1px solid; padding: 10px \">\n",
    "<b>Комментарий ревьюера v.2</b> \n",
    "    \n",
    "👍 \n",
    "Все верно\n",
    "</div>"
   ]
  },
  {
   "cell_type": "code",
   "execution_count": 29,
   "metadata": {},
   "outputs": [
    {
     "data": {
      "text/html": [
       "<div>\n",
       "<style scoped>\n",
       "    .dataframe tbody tr th:only-of-type {\n",
       "        vertical-align: middle;\n",
       "    }\n",
       "\n",
       "    .dataframe tbody tr th {\n",
       "        vertical-align: top;\n",
       "    }\n",
       "\n",
       "    .dataframe thead th {\n",
       "        text-align: right;\n",
       "    }\n",
       "</style>\n",
       "<table border=\"1\" class=\"dataframe\">\n",
       "  <thead>\n",
       "    <tr style=\"text-align: right;\">\n",
       "      <th></th>\n",
       "      <th>critic_score</th>\n",
       "      <th>user_score</th>\n",
       "      <th>general_sales</th>\n",
       "    </tr>\n",
       "  </thead>\n",
       "  <tbody>\n",
       "    <tr>\n",
       "      <th>critic_score</th>\n",
       "      <td>1.000000</td>\n",
       "      <td>0.557654</td>\n",
       "      <td>0.406568</td>\n",
       "    </tr>\n",
       "    <tr>\n",
       "      <th>user_score</th>\n",
       "      <td>0.557654</td>\n",
       "      <td>1.000000</td>\n",
       "      <td>-0.031957</td>\n",
       "    </tr>\n",
       "    <tr>\n",
       "      <th>general_sales</th>\n",
       "      <td>0.406568</td>\n",
       "      <td>-0.031957</td>\n",
       "      <td>1.000000</td>\n",
       "    </tr>\n",
       "  </tbody>\n",
       "</table>\n",
       "</div>"
      ],
      "text/plain": [
       "               critic_score  user_score  general_sales\n",
       "critic_score       1.000000    0.557654       0.406568\n",
       "user_score         0.557654    1.000000      -0.031957\n",
       "general_sales      0.406568   -0.031957       1.000000"
      ]
     },
     "execution_count": 29,
     "metadata": {},
     "output_type": "execute_result"
    }
   ],
   "source": [
    "data[data['platform']=='PS4'][['critic_score','user_score','general_sales']].corr()"
   ]
  },
  {
   "cell_type": "code",
   "execution_count": 30,
   "metadata": {},
   "outputs": [
    {
     "data": {
      "image/png": "[encoded data removed]",
      "text/plain": [
       "<Figure size 1080x360 with 1 Axes>"
      ]
     },
     "metadata": {},
     "output_type": "display_data"
    }
   ],
   "source": [
    "plt.figure(figsize=(15,5))\n",
    "sns.scatterplot(x='user_score',\n",
    "                y='general_sales',\n",
    "                data=data[data['platform']=='PS4'],\n",
    "                alpha=0.7)\n",
    "plt.title('Корреляция продаж от отзывов игроков')\n",
    "plt.xlabel('Оценка')\n",
    "plt.ylabel('млн проданных копий')\n",
    "plt.show()\n"
   ]
  },
  {
   "cell_type": "code",
   "execution_count": 31,
   "metadata": {},
   "outputs": [
    {
     "data": {
      "image/png": "[encoded data removed]",
      "text/plain": [
       "<Figure size 1080x360 with 1 Axes>"
      ]
     },
     "metadata": {},
     "output_type": "display_data"
    }
   ],
   "source": [
    "plt.figure(figsize=(15,5))\n",
    "sns.scatterplot(x='critic_score',\n",
    "                y='general_sales',\n",
    "                data=data[data['platform']=='PS4'],\n",
    "                alpha=0.7)\n",
    "plt.title('Корреляция продаж от отзывов критиков')\n",
    "plt.xlabel('Оценка')\n",
    "plt.ylabel('млн проданных копий')\n",
    "plt.show()\n"
   ]
  },
  {
   "cell_type": "markdown",
   "metadata": {},
   "source": []
  },
  {
   "cell_type": "code",
   "execution_count": 32,
   "metadata": {},
   "outputs": [
    {
     "name": "stdout",
     "output_type": "stream",
     "text": [
      "Корреляция пользовательской оценки PS3: 0.12792603540158226\n",
      "Корреляция оценок критиков PS3: 0.43371246722331125\n",
      "Корреляция пользовательской оценки X360: 0.11418661214018049\n",
      "Корреляция оценок критиков X360: 0.39286589254006954\n",
      "Корреляция пользовательской оценки PC: 0.012904741611451175\n",
      "Корреляция оценок критиков PC: 0.257394718400985\n"
     ]
    }
   ],
   "source": [
    "print('Корреляция пользовательской оценки PS3:',data[data['platform']=='PS3']['user_score']\n",
    "      .corr(data[data['platform']=='PS3']['general_sales']))\n",
    "print('Корреляция оценок критиков PS3:',data[data['platform']=='PS3']['critic_score']\n",
    "      .corr(data[data['platform']=='PS3']['general_sales']))\n",
    "print('Корреляция пользовательской оценки X360:',data[data['platform']=='X360']['user_score']\n",
    "      .corr(data[data['platform']=='X360']['general_sales']))\n",
    "print('Корреляция оценок критиков X360:',data[data['platform']=='X360']['critic_score']\n",
    "      .corr(data[data['platform']=='X360']['general_sales']))\n",
    "print('Корреляция пользовательской оценки PC:',data[data['platform']=='PC']['user_score']\n",
    "      .corr(data[data['platform']=='PC']['general_sales']))\n",
    "print('Корреляция оценок критиков PC:',data[data['platform']=='PC']['critic_score']\n",
    "      .corr(data[data['platform']=='PC']['general_sales']))"
   ]
  },
  {
   "cell_type": "markdown",
   "metadata": {},
   "source": [
    "Как видим тенденция влияния оценки критиков на продажи выше, можем это связать с тем что критики как правило получают версии игр до релиза игры и успевают составить более точное мнение к моменту старта продаж."
   ]
  },
  {
   "cell_type": "markdown",
   "metadata": {},
   "source": [
    "<div class=\"alert alert-success\" style=\"border-radius: 10px; box-shadow: 2px 2px 2px; border: 1px solid; padding: 10px \">\n",
    "<b>Комментарий ревьюера v.1</b> \n",
    "    \n",
    "👍 \n",
    "Верно. Оценка критиков имеет слабое влияние на продажи, оценка пользователей на продажи не влияет. \n",
    "</div>"
   ]
  },
  {
   "cell_type": "markdown",
   "metadata": {},
   "source": [
    "#### Общий вывод по ислдедовательскому анализу:\n",
    "\n",
    "* Самое большое кол-во игр пришлось на 2008 и 2009 года\n",
    "* По графику видно что оснновная масса игр выпускалась в период с 2003 по 2010 гг.\n",
    "* после 2011 года начинается спад по кол-ву игр, можем связать это с маштабом игр которые начанали выпускаться и то что основную популярность начали набирать игры AAA категории, по немногу вытесняя игры A,B,BB которые становились менее привлекательными на фоне крупных игр.\n",
    "* Относительно пика продаж можем это связать с выходом новых консолей 7-го поколения в 2006 году, как показывает практика на старте продаж каждого поколения имеется дифицит новых релизов, а в течении года или двух это нивилируется. Плюс практически одновременный старт продаж сразу трех крупных игроков рынка игр.Так же если я не ошибаюсь steam  который сейчас является главным магазином покупки игр на pc так же начал работать на реализацию игр сторонних издательств в 2006 году.\n",
    "* Актуальными годами для сравнения предлагаю взять года с 2013 по 2016, т.к. в 2013 стартавало 8-ое поколение консолей и к ццелевому году вероятнее всего наберут пик популярности.\n",
    "\n",
    "* Видно что наибольшей популярностью пользовались ps2, xbox 360, ps3, wii, ds, ps one.\n",
    "* Видно, что активное использование консоли или срок жизни консоли порядком 10 лет, однако смена поколений происходит в среднем раз в 6 лет и со временем растет. Так же можем отметить что выход нового поколения сразу отображается на продажах 'старого' поколения.\n",
    "\n",
    "* В актуальном промежутке видим, что набирают популярность PS4 и XOne, так же рекемендую рассматривать пк так же как перспективную платформу, остальные же платформы подходят к концу жизненного цикла. \n",
    "\n",
    "Как видим тенденция влияния оценки критиков на продажи выше, можем это связать с тем что критики как правило получают версии игр до релиза игры и успевают составить более точное мнение к моменту старта продаж.\n"
   ]
  },
  {
   "cell_type": "markdown",
   "metadata": {},
   "source": [
    "### Шаг 4. Составьте портрет пользователя каждого региона"
   ]
  },
  {
   "cell_type": "code",
   "execution_count": 33,
   "metadata": {},
   "outputs": [],
   "source": [
    "#data.pivot_table(index='genre',\n",
    "#                 values='general_sales',\n",
    "#                 aggfunc='sum').sort_values('general_sales',\n",
    "#                                            ascending=True).plot(kind='barh',\n",
    "#                                                            figsize=(15, 5))\n",
    "#plt.title('Доход игр по жанрам')\n",
    "#plt.xlabel('млн проданных копий')\n",
    "#plt.ylabel('Жанр')\n",
    "#plt.show()\n"
   ]
  },
  {
   "cell_type": "markdown",
   "metadata": {},
   "source": [
    "Наблюдаем доминирование доходности жанров боевиков и спортивных симуляторов, в то время как пазлы, квесты и стратегии являются аутсайдерами. "
   ]
  },
  {
   "cell_type": "code",
   "execution_count": 35,
   "metadata": {},
   "outputs": [
    {
     "data": {
      "image/png": "[encoded data removed]",
      "text/plain": [
       "<Figure size 1440x720 with 1 Axes>"
      ]
     },
     "metadata": {},
     "output_type": "display_data"
    }
   ],
   "source": [
    "plt.figure(figsize=(20,10))\n",
    "sns.boxplot(y=\"genre\", x=\"general_sales\", data=data.query('year_of_release>=2013'), orient=\"h\")\n",
    "plt.xlim(0, 2)\n",
    "plt.show()"
   ]
  },
  {
   "cell_type": "markdown",
   "metadata": {},
   "source": [
    "При просмотре медиан, видно что самыми выгодныи в плате доходности являются платформеры, шутеры, файтинги"
   ]
  },
  {
   "cell_type": "markdown",
   "metadata": {},
   "source": [
    "<div class=\"alert alert-info\" style=\"border-radius: 10px; box-shadow: 2px 2px 2px; border: 1px solid; padding: 10px \"> \n",
    "\n",
    "    \n",
    "Тоже не совсем уверен в данных выводах.\n",
    "</div>\n"
   ]
  },
  {
   "cell_type": "markdown",
   "metadata": {},
   "source": [
    "<div class=\"alert alert-warning\" style=\"border-radius: 10px; box-shadow: 2px 2px 2px; border: 1px solid; padding: 10px \">\n",
    "<b>Комментарий ревьюера v.2</b> \n",
    "    \n",
    "📝 \n",
    "Верно, но нужен актуальный период\n",
    "</div>"
   ]
  },
  {
   "cell_type": "code",
   "execution_count": null,
   "metadata": {},
   "outputs": [],
   "source": [
    "data.pivot_table(index='genre',\n",
    "                 values='name',\n",
    "                 aggfunc='count').sort_values('name',\n",
    "                                              ascending=True).plot(kind='barh',\n",
    "                                                                   figsize=(15, 5))\n",
    "plt.title('Кол-во игр по жанрам')\n",
    "plt.xlabel('Кол-во')\n",
    "plt.ylabel('Жанр')\n",
    "plt.show()"
   ]
  },
  {
   "cell_type": "markdown",
   "metadata": {},
   "source": [
    "Боевики и спортсимы так же являются лидерами по кол-ву релизов. В то время как пазлы, стратегии, файтинги приносят гораздо меньше прибыли."
   ]
  },
  {
   "cell_type": "markdown",
   "metadata": {},
   "source": [
    "<div class=\"alert alert-danger\" style=\"border-radius: 10px; box-shadow: 2px 2px 2px; border: 1px solid; padding: 10px \">\n",
    "<b>Комментарий ревьюера v.1</b> \n",
    "    \n",
    "✍ \n",
    "Общие продажи - плохая метрика для поиска наиболее прибыльного жанра. За высокими показателями общих продаж может скрываться множество мелких игр с низкими продажами. Или 2-3 звезды и куча провалов. Лучше найти жанр, где игры стабильно приносят высокий доход - для этого стоит рассмотреть средние или медианные продажи. Лучше всего нам это покажет boxplot.\n",
    "</div>"
   ]
  },
  {
   "cell_type": "code",
   "execution_count": null,
   "metadata": {},
   "outputs": [],
   "source": [
    "def region(column):\n",
    "    rows = 1\n",
    "    cols = 3\n",
    "    fig, axes = plt.subplots(rows,cols,figsize=(25,8))\n",
    "    region = ['na_sales',\n",
    "              'eu_sales',\n",
    "              'jp_sales']\n",
    "    count = 0\n",
    "    for r in range(rows):\n",
    "        for i in range(cols):\n",
    "            data_new = data_actual.pivot_table(index=column,\n",
    "                                               values=region[count],\n",
    "                                               aggfunc='sum').sort_values(by=region[count],\n",
    "                                                                          ascending=False)[:5]\n",
    "            title_dict = {'na_sales': 'Продажи в Северной Америке',\n",
    "                          'eu_sales': 'Продажи в Европе',\n",
    "                          'jp_sales': 'Продажи в Японии'}\n",
    "            plot = data_new.plot(kind='bar',\n",
    "                                 title=title_dict[region[count]],\n",
    "                                 ax=axes[i],\n",
    "                                 fontsize=13,\n",
    "                                 rot=0)\n",
    "            plot.set_xlabel('')\n",
    "            count += 1"
   ]
  },
  {
   "cell_type": "code",
   "execution_count": null,
   "metadata": {},
   "outputs": [],
   "source": [
    "region('platform')"
   ]
  },
  {
   "cell_type": "markdown",
   "metadata": {},
   "source": [
    "* Высокие продажи в северной америке японской PS4 консоли обусловлены хорошим окончанием предыдушего поколения в котором PS3 подняла лоялность к бренду за счет своих эксклюзивов таких как The last of us, Uncharted, InFamous. Однако мы так же видим что поколение 7 и 8 консолей x-box так же имелли весьма хорошие проджажи, тут стоит отметить что xbox является американской консолью и была замечательным и интересным устройством 7-го поколения, но к сожалению не удачная политика копании похоронила 8-ое поколение, но все же за счет лояльного отношения мы видим достаточно высокие проджажи. Видим низкии продажи комании нинтендо, так как консоль все же нацелена в основном на азиатский рынок и по большей части была этакой диковинкой, нежели основной консолью.\n",
    "* На европейском рынке ввидим доминацию японской консоли ps как 7 так и 8-го поколения, и гораздо хуже продажи xbox, нинтендо опяять в конце по тем же причинам.\n",
    "* А вот на рынке японии наблюдаем совершенно инную картину в виджу специфичности рынка где уже наблюдаем исключителдьно представителей яполнских брендов, плюс наблюдаем уже куда больший процент протативных консолей. Можем связать это с средне небольшим размером квыартир в японии, в связи с чем стационарная консоль может быть не так практична."
   ]
  },
  {
   "cell_type": "markdown",
   "metadata": {},
   "source": [
    "<div class=\"alert alert-success\" style=\"border-radius: 10px; box-shadow: 2px 2px 2px; border: 1px solid; padding: 10px \">\n",
    "<b>Комментарий ревьюера v.1</b> \n",
    "    \n",
    "👍 \n",
    "Верная интерпретация полученных данных.\n",
    "</div>"
   ]
  },
  {
   "cell_type": "code",
   "execution_count": null,
   "metadata": {},
   "outputs": [],
   "source": [
    "region('genre')"
   ]
  },
  {
   "cell_type": "markdown",
   "metadata": {},
   "source": [
    "* Разнобразии жанров в СА и Европе весьма схожи первое место занимают боевики и шутеры, замыкает тройку лидеров спортсимы. Единственное различие наблюдаем в последней из топ 5 позиции, в америке это специфичные игры по которым сложно определить жанр, а в европе это гонки.\n",
    "* Опять же в топе японии наблюдаем что большинство отдает предпочтение в пользу ролевых игр и боевиков, шутеры же здесь менее популярны, так же наблюдаем жанр файтинг."
   ]
  },
  {
   "cell_type": "markdown",
   "metadata": {},
   "source": [
    "<div class=\"alert alert-success\" style=\"border-radius: 10px; box-shadow: 2px 2px 2px; border: 1px solid; padding: 10px \">\n",
    "<b>Комментарий ревьюера v.1</b> \n",
    "    \n",
    "👍 \n",
    "Согласен, NA и EU во многом схожи, в то время, как Япония более самобытна.\n",
    "</div>"
   ]
  },
  {
   "cell_type": "code",
   "execution_count": null,
   "metadata": {},
   "outputs": [],
   "source": [
    "region('rating')"
   ]
  },
  {
   "cell_type": "markdown",
   "metadata": {},
   "source": [
    "* Опять же видим схожую ситуацию по Европе и Северной Америке, самые продоваемыми являются игры для взрослой аудитории 17+, 2-3 места делят либо игры без оценки либо игры для любой аудитории, закрывают топ 5 игры для подростков.\n",
    "* Судит о влиянии рейтинга ESRB по рынку японии бесмыслено так как в японии имеется своя организации по оценкеи возростного рейтина CERO, ну а по имеющимся данным видим доминацию игр для подростков и общедоступных, можем связать это с политикой популярной в Японии Nintendo что игры должны быть дял всех и таких франшиз как Zelda, Mario, Pokemon и так далее."
   ]
  },
  {
   "cell_type": "markdown",
   "metadata": {},
   "source": [
    "<div class=\"alert alert-success\" style=\"border-radius: 10px; box-shadow: 2px 2px 2px; border: 1px solid; padding: 10px \">\n",
    "<b>Комментарий ревьюера v.1</b> \n",
    "    \n",
    "👍 \n",
    "Правильно, что мы при предобработке данных поставили заглушку на пропуски в рейтинге ESRB. Иначе игры без рейтинга оказались бы полностью исключенными из анализа. Продажи именно этих игр могут указать на ключевое различие в регионах.\n",
    "</div>"
   ]
  },
  {
   "cell_type": "markdown",
   "metadata": {},
   "source": [
    "#### Общий вывод:\n",
    "\n",
    "* Наблюдаем доминирование доходности жанров боевиков и спортивных симуляторов, в то время как пазлы, квесты и стратегии являются аутсайдерами\n",
    "* Боевики и спортсимы так же являются лидерами по кол-ву релизов. В то время как пазлы, стратегии, файтинги приносят гораздо меньше прибыли.\n",
    "\n",
    "* Высокие продажи в северной америке японской PS4 консоли обусловлены хорошим окончанием предыдушего поколения в котором PS3 подняла лоялность к бренду за счет своих эксклюзивов таких как The last of us, Uncharted, InFamous. Однако мы так же видим что поколение 7 и 8 консолей x-box так же имелли весьма хорошие проджажи, тут стоит отметить что xbox является американской консолью и была замечательным и интересным устройством 7-го поколения, но к сожалению не удачная политика копании похоронила 8-ое поколение, но все же за счет лояльного отношения мы видим достаточно высокие проджажи. Видим низкии продажи комании нинтендо, так как консоль все же нацелена в основном на азиатский рынок и по большей части была этакой диковинкой, нежели основной консолью.\n",
    "* На европейском рынке ввидим доминацию японской консоли ps как 7 так и 8-го поколения, и гораздо хуже продажи xbox, нинтендо опяять в конце по тем же причинам.\n",
    "* А вот на рынке японии наблюдаем совершенно инную картину в виджу специфичности рынка где уже наблюдаем исключителдьно представителей яполнских брендов, плюс наблюдаем уже куда больший процент протативных консолей. Можем связать это с средне небольшим размером квыартир в японии, в связи с чем стационарная консоль может быть не так практична.\n",
    "\n",
    "\n",
    "* Разнобразии жанров в СА и Европе весьма схожи первое место занимают боевики и шутеры, замыкает тройку лидеров спортсимы. Единственное различие наблюдаем в последней из топ 5 позиции, в америке это специфичные игры по которым сложно определить жанр, а в европе это гонки.\n",
    "* Опять же в топе японии наблюдаем что большинство отдает предпочтение в пользу ролевых игр и боевиков, шутеры же здесь менее популярны, так же наблюдаем жанр файтинг.\n",
    "\n",
    "\n",
    "* Опять же видим схожую ситуацию по Европе и Северной Америке, самые продоваемыми являются игры для взрослой аудитории 17+, 2-3 места делят либо игры без оценки либо игры для любой аудитории, закрывают топ 5 игры для подростков.\n",
    "* Судит о влиянии рейтинга ESRB по рынку японии бесмыслено так как в японии имеется своя организации по оценкеи возростного рейтина CERO, ну а по имеющимся данным видим доминацию игр для подростков и общедоступных, можем связать это с политикой популярной в Японии Nintendo что игры должны быть дял всех и таких франшиз как Zelda, Mario, Pokemon и так далее."
   ]
  },
  {
   "cell_type": "markdown",
   "metadata": {},
   "source": [
    "<div class=\"alert alert-success\" style=\"border-radius: 10px; box-shadow: 2px 2px 2px; border: 1px solid; padding: 10px \">\n",
    "<b>Комментарий ревьюера v.1</b> \n",
    "    \n",
    "👍 \n",
    "Молодец, что не забываешь писать промежуточные выводы и сохраняешь стркутуру проекта.\n",
    "</div>"
   ]
  },
  {
   "cell_type": "markdown",
   "metadata": {},
   "source": [
    "### Шаг 5. Проверьте гипотезы"
   ]
  },
  {
   "cell_type": "markdown",
   "metadata": {},
   "source": [
    "#### Средние пользовательские рейтинги платформ Xbox One и PC одинаковые\n",
    "Средние пользовательские рейтинги платформ Xbox One и PC одинаковые; Формируем гипотезы из условия предоставленно ранее.\n",
    "* Нулевая гипотеза гласит что пользовательские оценки XOne и PC одинаковые\n",
    "* Альтернативная гласит что средний оценки пользователей разнятся"
   ]
  },
  {
   "cell_type": "markdown",
   "metadata": {},
   "source": [
    "<div class=\"alert alert-success\" style=\"border-radius: 10px; box-shadow: 2px 2px 2px; border: 1px solid; padding: 10px \">\n",
    "<b>Комментарий ревьюера v.1</b> \n",
    "    \n",
    "👍 \n",
    "Гипотезы сформулированы верно.\n",
    "</div>"
   ]
  },
  {
   "cell_type": "code",
   "execution_count": null,
   "metadata": {},
   "outputs": [],
   "source": [
    "score_pc = data.query('platform == \"PC\" and year_of_release >= 2013')['user_score']\n",
    "score_xone = data.query('platform == \"XOne\" and year_of_release >= 2013')['user_score']\n",
    "alpha = 0.025\n",
    "result = st.ttest_ind(score_pc.dropna(),score_xone.dropna())\n",
    "print('Среднее значение оценки для пользователей PC:',score_pc.mean())\n",
    "print('Среднее значение оценки для пользователей XOne:',score_xone.mean())\n",
    "print('p-значение', result.pvalue)\n",
    "print('Статистика t-testa', result.statistic)\n",
    "if (result.pvalue<alpha):\n",
    "    print('Отвергаем нулевую гипотезу')\n",
    "else:\n",
    "    print('Не отвергаем нулевую гипотезу') "
   ]
  },
  {
   "cell_type": "code",
   "execution_count": null,
   "metadata": {},
   "outputs": [],
   "source": [
    "datagr = data.query('platform == \"PC\" or platform == \"XOne\"')\n",
    "datagr = datagr.query('year_of_release >= 2013')\n",
    "ax = sns.barplot(x='user_score',\n",
    "                 y='platform',\n",
    "                 data=datagr)\n",
    "ax.set_title('Оценки пользователей')\n",
    "ax.set(xlabel='Оценка',\n",
    "       ylabel='Платформа');"
   ]
  },
  {
   "cell_type": "markdown",
   "metadata": {},
   "source": [
    "Вывод:\n",
    "\n",
    "\n",
    "* Среднее значение оценки для пользователей PC: 6.269677419354839\n",
    "* Среднее значение оценки для пользователей XOne: 6.521428571428572\n",
    "* p-значение 0.14012658403611647\n",
    "* Статистика t-testa -1.4788255981357277\n",
    "* Не отвергаем нулевую гипотезу\n",
    "\n",
    "\n",
    "Результаты теста непозволят отвергнут нулевую гипотезу о том что оценки пользователей иксбокс и пк равны."
   ]
  },
  {
   "cell_type": "markdown",
   "metadata": {},
   "source": [
    "#### Средние пользовательские рейтинги жанров Action (англ. «действие», экшен-игры) и Sports (англ. «спортивные соревнования») разные\n",
    "Средние пользовательские рейтинги жанров Action (англ. «действие», экшен-игры) и Sports (англ. «спортивные соревнования») разные. Проведем тесты для двух выборок для данных жанров за весь период и за целевой.\n",
    "* Нулевая гипотеза оценки одинаковые\n",
    "* Альтернативная гипотеза оценки различаются"
   ]
  },
  {
   "cell_type": "code",
   "execution_count": null,
   "metadata": {
    "scrolled": true
   },
   "outputs": [],
   "source": [
    "score_action = data.query('genre == \"Action\"')['user_score']\n",
    "score_sports = data.query('genre == \"Sports\"')['user_score']\n",
    "alpha = 0.05\n",
    "result = st.ttest_ind(score_action.dropna(),score_sports.dropna())\n",
    "print('Тест при выборках за весь период')\n",
    "print('Среднее значение оценки для action:',score_action.mean())\n",
    "print('Среднее значение оценки для sport:',score_sports.mean())\n",
    "print('p-значение', result.pvalue)\n",
    "print('Статистика t-testa', result.statistic)\n",
    "if (result.pvalue<alpha):\n",
    "    print('Отвергаем нулевую гипотезу')\n",
    "else:\n",
    "    print('Не отвергаем нулевую гипотезу') "
   ]
  },
  {
   "cell_type": "markdown",
   "metadata": {},
   "source": [
    "* Тест при выборках за весь период\n",
    "* Среднее значение оценки для action: 7.058129175946546\n",
    "* Среднее значение оценки для sport: 6.951433857539316\n",
    "* p-значение 0.06480928064420527\n",
    "* Статистика t-testa 1.8472797735322193\n",
    "* Не отвергаем нулевую гипотезу\n",
    "\n",
    "В данном случае мы не может отвергнуть теорию о том что оценки одинковые."
   ]
  },
  {
   "cell_type": "code",
   "execution_count": null,
   "metadata": {},
   "outputs": [],
   "source": [
    "score_action = data.query('genre == \"Action\" and year_of_release >= 2013')['user_score']\n",
    "score_sports = data.query('genre == \"Sports\" and year_of_release >= 2013')['user_score']\n",
    "alpha = 0.05\n",
    "result = st.ttest_ind(score_action.dropna(),score_sports.dropna())\n",
    "print('Тест при выборках за целевой период')\n",
    "print('Среднее значение оценки для action:',score_action.mean())\n",
    "print('Среднее значение оценки для sport:',score_sports.mean())\n",
    "print('p-значение', result.pvalue)\n",
    "print('Статистика t-testa', result.statistic)\n",
    "if (result.pvalue<alpha):\n",
    "    print('Отвергаем нулевую гипотезу')\n",
    "else:\n",
    "    print('Не отвергаем нулевую гипотезу') "
   ]
  },
  {
   "cell_type": "markdown",
   "metadata": {},
   "source": [
    "* Тест при выборках за целевой период\n",
    "* Среднее значение оценки для action: 6.837532133676093\n",
    "* Среднее значение оценки для sport: 5.238124999999999\n",
    "* p-значение 1.0517832389140023e-27\n",
    "* Статистика t-testa 11.535100577928208\n",
    "* Отвергаем нулевую гипотезу\n",
    "\n",
    "При рассмотрении целевой выборки набюдаем что обстоятельства позволяют отвергнуть нулевую гипотезу в пользу отлчиия оценок."
   ]
  },
  {
   "cell_type": "markdown",
   "metadata": {},
   "source": [
    "<div class=\"alert alert-success\" style=\"border-radius: 10px; box-shadow: 2px 2px 2px; border: 1px solid; padding: 10px \">\n",
    "<b>Комментарий ревьюера v.1</b> \n",
    "    \n",
    "👍 \n",
    "* Правильно, что для тестирования гипотез использован двусторонний t-тест Стьюдента.\n",
    "\n",
    "* Хорошо, что использован параметр отфильтровывющий пропуски. \n",
    "    \n",
    "* Правильно, что показаны средние пользовательские рейтинги.  Это позволяет нам проверить не ошиблись ли мы, если они расходятся с тестом Стьюдента.\n",
    "</div>"
   ]
  },
  {
   "cell_type": "markdown",
   "metadata": {},
   "source": [
    "### Общий вывод"
   ]
  },
  {
   "cell_type": "markdown",
   "metadata": {},
   "source": [
    "#### Описание проекта\n",
    "Вы работаете в интернет-магазине «Стримчик», который продаёт по всему миру компьютерные игры. Из открытых источников доступны исторические данные о продажах игр, оценки пользователей и экспертов, жанры и платформы (например, Xbox или PlayStation). Вам нужно выявить определяющие успешность игры закономерности. Это позволит сделать ставку на потенциально популярный продукт и спланировать рекламные кампании.\n",
    "\n",
    "\n",
    "Перед вами данные до 2016 года. Представим, что сейчас декабрь 2016 г., и вы планируете кампанию на 2017-й. Нужно отработать принцип работы с данными. Неважно, прогнозируете ли вы продажи на 2017 год по данным 2016-го или же 2027-й — по данным 2026 года.\n",
    "\n",
    "\n",
    "В наборе данных попадается аббревиатура ESRB (Entertainment Software Rating Board) — это ассоциация, определяющая возрастной рейтинг компьютерных игр. ESRB оценивает игровой контент и присваивает ему подходящую возрастную категорию, например, «Для взрослых», «Для детей младшего возраста» или «Для подростков».\n",
    "\n",
    "#### Описание данных\n",
    "\n",
    "* Name — название игры\n",
    "* Platform — платформа\n",
    "* Year_of_Release — год выпуска\n",
    "* Genre — жанр игры\n",
    "* NA_sales — продажи в Северной Америке (миллионы проданных копий)\n",
    "* EU_sales — продажи в Европе (миллионы проданных копий)\n",
    "* JP_sales — продажи в Японии (миллионы проданных копий)\n",
    "* Other_sales — продажи в других странах (миллионы проданных копий)\n",
    "* Critic_Score — оценка критиков (максимум 100)\n",
    "* User_Score — оценка пользователей (максимум 10)\n",
    "* Rating — рейтинг от организации ESRB (англ. Entertainment Software Rating Board). Эта ассоциация определяет рейтинг компьютерных игр и присваивает им подходящую возрастную категорию.\n",
    "* Данные за 2016 год могут быть неполными.\n",
    "\n",
    "#### План работы:\n",
    "\n",
    "* Открыть нужный файл\n",
    "* Провести предобработку, если потребуется\n",
    "* Добавить необходимые данные в таблицу, если это потребуется\n",
    "\n",
    "\n",
    "Провести иследования по предоставленным данным по следующий параметрам:\n",
    "- Кол-во выпускаемых игр в разбивке по годам\n",
    "- Продажи по отдельным платформа\n",
    "- Выбор актуальных платформ и период для иследования\n",
    "- Расчитать корреляцию продаж и отзывов\n",
    "- Проверить общее распределение игр по жанру\n",
    "\n",
    "\n",
    "\n",
    "* Составить портрет пользователей по регионам\n",
    "* Проверить гипотезы\n",
    "\n",
    "#### Изучение данных\n",
    "\n",
    "Имеем таблицу состоящюю из 11 колонок и 16715 строк, наблюдаем пропущены знгачения в 6 колонках\n",
    "\n",
    "#### Подготовка данных\n",
    "\n",
    "- Перевели название колонок в нижний регистр.\n",
    "- Проверили на наличие полных дубликатов, убедились в их отсутствие.\n",
    "- Заполнили пропуски в колонках оценка критиков и пользователей.\n",
    "- Удалили пусте значения в колонке Имя в кол-ву 2 шт.\n",
    "- Так же отчистили колонку год релиза от пустых значений в кол-ву 232 строки.\n",
    "- Добавлен столбец кол-ва общихъ продаж во всех регионах.\n",
    "\n",
    "#### Исследовательский анализ данных\n",
    "\n",
    "Общий вывод по ислдедовательскому анализу:\n",
    "\n",
    "* Самое большое кол-во игр пришлось на 2008 и 2009 года\n",
    "* По графику видно что оснновная масса игр выпускалась в период с 2003 по 2010 гг.\n",
    "* после 2011 года начинается спад по кол-ву игр, можем связать это с маштабом игр которые начанали выпускаться и то что основную популярность начали набирать игры AAA категории, по немногу вытесняя игры A,B,BB которые становились менее привлекательными на фоне крупных игр.\n",
    "* Относительно пика продаж можем это связать с выходом новых консолей 7-го поколения в 2006 году, как показывает практика на старте продаж каждого поколения имеется дифицит новых релизов, а в течении года или двух это нивилируется. Плюс практически одновременный старт продаж сразу трех крупных игроков рынка игр.Так же если я не ошибаюсь steam  который сейчас является главным магазином покупки игр на pc так же начал работать на реализацию игр сторонних издательств в 2006 году.\n",
    "* Актуальными годами для сравнения предлагаю взять года с 2013 по 2016, т.к. в 2013 стартавало 8-ое поколение консолей и к ццелевому году вероятнее всего наберут пик популярности.\n",
    "\n",
    "* Видно что наибольшей популярностью пользовались ps2, xbox 360, ps3, wii, ds, ps one.\n",
    "* Видно, что активное использование консоли или срок жизни консоли порядком 10 лет, однако смена поколений происходит в среднем раз в 6 лет и со временем растет. Так же можем отметить что выход нового поколения сразу отображается на продажах 'старого' поколения.\n",
    "\n",
    "* В актуальном промежутке видим, что набирают популярность PS4 и XOne, так же рекемендую рассматривать пк так же как перспективную платформу, остальные же платформы подходят к концу жизненного цикла. \n",
    "\n",
    "Как видим тенденция влияния оценки критиков на продажи выше, можем это связать с тем что критики как правило получают версии игр до релиза игры и успевают составить более точное мнение к моменту старта продаж.\n",
    "\n",
    "#### Портрет пользователя каждого региона\n",
    "\n",
    "Общий вывод:\n",
    "\n",
    "* Наблюдаем доминирование доходности жанров боевиков и спортивных симуляторов, в то время как пазлы, квесты и стратегии являются аутсайдерами\n",
    "* Боевики и спортсимы так же являются лидерами по кол-ву релизов. В то время как пазлы, стратегии, файтинги приносят гораздо меньше прибыли.\n",
    "\n",
    "* Высокие продажи в северной америке японской PS4 консоли обусловлены хорошим окончанием предыдушего поколения в котором PS3 подняла лоялность к бренду за счет своих эксклюзивов таких как The last of us, Uncharted, InFamous. Однако мы так же видим что поколение 7 и 8 консолей x-box так же имелли весьма хорошие проджажи, тут стоит отметить что xbox является американской консолью и была замечательным и интересным устройством 7-го поколения, но к сожалению не удачная политика копании похоронила 8-ое поколение, но все же за счет лояльного отношения мы видим достаточно высокие проджажи. Видим низкии продажи комании нинтендо, так как консоль все же нацелена в основном на азиатский рынок и по большей части была этакой диковинкой, нежели основной консолью.\n",
    "* На европейском рынке ввидим доминацию японской консоли ps как 7 так и 8-го поколения, и гораздо хуже продажи xbox, нинтендо опяять в конце по тем же причинам.\n",
    "* А вот на рынке японии наблюдаем совершенно инную картину в виджу специфичности рынка где уже наблюдаем исключителдьно представителей яполнских брендов, плюс наблюдаем уже куда больший процент протативных консолей. Можем связать это с средне небольшим размером квыартир в японии, в связи с чем стационарная консоль может быть не так практична.\n",
    "\n",
    "\n",
    "* Разнобразии жанров в СА и Европе весьма схожи первое место занимают боевики и шутеры, замыкает тройку лидеров спортсимы. Единственное различие наблюдаем в последней из топ 5 позиции, в америке это специфичные игры по которым сложно определить жанр, а в европе это гонки.\n",
    "* Опять же в топе японии наблюдаем что большинство отдает предпочтение в пользу ролевых игр и боевиков, шутеры же здесь менее популярны, так же наблюдаем жанр файтинг.\n",
    "\n",
    "\n",
    "* Опять же видим схожую ситуацию по Европе и Северной Америке, самые продоваемыми являются игры для взрослой аудитории 17+, 2-3 места делят либо игры без оценки либо игры для любой аудитории, закрывают топ 5 игры для подростков.\n",
    "* Судит о влиянии рейтинга ESRB по рынку японии бесмыслено так как в японии имеется своя организации по оценкеи возростного рейтина CERO, ну а по имеющимся данным видим доминацию игр для подростков и общедоступных, можем связать это с политикой популярной в Японии Nintendo что игры должны быть дял всех и таких франшиз как Zelda, Mario, Pokemon и так далее.\n",
    "\n",
    "#### Проверка гипотез\n",
    "\n",
    "Средние пользовательские рейтинги платформ Xbox One и PC одинаковые; Формируем гипотезы из условия предоставленно ранее.\n",
    "\n",
    "\n",
    "Нулевая гипотеза гласит что пользовательские оценки XOne и PC одинаковые\n",
    "Альтернативная гласит что средний оценки пользователей разнятся\n",
    "\n",
    "\n",
    "\n",
    "* Среднее значение оценки для пользователей PC: 6.269677419354839\n",
    "* Среднее значение оценки для пользователей XOne: 6.521428571428572\n",
    "* p-значение 0.14012658403611647\n",
    "* Статистика t-testa -1.4788255981357277\n",
    "* Не отвергаем нулевую гипотезу\n",
    "\n",
    "\n",
    "* Результаты теста непозволят отвергнут нулевую гипотезу о том что оценки пользователей иксбокс и пк равны.\n",
    "\n",
    "\n",
    "Средние пользовательские рейтинги жанров Action (англ. «действие», экшен-игры) и Sports (англ. «спортивные соревнования») разные\n",
    "\n",
    "\n",
    "Средние пользовательские рейтинги жанров Action (англ. «действие», экшен-игры) и Sports (англ. «спортивные соревнования») разные. Проведем тесты для двух выборок для данных жанров за весь период и за целевой.\n",
    "* Нулевая гипотеза оценки одинаковые\n",
    "* Альтернативная гипотеза оценки различаются\n",
    "\n",
    "\n",
    "* Тест при выборках за весь период\n",
    "* Среднее значение оценки для action: 7.058129175946546\n",
    "* Среднее значение оценки для sport: 6.951433857539316\n",
    "* p-значение 0.06480928064420527\n",
    "* Статистика t-testa 1.8472797735322193\n",
    "* Не отвергаем нулевую гипотезу\n",
    "\n",
    "В данном случае мы не может отвергнуть теорию о том что оценки одинковые.\n",
    "\n",
    "\n",
    "* Тест при выборках за целевой период\n",
    "* Среднее значение оценки для action: 6.837532133676093\n",
    "* Среднее значение оценки для sport: 5.238124999999999\n",
    "* p-значение 1.0517832389140023e-27\n",
    "* Статистика t-testa 11.535100577928208\n",
    "* Отвергаем нулевую гипотезу\n",
    "\n",
    "При рассмотрении целевой выборки набюдаем что обстоятельства позволяют отвергнуть нулевую гипотезу в пользу отлчиия оценок.\n",
    "\n",
    "#### Рекомендации\n",
    "\n",
    "* Добавить в таблицу оценки инных организации по выставлению рейтинга\n",
    "* Учитывать мобильный сегмент как платформу\n",
    "* Рассматривать европейскую и азиатские культыры отдельно \n",
    "* При планирование продаж учитывать анонсы выпуска новых консолей или платформ\n",
    "* Так же расмотреть рынок VR игр\n"
   ]
  },
  {
   "cell_type": "markdown",
   "metadata": {},
   "source": [
    "<div class=\"alert alert-success\" style=\"border-radius: 10px; box-shadow: 2px 2px 2px; border: 1px solid; padding: 10px \">\n",
    "<b>Комментарий ревьюера v.1</b> \n",
    "    \n",
    "👍 \n",
    "Выводы понятны и логичны, а самое главное подкреплены выявленными фактами.\n",
    "    \n",
    "Ты очень серьезно подходишь к визуализации.\n",
    "\n",
    "Вот пара ссылок на полезные источники:https://habr.com/ru/company/otus/blog/540526/, https://pythonru.com/biblioteki/seaborn-plot\n",
    "</div>"
   ]
  },
  {
   "cell_type": "markdown",
   "metadata": {},
   "source": [
    "<div style=\"border:solid blue 3px; padding: 20px\">\n",
    "<div class=\"alert alert-success\">\n",
    "<b>Обратная связь v.1</b> \n",
    "    \n",
    "👋\n",
    "Дмитрий, у тебя замечательная и очень сильная работа. Спасибо тебе большое, что ты уделяешь оформлению проекта особое внимание - ты не представляешь, как приятно не рыться в коде и не скролить туды сюды блокнот, чтобы найти какую-нибудь информацию. Каждый заголовок выделен, каждое рассуждение выделено, каждый пункт выделен. Так же мне очень понравилось, что тобой найдены все основные инсайты в данных, чательно обоснованы и с точки зрения кода проработаны достаточно оптимально.  Я оставил несколько обязательных поправок для тебя и после этого буду готов сразу принять проект. \n",
    "\n",
    "Удачи в доработках, жду! "
   ]
  },
  {
   "cell_type": "markdown",
   "metadata": {},
   "source": [
    "<div class=\"alert alert-info\" style=\"border-radius: 10px; box-shadow: 2px 2px 2px; border: 1px solid; padding: 10px \"> \n",
    "\n",
    "Привет, приятно слышать.Большое спасибо за ссылки обязательно ознакомлюсь, не совсем уверен в исправлениях которые внес.\n",
    "</div>\n"
   ]
  },
  {
   "cell_type": "markdown",
   "metadata": {},
   "source": [
    "<div style=\"border:solid indigo 3px; padding: 20px\">\n",
    "<div class=\"alert alert-success\">\n",
    "<b>Обратная связь v.2</b> \n",
    "    \n",
    "👋 \n",
    "      \n",
    "Дмитрий, спасибо тебе за исправления критических моментов, а также спасибо за хорошую работу.\n",
    "    \n",
    "Поздравляю с успешным завершением проекта 😊👍\n",
    "    \n",
    "И желаю успехов в новых работах 😊"
   ]
  }
 ],
 "metadata": {
  "ExecuteTimeLog": [
   {
    "duration": 548,
    "start_time": "2023-06-29T09:16:47.419Z"
   },
   {
    "duration": 204,
    "start_time": "2023-06-29T09:17:24.416Z"
   },
   {
    "duration": 100,
    "start_time": "2023-06-29T09:17:32.611Z"
   },
   {
    "duration": 102,
    "start_time": "2023-06-29T09:17:42.861Z"
   },
   {
    "duration": 24,
    "start_time": "2023-06-29T09:18:05.727Z"
   },
   {
    "duration": 4,
    "start_time": "2023-06-29T09:20:55.877Z"
   },
   {
    "duration": 17,
    "start_time": "2023-06-29T09:21:03.506Z"
   },
   {
    "duration": 3,
    "start_time": "2023-06-29T09:22:02.713Z"
   },
   {
    "duration": 43,
    "start_time": "2023-06-29T09:22:38.010Z"
   },
   {
    "duration": 20,
    "start_time": "2023-06-29T09:23:02.890Z"
   },
   {
    "duration": 25,
    "start_time": "2023-06-29T09:23:37.754Z"
   },
   {
    "duration": 25,
    "start_time": "2023-06-29T09:23:41.409Z"
   },
   {
    "duration": 17,
    "start_time": "2023-06-29T09:24:49.885Z"
   },
   {
    "duration": 21,
    "start_time": "2023-06-29T09:27:52.221Z"
   },
   {
    "duration": 27,
    "start_time": "2023-06-29T09:28:05.494Z"
   },
   {
    "duration": 6,
    "start_time": "2023-06-29T09:35:59.923Z"
   },
   {
    "duration": 7,
    "start_time": "2023-06-29T09:42:35.173Z"
   },
   {
    "duration": 21,
    "start_time": "2023-06-29T09:42:45.638Z"
   },
   {
    "duration": 465,
    "start_time": "2023-06-29T09:43:45.032Z"
   },
   {
    "duration": 78,
    "start_time": "2023-06-29T09:43:45.499Z"
   },
   {
    "duration": 26,
    "start_time": "2023-06-29T09:43:45.579Z"
   },
   {
    "duration": 50,
    "start_time": "2023-06-29T09:43:45.608Z"
   },
   {
    "duration": 4,
    "start_time": "2023-06-29T09:43:45.661Z"
   },
   {
    "duration": 22,
    "start_time": "2023-06-29T09:43:45.667Z"
   },
   {
    "duration": 18,
    "start_time": "2023-06-29T09:43:45.691Z"
   },
   {
    "duration": 9,
    "start_time": "2023-06-29T09:43:45.712Z"
   },
   {
    "duration": 7,
    "start_time": "2023-06-29T09:43:45.753Z"
   },
   {
    "duration": 8,
    "start_time": "2023-06-29T09:43:55.687Z"
   },
   {
    "duration": 2970,
    "start_time": "2023-06-29T09:46:50.238Z"
   },
   {
    "duration": 8,
    "start_time": "2023-06-29T09:46:55.989Z"
   },
   {
    "duration": 10,
    "start_time": "2023-06-29T09:53:03.970Z"
   },
   {
    "duration": 6,
    "start_time": "2023-06-29T09:53:18.639Z"
   },
   {
    "duration": 10,
    "start_time": "2023-06-29T09:53:22.736Z"
   },
   {
    "duration": 22,
    "start_time": "2023-06-29T09:54:01.521Z"
   },
   {
    "duration": 25,
    "start_time": "2023-06-29T09:54:18.382Z"
   },
   {
    "duration": 10,
    "start_time": "2023-06-29T09:54:27.095Z"
   },
   {
    "duration": 2788,
    "start_time": "2023-06-29T09:55:09.158Z"
   },
   {
    "duration": 10,
    "start_time": "2023-06-29T09:55:26.430Z"
   },
   {
    "duration": 8,
    "start_time": "2023-06-29T09:56:11.010Z"
   },
   {
    "duration": 500,
    "start_time": "2023-06-29T09:56:27.226Z"
   },
   {
    "duration": 105,
    "start_time": "2023-06-29T09:56:27.729Z"
   },
   {
    "duration": 17,
    "start_time": "2023-06-29T09:56:27.835Z"
   },
   {
    "duration": 43,
    "start_time": "2023-06-29T09:56:27.854Z"
   },
   {
    "duration": 3,
    "start_time": "2023-06-29T09:56:27.899Z"
   },
   {
    "duration": 25,
    "start_time": "2023-06-29T09:56:27.904Z"
   },
   {
    "duration": 39,
    "start_time": "2023-06-29T09:56:27.931Z"
   },
   {
    "duration": 9,
    "start_time": "2023-06-29T09:56:27.972Z"
   },
   {
    "duration": 10,
    "start_time": "2023-06-29T09:56:27.984Z"
   },
   {
    "duration": 11,
    "start_time": "2023-06-29T09:56:27.996Z"
   },
   {
    "duration": 104,
    "start_time": "2023-06-29T09:56:28.008Z"
   },
   {
    "duration": 7,
    "start_time": "2023-06-29T09:56:43.543Z"
   },
   {
    "duration": 8,
    "start_time": "2023-06-29T09:56:55.540Z"
   },
   {
    "duration": 21,
    "start_time": "2023-06-29T09:57:07.245Z"
   },
   {
    "duration": 28,
    "start_time": "2023-06-29T09:58:04.803Z"
   },
   {
    "duration": 7,
    "start_time": "2023-06-29T09:58:51.896Z"
   },
   {
    "duration": 19,
    "start_time": "2023-06-29T09:58:59.985Z"
   },
   {
    "duration": 15,
    "start_time": "2023-06-29T09:59:07.205Z"
   },
   {
    "duration": 7,
    "start_time": "2023-06-29T09:59:15.022Z"
   },
   {
    "duration": 21,
    "start_time": "2023-06-29T09:59:50.783Z"
   },
   {
    "duration": 9,
    "start_time": "2023-06-29T09:59:57.183Z"
   },
   {
    "duration": 13,
    "start_time": "2023-06-29T10:01:12.028Z"
   },
   {
    "duration": 14,
    "start_time": "2023-06-29T10:01:23.491Z"
   },
   {
    "duration": 10,
    "start_time": "2023-06-29T10:04:26.991Z"
   },
   {
    "duration": 6,
    "start_time": "2023-06-29T10:04:30.941Z"
   },
   {
    "duration": 439,
    "start_time": "2023-06-29T10:04:41.790Z"
   },
   {
    "duration": 90,
    "start_time": "2023-06-29T10:04:42.231Z"
   },
   {
    "duration": 15,
    "start_time": "2023-06-29T10:04:42.323Z"
   },
   {
    "duration": 59,
    "start_time": "2023-06-29T10:04:42.340Z"
   },
   {
    "duration": 3,
    "start_time": "2023-06-29T10:04:42.402Z"
   },
   {
    "duration": 32,
    "start_time": "2023-06-29T10:04:42.407Z"
   },
   {
    "duration": 44,
    "start_time": "2023-06-29T10:04:42.441Z"
   },
   {
    "duration": 23,
    "start_time": "2023-06-29T10:04:42.487Z"
   },
   {
    "duration": 22,
    "start_time": "2023-06-29T10:04:42.512Z"
   },
   {
    "duration": 28,
    "start_time": "2023-06-29T10:04:42.536Z"
   },
   {
    "duration": 14,
    "start_time": "2023-06-29T10:04:42.570Z"
   },
   {
    "duration": 19,
    "start_time": "2023-06-29T10:04:42.588Z"
   },
   {
    "duration": 44,
    "start_time": "2023-06-29T10:04:42.608Z"
   },
   {
    "duration": 19,
    "start_time": "2023-06-29T10:04:42.654Z"
   },
   {
    "duration": 7,
    "start_time": "2023-06-29T10:05:40.502Z"
   },
   {
    "duration": 456,
    "start_time": "2023-06-29T10:05:45.277Z"
   },
   {
    "duration": 97,
    "start_time": "2023-06-29T10:05:45.736Z"
   },
   {
    "duration": 16,
    "start_time": "2023-06-29T10:05:45.834Z"
   },
   {
    "duration": 54,
    "start_time": "2023-06-29T10:05:45.852Z"
   },
   {
    "duration": 2,
    "start_time": "2023-06-29T10:05:45.910Z"
   },
   {
    "duration": 31,
    "start_time": "2023-06-29T10:05:45.914Z"
   },
   {
    "duration": 22,
    "start_time": "2023-06-29T10:05:45.947Z"
   },
   {
    "duration": 19,
    "start_time": "2023-06-29T10:05:45.971Z"
   },
   {
    "duration": 9,
    "start_time": "2023-06-29T10:05:45.992Z"
   },
   {
    "duration": 19,
    "start_time": "2023-06-29T10:05:46.002Z"
   },
   {
    "duration": 20,
    "start_time": "2023-06-29T10:05:46.023Z"
   },
   {
    "duration": 21,
    "start_time": "2023-06-29T10:05:46.044Z"
   },
   {
    "duration": 24,
    "start_time": "2023-06-29T10:05:46.068Z"
   },
   {
    "duration": 9,
    "start_time": "2023-06-29T10:05:46.094Z"
   },
   {
    "duration": 10,
    "start_time": "2023-06-29T10:18:40.136Z"
   },
   {
    "duration": 7,
    "start_time": "2023-06-29T10:18:52.033Z"
   },
   {
    "duration": 8,
    "start_time": "2023-06-29T10:18:59.341Z"
   },
   {
    "duration": 8,
    "start_time": "2023-06-29T10:19:23.588Z"
   },
   {
    "duration": 30,
    "start_time": "2023-06-29T10:19:47.677Z"
   },
   {
    "duration": 17,
    "start_time": "2023-06-29T10:25:27.836Z"
   },
   {
    "duration": 31,
    "start_time": "2023-06-29T10:25:29.501Z"
   },
   {
    "duration": 12,
    "start_time": "2023-06-29T10:29:48.354Z"
   },
   {
    "duration": 13,
    "start_time": "2023-06-29T10:30:07.280Z"
   },
   {
    "duration": 99,
    "start_time": "2023-06-29T10:30:17.482Z"
   },
   {
    "duration": 8,
    "start_time": "2023-06-29T10:30:19.828Z"
   },
   {
    "duration": 312,
    "start_time": "2023-06-29T10:36:37.540Z"
   },
   {
    "duration": 16,
    "start_time": "2023-06-29T10:36:43.152Z"
   },
   {
    "duration": 9,
    "start_time": "2023-06-29T10:36:51.688Z"
   },
   {
    "duration": 6,
    "start_time": "2023-06-29T10:37:01.306Z"
   },
   {
    "duration": 11,
    "start_time": "2023-06-29T11:00:21.340Z"
   },
   {
    "duration": 22,
    "start_time": "2023-06-29T11:00:26.190Z"
   },
   {
    "duration": 10,
    "start_time": "2023-06-29T11:02:01.012Z"
   },
   {
    "duration": 22,
    "start_time": "2023-06-29T11:02:07.533Z"
   },
   {
    "duration": 521,
    "start_time": "2023-06-29T11:04:42.219Z"
   },
   {
    "duration": 158,
    "start_time": "2023-06-29T11:04:42.743Z"
   },
   {
    "duration": 30,
    "start_time": "2023-06-29T11:04:42.904Z"
   },
   {
    "duration": 67,
    "start_time": "2023-06-29T11:04:42.937Z"
   },
   {
    "duration": 4,
    "start_time": "2023-06-29T11:04:43.006Z"
   },
   {
    "duration": 53,
    "start_time": "2023-06-29T11:04:43.014Z"
   },
   {
    "duration": 30,
    "start_time": "2023-06-29T11:04:43.079Z"
   },
   {
    "duration": 8,
    "start_time": "2023-06-29T11:04:43.111Z"
   },
   {
    "duration": 10,
    "start_time": "2023-06-29T11:04:43.122Z"
   },
   {
    "duration": 13,
    "start_time": "2023-06-29T11:04:43.160Z"
   },
   {
    "duration": 23,
    "start_time": "2023-06-29T11:04:43.175Z"
   },
   {
    "duration": 16,
    "start_time": "2023-06-29T11:04:43.199Z"
   },
   {
    "duration": 46,
    "start_time": "2023-06-29T11:04:43.217Z"
   },
   {
    "duration": 22,
    "start_time": "2023-06-29T11:04:43.268Z"
   },
   {
    "duration": 16,
    "start_time": "2023-06-29T11:04:43.292Z"
   },
   {
    "duration": 8,
    "start_time": "2023-06-29T11:04:43.311Z"
   },
   {
    "duration": 45,
    "start_time": "2023-06-29T11:04:43.321Z"
   },
   {
    "duration": 536,
    "start_time": "2023-06-29T11:05:08.439Z"
   },
   {
    "duration": 116,
    "start_time": "2023-06-29T11:05:08.977Z"
   },
   {
    "duration": 33,
    "start_time": "2023-06-29T11:05:09.101Z"
   },
   {
    "duration": 52,
    "start_time": "2023-06-29T11:05:09.137Z"
   },
   {
    "duration": 10,
    "start_time": "2023-06-29T11:05:09.192Z"
   },
   {
    "duration": 39,
    "start_time": "2023-06-29T11:05:09.207Z"
   },
   {
    "duration": 38,
    "start_time": "2023-06-29T11:05:09.250Z"
   },
   {
    "duration": 10,
    "start_time": "2023-06-29T11:05:09.291Z"
   },
   {
    "duration": 27,
    "start_time": "2023-06-29T11:05:09.305Z"
   },
   {
    "duration": 14,
    "start_time": "2023-06-29T11:05:09.334Z"
   },
   {
    "duration": 17,
    "start_time": "2023-06-29T11:05:09.355Z"
   },
   {
    "duration": 14,
    "start_time": "2023-06-29T11:05:09.375Z"
   },
   {
    "duration": 35,
    "start_time": "2023-06-29T11:05:09.392Z"
   },
   {
    "duration": 33,
    "start_time": "2023-06-29T11:05:09.431Z"
   },
   {
    "duration": 12,
    "start_time": "2023-06-29T11:05:09.467Z"
   },
   {
    "duration": 12,
    "start_time": "2023-06-29T11:05:09.483Z"
   },
   {
    "duration": 30,
    "start_time": "2023-06-29T11:05:09.499Z"
   },
   {
    "duration": 6,
    "start_time": "2023-06-29T11:27:23.304Z"
   },
   {
    "duration": 5,
    "start_time": "2023-06-29T11:27:34.537Z"
   },
   {
    "duration": 22,
    "start_time": "2023-06-29T11:32:03.761Z"
   },
   {
    "duration": 1547,
    "start_time": "2023-06-29T19:22:47.929Z"
   },
   {
    "duration": 1013,
    "start_time": "2023-06-29T19:23:15.479Z"
   },
   {
    "duration": 2098,
    "start_time": "2023-06-29T19:23:21.632Z"
   },
   {
    "duration": 405,
    "start_time": "2023-06-29T19:23:23.732Z"
   },
   {
    "duration": 39,
    "start_time": "2023-06-29T19:23:24.142Z"
   },
   {
    "duration": 78,
    "start_time": "2023-06-29T19:23:24.183Z"
   },
   {
    "duration": 6,
    "start_time": "2023-06-29T19:23:24.264Z"
   },
   {
    "duration": 41,
    "start_time": "2023-06-29T19:23:24.272Z"
   },
   {
    "duration": 25,
    "start_time": "2023-06-29T19:23:24.316Z"
   },
   {
    "duration": 22,
    "start_time": "2023-06-29T19:23:24.343Z"
   },
   {
    "duration": 21,
    "start_time": "2023-06-29T19:23:24.368Z"
   },
   {
    "duration": 17,
    "start_time": "2023-06-29T19:23:24.392Z"
   },
   {
    "duration": 15,
    "start_time": "2023-06-29T19:23:24.415Z"
   },
   {
    "duration": 11,
    "start_time": "2023-06-29T19:23:24.433Z"
   },
   {
    "duration": 72,
    "start_time": "2023-06-29T19:23:24.447Z"
   },
   {
    "duration": 18,
    "start_time": "2023-06-29T19:23:24.523Z"
   },
   {
    "duration": 33,
    "start_time": "2023-06-29T19:23:24.556Z"
   },
   {
    "duration": 15,
    "start_time": "2023-06-29T19:23:24.603Z"
   },
   {
    "duration": 57,
    "start_time": "2023-06-29T19:23:24.628Z"
   },
   {
    "duration": 13,
    "start_time": "2023-06-29T19:23:24.693Z"
   },
   {
    "duration": 10,
    "start_time": "2023-06-29T19:23:24.719Z"
   },
   {
    "duration": 797,
    "start_time": "2023-06-29T19:23:24.732Z"
   },
   {
    "duration": 607,
    "start_time": "2023-06-29T19:24:02.951Z"
   },
   {
    "duration": 19,
    "start_time": "2023-06-29T19:24:20.613Z"
   },
   {
    "duration": 761,
    "start_time": "2023-06-29T19:25:02.816Z"
   },
   {
    "duration": 20,
    "start_time": "2023-06-29T19:37:24.090Z"
   },
   {
    "duration": 695,
    "start_time": "2023-06-29T19:38:53.202Z"
   },
   {
    "duration": 42,
    "start_time": "2023-06-29T19:51:36.682Z"
   },
   {
    "duration": 1560,
    "start_time": "2023-06-29T19:52:11.412Z"
   },
   {
    "duration": 104,
    "start_time": "2023-06-29T19:52:12.974Z"
   },
   {
    "duration": 26,
    "start_time": "2023-06-29T19:52:13.085Z"
   },
   {
    "duration": 48,
    "start_time": "2023-06-29T19:52:13.113Z"
   },
   {
    "duration": 3,
    "start_time": "2023-06-29T19:52:13.164Z"
   },
   {
    "duration": 52,
    "start_time": "2023-06-29T19:52:13.170Z"
   },
   {
    "duration": 20,
    "start_time": "2023-06-29T19:52:13.225Z"
   },
   {
    "duration": 18,
    "start_time": "2023-06-29T19:52:13.248Z"
   },
   {
    "duration": 32,
    "start_time": "2023-06-29T19:52:13.269Z"
   },
   {
    "duration": 17,
    "start_time": "2023-06-29T19:52:13.309Z"
   },
   {
    "duration": 11,
    "start_time": "2023-06-29T19:52:13.328Z"
   },
   {
    "duration": 19,
    "start_time": "2023-06-29T19:52:13.341Z"
   },
   {
    "duration": 25,
    "start_time": "2023-06-29T19:52:13.363Z"
   },
   {
    "duration": 46,
    "start_time": "2023-06-29T19:52:13.391Z"
   },
   {
    "duration": 10,
    "start_time": "2023-06-29T19:52:13.439Z"
   },
   {
    "duration": 3,
    "start_time": "2023-06-29T19:52:13.451Z"
   },
   {
    "duration": 37,
    "start_time": "2023-06-29T19:52:13.456Z"
   },
   {
    "duration": 12,
    "start_time": "2023-06-29T19:52:13.503Z"
   },
   {
    "duration": 8,
    "start_time": "2023-06-29T19:52:13.517Z"
   },
   {
    "duration": 482,
    "start_time": "2023-06-29T19:52:13.532Z"
   },
   {
    "duration": 22,
    "start_time": "2023-06-29T19:52:14.017Z"
   },
   {
    "duration": 24,
    "start_time": "2023-06-29T19:52:14.042Z"
   },
   {
    "duration": 32,
    "start_time": "2023-06-29T19:55:12.979Z"
   },
   {
    "duration": 39,
    "start_time": "2023-06-29T19:56:42.976Z"
   },
   {
    "duration": 257,
    "start_time": "2023-06-29T19:58:55.736Z"
   },
   {
    "duration": 46,
    "start_time": "2023-06-29T19:59:22.420Z"
   },
   {
    "duration": 27,
    "start_time": "2023-06-29T19:59:50.564Z"
   },
   {
    "duration": 40,
    "start_time": "2023-06-29T19:59:54.471Z"
   },
   {
    "duration": 49,
    "start_time": "2023-06-29T20:02:36.805Z"
   },
   {
    "duration": 26,
    "start_time": "2023-06-29T20:02:49.317Z"
   },
   {
    "duration": 19,
    "start_time": "2023-06-29T20:02:56.998Z"
   },
   {
    "duration": 453,
    "start_time": "2023-06-29T20:03:54.853Z"
   },
   {
    "duration": 1069,
    "start_time": "2023-06-29T20:04:48.320Z"
   },
   {
    "duration": 1393,
    "start_time": "2023-06-29T20:05:09.721Z"
   },
   {
    "duration": 326,
    "start_time": "2023-06-29T20:05:30.298Z"
   },
   {
    "duration": 1305,
    "start_time": "2023-06-29T20:05:39.511Z"
   },
   {
    "duration": 1713,
    "start_time": "2023-06-29T20:07:26.315Z"
   },
   {
    "duration": 1371,
    "start_time": "2023-06-29T20:07:42.510Z"
   },
   {
    "duration": 12,
    "start_time": "2023-06-29T20:23:54.816Z"
   },
   {
    "duration": 58,
    "start_time": "2023-06-30T07:32:47.384Z"
   },
   {
    "duration": 1395,
    "start_time": "2023-06-30T07:32:53.522Z"
   },
   {
    "duration": 189,
    "start_time": "2023-06-30T07:32:54.919Z"
   },
   {
    "duration": 14,
    "start_time": "2023-06-30T07:32:55.109Z"
   },
   {
    "duration": 41,
    "start_time": "2023-06-30T07:32:55.124Z"
   },
   {
    "duration": 3,
    "start_time": "2023-06-30T07:32:55.168Z"
   },
   {
    "duration": 31,
    "start_time": "2023-06-30T07:32:55.173Z"
   },
   {
    "duration": 14,
    "start_time": "2023-06-30T07:32:55.206Z"
   },
   {
    "duration": 19,
    "start_time": "2023-06-30T07:32:55.222Z"
   },
   {
    "duration": 25,
    "start_time": "2023-06-30T07:32:55.243Z"
   },
   {
    "duration": 20,
    "start_time": "2023-06-30T07:32:55.270Z"
   },
   {
    "duration": 29,
    "start_time": "2023-06-30T07:32:55.293Z"
   },
   {
    "duration": 23,
    "start_time": "2023-06-30T07:32:55.324Z"
   },
   {
    "duration": 27,
    "start_time": "2023-06-30T07:32:55.349Z"
   },
   {
    "duration": 20,
    "start_time": "2023-06-30T07:32:55.378Z"
   },
   {
    "duration": 20,
    "start_time": "2023-06-30T07:32:55.399Z"
   },
   {
    "duration": 30,
    "start_time": "2023-06-30T07:32:55.421Z"
   },
   {
    "duration": 26,
    "start_time": "2023-06-30T07:32:55.453Z"
   },
   {
    "duration": 15,
    "start_time": "2023-06-30T07:32:55.480Z"
   },
   {
    "duration": 36,
    "start_time": "2023-06-30T07:32:55.497Z"
   },
   {
    "duration": 251,
    "start_time": "2023-06-30T07:32:55.535Z"
   },
   {
    "duration": 9,
    "start_time": "2023-06-30T07:32:55.788Z"
   },
   {
    "duration": 131,
    "start_time": "2023-06-30T07:32:55.799Z"
   },
   {
    "duration": 0,
    "start_time": "2023-06-30T07:32:55.932Z"
   },
   {
    "duration": 0,
    "start_time": "2023-06-30T07:32:55.934Z"
   },
   {
    "duration": 25,
    "start_time": "2023-06-30T07:33:22.470Z"
   },
   {
    "duration": 20,
    "start_time": "2023-06-30T07:33:33.886Z"
   },
   {
    "duration": 290,
    "start_time": "2023-06-30T07:33:45.924Z"
   },
   {
    "duration": 307,
    "start_time": "2023-06-30T07:35:30.106Z"
   },
   {
    "duration": 1308,
    "start_time": "2023-06-30T07:35:51.525Z"
   },
   {
    "duration": 22,
    "start_time": "2023-06-30T07:36:17.263Z"
   },
   {
    "duration": 9879,
    "start_time": "2023-06-30T07:37:33.473Z"
   },
   {
    "duration": 8221,
    "start_time": "2023-06-30T07:47:57.651Z"
   },
   {
    "duration": 597,
    "start_time": "2023-06-30T07:48:29.543Z"
   },
   {
    "duration": 8489,
    "start_time": "2023-06-30T07:49:01.174Z"
   },
   {
    "duration": 1262,
    "start_time": "2023-06-30T18:32:47.147Z"
   },
   {
    "duration": 80,
    "start_time": "2023-06-30T18:32:48.411Z"
   },
   {
    "duration": 17,
    "start_time": "2023-06-30T18:32:49.939Z"
   },
   {
    "duration": 39,
    "start_time": "2023-06-30T18:32:51.342Z"
   },
   {
    "duration": 18,
    "start_time": "2023-06-30T19:44:05.473Z"
   },
   {
    "duration": 12,
    "start_time": "2023-06-30T19:44:13.249Z"
   },
   {
    "duration": 1470,
    "start_time": "2023-06-30T19:44:16.537Z"
   },
   {
    "duration": 4,
    "start_time": "2023-06-30T19:44:27.529Z"
   },
   {
    "duration": 6,
    "start_time": "2023-06-30T19:44:29.857Z"
   },
   {
    "duration": 7,
    "start_time": "2023-06-30T19:45:47.641Z"
   },
   {
    "duration": 19,
    "start_time": "2023-06-30T19:46:25.353Z"
   },
   {
    "duration": 6,
    "start_time": "2023-06-30T19:49:07.035Z"
   },
   {
    "duration": 6,
    "start_time": "2023-06-30T19:49:19.989Z"
   },
   {
    "duration": 13,
    "start_time": "2023-06-30T19:49:33.878Z"
   },
   {
    "duration": 19,
    "start_time": "2023-06-30T19:49:45.651Z"
   },
   {
    "duration": 19,
    "start_time": "2023-06-30T19:49:47.577Z"
   },
   {
    "duration": 6,
    "start_time": "2023-06-30T19:50:45.017Z"
   },
   {
    "duration": 13,
    "start_time": "2023-06-30T19:50:46.339Z"
   },
   {
    "duration": 16,
    "start_time": "2023-06-30T19:51:30.090Z"
   },
   {
    "duration": 9,
    "start_time": "2023-06-30T19:51:44.860Z"
   },
   {
    "duration": 4,
    "start_time": "2023-06-30T19:51:50.869Z"
   },
   {
    "duration": 15,
    "start_time": "2023-06-30T19:51:53.201Z"
   },
   {
    "duration": 7,
    "start_time": "2023-06-30T19:53:31.430Z"
   },
   {
    "duration": 7,
    "start_time": "2023-06-30T19:53:47.134Z"
   },
   {
    "duration": 6,
    "start_time": "2023-06-30T19:53:51.889Z"
   },
   {
    "duration": 1327,
    "start_time": "2023-06-30T19:55:26.279Z"
   },
   {
    "duration": 5,
    "start_time": "2023-06-30T19:55:28.903Z"
   },
   {
    "duration": 5,
    "start_time": "2023-06-30T19:55:30.548Z"
   },
   {
    "duration": 15,
    "start_time": "2023-06-30T19:55:35.942Z"
   },
   {
    "duration": 251,
    "start_time": "2023-06-30T19:57:00.018Z"
   },
   {
    "duration": 16,
    "start_time": "2023-06-30T19:57:02.271Z"
   },
   {
    "duration": 29,
    "start_time": "2023-06-30T20:16:24.513Z"
   },
   {
    "duration": 365,
    "start_time": "2023-06-30T20:16:46.737Z"
   },
   {
    "duration": 17,
    "start_time": "2023-06-30T20:17:14.679Z"
   },
   {
    "duration": 16,
    "start_time": "2023-06-30T20:17:20.983Z"
   },
   {
    "duration": 380,
    "start_time": "2023-06-30T20:17:32.019Z"
   },
   {
    "duration": 370,
    "start_time": "2023-06-30T20:17:54.829Z"
   },
   {
    "duration": 467,
    "start_time": "2023-06-30T20:18:00.257Z"
   },
   {
    "duration": 9,
    "start_time": "2023-06-30T20:43:26.841Z"
   },
   {
    "duration": 8,
    "start_time": "2023-06-30T20:43:38.620Z"
   },
   {
    "duration": 10,
    "start_time": "2023-06-30T20:44:53.675Z"
   },
   {
    "duration": 4,
    "start_time": "2023-06-30T20:45:25.989Z"
   },
   {
    "duration": 11,
    "start_time": "2023-06-30T20:45:27.927Z"
   },
   {
    "duration": 10,
    "start_time": "2023-06-30T20:45:49.718Z"
   },
   {
    "duration": 10,
    "start_time": "2023-06-30T20:45:51.706Z"
   },
   {
    "duration": 389,
    "start_time": "2023-06-30T20:45:55.431Z"
   },
   {
    "duration": 9,
    "start_time": "2023-06-30T20:45:58.037Z"
   },
   {
    "duration": 10,
    "start_time": "2023-06-30T20:46:08.923Z"
   },
   {
    "duration": 262,
    "start_time": "2023-06-30T20:47:25.551Z"
   },
   {
    "duration": 318,
    "start_time": "2023-06-30T20:48:40.226Z"
   },
   {
    "duration": 287,
    "start_time": "2023-06-30T20:53:42.240Z"
   },
   {
    "duration": 12,
    "start_time": "2023-06-30T20:54:16.222Z"
   },
   {
    "duration": 86,
    "start_time": "2023-06-30T20:54:51.228Z"
   },
   {
    "duration": 1031,
    "start_time": "2023-06-30T20:55:04.328Z"
   },
   {
    "duration": 205,
    "start_time": "2023-06-30T20:55:18.510Z"
   },
   {
    "duration": 320,
    "start_time": "2023-06-30T20:55:33.306Z"
   },
   {
    "duration": 273,
    "start_time": "2023-06-30T20:55:42.898Z"
   },
   {
    "duration": 204,
    "start_time": "2023-06-30T20:55:49.476Z"
   },
   {
    "duration": 216,
    "start_time": "2023-06-30T20:55:54.211Z"
   },
   {
    "duration": 186,
    "start_time": "2023-06-30T20:56:07.729Z"
   },
   {
    "duration": 185,
    "start_time": "2023-06-30T20:56:17.372Z"
   },
   {
    "duration": 204,
    "start_time": "2023-06-30T20:56:26.549Z"
   },
   {
    "duration": 21,
    "start_time": "2023-06-30T21:08:16.526Z"
   },
   {
    "duration": 20,
    "start_time": "2023-06-30T21:09:15.464Z"
   },
   {
    "duration": 18,
    "start_time": "2023-06-30T21:09:28.045Z"
   },
   {
    "duration": 19,
    "start_time": "2023-06-30T21:09:52.390Z"
   },
   {
    "duration": 20,
    "start_time": "2023-06-30T21:10:18.219Z"
   },
   {
    "duration": 11,
    "start_time": "2023-06-30T21:11:10.283Z"
   },
   {
    "duration": 170,
    "start_time": "2023-06-30T21:11:47.743Z"
   },
   {
    "duration": 231,
    "start_time": "2023-06-30T21:12:07.052Z"
   },
   {
    "duration": 684,
    "start_time": "2023-06-30T21:13:08.853Z"
   },
   {
    "duration": 795,
    "start_time": "2023-06-30T21:13:24.573Z"
   },
   {
    "duration": 453,
    "start_time": "2023-06-30T21:13:38.682Z"
   },
   {
    "duration": 752,
    "start_time": "2023-06-30T21:13:50.900Z"
   },
   {
    "duration": 1042,
    "start_time": "2023-06-30T21:14:55.771Z"
   },
   {
    "duration": 852,
    "start_time": "2023-06-30T21:15:19.152Z"
   },
   {
    "duration": 630,
    "start_time": "2023-06-30T21:16:39.309Z"
   },
   {
    "duration": 88,
    "start_time": "2023-06-30T21:18:07.601Z"
   },
   {
    "duration": 86,
    "start_time": "2023-06-30T21:18:21.708Z"
   },
   {
    "duration": 9,
    "start_time": "2023-06-30T21:22:06.265Z"
   },
   {
    "duration": 7,
    "start_time": "2023-06-30T21:22:09.511Z"
   },
   {
    "duration": 91,
    "start_time": "2023-06-30T21:23:03.810Z"
   },
   {
    "duration": 92,
    "start_time": "2023-06-30T21:23:14.039Z"
   },
   {
    "duration": 347,
    "start_time": "2023-06-30T21:23:27.102Z"
   },
   {
    "duration": 116,
    "start_time": "2023-06-30T21:25:14.254Z"
   },
   {
    "duration": 392,
    "start_time": "2023-06-30T21:25:32.459Z"
   },
   {
    "duration": 348,
    "start_time": "2023-06-30T21:26:41.188Z"
   },
   {
    "duration": 326,
    "start_time": "2023-06-30T21:27:25.743Z"
   },
   {
    "duration": 349,
    "start_time": "2023-06-30T21:32:20.810Z"
   },
   {
    "duration": 320,
    "start_time": "2023-06-30T21:33:26.539Z"
   },
   {
    "duration": 14,
    "start_time": "2023-06-30T21:35:59.635Z"
   },
   {
    "duration": 343,
    "start_time": "2023-06-30T22:08:45.156Z"
   },
   {
    "duration": 6,
    "start_time": "2023-06-30T22:10:00.400Z"
   },
   {
    "duration": 18,
    "start_time": "2023-06-30T22:10:11.803Z"
   },
   {
    "duration": 18,
    "start_time": "2023-06-30T22:10:23.656Z"
   },
   {
    "duration": 19,
    "start_time": "2023-06-30T22:11:11.249Z"
   },
   {
    "duration": 83,
    "start_time": "2023-06-30T22:12:25.973Z"
   },
   {
    "duration": 15,
    "start_time": "2023-06-30T22:12:32.152Z"
   },
   {
    "duration": 23,
    "start_time": "2023-06-30T22:12:51.780Z"
   },
   {
    "duration": 21,
    "start_time": "2023-06-30T22:26:07.747Z"
   },
   {
    "duration": 26,
    "start_time": "2023-06-30T22:27:29.037Z"
   },
   {
    "duration": 31,
    "start_time": "2023-06-30T22:28:02.945Z"
   },
   {
    "duration": 552,
    "start_time": "2023-06-30T22:35:22.268Z"
   },
   {
    "duration": 417,
    "start_time": "2023-06-30T22:38:44.719Z"
   },
   {
    "duration": 274,
    "start_time": "2023-06-30T22:39:35.855Z"
   },
   {
    "duration": 268,
    "start_time": "2023-06-30T22:39:49.569Z"
   },
   {
    "duration": 292,
    "start_time": "2023-06-30T22:39:58.059Z"
   },
   {
    "duration": 262,
    "start_time": "2023-06-30T22:40:11.503Z"
   },
   {
    "duration": 273,
    "start_time": "2023-06-30T22:40:27.178Z"
   },
   {
    "duration": 87,
    "start_time": "2023-06-30T22:41:18.875Z"
   },
   {
    "duration": 88,
    "start_time": "2023-06-30T22:41:24.838Z"
   },
   {
    "duration": 105,
    "start_time": "2023-06-30T22:41:38.311Z"
   },
   {
    "duration": 77,
    "start_time": "2023-06-30T22:41:49.080Z"
   },
   {
    "duration": 94,
    "start_time": "2023-06-30T22:41:54.108Z"
   },
   {
    "duration": 12,
    "start_time": "2023-06-30T22:41:58.134Z"
   },
   {
    "duration": 256,
    "start_time": "2023-06-30T22:42:09.346Z"
   },
   {
    "duration": 256,
    "start_time": "2023-06-30T22:42:42.250Z"
   },
   {
    "duration": 7,
    "start_time": "2023-06-30T23:41:47.419Z"
   },
   {
    "duration": 6,
    "start_time": "2023-06-30T23:47:27.155Z"
   },
   {
    "duration": 7,
    "start_time": "2023-06-30T23:52:05.645Z"
   },
   {
    "duration": 5,
    "start_time": "2023-06-30T23:52:19.851Z"
   },
   {
    "duration": 206,
    "start_time": "2023-06-30T23:53:57.272Z"
   },
   {
    "duration": 352,
    "start_time": "2023-06-30T23:54:05.637Z"
   },
   {
    "duration": 180,
    "start_time": "2023-06-30T23:57:07.904Z"
   },
   {
    "duration": 176,
    "start_time": "2023-06-30T23:57:21.911Z"
   },
   {
    "duration": 258,
    "start_time": "2023-06-30T23:57:54.713Z"
   },
   {
    "duration": 171,
    "start_time": "2023-06-30T23:58:36.912Z"
   },
   {
    "duration": 13,
    "start_time": "2023-07-01T00:02:18.216Z"
   },
   {
    "duration": 92,
    "start_time": "2023-07-01T00:02:47.468Z"
   },
   {
    "duration": 16,
    "start_time": "2023-07-01T00:02:53.154Z"
   },
   {
    "duration": 13,
    "start_time": "2023-07-01T00:03:00.096Z"
   },
   {
    "duration": 13,
    "start_time": "2023-07-01T00:03:02.941Z"
   },
   {
    "duration": 14,
    "start_time": "2023-07-01T00:03:28.769Z"
   },
   {
    "duration": 7,
    "start_time": "2023-07-01T00:04:18.846Z"
   },
   {
    "duration": 5,
    "start_time": "2023-07-01T00:04:19.950Z"
   },
   {
    "duration": 173,
    "start_time": "2023-07-01T00:04:21.200Z"
   },
   {
    "duration": 200,
    "start_time": "2023-07-01T00:04:29.394Z"
   },
   {
    "duration": 45,
    "start_time": "2023-07-01T00:13:45.605Z"
   },
   {
    "duration": 183,
    "start_time": "2023-07-01T00:13:49.726Z"
   },
   {
    "duration": 16,
    "start_time": "2023-07-01T00:13:52.894Z"
   },
   {
    "duration": 351,
    "start_time": "2023-07-01T00:14:41.865Z"
   },
   {
    "duration": 16,
    "start_time": "2023-07-01T00:14:56.121Z"
   },
   {
    "duration": 201,
    "start_time": "2023-07-01T00:15:01.834Z"
   },
   {
    "duration": 170,
    "start_time": "2023-07-01T00:15:18.590Z"
   },
   {
    "duration": 13,
    "start_time": "2023-07-01T00:16:56.892Z"
   },
   {
    "duration": 19,
    "start_time": "2023-07-01T00:17:09.210Z"
   },
   {
    "duration": 13,
    "start_time": "2023-07-01T00:17:18.754Z"
   },
   {
    "duration": 18,
    "start_time": "2023-07-01T00:17:25.401Z"
   },
   {
    "duration": 14,
    "start_time": "2023-07-01T00:19:03.930Z"
   },
   {
    "duration": 6,
    "start_time": "2023-07-01T00:19:17.932Z"
   },
   {
    "duration": 13,
    "start_time": "2023-07-01T00:19:49.969Z"
   },
   {
    "duration": 13,
    "start_time": "2023-07-01T00:19:56.838Z"
   },
   {
    "duration": 12,
    "start_time": "2023-07-01T00:20:39.232Z"
   },
   {
    "duration": 5,
    "start_time": "2023-07-01T00:20:53.782Z"
   },
   {
    "duration": 5,
    "start_time": "2023-07-01T00:21:04.726Z"
   },
   {
    "duration": 203,
    "start_time": "2023-07-01T00:21:23.910Z"
   },
   {
    "duration": 256,
    "start_time": "2023-07-01T00:21:36.368Z"
   },
   {
    "duration": 20,
    "start_time": "2023-07-01T00:22:30.758Z"
   },
   {
    "duration": 210,
    "start_time": "2023-07-01T00:22:39.222Z"
   },
   {
    "duration": 229,
    "start_time": "2023-07-01T00:22:49.182Z"
   },
   {
    "duration": 214,
    "start_time": "2023-07-01T00:22:56.836Z"
   },
   {
    "duration": 11,
    "start_time": "2023-07-01T00:23:17.300Z"
   },
   {
    "duration": 208,
    "start_time": "2023-07-01T00:23:34.938Z"
   },
   {
    "duration": 13,
    "start_time": "2023-07-01T00:24:35.198Z"
   },
   {
    "duration": 12,
    "start_time": "2023-07-01T00:24:50.696Z"
   },
   {
    "duration": 11,
    "start_time": "2023-07-01T00:24:59.752Z"
   },
   {
    "duration": 11,
    "start_time": "2023-07-01T00:25:11.747Z"
   },
   {
    "duration": 210,
    "start_time": "2023-07-01T00:25:14.911Z"
   },
   {
    "duration": 13,
    "start_time": "2023-07-01T00:25:19.277Z"
   },
   {
    "duration": 210,
    "start_time": "2023-07-01T00:25:23.082Z"
   },
   {
    "duration": 193,
    "start_time": "2023-07-01T00:25:27.689Z"
   },
   {
    "duration": 12,
    "start_time": "2023-07-01T00:25:56.785Z"
   },
   {
    "duration": 1101,
    "start_time": "2023-07-01T00:27:02.867Z"
   },
   {
    "duration": 67,
    "start_time": "2023-07-01T00:27:03.970Z"
   },
   {
    "duration": 17,
    "start_time": "2023-07-01T00:27:04.039Z"
   },
   {
    "duration": 35,
    "start_time": "2023-07-01T00:27:04.058Z"
   },
   {
    "duration": 3,
    "start_time": "2023-07-01T00:27:04.096Z"
   },
   {
    "duration": 33,
    "start_time": "2023-07-01T00:27:04.101Z"
   },
   {
    "duration": 11,
    "start_time": "2023-07-01T00:27:04.136Z"
   },
   {
    "duration": 5,
    "start_time": "2023-07-01T00:27:04.159Z"
   },
   {
    "duration": 17,
    "start_time": "2023-07-01T00:27:04.165Z"
   },
   {
    "duration": 24,
    "start_time": "2023-07-01T00:27:04.183Z"
   },
   {
    "duration": 18,
    "start_time": "2023-07-01T00:27:04.208Z"
   },
   {
    "duration": 8,
    "start_time": "2023-07-01T00:27:04.227Z"
   },
   {
    "duration": 24,
    "start_time": "2023-07-01T00:27:04.236Z"
   },
   {
    "duration": 9,
    "start_time": "2023-07-01T00:27:04.262Z"
   },
   {
    "duration": 16,
    "start_time": "2023-07-01T00:27:04.273Z"
   },
   {
    "duration": 4,
    "start_time": "2023-07-01T00:27:04.291Z"
   },
   {
    "duration": 13,
    "start_time": "2023-07-01T00:27:04.296Z"
   },
   {
    "duration": 4,
    "start_time": "2023-07-01T00:27:04.310Z"
   },
   {
    "duration": 21,
    "start_time": "2023-07-01T00:27:04.315Z"
   },
   {
    "duration": 243,
    "start_time": "2023-07-01T00:27:04.338Z"
   },
   {
    "duration": 10,
    "start_time": "2023-07-01T00:27:04.583Z"
   },
   {
    "duration": 427,
    "start_time": "2023-07-01T00:27:04.594Z"
   },
   {
    "duration": 8,
    "start_time": "2023-07-01T00:27:05.023Z"
   },
   {
    "duration": 366,
    "start_time": "2023-07-01T00:27:05.033Z"
   },
   {
    "duration": 24,
    "start_time": "2023-07-01T00:27:05.401Z"
   },
   {
    "duration": 291,
    "start_time": "2023-07-01T00:27:05.427Z"
   },
   {
    "duration": 12,
    "start_time": "2023-07-01T00:27:05.720Z"
   },
   {
    "duration": 110,
    "start_time": "2023-07-01T00:27:05.733Z"
   },
   {
    "duration": 13,
    "start_time": "2023-07-01T00:27:13.482Z"
   },
   {
    "duration": 14,
    "start_time": "2023-07-01T00:27:14.438Z"
   },
   {
    "duration": 15,
    "start_time": "2023-07-01T00:27:19.222Z"
   },
   {
    "duration": 263,
    "start_time": "2023-07-01T00:27:34.626Z"
   },
   {
    "duration": 195,
    "start_time": "2023-07-01T00:27:43.561Z"
   },
   {
    "duration": 190,
    "start_time": "2023-07-01T00:41:17.855Z"
   },
   {
    "duration": 180,
    "start_time": "2023-07-01T00:41:40.991Z"
   },
   {
    "duration": 195,
    "start_time": "2023-07-01T00:41:57.647Z"
   },
   {
    "duration": 170,
    "start_time": "2023-07-01T00:42:42.189Z"
   },
   {
    "duration": 176,
    "start_time": "2023-07-01T00:42:49.615Z"
   },
   {
    "duration": 181,
    "start_time": "2023-07-01T00:43:00.017Z"
   },
   {
    "duration": 166,
    "start_time": "2023-07-01T00:43:06.029Z"
   },
   {
    "duration": 5,
    "start_time": "2023-07-01T00:48:28.700Z"
   },
   {
    "duration": 457,
    "start_time": "2023-07-01T00:48:46.236Z"
   },
   {
    "duration": 5,
    "start_time": "2023-07-01T00:50:16.652Z"
   },
   {
    "duration": 567,
    "start_time": "2023-07-01T00:50:17.485Z"
   },
   {
    "duration": 5,
    "start_time": "2023-07-01T00:50:35.618Z"
   },
   {
    "duration": 475,
    "start_time": "2023-07-01T00:50:36.081Z"
   },
   {
    "duration": 5,
    "start_time": "2023-07-01T00:50:58.166Z"
   },
   {
    "duration": 403,
    "start_time": "2023-07-01T00:50:58.632Z"
   },
   {
    "duration": 5,
    "start_time": "2023-07-01T00:51:08.862Z"
   },
   {
    "duration": 5,
    "start_time": "2023-07-01T00:51:11.903Z"
   },
   {
    "duration": 5,
    "start_time": "2023-07-01T00:51:45.860Z"
   },
   {
    "duration": 438,
    "start_time": "2023-07-01T00:51:46.497Z"
   },
   {
    "duration": 5,
    "start_time": "2023-07-01T00:52:08.209Z"
   },
   {
    "duration": 402,
    "start_time": "2023-07-01T00:52:08.898Z"
   },
   {
    "duration": 4,
    "start_time": "2023-07-01T00:52:20.822Z"
   },
   {
    "duration": 468,
    "start_time": "2023-07-01T00:52:22.785Z"
   },
   {
    "duration": 6,
    "start_time": "2023-07-01T00:52:29.581Z"
   },
   {
    "duration": 5,
    "start_time": "2023-07-01T00:52:53.529Z"
   },
   {
    "duration": 558,
    "start_time": "2023-07-01T00:52:54.069Z"
   },
   {
    "duration": 5,
    "start_time": "2023-07-01T00:53:20.739Z"
   },
   {
    "duration": 438,
    "start_time": "2023-07-01T00:53:21.721Z"
   },
   {
    "duration": 472,
    "start_time": "2023-07-01T00:53:54.178Z"
   },
   {
    "duration": 468,
    "start_time": "2023-07-01T00:54:25.904Z"
   },
   {
    "duration": 4,
    "start_time": "2023-07-01T00:58:56.260Z"
   },
   {
    "duration": 5,
    "start_time": "2023-07-01T01:00:41.669Z"
   },
   {
    "duration": 457,
    "start_time": "2023-07-01T01:00:42.330Z"
   },
   {
    "duration": 5,
    "start_time": "2023-07-01T01:00:49.564Z"
   },
   {
    "duration": 470,
    "start_time": "2023-07-01T01:00:50.251Z"
   },
   {
    "duration": 5,
    "start_time": "2023-07-01T01:00:57.882Z"
   },
   {
    "duration": 586,
    "start_time": "2023-07-01T01:01:00.802Z"
   },
   {
    "duration": 5,
    "start_time": "2023-07-01T01:01:09.316Z"
   },
   {
    "duration": 445,
    "start_time": "2023-07-01T01:01:12.626Z"
   },
   {
    "duration": 5,
    "start_time": "2023-07-01T01:01:19.029Z"
   },
   {
    "duration": 445,
    "start_time": "2023-07-01T01:01:19.590Z"
   },
   {
    "duration": 5,
    "start_time": "2023-07-01T01:01:23.072Z"
   },
   {
    "duration": 433,
    "start_time": "2023-07-01T01:01:23.442Z"
   },
   {
    "duration": 5,
    "start_time": "2023-07-01T01:01:27.512Z"
   },
   {
    "duration": 464,
    "start_time": "2023-07-01T01:01:28.545Z"
   },
   {
    "duration": 5,
    "start_time": "2023-07-01T01:01:32.079Z"
   },
   {
    "duration": 577,
    "start_time": "2023-07-01T01:01:35.831Z"
   },
   {
    "duration": 460,
    "start_time": "2023-07-01T01:01:39.114Z"
   },
   {
    "duration": 454,
    "start_time": "2023-07-01T01:01:39.926Z"
   },
   {
    "duration": 264,
    "start_time": "2023-07-01T01:01:50.109Z"
   },
   {
    "duration": 292,
    "start_time": "2023-07-01T01:01:59.356Z"
   },
   {
    "duration": 408,
    "start_time": "2023-07-01T01:02:55.961Z"
   },
   {
    "duration": 441,
    "start_time": "2023-07-01T01:03:12.717Z"
   },
   {
    "duration": 379,
    "start_time": "2023-07-01T01:03:53.317Z"
   },
   {
    "duration": 284,
    "start_time": "2023-07-01T01:04:20.723Z"
   },
   {
    "duration": 12,
    "start_time": "2023-07-01T01:04:41.088Z"
   },
   {
    "duration": 177,
    "start_time": "2023-07-01T01:04:42.216Z"
   },
   {
    "duration": 166,
    "start_time": "2023-07-01T01:04:43.713Z"
   },
   {
    "duration": 197,
    "start_time": "2023-07-01T01:05:05.178Z"
   },
   {
    "duration": 203,
    "start_time": "2023-07-01T01:05:09.695Z"
   },
   {
    "duration": 5,
    "start_time": "2023-07-01T01:05:52.556Z"
   },
   {
    "duration": 499,
    "start_time": "2023-07-01T01:05:53.193Z"
   },
   {
    "duration": 643,
    "start_time": "2023-07-01T01:05:56.650Z"
   },
   {
    "duration": 498,
    "start_time": "2023-07-01T01:05:58.685Z"
   },
   {
    "duration": 5,
    "start_time": "2023-07-01T01:06:17.505Z"
   },
   {
    "duration": 441,
    "start_time": "2023-07-01T01:06:19.614Z"
   },
   {
    "duration": 444,
    "start_time": "2023-07-01T01:06:21.721Z"
   },
   {
    "duration": 456,
    "start_time": "2023-07-01T01:06:23.535Z"
   },
   {
    "duration": 5,
    "start_time": "2023-07-01T01:06:30.699Z"
   },
   {
    "duration": 538,
    "start_time": "2023-07-01T01:06:33.054Z"
   },
   {
    "duration": 5,
    "start_time": "2023-07-01T01:06:41.175Z"
   },
   {
    "duration": 582,
    "start_time": "2023-07-01T01:06:41.815Z"
   },
   {
    "duration": 468,
    "start_time": "2023-07-01T01:06:44.609Z"
   },
   {
    "duration": 507,
    "start_time": "2023-07-01T01:06:45.762Z"
   },
   {
    "duration": 5,
    "start_time": "2023-07-01T01:06:51.625Z"
   },
   {
    "duration": 505,
    "start_time": "2023-07-01T01:06:52.065Z"
   },
   {
    "duration": 5,
    "start_time": "2023-07-01T01:06:56.948Z"
   },
   {
    "duration": 622,
    "start_time": "2023-07-01T01:06:57.437Z"
   },
   {
    "duration": 5,
    "start_time": "2023-07-01T01:07:03.126Z"
   },
   {
    "duration": 623,
    "start_time": "2023-07-01T01:07:03.841Z"
   },
   {
    "duration": 501,
    "start_time": "2023-07-01T01:07:05.729Z"
   },
   {
    "duration": 496,
    "start_time": "2023-07-01T01:07:06.363Z"
   },
   {
    "duration": 15,
    "start_time": "2023-07-01T01:53:23.031Z"
   },
   {
    "duration": 14,
    "start_time": "2023-07-01T01:53:35.617Z"
   },
   {
    "duration": 14,
    "start_time": "2023-07-01T01:53:50.433Z"
   },
   {
    "duration": 16,
    "start_time": "2023-07-01T01:53:58.917Z"
   },
   {
    "duration": 20,
    "start_time": "2023-07-01T01:55:42.419Z"
   },
   {
    "duration": 15,
    "start_time": "2023-07-01T01:55:49.484Z"
   },
   {
    "duration": 351,
    "start_time": "2023-07-01T01:57:01.176Z"
   },
   {
    "duration": 15,
    "start_time": "2023-07-01T01:57:08.441Z"
   },
   {
    "duration": 340,
    "start_time": "2023-07-01T01:57:11.555Z"
   },
   {
    "duration": 15,
    "start_time": "2023-07-01T01:57:49.171Z"
   },
   {
    "duration": 15,
    "start_time": "2023-07-01T01:57:50.423Z"
   },
   {
    "duration": 171,
    "start_time": "2023-07-01T01:58:05.437Z"
   },
   {
    "duration": 1354,
    "start_time": "2023-07-01T01:58:48.691Z"
   },
   {
    "duration": 23,
    "start_time": "2023-07-01T01:59:04.588Z"
   },
   {
    "duration": 242,
    "start_time": "2023-07-01T01:59:25.121Z"
   },
   {
    "duration": 361,
    "start_time": "2023-07-01T01:59:38.982Z"
   },
   {
    "duration": 241,
    "start_time": "2023-07-01T01:59:50.784Z"
   },
   {
    "duration": 262,
    "start_time": "2023-07-01T01:59:56.082Z"
   },
   {
    "duration": 215,
    "start_time": "2023-07-01T02:02:50.597Z"
   },
   {
    "duration": 216,
    "start_time": "2023-07-01T02:03:34.614Z"
   },
   {
    "duration": 214,
    "start_time": "2023-07-01T02:03:41.971Z"
   },
   {
    "duration": 5,
    "start_time": "2023-07-01T02:05:08.660Z"
   },
   {
    "duration": 335,
    "start_time": "2023-07-01T02:06:54.180Z"
   },
   {
    "duration": 188,
    "start_time": "2023-07-01T02:08:05.680Z"
   },
   {
    "duration": 199,
    "start_time": "2023-07-01T02:08:19.343Z"
   },
   {
    "duration": 899,
    "start_time": "2023-07-01T02:13:17.626Z"
   },
   {
    "duration": 1021,
    "start_time": "2023-07-01T02:13:42.772Z"
   },
   {
    "duration": 825,
    "start_time": "2023-07-01T02:16:27.973Z"
   },
   {
    "duration": 6,
    "start_time": "2023-07-01T02:20:28.410Z"
   },
   {
    "duration": 13,
    "start_time": "2023-07-01T02:20:55.739Z"
   },
   {
    "duration": 107,
    "start_time": "2023-07-01T02:24:14.507Z"
   },
   {
    "duration": 886,
    "start_time": "2023-07-01T02:25:36.061Z"
   },
   {
    "duration": 1036,
    "start_time": "2023-07-01T02:26:13.745Z"
   },
   {
    "duration": 1233,
    "start_time": "2023-07-01T02:26:20.001Z"
   },
   {
    "duration": 979,
    "start_time": "2023-07-01T02:28:52.065Z"
   },
   {
    "duration": 1055,
    "start_time": "2023-07-01T02:29:28.180Z"
   },
   {
    "duration": 1177,
    "start_time": "2023-07-01T02:30:01.918Z"
   },
   {
    "duration": 1066,
    "start_time": "2023-07-01T02:30:10.062Z"
   },
   {
    "duration": 182,
    "start_time": "2023-07-01T02:30:33.635Z"
   },
   {
    "duration": 14,
    "start_time": "2023-07-01T02:31:03.832Z"
   },
   {
    "duration": 5,
    "start_time": "2023-07-01T02:31:32.461Z"
   },
   {
    "duration": 1092,
    "start_time": "2023-07-01T02:31:35.112Z"
   },
   {
    "duration": 4,
    "start_time": "2023-07-01T02:33:56.344Z"
   },
   {
    "duration": 767,
    "start_time": "2023-07-01T02:35:57.916Z"
   },
   {
    "duration": 1144,
    "start_time": "2023-07-01T02:36:13.374Z"
   },
   {
    "duration": 31,
    "start_time": "2023-07-01T02:59:22.293Z"
   },
   {
    "duration": 89,
    "start_time": "2023-07-02T11:20:15.343Z"
   },
   {
    "duration": 38,
    "start_time": "2023-07-02T11:20:36.305Z"
   },
   {
    "duration": 11,
    "start_time": "2023-07-02T11:21:08.058Z"
   },
   {
    "duration": 1538,
    "start_time": "2023-07-02T11:21:12.835Z"
   },
   {
    "duration": 193,
    "start_time": "2023-07-02T11:21:14.376Z"
   },
   {
    "duration": 14,
    "start_time": "2023-07-02T11:21:14.570Z"
   },
   {
    "duration": 33,
    "start_time": "2023-07-02T11:21:14.585Z"
   },
   {
    "duration": 3,
    "start_time": "2023-07-02T11:21:14.620Z"
   },
   {
    "duration": 62,
    "start_time": "2023-07-02T11:21:14.625Z"
   },
   {
    "duration": 24,
    "start_time": "2023-07-02T11:21:14.689Z"
   },
   {
    "duration": 29,
    "start_time": "2023-07-02T11:21:14.723Z"
   },
   {
    "duration": 11,
    "start_time": "2023-07-02T11:21:14.758Z"
   },
   {
    "duration": 46,
    "start_time": "2023-07-02T11:21:14.771Z"
   },
   {
    "duration": 7,
    "start_time": "2023-07-02T11:21:14.819Z"
   },
   {
    "duration": 40,
    "start_time": "2023-07-02T11:21:14.827Z"
   },
   {
    "duration": 12,
    "start_time": "2023-07-02T11:21:14.869Z"
   },
   {
    "duration": 8,
    "start_time": "2023-07-02T11:21:14.884Z"
   },
   {
    "duration": 19,
    "start_time": "2023-07-02T11:21:14.893Z"
   },
   {
    "duration": 32,
    "start_time": "2023-07-02T11:21:14.929Z"
   },
   {
    "duration": 12,
    "start_time": "2023-07-02T11:21:14.963Z"
   },
   {
    "duration": 5,
    "start_time": "2023-07-02T11:21:14.977Z"
   },
   {
    "duration": 32,
    "start_time": "2023-07-02T11:21:14.983Z"
   },
   {
    "duration": 441,
    "start_time": "2023-07-02T11:21:15.017Z"
   },
   {
    "duration": 12,
    "start_time": "2023-07-02T11:21:15.461Z"
   },
   {
    "duration": 433,
    "start_time": "2023-07-02T11:21:15.474Z"
   },
   {
    "duration": 16,
    "start_time": "2023-07-02T11:21:15.917Z"
   },
   {
    "duration": 432,
    "start_time": "2023-07-02T11:21:15.934Z"
   },
   {
    "duration": 21,
    "start_time": "2023-07-02T11:21:16.368Z"
   },
   {
    "duration": 347,
    "start_time": "2023-07-02T11:21:16.390Z"
   },
   {
    "duration": 20,
    "start_time": "2023-07-02T11:21:16.738Z"
   },
   {
    "duration": 299,
    "start_time": "2023-07-02T11:21:16.759Z"
   },
   {
    "duration": 254,
    "start_time": "2023-07-02T11:21:17.059Z"
   },
   {
    "duration": 17,
    "start_time": "2023-07-02T11:21:17.321Z"
   },
   {
    "duration": 50,
    "start_time": "2023-07-02T11:21:17.340Z"
   },
   {
    "duration": 47,
    "start_time": "2023-07-02T11:21:17.392Z"
   },
   {
    "duration": 38,
    "start_time": "2023-07-02T11:21:17.440Z"
   },
   {
    "duration": 278,
    "start_time": "2023-07-02T11:21:17.479Z"
   },
   {
    "duration": 310,
    "start_time": "2023-07-02T11:21:17.758Z"
   },
   {
    "duration": 5,
    "start_time": "2023-07-02T11:21:18.069Z"
   },
   {
    "duration": 543,
    "start_time": "2023-07-02T11:21:18.075Z"
   },
   {
    "duration": 526,
    "start_time": "2023-07-02T11:21:18.621Z"
   },
   {
    "duration": 528,
    "start_time": "2023-07-02T11:21:19.148Z"
   },
   {
    "duration": 95,
    "start_time": "2023-07-02T11:35:14.522Z"
   },
   {
    "duration": 4,
    "start_time": "2023-07-02T11:35:24.516Z"
   },
   {
    "duration": 82,
    "start_time": "2023-07-02T11:36:55.971Z"
   },
   {
    "duration": 62,
    "start_time": "2023-07-02T11:36:59.327Z"
   },
   {
    "duration": 109,
    "start_time": "2023-07-02T11:38:01.924Z"
   },
   {
    "duration": 8,
    "start_time": "2023-07-02T11:38:43.770Z"
   },
   {
    "duration": 8,
    "start_time": "2023-07-02T11:40:54.235Z"
   },
   {
    "duration": 15,
    "start_time": "2023-07-02T11:41:15.814Z"
   },
   {
    "duration": 8,
    "start_time": "2023-07-02T11:42:39.920Z"
   },
   {
    "duration": 1174,
    "start_time": "2023-07-02T11:43:11.523Z"
   },
   {
    "duration": 1226,
    "start_time": "2023-07-02T11:43:22.218Z"
   },
   {
    "duration": 292,
    "start_time": "2023-07-02T11:44:25.491Z"
   },
   {
    "duration": 3,
    "start_time": "2023-07-02T11:44:50.538Z"
   },
   {
    "duration": 36,
    "start_time": "2023-07-02T11:44:51.175Z"
   },
   {
    "duration": 42,
    "start_time": "2023-07-02T11:45:14.307Z"
   },
   {
    "duration": 33,
    "start_time": "2023-07-02T11:45:52.816Z"
   },
   {
    "duration": 1200,
    "start_time": "2023-07-02T11:46:14.531Z"
   },
   {
    "duration": 65,
    "start_time": "2023-07-02T11:46:15.733Z"
   },
   {
    "duration": 29,
    "start_time": "2023-07-02T11:46:15.799Z"
   },
   {
    "duration": 26,
    "start_time": "2023-07-02T11:46:15.834Z"
   },
   {
    "duration": 2,
    "start_time": "2023-07-02T11:46:15.862Z"
   },
   {
    "duration": 17,
    "start_time": "2023-07-02T11:46:15.866Z"
   },
   {
    "duration": 36,
    "start_time": "2023-07-02T11:46:15.884Z"
   },
   {
    "duration": 40,
    "start_time": "2023-07-02T11:46:15.921Z"
   },
   {
    "duration": 79,
    "start_time": "2023-07-02T11:46:15.964Z"
   },
   {
    "duration": 80,
    "start_time": "2023-07-02T11:46:16.045Z"
   },
   {
    "duration": 23,
    "start_time": "2023-07-02T11:46:16.127Z"
   },
   {
    "duration": 32,
    "start_time": "2023-07-02T11:46:16.152Z"
   },
   {
    "duration": 20,
    "start_time": "2023-07-02T11:46:16.186Z"
   },
   {
    "duration": 35,
    "start_time": "2023-07-02T11:46:16.215Z"
   },
   {
    "duration": 21,
    "start_time": "2023-07-02T11:46:16.252Z"
   },
   {
    "duration": 17,
    "start_time": "2023-07-02T11:46:16.275Z"
   },
   {
    "duration": 49,
    "start_time": "2023-07-02T11:46:16.294Z"
   },
   {
    "duration": 7,
    "start_time": "2023-07-02T11:46:16.345Z"
   },
   {
    "duration": 16,
    "start_time": "2023-07-02T11:46:16.354Z"
   },
   {
    "duration": 265,
    "start_time": "2023-07-02T11:46:16.372Z"
   },
   {
    "duration": 13,
    "start_time": "2023-07-02T11:46:16.639Z"
   },
   {
    "duration": 345,
    "start_time": "2023-07-02T11:46:16.653Z"
   },
   {
    "duration": 12,
    "start_time": "2023-07-02T11:46:17.018Z"
   },
   {
    "duration": 314,
    "start_time": "2023-07-02T11:46:17.032Z"
   },
   {
    "duration": 20,
    "start_time": "2023-07-02T11:46:17.348Z"
   },
   {
    "duration": 269,
    "start_time": "2023-07-02T11:46:17.370Z"
   },
   {
    "duration": 10,
    "start_time": "2023-07-02T11:46:17.641Z"
   },
   {
    "duration": 209,
    "start_time": "2023-07-02T11:46:17.653Z"
   },
   {
    "duration": 200,
    "start_time": "2023-07-02T11:46:17.863Z"
   },
   {
    "duration": 3,
    "start_time": "2023-07-02T11:46:18.064Z"
   },
   {
    "duration": 51,
    "start_time": "2023-07-02T11:46:18.069Z"
   },
   {
    "duration": 6,
    "start_time": "2023-07-02T11:46:18.130Z"
   },
   {
    "duration": 235,
    "start_time": "2023-07-02T11:46:18.137Z"
   },
   {
    "duration": 278,
    "start_time": "2023-07-02T11:46:18.373Z"
   },
   {
    "duration": 5,
    "start_time": "2023-07-02T11:46:18.653Z"
   },
   {
    "duration": 517,
    "start_time": "2023-07-02T11:46:18.659Z"
   },
   {
    "duration": 495,
    "start_time": "2023-07-02T11:46:19.177Z"
   },
   {
    "duration": 510,
    "start_time": "2023-07-02T11:46:19.674Z"
   },
   {
    "duration": 365,
    "start_time": "2023-07-02T11:47:37.027Z"
   },
   {
    "duration": 21,
    "start_time": "2023-07-02T11:49:56.765Z"
   },
   {
    "duration": 1157,
    "start_time": "2023-07-02T11:51:03.998Z"
   },
   {
    "duration": 15,
    "start_time": "2023-07-02T11:51:07.337Z"
   },
   {
    "duration": 25,
    "start_time": "2023-07-02T11:51:32.329Z"
   },
   {
    "duration": 12,
    "start_time": "2023-07-02T11:52:39.041Z"
   },
   {
    "duration": 11,
    "start_time": "2023-07-02T12:14:24.963Z"
   },
   {
    "duration": 20,
    "start_time": "2023-07-02T12:15:00.833Z"
   },
   {
    "duration": 29,
    "start_time": "2023-07-02T12:15:42.488Z"
   },
   {
    "duration": 5,
    "start_time": "2023-07-02T12:18:56.468Z"
   },
   {
    "duration": 160,
    "start_time": "2023-07-02T12:19:09.765Z"
   },
   {
    "duration": 8,
    "start_time": "2023-07-02T12:19:29.197Z"
   },
   {
    "duration": 8,
    "start_time": "2023-07-02T12:19:50.833Z"
   },
   {
    "duration": 5,
    "start_time": "2023-07-02T12:20:05.096Z"
   },
   {
    "duration": 136,
    "start_time": "2023-07-03T05:33:59.115Z"
   },
   {
    "duration": 48,
    "start_time": "2023-07-03T05:34:10.797Z"
   },
   {
    "duration": 25,
    "start_time": "2023-07-03T05:34:23.257Z"
   },
   {
    "duration": 9,
    "start_time": "2023-07-03T05:34:54.087Z"
   },
   {
    "duration": 19,
    "start_time": "2023-07-03T05:34:54.975Z"
   },
   {
    "duration": 20,
    "start_time": "2023-07-03T05:34:57.159Z"
   },
   {
    "duration": 1554,
    "start_time": "2023-07-03T05:35:05.364Z"
   },
   {
    "duration": 168,
    "start_time": "2023-07-03T05:35:06.921Z"
   },
   {
    "duration": 15,
    "start_time": "2023-07-03T05:35:07.090Z"
   },
   {
    "duration": 45,
    "start_time": "2023-07-03T05:35:07.107Z"
   },
   {
    "duration": 7,
    "start_time": "2023-07-03T05:35:07.164Z"
   },
   {
    "duration": 25,
    "start_time": "2023-07-03T05:35:07.180Z"
   },
   {
    "duration": 14,
    "start_time": "2023-07-03T05:35:07.206Z"
   },
   {
    "duration": 5,
    "start_time": "2023-07-03T05:35:07.222Z"
   },
   {
    "duration": 51,
    "start_time": "2023-07-03T05:35:07.228Z"
   },
   {
    "duration": 25,
    "start_time": "2023-07-03T05:35:07.280Z"
   },
   {
    "duration": 5,
    "start_time": "2023-07-03T05:35:07.306Z"
   },
   {
    "duration": 8,
    "start_time": "2023-07-03T05:35:07.312Z"
   },
   {
    "duration": 42,
    "start_time": "2023-07-03T05:35:07.321Z"
   },
   {
    "duration": 43,
    "start_time": "2023-07-03T05:35:07.373Z"
   },
   {
    "duration": 7,
    "start_time": "2023-07-03T05:35:07.418Z"
   },
   {
    "duration": 8,
    "start_time": "2023-07-03T05:35:07.426Z"
   },
   {
    "duration": 57,
    "start_time": "2023-07-03T05:35:07.436Z"
   },
   {
    "duration": 5,
    "start_time": "2023-07-03T05:35:07.494Z"
   },
   {
    "duration": 22,
    "start_time": "2023-07-03T05:35:07.500Z"
   },
   {
    "duration": 370,
    "start_time": "2023-07-03T05:35:07.523Z"
   },
   {
    "duration": 10,
    "start_time": "2023-07-03T05:35:07.895Z"
   },
   {
    "duration": 416,
    "start_time": "2023-07-03T05:35:07.907Z"
   },
   {
    "duration": 22,
    "start_time": "2023-07-03T05:35:08.325Z"
   },
   {
    "duration": 507,
    "start_time": "2023-07-03T05:35:08.351Z"
   },
   {
    "duration": 25,
    "start_time": "2023-07-03T05:35:08.864Z"
   },
   {
    "duration": 295,
    "start_time": "2023-07-03T05:35:08.890Z"
   },
   {
    "duration": 11,
    "start_time": "2023-07-03T05:35:09.187Z"
   },
   {
    "duration": 241,
    "start_time": "2023-07-03T05:35:09.199Z"
   },
   {
    "duration": 243,
    "start_time": "2023-07-03T05:35:09.441Z"
   },
   {
    "duration": 14,
    "start_time": "2023-07-03T05:35:09.687Z"
   },
   {
    "duration": 12,
    "start_time": "2023-07-03T05:35:09.702Z"
   },
   {
    "duration": 37,
    "start_time": "2023-07-03T05:35:09.715Z"
   },
   {
    "duration": 281,
    "start_time": "2023-07-03T05:35:09.754Z"
   },
   {
    "duration": 357,
    "start_time": "2023-07-03T05:35:10.039Z"
   },
   {
    "duration": 5,
    "start_time": "2023-07-03T05:35:10.398Z"
   },
   {
    "duration": 634,
    "start_time": "2023-07-03T05:35:10.405Z"
   },
   {
    "duration": 620,
    "start_time": "2023-07-03T05:35:11.043Z"
   },
   {
    "duration": 637,
    "start_time": "2023-07-03T05:35:11.665Z"
   },
   {
    "duration": 87,
    "start_time": "2023-07-03T05:35:32.117Z"
   },
   {
    "duration": 33,
    "start_time": "2023-07-03T05:35:37.652Z"
   },
   {
    "duration": 15,
    "start_time": "2023-07-03T05:35:45.173Z"
   },
   {
    "duration": 15,
    "start_time": "2023-07-03T05:35:52.074Z"
   },
   {
    "duration": 30,
    "start_time": "2023-07-03T09:02:04.941Z"
   },
   {
    "duration": 16,
    "start_time": "2023-07-03T09:04:07.506Z"
   },
   {
    "duration": 198,
    "start_time": "2023-07-03T09:07:40.696Z"
   },
   {
    "duration": 223,
    "start_time": "2023-07-03T09:07:53.160Z"
   },
   {
    "duration": 216,
    "start_time": "2023-07-03T09:08:26.532Z"
   },
   {
    "duration": 240,
    "start_time": "2023-07-03T09:08:34.701Z"
   },
   {
    "duration": 7,
    "start_time": "2023-07-03T09:08:51.138Z"
   },
   {
    "duration": 201,
    "start_time": "2023-07-03T09:51:11.002Z"
   },
   {
    "duration": 9,
    "start_time": "2023-07-03T09:51:46.521Z"
   },
   {
    "duration": 7,
    "start_time": "2023-07-03T09:51:50.520Z"
   },
   {
    "duration": 6,
    "start_time": "2023-07-03T09:51:58.837Z"
   },
   {
    "duration": 7,
    "start_time": "2023-07-03T09:52:02.711Z"
   },
   {
    "duration": 5,
    "start_time": "2023-07-03T09:52:05.802Z"
   },
   {
    "duration": 11,
    "start_time": "2023-07-03T09:52:32.017Z"
   },
   {
    "duration": 17,
    "start_time": "2023-07-03T09:55:22.067Z"
   },
   {
    "duration": 12,
    "start_time": "2023-07-03T09:55:35.115Z"
   },
   {
    "duration": 5,
    "start_time": "2023-07-03T09:56:28.289Z"
   },
   {
    "duration": 6,
    "start_time": "2023-07-03T09:56:36.864Z"
   },
   {
    "duration": 12,
    "start_time": "2023-07-03T09:57:11.625Z"
   },
   {
    "duration": 13,
    "start_time": "2023-07-03T09:58:20.363Z"
   },
   {
    "duration": 840,
    "start_time": "2023-07-03T09:59:54.519Z"
   },
   {
    "duration": 212,
    "start_time": "2023-07-03T10:01:27.324Z"
   },
   {
    "duration": 195,
    "start_time": "2023-07-03T10:02:07.874Z"
   },
   {
    "duration": 193,
    "start_time": "2023-07-03T10:02:54.874Z"
   },
   {
    "duration": 212,
    "start_time": "2023-07-03T10:08:39.851Z"
   },
   {
    "duration": 181,
    "start_time": "2023-07-03T10:08:51.181Z"
   },
   {
    "duration": 185,
    "start_time": "2023-07-03T10:08:56.923Z"
   },
   {
    "duration": 209,
    "start_time": "2023-07-03T10:09:04.307Z"
   },
   {
    "duration": 14,
    "start_time": "2023-07-03T10:09:42.901Z"
   },
   {
    "duration": 13,
    "start_time": "2023-07-03T10:09:58.921Z"
   },
   {
    "duration": 13,
    "start_time": "2023-07-03T10:10:23.973Z"
   },
   {
    "duration": 134,
    "start_time": "2023-07-03T10:35:37.669Z"
   },
   {
    "duration": 140,
    "start_time": "2023-07-03T10:35:57.488Z"
   },
   {
    "duration": 99,
    "start_time": "2023-07-03T10:36:46.382Z"
   },
   {
    "duration": 9,
    "start_time": "2023-07-03T10:36:58.954Z"
   },
   {
    "duration": 9,
    "start_time": "2023-07-03T10:37:35.215Z"
   },
   {
    "duration": 17,
    "start_time": "2023-07-03T10:37:41.546Z"
   },
   {
    "duration": 14,
    "start_time": "2023-07-03T10:37:50.426Z"
   },
   {
    "duration": 14,
    "start_time": "2023-07-03T10:37:57.292Z"
   },
   {
    "duration": 16,
    "start_time": "2023-07-03T10:39:07.426Z"
   },
   {
    "duration": 17,
    "start_time": "2023-07-03T10:39:24.895Z"
   },
   {
    "duration": 14,
    "start_time": "2023-07-03T10:39:30.341Z"
   },
   {
    "duration": 15,
    "start_time": "2023-07-03T10:41:58.494Z"
   },
   {
    "duration": 16,
    "start_time": "2023-07-03T10:46:14.515Z"
   },
   {
    "duration": 16,
    "start_time": "2023-07-03T10:46:19.127Z"
   },
   {
    "duration": 14,
    "start_time": "2023-07-03T10:46:27.917Z"
   },
   {
    "duration": 1282,
    "start_time": "2023-07-03T11:16:53.553Z"
   },
   {
    "duration": 90,
    "start_time": "2023-07-03T11:16:54.838Z"
   },
   {
    "duration": 19,
    "start_time": "2023-07-03T11:16:54.930Z"
   },
   {
    "duration": 59,
    "start_time": "2023-07-03T11:16:54.951Z"
   },
   {
    "duration": 58,
    "start_time": "2023-07-03T11:16:55.012Z"
   },
   {
    "duration": 43,
    "start_time": "2023-07-03T11:16:55.071Z"
   },
   {
    "duration": 39,
    "start_time": "2023-07-03T11:16:55.115Z"
   },
   {
    "duration": 21,
    "start_time": "2023-07-03T11:16:55.156Z"
   },
   {
    "duration": 11,
    "start_time": "2023-07-03T11:16:55.179Z"
   },
   {
    "duration": 28,
    "start_time": "2023-07-03T11:16:55.191Z"
   },
   {
    "duration": 20,
    "start_time": "2023-07-03T11:16:55.221Z"
   },
   {
    "duration": 25,
    "start_time": "2023-07-03T11:16:55.243Z"
   },
   {
    "duration": 20,
    "start_time": "2023-07-03T11:16:55.269Z"
   },
   {
    "duration": 10,
    "start_time": "2023-07-03T11:16:55.291Z"
   },
   {
    "duration": 10,
    "start_time": "2023-07-03T11:16:55.302Z"
   },
   {
    "duration": 27,
    "start_time": "2023-07-03T11:16:55.314Z"
   },
   {
    "duration": 35,
    "start_time": "2023-07-03T11:16:55.345Z"
   },
   {
    "duration": 5,
    "start_time": "2023-07-03T11:16:55.381Z"
   },
   {
    "duration": 25,
    "start_time": "2023-07-03T11:16:55.388Z"
   },
   {
    "duration": 266,
    "start_time": "2023-07-03T11:16:55.415Z"
   },
   {
    "duration": 11,
    "start_time": "2023-07-03T11:16:55.683Z"
   },
   {
    "duration": 426,
    "start_time": "2023-07-03T11:16:55.695Z"
   },
   {
    "duration": 17,
    "start_time": "2023-07-03T11:16:56.123Z"
   },
   {
    "duration": 359,
    "start_time": "2023-07-03T11:16:56.142Z"
   },
   {
    "duration": 22,
    "start_time": "2023-07-03T11:16:56.503Z"
   },
   {
    "duration": 290,
    "start_time": "2023-07-03T11:16:56.526Z"
   },
   {
    "duration": 18,
    "start_time": "2023-07-03T11:16:56.818Z"
   },
   {
    "duration": 212,
    "start_time": "2023-07-03T11:16:56.838Z"
   },
   {
    "duration": 200,
    "start_time": "2023-07-03T11:16:57.052Z"
   },
   {
    "duration": 29,
    "start_time": "2023-07-03T11:16:57.254Z"
   },
   {
    "duration": 241,
    "start_time": "2023-07-03T11:16:57.284Z"
   },
   {
    "duration": 331,
    "start_time": "2023-07-03T11:16:57.527Z"
   },
   {
    "duration": 5,
    "start_time": "2023-07-03T11:16:57.860Z"
   },
   {
    "duration": 525,
    "start_time": "2023-07-03T11:16:57.867Z"
   },
   {
    "duration": 561,
    "start_time": "2023-07-03T11:16:58.393Z"
   },
   {
    "duration": 512,
    "start_time": "2023-07-03T11:16:58.956Z"
   },
   {
    "duration": 16,
    "start_time": "2023-07-03T11:16:59.470Z"
   },
   {
    "duration": 241,
    "start_time": "2023-07-03T11:16:59.488Z"
   },
   {
    "duration": 14,
    "start_time": "2023-07-03T11:16:59.730Z"
   },
   {
    "duration": 14,
    "start_time": "2023-07-03T11:16:59.745Z"
   },
   {
    "duration": 1411,
    "start_time": "2023-07-03T11:31:20.717Z"
   },
   {
    "duration": 206,
    "start_time": "2023-07-03T11:31:22.130Z"
   },
   {
    "duration": 14,
    "start_time": "2023-07-03T11:31:22.337Z"
   },
   {
    "duration": 31,
    "start_time": "2023-07-03T11:31:22.353Z"
   },
   {
    "duration": 3,
    "start_time": "2023-07-03T11:31:22.386Z"
   },
   {
    "duration": 21,
    "start_time": "2023-07-03T11:31:22.390Z"
   },
   {
    "duration": 13,
    "start_time": "2023-07-03T11:31:22.412Z"
   },
   {
    "duration": 5,
    "start_time": "2023-07-03T11:31:22.426Z"
   },
   {
    "duration": 28,
    "start_time": "2023-07-03T11:31:22.433Z"
   },
   {
    "duration": 21,
    "start_time": "2023-07-03T11:31:22.462Z"
   },
   {
    "duration": 7,
    "start_time": "2023-07-03T11:31:22.484Z"
   },
   {
    "duration": 8,
    "start_time": "2023-07-03T11:31:22.493Z"
   },
   {
    "duration": 18,
    "start_time": "2023-07-03T11:31:22.503Z"
   },
   {
    "duration": 34,
    "start_time": "2023-07-03T11:31:22.524Z"
   },
   {
    "duration": 7,
    "start_time": "2023-07-03T11:31:22.560Z"
   },
   {
    "duration": 5,
    "start_time": "2023-07-03T11:31:22.569Z"
   },
   {
    "duration": 20,
    "start_time": "2023-07-03T11:31:22.575Z"
   },
   {
    "duration": 5,
    "start_time": "2023-07-03T11:31:22.597Z"
   },
   {
    "duration": 17,
    "start_time": "2023-07-03T11:31:22.604Z"
   },
   {
    "duration": 260,
    "start_time": "2023-07-03T11:31:22.623Z"
   },
   {
    "duration": 8,
    "start_time": "2023-07-03T11:31:22.885Z"
   },
   {
    "duration": 389,
    "start_time": "2023-07-03T11:31:22.894Z"
   },
   {
    "duration": 8,
    "start_time": "2023-07-03T11:31:23.285Z"
   },
   {
    "duration": 351,
    "start_time": "2023-07-03T11:31:23.294Z"
   },
   {
    "duration": 24,
    "start_time": "2023-07-03T11:31:23.647Z"
   },
   {
    "duration": 278,
    "start_time": "2023-07-03T11:31:23.672Z"
   },
   {
    "duration": 13,
    "start_time": "2023-07-03T11:31:23.956Z"
   },
   {
    "duration": 221,
    "start_time": "2023-07-03T11:31:23.970Z"
   },
   {
    "duration": 220,
    "start_time": "2023-07-03T11:31:24.193Z"
   },
   {
    "duration": 40,
    "start_time": "2023-07-03T11:31:24.415Z"
   },
   {
    "duration": 239,
    "start_time": "2023-07-03T11:31:24.457Z"
   },
   {
    "duration": 325,
    "start_time": "2023-07-03T11:31:24.698Z"
   },
   {
    "duration": 5,
    "start_time": "2023-07-03T11:31:25.025Z"
   },
   {
    "duration": 547,
    "start_time": "2023-07-03T11:31:25.031Z"
   },
   {
    "duration": 525,
    "start_time": "2023-07-03T11:31:25.580Z"
   },
   {
    "duration": 530,
    "start_time": "2023-07-03T11:31:26.107Z"
   },
   {
    "duration": 24,
    "start_time": "2023-07-03T11:31:26.639Z"
   },
   {
    "duration": 207,
    "start_time": "2023-07-03T11:31:26.665Z"
   },
   {
    "duration": 13,
    "start_time": "2023-07-03T11:31:26.874Z"
   },
   {
    "duration": 13,
    "start_time": "2023-07-03T11:31:26.889Z"
   },
   {
    "duration": 29,
    "start_time": "2023-07-03T12:55:36.406Z"
   },
   {
    "duration": 1841,
    "start_time": "2023-07-03T13:02:32.650Z"
   },
   {
    "duration": 31,
    "start_time": "2023-07-03T13:03:04.818Z"
   },
   {
    "duration": 15,
    "start_time": "2023-07-03T13:05:44.808Z"
   },
   {
    "duration": 13,
    "start_time": "2023-07-03T13:05:48.255Z"
   },
   {
    "duration": 12,
    "start_time": "2023-07-03T13:05:52.390Z"
   },
   {
    "duration": 22,
    "start_time": "2023-07-03T13:10:45.845Z"
   },
   {
    "duration": 7,
    "start_time": "2023-07-03T13:10:54.009Z"
   },
   {
    "duration": 19,
    "start_time": "2023-07-03T13:11:02.007Z"
   },
   {
    "duration": 1284,
    "start_time": "2023-07-03T13:11:19.541Z"
   },
   {
    "duration": 84,
    "start_time": "2023-07-03T13:11:20.827Z"
   },
   {
    "duration": 22,
    "start_time": "2023-07-03T13:11:20.913Z"
   },
   {
    "duration": 38,
    "start_time": "2023-07-03T13:11:20.938Z"
   },
   {
    "duration": 5,
    "start_time": "2023-07-03T13:11:20.977Z"
   },
   {
    "duration": 29,
    "start_time": "2023-07-03T13:11:20.983Z"
   },
   {
    "duration": 31,
    "start_time": "2023-07-03T13:11:21.014Z"
   },
   {
    "duration": 138,
    "start_time": "2023-07-03T13:11:21.049Z"
   },
   {
    "duration": 0,
    "start_time": "2023-07-03T13:11:21.189Z"
   },
   {
    "duration": 0,
    "start_time": "2023-07-03T13:11:21.191Z"
   },
   {
    "duration": 0,
    "start_time": "2023-07-03T13:11:21.193Z"
   },
   {
    "duration": 0,
    "start_time": "2023-07-03T13:11:21.194Z"
   },
   {
    "duration": 0,
    "start_time": "2023-07-03T13:11:21.195Z"
   },
   {
    "duration": 0,
    "start_time": "2023-07-03T13:11:21.196Z"
   },
   {
    "duration": 0,
    "start_time": "2023-07-03T13:11:21.197Z"
   },
   {
    "duration": 0,
    "start_time": "2023-07-03T13:11:21.198Z"
   },
   {
    "duration": 0,
    "start_time": "2023-07-03T13:11:21.199Z"
   },
   {
    "duration": 0,
    "start_time": "2023-07-03T13:11:21.201Z"
   },
   {
    "duration": 0,
    "start_time": "2023-07-03T13:11:21.202Z"
   },
   {
    "duration": 0,
    "start_time": "2023-07-03T13:11:21.203Z"
   },
   {
    "duration": 0,
    "start_time": "2023-07-03T13:11:21.205Z"
   },
   {
    "duration": 0,
    "start_time": "2023-07-03T13:11:21.206Z"
   },
   {
    "duration": 0,
    "start_time": "2023-07-03T13:11:21.207Z"
   },
   {
    "duration": 0,
    "start_time": "2023-07-03T13:11:21.233Z"
   },
   {
    "duration": 0,
    "start_time": "2023-07-03T13:11:21.234Z"
   },
   {
    "duration": 0,
    "start_time": "2023-07-03T13:11:21.236Z"
   },
   {
    "duration": 0,
    "start_time": "2023-07-03T13:11:21.237Z"
   },
   {
    "duration": 0,
    "start_time": "2023-07-03T13:11:21.239Z"
   },
   {
    "duration": 0,
    "start_time": "2023-07-03T13:11:21.240Z"
   },
   {
    "duration": 0,
    "start_time": "2023-07-03T13:11:21.242Z"
   },
   {
    "duration": 0,
    "start_time": "2023-07-03T13:11:21.243Z"
   },
   {
    "duration": 0,
    "start_time": "2023-07-03T13:11:21.245Z"
   },
   {
    "duration": 0,
    "start_time": "2023-07-03T13:11:21.247Z"
   },
   {
    "duration": 0,
    "start_time": "2023-07-03T13:11:21.248Z"
   },
   {
    "duration": 0,
    "start_time": "2023-07-03T13:11:21.250Z"
   },
   {
    "duration": 0,
    "start_time": "2023-07-03T13:11:21.252Z"
   },
   {
    "duration": 0,
    "start_time": "2023-07-03T13:11:21.254Z"
   },
   {
    "duration": 0,
    "start_time": "2023-07-03T13:11:21.257Z"
   },
   {
    "duration": 0,
    "start_time": "2023-07-03T13:11:21.258Z"
   },
   {
    "duration": 0,
    "start_time": "2023-07-03T13:11:21.260Z"
   },
   {
    "duration": 0,
    "start_time": "2023-07-03T13:11:21.261Z"
   },
   {
    "duration": 0,
    "start_time": "2023-07-03T13:11:21.263Z"
   },
   {
    "duration": 8,
    "start_time": "2023-07-03T13:11:35.424Z"
   },
   {
    "duration": 19,
    "start_time": "2023-07-03T13:11:38.146Z"
   },
   {
    "duration": 1297,
    "start_time": "2023-07-03T13:11:43.007Z"
   },
   {
    "duration": 80,
    "start_time": "2023-07-03T13:11:44.306Z"
   },
   {
    "duration": 14,
    "start_time": "2023-07-03T13:11:44.388Z"
   },
   {
    "duration": 77,
    "start_time": "2023-07-03T13:11:44.404Z"
   },
   {
    "duration": 17,
    "start_time": "2023-07-03T13:11:44.483Z"
   },
   {
    "duration": 33,
    "start_time": "2023-07-03T13:11:44.501Z"
   },
   {
    "duration": 64,
    "start_time": "2023-07-03T13:11:44.536Z"
   },
   {
    "duration": 20,
    "start_time": "2023-07-03T13:11:44.602Z"
   },
   {
    "duration": 34,
    "start_time": "2023-07-03T13:11:44.625Z"
   },
   {
    "duration": 27,
    "start_time": "2023-07-03T13:11:44.661Z"
   },
   {
    "duration": 43,
    "start_time": "2023-07-03T13:11:44.690Z"
   },
   {
    "duration": 105,
    "start_time": "2023-07-03T13:11:44.735Z"
   },
   {
    "duration": 61,
    "start_time": "2023-07-03T13:11:44.842Z"
   },
   {
    "duration": 31,
    "start_time": "2023-07-03T13:11:44.907Z"
   },
   {
    "duration": 62,
    "start_time": "2023-07-03T13:11:44.940Z"
   },
   {
    "duration": 76,
    "start_time": "2023-07-03T13:11:45.004Z"
   },
   {
    "duration": 106,
    "start_time": "2023-07-03T13:11:45.082Z"
   },
   {
    "duration": 47,
    "start_time": "2023-07-03T13:11:45.191Z"
   },
   {
    "duration": 64,
    "start_time": "2023-07-03T13:11:45.240Z"
   },
   {
    "duration": 22,
    "start_time": "2023-07-03T13:11:45.306Z"
   },
   {
    "duration": 72,
    "start_time": "2023-07-03T13:11:45.330Z"
   },
   {
    "duration": 300,
    "start_time": "2023-07-03T13:11:45.404Z"
   },
   {
    "duration": 15,
    "start_time": "2023-07-03T13:11:45.706Z"
   },
   {
    "duration": 483,
    "start_time": "2023-07-03T13:11:45.733Z"
   },
   {
    "duration": 14,
    "start_time": "2023-07-03T13:11:46.218Z"
   },
   {
    "duration": 379,
    "start_time": "2023-07-03T13:11:46.234Z"
   },
   {
    "duration": 32,
    "start_time": "2023-07-03T13:11:46.615Z"
   },
   {
    "duration": 340,
    "start_time": "2023-07-03T13:11:46.652Z"
   },
   {
    "duration": 12,
    "start_time": "2023-07-03T13:11:46.994Z"
   },
   {
    "duration": 294,
    "start_time": "2023-07-03T13:11:47.008Z"
   },
   {
    "duration": 335,
    "start_time": "2023-07-03T13:11:47.304Z"
   },
   {
    "duration": 34,
    "start_time": "2023-07-03T13:11:47.641Z"
   },
   {
    "duration": 296,
    "start_time": "2023-07-03T13:11:47.677Z"
   },
   {
    "duration": 554,
    "start_time": "2023-07-03T13:11:47.975Z"
   },
   {
    "duration": 11,
    "start_time": "2023-07-03T13:11:48.530Z"
   },
   {
    "duration": 779,
    "start_time": "2023-07-03T13:11:48.544Z"
   },
   {
    "duration": 688,
    "start_time": "2023-07-03T13:11:49.325Z"
   },
   {
    "duration": 770,
    "start_time": "2023-07-03T13:11:50.015Z"
   },
   {
    "duration": 19,
    "start_time": "2023-07-03T13:11:50.788Z"
   },
   {
    "duration": 242,
    "start_time": "2023-07-03T13:11:50.809Z"
   },
   {
    "duration": 14,
    "start_time": "2023-07-03T13:11:51.055Z"
   },
   {
    "duration": 56,
    "start_time": "2023-07-03T13:11:51.071Z"
   },
   {
    "duration": 151,
    "start_time": "2023-07-03T13:14:29.827Z"
   },
   {
    "duration": 250,
    "start_time": "2023-07-03T13:14:36.586Z"
   },
   {
    "duration": 1047,
    "start_time": "2023-07-03T13:16:36.885Z"
   },
   {
    "duration": 246,
    "start_time": "2023-07-03T13:21:37.260Z"
   },
   {
    "duration": 386,
    "start_time": "2023-07-03T13:21:57.099Z"
   },
   {
    "duration": 106,
    "start_time": "2023-07-03T13:27:42.597Z"
   },
   {
    "duration": 204,
    "start_time": "2023-07-03T13:27:48.146Z"
   },
   {
    "duration": 271,
    "start_time": "2023-07-03T13:27:52.257Z"
   },
   {
    "duration": 261,
    "start_time": "2023-07-03T13:28:09.814Z"
   },
   {
    "duration": 241,
    "start_time": "2023-07-03T13:28:18.059Z"
   },
   {
    "duration": 241,
    "start_time": "2023-07-03T13:28:28.408Z"
   },
   {
    "duration": 385,
    "start_time": "2023-07-03T13:28:55.989Z"
   },
   {
    "duration": 265,
    "start_time": "2023-07-03T13:29:04.768Z"
   },
   {
    "duration": 241,
    "start_time": "2023-07-03T13:29:08.715Z"
   },
   {
    "duration": 265,
    "start_time": "2023-07-03T13:29:27.948Z"
   },
   {
    "duration": 307,
    "start_time": "2023-07-03T13:30:00.951Z"
   },
   {
    "duration": 306,
    "start_time": "2023-07-03T13:30:08.096Z"
   },
   {
    "duration": 699,
    "start_time": "2023-07-03T13:31:06.636Z"
   },
   {
    "duration": 12,
    "start_time": "2023-07-03T13:37:17.841Z"
   },
   {
    "duration": 10,
    "start_time": "2023-07-03T13:39:09.728Z"
   },
   {
    "duration": 12,
    "start_time": "2023-07-03T13:39:17.137Z"
   },
   {
    "duration": 13,
    "start_time": "2023-07-03T13:39:34.820Z"
   },
   {
    "duration": 1267,
    "start_time": "2023-07-03T13:39:44.061Z"
   },
   {
    "duration": 72,
    "start_time": "2023-07-03T13:39:45.329Z"
   },
   {
    "duration": 15,
    "start_time": "2023-07-03T13:39:45.403Z"
   },
   {
    "duration": 39,
    "start_time": "2023-07-03T13:39:45.420Z"
   },
   {
    "duration": 3,
    "start_time": "2023-07-03T13:39:45.461Z"
   },
   {
    "duration": 29,
    "start_time": "2023-07-03T13:39:45.466Z"
   },
   {
    "duration": 20,
    "start_time": "2023-07-03T13:39:45.497Z"
   },
   {
    "duration": 16,
    "start_time": "2023-07-03T13:39:45.519Z"
   },
   {
    "duration": 45,
    "start_time": "2023-07-03T13:39:45.537Z"
   },
   {
    "duration": 17,
    "start_time": "2023-07-03T13:39:45.587Z"
   },
   {
    "duration": 9,
    "start_time": "2023-07-03T13:39:45.607Z"
   },
   {
    "duration": 49,
    "start_time": "2023-07-03T13:39:45.618Z"
   },
   {
    "duration": 15,
    "start_time": "2023-07-03T13:39:45.678Z"
   },
   {
    "duration": 29,
    "start_time": "2023-07-03T13:39:45.695Z"
   },
   {
    "duration": 27,
    "start_time": "2023-07-03T13:39:45.727Z"
   },
   {
    "duration": 30,
    "start_time": "2023-07-03T13:39:45.757Z"
   },
   {
    "duration": 31,
    "start_time": "2023-07-03T13:39:45.788Z"
   },
   {
    "duration": 23,
    "start_time": "2023-07-03T13:39:45.822Z"
   },
   {
    "duration": 58,
    "start_time": "2023-07-03T13:39:45.858Z"
   },
   {
    "duration": 5,
    "start_time": "2023-07-03T13:39:45.917Z"
   },
   {
    "duration": 28,
    "start_time": "2023-07-03T13:39:45.924Z"
   },
   {
    "duration": 292,
    "start_time": "2023-07-03T13:39:45.954Z"
   },
   {
    "duration": 15,
    "start_time": "2023-07-03T13:39:46.248Z"
   },
   {
    "duration": 506,
    "start_time": "2023-07-03T13:39:46.271Z"
   },
   {
    "duration": 11,
    "start_time": "2023-07-03T13:39:46.779Z"
   },
   {
    "duration": 437,
    "start_time": "2023-07-03T13:39:46.792Z"
   },
   {
    "duration": 27,
    "start_time": "2023-07-03T13:39:47.231Z"
   },
   {
    "duration": 899,
    "start_time": "2023-07-03T13:39:47.262Z"
   },
   {
    "duration": 15,
    "start_time": "2023-07-03T13:39:48.163Z"
   },
   {
    "duration": 580,
    "start_time": "2023-07-03T13:39:48.181Z"
   },
   {
    "duration": 612,
    "start_time": "2023-07-03T13:39:48.765Z"
   },
   {
    "duration": 362,
    "start_time": "2023-07-03T13:39:49.379Z"
   },
   {
    "duration": 793,
    "start_time": "2023-07-03T13:39:49.743Z"
   },
   {
    "duration": 349,
    "start_time": "2023-07-03T13:39:50.539Z"
   },
   {
    "duration": 6,
    "start_time": "2023-07-03T13:39:50.890Z"
   },
   {
    "duration": 672,
    "start_time": "2023-07-03T13:39:50.898Z"
   },
   {
    "duration": 608,
    "start_time": "2023-07-03T13:39:51.572Z"
   },
   {
    "duration": 646,
    "start_time": "2023-07-03T13:39:52.182Z"
   },
   {
    "duration": 27,
    "start_time": "2023-07-03T13:39:52.832Z"
   },
   {
    "duration": 261,
    "start_time": "2023-07-03T13:39:52.861Z"
   },
   {
    "duration": 30,
    "start_time": "2023-07-03T13:39:53.125Z"
   },
   {
    "duration": 59,
    "start_time": "2023-07-03T13:39:53.158Z"
   },
   {
    "duration": 149,
    "start_time": "2023-07-03T13:41:09.599Z"
   },
   {
    "duration": 112,
    "start_time": "2023-07-03T13:43:05.321Z"
   },
   {
    "duration": 530,
    "start_time": "2023-07-03T13:43:15.922Z"
   },
   {
    "duration": 13,
    "start_time": "2023-07-03T13:47:04.423Z"
   },
   {
    "duration": 259,
    "start_time": "2023-07-03T13:47:15.608Z"
   },
   {
    "duration": 206,
    "start_time": "2023-07-03T13:47:55.253Z"
   },
   {
    "duration": 240,
    "start_time": "2023-07-03T13:48:00.552Z"
   },
   {
    "duration": 233,
    "start_time": "2023-07-03T13:48:13.552Z"
   },
   {
    "duration": 293,
    "start_time": "2023-07-03T13:48:36.887Z"
   },
   {
    "duration": 350,
    "start_time": "2023-07-03T13:49:29.957Z"
   },
   {
    "duration": 334,
    "start_time": "2023-07-03T13:50:14.264Z"
   },
   {
    "duration": 457,
    "start_time": "2023-07-03T13:52:08.998Z"
   },
   {
    "duration": 408,
    "start_time": "2023-07-03T13:52:18.101Z"
   },
   {
    "duration": 415,
    "start_time": "2023-07-03T13:52:27.965Z"
   },
   {
    "duration": 440,
    "start_time": "2023-07-03T14:03:20.715Z"
   },
   {
    "duration": 359,
    "start_time": "2023-07-03T14:05:59.016Z"
   },
   {
    "duration": 468,
    "start_time": "2023-07-03T14:06:18.596Z"
   },
   {
    "duration": 1406,
    "start_time": "2023-07-03T14:13:45.258Z"
   },
   {
    "duration": 84,
    "start_time": "2023-07-03T14:13:46.667Z"
   },
   {
    "duration": 17,
    "start_time": "2023-07-03T14:13:46.921Z"
   },
   {
    "duration": 27,
    "start_time": "2023-07-03T14:13:48.352Z"
   },
   {
    "duration": 3,
    "start_time": "2023-07-03T14:13:53.227Z"
   },
   {
    "duration": 18,
    "start_time": "2023-07-03T14:13:56.959Z"
   },
   {
    "duration": 36,
    "start_time": "2023-07-03T14:14:00.516Z"
   },
   {
    "duration": 10,
    "start_time": "2023-07-03T14:14:13.325Z"
   },
   {
    "duration": 19,
    "start_time": "2023-07-03T14:14:13.446Z"
   },
   {
    "duration": 119,
    "start_time": "2023-07-03T14:15:03.765Z"
   },
   {
    "duration": 17,
    "start_time": "2023-07-03T14:15:26.050Z"
   },
   {
    "duration": 1210,
    "start_time": "2023-07-03T14:15:32.427Z"
   },
   {
    "duration": 98,
    "start_time": "2023-07-03T14:15:33.638Z"
   },
   {
    "duration": 30,
    "start_time": "2023-07-03T14:15:33.738Z"
   },
   {
    "duration": 69,
    "start_time": "2023-07-03T14:15:33.770Z"
   },
   {
    "duration": 4,
    "start_time": "2023-07-03T14:15:33.848Z"
   },
   {
    "duration": 33,
    "start_time": "2023-07-03T14:15:33.854Z"
   },
   {
    "duration": 22,
    "start_time": "2023-07-03T14:15:33.889Z"
   },
   {
    "duration": 11,
    "start_time": "2023-07-03T14:15:33.913Z"
   },
   {
    "duration": 35,
    "start_time": "2023-07-03T14:15:33.926Z"
   },
   {
    "duration": 35,
    "start_time": "2023-07-03T14:15:33.964Z"
   },
   {
    "duration": 62,
    "start_time": "2023-07-03T14:15:34.001Z"
   },
   {
    "duration": 42,
    "start_time": "2023-07-03T14:15:34.065Z"
   },
   {
    "duration": 26,
    "start_time": "2023-07-03T14:15:34.109Z"
   },
   {
    "duration": 30,
    "start_time": "2023-07-03T14:15:34.140Z"
   },
   {
    "duration": 28,
    "start_time": "2023-07-03T14:15:34.172Z"
   },
   {
    "duration": 23,
    "start_time": "2023-07-03T14:15:34.201Z"
   },
   {
    "duration": 22,
    "start_time": "2023-07-03T14:15:34.225Z"
   },
   {
    "duration": 29,
    "start_time": "2023-07-03T14:15:34.248Z"
   },
   {
    "duration": 34,
    "start_time": "2023-07-03T14:15:34.278Z"
   },
   {
    "duration": 5,
    "start_time": "2023-07-03T14:15:34.314Z"
   },
   {
    "duration": 57,
    "start_time": "2023-07-03T14:15:34.321Z"
   },
   {
    "duration": 304,
    "start_time": "2023-07-03T14:15:34.381Z"
   },
   {
    "duration": 11,
    "start_time": "2023-07-03T14:15:34.687Z"
   },
   {
    "duration": 450,
    "start_time": "2023-07-03T14:15:34.700Z"
   },
   {
    "duration": 8,
    "start_time": "2023-07-03T14:15:35.151Z"
   },
   {
    "duration": 353,
    "start_time": "2023-07-03T14:15:35.160Z"
   },
   {
    "duration": 25,
    "start_time": "2023-07-03T14:15:35.515Z"
   },
   {
    "duration": 337,
    "start_time": "2023-07-03T14:15:35.548Z"
   },
   {
    "duration": 12,
    "start_time": "2023-07-03T14:15:35.886Z"
   },
   {
    "duration": 226,
    "start_time": "2023-07-03T14:15:35.899Z"
   },
   {
    "duration": 226,
    "start_time": "2023-07-03T14:15:36.127Z"
   },
   {
    "duration": 31,
    "start_time": "2023-07-03T14:15:36.356Z"
   },
   {
    "duration": 273,
    "start_time": "2023-07-03T14:15:36.389Z"
   },
   {
    "duration": 446,
    "start_time": "2023-07-03T14:15:36.663Z"
   },
   {
    "duration": 265,
    "start_time": "2023-07-03T14:15:37.111Z"
   },
   {
    "duration": 5,
    "start_time": "2023-07-03T14:15:37.378Z"
   },
   {
    "duration": 1192,
    "start_time": "2023-07-03T14:15:37.385Z"
   },
   {
    "duration": 1149,
    "start_time": "2023-07-03T14:15:38.632Z"
   },
   {
    "duration": 555,
    "start_time": "2023-07-03T14:15:39.831Z"
   },
   {
    "duration": 17,
    "start_time": "2023-07-03T14:15:40.388Z"
   },
   {
    "duration": 234,
    "start_time": "2023-07-03T14:15:40.406Z"
   },
   {
    "duration": 20,
    "start_time": "2023-07-03T14:15:40.642Z"
   },
   {
    "duration": 20,
    "start_time": "2023-07-03T14:15:40.664Z"
   },
   {
    "duration": 2,
    "start_time": "2023-07-03T14:20:33.217Z"
   },
   {
    "duration": 1210,
    "start_time": "2023-07-03T14:23:42.905Z"
   },
   {
    "duration": 79,
    "start_time": "2023-07-03T14:23:44.117Z"
   },
   {
    "duration": 12,
    "start_time": "2023-07-03T14:23:44.197Z"
   },
   {
    "duration": 31,
    "start_time": "2023-07-03T14:23:44.211Z"
   },
   {
    "duration": 5,
    "start_time": "2023-07-03T14:23:44.245Z"
   },
   {
    "duration": 31,
    "start_time": "2023-07-03T14:23:44.252Z"
   },
   {
    "duration": 16,
    "start_time": "2023-07-03T14:23:44.285Z"
   },
   {
    "duration": 6,
    "start_time": "2023-07-03T14:23:44.302Z"
   },
   {
    "duration": 17,
    "start_time": "2023-07-03T14:23:44.309Z"
   },
   {
    "duration": 21,
    "start_time": "2023-07-03T14:23:44.331Z"
   },
   {
    "duration": 21,
    "start_time": "2023-07-03T14:23:44.354Z"
   },
   {
    "duration": 22,
    "start_time": "2023-07-03T14:23:44.377Z"
   },
   {
    "duration": 10,
    "start_time": "2023-07-03T14:23:44.401Z"
   },
   {
    "duration": 8,
    "start_time": "2023-07-03T14:23:44.412Z"
   },
   {
    "duration": 28,
    "start_time": "2023-07-03T14:23:44.421Z"
   },
   {
    "duration": 12,
    "start_time": "2023-07-03T14:23:44.452Z"
   },
   {
    "duration": 20,
    "start_time": "2023-07-03T14:23:44.465Z"
   },
   {
    "duration": 11,
    "start_time": "2023-07-03T14:23:44.486Z"
   },
   {
    "duration": 27,
    "start_time": "2023-07-03T14:23:44.499Z"
   },
   {
    "duration": 11,
    "start_time": "2023-07-03T14:23:44.528Z"
   },
   {
    "duration": 36,
    "start_time": "2023-07-03T14:23:44.540Z"
   },
   {
    "duration": 308,
    "start_time": "2023-07-03T14:23:44.578Z"
   },
   {
    "duration": 10,
    "start_time": "2023-07-03T14:23:44.888Z"
   },
   {
    "duration": 389,
    "start_time": "2023-07-03T14:23:44.900Z"
   },
   {
    "duration": 8,
    "start_time": "2023-07-03T14:23:45.290Z"
   },
   {
    "duration": 395,
    "start_time": "2023-07-03T14:23:45.300Z"
   },
   {
    "duration": 35,
    "start_time": "2023-07-03T14:23:45.698Z"
   },
   {
    "duration": 338,
    "start_time": "2023-07-03T14:23:45.742Z"
   },
   {
    "duration": 12,
    "start_time": "2023-07-03T14:23:46.082Z"
   },
   {
    "duration": 251,
    "start_time": "2023-07-03T14:23:46.096Z"
   },
   {
    "duration": 221,
    "start_time": "2023-07-03T14:23:46.350Z"
   },
   {
    "duration": 34,
    "start_time": "2023-07-03T14:23:46.574Z"
   },
   {
    "duration": 2,
    "start_time": "2023-07-03T14:23:46.610Z"
   },
   {
    "duration": 452,
    "start_time": "2023-07-03T14:23:46.632Z"
   },
   {
    "duration": 304,
    "start_time": "2023-07-03T14:23:47.086Z"
   },
   {
    "duration": 4,
    "start_time": "2023-07-03T14:23:47.392Z"
   },
   {
    "duration": 779,
    "start_time": "2023-07-03T14:23:47.398Z"
   },
   {
    "duration": 637,
    "start_time": "2023-07-03T14:23:48.178Z"
   },
   {
    "duration": 579,
    "start_time": "2023-07-03T14:23:48.817Z"
   },
   {
    "duration": 12,
    "start_time": "2023-07-03T14:23:49.397Z"
   },
   {
    "duration": 211,
    "start_time": "2023-07-03T14:23:49.410Z"
   },
   {
    "duration": 25,
    "start_time": "2023-07-03T14:23:49.622Z"
   },
   {
    "duration": 35,
    "start_time": "2023-07-03T14:23:49.649Z"
   },
   {
    "duration": 1147,
    "start_time": "2023-07-03T17:13:40.306Z"
   },
   {
    "duration": 121,
    "start_time": "2023-07-03T17:13:41.455Z"
   },
   {
    "duration": 21,
    "start_time": "2023-07-03T17:13:41.578Z"
   },
   {
    "duration": 64,
    "start_time": "2023-07-03T17:13:41.602Z"
   },
   {
    "duration": 3,
    "start_time": "2023-07-03T17:13:41.668Z"
   },
   {
    "duration": 50,
    "start_time": "2023-07-03T17:13:41.672Z"
   },
   {
    "duration": 17,
    "start_time": "2023-07-03T17:13:41.724Z"
   },
   {
    "duration": 6,
    "start_time": "2023-07-03T17:13:41.742Z"
   },
   {
    "duration": 12,
    "start_time": "2023-07-03T17:13:41.750Z"
   },
   {
    "duration": 5,
    "start_time": "2023-07-03T17:13:41.765Z"
   },
   {
    "duration": 33,
    "start_time": "2023-07-03T17:13:41.778Z"
   },
   {
    "duration": 24,
    "start_time": "2023-07-03T17:13:41.813Z"
   },
   {
    "duration": 5,
    "start_time": "2023-07-03T17:13:41.839Z"
   },
   {
    "duration": 8,
    "start_time": "2023-07-03T17:13:41.846Z"
   },
   {
    "duration": 21,
    "start_time": "2023-07-03T17:13:41.856Z"
   },
   {
    "duration": 10,
    "start_time": "2023-07-03T17:13:41.879Z"
   },
   {
    "duration": 15,
    "start_time": "2023-07-03T17:13:41.896Z"
   },
   {
    "duration": 8,
    "start_time": "2023-07-03T17:13:41.913Z"
   },
   {
    "duration": 14,
    "start_time": "2023-07-03T17:13:41.923Z"
   },
   {
    "duration": 4,
    "start_time": "2023-07-03T17:13:41.939Z"
   },
   {
    "duration": 17,
    "start_time": "2023-07-03T17:13:41.944Z"
   },
   {
    "duration": 269,
    "start_time": "2023-07-03T17:13:41.963Z"
   },
   {
    "duration": 10,
    "start_time": "2023-07-03T17:13:42.234Z"
   },
   {
    "duration": 385,
    "start_time": "2023-07-03T17:13:42.245Z"
   },
   {
    "duration": 7,
    "start_time": "2023-07-03T17:13:42.632Z"
   },
   {
    "duration": 347,
    "start_time": "2023-07-03T17:13:42.641Z"
   },
   {
    "duration": 21,
    "start_time": "2023-07-03T17:13:42.989Z"
   },
   {
    "duration": 316,
    "start_time": "2023-07-03T17:13:43.014Z"
   },
   {
    "duration": 11,
    "start_time": "2023-07-03T17:13:43.331Z"
   },
   {
    "duration": 220,
    "start_time": "2023-07-03T17:13:43.344Z"
   },
   {
    "duration": 234,
    "start_time": "2023-07-03T17:13:43.566Z"
   },
   {
    "duration": 44,
    "start_time": "2023-07-03T17:13:43.802Z"
   },
   {
    "duration": 17,
    "start_time": "2023-07-03T17:13:43.848Z"
   },
   {
    "duration": 479,
    "start_time": "2023-07-03T17:13:43.868Z"
   },
   {
    "duration": 239,
    "start_time": "2023-07-03T17:13:44.349Z"
   },
   {
    "duration": 5,
    "start_time": "2023-07-03T17:13:44.591Z"
   },
   {
    "duration": 525,
    "start_time": "2023-07-03T17:13:44.598Z"
   },
   {
    "duration": 537,
    "start_time": "2023-07-03T17:13:45.125Z"
   },
   {
    "duration": 533,
    "start_time": "2023-07-03T17:13:45.663Z"
   },
   {
    "duration": 13,
    "start_time": "2023-07-03T17:13:46.198Z"
   },
   {
    "duration": 248,
    "start_time": "2023-07-03T17:13:46.213Z"
   },
   {
    "duration": 34,
    "start_time": "2023-07-03T17:13:46.463Z"
   },
   {
    "duration": 28,
    "start_time": "2023-07-03T17:13:46.502Z"
   },
   {
    "duration": 49,
    "start_time": "2023-07-03T18:14:05.968Z"
   },
   {
    "duration": 1278,
    "start_time": "2023-07-07T06:18:47.067Z"
   },
   {
    "duration": 112,
    "start_time": "2023-07-07T06:18:48.347Z"
   },
   {
    "duration": 15,
    "start_time": "2023-07-07T06:18:48.461Z"
   },
   {
    "duration": 31,
    "start_time": "2023-07-07T06:18:48.478Z"
   },
   {
    "duration": 4,
    "start_time": "2023-07-07T06:18:48.510Z"
   },
   {
    "duration": 34,
    "start_time": "2023-07-07T06:18:48.516Z"
   },
   {
    "duration": 23,
    "start_time": "2023-07-07T06:18:48.552Z"
   },
   {
    "duration": 14,
    "start_time": "2023-07-07T06:18:48.576Z"
   },
   {
    "duration": 25,
    "start_time": "2023-07-07T06:18:48.592Z"
   },
   {
    "duration": 4,
    "start_time": "2023-07-07T06:18:48.620Z"
   },
   {
    "duration": 29,
    "start_time": "2023-07-07T06:18:48.626Z"
   },
   {
    "duration": 21,
    "start_time": "2023-07-07T06:18:48.656Z"
   },
   {
    "duration": 9,
    "start_time": "2023-07-07T06:18:48.679Z"
   },
   {
    "duration": 25,
    "start_time": "2023-07-07T06:18:48.690Z"
   },
   {
    "duration": 46,
    "start_time": "2023-07-07T06:18:48.717Z"
   },
   {
    "duration": 11,
    "start_time": "2023-07-07T06:18:48.765Z"
   },
   {
    "duration": 7,
    "start_time": "2023-07-07T06:18:48.778Z"
   },
   {
    "duration": 17,
    "start_time": "2023-07-07T06:18:48.786Z"
   },
   {
    "duration": 29,
    "start_time": "2023-07-07T06:18:48.806Z"
   },
   {
    "duration": 6,
    "start_time": "2023-07-07T06:18:48.844Z"
   },
   {
    "duration": 29,
    "start_time": "2023-07-07T06:18:48.852Z"
   },
   {
    "duration": 250,
    "start_time": "2023-07-07T06:18:48.883Z"
   },
   {
    "duration": 10,
    "start_time": "2023-07-07T06:18:49.139Z"
   },
   {
    "duration": 353,
    "start_time": "2023-07-07T06:18:49.150Z"
   },
   {
    "duration": 8,
    "start_time": "2023-07-07T06:18:49.504Z"
   },
   {
    "duration": 344,
    "start_time": "2023-07-07T06:18:49.513Z"
   },
   {
    "duration": 22,
    "start_time": "2023-07-07T06:18:49.858Z"
   },
   {
    "duration": 341,
    "start_time": "2023-07-07T06:18:49.883Z"
   },
   {
    "duration": 19,
    "start_time": "2023-07-07T06:18:50.225Z"
   },
   {
    "duration": 208,
    "start_time": "2023-07-07T06:18:50.245Z"
   },
   {
    "duration": 219,
    "start_time": "2023-07-07T06:18:50.454Z"
   },
   {
    "duration": 29,
    "start_time": "2023-07-07T06:18:50.674Z"
   },
   {
    "duration": 3,
    "start_time": "2023-07-07T06:18:50.704Z"
   },
   {
    "duration": 170,
    "start_time": "2023-07-07T06:18:50.709Z"
   },
   {
    "duration": 0,
    "start_time": "2023-07-07T06:18:50.881Z"
   },
   {
    "duration": 0,
    "start_time": "2023-07-07T06:18:50.883Z"
   },
   {
    "duration": 0,
    "start_time": "2023-07-07T06:18:50.884Z"
   },
   {
    "duration": 0,
    "start_time": "2023-07-07T06:18:50.885Z"
   },
   {
    "duration": 0,
    "start_time": "2023-07-07T06:18:50.887Z"
   },
   {
    "duration": 0,
    "start_time": "2023-07-07T06:18:50.888Z"
   },
   {
    "duration": 0,
    "start_time": "2023-07-07T06:18:50.889Z"
   },
   {
    "duration": 0,
    "start_time": "2023-07-07T06:18:50.891Z"
   },
   {
    "duration": 0,
    "start_time": "2023-07-07T06:18:50.892Z"
   },
   {
    "duration": 462,
    "start_time": "2023-07-07T06:19:57.759Z"
   }
  ],
  "kernelspec": {
   "display_name": "Python 3 (ipykernel)",
   "language": "python",
   "name": "python3"
  },
  "language_info": {
   "codemirror_mode": {
    "name": "ipython",
    "version": 3
   },
   "file_extension": ".py",
   "mimetype": "text/x-python",
   "name": "python",
   "nbconvert_exporter": "python",
   "pygments_lexer": "ipython3",
   "version": "3.9.5"
  },
  "toc": {
   "base_numbering": 1,
   "nav_menu": {},
   "number_sections": true,
   "sideBar": true,
   "skip_h1_title": true,
   "title_cell": "Table of Contents",
   "title_sidebar": "Contents",
   "toc_cell": false,
   "toc_position": {
    "height": "calc(100% - 180px)",
    "left": "10px",
    "top": "150px",
    "width": "361.391px"
   },
   "toc_section_display": true,
   "toc_window_display": true
  }
 },
 "nbformat": 4,
 "nbformat_minor": 2
}
