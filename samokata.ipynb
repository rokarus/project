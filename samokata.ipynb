{
 "cells": [
  {
   "cell_type": "markdown",
   "id": "55e769dd",
   "metadata": {},
   "source": [
    "### Иследование влияния подписки на свервис по прокату самокатов:\n",
    "У нас в распоряжении данные о некоторых пользователях из нескольких городов, а также об их поездках. Проанализируйте данные и проверьте некоторые гипотезы, которые могут помочь бизнесу вырасти.\n",
    "\n",
    "\n",
    "Чтобы совершать поездки по городу, пользователи сервиса GoFast пользуются мобильным приложением.\n",
    "\n",
    "Сервисом можно пользоваться:\n",
    "- без подписки \n",
    "абонентская плата отсутствует;\n",
    "\n",
    "стоимость одной минуты поездки — 8 рублей;\n",
    "\n",
    "стоимость старта (начала поездки) — 50 рублей;\n",
    "\n",
    "\n",
    "- с подпиской Ultra\n",
    "абонентская плата — 199 рублей в месяц;\n",
    "\n",
    "стоимость одной минуты поездки — 6 рублей;\n",
    "\n",
    "стоимость старта — бесплатно."
   ]
  },
  {
   "cell_type": "markdown",
   "id": "85558a11",
   "metadata": {},
   "source": [
    "#### Описание данных\n",
    "\n",
    "- user_id\tуникальный идентификатор пользователя\n",
    "- name\tимя пользователя\n",
    "- age\tвозраст\n",
    "- city\tгород\n",
    "- subscription_type\tтип подписки (free, ultra)\n",
    "- user_id\tуникальный идентификатор пользователя\n",
    "- distance\tрасстояние, которое пользователь проехал в текущей сессии (в метрах)\n",
    "- duration\tпродолжительность сессии (в минутах) — время с того момента, как пользователь нажал кнопку «Начать поездку» до момента, как он нажал кнопку «Завершить поездку»\n",
    "- date\tдата совершения поездки\n",
    "- subscription_type\tтип подписки\n",
    "- minute_price\tстоимость одной минуты поездки по данной подписке\n",
    "- start_ride_price\tстоимость начала поездки\n",
    "- subscription_fee\tстоимость ежемесячного платежа\n",
    "\n",
    "#### Порядок действий:\n",
    "* Загрузка данных\n",
    "* Предобработка\n",
    "* Иследовательский анализ\n",
    "* Обьединенение данных\n",
    "* Подсчет выручки\n",
    "* Проверка Гипотез"
   ]
  },
  {
   "cell_type": "markdown",
   "id": "c42cbe00",
   "metadata": {},
   "source": [
    "### Шаг 1. Загрузка данных"
   ]
  },
  {
   "cell_type": "code",
   "execution_count": 1,
   "id": "5241112a",
   "metadata": {},
   "outputs": [],
   "source": [
    "import pandas as pd\n",
    "from scipy import stats as st\n",
    "import numpy as np\n",
    "%matplotlib inline\n",
    "import matplotlib.pyplot as plt\n",
    "import seaborn as sns\n",
    "sns.set()"
   ]
  },
  {
   "cell_type": "code",
   "execution_count": 2,
   "id": "eff9f206",
   "metadata": {},
   "outputs": [
    {
     "data": {
      "text/html": [
       "<div>\n",
       "<style scoped>\n",
       "    .dataframe tbody tr th:only-of-type {\n",
       "        vertical-align: middle;\n",
       "    }\n",
       "\n",
       "    .dataframe tbody tr th {\n",
       "        vertical-align: top;\n",
       "    }\n",
       "\n",
       "    .dataframe thead th {\n",
       "        text-align: right;\n",
       "    }\n",
       "</style>\n",
       "<table border=\"1\" class=\"dataframe\">\n",
       "  <thead>\n",
       "    <tr style=\"text-align: right;\">\n",
       "      <th></th>\n",
       "      <th>user_id</th>\n",
       "      <th>name</th>\n",
       "      <th>age</th>\n",
       "      <th>city</th>\n",
       "      <th>subscription_type</th>\n",
       "    </tr>\n",
       "  </thead>\n",
       "  <tbody>\n",
       "    <tr>\n",
       "      <th>0</th>\n",
       "      <td>1</td>\n",
       "      <td>Кира</td>\n",
       "      <td>22</td>\n",
       "      <td>Тюмень</td>\n",
       "      <td>ultra</td>\n",
       "    </tr>\n",
       "    <tr>\n",
       "      <th>1</th>\n",
       "      <td>2</td>\n",
       "      <td>Станислав</td>\n",
       "      <td>31</td>\n",
       "      <td>Омск</td>\n",
       "      <td>ultra</td>\n",
       "    </tr>\n",
       "    <tr>\n",
       "      <th>2</th>\n",
       "      <td>3</td>\n",
       "      <td>Алексей</td>\n",
       "      <td>20</td>\n",
       "      <td>Москва</td>\n",
       "      <td>ultra</td>\n",
       "    </tr>\n",
       "    <tr>\n",
       "      <th>3</th>\n",
       "      <td>4</td>\n",
       "      <td>Константин</td>\n",
       "      <td>26</td>\n",
       "      <td>Ростов-на-Дону</td>\n",
       "      <td>ultra</td>\n",
       "    </tr>\n",
       "    <tr>\n",
       "      <th>4</th>\n",
       "      <td>5</td>\n",
       "      <td>Адель</td>\n",
       "      <td>28</td>\n",
       "      <td>Омск</td>\n",
       "      <td>ultra</td>\n",
       "    </tr>\n",
       "    <tr>\n",
       "      <th>5</th>\n",
       "      <td>6</td>\n",
       "      <td>Регина</td>\n",
       "      <td>25</td>\n",
       "      <td>Краснодар</td>\n",
       "      <td>ultra</td>\n",
       "    </tr>\n",
       "    <tr>\n",
       "      <th>6</th>\n",
       "      <td>7</td>\n",
       "      <td>Игорь</td>\n",
       "      <td>23</td>\n",
       "      <td>Омск</td>\n",
       "      <td>ultra</td>\n",
       "    </tr>\n",
       "    <tr>\n",
       "      <th>7</th>\n",
       "      <td>8</td>\n",
       "      <td>Юрий</td>\n",
       "      <td>23</td>\n",
       "      <td>Краснодар</td>\n",
       "      <td>ultra</td>\n",
       "    </tr>\n",
       "    <tr>\n",
       "      <th>8</th>\n",
       "      <td>9</td>\n",
       "      <td>Ян</td>\n",
       "      <td>21</td>\n",
       "      <td>Пятигорск</td>\n",
       "      <td>ultra</td>\n",
       "    </tr>\n",
       "    <tr>\n",
       "      <th>9</th>\n",
       "      <td>10</td>\n",
       "      <td>Валерий</td>\n",
       "      <td>18</td>\n",
       "      <td>Екатеринбург</td>\n",
       "      <td>ultra</td>\n",
       "    </tr>\n",
       "  </tbody>\n",
       "</table>\n",
       "</div>"
      ],
      "text/plain": [
       "   user_id        name  age            city subscription_type\n",
       "0        1        Кира   22          Тюмень             ultra\n",
       "1        2   Станислав   31            Омск             ultra\n",
       "2        3     Алексей   20          Москва             ultra\n",
       "3        4  Константин   26  Ростов-на-Дону             ultra\n",
       "4        5       Адель   28            Омск             ultra\n",
       "5        6      Регина   25       Краснодар             ultra\n",
       "6        7       Игорь   23            Омск             ultra\n",
       "7        8        Юрий   23       Краснодар             ultra\n",
       "8        9          Ян   21       Пятигорск             ultra\n",
       "9       10     Валерий   18    Екатеринбург             ultra"
      ]
     },
     "execution_count": 2,
     "metadata": {},
     "output_type": "execute_result"
    }
   ],
   "source": [
    "data_user = pd.read_csv('/datasets/users_go.csv')\n",
    "data_rider = pd.read_csv('/datasets/rides_go.csv')\n",
    "data_subscript = pd.read_csv('/datasets/subscriptions_go.csv')\n",
    "data_user.head(10)"
   ]
  },
  {
   "cell_type": "code",
   "execution_count": 3,
   "id": "46b9b19b",
   "metadata": {},
   "outputs": [
    {
     "name": "stdout",
     "output_type": "stream",
     "text": [
      "<class 'pandas.core.frame.DataFrame'>\n",
      "RangeIndex: 1565 entries, 0 to 1564\n",
      "Data columns (total 5 columns):\n",
      " #   Column             Non-Null Count  Dtype \n",
      "---  ------             --------------  ----- \n",
      " 0   user_id            1565 non-null   int64 \n",
      " 1   name               1565 non-null   object\n",
      " 2   age                1565 non-null   int64 \n",
      " 3   city               1565 non-null   object\n",
      " 4   subscription_type  1565 non-null   object\n",
      "dtypes: int64(2), object(3)\n",
      "memory usage: 61.3+ KB\n"
     ]
    }
   ],
   "source": [
    "data_user.info()"
   ]
  },
  {
   "cell_type": "markdown",
   "id": "778dd03e",
   "metadata": {},
   "source": [
    "Вывод: Первый файл обозначим как data_user, содержит в себе 5 колонок, пропуски в данных отсутствуют"
   ]
  },
  {
   "cell_type": "code",
   "execution_count": 4,
   "id": "84f78090",
   "metadata": {},
   "outputs": [
    {
     "data": {
      "text/html": [
       "<div>\n",
       "<style scoped>\n",
       "    .dataframe tbody tr th:only-of-type {\n",
       "        vertical-align: middle;\n",
       "    }\n",
       "\n",
       "    .dataframe tbody tr th {\n",
       "        vertical-align: top;\n",
       "    }\n",
       "\n",
       "    .dataframe thead th {\n",
       "        text-align: right;\n",
       "    }\n",
       "</style>\n",
       "<table border=\"1\" class=\"dataframe\">\n",
       "  <thead>\n",
       "    <tr style=\"text-align: right;\">\n",
       "      <th></th>\n",
       "      <th>user_id</th>\n",
       "      <th>distance</th>\n",
       "      <th>duration</th>\n",
       "      <th>date</th>\n",
       "    </tr>\n",
       "  </thead>\n",
       "  <tbody>\n",
       "    <tr>\n",
       "      <th>0</th>\n",
       "      <td>1</td>\n",
       "      <td>4409.919140</td>\n",
       "      <td>25.599769</td>\n",
       "      <td>2021-01-01</td>\n",
       "    </tr>\n",
       "    <tr>\n",
       "      <th>1</th>\n",
       "      <td>1</td>\n",
       "      <td>2617.592153</td>\n",
       "      <td>15.816871</td>\n",
       "      <td>2021-01-18</td>\n",
       "    </tr>\n",
       "    <tr>\n",
       "      <th>2</th>\n",
       "      <td>1</td>\n",
       "      <td>754.159807</td>\n",
       "      <td>6.232113</td>\n",
       "      <td>2021-04-20</td>\n",
       "    </tr>\n",
       "    <tr>\n",
       "      <th>3</th>\n",
       "      <td>1</td>\n",
       "      <td>2694.783254</td>\n",
       "      <td>18.511000</td>\n",
       "      <td>2021-08-11</td>\n",
       "    </tr>\n",
       "    <tr>\n",
       "      <th>4</th>\n",
       "      <td>1</td>\n",
       "      <td>4028.687306</td>\n",
       "      <td>26.265803</td>\n",
       "      <td>2021-08-28</td>\n",
       "    </tr>\n",
       "  </tbody>\n",
       "</table>\n",
       "</div>"
      ],
      "text/plain": [
       "   user_id     distance   duration        date\n",
       "0        1  4409.919140  25.599769  2021-01-01\n",
       "1        1  2617.592153  15.816871  2021-01-18\n",
       "2        1   754.159807   6.232113  2021-04-20\n",
       "3        1  2694.783254  18.511000  2021-08-11\n",
       "4        1  4028.687306  26.265803  2021-08-28"
      ]
     },
     "execution_count": 4,
     "metadata": {},
     "output_type": "execute_result"
    }
   ],
   "source": [
    "data_rider.head()"
   ]
  },
  {
   "cell_type": "code",
   "execution_count": 5,
   "id": "118f4f27",
   "metadata": {},
   "outputs": [
    {
     "name": "stdout",
     "output_type": "stream",
     "text": [
      "<class 'pandas.core.frame.DataFrame'>\n",
      "RangeIndex: 18068 entries, 0 to 18067\n",
      "Data columns (total 4 columns):\n",
      " #   Column    Non-Null Count  Dtype  \n",
      "---  ------    --------------  -----  \n",
      " 0   user_id   18068 non-null  int64  \n",
      " 1   distance  18068 non-null  float64\n",
      " 2   duration  18068 non-null  float64\n",
      " 3   date      18068 non-null  object \n",
      "dtypes: float64(2), int64(1), object(1)\n",
      "memory usage: 564.8+ KB\n"
     ]
    }
   ],
   "source": [
    "data_rider.info()"
   ]
  },
  {
   "cell_type": "markdown",
   "id": "a838b33b",
   "metadata": {},
   "source": [
    "Вывод: Второй файл обозначим как data_rider, содержит в себе 4 колонок, пропуски в данных отсутствуют, имеет столбец с даитой который необходимо привести к формату пандас"
   ]
  },
  {
   "cell_type": "code",
   "execution_count": 6,
   "id": "8e9f9ea8",
   "metadata": {},
   "outputs": [
    {
     "data": {
      "text/html": [
       "<div>\n",
       "<style scoped>\n",
       "    .dataframe tbody tr th:only-of-type {\n",
       "        vertical-align: middle;\n",
       "    }\n",
       "\n",
       "    .dataframe tbody tr th {\n",
       "        vertical-align: top;\n",
       "    }\n",
       "\n",
       "    .dataframe thead th {\n",
       "        text-align: right;\n",
       "    }\n",
       "</style>\n",
       "<table border=\"1\" class=\"dataframe\">\n",
       "  <thead>\n",
       "    <tr style=\"text-align: right;\">\n",
       "      <th></th>\n",
       "      <th>subscription_type</th>\n",
       "      <th>minute_price</th>\n",
       "      <th>start_ride_price</th>\n",
       "      <th>subscription_fee</th>\n",
       "    </tr>\n",
       "  </thead>\n",
       "  <tbody>\n",
       "    <tr>\n",
       "      <th>0</th>\n",
       "      <td>free</td>\n",
       "      <td>8</td>\n",
       "      <td>50</td>\n",
       "      <td>0</td>\n",
       "    </tr>\n",
       "    <tr>\n",
       "      <th>1</th>\n",
       "      <td>ultra</td>\n",
       "      <td>6</td>\n",
       "      <td>0</td>\n",
       "      <td>199</td>\n",
       "    </tr>\n",
       "  </tbody>\n",
       "</table>\n",
       "</div>"
      ],
      "text/plain": [
       "  subscription_type  minute_price  start_ride_price  subscription_fee\n",
       "0              free             8                50                 0\n",
       "1             ultra             6                 0               199"
      ]
     },
     "execution_count": 6,
     "metadata": {},
     "output_type": "execute_result"
    }
   ],
   "source": [
    "data_subscript.head()"
   ]
  },
  {
   "cell_type": "code",
   "execution_count": 7,
   "id": "2547b7a2",
   "metadata": {},
   "outputs": [
    {
     "name": "stdout",
     "output_type": "stream",
     "text": [
      "<class 'pandas.core.frame.DataFrame'>\n",
      "RangeIndex: 2 entries, 0 to 1\n",
      "Data columns (total 4 columns):\n",
      " #   Column             Non-Null Count  Dtype \n",
      "---  ------             --------------  ----- \n",
      " 0   subscription_type  2 non-null      object\n",
      " 1   minute_price       2 non-null      int64 \n",
      " 2   start_ride_price   2 non-null      int64 \n",
      " 3   subscription_fee   2 non-null      int64 \n",
      "dtypes: int64(3), object(1)\n",
      "memory usage: 192.0+ bytes\n"
     ]
    }
   ],
   "source": [
    "data_subscript.info()"
   ]
  },
  {
   "cell_type": "markdown",
   "id": "f1c0c9a9",
   "metadata": {},
   "source": [
    "Вывод: Третий файл обозначим как data_subscript, содержит в себе 4 колоноки, пропуски в данных отсутствуют"
   ]
  },
  {
   "cell_type": "markdown",
   "id": "d6d4026a",
   "metadata": {},
   "source": [
    "#### Общий вывод по загрузке данных:\n",
    " Загруженно 3 файла, пропуски не обнаружены, в одном из файлов необходимо сменить тип данных колонки дата."
   ]
  },
  {
   "cell_type": "markdown",
   "id": "e95ebca7",
   "metadata": {},
   "source": [
    "### Шаг 2. Предобработка данных"
   ]
  },
  {
   "cell_type": "code",
   "execution_count": 8,
   "id": "af6d202c",
   "metadata": {},
   "outputs": [],
   "source": [
    "data_rider['date'] = pd.to_datetime(data_rider['date'], format = '%Y.%m.%d')\n",
    "data_rider['month'] = pd.DatetimeIndex(data_rider['date']).month"
   ]
  },
  {
   "cell_type": "markdown",
   "id": "df4255e2",
   "metadata": {},
   "source": [
    "Меняем тип данных колонки date, на тип pandas, добовляем отдельную колнку месяц"
   ]
  },
  {
   "cell_type": "code",
   "execution_count": 9,
   "id": "53a169bd",
   "metadata": {},
   "outputs": [
    {
     "data": {
      "text/plain": [
       "user_id              31\n",
       "name                 31\n",
       "age                  31\n",
       "city                 31\n",
       "subscription_type    31\n",
       "dtype: int64"
      ]
     },
     "execution_count": 9,
     "metadata": {},
     "output_type": "execute_result"
    }
   ],
   "source": [
    "data_user[data_user.duplicated ()].count()"
   ]
  },
  {
   "cell_type": "code",
   "execution_count": 10,
   "id": "8ae538f2",
   "metadata": {},
   "outputs": [],
   "source": [
    "data_user = data_user.drop_duplicates()"
   ]
  },
  {
   "cell_type": "code",
   "execution_count": 11,
   "id": "820ffa43",
   "metadata": {},
   "outputs": [
    {
     "name": "stdout",
     "output_type": "stream",
     "text": [
      "<class 'pandas.core.frame.DataFrame'>\n",
      "Int64Index: 1534 entries, 0 to 1533\n",
      "Data columns (total 5 columns):\n",
      " #   Column             Non-Null Count  Dtype \n",
      "---  ------             --------------  ----- \n",
      " 0   user_id            1534 non-null   int64 \n",
      " 1   name               1534 non-null   object\n",
      " 2   age                1534 non-null   int64 \n",
      " 3   city               1534 non-null   object\n",
      " 4   subscription_type  1534 non-null   object\n",
      "dtypes: int64(2), object(3)\n",
      "memory usage: 71.9+ KB\n"
     ]
    }
   ],
   "source": [
    "data_user.info()"
   ]
  },
  {
   "cell_type": "markdown",
   "id": "bf534be2",
   "metadata": {},
   "source": [
    "При проверки были обноружены дубликаты в дс data_user в обьеме 31 шт, в последующем были удалены."
   ]
  },
  {
   "cell_type": "code",
   "execution_count": 12,
   "id": "3debb3d5",
   "metadata": {},
   "outputs": [
    {
     "data": {
      "text/plain": [
       "user_id     0\n",
       "distance    0\n",
       "duration    0\n",
       "date        0\n",
       "month       0\n",
       "dtype: int64"
      ]
     },
     "execution_count": 12,
     "metadata": {},
     "output_type": "execute_result"
    }
   ],
   "source": [
    "data_rider[data_rider.duplicated()].count()"
   ]
  },
  {
   "cell_type": "markdown",
   "id": "32164cf8",
   "metadata": {},
   "source": [
    "#### Общий вывод по предобработке данных:\n",
    "При проверки были обноружены дубликаты в дс data_user в обьеме 31 шт, в последующем были удалены.В колонка дата приведена в соответствие с  нужным форматом."
   ]
  },
  {
   "cell_type": "markdown",
   "id": "212593c7",
   "metadata": {},
   "source": [
    "### Шаг 3. Исследовательский анализ данных"
   ]
  },
  {
   "cell_type": "code",
   "execution_count": 14,
   "id": "8fab4bb8",
   "metadata": {},
   "outputs": [
    {
     "data": {
      "image/png": "[encoded data removed]",
      "text/plain": [
       "<Figure size 1080x360 with 1 Axes>"
      ]
     },
     "metadata": {},
     "output_type": "display_data"
    }
   ],
   "source": [
    "data_user['city'].value_counts().to_frame().reset_index().plot(kind='bar',\n",
    "                                                               x=\"index\",\n",
    "                                                               y=\"city\",\n",
    "                                                               figsize=(15,5))\n",
    "plt.xlabel('Назварние города')\n",
    "plt.ylabel('Кол-во')\n",
    "plt.title('Частота встречаемости городов')\n",
    "plt.legend('')\n",
    "plt.xticks(rotation=0)\n",
    "plt.show()"
   ]
  },
  {
   "cell_type": "markdown",
   "id": "1973eaf9",
   "metadata": {},
   "source": [
    "Вывод: Сотношение пользователей примерно равно есть небольшие перекосы в сторону Пятигорска, Екатеринбурга, Краснодара. Наименьшее кол-во пользователей по отношению к другим городам это Москва."
   ]
  },
  {
   "cell_type": "markdown",
   "id": "f1c82f85",
   "metadata": {},
   "source": [
    "3.2 соотношение пользователей с подпиской и без подписки;"
   ]
  },
  {
   "cell_type": "code",
   "execution_count": 15,
   "id": "1d624475",
   "metadata": {},
   "outputs": [
    {
     "data": {
      "image/png": "[encoded data removed]",
      "text/plain": [
       "<Figure size 720x720 with 1 Axes>"
      ]
     },
     "metadata": {},
     "output_type": "display_data"
    }
   ],
   "source": [
    "data_user.groupby(['subscription_type']).count().plot(kind='pie',\n",
    "                                         y='user_id',\n",
    "                                         autopct='%1.0f%%', \n",
    "                                         figsize=(10,10))\n",
    "plt.title('Соотношение пользователей с подпиской и без')\n",
    "plt.ylabel('')\n",
    "plt.show()"
   ]
  },
  {
   "cell_type": "markdown",
   "id": "81db6e61",
   "metadata": {},
   "source": [
    "Вывод: Пользователи без подписки доминируют над пользователями с подпиской на 8%."
   ]
  },
  {
   "cell_type": "code",
   "execution_count": 16,
   "id": "d654f353",
   "metadata": {},
   "outputs": [
    {
     "data": {
      "image/png": "[encoded data removed]",
      "text/plain": [
       "<Figure size 1080x360 with 1 Axes>"
      ]
     },
     "metadata": {},
     "output_type": "display_data"
    }
   ],
   "source": [
    "data_user['age'].hist(bins=30, figsize=(15,5))\n",
    "plt.xlabel('Возраст')\n",
    "plt.ylabel('Кол-во')\n",
    "plt.title('Возраст пользователей')\n",
    "plt.show()"
   ]
  },
  {
   "cell_type": "code",
   "execution_count": 17,
   "id": "fa0ae26b",
   "metadata": {},
   "outputs": [
    {
     "data": {
      "text/plain": [
       "count    1534.000000\n",
       "mean       24.903520\n",
       "std         4.572367\n",
       "min        12.000000\n",
       "25%        22.000000\n",
       "50%        25.000000\n",
       "75%        28.000000\n",
       "max        43.000000\n",
       "Name: age, dtype: float64"
      ]
     },
     "execution_count": 17,
     "metadata": {},
     "output_type": "execute_result"
    }
   ],
   "source": [
    "data_user['age'].describe()"
   ]
  },
  {
   "cell_type": "code",
   "execution_count": 18,
   "id": "fb83ebed",
   "metadata": {},
   "outputs": [
    {
     "data": {
      "image/png": "[encoded data removed]",
      "text/plain": [
       "<Figure size 1080x360 with 1 Axes>"
      ]
     },
     "metadata": {},
     "output_type": "display_data"
    }
   ],
   "source": [
    "pd.pivot_table(data_user,\n",
    "              index=['age'],\n",
    "              values=['user_id'],\n",
    "              aggfunc=len).plot(grid=True,\n",
    "                               style='-o',\n",
    "                               figsize=(15,5),\n",
    "                               alpha=0.7)\n",
    "plt.title('Распределение по возросту')\n",
    "plt.xlabel('Возраст')\n",
    "plt.legend('')\n",
    "plt.ylabel('Колличество пользователей')\n",
    "plt.show()"
   ]
  },
  {
   "cell_type": "markdown",
   "id": "5784ac27",
   "metadata": {},
   "source": [
    "Вывод:\n",
    "\n",
    "* Средний возраст пользователя составляет примерно 25 лет\n",
    "\n",
    "* Минимальный возраст составил 12 лет\n",
    "\n",
    "* Максимальный возраст сотсавил 43 года.\n",
    "\n",
    "* Клиенты в возрасте от 22 лет до 28 лет являются ключейвой аудиторией сервса"
   ]
  },
  {
   "cell_type": "code",
   "execution_count": 19,
   "id": "80e02c88",
   "metadata": {},
   "outputs": [
    {
     "data": {
      "image/png": "[encoded data removed]",
      "text/plain": [
       "<Figure size 1080x360 with 1 Axes>"
      ]
     },
     "metadata": {},
     "output_type": "display_data"
    }
   ],
   "source": [
    "data_rider['distance'].hist(bins=50, figsize=(15,5))\n",
    "plt.xlabel('Растояние в м.')\n",
    "plt.ylabel('Кол-во')\n",
    "plt.title('Растояние поездок')\n",
    "plt.show()"
   ]
  },
  {
   "cell_type": "code",
   "execution_count": 20,
   "id": "aae75ad6",
   "metadata": {},
   "outputs": [
    {
     "data": {
      "text/plain": [
       "count    18068.000000\n",
       "mean      3070.659976\n",
       "std       1116.831209\n",
       "min          0.855683\n",
       "25%       2543.226360\n",
       "50%       3133.609994\n",
       "75%       3776.222735\n",
       "max       7211.007745\n",
       "Name: distance, dtype: float64"
      ]
     },
     "execution_count": 20,
     "metadata": {},
     "output_type": "execute_result"
    }
   ],
   "source": [
    "data_rider['distance'].describe()"
   ]
  },
  {
   "cell_type": "markdown",
   "id": "cc72a9be",
   "metadata": {},
   "source": [
    "Вывод:\n",
    "\n",
    "* Среднее растояний каждой поездки составляет 3070м\n",
    "\n",
    "* Минимальеная поездка меньше метра\n",
    "\n",
    "* Максимальная 7211 метров\n",
    "* Основная масса использует сервис на растоянии от 2543м до 3776м"
   ]
  },
  {
   "cell_type": "markdown",
   "id": "55f293eb",
   "metadata": {},
   "source": [
    " продолжительность поездок"
   ]
  },
  {
   "cell_type": "code",
   "execution_count": 21,
   "id": "4a41c33c",
   "metadata": {},
   "outputs": [
    {
     "data": {
      "image/png": "[encoded data removed]",
      "text/plain": [
       "<Figure size 1080x360 with 1 Axes>"
      ]
     },
     "metadata": {},
     "output_type": "display_data"
    }
   ],
   "source": [
    "data_rider['duration'].hist(bins=50, figsize=(15,5))\n",
    "plt.xlabel('Длительность поездки в минутах')\n",
    "plt.ylabel('Кол-во')\n",
    "plt.title('Длительность')\n",
    "plt.show()"
   ]
  },
  {
   "cell_type": "code",
   "execution_count": 22,
   "id": "a8658799",
   "metadata": {},
   "outputs": [
    {
     "data": {
      "text/plain": [
       "count    18068.000000\n",
       "mean        17.805011\n",
       "std          6.091051\n",
       "min          0.500000\n",
       "25%         13.597563\n",
       "50%         17.678395\n",
       "75%         21.724800\n",
       "max         40.823963\n",
       "Name: duration, dtype: float64"
      ]
     },
     "execution_count": 22,
     "metadata": {},
     "output_type": "execute_result"
    }
   ],
   "source": [
    "data_rider['duration'].describe()"
   ]
  },
  {
   "cell_type": "markdown",
   "id": "8f9b0eb5",
   "metadata": {},
   "source": [
    "Вывод:\n",
    "* Средняя продолжитлеьность поездки составляет 17 минут\n",
    "* Минимальная поездка пол минуты\n",
    "* Максимальное время поездки 41 минута\n",
    "* В основном пользователи пользуется услугой в промежутке от 13 минут до 21 минуты"
   ]
  },
  {
   "cell_type": "markdown",
   "id": "82fcaf8f",
   "metadata": {},
   "source": [
    "#### Общий вывод по иследовательскому анализу:\n",
    "Сотношение пользователей примерно равно есть небольшие перекосы в сторону Пятигорска, Екатеринбурга, Краснодара. Наименьшее кол-во пользователей по отношению к другим городам это Москва.\n",
    "\n",
    "Пользователи без подписки доминируют над пользователями с подпиской на 8%.\n",
    "\n",
    "\n",
    "* Средний возраст пользователя составляет примерно 25 лет\n",
    "\n",
    "* Минимальный возраст составил 12 лет\n",
    "\n",
    "* Максимальный возраст сотсавил 43 года.\n",
    "\n",
    "* Клиенты в возрасте от 22 лет до 28 лет являются ключейвой аудиторией сервса\n",
    "\n",
    "* Среднее растояний каждой поездки составляет 3070м\n",
    "\n",
    "* Минимальеная поездка меньше метра\n",
    "\n",
    "* Максимальная 7211 метров\n",
    "* Основная масса использует сервис на растоянии от 2543м до 3776м\n",
    "\n",
    "* Средняя продолжитлеьность поездки составляет 17 минут\n",
    "* Минимальная поездка пол минуты\n",
    "* Максимальное время поездки 41 минута\n",
    "* В основном пользователи пользуется услугой в промежутке от 13 минут до 21 минуты"
   ]
  },
  {
   "cell_type": "markdown",
   "id": "4ef51331",
   "metadata": {},
   "source": [
    "### Шаг 4. Объединение данных"
   ]
  },
  {
   "cell_type": "code",
   "execution_count": 23,
   "id": "32363049",
   "metadata": {},
   "outputs": [
    {
     "name": "stdout",
     "output_type": "stream",
     "text": [
      "<class 'pandas.core.frame.DataFrame'>\n",
      "RangeIndex: 18068 entries, 0 to 18067\n",
      "Data columns (total 5 columns):\n",
      " #   Column    Non-Null Count  Dtype         \n",
      "---  ------    --------------  -----         \n",
      " 0   user_id   18068 non-null  int64         \n",
      " 1   distance  18068 non-null  float64       \n",
      " 2   duration  18068 non-null  float64       \n",
      " 3   date      18068 non-null  datetime64[ns]\n",
      " 4   month     18068 non-null  int64         \n",
      "dtypes: datetime64[ns](1), float64(2), int64(2)\n",
      "memory usage: 705.9 KB\n"
     ]
    }
   ],
   "source": [
    "data_rider.info()"
   ]
  },
  {
   "cell_type": "code",
   "execution_count": 24,
   "id": "6bf288b5",
   "metadata": {},
   "outputs": [],
   "source": [
    "data_user = data_user.merge(data_rider,on='user_id')"
   ]
  },
  {
   "cell_type": "code",
   "execution_count": 25,
   "id": "0cc81e6a",
   "metadata": {},
   "outputs": [
    {
     "name": "stdout",
     "output_type": "stream",
     "text": [
      "<class 'pandas.core.frame.DataFrame'>\n",
      "Int64Index: 18068 entries, 0 to 18067\n",
      "Data columns (total 9 columns):\n",
      " #   Column             Non-Null Count  Dtype         \n",
      "---  ------             --------------  -----         \n",
      " 0   user_id            18068 non-null  int64         \n",
      " 1   name               18068 non-null  object        \n",
      " 2   age                18068 non-null  int64         \n",
      " 3   city               18068 non-null  object        \n",
      " 4   subscription_type  18068 non-null  object        \n",
      " 5   distance           18068 non-null  float64       \n",
      " 6   duration           18068 non-null  float64       \n",
      " 7   date               18068 non-null  datetime64[ns]\n",
      " 8   month              18068 non-null  int64         \n",
      "dtypes: datetime64[ns](1), float64(2), int64(3), object(3)\n",
      "memory usage: 1.4+ MB\n"
     ]
    }
   ],
   "source": [
    "data_user.info()"
   ]
  },
  {
   "cell_type": "code",
   "execution_count": 26,
   "id": "0b761de7",
   "metadata": {},
   "outputs": [
    {
     "data": {
      "text/plain": [
       "user_id              0\n",
       "name                 0\n",
       "age                  0\n",
       "city                 0\n",
       "subscription_type    0\n",
       "distance             0\n",
       "duration             0\n",
       "date                 0\n",
       "month                0\n",
       "dtype: int64"
      ]
     },
     "execution_count": 26,
     "metadata": {},
     "output_type": "execute_result"
    }
   ],
   "source": [
    "data_user[data_user.duplicated ()].count()"
   ]
  },
  {
   "cell_type": "markdown",
   "id": "f8002433",
   "metadata": {},
   "source": [
    "Вывод по обьединению: Кол-во строк в обьединенной таблице 18068, дубликаты отсутствуют."
   ]
  },
  {
   "cell_type": "code",
   "execution_count": 27,
   "id": "4b1ff094",
   "metadata": {},
   "outputs": [],
   "source": [
    "data_free = data_user[data_user['subscription_type']=='free']\n",
    "data_ultra = data_user[data_user['subscription_type']=='ultra']"
   ]
  },
  {
   "cell_type": "markdown",
   "id": "9223b505",
   "metadata": {},
   "source": [
    "Обьединняем два дата сета в один data_user, затем делим по признаку подписки, для проведения анализа "
   ]
  },
  {
   "cell_type": "code",
   "execution_count": 28,
   "id": "84f52c46",
   "metadata": {},
   "outputs": [
    {
     "data": {
      "image/png": "[encoded data removed]",
      "text/plain": [
       "<Figure size 1080x360 with 1 Axes>"
      ]
     },
     "metadata": {},
     "output_type": "display_data"
    }
   ],
   "source": [
    "data_free['duration'].hist(bins=50, figsize=(15,5))\n",
    "plt.xlabel('Длительность поездки в минутах')\n",
    "plt.ylabel('Кол-во')\n",
    "plt.title('Длительность')\n",
    "plt.show()"
   ]
  },
  {
   "cell_type": "code",
   "execution_count": 29,
   "id": "f1e1ac45",
   "metadata": {},
   "outputs": [
    {
     "data": {
      "text/plain": [
       "count    11568.000000\n",
       "mean        17.390909\n",
       "std          6.326803\n",
       "min          0.500000\n",
       "25%         12.958437\n",
       "50%         17.326890\n",
       "75%         21.594071\n",
       "max         34.948498\n",
       "Name: duration, dtype: float64"
      ]
     },
     "execution_count": 29,
     "metadata": {},
     "output_type": "execute_result"
    }
   ],
   "source": [
    "data_free['duration'].describe()"
   ]
  },
  {
   "cell_type": "markdown",
   "id": "7949e615",
   "metadata": {},
   "source": [
    "Вывод:\n",
    "* Средняя длительность поездки у клиента без подписки составляет 17.3 минуты\n",
    "* Минимальная длительнось 0.5 минуты\n",
    "* Максимальная длительность 35 минут\n",
    "* Большая часть поездок у клиентов без подписки составляют поездки с длительностью от 12 до 21 минуты"
   ]
  },
  {
   "cell_type": "code",
   "execution_count": 30,
   "id": "799d3ed2",
   "metadata": {},
   "outputs": [
    {
     "data": {
      "image/png": "[encoded data removed]",
      "text/plain": [
       "<Figure size 1080x360 with 1 Axes>"
      ]
     },
     "metadata": {},
     "output_type": "display_data"
    }
   ],
   "source": [
    "data_free['distance'].hist(bins=50, figsize=(15,5))\n",
    "plt.xlabel('Растояние в м.')\n",
    "plt.ylabel('Кол-во')\n",
    "plt.title('Растояние поездок')\n",
    "plt.show()"
   ]
  },
  {
   "cell_type": "code",
   "execution_count": 31,
   "id": "1a283aa5",
   "metadata": {},
   "outputs": [
    {
     "data": {
      "text/plain": [
       "count    11568.000000\n",
       "mean      3045.495282\n",
       "std       1246.173806\n",
       "min          0.855683\n",
       "25%       2366.562689\n",
       "50%       3114.648465\n",
       "75%       3905.697894\n",
       "max       7211.007745\n",
       "Name: distance, dtype: float64"
      ]
     },
     "execution_count": 31,
     "metadata": {},
     "output_type": "execute_result"
    }
   ],
   "source": [
    "data_free['distance'].describe()"
   ]
  },
  {
   "cell_type": "markdown",
   "id": "eaae475a",
   "metadata": {},
   "source": [
    "Вывод:\n",
    "* Средняя дистанция поездки у пользователя без подписки составляет 3045 метров\n",
    "* Минимальная составляет 0.85 метра\n",
    "* Максимальная 7211 метров\n",
    "* Большая часть поездок у клиентов без подписки проходит на растояния в промежутке от 2366 до 3905 метров"
   ]
  },
  {
   "cell_type": "code",
   "execution_count": 32,
   "id": "04a1d556",
   "metadata": {},
   "outputs": [
    {
     "data": {
      "image/png": "[encoded data removed]",
      "text/plain": [
       "<Figure size 1080x360 with 1 Axes>"
      ]
     },
     "metadata": {},
     "output_type": "display_data"
    }
   ],
   "source": [
    "data_ultra['duration'].hist(bins=50, figsize=(15,5))\n",
    "plt.xlabel('Длительность поездки в минутах')\n",
    "plt.ylabel('Кол-во')\n",
    "plt.title('Длительность')\n",
    "plt.show()"
   ]
  },
  {
   "cell_type": "code",
   "execution_count": 33,
   "id": "d3bcbfeb",
   "metadata": {},
   "outputs": [
    {
     "data": {
      "text/plain": [
       "count    6500.000000\n",
       "mean       18.541985\n",
       "std         5.572048\n",
       "min         3.760353\n",
       "25%        14.524654\n",
       "50%        18.178153\n",
       "75%        21.884129\n",
       "max        40.823963\n",
       "Name: duration, dtype: float64"
      ]
     },
     "execution_count": 33,
     "metadata": {},
     "output_type": "execute_result"
    }
   ],
   "source": [
    "data_ultra['duration'].describe()"
   ]
  },
  {
   "cell_type": "markdown",
   "id": "16bbcde1",
   "metadata": {},
   "source": [
    "* Средняя длительность поездки у клиента с подпиской составляет 18.5 минуты\n",
    "* Минимальная длительнось 3.7 минуты\n",
    "* Максимальная длительность 41 минуту\n",
    "* Большая часть поездок у клиентов с подпиской составляют поездки с длительностью от 14 до 21 минуты"
   ]
  },
  {
   "cell_type": "code",
   "execution_count": 34,
   "id": "630670a6",
   "metadata": {},
   "outputs": [
    {
     "data": {
      "image/png": "[encoded data removed]",
      "text/plain": [
       "<Figure size 1080x360 with 1 Axes>"
      ]
     },
     "metadata": {},
     "output_type": "display_data"
    }
   ],
   "source": [
    "data_ultra['distance'].hist(bins=50, figsize=(15,5))\n",
    "plt.xlabel('Растояние в м.')\n",
    "plt.ylabel('Кол-во')\n",
    "plt.title('Растояние поездок')\n",
    "plt.show()"
   ]
  },
  {
   "cell_type": "code",
   "execution_count": 35,
   "id": "4e4f62a3",
   "metadata": {},
   "outputs": [
    {
     "data": {
      "text/plain": [
       "count    6500.000000\n",
       "mean     3115.445388\n",
       "std       836.895330\n",
       "min       244.210438\n",
       "25%      2785.444017\n",
       "50%      3148.637229\n",
       "75%      3560.574425\n",
       "max      5699.769662\n",
       "Name: distance, dtype: float64"
      ]
     },
     "execution_count": 35,
     "metadata": {},
     "output_type": "execute_result"
    }
   ],
   "source": [
    "data_ultra['distance'].describe()"
   ]
  },
  {
   "cell_type": "markdown",
   "id": "3e03ce36",
   "metadata": {},
   "source": [
    "Вывод:\n",
    "* Средняя дистанция поездки у пользователя с подпиской составляет 3115 метров\n",
    "* Минимальная составляет 244 метра\n",
    "* Максимальная 5700 метров\n",
    "* Большая часть поездок у клиентов с подпиской проходит на растояния в промежутке от 2785 до 3560 метров"
   ]
  },
  {
   "cell_type": "markdown",
   "id": "2ebc121f",
   "metadata": {},
   "source": [
    "#### Общий вывод:\n",
    "Обьединняем два дата сета в один data_user, затем делим по признаку подписки, для проведения анализа\n",
    "* Средняя длительность поездки у клиента без подписки составляет 17.3 минуты\n",
    "* Минимальная длительнось 0.5 минуты\n",
    "* Максимальная длительность 35 минут\n",
    "* Средняя дистанция поездки у пользователя без подписки составляет 3045 метров\n",
    "* Минимальная составляет 0.85 метра\n",
    "* Максимальная 7211 метров\n",
    "\n",
    "\n",
    "* Средняя длительность поездки у клиента с подпиской составляет 18.5 минуты\n",
    "* Минимальная длительнось 3.7 минуты\n",
    "* Максимальная длительность 41 минуту\n",
    "* Средняя дистанция поездки у пользователя с подпиской составляет 3115 метров\n",
    "* Минимальная составляет 244 метра\n",
    "* Максимальная 5700 метров"
   ]
  },
  {
   "cell_type": "markdown",
   "id": "402d620f",
   "metadata": {},
   "source": [
    "### Шаг 5. Подсчёт выручки"
   ]
  },
  {
   "cell_type": "code",
   "execution_count": 36,
   "id": "53049e0a",
   "metadata": {
    "scrolled": true
   },
   "outputs": [],
   "source": [
    "data_all=data_user.pivot_table(index=('subscription_type','user_id','month'),\n",
    "                     values =('distance','duration','city'),\n",
    "                     aggfunc={'distance':sum,'duration':sum,'city':len})\n",
    "data_all['duration'] = np.ceil(data_all['duration'])\n",
    "data_all = data_all.rename(columns={'city':'quantity'})\n",
    "data_all=data_all.reset_index()"
   ]
  },
  {
   "cell_type": "code",
   "execution_count": 37,
   "id": "0906b9d1",
   "metadata": {},
   "outputs": [],
   "source": [
    "data_all['profit'] = np.where(data_all['subscription_type'] == 'free',\n",
    "                             (50*data_all['quantity'])+(8*data_all['duration']),\n",
    "                             ((6*data_all['duration'])+199))"
   ]
  },
  {
   "cell_type": "code",
   "execution_count": 38,
   "id": "6452b2ea",
   "metadata": {},
   "outputs": [
    {
     "data": {
      "text/html": [
       "<div>\n",
       "<style scoped>\n",
       "    .dataframe tbody tr th:only-of-type {\n",
       "        vertical-align: middle;\n",
       "    }\n",
       "\n",
       "    .dataframe tbody tr th {\n",
       "        vertical-align: top;\n",
       "    }\n",
       "\n",
       "    .dataframe thead th {\n",
       "        text-align: right;\n",
       "    }\n",
       "</style>\n",
       "<table border=\"1\" class=\"dataframe\">\n",
       "  <thead>\n",
       "    <tr style=\"text-align: right;\">\n",
       "      <th></th>\n",
       "      <th>subscription_type</th>\n",
       "      <th>user_id</th>\n",
       "      <th>month</th>\n",
       "      <th>quantity</th>\n",
       "      <th>distance</th>\n",
       "      <th>duration</th>\n",
       "      <th>profit</th>\n",
       "    </tr>\n",
       "  </thead>\n",
       "  <tbody>\n",
       "    <tr>\n",
       "      <th>0</th>\n",
       "      <td>free</td>\n",
       "      <td>700</td>\n",
       "      <td>1</td>\n",
       "      <td>1</td>\n",
       "      <td>2515.690719</td>\n",
       "      <td>15.0</td>\n",
       "      <td>170.0</td>\n",
       "    </tr>\n",
       "    <tr>\n",
       "      <th>1</th>\n",
       "      <td>free</td>\n",
       "      <td>700</td>\n",
       "      <td>2</td>\n",
       "      <td>5</td>\n",
       "      <td>13446.659764</td>\n",
       "      <td>86.0</td>\n",
       "      <td>938.0</td>\n",
       "    </tr>\n",
       "    <tr>\n",
       "      <th>2</th>\n",
       "      <td>free</td>\n",
       "      <td>700</td>\n",
       "      <td>3</td>\n",
       "      <td>1</td>\n",
       "      <td>3798.334905</td>\n",
       "      <td>19.0</td>\n",
       "      <td>202.0</td>\n",
       "    </tr>\n",
       "    <tr>\n",
       "      <th>3</th>\n",
       "      <td>free</td>\n",
       "      <td>700</td>\n",
       "      <td>4</td>\n",
       "      <td>1</td>\n",
       "      <td>2984.551206</td>\n",
       "      <td>16.0</td>\n",
       "      <td>178.0</td>\n",
       "    </tr>\n",
       "    <tr>\n",
       "      <th>4</th>\n",
       "      <td>free</td>\n",
       "      <td>700</td>\n",
       "      <td>6</td>\n",
       "      <td>2</td>\n",
       "      <td>5927.650988</td>\n",
       "      <td>29.0</td>\n",
       "      <td>332.0</td>\n",
       "    </tr>\n",
       "    <tr>\n",
       "      <th>5</th>\n",
       "      <td>free</td>\n",
       "      <td>700</td>\n",
       "      <td>7</td>\n",
       "      <td>2</td>\n",
       "      <td>4399.206279</td>\n",
       "      <td>21.0</td>\n",
       "      <td>268.0</td>\n",
       "    </tr>\n",
       "    <tr>\n",
       "      <th>6</th>\n",
       "      <td>free</td>\n",
       "      <td>700</td>\n",
       "      <td>8</td>\n",
       "      <td>1</td>\n",
       "      <td>4071.654669</td>\n",
       "      <td>17.0</td>\n",
       "      <td>186.0</td>\n",
       "    </tr>\n",
       "    <tr>\n",
       "      <th>7</th>\n",
       "      <td>free</td>\n",
       "      <td>700</td>\n",
       "      <td>10</td>\n",
       "      <td>2</td>\n",
       "      <td>6322.578618</td>\n",
       "      <td>43.0</td>\n",
       "      <td>444.0</td>\n",
       "    </tr>\n",
       "    <tr>\n",
       "      <th>8</th>\n",
       "      <td>free</td>\n",
       "      <td>700</td>\n",
       "      <td>11</td>\n",
       "      <td>3</td>\n",
       "      <td>8735.782625</td>\n",
       "      <td>32.0</td>\n",
       "      <td>406.0</td>\n",
       "    </tr>\n",
       "    <tr>\n",
       "      <th>9</th>\n",
       "      <td>free</td>\n",
       "      <td>701</td>\n",
       "      <td>1</td>\n",
       "      <td>1</td>\n",
       "      <td>2676.472894</td>\n",
       "      <td>18.0</td>\n",
       "      <td>194.0</td>\n",
       "    </tr>\n",
       "  </tbody>\n",
       "</table>\n",
       "</div>"
      ],
      "text/plain": [
       "  subscription_type  user_id  month  quantity      distance  duration  profit\n",
       "0              free      700      1         1   2515.690719      15.0   170.0\n",
       "1              free      700      2         5  13446.659764      86.0   938.0\n",
       "2              free      700      3         1   3798.334905      19.0   202.0\n",
       "3              free      700      4         1   2984.551206      16.0   178.0\n",
       "4              free      700      6         2   5927.650988      29.0   332.0\n",
       "5              free      700      7         2   4399.206279      21.0   268.0\n",
       "6              free      700      8         1   4071.654669      17.0   186.0\n",
       "7              free      700     10         2   6322.578618      43.0   444.0\n",
       "8              free      700     11         3   8735.782625      32.0   406.0\n",
       "9              free      701      1         1   2676.472894      18.0   194.0"
      ]
     },
     "execution_count": 38,
     "metadata": {},
     "output_type": "execute_result"
    }
   ],
   "source": [
    "data_all.head(10)"
   ]
  },
  {
   "cell_type": "code",
   "execution_count": 39,
   "id": "7fcc292f",
   "metadata": {},
   "outputs": [
    {
     "name": "stdout",
     "output_type": "stream",
     "text": [
      "Общее время всех поездок c подпиской:  122755 минут\n",
      "Общее растояние всех поездок с подпиской:  20250395 метров\n",
      "Сумма общей выручки по клиентам с подпиской составляет:  1638597 рублей\n",
      "Средняя сумма выручки по клиентам с подпиской составляет:  361 рублей\n"
     ]
    }
   ],
   "source": [
    "print('Общее время всех поездок c подпиской: ',\n",
    "      data_all.query('subscription_type == \"ultra\"')['duration'].sum().astype('int'),'минут')\n",
    "print('Общее растояние всех поездок с подпиской: ',\n",
    "      data_all.query('subscription_type == \"ultra\"')['distance'].sum().astype('int'),'метров')\n",
    "print('Сумма общей выручки по клиентам с подпиской составляет: ',\n",
    "      data_all.query('subscription_type == \"ultra\"')['profit'].sum().astype('int'),'рублей')\n",
    "print('Средняя сумма выручки по клиентам с подпиской составляет: ',\n",
    "      data_all.query('subscription_type == \"ultra\"')['profit'].mean().astype('int'),'рублей')"
   ]
  },
  {
   "cell_type": "code",
   "execution_count": 40,
   "id": "f2f0c11c",
   "metadata": {},
   "outputs": [
    {
     "name": "stdout",
     "output_type": "stream",
     "text": [
      "Общее время всех поездок без подписки:  204585 минут\n",
      "Общее растояние всех поездок без подписки:  35230289 метров\n",
      "Сумма общей выручки по клиентам без подписки составляет:  2215080 рублей\n",
      "Средняя сумма выручки по клиентам без подписки составляет:  325 рублей\n"
     ]
    }
   ],
   "source": [
    "print('Общее время всех поездок без подписки: ',\n",
    "      data_all.query('subscription_type == \"free\"')['duration'].sum().astype('int'),'минут')\n",
    "print('Общее растояние всех поездок без подписки: ',\n",
    "      data_all.query('subscription_type == \"free\"')['distance'].sum().astype('int'),'метров')\n",
    "print('Сумма общей выручки по клиентам без подписки составляет: ',\n",
    "      data_all.query('subscription_type == \"free\"')['profit'].sum().astype('int'),'рублей')\n",
    "print('Средняя сумма выручки по клиентам без подписки составляет: ',\n",
    "      data_all.query('subscription_type == \"free\"')['profit'].mean().astype('int'),'рублей')"
   ]
  },
  {
   "cell_type": "markdown",
   "id": "27bbc326",
   "metadata": {},
   "source": [
    " Считаем выручку для каждого клиента по месячно"
   ]
  },
  {
   "cell_type": "code",
   "execution_count": 41,
   "id": "f2079028",
   "metadata": {},
   "outputs": [
    {
     "data": {
      "text/html": [
       "<div>\n",
       "<style scoped>\n",
       "    .dataframe tbody tr th:only-of-type {\n",
       "        vertical-align: middle;\n",
       "    }\n",
       "\n",
       "    .dataframe tbody tr th {\n",
       "        vertical-align: top;\n",
       "    }\n",
       "\n",
       "    .dataframe thead th {\n",
       "        text-align: right;\n",
       "    }\n",
       "</style>\n",
       "<table border=\"1\" class=\"dataframe\">\n",
       "  <thead>\n",
       "    <tr style=\"text-align: right;\">\n",
       "      <th></th>\n",
       "      <th>user_id</th>\n",
       "      <th>month</th>\n",
       "      <th>quantity</th>\n",
       "      <th>distance</th>\n",
       "      <th>duration</th>\n",
       "      <th>profit</th>\n",
       "    </tr>\n",
       "  </thead>\n",
       "  <tbody>\n",
       "    <tr>\n",
       "      <th>count</th>\n",
       "      <td>4533.000000</td>\n",
       "      <td>4533.000000</td>\n",
       "      <td>4533.000000</td>\n",
       "      <td>4533.000000</td>\n",
       "      <td>4533.000000</td>\n",
       "      <td>4533.000000</td>\n",
       "    </tr>\n",
       "    <tr>\n",
       "      <th>mean</th>\n",
       "      <td>347.769910</td>\n",
       "      <td>6.427973</td>\n",
       "      <td>1.433929</td>\n",
       "      <td>4467.327382</td>\n",
       "      <td>27.080300</td>\n",
       "      <td>361.481800</td>\n",
       "    </tr>\n",
       "    <tr>\n",
       "      <th>std</th>\n",
       "      <td>200.433553</td>\n",
       "      <td>3.418698</td>\n",
       "      <td>0.696331</td>\n",
       "      <td>2353.168174</td>\n",
       "      <td>14.399994</td>\n",
       "      <td>86.399966</td>\n",
       "    </tr>\n",
       "    <tr>\n",
       "      <th>min</th>\n",
       "      <td>1.000000</td>\n",
       "      <td>1.000000</td>\n",
       "      <td>1.000000</td>\n",
       "      <td>244.210438</td>\n",
       "      <td>4.000000</td>\n",
       "      <td>223.000000</td>\n",
       "    </tr>\n",
       "    <tr>\n",
       "      <th>25%</th>\n",
       "      <td>174.000000</td>\n",
       "      <td>3.000000</td>\n",
       "      <td>1.000000</td>\n",
       "      <td>2981.762521</td>\n",
       "      <td>17.000000</td>\n",
       "      <td>301.000000</td>\n",
       "    </tr>\n",
       "    <tr>\n",
       "      <th>50%</th>\n",
       "      <td>348.000000</td>\n",
       "      <td>6.000000</td>\n",
       "      <td>1.000000</td>\n",
       "      <td>3572.518224</td>\n",
       "      <td>22.000000</td>\n",
       "      <td>331.000000</td>\n",
       "    </tr>\n",
       "    <tr>\n",
       "      <th>75%</th>\n",
       "      <td>523.000000</td>\n",
       "      <td>9.000000</td>\n",
       "      <td>2.000000</td>\n",
       "      <td>5883.378452</td>\n",
       "      <td>34.000000</td>\n",
       "      <td>403.000000</td>\n",
       "    </tr>\n",
       "    <tr>\n",
       "      <th>max</th>\n",
       "      <td>699.000000</td>\n",
       "      <td>12.000000</td>\n",
       "      <td>6.000000</td>\n",
       "      <td>20009.704886</td>\n",
       "      <td>124.000000</td>\n",
       "      <td>943.000000</td>\n",
       "    </tr>\n",
       "  </tbody>\n",
       "</table>\n",
       "</div>"
      ],
      "text/plain": [
       "           user_id        month     quantity      distance     duration  \\\n",
       "count  4533.000000  4533.000000  4533.000000   4533.000000  4533.000000   \n",
       "mean    347.769910     6.427973     1.433929   4467.327382    27.080300   \n",
       "std     200.433553     3.418698     0.696331   2353.168174    14.399994   \n",
       "min       1.000000     1.000000     1.000000    244.210438     4.000000   \n",
       "25%     174.000000     3.000000     1.000000   2981.762521    17.000000   \n",
       "50%     348.000000     6.000000     1.000000   3572.518224    22.000000   \n",
       "75%     523.000000     9.000000     2.000000   5883.378452    34.000000   \n",
       "max     699.000000    12.000000     6.000000  20009.704886   124.000000   \n",
       "\n",
       "            profit  \n",
       "count  4533.000000  \n",
       "mean    361.481800  \n",
       "std      86.399966  \n",
       "min     223.000000  \n",
       "25%     301.000000  \n",
       "50%     331.000000  \n",
       "75%     403.000000  \n",
       "max     943.000000  "
      ]
     },
     "execution_count": 41,
     "metadata": {},
     "output_type": "execute_result"
    }
   ],
   "source": [
    "(data_all.query('subscription_type == \"ultra\"').describe())"
   ]
  },
  {
   "cell_type": "code",
   "execution_count": 42,
   "id": "de49e775",
   "metadata": {},
   "outputs": [
    {
     "data": {
      "text/html": [
       "<div>\n",
       "<style scoped>\n",
       "    .dataframe tbody tr th:only-of-type {\n",
       "        vertical-align: middle;\n",
       "    }\n",
       "\n",
       "    .dataframe tbody tr th {\n",
       "        vertical-align: top;\n",
       "    }\n",
       "\n",
       "    .dataframe thead th {\n",
       "        text-align: right;\n",
       "    }\n",
       "</style>\n",
       "<table border=\"1\" class=\"dataframe\">\n",
       "  <thead>\n",
       "    <tr style=\"text-align: right;\">\n",
       "      <th></th>\n",
       "      <th>user_id</th>\n",
       "      <th>month</th>\n",
       "      <th>quantity</th>\n",
       "      <th>distance</th>\n",
       "      <th>duration</th>\n",
       "      <th>profit</th>\n",
       "    </tr>\n",
       "  </thead>\n",
       "  <tbody>\n",
       "    <tr>\n",
       "      <th>count</th>\n",
       "      <td>6798.000000</td>\n",
       "      <td>6798.000000</td>\n",
       "      <td>6798.000000</td>\n",
       "      <td>6798.000000</td>\n",
       "      <td>6798.000000</td>\n",
       "      <td>6798.000000</td>\n",
       "    </tr>\n",
       "    <tr>\n",
       "      <th>mean</th>\n",
       "      <td>1119.990144</td>\n",
       "      <td>6.510591</td>\n",
       "      <td>1.701677</td>\n",
       "      <td>5182.449164</td>\n",
       "      <td>30.094881</td>\n",
       "      <td>325.842895</td>\n",
       "    </tr>\n",
       "    <tr>\n",
       "      <th>std</th>\n",
       "      <td>240.512508</td>\n",
       "      <td>3.460505</td>\n",
       "      <td>0.894871</td>\n",
       "      <td>3198.989334</td>\n",
       "      <td>17.478635</td>\n",
       "      <td>180.515646</td>\n",
       "    </tr>\n",
       "    <tr>\n",
       "      <th>min</th>\n",
       "      <td>700.000000</td>\n",
       "      <td>1.000000</td>\n",
       "      <td>1.000000</td>\n",
       "      <td>2.570787</td>\n",
       "      <td>1.000000</td>\n",
       "      <td>58.000000</td>\n",
       "    </tr>\n",
       "    <tr>\n",
       "      <th>25%</th>\n",
       "      <td>915.000000</td>\n",
       "      <td>4.000000</td>\n",
       "      <td>1.000000</td>\n",
       "      <td>2952.361137</td>\n",
       "      <td>18.000000</td>\n",
       "      <td>194.000000</td>\n",
       "    </tr>\n",
       "    <tr>\n",
       "      <th>50%</th>\n",
       "      <td>1120.000000</td>\n",
       "      <td>6.000000</td>\n",
       "      <td>1.000000</td>\n",
       "      <td>4324.635714</td>\n",
       "      <td>25.000000</td>\n",
       "      <td>268.000000</td>\n",
       "    </tr>\n",
       "    <tr>\n",
       "      <th>75%</th>\n",
       "      <td>1326.000000</td>\n",
       "      <td>9.000000</td>\n",
       "      <td>2.000000</td>\n",
       "      <td>6861.657086</td>\n",
       "      <td>40.000000</td>\n",
       "      <td>420.000000</td>\n",
       "    </tr>\n",
       "    <tr>\n",
       "      <th>max</th>\n",
       "      <td>1534.000000</td>\n",
       "      <td>12.000000</td>\n",
       "      <td>7.000000</td>\n",
       "      <td>23429.487786</td>\n",
       "      <td>141.000000</td>\n",
       "      <td>1428.000000</td>\n",
       "    </tr>\n",
       "  </tbody>\n",
       "</table>\n",
       "</div>"
      ],
      "text/plain": [
       "           user_id        month     quantity      distance     duration  \\\n",
       "count  6798.000000  6798.000000  6798.000000   6798.000000  6798.000000   \n",
       "mean   1119.990144     6.510591     1.701677   5182.449164    30.094881   \n",
       "std     240.512508     3.460505     0.894871   3198.989334    17.478635   \n",
       "min     700.000000     1.000000     1.000000      2.570787     1.000000   \n",
       "25%     915.000000     4.000000     1.000000   2952.361137    18.000000   \n",
       "50%    1120.000000     6.000000     1.000000   4324.635714    25.000000   \n",
       "75%    1326.000000     9.000000     2.000000   6861.657086    40.000000   \n",
       "max    1534.000000    12.000000     7.000000  23429.487786   141.000000   \n",
       "\n",
       "            profit  \n",
       "count  6798.000000  \n",
       "mean    325.842895  \n",
       "std     180.515646  \n",
       "min      58.000000  \n",
       "25%     194.000000  \n",
       "50%     268.000000  \n",
       "75%     420.000000  \n",
       "max    1428.000000  "
      ]
     },
     "execution_count": 42,
     "metadata": {},
     "output_type": "execute_result"
    }
   ],
   "source": [
    "(data_all.query('subscription_type == \"free\"').describe())"
   ]
  },
  {
   "cell_type": "markdown",
   "id": "5f669263",
   "metadata": {},
   "source": [
    "#### Общий вывод по выручке:\n",
    "С подпиской:\n",
    "* Кол-во поездок 4533\n",
    "* Общее время всех поездок c подпиской:  122755 минут\n",
    "* Общее растояние всех поездок с подпиской:  20250395 метров\n",
    "* Сумма общей выручки по клиентам с подпиской составляет:  1638597 рублей\n",
    "* Средняя сумма выручки по клиентам с подпиской составляет:  361 рублей\n",
    "\n",
    "Без подписки:\n",
    "* Кол-во поездок 6798\n",
    "* Общее время всех поездок без подписки:  204585 минут\n",
    "* Общее растояние всех поездок без подписки:  35230289 метров\n",
    "* Сумма общей выручки по клиентам без подписки составляет:  2215080 рублей\n",
    "* Средняя сумма выручки по клиентам без подписки составляет:  325 рублей\n"
   ]
  },
  {
   "cell_type": "markdown",
   "id": "41545ac0",
   "metadata": {},
   "source": [
    "### Шаг 6. Проверка гипотез"
   ]
  },
  {
   "cell_type": "markdown",
   "id": "ec7bbea9",
   "metadata": {},
   "source": [
    "Продакт-менеджеры сервиса хотят увеличить количество пользователей с подпиской. Для этого они будут проводить различные акции, но сначала нужно выяснить несколько важных моментов.\n",
    "\n",
    "\n",
    "Важно понять, тратят ли пользователи с подпиской больше времени на поездки? Если да, то пользователи с подпиской могут быть «выгоднее» для компании. Проверьте гипотезу. Используйте исходные данные о продолжительности каждой сессии — отдельно для подписчиков и тех, у кого нет подписки."
   ]
  },
  {
   "cell_type": "markdown",
   "id": "59a0e2ab",
   "metadata": {},
   "source": [
    "Проверка гипотезы о влияние подписки на время поездок:\n",
    "- Нулевая гипотеза: Наличие подписки ни как не влияет на длительность поездок\n",
    "- Алтернативаня гипотеза: Пользователи с подпиской тратят меньше времени."
   ]
  },
  {
   "cell_type": "code",
   "execution_count": 43,
   "id": "9032982b",
   "metadata": {},
   "outputs": [
    {
     "name": "stdout",
     "output_type": "stream",
     "text": [
      "Среднее значение длительности поездки без подписки 30.094880847308033\n",
      "Среднее значение длительности поездки с подпиской 27.080300022060445\n",
      "p-значение 3.4611003532703337e-22\n",
      "Статистика t-testa -9.634693426161272\n",
      "Отвергаем нулевую гипотезу\n"
     ]
    }
   ],
   "source": [
    "alpha=0.05\n",
    "result_one=st.ttest_ind(data_all.query('subscription_type == \"ultra\"')['duration'],\n",
    "                        data_all.query('subscription_type == \"free\"')['duration'],\n",
    "                        alternative = 'less')\n",
    "print('Среднее значение длительности поездки без подписки',data_all.query('subscription_type == \"free\"')['duration'].mean())\n",
    "print('Среднее значение длительности поездки с подпиской',data_all.query('subscription_type == \"ultra\"')['duration'].mean())\n",
    "print('p-значение', result_one.pvalue)\n",
    "print('Статистика t-testa', result_one.statistic)\n",
    "if (result_one.pvalue < alpha):\n",
    "    print('Отвергаем нулевую гипотезу')\n",
    "else:\n",
    "    print('Не отвергаем нулевую гипотезу') "
   ]
  },
  {
   "cell_type": "code",
   "execution_count": 44,
   "id": "46ee3d87",
   "metadata": {},
   "outputs": [
    {
     "data": {
      "image/png": "[encoded data removed]",
      "text/plain": [
       "<Figure size 432x288 with 1 Axes>"
      ]
     },
     "metadata": {},
     "output_type": "display_data"
    }
   ],
   "source": [
    "ax = sns.barplot(x='month',\n",
    "            y='duration',\n",
    "            hue='subscription_type',\n",
    "            data=data_all)\n",
    "ax.set_title('Распределение продолжительности поездок по видам подписок и месяцам')\n",
    "ax.set(xlabel='Номер месяца', ylabel='Продолжительность поездок');"
   ]
  },
  {
   "cell_type": "markdown",
   "id": "51dc371c",
   "metadata": {},
   "source": [
    "Вывод: Отвергаем нулевую теорию о том что наличие подписки влияеет на продолжительность поездки."
   ]
  },
  {
   "cell_type": "markdown",
   "id": "2cf90a81",
   "metadata": {},
   "source": [
    "Проверка односторонней гипотизы"
   ]
  },
  {
   "cell_type": "markdown",
   "id": "97df029c",
   "metadata": {},
   "source": [
    " Расстояние одной поездки в \n",
    "\n",
    "3130 метров — оптимальное с точки зрения износа самоката. Можно ли сказать, что расстояние, которое проезжают пользователи с подпиской за одну поездку, не превышает \n",
    "\n",
    "3130 метров? Проверьте гипотезу и сделайте выводы."
   ]
  },
  {
   "cell_type": "markdown",
   "id": "100d1a88",
   "metadata": {},
   "source": [
    "Нулевая гипотеза - растояние равно 3130м.\n",
    "\n",
    "Альтернативаня - растояние превышает 3130м."
   ]
  },
  {
   "cell_type": "code",
   "execution_count": 45,
   "id": "9d45d2cb",
   "metadata": {},
   "outputs": [
    {
     "name": "stdout",
     "output_type": "stream",
     "text": [
      "Средняя дистанция клиента с подпиской 4467.327381919405\n",
      "p-значение 3.883541374011314e-278\n",
      "Статистика t-testa 38.26287777473817\n",
      "Отвергаем нулевую гипотезу\n"
     ]
    }
   ],
   "source": [
    "recommended_distance = 3130\n",
    "alpha = 0.05\n",
    "result_two = st.ttest_1samp(data_all.query('subscription_type == \"ultra\"')['distance'],\n",
    "                      recommended_distance,\n",
    "                      alternative='greater')\n",
    "print('Средняя дистанция клиента с подпиской',data_all.query('subscription_type == \"ultra\"')['distance'].mean())\n",
    "print('p-значение', result_two.pvalue)\n",
    "print('Статистика t-testa', result_two.statistic)\n",
    "if (result_two.pvalue<alpha):\n",
    "    print('Отвергаем нулевую гипотезу')\n",
    "else:\n",
    "    print('Не отвергаем нулевую гипотезу') "
   ]
  },
  {
   "cell_type": "code",
   "execution_count": 46,
   "id": "a4ebf711",
   "metadata": {},
   "outputs": [
    {
     "data": {
      "image/png": "[encoded data removed]",
      "text/plain": [
       "<Figure size 432x288 with 1 Axes>"
      ]
     },
     "metadata": {},
     "output_type": "display_data"
    }
   ],
   "source": [
    "ax = sns.barplot(x='month',\n",
    "            y='distance',\n",
    "            hue='subscription_type',\n",
    "            data=data_all)\n",
    "ax.set_title('Распределение продолжительности поездок по видам подписок и месяцам')\n",
    "ax.set(xlabel='Номер месяца', ylabel='Продолжительность поездок');"
   ]
  },
  {
   "cell_type": "markdown",
   "id": "69da68e5",
   "metadata": {},
   "source": [
    "Вывод: По итогу можем отвергнуть нулевую теорию"
   ]
  },
  {
   "cell_type": "markdown",
   "id": "238e1246",
   "metadata": {},
   "source": [
    " Проверем гипотезу о том, будет ли помесячная выручка от пользователей с подпиской по месяцам выше, чем выручка от пользователей без подписки. \n",
    " \n",
    " 0-гипотеза доходы равны\n",
    " \n",
    " \n",
    " Альтернативная доход с подписки выше"
   ]
  },
  {
   "cell_type": "code",
   "execution_count": 47,
   "id": "f4c51385",
   "metadata": {},
   "outputs": [
    {
     "name": "stdout",
     "output_type": "stream",
     "text": [
      "Средний доход с клиентов с подпиской 361.48180013236265\n",
      "Средний доход с клиентов без подписки 325.84289496910856\n",
      "p-значение 5.626185237697457e-35\n",
      "Статистика t-testa 12.380242460173289\n",
      "Отвергаем нулевую гипотезу\n"
     ]
    }
   ],
   "source": [
    "alpha=0.05\n",
    "result_one=st.ttest_ind(data_all.query('subscription_type == \"ultra\"')['profit'],\n",
    "                      data_all.query('subscription_type == \"free\"')['profit'])\n",
    "\n",
    "print('Средний доход с клиентов с подпиской',data_all.query('subscription_type == \"ultra\"')['profit'].mean())\n",
    "print('Средний доход с клиентов без подписки',data_all.query('subscription_type == \"free\"')['profit'].mean())\n",
    "print('p-значение', result_one.pvalue)\n",
    "print('Статистика t-testa', result_one.statistic)\n",
    "if (result_one.pvalue<alpha):\n",
    "    print('Отвергаем нулевую гипотезу')\n",
    "else:\n",
    "    print('Не отвергаем нулевую гипотезу') "
   ]
  },
  {
   "cell_type": "code",
   "execution_count": 48,
   "id": "6d00fd9e",
   "metadata": {},
   "outputs": [
    {
     "data": {
      "image/png": "[encoded data removed]",
      "text/plain": [
       "<Figure size 432x288 with 1 Axes>"
      ]
     },
     "metadata": {},
     "output_type": "display_data"
    }
   ],
   "source": [
    "ax = sns.barplot(x ='month',\n",
    "            y='profit',\n",
    "            hue='subscription_type',\n",
    "            data = data_all)\n",
    "ax.set_title('Распределение продолжительности поездок по видам подписок и месяцам')\n",
    "ax.set(xlabel='Номер месяца', ylabel='Продолжительность поездок');"
   ]
  },
  {
   "cell_type": "markdown",
   "id": "f634631e",
   "metadata": {},
   "source": [
    "Вывод: Можем предположить что клиенты с подпиской приносят в средем болюшую прибыль, нежели клиенты без подписки."
   ]
  },
  {
   "cell_type": "markdown",
   "id": "3bd13c27",
   "metadata": {},
   "source": [
    "Представьте такую ситуацию: техническая команда сервиса обновила сервера, с которыми взаимодействует мобильное приложение. Она надеется, что из-за этого количество обращений в техподдержку значимо снизилось. Некоторый файл содержит для каждого пользователя данные о количестве обращений до обновления и после него. Какой тест вам понадобился бы для проверки этой гипотезы?"
   ]
  },
  {
   "cell_type": "markdown",
   "id": "ec7d5ef5",
   "metadata": {},
   "source": [
    "Потребуется проверить гипотезу о раввенстве средних для зависимых выборок. метод:scipy.stats.ttest_rel()"
   ]
  },
  {
   "cell_type": "markdown",
   "id": "2d1c9fb1",
   "metadata": {},
   "source": [
    "### Общий вывод:"
   ]
  },
  {
   "cell_type": "markdown",
   "id": "5f66d9a5",
   "metadata": {},
   "source": [
    "У нас в распоряжении данные о некоторых пользователях из нескольких городов, а также об их поездках. Проанализируйте данные и проверьте некоторые гипотезы, которые могут помочь бизнесу вырасти.\n",
    "\n",
    "\n",
    "Чтобы совершать поездки по городу, пользователи сервиса GoFast пользуются мобильным приложением.\n",
    "\n",
    "Сервисом можно пользоваться:\n",
    "- без подписки \n",
    "абонентская плата отсутствует;\n",
    "\n",
    "стоимость одной минуты поездки — 8 рублей;\n",
    "\n",
    "стоимость старта (начала поездки) — 50 рублей;\n",
    "\n",
    "\n",
    "- с подпиской Ultra\n",
    "абонентская плата — 199 рублей в месяц;\n",
    "\n",
    "стоимость одной минуты поездки — 6 рублей;\n",
    "\n",
    "стоимость старта — бесплатно.\n",
    " Описание данных\n",
    "\n",
    "- user_id\tуникальный идентификатор пользователя\n",
    "- name\tимя пользователя\n",
    "- age\tвозраст\n",
    "- city\tгород\n",
    "- subscription_type\tтип подписки (free, ultra)\n",
    "- user_id\tуникальный идентификатор пользователя\n",
    "- distance\tрасстояние, которое пользователь проехал в текущей сессии (в метрах)\n",
    "- duration\tпродолжительность сессии (в минутах) — время с того момента, как пользователь нажал кнопку «Начать поездку» до момента, как он нажал кнопку «Завершить поездку»\n",
    "- date\tдата совершения поездки\n",
    "- subscription_type\tтип подписки\n",
    "- minute_price\tстоимость одной минуты поездки по данной подписке\n",
    "- start_ride_price\tстоимость начала поездки\n",
    "- subscription_fee\tстоимость ежемесячного платежа\n",
    "\n",
    " Порядок действий:\n",
    "* Загрузка данных\n",
    "* Предобработка\n",
    "* Иследовательский анализ\n",
    "* Обьединенение данных\n",
    "* Подсчет выручки\n",
    "* Проверка Гипотез\n",
    "\n",
    "Шаг 1. Загрузка данных\n",
    "Загруженно 3 файла, пропуски не обнаружены, в одном из файлов необходимо сменить тип данных колонки дата.\n",
    "\n",
    "\n",
    "Шаг 2. Предобработка данных\n",
    "При проверки были обноружены дубликаты в дс data_user в обьеме 31 шт, в последующем были удалены.В колонка дата приведена в соответствие с нужным форматом.\n",
    "\n",
    "Шаг 3. Исследовательский анализ данных\n",
    "Сотношение пользователей примерно равно есть небольшие перекосы в сторону Пятигорска, Екатеринбурга, Краснодара. Наименьшее кол-во пользователей по отношению к другим городам это Москва.\n",
    "\n",
    "Пользователи без подписки доминируют над пользователями с подпиской на 8%.\n",
    "\n",
    "Средний возраст пользователя составляет примерно 25 лет\n",
    "\n",
    "Минимальный возраст составил 12 лет\n",
    "\n",
    "Максимальный возраст сотсавил 43 года.\n",
    "\n",
    "Клиенты в возрасте от 22 лет до 28 лет являются ключейвой аудиторией сервса\n",
    "\n",
    "Среднее растояний каждой поездки составляет 3070м\n",
    "\n",
    "Минимальеная поездка меньше метра\n",
    "\n",
    "Максимальная 7211 метров\n",
    "\n",
    "Основная масса использует сервис на растоянии от 2543м до 3776м\n",
    "\n",
    "Средняя продолжитлеьность поездки составляет 17 минут\n",
    "\n",
    "Минимальная поездка пол минуты\n",
    "\n",
    "Максимальное время поездки 41 минута\n",
    "\n",
    "В основном пользователи пользуется услугой в промежутке от 13 минут до 21 минуты\n",
    "\n",
    "\n",
    "\n",
    "Шаг 4. Объединение данных\n",
    "\n",
    "Обьединняем два дата сета в один data_user, затем делим по признаку подписки, для проведения анализа\n",
    "\n",
    "Средняя длительность поездки у клиента без подписки составляет 17.3 минуты\n",
    "Минимальная длительнось 0.5 минуты\n",
    "Максимальная длительность 35 минут\n",
    "Средняя дистанция поездки у пользователя без подписки составляет 3045 метров\n",
    "Минимальная составляет 0.85 метра\n",
    "Максимальная 7211 метров\n",
    "Средняя длительность поездки у клиента с подпиской составляет 18.5 минуты\n",
    "Минимальная длительнось 3.7 минуты\n",
    "Максимальная длительность 41 минуту\n",
    "Средняя дистанция поездки у пользователя с подпиской составляет 3115 метров\n",
    "Минимальная составляет 244 метра\n",
    "Максимальная 5700 метров\n",
    "\n",
    "Шаг 5. Подсчет выручки\n",
    "\n",
    "С подпиской:\n",
    "\n",
    "Кол-во поездок 4533\n",
    "Общее время всех поездок c подпиской: 122755 минут\n",
    "Общее растояние всех поездок с подпиской: 20250395 метров\n",
    "Сумма общей выручки по клиентам с подпиской составляет: 1638597 рублей\n",
    "Средняя сумма выручки по клиентам с подпиской составляет: 361 рублей\n",
    "\n",
    "\n",
    "Без подписки:\n",
    "\n",
    "Кол-во поездок 6798\n",
    "Общее время всех поездок без подписки: 204585 минут\n",
    "Общее растояние всех поездок без подписки: 35230289 метров\n",
    "Сумма общей выручки по клиентам без подписки составляет: 2215080 рублей\n",
    "Средняя сумма выручки по клиентам без подписки составляет: 325 рублей\n",
    "\n",
    "\n",
    "\n",
    "Шаг 6. Проверка гипотез\n",
    "\n",
    "1.Проверка гипотезы о влияние подписки на время поездок:\n",
    "\n",
    "Нулевая гипотеза: Наличие подписки ни как не влияет на длительность поездок\n",
    "Алтернативаня гипотеза: Пользователи с подпиской тратят меньше времени.\n",
    "\n",
    "p-значение 3.4611003532703337e-22\n",
    "Отвергаем нулевую гипотезу\n",
    "\n",
    "\n",
    "2.Проверка гипотезы о растоянии:\n",
    "\n",
    "Нулевая гипотеза - растояние поездки не превышает 3130м.\n",
    "\n",
    "Альтернативаня - растояние превышает 3130м.\n",
    "p-значение 3.883541374011314e-278\n",
    "Отвергаем нулевую гипотезу\n",
    "\n",
    "3.Проверем гипотезу о том, будет ли помесячная выручка от пользователей с подпиской по месяцам выше, чем выручка от пользователей без подписки.\n",
    "\n",
    "0-гипотеза доходы равны\n",
    "\n",
    "Альтернативная доход с подписки выше\n",
    "\n",
    "p-значение 5.626185237697457e-35\n",
    "Отвергаем нулевую гипотезу\n",
    "\n",
    "\n",
    "Представьте такую ситуацию: техническая команда сервиса обновила сервера, с которыми взаимодействует мобильное приложение. Она надеется, что из-за этого количество обращений в техподдержку значимо снизилось. Некоторый файл содержит для каждого пользователя данные о количестве обращений до обновления и после него. Какой тест вам понадобился бы для проверки этой гипотезы?\n",
    "\n",
    "Потребуется проверить гипотезу о раввенстве средних для зависимых выборок. метод:scipy.stats.ttest_rel()\n",
    "\n",
    "\n",
    "Рекомендации:\n",
    "* Увеличить кол-во самокатов в Москве\n",
    "* Предпринять меры по увеличению кол-ва подписчиков\n"
   ]
  }
 ],
 "metadata": {
  "ExecuteTimeLog": [
   {
    "duration": 442,
    "start_time": "2023-06-25T06:03:31.923Z"
   },
   {
    "duration": 299,
    "start_time": "2023-06-25T06:06:10.160Z"
   },
   {
    "duration": 72,
    "start_time": "2023-06-25T06:14:33.128Z"
   },
   {
    "duration": 15,
    "start_time": "2023-06-25T06:14:35.042Z"
   },
   {
    "duration": 7,
    "start_time": "2023-06-25T06:14:38.198Z"
   },
   {
    "duration": 13,
    "start_time": "2023-06-25T06:58:18.734Z"
   },
   {
    "duration": 12,
    "start_time": "2023-06-25T06:58:32.736Z"
   },
   {
    "duration": 11,
    "start_time": "2023-06-25T06:59:00.137Z"
   },
   {
    "duration": 129,
    "start_time": "2023-06-25T09:06:16.899Z"
   },
   {
    "duration": 136,
    "start_time": "2023-06-25T09:06:26.585Z"
   },
   {
    "duration": 1385,
    "start_time": "2023-06-25T09:06:41.333Z"
   },
   {
    "duration": 999,
    "start_time": "2023-06-25T09:07:10.799Z"
   },
   {
    "duration": 27,
    "start_time": "2023-06-25T09:07:21.468Z"
   },
   {
    "duration": 13,
    "start_time": "2023-06-25T09:08:09.386Z"
   },
   {
    "duration": 442,
    "start_time": "2023-06-25T09:09:31.187Z"
   },
   {
    "duration": 104,
    "start_time": "2023-06-25T09:09:31.631Z"
   },
   {
    "duration": 8,
    "start_time": "2023-06-25T09:09:31.737Z"
   },
   {
    "duration": 32,
    "start_time": "2023-06-25T09:09:31.747Z"
   },
   {
    "duration": 24,
    "start_time": "2023-06-25T09:09:31.781Z"
   },
   {
    "duration": 34,
    "start_time": "2023-06-25T09:09:31.807Z"
   },
   {
    "duration": 41,
    "start_time": "2023-06-25T09:09:31.843Z"
   },
   {
    "duration": 9,
    "start_time": "2023-06-25T09:09:31.886Z"
   },
   {
    "duration": 53,
    "start_time": "2023-06-25T09:13:20.414Z"
   },
   {
    "duration": 20,
    "start_time": "2023-06-25T09:13:29.173Z"
   },
   {
    "duration": 91,
    "start_time": "2023-06-25T09:14:05.343Z"
   },
   {
    "duration": 11,
    "start_time": "2023-06-25T09:14:14.398Z"
   },
   {
    "duration": 12,
    "start_time": "2023-06-25T09:14:20.469Z"
   },
   {
    "duration": 7,
    "start_time": "2023-06-25T09:14:24.528Z"
   },
   {
    "duration": 8,
    "start_time": "2023-06-25T09:17:22.190Z"
   },
   {
    "duration": 10,
    "start_time": "2023-06-25T09:17:40.612Z"
   },
   {
    "duration": 16,
    "start_time": "2023-06-25T09:19:01.475Z"
   },
   {
    "duration": 9,
    "start_time": "2023-06-25T09:19:25.083Z"
   },
   {
    "duration": 11,
    "start_time": "2023-06-25T09:19:30.619Z"
   },
   {
    "duration": 18,
    "start_time": "2023-06-25T09:20:04.081Z"
   },
   {
    "duration": 27,
    "start_time": "2023-06-25T09:20:05.480Z"
   },
   {
    "duration": 12,
    "start_time": "2023-06-25T09:20:06.277Z"
   },
   {
    "duration": 10,
    "start_time": "2023-06-25T09:21:20.313Z"
   },
   {
    "duration": 4,
    "start_time": "2023-06-25T09:21:36.411Z"
   },
   {
    "duration": 10,
    "start_time": "2023-06-25T09:21:43.548Z"
   },
   {
    "duration": 441,
    "start_time": "2023-06-25T09:22:05.978Z"
   },
   {
    "duration": 103,
    "start_time": "2023-06-25T09:22:06.421Z"
   },
   {
    "duration": 11,
    "start_time": "2023-06-25T09:22:06.526Z"
   },
   {
    "duration": 8,
    "start_time": "2023-06-25T09:22:06.539Z"
   },
   {
    "duration": 29,
    "start_time": "2023-06-25T09:22:06.549Z"
   },
   {
    "duration": 14,
    "start_time": "2023-06-25T09:22:06.581Z"
   },
   {
    "duration": 11,
    "start_time": "2023-06-25T09:22:06.597Z"
   },
   {
    "duration": 12,
    "start_time": "2023-06-25T09:22:06.610Z"
   },
   {
    "duration": 9,
    "start_time": "2023-06-25T09:22:06.624Z"
   },
   {
    "duration": 22,
    "start_time": "2023-06-25T09:22:06.634Z"
   },
   {
    "duration": 117,
    "start_time": "2023-06-25T09:22:06.660Z"
   },
   {
    "duration": 8,
    "start_time": "2023-06-25T09:22:13.531Z"
   },
   {
    "duration": 10,
    "start_time": "2023-06-25T09:22:46.036Z"
   },
   {
    "duration": 492,
    "start_time": "2023-06-25T09:22:54.174Z"
   },
   {
    "duration": 94,
    "start_time": "2023-06-25T09:22:54.675Z"
   },
   {
    "duration": 14,
    "start_time": "2023-06-25T09:22:54.772Z"
   },
   {
    "duration": 9,
    "start_time": "2023-06-25T09:22:54.789Z"
   },
   {
    "duration": 14,
    "start_time": "2023-06-25T09:22:54.802Z"
   },
   {
    "duration": 12,
    "start_time": "2023-06-25T09:22:54.818Z"
   },
   {
    "duration": 21,
    "start_time": "2023-06-25T09:22:54.855Z"
   },
   {
    "duration": 27,
    "start_time": "2023-06-25T09:22:54.878Z"
   },
   {
    "duration": 17,
    "start_time": "2023-06-25T09:22:54.908Z"
   },
   {
    "duration": 118,
    "start_time": "2023-06-25T09:22:54.927Z"
   },
   {
    "duration": 4,
    "start_time": "2023-06-25T09:23:20.846Z"
   },
   {
    "duration": 9,
    "start_time": "2023-06-25T09:23:34.435Z"
   },
   {
    "duration": 8,
    "start_time": "2023-06-25T09:23:46.623Z"
   },
   {
    "duration": 476,
    "start_time": "2023-06-25T09:23:52.022Z"
   },
   {
    "duration": 95,
    "start_time": "2023-06-25T09:23:52.500Z"
   },
   {
    "duration": 10,
    "start_time": "2023-06-25T09:23:52.597Z"
   },
   {
    "duration": 9,
    "start_time": "2023-06-25T09:23:52.609Z"
   },
   {
    "duration": 12,
    "start_time": "2023-06-25T09:23:52.621Z"
   },
   {
    "duration": 11,
    "start_time": "2023-06-25T09:23:52.635Z"
   },
   {
    "duration": 23,
    "start_time": "2023-06-25T09:23:52.658Z"
   },
   {
    "duration": 16,
    "start_time": "2023-06-25T09:23:52.683Z"
   },
   {
    "duration": 11,
    "start_time": "2023-06-25T09:23:52.701Z"
   },
   {
    "duration": 7,
    "start_time": "2023-06-25T09:23:52.714Z"
   },
   {
    "duration": 49,
    "start_time": "2023-06-25T09:23:52.723Z"
   },
   {
    "duration": 13,
    "start_time": "2023-06-25T09:24:03.781Z"
   },
   {
    "duration": 16,
    "start_time": "2023-06-25T09:24:14.373Z"
   },
   {
    "duration": 12,
    "start_time": "2023-06-25T09:24:17.190Z"
   },
   {
    "duration": 12,
    "start_time": "2023-06-25T09:25:15.235Z"
   },
   {
    "duration": 13,
    "start_time": "2023-06-25T09:25:35.720Z"
   },
   {
    "duration": 18,
    "start_time": "2023-06-25T09:26:22.756Z"
   },
   {
    "duration": 69,
    "start_time": "2023-06-25T11:25:21.580Z"
   },
   {
    "duration": 14,
    "start_time": "2023-06-25T11:25:27.672Z"
   },
   {
    "duration": 17,
    "start_time": "2023-06-25T11:25:37.674Z"
   },
   {
    "duration": 17,
    "start_time": "2023-06-25T11:26:01.908Z"
   },
   {
    "duration": 10,
    "start_time": "2023-06-25T11:26:11.203Z"
   },
   {
    "duration": 13,
    "start_time": "2023-06-25T16:54:29.391Z"
   },
   {
    "duration": 7,
    "start_time": "2023-06-25T16:54:35.719Z"
   },
   {
    "duration": 11,
    "start_time": "2023-06-25T16:54:41.332Z"
   },
   {
    "duration": 13,
    "start_time": "2023-06-25T16:54:56.494Z"
   },
   {
    "duration": 886,
    "start_time": "2023-06-25T16:55:07.420Z"
   },
   {
    "duration": 338,
    "start_time": "2023-06-25T16:55:08.308Z"
   },
   {
    "duration": 12,
    "start_time": "2023-06-25T16:55:08.648Z"
   },
   {
    "duration": 17,
    "start_time": "2023-06-25T16:55:08.662Z"
   },
   {
    "duration": 44,
    "start_time": "2023-06-25T16:55:08.683Z"
   },
   {
    "duration": 6,
    "start_time": "2023-06-25T16:55:08.729Z"
   },
   {
    "duration": 25,
    "start_time": "2023-06-25T16:55:08.737Z"
   },
   {
    "duration": 21,
    "start_time": "2023-06-25T16:55:08.764Z"
   },
   {
    "duration": 51,
    "start_time": "2023-06-25T16:55:08.787Z"
   },
   {
    "duration": 13,
    "start_time": "2023-06-25T16:55:08.839Z"
   },
   {
    "duration": 23,
    "start_time": "2023-06-25T16:55:08.854Z"
   },
   {
    "duration": 19,
    "start_time": "2023-06-25T16:55:08.879Z"
   },
   {
    "duration": 845,
    "start_time": "2023-06-25T17:00:10.149Z"
   },
   {
    "duration": 204,
    "start_time": "2023-06-25T17:00:18.972Z"
   },
   {
    "duration": 214,
    "start_time": "2023-06-25T17:00:26.202Z"
   },
   {
    "duration": 647,
    "start_time": "2023-06-25T17:01:34.895Z"
   },
   {
    "duration": 1431,
    "start_time": "2023-06-25T17:01:41.734Z"
   },
   {
    "duration": 127,
    "start_time": "2023-06-25T17:01:43.168Z"
   },
   {
    "duration": 13,
    "start_time": "2023-06-25T17:01:43.296Z"
   },
   {
    "duration": 11,
    "start_time": "2023-06-25T17:01:43.311Z"
   },
   {
    "duration": 16,
    "start_time": "2023-06-25T17:01:43.325Z"
   },
   {
    "duration": 9,
    "start_time": "2023-06-25T17:01:43.343Z"
   },
   {
    "duration": 20,
    "start_time": "2023-06-25T17:01:43.354Z"
   },
   {
    "duration": 18,
    "start_time": "2023-06-25T17:01:43.376Z"
   },
   {
    "duration": 10,
    "start_time": "2023-06-25T17:01:43.396Z"
   },
   {
    "duration": 5,
    "start_time": "2023-06-25T17:01:43.408Z"
   },
   {
    "duration": 11,
    "start_time": "2023-06-25T17:01:43.415Z"
   },
   {
    "duration": 40,
    "start_time": "2023-06-25T17:01:43.429Z"
   },
   {
    "duration": 270,
    "start_time": "2023-06-25T17:01:43.479Z"
   },
   {
    "duration": 156,
    "start_time": "2023-06-25T17:01:43.752Z"
   },
   {
    "duration": 238,
    "start_time": "2023-06-25T17:01:50.248Z"
   },
   {
    "duration": 210,
    "start_time": "2023-06-25T17:01:56.989Z"
   },
   {
    "duration": 220,
    "start_time": "2023-06-25T17:02:04.623Z"
   },
   {
    "duration": 231,
    "start_time": "2023-06-25T17:02:18.118Z"
   },
   {
    "duration": 224,
    "start_time": "2023-06-25T17:02:34.192Z"
   },
   {
    "duration": 230,
    "start_time": "2023-06-25T17:02:38.899Z"
   },
   {
    "duration": 338,
    "start_time": "2023-06-25T17:02:54.376Z"
   },
   {
    "duration": 232,
    "start_time": "2023-06-25T17:03:24.281Z"
   },
   {
    "duration": 232,
    "start_time": "2023-06-25T17:03:43.421Z"
   },
   {
    "duration": 204,
    "start_time": "2023-06-25T17:03:49.434Z"
   },
   {
    "duration": 159,
    "start_time": "2023-06-25T17:05:43.497Z"
   },
   {
    "duration": 1791,
    "start_time": "2023-06-25T17:05:58.192Z"
   },
   {
    "duration": 17,
    "start_time": "2023-06-25T17:06:07.904Z"
   },
   {
    "duration": 16,
    "start_time": "2023-06-25T17:06:28.220Z"
   },
   {
    "duration": 14,
    "start_time": "2023-06-25T17:06:39.902Z"
   },
   {
    "duration": 1822,
    "start_time": "2023-06-25T17:07:32.423Z"
   },
   {
    "duration": 397,
    "start_time": "2023-06-25T17:07:36.497Z"
   },
   {
    "duration": 480,
    "start_time": "2023-06-25T17:08:08.188Z"
   },
   {
    "duration": 399,
    "start_time": "2023-06-25T17:08:24.134Z"
   },
   {
    "duration": 446,
    "start_time": "2023-06-25T17:08:38.730Z"
   },
   {
    "duration": 324,
    "start_time": "2023-06-25T17:08:59.388Z"
   },
   {
    "duration": 518,
    "start_time": "2023-06-25T17:09:09.597Z"
   },
   {
    "duration": 635,
    "start_time": "2023-06-25T17:09:33.288Z"
   },
   {
    "duration": 324,
    "start_time": "2023-06-25T17:10:06.890Z"
   },
   {
    "duration": 324,
    "start_time": "2023-06-25T17:10:22.739Z"
   },
   {
    "duration": 6,
    "start_time": "2023-06-25T17:11:10.840Z"
   },
   {
    "duration": 172,
    "start_time": "2023-06-25T17:12:39.390Z"
   },
   {
    "duration": 156,
    "start_time": "2023-06-25T17:13:02.091Z"
   },
   {
    "duration": 164,
    "start_time": "2023-06-25T17:16:58.068Z"
   },
   {
    "duration": 489,
    "start_time": "2023-06-25T17:17:10.594Z"
   },
   {
    "duration": 285,
    "start_time": "2023-06-25T17:24:34.393Z"
   },
   {
    "duration": 278,
    "start_time": "2023-06-25T17:24:40.125Z"
   },
   {
    "duration": 259,
    "start_time": "2023-06-25T17:24:45.441Z"
   },
   {
    "duration": 25,
    "start_time": "2023-06-25T17:25:03.447Z"
   },
   {
    "duration": 10,
    "start_time": "2023-06-25T17:25:06.735Z"
   },
   {
    "duration": 11,
    "start_time": "2023-06-25T17:27:00.909Z"
   },
   {
    "duration": 16,
    "start_time": "2023-06-25T17:27:05.300Z"
   },
   {
    "duration": 241,
    "start_time": "2023-06-25T17:28:07.887Z"
   },
   {
    "duration": 378,
    "start_time": "2023-06-25T17:28:16.740Z"
   },
   {
    "duration": 264,
    "start_time": "2023-06-25T17:28:58.869Z"
   },
   {
    "duration": 217,
    "start_time": "2023-06-25T17:29:12.007Z"
   },
   {
    "duration": 10,
    "start_time": "2023-06-25T17:30:17.212Z"
   },
   {
    "duration": 277,
    "start_time": "2023-06-25T17:31:07.687Z"
   },
   {
    "duration": 15,
    "start_time": "2023-06-25T17:31:28.159Z"
   },
   {
    "duration": 8,
    "start_time": "2023-06-25T17:31:31.985Z"
   },
   {
    "duration": 223,
    "start_time": "2023-06-25T17:32:10.269Z"
   },
   {
    "duration": 363,
    "start_time": "2023-06-25T17:33:26.900Z"
   },
   {
    "duration": 275,
    "start_time": "2023-06-25T17:33:44.371Z"
   },
   {
    "duration": 271,
    "start_time": "2023-06-25T17:33:48.405Z"
   },
   {
    "duration": 301,
    "start_time": "2023-06-25T17:34:53.418Z"
   },
   {
    "duration": 223,
    "start_time": "2023-06-25T17:35:11.975Z"
   },
   {
    "duration": 245,
    "start_time": "2023-06-25T17:35:45.295Z"
   },
   {
    "duration": 392,
    "start_time": "2023-06-25T17:36:34.944Z"
   },
   {
    "duration": 280,
    "start_time": "2023-06-25T17:37:14.887Z"
   },
   {
    "duration": 105,
    "start_time": "2023-06-25T17:37:26.094Z"
   },
   {
    "duration": 95,
    "start_time": "2023-06-25T17:37:31.193Z"
   },
   {
    "duration": 328,
    "start_time": "2023-06-25T17:37:37.320Z"
   },
   {
    "duration": 10,
    "start_time": "2023-06-25T17:37:54.880Z"
   },
   {
    "duration": 24,
    "start_time": "2023-06-25T17:53:11.211Z"
   },
   {
    "duration": 48,
    "start_time": "2023-06-25T17:56:32.364Z"
   },
   {
    "duration": 10,
    "start_time": "2023-06-25T17:56:52.896Z"
   },
   {
    "duration": 11,
    "start_time": "2023-06-25T17:57:09.848Z"
   },
   {
    "duration": 9,
    "start_time": "2023-06-25T17:58:06.937Z"
   },
   {
    "duration": 17,
    "start_time": "2023-06-25T17:58:17.068Z"
   },
   {
    "duration": 11,
    "start_time": "2023-06-25T17:58:57.490Z"
   },
   {
    "duration": 26,
    "start_time": "2023-06-25T17:59:03.995Z"
   },
   {
    "duration": 8,
    "start_time": "2023-06-25T17:59:19.447Z"
   },
   {
    "duration": 11,
    "start_time": "2023-06-25T18:00:59.916Z"
   },
   {
    "duration": 249,
    "start_time": "2023-06-25T18:01:35.300Z"
   },
   {
    "duration": 310,
    "start_time": "2023-06-25T18:01:44.515Z"
   },
   {
    "duration": 39,
    "start_time": "2023-06-25T18:02:04.453Z"
   },
   {
    "duration": 12,
    "start_time": "2023-06-25T18:02:27.051Z"
   },
   {
    "duration": 12,
    "start_time": "2023-06-25T18:02:38.703Z"
   },
   {
    "duration": 302,
    "start_time": "2023-06-25T18:03:26.501Z"
   },
   {
    "duration": 9,
    "start_time": "2023-06-25T18:03:40.842Z"
   },
   {
    "duration": 269,
    "start_time": "2023-06-25T18:04:06.508Z"
   },
   {
    "duration": 16,
    "start_time": "2023-06-25T18:04:33.756Z"
   },
   {
    "duration": 21,
    "start_time": "2023-06-25T18:13:48.322Z"
   },
   {
    "duration": 5,
    "start_time": "2023-06-25T18:16:59.092Z"
   },
   {
    "duration": 32,
    "start_time": "2023-06-25T18:17:15.884Z"
   },
   {
    "duration": 6,
    "start_time": "2023-06-25T18:17:39.525Z"
   },
   {
    "duration": 21,
    "start_time": "2023-06-25T18:17:50.618Z"
   },
   {
    "duration": 4,
    "start_time": "2023-06-25T18:17:54.736Z"
   },
   {
    "duration": 3,
    "start_time": "2023-06-25T18:18:33.623Z"
   },
   {
    "duration": 27,
    "start_time": "2023-06-25T18:18:41.247Z"
   },
   {
    "duration": 11,
    "start_time": "2023-06-25T18:18:48.194Z"
   },
   {
    "duration": 1320,
    "start_time": "2023-06-25T18:19:14.243Z"
   },
   {
    "duration": 87,
    "start_time": "2023-06-25T18:19:15.565Z"
   },
   {
    "duration": 19,
    "start_time": "2023-06-25T18:19:15.654Z"
   },
   {
    "duration": 12,
    "start_time": "2023-06-25T18:19:15.676Z"
   },
   {
    "duration": 12,
    "start_time": "2023-06-25T18:19:15.695Z"
   },
   {
    "duration": 8,
    "start_time": "2023-06-25T18:19:15.708Z"
   },
   {
    "duration": 10,
    "start_time": "2023-06-25T18:19:15.717Z"
   },
   {
    "duration": 48,
    "start_time": "2023-06-25T18:19:15.728Z"
   },
   {
    "duration": 10,
    "start_time": "2023-06-25T18:19:15.785Z"
   },
   {
    "duration": 5,
    "start_time": "2023-06-25T18:19:15.796Z"
   },
   {
    "duration": 11,
    "start_time": "2023-06-25T18:19:15.803Z"
   },
   {
    "duration": 10,
    "start_time": "2023-06-25T18:19:15.816Z"
   },
   {
    "duration": 269,
    "start_time": "2023-06-25T18:19:15.828Z"
   },
   {
    "duration": 346,
    "start_time": "2023-06-25T18:19:16.101Z"
   },
   {
    "duration": 179,
    "start_time": "2023-06-25T18:19:16.449Z"
   },
   {
    "duration": 277,
    "start_time": "2023-06-25T18:19:16.630Z"
   },
   {
    "duration": 9,
    "start_time": "2023-06-25T18:19:16.909Z"
   },
   {
    "duration": 271,
    "start_time": "2023-06-25T18:19:16.919Z"
   },
   {
    "duration": 304,
    "start_time": "2023-06-25T18:19:17.194Z"
   },
   {
    "duration": 11,
    "start_time": "2023-06-25T18:19:17.500Z"
   },
   {
    "duration": 395,
    "start_time": "2023-06-25T18:19:17.513Z"
   },
   {
    "duration": 8,
    "start_time": "2023-06-25T18:19:17.910Z"
   },
   {
    "duration": 8,
    "start_time": "2023-06-25T18:19:17.920Z"
   },
   {
    "duration": 149,
    "start_time": "2023-06-25T18:19:17.930Z"
   },
   {
    "duration": 0,
    "start_time": "2023-06-25T18:19:18.081Z"
   },
   {
    "duration": 0,
    "start_time": "2023-06-25T18:19:18.083Z"
   },
   {
    "duration": 0,
    "start_time": "2023-06-25T18:19:18.085Z"
   },
   {
    "duration": 0,
    "start_time": "2023-06-25T18:19:18.086Z"
   },
   {
    "duration": 0,
    "start_time": "2023-06-25T18:19:18.087Z"
   },
   {
    "duration": 0,
    "start_time": "2023-06-25T18:19:18.088Z"
   },
   {
    "duration": 0,
    "start_time": "2023-06-25T18:19:18.090Z"
   },
   {
    "duration": 0,
    "start_time": "2023-06-25T18:19:18.091Z"
   },
   {
    "duration": 0,
    "start_time": "2023-06-25T18:19:18.092Z"
   },
   {
    "duration": 26,
    "start_time": "2023-06-25T18:19:26.613Z"
   },
   {
    "duration": 4,
    "start_time": "2023-06-25T18:24:16.333Z"
   },
   {
    "duration": 4,
    "start_time": "2023-06-25T18:24:22.200Z"
   },
   {
    "duration": 22,
    "start_time": "2023-06-25T18:24:41.584Z"
   },
   {
    "duration": 22,
    "start_time": "2023-06-25T18:24:46.234Z"
   },
   {
    "duration": 1435,
    "start_time": "2023-06-25T18:25:36.697Z"
   },
   {
    "duration": 88,
    "start_time": "2023-06-25T18:25:38.135Z"
   },
   {
    "duration": 12,
    "start_time": "2023-06-25T18:25:38.225Z"
   },
   {
    "duration": 14,
    "start_time": "2023-06-25T18:25:38.238Z"
   },
   {
    "duration": 17,
    "start_time": "2023-06-25T18:25:38.255Z"
   },
   {
    "duration": 16,
    "start_time": "2023-06-25T18:25:38.275Z"
   },
   {
    "duration": 12,
    "start_time": "2023-06-25T18:25:38.292Z"
   },
   {
    "duration": 14,
    "start_time": "2023-06-25T18:25:38.305Z"
   },
   {
    "duration": 9,
    "start_time": "2023-06-25T18:25:38.320Z"
   },
   {
    "duration": 37,
    "start_time": "2023-06-25T18:25:38.331Z"
   },
   {
    "duration": 23,
    "start_time": "2023-06-25T18:25:38.371Z"
   },
   {
    "duration": 13,
    "start_time": "2023-06-25T18:25:38.396Z"
   },
   {
    "duration": 282,
    "start_time": "2023-06-25T18:25:38.412Z"
   },
   {
    "duration": 387,
    "start_time": "2023-06-25T18:25:38.698Z"
   },
   {
    "duration": 195,
    "start_time": "2023-06-25T18:25:39.090Z"
   },
   {
    "duration": 264,
    "start_time": "2023-06-25T18:25:39.287Z"
   },
   {
    "duration": 14,
    "start_time": "2023-06-25T18:25:39.552Z"
   },
   {
    "duration": 250,
    "start_time": "2023-06-25T18:25:39.568Z"
   },
   {
    "duration": 301,
    "start_time": "2023-06-25T18:25:39.820Z"
   },
   {
    "duration": 12,
    "start_time": "2023-06-25T18:25:40.123Z"
   },
   {
    "duration": 350,
    "start_time": "2023-06-25T18:25:40.137Z"
   },
   {
    "duration": 13,
    "start_time": "2023-06-25T18:25:40.489Z"
   },
   {
    "duration": 11,
    "start_time": "2023-06-25T18:25:40.504Z"
   },
   {
    "duration": 155,
    "start_time": "2023-06-25T18:25:40.517Z"
   },
   {
    "duration": 0,
    "start_time": "2023-06-25T18:25:40.677Z"
   },
   {
    "duration": 0,
    "start_time": "2023-06-25T18:25:40.679Z"
   },
   {
    "duration": 0,
    "start_time": "2023-06-25T18:25:40.680Z"
   },
   {
    "duration": 0,
    "start_time": "2023-06-25T18:25:40.681Z"
   },
   {
    "duration": 0,
    "start_time": "2023-06-25T18:25:40.682Z"
   },
   {
    "duration": 1,
    "start_time": "2023-06-25T18:25:40.682Z"
   },
   {
    "duration": 0,
    "start_time": "2023-06-25T18:25:40.683Z"
   },
   {
    "duration": 0,
    "start_time": "2023-06-25T18:25:40.684Z"
   },
   {
    "duration": 12,
    "start_time": "2023-06-25T18:26:29.879Z"
   },
   {
    "duration": 1468,
    "start_time": "2023-06-25T18:26:36.042Z"
   },
   {
    "duration": 113,
    "start_time": "2023-06-25T18:26:37.513Z"
   },
   {
    "duration": 16,
    "start_time": "2023-06-25T18:26:37.628Z"
   },
   {
    "duration": 29,
    "start_time": "2023-06-25T18:26:37.647Z"
   },
   {
    "duration": 18,
    "start_time": "2023-06-25T18:26:37.678Z"
   },
   {
    "duration": 9,
    "start_time": "2023-06-25T18:26:37.698Z"
   },
   {
    "duration": 13,
    "start_time": "2023-06-25T18:26:37.709Z"
   },
   {
    "duration": 22,
    "start_time": "2023-06-25T18:26:37.724Z"
   },
   {
    "duration": 21,
    "start_time": "2023-06-25T18:26:37.747Z"
   },
   {
    "duration": 7,
    "start_time": "2023-06-25T18:26:37.770Z"
   },
   {
    "duration": 16,
    "start_time": "2023-06-25T18:26:37.779Z"
   },
   {
    "duration": 10,
    "start_time": "2023-06-25T18:26:37.797Z"
   },
   {
    "duration": 261,
    "start_time": "2023-06-25T18:26:37.809Z"
   },
   {
    "duration": 402,
    "start_time": "2023-06-25T18:26:38.074Z"
   },
   {
    "duration": 182,
    "start_time": "2023-06-25T18:26:38.479Z"
   },
   {
    "duration": 274,
    "start_time": "2023-06-25T18:26:38.666Z"
   },
   {
    "duration": 8,
    "start_time": "2023-06-25T18:26:38.942Z"
   },
   {
    "duration": 262,
    "start_time": "2023-06-25T18:26:38.952Z"
   },
   {
    "duration": 306,
    "start_time": "2023-06-25T18:26:39.215Z"
   },
   {
    "duration": 10,
    "start_time": "2023-06-25T18:26:39.522Z"
   },
   {
    "duration": 327,
    "start_time": "2023-06-25T18:26:39.533Z"
   },
   {
    "duration": 13,
    "start_time": "2023-06-25T18:26:39.862Z"
   },
   {
    "duration": 14,
    "start_time": "2023-06-25T18:26:39.877Z"
   },
   {
    "duration": 9,
    "start_time": "2023-06-25T18:26:39.893Z"
   },
   {
    "duration": 426,
    "start_time": "2023-06-25T18:26:39.904Z"
   },
   {
    "duration": 10,
    "start_time": "2023-06-25T18:26:40.332Z"
   },
   {
    "duration": 354,
    "start_time": "2023-06-25T18:26:40.344Z"
   },
   {
    "duration": 10,
    "start_time": "2023-06-25T18:26:40.700Z"
   },
   {
    "duration": 317,
    "start_time": "2023-06-25T18:26:40.712Z"
   },
   {
    "duration": 8,
    "start_time": "2023-06-25T18:26:41.031Z"
   },
   {
    "duration": 293,
    "start_time": "2023-06-25T18:26:41.041Z"
   },
   {
    "duration": 9,
    "start_time": "2023-06-25T18:26:41.335Z"
   },
   {
    "duration": 114,
    "start_time": "2023-06-25T18:27:05.888Z"
   },
   {
    "duration": 4,
    "start_time": "2023-06-25T18:27:24.332Z"
   },
   {
    "duration": 25,
    "start_time": "2023-06-25T18:27:33.472Z"
   },
   {
    "duration": 19,
    "start_time": "2023-06-25T18:27:42.023Z"
   },
   {
    "duration": 20,
    "start_time": "2023-06-25T18:45:03.095Z"
   },
   {
    "duration": 125,
    "start_time": "2023-06-25T18:47:12.707Z"
   },
   {
    "duration": 131,
    "start_time": "2023-06-25T18:47:18.546Z"
   },
   {
    "duration": 111,
    "start_time": "2023-06-25T18:47:24.238Z"
   },
   {
    "duration": 113,
    "start_time": "2023-06-25T18:47:32.011Z"
   },
   {
    "duration": 150,
    "start_time": "2023-06-25T18:47:36.355Z"
   },
   {
    "duration": 111,
    "start_time": "2023-06-25T18:47:50.804Z"
   },
   {
    "duration": 117,
    "start_time": "2023-06-25T18:48:11.887Z"
   },
   {
    "duration": 101,
    "start_time": "2023-06-25T18:48:21.680Z"
   },
   {
    "duration": 23,
    "start_time": "2023-06-25T18:48:46.421Z"
   },
   {
    "duration": 19,
    "start_time": "2023-06-25T18:49:30.705Z"
   },
   {
    "duration": 12,
    "start_time": "2023-06-25T18:49:38.978Z"
   },
   {
    "duration": 15,
    "start_time": "2023-06-25T18:50:37.017Z"
   },
   {
    "duration": 11,
    "start_time": "2023-06-25T18:50:38.904Z"
   },
   {
    "duration": 7,
    "start_time": "2023-06-25T18:55:19.209Z"
   },
   {
    "duration": 29,
    "start_time": "2023-06-25T18:57:07.281Z"
   },
   {
    "duration": 5,
    "start_time": "2023-06-25T18:57:22.091Z"
   },
   {
    "duration": 20,
    "start_time": "2023-06-25T18:57:27.413Z"
   },
   {
    "duration": 18,
    "start_time": "2023-06-25T18:57:36.512Z"
   },
   {
    "duration": 11,
    "start_time": "2023-06-25T18:59:05.111Z"
   },
   {
    "duration": 15,
    "start_time": "2023-06-25T18:59:11.297Z"
   },
   {
    "duration": 1206,
    "start_time": "2023-06-25T18:59:52.409Z"
   },
   {
    "duration": 40,
    "start_time": "2023-06-25T19:00:03.430Z"
   },
   {
    "duration": 23,
    "start_time": "2023-06-25T19:00:05.639Z"
   },
   {
    "duration": 2302,
    "start_time": "2023-06-25T19:09:19.141Z"
   },
   {
    "duration": 0,
    "start_time": "2023-06-25T19:09:21.444Z"
   },
   {
    "duration": 50,
    "start_time": "2023-06-25T19:10:02.048Z"
   },
   {
    "duration": 15,
    "start_time": "2023-06-25T19:10:03.129Z"
   },
   {
    "duration": 119,
    "start_time": "2023-06-25T19:10:15.617Z"
   },
   {
    "duration": 161,
    "start_time": "2023-06-25T19:10:33.068Z"
   },
   {
    "duration": 13,
    "start_time": "2023-06-25T19:10:35.135Z"
   },
   {
    "duration": 143,
    "start_time": "2023-06-25T19:10:57.318Z"
   },
   {
    "duration": 25,
    "start_time": "2023-06-25T19:10:59.076Z"
   },
   {
    "duration": 146,
    "start_time": "2023-06-25T19:13:51.041Z"
   },
   {
    "duration": 16,
    "start_time": "2023-06-25T19:13:52.500Z"
   },
   {
    "duration": 194,
    "start_time": "2023-06-25T19:16:45.990Z"
   },
   {
    "duration": 158,
    "start_time": "2023-06-25T19:16:58.817Z"
   },
   {
    "duration": 11,
    "start_time": "2023-06-25T19:17:04.543Z"
   },
   {
    "duration": 135,
    "start_time": "2023-06-25T19:17:28.900Z"
   },
   {
    "duration": 19,
    "start_time": "2023-06-25T19:17:29.396Z"
   },
   {
    "duration": 1524,
    "start_time": "2023-06-25T19:17:35.006Z"
   },
   {
    "duration": 107,
    "start_time": "2023-06-25T19:17:36.532Z"
   },
   {
    "duration": 12,
    "start_time": "2023-06-25T19:17:36.641Z"
   },
   {
    "duration": 17,
    "start_time": "2023-06-25T19:17:36.656Z"
   },
   {
    "duration": 23,
    "start_time": "2023-06-25T19:17:36.675Z"
   },
   {
    "duration": 12,
    "start_time": "2023-06-25T19:17:36.700Z"
   },
   {
    "duration": 13,
    "start_time": "2023-06-25T19:17:36.714Z"
   },
   {
    "duration": 10,
    "start_time": "2023-06-25T19:17:36.732Z"
   },
   {
    "duration": 24,
    "start_time": "2023-06-25T19:17:36.761Z"
   },
   {
    "duration": 22,
    "start_time": "2023-06-25T19:17:36.787Z"
   },
   {
    "duration": 16,
    "start_time": "2023-06-25T19:17:36.811Z"
   },
   {
    "duration": 44,
    "start_time": "2023-06-25T19:17:36.829Z"
   },
   {
    "duration": 275,
    "start_time": "2023-06-25T19:17:36.875Z"
   },
   {
    "duration": 448,
    "start_time": "2023-06-25T19:17:37.158Z"
   },
   {
    "duration": 210,
    "start_time": "2023-06-25T19:17:37.608Z"
   },
   {
    "duration": 319,
    "start_time": "2023-06-25T19:17:37.821Z"
   },
   {
    "duration": 24,
    "start_time": "2023-06-25T19:17:38.143Z"
   },
   {
    "duration": 365,
    "start_time": "2023-06-25T19:17:38.171Z"
   },
   {
    "duration": 373,
    "start_time": "2023-06-25T19:17:38.538Z"
   },
   {
    "duration": 11,
    "start_time": "2023-06-25T19:17:38.915Z"
   },
   {
    "duration": 396,
    "start_time": "2023-06-25T19:17:38.928Z"
   },
   {
    "duration": 10,
    "start_time": "2023-06-25T19:17:39.326Z"
   },
   {
    "duration": 17,
    "start_time": "2023-06-25T19:17:39.339Z"
   },
   {
    "duration": 13,
    "start_time": "2023-06-25T19:17:39.358Z"
   },
   {
    "duration": 471,
    "start_time": "2023-06-25T19:17:39.374Z"
   },
   {
    "duration": 13,
    "start_time": "2023-06-25T19:17:39.847Z"
   },
   {
    "duration": 376,
    "start_time": "2023-06-25T19:17:39.862Z"
   },
   {
    "duration": 11,
    "start_time": "2023-06-25T19:17:40.240Z"
   },
   {
    "duration": 406,
    "start_time": "2023-06-25T19:17:40.252Z"
   },
   {
    "duration": 14,
    "start_time": "2023-06-25T19:17:40.663Z"
   },
   {
    "duration": 355,
    "start_time": "2023-06-25T19:17:40.679Z"
   },
   {
    "duration": 8,
    "start_time": "2023-06-25T19:17:41.036Z"
   },
   {
    "duration": 166,
    "start_time": "2023-06-25T19:17:41.046Z"
   },
   {
    "duration": 13,
    "start_time": "2023-06-25T19:17:41.214Z"
   },
   {
    "duration": 8,
    "start_time": "2023-06-25T19:17:41.228Z"
   },
   {
    "duration": 9,
    "start_time": "2023-06-25T19:17:41.238Z"
   },
   {
    "duration": 103,
    "start_time": "2023-06-25T19:38:35.400Z"
   },
   {
    "duration": 1577,
    "start_time": "2023-06-25T19:38:42.546Z"
   },
   {
    "duration": 1501,
    "start_time": "2023-06-25T19:39:38.169Z"
   },
   {
    "duration": 1561,
    "start_time": "2023-06-25T19:40:59.396Z"
   },
   {
    "duration": 1473,
    "start_time": "2023-06-25T19:45:10.413Z"
   },
   {
    "duration": 10,
    "start_time": "2023-06-25T19:45:45.758Z"
   },
   {
    "duration": 30,
    "start_time": "2023-06-25T19:46:22.035Z"
   },
   {
    "duration": 118,
    "start_time": "2023-06-25T19:46:38.943Z"
   },
   {
    "duration": 24,
    "start_time": "2023-06-25T19:48:04.748Z"
   },
   {
    "duration": 93,
    "start_time": "2023-06-25T19:48:36.217Z"
   },
   {
    "duration": 9,
    "start_time": "2023-06-25T19:48:39.110Z"
   },
   {
    "duration": 14,
    "start_time": "2023-06-25T19:48:49.411Z"
   },
   {
    "duration": 11,
    "start_time": "2023-06-25T19:49:49.085Z"
   },
   {
    "duration": 17,
    "start_time": "2023-06-25T19:50:05.348Z"
   },
   {
    "duration": 118,
    "start_time": "2023-06-25T19:50:16.736Z"
   },
   {
    "duration": 29,
    "start_time": "2023-06-25T19:50:37.376Z"
   },
   {
    "duration": 20,
    "start_time": "2023-06-25T19:50:38.858Z"
   },
   {
    "duration": 46,
    "start_time": "2023-06-25T19:52:21.290Z"
   },
   {
    "duration": 17,
    "start_time": "2023-06-25T19:52:36.971Z"
   },
   {
    "duration": 1213,
    "start_time": "2023-06-25T19:54:05.326Z"
   },
   {
    "duration": 105,
    "start_time": "2023-06-25T19:54:06.542Z"
   },
   {
    "duration": 28,
    "start_time": "2023-06-25T19:54:06.649Z"
   },
   {
    "duration": 11,
    "start_time": "2023-06-25T19:54:06.680Z"
   },
   {
    "duration": 19,
    "start_time": "2023-06-25T19:54:06.694Z"
   },
   {
    "duration": 22,
    "start_time": "2023-06-25T19:54:06.716Z"
   },
   {
    "duration": 17,
    "start_time": "2023-06-25T19:54:06.740Z"
   },
   {
    "duration": 19,
    "start_time": "2023-06-25T19:54:06.759Z"
   },
   {
    "duration": 12,
    "start_time": "2023-06-25T19:54:06.780Z"
   },
   {
    "duration": 6,
    "start_time": "2023-06-25T19:54:06.794Z"
   },
   {
    "duration": 16,
    "start_time": "2023-06-25T19:54:06.802Z"
   },
   {
    "duration": 47,
    "start_time": "2023-06-25T19:54:06.820Z"
   },
   {
    "duration": 212,
    "start_time": "2023-06-25T19:54:06.872Z"
   },
   {
    "duration": 368,
    "start_time": "2023-06-25T19:54:07.087Z"
   },
   {
    "duration": 190,
    "start_time": "2023-06-25T19:54:07.457Z"
   },
   {
    "duration": 265,
    "start_time": "2023-06-25T19:54:07.650Z"
   },
   {
    "duration": 8,
    "start_time": "2023-06-25T19:54:07.917Z"
   },
   {
    "duration": 263,
    "start_time": "2023-06-25T19:54:07.927Z"
   },
   {
    "duration": 289,
    "start_time": "2023-06-25T19:54:08.192Z"
   },
   {
    "duration": 9,
    "start_time": "2023-06-25T19:54:08.483Z"
   },
   {
    "duration": 296,
    "start_time": "2023-06-25T19:54:08.493Z"
   },
   {
    "duration": 14,
    "start_time": "2023-06-25T19:54:08.791Z"
   },
   {
    "duration": 10,
    "start_time": "2023-06-25T19:54:08.807Z"
   },
   {
    "duration": 8,
    "start_time": "2023-06-25T19:54:08.819Z"
   },
   {
    "duration": 389,
    "start_time": "2023-06-25T19:54:08.829Z"
   },
   {
    "duration": 11,
    "start_time": "2023-06-25T19:54:09.220Z"
   },
   {
    "duration": 289,
    "start_time": "2023-06-25T19:54:09.233Z"
   },
   {
    "duration": 15,
    "start_time": "2023-06-25T19:54:09.524Z"
   },
   {
    "duration": 276,
    "start_time": "2023-06-25T19:54:09.542Z"
   },
   {
    "duration": 9,
    "start_time": "2023-06-25T19:54:09.819Z"
   },
   {
    "duration": 288,
    "start_time": "2023-06-25T19:54:09.830Z"
   },
   {
    "duration": 8,
    "start_time": "2023-06-25T19:54:10.120Z"
   },
   {
    "duration": 110,
    "start_time": "2023-06-25T19:54:10.130Z"
   },
   {
    "duration": 34,
    "start_time": "2023-06-25T19:54:10.243Z"
   },
   {
    "duration": 24,
    "start_time": "2023-06-25T19:54:10.280Z"
   },
   {
    "duration": 25,
    "start_time": "2023-06-25T19:54:27.893Z"
   },
   {
    "duration": 11,
    "start_time": "2023-06-25T19:57:43.843Z"
   },
   {
    "duration": 17,
    "start_time": "2023-06-25T19:57:45.216Z"
   },
   {
    "duration": 1371,
    "start_time": "2023-06-25T19:59:41.122Z"
   },
   {
    "duration": 79,
    "start_time": "2023-06-25T19:59:42.495Z"
   },
   {
    "duration": 12,
    "start_time": "2023-06-25T19:59:42.576Z"
   },
   {
    "duration": 12,
    "start_time": "2023-06-25T19:59:42.591Z"
   },
   {
    "duration": 18,
    "start_time": "2023-06-25T19:59:42.606Z"
   },
   {
    "duration": 34,
    "start_time": "2023-06-25T19:59:42.626Z"
   },
   {
    "duration": 15,
    "start_time": "2023-06-25T19:59:42.662Z"
   },
   {
    "duration": 17,
    "start_time": "2023-06-25T19:59:42.679Z"
   },
   {
    "duration": 17,
    "start_time": "2023-06-25T19:59:42.698Z"
   },
   {
    "duration": 6,
    "start_time": "2023-06-25T19:59:42.718Z"
   },
   {
    "duration": 38,
    "start_time": "2023-06-25T19:59:42.726Z"
   },
   {
    "duration": 16,
    "start_time": "2023-06-25T19:59:42.767Z"
   },
   {
    "duration": 234,
    "start_time": "2023-06-25T19:59:42.786Z"
   },
   {
    "duration": 348,
    "start_time": "2023-06-25T19:59:43.023Z"
   },
   {
    "duration": 172,
    "start_time": "2023-06-25T19:59:43.373Z"
   },
   {
    "duration": 250,
    "start_time": "2023-06-25T19:59:43.547Z"
   },
   {
    "duration": 14,
    "start_time": "2023-06-25T19:59:43.799Z"
   },
   {
    "duration": 242,
    "start_time": "2023-06-25T19:59:43.816Z"
   },
   {
    "duration": 299,
    "start_time": "2023-06-25T19:59:44.060Z"
   },
   {
    "duration": 13,
    "start_time": "2023-06-25T19:59:44.361Z"
   },
   {
    "duration": 334,
    "start_time": "2023-06-25T19:59:44.377Z"
   },
   {
    "duration": 12,
    "start_time": "2023-06-25T19:59:44.713Z"
   },
   {
    "duration": 35,
    "start_time": "2023-06-25T19:59:44.727Z"
   },
   {
    "duration": 14,
    "start_time": "2023-06-25T19:59:44.765Z"
   },
   {
    "duration": 409,
    "start_time": "2023-06-25T19:59:44.784Z"
   },
   {
    "duration": 10,
    "start_time": "2023-06-25T19:59:45.195Z"
   },
   {
    "duration": 287,
    "start_time": "2023-06-25T19:59:45.207Z"
   },
   {
    "duration": 12,
    "start_time": "2023-06-25T19:59:45.496Z"
   },
   {
    "duration": 279,
    "start_time": "2023-06-25T19:59:45.510Z"
   },
   {
    "duration": 12,
    "start_time": "2023-06-25T19:59:45.792Z"
   },
   {
    "duration": 256,
    "start_time": "2023-06-25T19:59:45.806Z"
   },
   {
    "duration": 9,
    "start_time": "2023-06-25T19:59:46.064Z"
   },
   {
    "duration": 105,
    "start_time": "2023-06-25T19:59:46.075Z"
   },
   {
    "duration": 9,
    "start_time": "2023-06-25T19:59:46.182Z"
   },
   {
    "duration": 25,
    "start_time": "2023-06-25T19:59:46.193Z"
   },
   {
    "duration": 8,
    "start_time": "2023-06-25T20:00:16.812Z"
   },
   {
    "duration": 8,
    "start_time": "2023-06-25T20:01:52.085Z"
   },
   {
    "duration": 26,
    "start_time": "2023-06-25T20:01:54.345Z"
   },
   {
    "duration": 17,
    "start_time": "2023-06-25T20:03:26.262Z"
   },
   {
    "duration": 19,
    "start_time": "2023-06-25T20:06:00.867Z"
   },
   {
    "duration": 8,
    "start_time": "2023-06-25T20:07:28.681Z"
   },
   {
    "duration": 120,
    "start_time": "2023-06-25T20:07:41.428Z"
   },
   {
    "duration": 23,
    "start_time": "2023-06-25T20:07:51.709Z"
   },
   {
    "duration": 29,
    "start_time": "2023-06-25T20:08:01.584Z"
   },
   {
    "duration": 31,
    "start_time": "2023-06-25T20:08:36.043Z"
   },
   {
    "duration": 11,
    "start_time": "2023-06-25T20:09:21.792Z"
   },
   {
    "duration": 8,
    "start_time": "2023-06-25T20:09:42.694Z"
   },
   {
    "duration": 9,
    "start_time": "2023-06-25T20:09:51.138Z"
   },
   {
    "duration": 10,
    "start_time": "2023-06-25T20:09:57.026Z"
   },
   {
    "duration": 14,
    "start_time": "2023-06-25T20:10:05.665Z"
   },
   {
    "duration": 18,
    "start_time": "2023-06-25T20:51:27.497Z"
   },
   {
    "duration": 6,
    "start_time": "2023-06-26T03:42:52.059Z"
   },
   {
    "duration": 8,
    "start_time": "2023-06-26T03:43:06.192Z"
   },
   {
    "duration": 6,
    "start_time": "2023-06-26T03:43:13.190Z"
   },
   {
    "duration": 5,
    "start_time": "2023-06-26T03:43:28.044Z"
   },
   {
    "duration": 5,
    "start_time": "2023-06-26T03:43:57.312Z"
   },
   {
    "duration": 5,
    "start_time": "2023-06-26T03:44:13.410Z"
   },
   {
    "duration": 5,
    "start_time": "2023-06-26T03:45:21.795Z"
   },
   {
    "duration": 5,
    "start_time": "2023-06-26T03:45:35.041Z"
   },
   {
    "duration": 5,
    "start_time": "2023-06-26T03:53:42.096Z"
   },
   {
    "duration": 17,
    "start_time": "2023-06-26T03:56:27.064Z"
   },
   {
    "duration": 12,
    "start_time": "2023-06-26T03:56:36.115Z"
   },
   {
    "duration": 14,
    "start_time": "2023-06-26T03:56:58.556Z"
   },
   {
    "duration": 10,
    "start_time": "2023-06-26T03:57:13.399Z"
   },
   {
    "duration": 9,
    "start_time": "2023-06-26T04:00:39.372Z"
   },
   {
    "duration": 22,
    "start_time": "2023-06-26T04:01:10.399Z"
   },
   {
    "duration": 14,
    "start_time": "2023-06-26T04:01:25.602Z"
   },
   {
    "duration": 16,
    "start_time": "2023-06-26T04:01:30.845Z"
   },
   {
    "duration": 14,
    "start_time": "2023-06-26T04:01:37.297Z"
   },
   {
    "duration": 10,
    "start_time": "2023-06-26T04:02:58.434Z"
   },
   {
    "duration": 3,
    "start_time": "2023-06-26T04:08:10.264Z"
   },
   {
    "duration": 4,
    "start_time": "2023-06-26T04:08:22.294Z"
   },
   {
    "duration": 8,
    "start_time": "2023-06-26T04:09:59.013Z"
   },
   {
    "duration": 11,
    "start_time": "2023-06-26T04:13:02.002Z"
   },
   {
    "duration": 10,
    "start_time": "2023-06-26T04:14:15.797Z"
   },
   {
    "duration": 1174,
    "start_time": "2023-06-26T04:15:27.847Z"
   },
   {
    "duration": 270,
    "start_time": "2023-06-26T04:15:29.023Z"
   },
   {
    "duration": 12,
    "start_time": "2023-06-26T04:15:29.295Z"
   },
   {
    "duration": 10,
    "start_time": "2023-06-26T04:15:29.309Z"
   },
   {
    "duration": 16,
    "start_time": "2023-06-26T04:15:29.320Z"
   },
   {
    "duration": 7,
    "start_time": "2023-06-26T04:15:29.338Z"
   },
   {
    "duration": 10,
    "start_time": "2023-06-26T04:15:29.346Z"
   },
   {
    "duration": 9,
    "start_time": "2023-06-26T04:15:29.358Z"
   },
   {
    "duration": 7,
    "start_time": "2023-06-26T04:15:29.369Z"
   },
   {
    "duration": 5,
    "start_time": "2023-06-26T04:15:29.378Z"
   },
   {
    "duration": 9,
    "start_time": "2023-06-26T04:15:29.384Z"
   },
   {
    "duration": 13,
    "start_time": "2023-06-26T04:15:29.395Z"
   },
   {
    "duration": 222,
    "start_time": "2023-06-26T04:15:29.410Z"
   },
   {
    "duration": 302,
    "start_time": "2023-06-26T04:15:29.633Z"
   },
   {
    "duration": 154,
    "start_time": "2023-06-26T04:15:29.937Z"
   },
   {
    "duration": 221,
    "start_time": "2023-06-26T04:15:30.093Z"
   },
   {
    "duration": 8,
    "start_time": "2023-06-26T04:15:30.315Z"
   },
   {
    "duration": 215,
    "start_time": "2023-06-26T04:15:30.325Z"
   },
   {
    "duration": 254,
    "start_time": "2023-06-26T04:15:30.541Z"
   },
   {
    "duration": 9,
    "start_time": "2023-06-26T04:15:30.797Z"
   },
   {
    "duration": 282,
    "start_time": "2023-06-26T04:15:30.807Z"
   },
   {
    "duration": 8,
    "start_time": "2023-06-26T04:15:31.091Z"
   },
   {
    "duration": 33,
    "start_time": "2023-06-26T04:15:31.101Z"
   },
   {
    "duration": 30,
    "start_time": "2023-06-26T04:15:31.135Z"
   },
   {
    "duration": 254,
    "start_time": "2023-06-26T04:15:31.167Z"
   },
   {
    "duration": 9,
    "start_time": "2023-06-26T04:15:31.423Z"
   },
   {
    "duration": 243,
    "start_time": "2023-06-26T04:15:31.434Z"
   },
   {
    "duration": 8,
    "start_time": "2023-06-26T04:15:31.681Z"
   },
   {
    "duration": 333,
    "start_time": "2023-06-26T04:15:31.690Z"
   },
   {
    "duration": 8,
    "start_time": "2023-06-26T04:15:32.025Z"
   },
   {
    "duration": 229,
    "start_time": "2023-06-26T04:15:32.034Z"
   },
   {
    "duration": 7,
    "start_time": "2023-06-26T04:15:32.265Z"
   },
   {
    "duration": 105,
    "start_time": "2023-06-26T04:15:32.274Z"
   },
   {
    "duration": 6,
    "start_time": "2023-06-26T04:15:32.381Z"
   },
   {
    "duration": 32,
    "start_time": "2023-06-26T04:15:32.389Z"
   },
   {
    "duration": 12,
    "start_time": "2023-06-26T04:15:32.423Z"
   },
   {
    "duration": 11,
    "start_time": "2023-06-26T04:17:44.017Z"
   },
   {
    "duration": 10,
    "start_time": "2023-06-26T04:18:35.305Z"
   },
   {
    "duration": 1187,
    "start_time": "2023-06-26T04:18:40.837Z"
   },
   {
    "duration": 75,
    "start_time": "2023-06-26T04:18:42.025Z"
   },
   {
    "duration": 11,
    "start_time": "2023-06-26T04:18:42.101Z"
   },
   {
    "duration": 9,
    "start_time": "2023-06-26T04:18:42.114Z"
   },
   {
    "duration": 11,
    "start_time": "2023-06-26T04:18:42.124Z"
   },
   {
    "duration": 6,
    "start_time": "2023-06-26T04:18:42.137Z"
   },
   {
    "duration": 16,
    "start_time": "2023-06-26T04:18:42.145Z"
   },
   {
    "duration": 12,
    "start_time": "2023-06-26T04:18:42.163Z"
   },
   {
    "duration": 7,
    "start_time": "2023-06-26T04:18:42.176Z"
   },
   {
    "duration": 4,
    "start_time": "2023-06-26T04:18:42.185Z"
   },
   {
    "duration": 13,
    "start_time": "2023-06-26T04:18:42.191Z"
   },
   {
    "duration": 15,
    "start_time": "2023-06-26T04:18:42.206Z"
   },
   {
    "duration": 226,
    "start_time": "2023-06-26T04:18:42.223Z"
   },
   {
    "duration": 320,
    "start_time": "2023-06-26T04:18:42.455Z"
   },
   {
    "duration": 154,
    "start_time": "2023-06-26T04:18:42.777Z"
   },
   {
    "duration": 224,
    "start_time": "2023-06-26T04:18:42.933Z"
   },
   {
    "duration": 9,
    "start_time": "2023-06-26T04:18:43.158Z"
   },
   {
    "duration": 220,
    "start_time": "2023-06-26T04:18:43.169Z"
   },
   {
    "duration": 258,
    "start_time": "2023-06-26T04:18:43.391Z"
   },
   {
    "duration": 10,
    "start_time": "2023-06-26T04:18:43.653Z"
   },
   {
    "duration": 260,
    "start_time": "2023-06-26T04:18:43.665Z"
   },
   {
    "duration": 10,
    "start_time": "2023-06-26T04:18:43.927Z"
   },
   {
    "duration": 36,
    "start_time": "2023-06-26T04:18:43.939Z"
   },
   {
    "duration": 27,
    "start_time": "2023-06-26T04:18:43.977Z"
   },
   {
    "duration": 268,
    "start_time": "2023-06-26T04:18:44.005Z"
   },
   {
    "duration": 9,
    "start_time": "2023-06-26T04:18:44.275Z"
   },
   {
    "duration": 268,
    "start_time": "2023-06-26T04:18:44.285Z"
   },
   {
    "duration": 9,
    "start_time": "2023-06-26T04:18:44.555Z"
   },
   {
    "duration": 348,
    "start_time": "2023-06-26T04:18:44.566Z"
   },
   {
    "duration": 9,
    "start_time": "2023-06-26T04:18:44.916Z"
   },
   {
    "duration": 235,
    "start_time": "2023-06-26T04:18:44.926Z"
   },
   {
    "duration": 9,
    "start_time": "2023-06-26T04:18:45.163Z"
   },
   {
    "duration": 109,
    "start_time": "2023-06-26T04:18:45.173Z"
   },
   {
    "duration": 6,
    "start_time": "2023-06-26T04:18:45.283Z"
   },
   {
    "duration": 12,
    "start_time": "2023-06-26T04:18:45.291Z"
   },
   {
    "duration": 12,
    "start_time": "2023-06-26T04:18:45.305Z"
   },
   {
    "duration": 106,
    "start_time": "2023-06-26T04:21:35.680Z"
   },
   {
    "duration": 8,
    "start_time": "2023-06-26T04:22:00.307Z"
   },
   {
    "duration": 9,
    "start_time": "2023-06-26T04:22:16.524Z"
   },
   {
    "duration": 7,
    "start_time": "2023-06-26T04:22:26.788Z"
   },
   {
    "duration": 7,
    "start_time": "2023-06-26T04:22:48.891Z"
   },
   {
    "duration": 9,
    "start_time": "2023-06-26T04:23:38.026Z"
   },
   {
    "duration": 8,
    "start_time": "2023-06-26T04:24:28.098Z"
   },
   {
    "duration": 7,
    "start_time": "2023-06-26T04:24:41.301Z"
   },
   {
    "duration": 107,
    "start_time": "2023-06-26T04:35:45.673Z"
   },
   {
    "duration": 832,
    "start_time": "2023-06-26T04:37:52.615Z"
   },
   {
    "duration": 767,
    "start_time": "2023-06-26T04:45:35.594Z"
   },
   {
    "duration": 796,
    "start_time": "2023-06-26T04:46:24.825Z"
   },
   {
    "duration": 839,
    "start_time": "2023-06-26T04:46:42.928Z"
   },
   {
    "duration": 847,
    "start_time": "2023-06-26T04:47:43.860Z"
   },
   {
    "duration": 871,
    "start_time": "2023-06-26T04:49:11.749Z"
   },
   {
    "duration": 18,
    "start_time": "2023-06-26T04:52:29.263Z"
   },
   {
    "duration": 10,
    "start_time": "2023-06-26T04:52:50.535Z"
   },
   {
    "duration": 10,
    "start_time": "2023-06-26T04:55:18.811Z"
   },
   {
    "duration": 14,
    "start_time": "2023-06-26T04:57:48.551Z"
   },
   {
    "duration": 11,
    "start_time": "2023-06-26T04:57:59.026Z"
   },
   {
    "duration": 10,
    "start_time": "2023-06-26T04:58:59.803Z"
   },
   {
    "duration": 10,
    "start_time": "2023-06-26T05:03:31.768Z"
   },
   {
    "duration": 14,
    "start_time": "2023-06-26T15:00:48.262Z"
   },
   {
    "duration": 10,
    "start_time": "2023-06-26T15:01:14.898Z"
   },
   {
    "duration": 18,
    "start_time": "2023-06-26T15:04:26.050Z"
   },
   {
    "duration": 1294,
    "start_time": "2023-06-26T15:04:34.092Z"
   },
   {
    "duration": 302,
    "start_time": "2023-06-26T15:04:35.388Z"
   },
   {
    "duration": 12,
    "start_time": "2023-06-26T15:04:35.692Z"
   },
   {
    "duration": 14,
    "start_time": "2023-06-26T15:04:35.706Z"
   },
   {
    "duration": 18,
    "start_time": "2023-06-26T15:04:35.723Z"
   },
   {
    "duration": 17,
    "start_time": "2023-06-26T15:04:35.743Z"
   },
   {
    "duration": 44,
    "start_time": "2023-06-26T15:04:35.761Z"
   },
   {
    "duration": 36,
    "start_time": "2023-06-26T15:04:35.807Z"
   },
   {
    "duration": 29,
    "start_time": "2023-06-26T15:04:35.845Z"
   },
   {
    "duration": 21,
    "start_time": "2023-06-26T15:04:35.876Z"
   },
   {
    "duration": 13,
    "start_time": "2023-06-26T15:04:35.899Z"
   },
   {
    "duration": 15,
    "start_time": "2023-06-26T15:04:35.914Z"
   },
   {
    "duration": 234,
    "start_time": "2023-06-26T15:04:35.931Z"
   },
   {
    "duration": 369,
    "start_time": "2023-06-26T15:04:36.171Z"
   },
   {
    "duration": 226,
    "start_time": "2023-06-26T15:04:36.542Z"
   },
   {
    "duration": 248,
    "start_time": "2023-06-26T15:04:36.774Z"
   },
   {
    "duration": 9,
    "start_time": "2023-06-26T15:04:37.024Z"
   },
   {
    "duration": 244,
    "start_time": "2023-06-26T15:04:37.035Z"
   },
   {
    "duration": 325,
    "start_time": "2023-06-26T15:04:37.281Z"
   },
   {
    "duration": 11,
    "start_time": "2023-06-26T15:04:37.609Z"
   },
   {
    "duration": 320,
    "start_time": "2023-06-26T15:04:37.623Z"
   },
   {
    "duration": 26,
    "start_time": "2023-06-26T15:04:37.944Z"
   },
   {
    "duration": 13,
    "start_time": "2023-06-26T15:04:37.971Z"
   },
   {
    "duration": 17,
    "start_time": "2023-06-26T15:04:37.986Z"
   },
   {
    "duration": 292,
    "start_time": "2023-06-26T15:04:38.004Z"
   },
   {
    "duration": 10,
    "start_time": "2023-06-26T15:04:38.298Z"
   },
   {
    "duration": 309,
    "start_time": "2023-06-26T15:04:38.310Z"
   },
   {
    "duration": 11,
    "start_time": "2023-06-26T15:04:38.622Z"
   },
   {
    "duration": 437,
    "start_time": "2023-06-26T15:04:38.635Z"
   },
   {
    "duration": 10,
    "start_time": "2023-06-26T15:04:39.073Z"
   },
   {
    "duration": 289,
    "start_time": "2023-06-26T15:04:39.085Z"
   },
   {
    "duration": 11,
    "start_time": "2023-06-26T15:04:39.376Z"
   },
   {
    "duration": 117,
    "start_time": "2023-06-26T15:04:39.390Z"
   },
   {
    "duration": 6,
    "start_time": "2023-06-26T15:04:39.509Z"
   },
   {
    "duration": 12,
    "start_time": "2023-06-26T15:04:39.518Z"
   },
   {
    "duration": 29,
    "start_time": "2023-06-26T15:04:39.532Z"
   },
   {
    "duration": 1027,
    "start_time": "2023-06-26T15:04:39.564Z"
   },
   {
    "duration": 134,
    "start_time": "2023-06-26T15:04:40.593Z"
   },
   {
    "duration": 0,
    "start_time": "2023-06-26T15:04:40.729Z"
   },
   {
    "duration": 10,
    "start_time": "2023-06-26T15:05:02.589Z"
   },
   {
    "duration": 1738,
    "start_time": "2023-06-26T15:06:16.249Z"
   },
   {
    "duration": 1143,
    "start_time": "2023-06-26T15:10:15.394Z"
   },
   {
    "duration": 1357,
    "start_time": "2023-06-26T15:10:25.236Z"
   },
   {
    "duration": 1307,
    "start_time": "2023-06-26T15:10:27.377Z"
   },
   {
    "duration": 13,
    "start_time": "2023-06-26T15:15:28.472Z"
   },
   {
    "duration": 1141,
    "start_time": "2023-06-26T15:45:00.322Z"
   },
   {
    "duration": 105,
    "start_time": "2023-06-26T15:46:01.408Z"
   },
   {
    "duration": 13,
    "start_time": "2023-06-26T15:46:17.330Z"
   },
   {
    "duration": 11,
    "start_time": "2023-06-26T15:47:51.939Z"
   },
   {
    "duration": 15,
    "start_time": "2023-06-26T15:47:54.833Z"
   },
   {
    "duration": 14,
    "start_time": "2023-06-26T15:47:59.893Z"
   },
   {
    "duration": 1060,
    "start_time": "2023-06-26T15:49:00.815Z"
   },
   {
    "duration": 15,
    "start_time": "2023-06-26T15:50:09.322Z"
   },
   {
    "duration": 8,
    "start_time": "2023-06-26T17:00:28.291Z"
   },
   {
    "duration": 14,
    "start_time": "2023-06-26T17:00:43.357Z"
   },
   {
    "duration": 9,
    "start_time": "2023-06-26T17:00:57.872Z"
   },
   {
    "duration": 15,
    "start_time": "2023-06-26T17:02:23.207Z"
   },
   {
    "duration": 16,
    "start_time": "2023-06-26T18:31:09.816Z"
   },
   {
    "duration": 24,
    "start_time": "2023-06-26T18:42:01.619Z"
   },
   {
    "duration": 9,
    "start_time": "2023-06-26T18:42:15.235Z"
   },
   {
    "duration": 12,
    "start_time": "2023-06-26T19:08:18.536Z"
   },
   {
    "duration": 12,
    "start_time": "2023-06-26T19:08:23.604Z"
   },
   {
    "duration": 1511,
    "start_time": "2023-06-26T19:29:37.007Z"
   },
   {
    "duration": 108,
    "start_time": "2023-06-26T19:29:38.520Z"
   },
   {
    "duration": 13,
    "start_time": "2023-06-26T19:29:38.629Z"
   },
   {
    "duration": 34,
    "start_time": "2023-06-26T19:29:38.644Z"
   },
   {
    "duration": 33,
    "start_time": "2023-06-26T19:29:38.680Z"
   },
   {
    "duration": 7,
    "start_time": "2023-06-26T19:29:38.715Z"
   },
   {
    "duration": 18,
    "start_time": "2023-06-26T19:29:38.724Z"
   },
   {
    "duration": 43,
    "start_time": "2023-06-26T19:29:38.744Z"
   },
   {
    "duration": 20,
    "start_time": "2023-06-26T19:29:38.791Z"
   },
   {
    "duration": 5,
    "start_time": "2023-06-26T19:29:38.814Z"
   },
   {
    "duration": 16,
    "start_time": "2023-06-26T19:29:38.821Z"
   },
   {
    "duration": 20,
    "start_time": "2023-06-26T19:29:38.839Z"
   },
   {
    "duration": 276,
    "start_time": "2023-06-26T19:29:38.863Z"
   },
   {
    "duration": 406,
    "start_time": "2023-06-26T19:29:39.141Z"
   },
   {
    "duration": 203,
    "start_time": "2023-06-26T19:29:39.549Z"
   },
   {
    "duration": 289,
    "start_time": "2023-06-26T19:29:39.756Z"
   },
   {
    "duration": 20,
    "start_time": "2023-06-26T19:29:40.046Z"
   },
   {
    "duration": 263,
    "start_time": "2023-06-26T19:29:40.067Z"
   },
   {
    "duration": 335,
    "start_time": "2023-06-26T19:29:40.331Z"
   },
   {
    "duration": 13,
    "start_time": "2023-06-26T19:29:40.671Z"
   },
   {
    "duration": 351,
    "start_time": "2023-06-26T19:29:40.687Z"
   },
   {
    "duration": 10,
    "start_time": "2023-06-26T19:29:41.040Z"
   },
   {
    "duration": 19,
    "start_time": "2023-06-26T19:29:41.054Z"
   },
   {
    "duration": 21,
    "start_time": "2023-06-26T19:29:41.075Z"
   },
   {
    "duration": 351,
    "start_time": "2023-06-26T19:29:41.098Z"
   },
   {
    "duration": 10,
    "start_time": "2023-06-26T19:29:41.451Z"
   },
   {
    "duration": 358,
    "start_time": "2023-06-26T19:29:41.466Z"
   },
   {
    "duration": 9,
    "start_time": "2023-06-26T19:29:41.827Z"
   },
   {
    "duration": 482,
    "start_time": "2023-06-26T19:29:41.838Z"
   },
   {
    "duration": 9,
    "start_time": "2023-06-26T19:29:42.322Z"
   },
   {
    "duration": 320,
    "start_time": "2023-06-26T19:29:42.332Z"
   },
   {
    "duration": 17,
    "start_time": "2023-06-26T19:29:42.654Z"
   },
   {
    "duration": 138,
    "start_time": "2023-06-26T19:29:42.674Z"
   },
   {
    "duration": 6,
    "start_time": "2023-06-26T19:29:42.815Z"
   },
   {
    "duration": 23,
    "start_time": "2023-06-26T19:29:42.822Z"
   },
   {
    "duration": 30,
    "start_time": "2023-06-26T19:29:42.847Z"
   },
   {
    "duration": 1233,
    "start_time": "2023-06-26T19:29:42.879Z"
   },
   {
    "duration": 8,
    "start_time": "2023-06-26T19:29:44.114Z"
   },
   {
    "duration": 1181,
    "start_time": "2023-06-26T19:29:44.124Z"
   },
   {
    "duration": 12,
    "start_time": "2023-06-26T19:29:45.312Z"
   },
   {
    "duration": 1269,
    "start_time": "2023-06-26T19:29:45.326Z"
   },
   {
    "duration": 1376,
    "start_time": "2023-06-27T04:04:54.757Z"
   },
   {
    "duration": 213,
    "start_time": "2023-06-27T04:04:56.136Z"
   },
   {
    "duration": 10,
    "start_time": "2023-06-27T04:04:56.351Z"
   },
   {
    "duration": 22,
    "start_time": "2023-06-27T04:04:56.363Z"
   },
   {
    "duration": 13,
    "start_time": "2023-06-27T04:04:56.386Z"
   },
   {
    "duration": 8,
    "start_time": "2023-06-27T04:04:56.401Z"
   },
   {
    "duration": 26,
    "start_time": "2023-06-27T04:04:56.410Z"
   },
   {
    "duration": 23,
    "start_time": "2023-06-27T04:04:56.440Z"
   },
   {
    "duration": 23,
    "start_time": "2023-06-27T04:04:56.464Z"
   },
   {
    "duration": 9,
    "start_time": "2023-06-27T04:04:56.489Z"
   },
   {
    "duration": 19,
    "start_time": "2023-06-27T04:04:56.499Z"
   },
   {
    "duration": 27,
    "start_time": "2023-06-27T04:04:56.520Z"
   },
   {
    "duration": 200,
    "start_time": "2023-06-27T04:04:56.549Z"
   },
   {
    "duration": 322,
    "start_time": "2023-06-27T04:04:56.750Z"
   },
   {
    "duration": 148,
    "start_time": "2023-06-27T04:04:57.074Z"
   },
   {
    "duration": 212,
    "start_time": "2023-06-27T04:04:57.224Z"
   },
   {
    "duration": 14,
    "start_time": "2023-06-27T04:04:57.438Z"
   },
   {
    "duration": 231,
    "start_time": "2023-06-27T04:04:57.453Z"
   },
   {
    "duration": 273,
    "start_time": "2023-06-27T04:04:57.685Z"
   },
   {
    "duration": 9,
    "start_time": "2023-06-27T04:04:57.960Z"
   },
   {
    "duration": 256,
    "start_time": "2023-06-27T04:04:57.971Z"
   },
   {
    "duration": 20,
    "start_time": "2023-06-27T04:04:58.229Z"
   },
   {
    "duration": 26,
    "start_time": "2023-06-27T04:04:58.251Z"
   },
   {
    "duration": 13,
    "start_time": "2023-06-27T04:04:58.279Z"
   },
   {
    "duration": 250,
    "start_time": "2023-06-27T04:04:58.294Z"
   },
   {
    "duration": 8,
    "start_time": "2023-06-27T04:04:58.547Z"
   },
   {
    "duration": 263,
    "start_time": "2023-06-27T04:04:58.557Z"
   },
   {
    "duration": 19,
    "start_time": "2023-06-27T04:04:58.831Z"
   },
   {
    "duration": 347,
    "start_time": "2023-06-27T04:04:58.852Z"
   },
   {
    "duration": 7,
    "start_time": "2023-06-27T04:04:59.201Z"
   },
   {
    "duration": 221,
    "start_time": "2023-06-27T04:04:59.210Z"
   },
   {
    "duration": 21,
    "start_time": "2023-06-27T04:04:59.433Z"
   },
   {
    "duration": 108,
    "start_time": "2023-06-27T04:04:59.456Z"
   },
   {
    "duration": 7,
    "start_time": "2023-06-27T04:04:59.566Z"
   },
   {
    "duration": 14,
    "start_time": "2023-06-27T04:04:59.574Z"
   },
   {
    "duration": 15,
    "start_time": "2023-06-27T04:04:59.590Z"
   },
   {
    "duration": 874,
    "start_time": "2023-06-27T04:04:59.607Z"
   },
   {
    "duration": 9,
    "start_time": "2023-06-27T04:05:00.483Z"
   },
   {
    "duration": 905,
    "start_time": "2023-06-27T04:05:00.494Z"
   },
   {
    "duration": 9,
    "start_time": "2023-06-27T04:05:01.401Z"
   },
   {
    "duration": 969,
    "start_time": "2023-06-27T04:05:01.411Z"
   },
   {
    "duration": 1347,
    "start_time": "2023-06-27T05:08:40.418Z"
   },
   {
    "duration": 124,
    "start_time": "2023-06-27T05:12:18.347Z"
   },
   {
    "duration": 21,
    "start_time": "2023-06-27T05:12:22.806Z"
   },
   {
    "duration": 12,
    "start_time": "2023-06-27T05:13:26.473Z"
   },
   {
    "duration": 10,
    "start_time": "2023-06-27T05:13:45.893Z"
   },
   {
    "duration": 1327,
    "start_time": "2023-06-27T05:13:52.848Z"
   },
   {
    "duration": 405,
    "start_time": "2023-06-27T05:13:54.177Z"
   },
   {
    "duration": 15,
    "start_time": "2023-06-27T05:13:54.584Z"
   },
   {
    "duration": 28,
    "start_time": "2023-06-27T05:13:54.601Z"
   },
   {
    "duration": 21,
    "start_time": "2023-06-27T05:13:54.632Z"
   },
   {
    "duration": 10,
    "start_time": "2023-06-27T05:13:54.655Z"
   },
   {
    "duration": 17,
    "start_time": "2023-06-27T05:13:54.667Z"
   },
   {
    "duration": 12,
    "start_time": "2023-06-27T05:13:54.686Z"
   },
   {
    "duration": 25,
    "start_time": "2023-06-27T05:13:54.700Z"
   },
   {
    "duration": 5,
    "start_time": "2023-06-27T05:13:54.727Z"
   },
   {
    "duration": 21,
    "start_time": "2023-06-27T05:13:54.736Z"
   },
   {
    "duration": 14,
    "start_time": "2023-06-27T05:13:54.759Z"
   },
   {
    "duration": 277,
    "start_time": "2023-06-27T05:13:54.775Z"
   },
   {
    "duration": 7,
    "start_time": "2023-06-27T05:13:55.055Z"
   },
   {
    "duration": 367,
    "start_time": "2023-06-27T05:13:55.064Z"
   },
   {
    "duration": 182,
    "start_time": "2023-06-27T05:13:55.438Z"
   },
   {
    "duration": 264,
    "start_time": "2023-06-27T05:13:55.622Z"
   },
   {
    "duration": 9,
    "start_time": "2023-06-27T05:13:55.889Z"
   },
   {
    "duration": 283,
    "start_time": "2023-06-27T05:13:55.914Z"
   },
   {
    "duration": 326,
    "start_time": "2023-06-27T05:13:56.199Z"
   },
   {
    "duration": 28,
    "start_time": "2023-06-27T05:13:56.530Z"
   },
   {
    "duration": 297,
    "start_time": "2023-06-27T05:13:56.565Z"
   },
   {
    "duration": 10,
    "start_time": "2023-06-27T05:13:56.865Z"
   },
   {
    "duration": 11,
    "start_time": "2023-06-27T05:13:56.877Z"
   },
   {
    "duration": 38,
    "start_time": "2023-06-27T05:13:56.889Z"
   },
   {
    "duration": 291,
    "start_time": "2023-06-27T05:13:56.929Z"
   },
   {
    "duration": 8,
    "start_time": "2023-06-27T05:13:57.222Z"
   },
   {
    "duration": 324,
    "start_time": "2023-06-27T05:13:57.232Z"
   },
   {
    "duration": 11,
    "start_time": "2023-06-27T05:13:57.558Z"
   },
   {
    "duration": 414,
    "start_time": "2023-06-27T05:13:57.572Z"
   },
   {
    "duration": 11,
    "start_time": "2023-06-27T05:13:57.988Z"
   },
   {
    "duration": 299,
    "start_time": "2023-06-27T05:13:58.001Z"
   },
   {
    "duration": 17,
    "start_time": "2023-06-27T05:13:58.302Z"
   },
   {
    "duration": 134,
    "start_time": "2023-06-27T05:13:58.321Z"
   },
   {
    "duration": 8,
    "start_time": "2023-06-27T05:13:58.457Z"
   },
   {
    "duration": 16,
    "start_time": "2023-06-27T05:13:58.467Z"
   },
   {
    "duration": 29,
    "start_time": "2023-06-27T05:13:58.486Z"
   },
   {
    "duration": 1086,
    "start_time": "2023-06-27T05:13:58.524Z"
   },
   {
    "duration": 21,
    "start_time": "2023-06-27T05:13:59.620Z"
   },
   {
    "duration": 1226,
    "start_time": "2023-06-27T05:13:59.646Z"
   },
   {
    "duration": 13,
    "start_time": "2023-06-27T05:14:00.877Z"
   },
   {
    "duration": 1129,
    "start_time": "2023-06-27T05:14:00.892Z"
   },
   {
    "duration": 15,
    "start_time": "2023-06-27T05:14:09.859Z"
   },
   {
    "duration": 28,
    "start_time": "2023-06-27T05:14:15.109Z"
   },
   {
    "duration": 165,
    "start_time": "2023-06-27T05:14:26.136Z"
   },
   {
    "duration": 13,
    "start_time": "2023-06-27T05:14:31.747Z"
   },
   {
    "duration": 116,
    "start_time": "2023-06-27T05:14:40.375Z"
   },
   {
    "duration": 5,
    "start_time": "2023-06-27T05:20:20.765Z"
   },
   {
    "duration": 10,
    "start_time": "2023-06-27T05:20:33.374Z"
   },
   {
    "duration": 152,
    "start_time": "2023-06-27T05:34:38.527Z"
   },
   {
    "duration": 11,
    "start_time": "2023-06-27T05:34:45.779Z"
   },
   {
    "duration": 12,
    "start_time": "2023-06-27T05:34:49.974Z"
   },
   {
    "duration": 9,
    "start_time": "2023-06-27T05:34:52.230Z"
   },
   {
    "duration": 104,
    "start_time": "2023-06-27T05:35:38.943Z"
   },
   {
    "duration": 28,
    "start_time": "2023-06-27T05:35:43.331Z"
   },
   {
    "duration": 30,
    "start_time": "2023-06-27T05:36:23.781Z"
   },
   {
    "duration": 9,
    "start_time": "2023-06-27T10:56:31.129Z"
   },
   {
    "duration": 8,
    "start_time": "2023-06-27T10:57:47.464Z"
   },
   {
    "duration": 17,
    "start_time": "2023-06-27T10:57:48.033Z"
   },
   {
    "duration": 6,
    "start_time": "2023-06-27T11:14:03.038Z"
   },
   {
    "duration": 11,
    "start_time": "2023-06-27T11:14:54.712Z"
   },
   {
    "duration": 18,
    "start_time": "2023-06-27T11:16:30.068Z"
   },
   {
    "duration": 15,
    "start_time": "2023-06-27T11:16:40.057Z"
   },
   {
    "duration": 19,
    "start_time": "2023-06-27T11:16:43.839Z"
   },
   {
    "duration": 4,
    "start_time": "2023-06-27T11:16:52.804Z"
   },
   {
    "duration": 41,
    "start_time": "2023-06-27T11:16:57.413Z"
   },
   {
    "duration": 22,
    "start_time": "2023-06-27T11:19:20.933Z"
   },
   {
    "duration": 32,
    "start_time": "2023-06-27T11:19:31.699Z"
   },
   {
    "duration": 35,
    "start_time": "2023-06-27T11:21:23.721Z"
   },
   {
    "duration": 21,
    "start_time": "2023-06-27T11:21:28.309Z"
   },
   {
    "duration": 319,
    "start_time": "2023-06-27T11:21:38.701Z"
   },
   {
    "duration": 384,
    "start_time": "2023-06-27T11:22:02.848Z"
   },
   {
    "duration": 382,
    "start_time": "2023-06-27T11:22:32.507Z"
   },
   {
    "duration": 12,
    "start_time": "2023-06-27T11:23:01.455Z"
   },
   {
    "duration": 111,
    "start_time": "2023-06-27T11:23:08.321Z"
   },
   {
    "duration": 442,
    "start_time": "2023-06-27T11:23:11.663Z"
   },
   {
    "duration": 22,
    "start_time": "2023-06-27T11:25:41.298Z"
   },
   {
    "duration": 20,
    "start_time": "2023-06-27T11:25:51.798Z"
   },
   {
    "duration": 301,
    "start_time": "2023-06-27T11:25:55.595Z"
   },
   {
    "duration": 302,
    "start_time": "2023-06-27T11:29:45.595Z"
   },
   {
    "duration": 309,
    "start_time": "2023-06-27T11:32:54.701Z"
   },
   {
    "duration": 20,
    "start_time": "2023-06-27T11:33:29.961Z"
   },
   {
    "duration": 26,
    "start_time": "2023-06-27T11:33:35.101Z"
   },
   {
    "duration": 52,
    "start_time": "2023-06-27T11:33:53.668Z"
   },
   {
    "duration": 1589,
    "start_time": "2023-06-27T11:34:06.774Z"
   },
   {
    "duration": 41,
    "start_time": "2023-06-27T11:34:19.101Z"
   },
   {
    "duration": 27,
    "start_time": "2023-06-27T11:34:27.006Z"
   },
   {
    "duration": 34,
    "start_time": "2023-06-27T11:34:39.667Z"
   },
   {
    "duration": 40,
    "start_time": "2023-06-27T11:34:44.042Z"
   },
   {
    "duration": 44,
    "start_time": "2023-06-27T11:36:11.112Z"
   },
   {
    "duration": 28,
    "start_time": "2023-06-27T11:37:38.740Z"
   },
   {
    "duration": 166,
    "start_time": "2023-06-27T11:37:55.251Z"
   },
   {
    "duration": 178,
    "start_time": "2023-06-27T11:38:35.228Z"
   },
   {
    "duration": 175,
    "start_time": "2023-06-27T11:38:41.844Z"
   },
   {
    "duration": 161,
    "start_time": "2023-06-27T11:38:45.248Z"
   },
   {
    "duration": 417,
    "start_time": "2023-06-27T11:39:09.660Z"
   },
   {
    "duration": 263,
    "start_time": "2023-06-27T11:39:18.235Z"
   },
   {
    "duration": 261,
    "start_time": "2023-06-27T11:39:53.140Z"
   },
   {
    "duration": 19,
    "start_time": "2023-06-27T11:40:04.348Z"
   },
   {
    "duration": 1635,
    "start_time": "2023-06-27T11:40:08.947Z"
   },
   {
    "duration": 307,
    "start_time": "2023-06-27T11:40:21.134Z"
   },
   {
    "duration": 15,
    "start_time": "2023-06-27T11:42:06.632Z"
   },
   {
    "duration": 27,
    "start_time": "2023-06-27T11:42:29.309Z"
   },
   {
    "duration": 21,
    "start_time": "2023-06-27T11:42:52.534Z"
   },
   {
    "duration": 26,
    "start_time": "2023-06-27T11:45:28.398Z"
   },
   {
    "duration": 27,
    "start_time": "2023-06-27T11:45:44.735Z"
   },
   {
    "duration": 47,
    "start_time": "2023-06-27T11:45:52.303Z"
   },
   {
    "duration": 245,
    "start_time": "2023-06-27T11:45:56.933Z"
   },
   {
    "duration": 19,
    "start_time": "2023-06-27T11:46:21.138Z"
   },
   {
    "duration": 16,
    "start_time": "2023-06-27T11:46:28.944Z"
   },
   {
    "duration": 219,
    "start_time": "2023-06-27T12:00:45.252Z"
   },
   {
    "duration": 4,
    "start_time": "2023-06-27T12:04:56.724Z"
   },
   {
    "duration": 5,
    "start_time": "2023-06-27T12:05:01.730Z"
   },
   {
    "duration": 8,
    "start_time": "2023-06-27T12:05:10.041Z"
   },
   {
    "duration": 13,
    "start_time": "2023-06-27T12:08:42.723Z"
   },
   {
    "duration": 21,
    "start_time": "2023-06-27T12:08:59.268Z"
   },
   {
    "duration": 21,
    "start_time": "2023-06-27T12:09:09.523Z"
   },
   {
    "duration": 7,
    "start_time": "2023-06-27T12:10:36.326Z"
   },
   {
    "duration": 11,
    "start_time": "2023-06-27T12:10:41.159Z"
   },
   {
    "duration": 6,
    "start_time": "2023-06-27T12:15:20.438Z"
   },
   {
    "duration": 17,
    "start_time": "2023-06-27T12:15:41.936Z"
   },
   {
    "duration": 8,
    "start_time": "2023-06-27T12:17:02.545Z"
   },
   {
    "duration": 405,
    "start_time": "2023-06-27T12:17:20.218Z"
   },
   {
    "duration": 246,
    "start_time": "2023-06-27T12:17:29.137Z"
   },
   {
    "duration": 11,
    "start_time": "2023-06-27T12:17:44.471Z"
   },
   {
    "duration": 8,
    "start_time": "2023-06-27T12:18:03.556Z"
   },
   {
    "duration": 8,
    "start_time": "2023-06-27T12:18:11.536Z"
   },
   {
    "duration": 1771,
    "start_time": "2023-06-27T12:18:30.234Z"
   },
   {
    "duration": 270,
    "start_time": "2023-06-27T12:18:38.625Z"
   },
   {
    "duration": 11,
    "start_time": "2023-06-27T12:20:00.837Z"
   },
   {
    "duration": 21,
    "start_time": "2023-06-27T12:20:44.139Z"
   },
   {
    "duration": 1369,
    "start_time": "2023-06-27T12:20:58.431Z"
   },
   {
    "duration": 243,
    "start_time": "2023-06-27T12:21:40.860Z"
   },
   {
    "duration": 145,
    "start_time": "2023-06-27T12:22:08.634Z"
   },
   {
    "duration": 1698,
    "start_time": "2023-06-27T12:22:13.944Z"
   },
   {
    "duration": 9,
    "start_time": "2023-06-27T12:22:55.230Z"
   },
   {
    "duration": 14,
    "start_time": "2023-06-27T12:26:12.872Z"
   },
   {
    "duration": 16,
    "start_time": "2023-06-27T12:26:16.750Z"
   },
   {
    "duration": 12,
    "start_time": "2023-06-27T12:26:22.340Z"
   },
   {
    "duration": 10,
    "start_time": "2023-06-27T12:27:03.930Z"
   },
   {
    "duration": 254,
    "start_time": "2023-06-27T12:27:13.032Z"
   },
   {
    "duration": 143,
    "start_time": "2023-06-27T12:29:11.639Z"
   },
   {
    "duration": 14,
    "start_time": "2023-06-27T12:29:15.531Z"
   },
   {
    "duration": 289,
    "start_time": "2023-06-27T12:29:25.041Z"
   },
   {
    "duration": 17,
    "start_time": "2023-06-27T12:29:31.435Z"
   },
   {
    "duration": 12,
    "start_time": "2023-06-27T12:30:13.053Z"
   },
   {
    "duration": 328,
    "start_time": "2023-06-27T12:30:33.911Z"
   },
   {
    "duration": 221,
    "start_time": "2023-06-27T12:30:59.340Z"
   },
   {
    "duration": 13,
    "start_time": "2023-06-27T12:31:07.057Z"
   },
   {
    "duration": 315,
    "start_time": "2023-06-27T12:31:28.133Z"
   },
   {
    "duration": 15,
    "start_time": "2023-06-27T12:32:45.542Z"
   },
   {
    "duration": 15,
    "start_time": "2023-06-27T12:32:49.148Z"
   },
   {
    "duration": 334,
    "start_time": "2023-06-27T12:33:07.739Z"
   },
   {
    "duration": 13,
    "start_time": "2023-06-27T12:33:47.977Z"
   },
   {
    "duration": 354,
    "start_time": "2023-06-27T12:33:53.239Z"
   },
   {
    "duration": 382,
    "start_time": "2023-06-27T12:34:13.442Z"
   },
   {
    "duration": 390,
    "start_time": "2023-06-27T12:34:35.845Z"
   },
   {
    "duration": 277,
    "start_time": "2023-06-27T12:35:03.522Z"
   },
   {
    "duration": 434,
    "start_time": "2023-06-27T12:35:20.932Z"
   },
   {
    "duration": 492,
    "start_time": "2023-06-27T12:37:51.611Z"
   },
   {
    "duration": 289,
    "start_time": "2023-06-27T12:37:57.937Z"
   },
   {
    "duration": 1445,
    "start_time": "2023-06-27T12:38:47.176Z"
   },
   {
    "duration": 126,
    "start_time": "2023-06-27T12:38:48.627Z"
   },
   {
    "duration": 14,
    "start_time": "2023-06-27T12:38:48.755Z"
   },
   {
    "duration": 12,
    "start_time": "2023-06-27T12:38:48.772Z"
   },
   {
    "duration": 22,
    "start_time": "2023-06-27T12:38:48.787Z"
   },
   {
    "duration": 9,
    "start_time": "2023-06-27T12:38:48.812Z"
   },
   {
    "duration": 11,
    "start_time": "2023-06-27T12:38:48.823Z"
   },
   {
    "duration": 18,
    "start_time": "2023-06-27T12:38:48.838Z"
   },
   {
    "duration": 16,
    "start_time": "2023-06-27T12:38:48.858Z"
   },
   {
    "duration": 6,
    "start_time": "2023-06-27T12:38:48.875Z"
   },
   {
    "duration": 56,
    "start_time": "2023-06-27T12:38:48.884Z"
   },
   {
    "duration": 18,
    "start_time": "2023-06-27T12:38:48.942Z"
   },
   {
    "duration": 266,
    "start_time": "2023-06-27T12:38:48.963Z"
   },
   {
    "duration": 240,
    "start_time": "2023-06-27T12:38:49.233Z"
   },
   {
    "duration": 238,
    "start_time": "2023-06-27T12:38:49.476Z"
   },
   {
    "duration": 352,
    "start_time": "2023-06-27T12:38:49.716Z"
   },
   {
    "duration": 15,
    "start_time": "2023-06-27T12:38:50.071Z"
   },
   {
    "duration": 348,
    "start_time": "2023-06-27T12:38:50.089Z"
   },
   {
    "duration": 309,
    "start_time": "2023-06-27T12:38:50.440Z"
   },
   {
    "duration": 13,
    "start_time": "2023-06-27T12:38:50.751Z"
   },
   {
    "duration": 385,
    "start_time": "2023-06-27T12:38:50.767Z"
   },
   {
    "duration": 14,
    "start_time": "2023-06-27T12:38:51.154Z"
   },
   {
    "duration": 36,
    "start_time": "2023-06-27T12:38:51.171Z"
   },
   {
    "duration": 41,
    "start_time": "2023-06-27T12:38:51.209Z"
   },
   {
    "duration": 306,
    "start_time": "2023-06-27T12:38:51.252Z"
   },
   {
    "duration": 12,
    "start_time": "2023-06-27T12:38:51.561Z"
   },
   {
    "duration": 324,
    "start_time": "2023-06-27T12:38:51.575Z"
   },
   {
    "duration": 21,
    "start_time": "2023-06-27T12:38:51.902Z"
   },
   {
    "duration": 438,
    "start_time": "2023-06-27T12:38:51.925Z"
   },
   {
    "duration": 12,
    "start_time": "2023-06-27T12:38:52.365Z"
   },
   {
    "duration": 316,
    "start_time": "2023-06-27T12:38:52.379Z"
   },
   {
    "duration": 27,
    "start_time": "2023-06-27T12:38:52.697Z"
   },
   {
    "duration": 140,
    "start_time": "2023-06-27T12:38:52.726Z"
   },
   {
    "duration": 7,
    "start_time": "2023-06-27T12:38:52.867Z"
   },
   {
    "duration": 17,
    "start_time": "2023-06-27T12:38:52.875Z"
   },
   {
    "duration": 51,
    "start_time": "2023-06-27T12:38:52.894Z"
   },
   {
    "duration": 31,
    "start_time": "2023-06-27T12:38:52.946Z"
   },
   {
    "duration": 8,
    "start_time": "2023-06-27T12:38:52.980Z"
   },
   {
    "duration": 39,
    "start_time": "2023-06-27T12:38:52.990Z"
   },
   {
    "duration": 14,
    "start_time": "2023-06-27T12:38:53.035Z"
   },
   {
    "duration": 1207,
    "start_time": "2023-06-27T12:38:53.055Z"
   },
   {
    "duration": 8,
    "start_time": "2023-06-27T12:38:54.266Z"
   },
   {
    "duration": 26,
    "start_time": "2023-06-27T12:38:54.276Z"
   },
   {
    "duration": 1066,
    "start_time": "2023-06-27T12:38:54.304Z"
   },
   {
    "duration": 12,
    "start_time": "2023-06-27T12:38:55.372Z"
   },
   {
    "duration": 1112,
    "start_time": "2023-06-27T12:38:55.386Z"
   },
   {
    "duration": 296,
    "start_time": "2023-06-27T12:40:01.034Z"
   },
   {
    "duration": 331,
    "start_time": "2023-06-27T12:40:08.216Z"
   },
   {
    "duration": 331,
    "start_time": "2023-06-27T12:40:15.244Z"
   },
   {
    "duration": 701,
    "start_time": "2023-06-27T12:41:44.912Z"
   },
   {
    "duration": 429,
    "start_time": "2023-06-27T12:41:57.138Z"
   },
   {
    "duration": 358,
    "start_time": "2023-06-27T12:42:03.569Z"
   },
   {
    "duration": 370,
    "start_time": "2023-06-27T12:42:09.824Z"
   },
   {
    "duration": 239,
    "start_time": "2023-06-27T12:42:15.935Z"
   },
   {
    "duration": 226,
    "start_time": "2023-06-27T12:42:21.032Z"
   },
   {
    "duration": 3,
    "start_time": "2023-06-27T12:42:42.836Z"
   },
   {
    "duration": 1346,
    "start_time": "2023-06-27T12:42:56.934Z"
   },
   {
    "duration": 106,
    "start_time": "2023-06-27T12:42:58.283Z"
   },
   {
    "duration": 18,
    "start_time": "2023-06-27T12:42:58.391Z"
   },
   {
    "duration": 49,
    "start_time": "2023-06-27T12:42:58.411Z"
   },
   {
    "duration": 25,
    "start_time": "2023-06-27T12:42:58.464Z"
   },
   {
    "duration": 10,
    "start_time": "2023-06-27T12:42:58.491Z"
   },
   {
    "duration": 26,
    "start_time": "2023-06-27T12:42:58.503Z"
   },
   {
    "duration": 12,
    "start_time": "2023-06-27T12:42:58.538Z"
   },
   {
    "duration": 16,
    "start_time": "2023-06-27T12:42:58.552Z"
   },
   {
    "duration": 7,
    "start_time": "2023-06-27T12:42:58.570Z"
   },
   {
    "duration": 16,
    "start_time": "2023-06-27T12:42:58.579Z"
   },
   {
    "duration": 37,
    "start_time": "2023-06-27T12:42:58.598Z"
   },
   {
    "duration": 2,
    "start_time": "2023-06-27T12:42:58.637Z"
   },
   {
    "duration": 298,
    "start_time": "2023-06-27T12:42:58.644Z"
   },
   {
    "duration": 190,
    "start_time": "2023-06-27T12:42:58.944Z"
   },
   {
    "duration": 273,
    "start_time": "2023-06-27T12:42:59.137Z"
   },
   {
    "duration": 18,
    "start_time": "2023-06-27T12:42:59.412Z"
   },
   {
    "duration": 345,
    "start_time": "2023-06-27T12:42:59.432Z"
   },
   {
    "duration": 383,
    "start_time": "2023-06-27T12:42:59.779Z"
   },
   {
    "duration": 12,
    "start_time": "2023-06-27T12:43:00.164Z"
   },
   {
    "duration": 392,
    "start_time": "2023-06-27T12:43:00.179Z"
   },
   {
    "duration": 10,
    "start_time": "2023-06-27T12:43:00.573Z"
   },
   {
    "duration": 106,
    "start_time": "2023-06-27T12:43:00.585Z"
   },
   {
    "duration": 88,
    "start_time": "2023-06-27T12:43:00.693Z"
   },
   {
    "duration": 664,
    "start_time": "2023-06-27T12:43:00.783Z"
   },
   {
    "duration": 10,
    "start_time": "2023-06-27T12:43:01.448Z"
   },
   {
    "duration": 801,
    "start_time": "2023-06-27T12:43:01.460Z"
   },
   {
    "duration": 59,
    "start_time": "2023-06-27T12:43:02.263Z"
   },
   {
    "duration": 892,
    "start_time": "2023-06-27T12:43:02.327Z"
   },
   {
    "duration": 12,
    "start_time": "2023-06-27T12:43:03.224Z"
   },
   {
    "duration": 970,
    "start_time": "2023-06-27T12:43:03.238Z"
   },
   {
    "duration": 14,
    "start_time": "2023-06-27T12:43:04.210Z"
   },
   {
    "duration": 121,
    "start_time": "2023-06-27T12:43:04.228Z"
   },
   {
    "duration": 9,
    "start_time": "2023-06-27T12:43:04.351Z"
   },
   {
    "duration": 39,
    "start_time": "2023-06-27T12:43:04.362Z"
   },
   {
    "duration": 59,
    "start_time": "2023-06-27T12:43:04.403Z"
   },
   {
    "duration": 41,
    "start_time": "2023-06-27T12:43:04.464Z"
   },
   {
    "duration": 17,
    "start_time": "2023-06-27T12:43:04.507Z"
   },
   {
    "duration": 20,
    "start_time": "2023-06-27T12:43:04.533Z"
   },
   {
    "duration": 32,
    "start_time": "2023-06-27T12:43:04.556Z"
   },
   {
    "duration": 1107,
    "start_time": "2023-06-27T12:43:04.595Z"
   },
   {
    "duration": 17,
    "start_time": "2023-06-27T12:43:05.704Z"
   },
   {
    "duration": 60,
    "start_time": "2023-06-27T12:43:05.726Z"
   },
   {
    "duration": 1126,
    "start_time": "2023-06-27T12:43:05.789Z"
   },
   {
    "duration": 15,
    "start_time": "2023-06-27T12:43:06.922Z"
   },
   {
    "duration": 1053,
    "start_time": "2023-06-27T12:43:06.939Z"
   },
   {
    "duration": 420,
    "start_time": "2023-06-27T12:43:53.454Z"
   },
   {
    "duration": 284,
    "start_time": "2023-06-27T12:43:59.710Z"
   },
   {
    "duration": 231,
    "start_time": "2023-06-27T13:01:07.947Z"
   },
   {
    "duration": 239,
    "start_time": "2023-06-27T13:01:23.849Z"
   },
   {
    "duration": 22,
    "start_time": "2023-06-27T13:07:00.759Z"
   },
   {
    "duration": 34,
    "start_time": "2023-06-27T13:07:23.930Z"
   },
   {
    "duration": 1680,
    "start_time": "2023-06-27T13:07:29.725Z"
   },
   {
    "duration": 125,
    "start_time": "2023-06-27T13:07:31.407Z"
   },
   {
    "duration": 16,
    "start_time": "2023-06-27T13:07:31.534Z"
   },
   {
    "duration": 46,
    "start_time": "2023-06-27T13:07:31.552Z"
   },
   {
    "duration": 88,
    "start_time": "2023-06-27T13:07:31.601Z"
   },
   {
    "duration": 55,
    "start_time": "2023-06-27T13:07:31.691Z"
   },
   {
    "duration": 108,
    "start_time": "2023-06-27T13:07:31.749Z"
   },
   {
    "duration": 61,
    "start_time": "2023-06-27T13:07:31.861Z"
   },
   {
    "duration": 28,
    "start_time": "2023-06-27T13:07:31.924Z"
   },
   {
    "duration": 23,
    "start_time": "2023-06-27T13:07:31.954Z"
   },
   {
    "duration": 27,
    "start_time": "2023-06-27T13:07:31.979Z"
   },
   {
    "duration": 20,
    "start_time": "2023-06-27T13:07:32.008Z"
   },
   {
    "duration": 14,
    "start_time": "2023-06-27T13:07:32.031Z"
   },
   {
    "duration": 366,
    "start_time": "2023-06-27T13:07:32.071Z"
   },
   {
    "duration": 257,
    "start_time": "2023-06-27T13:07:32.439Z"
   },
   {
    "duration": 429,
    "start_time": "2023-06-27T13:07:32.698Z"
   },
   {
    "duration": 14,
    "start_time": "2023-06-27T13:07:33.131Z"
   },
   {
    "duration": 324,
    "start_time": "2023-06-27T13:07:33.147Z"
   },
   {
    "duration": 415,
    "start_time": "2023-06-27T13:07:33.474Z"
   },
   {
    "duration": 12,
    "start_time": "2023-06-27T13:07:33.891Z"
   },
   {
    "duration": 426,
    "start_time": "2023-06-27T13:07:33.905Z"
   },
   {
    "duration": 13,
    "start_time": "2023-06-27T13:07:34.333Z"
   },
   {
    "duration": 26,
    "start_time": "2023-06-27T13:07:34.355Z"
   },
   {
    "duration": 14,
    "start_time": "2023-06-27T13:07:34.389Z"
   },
   {
    "duration": 25,
    "start_time": "2023-06-27T13:07:34.405Z"
   },
   {
    "duration": 21,
    "start_time": "2023-06-27T13:07:34.438Z"
   },
   {
    "duration": 371,
    "start_time": "2023-06-27T13:07:34.464Z"
   },
   {
    "duration": 10,
    "start_time": "2023-06-27T13:07:34.836Z"
   },
   {
    "duration": 356,
    "start_time": "2023-06-27T13:07:34.850Z"
   },
   {
    "duration": 30,
    "start_time": "2023-06-27T13:07:35.207Z"
   },
   {
    "duration": 352,
    "start_time": "2023-06-27T13:07:35.239Z"
   },
   {
    "duration": 24,
    "start_time": "2023-06-27T13:07:35.593Z"
   },
   {
    "duration": 415,
    "start_time": "2023-06-27T13:07:35.621Z"
   },
   {
    "duration": 15,
    "start_time": "2023-06-27T13:07:36.038Z"
   },
   {
    "duration": 132,
    "start_time": "2023-06-27T13:07:36.055Z"
   },
   {
    "duration": 7,
    "start_time": "2023-06-27T13:07:36.189Z"
   },
   {
    "duration": 105,
    "start_time": "2023-06-27T13:07:36.198Z"
   },
   {
    "duration": 66,
    "start_time": "2023-06-27T13:07:36.305Z"
   },
   {
    "duration": 48,
    "start_time": "2023-06-27T13:07:36.373Z"
   },
   {
    "duration": 9,
    "start_time": "2023-06-27T13:07:36.423Z"
   },
   {
    "duration": 38,
    "start_time": "2023-06-27T13:07:36.437Z"
   },
   {
    "duration": 20,
    "start_time": "2023-06-27T13:07:36.477Z"
   },
   {
    "duration": 1208,
    "start_time": "2023-06-27T13:07:36.500Z"
   },
   {
    "duration": 22,
    "start_time": "2023-06-27T13:07:37.710Z"
   },
   {
    "duration": 13,
    "start_time": "2023-06-27T13:07:37.735Z"
   },
   {
    "duration": 1223,
    "start_time": "2023-06-27T13:07:37.750Z"
   },
   {
    "duration": 17,
    "start_time": "2023-06-27T13:07:38.975Z"
   },
   {
    "duration": 1310,
    "start_time": "2023-06-27T13:07:38.994Z"
   },
   {
    "duration": 13,
    "start_time": "2023-06-27T13:08:14.860Z"
   },
   {
    "duration": 31,
    "start_time": "2023-06-27T13:08:42.532Z"
   },
   {
    "duration": 22,
    "start_time": "2023-06-27T13:09:08.739Z"
   },
   {
    "duration": 17,
    "start_time": "2023-06-27T13:11:50.234Z"
   },
   {
    "duration": 12,
    "start_time": "2023-06-27T13:12:55.665Z"
   },
   {
    "duration": 16,
    "start_time": "2023-06-27T13:13:16.532Z"
   },
   {
    "duration": 129,
    "start_time": "2023-06-27T13:13:47.670Z"
   },
   {
    "duration": 122,
    "start_time": "2023-06-27T13:13:58.068Z"
   },
   {
    "duration": 29,
    "start_time": "2023-06-27T13:14:01.524Z"
   },
   {
    "duration": 110,
    "start_time": "2023-06-27T13:15:55.333Z"
   },
   {
    "duration": 9,
    "start_time": "2023-06-27T13:16:00.151Z"
   },
   {
    "duration": 8,
    "start_time": "2023-06-27T13:16:49.567Z"
   },
   {
    "duration": 10,
    "start_time": "2023-06-27T13:17:01.537Z"
   },
   {
    "duration": 10,
    "start_time": "2023-06-27T13:17:10.250Z"
   },
   {
    "duration": 17,
    "start_time": "2023-06-27T13:17:34.412Z"
   },
   {
    "duration": 25,
    "start_time": "2023-06-27T13:19:35.320Z"
   },
   {
    "duration": 22,
    "start_time": "2023-06-27T13:20:00.432Z"
   },
   {
    "duration": 29,
    "start_time": "2023-06-27T13:20:29.632Z"
   },
   {
    "duration": 21,
    "start_time": "2023-06-27T13:21:51.734Z"
   },
   {
    "duration": 17,
    "start_time": "2023-06-27T13:23:02.857Z"
   },
   {
    "duration": 7,
    "start_time": "2023-06-27T13:32:17.552Z"
   },
   {
    "duration": 13,
    "start_time": "2023-06-27T13:32:27.934Z"
   },
   {
    "duration": 15,
    "start_time": "2023-06-27T13:32:51.711Z"
   },
   {
    "duration": 152,
    "start_time": "2023-06-27T13:35:28.111Z"
   },
   {
    "duration": 101,
    "start_time": "2023-06-27T13:35:44.764Z"
   },
   {
    "duration": 152,
    "start_time": "2023-06-27T13:35:51.932Z"
   },
   {
    "duration": 29,
    "start_time": "2023-06-27T13:36:39.212Z"
   },
   {
    "duration": 105,
    "start_time": "2023-06-27T13:36:59.144Z"
   },
   {
    "duration": 14,
    "start_time": "2023-06-27T13:37:16.725Z"
   },
   {
    "duration": 16,
    "start_time": "2023-06-27T13:38:27.235Z"
   },
   {
    "duration": 9,
    "start_time": "2023-06-27T13:38:51.239Z"
   },
   {
    "duration": 11,
    "start_time": "2023-06-27T13:39:37.544Z"
   },
   {
    "duration": 122,
    "start_time": "2023-06-27T13:49:06.131Z"
   },
   {
    "duration": 9,
    "start_time": "2023-06-27T13:49:11.636Z"
   },
   {
    "duration": 13,
    "start_time": "2023-06-27T13:49:49.362Z"
   },
   {
    "duration": 8,
    "start_time": "2023-06-27T13:50:27.248Z"
   },
   {
    "duration": 51,
    "start_time": "2023-06-28T05:29:15.480Z"
   },
   {
    "duration": 1687,
    "start_time": "2023-06-28T05:53:21.024Z"
   },
   {
    "duration": 222,
    "start_time": "2023-06-28T05:53:22.715Z"
   },
   {
    "duration": 21,
    "start_time": "2023-06-28T05:53:22.939Z"
   },
   {
    "duration": 47,
    "start_time": "2023-06-28T05:53:22.963Z"
   },
   {
    "duration": 24,
    "start_time": "2023-06-28T05:53:23.012Z"
   },
   {
    "duration": 13,
    "start_time": "2023-06-28T05:53:23.038Z"
   },
   {
    "duration": 47,
    "start_time": "2023-06-28T05:53:23.054Z"
   },
   {
    "duration": 24,
    "start_time": "2023-06-28T05:53:23.103Z"
   },
   {
    "duration": 22,
    "start_time": "2023-06-28T05:53:23.129Z"
   },
   {
    "duration": 23,
    "start_time": "2023-06-28T05:53:23.155Z"
   },
   {
    "duration": 28,
    "start_time": "2023-06-28T05:53:23.180Z"
   },
   {
    "duration": 29,
    "start_time": "2023-06-28T05:53:23.211Z"
   },
   {
    "duration": 3,
    "start_time": "2023-06-28T05:53:23.242Z"
   },
   {
    "duration": 291,
    "start_time": "2023-06-28T05:53:23.247Z"
   },
   {
    "duration": 186,
    "start_time": "2023-06-28T05:53:23.540Z"
   },
   {
    "duration": 304,
    "start_time": "2023-06-28T05:53:23.728Z"
   },
   {
    "duration": 29,
    "start_time": "2023-06-28T05:53:24.034Z"
   },
   {
    "duration": 273,
    "start_time": "2023-06-28T05:53:24.067Z"
   },
   {
    "duration": 284,
    "start_time": "2023-06-28T05:53:24.341Z"
   },
   {
    "duration": 11,
    "start_time": "2023-06-28T05:53:24.627Z"
   },
   {
    "duration": 333,
    "start_time": "2023-06-28T05:53:24.653Z"
   },
   {
    "duration": 12,
    "start_time": "2023-06-28T05:53:24.989Z"
   },
   {
    "duration": 16,
    "start_time": "2023-06-28T05:53:25.004Z"
   },
   {
    "duration": 45,
    "start_time": "2023-06-28T05:53:25.022Z"
   },
   {
    "duration": 36,
    "start_time": "2023-06-28T05:53:25.071Z"
   },
   {
    "duration": 30,
    "start_time": "2023-06-28T05:53:25.109Z"
   },
   {
    "duration": 35,
    "start_time": "2023-06-28T05:53:25.141Z"
   },
   {
    "duration": 328,
    "start_time": "2023-06-28T05:53:25.180Z"
   },
   {
    "duration": 12,
    "start_time": "2023-06-28T05:53:25.510Z"
   },
   {
    "duration": 344,
    "start_time": "2023-06-28T05:53:25.525Z"
   },
   {
    "duration": 11,
    "start_time": "2023-06-28T05:53:25.870Z"
   },
   {
    "duration": 319,
    "start_time": "2023-06-28T05:53:25.882Z"
   },
   {
    "duration": 10,
    "start_time": "2023-06-28T05:53:26.203Z"
   },
   {
    "duration": 475,
    "start_time": "2023-06-28T05:53:26.215Z"
   },
   {
    "duration": 9,
    "start_time": "2023-06-28T05:53:26.692Z"
   },
   {
    "duration": 176,
    "start_time": "2023-06-28T05:53:26.703Z"
   },
   {
    "duration": 7,
    "start_time": "2023-06-28T05:53:26.881Z"
   },
   {
    "duration": 84,
    "start_time": "2023-06-28T05:53:26.889Z"
   },
   {
    "duration": 45,
    "start_time": "2023-06-28T05:53:26.976Z"
   },
   {
    "duration": 37,
    "start_time": "2023-06-28T05:53:27.023Z"
   },
   {
    "duration": 54,
    "start_time": "2023-06-28T05:53:27.062Z"
   },
   {
    "duration": 32,
    "start_time": "2023-06-28T05:53:27.118Z"
   },
   {
    "duration": 8,
    "start_time": "2023-06-28T05:53:27.153Z"
   },
   {
    "duration": 40,
    "start_time": "2023-06-28T05:53:27.163Z"
   },
   {
    "duration": 94,
    "start_time": "2023-06-28T05:53:27.205Z"
   },
   {
    "duration": 1116,
    "start_time": "2023-06-28T05:53:27.301Z"
   },
   {
    "duration": 11,
    "start_time": "2023-06-28T05:53:28.420Z"
   },
   {
    "duration": 71,
    "start_time": "2023-06-28T05:53:28.433Z"
   },
   {
    "duration": 1119,
    "start_time": "2023-06-28T05:53:28.506Z"
   },
   {
    "duration": 35,
    "start_time": "2023-06-28T05:53:29.627Z"
   },
   {
    "duration": 27,
    "start_time": "2023-06-28T05:53:29.665Z"
   },
   {
    "duration": 1281,
    "start_time": "2023-06-28T05:53:29.694Z"
   },
   {
    "duration": 192,
    "start_time": "2023-06-28T05:56:02.706Z"
   },
   {
    "duration": 206,
    "start_time": "2023-06-28T05:56:21.671Z"
   },
   {
    "duration": 187,
    "start_time": "2023-06-28T05:58:41.657Z"
   },
   {
    "duration": 23,
    "start_time": "2023-06-28T06:00:35.162Z"
   },
   {
    "duration": 12,
    "start_time": "2023-06-28T06:01:11.807Z"
   },
   {
    "duration": 20,
    "start_time": "2023-06-28T06:01:19.510Z"
   },
   {
    "duration": 1356,
    "start_time": "2023-06-28T06:02:51.043Z"
   },
   {
    "duration": 79,
    "start_time": "2023-06-28T06:02:52.401Z"
   },
   {
    "duration": 13,
    "start_time": "2023-06-28T06:02:52.482Z"
   },
   {
    "duration": 18,
    "start_time": "2023-06-28T06:02:52.496Z"
   },
   {
    "duration": 16,
    "start_time": "2023-06-28T06:02:52.516Z"
   },
   {
    "duration": 19,
    "start_time": "2023-06-28T06:02:52.534Z"
   },
   {
    "duration": 16,
    "start_time": "2023-06-28T06:02:52.555Z"
   },
   {
    "duration": 16,
    "start_time": "2023-06-28T06:02:52.573Z"
   },
   {
    "duration": 14,
    "start_time": "2023-06-28T06:02:52.591Z"
   },
   {
    "duration": 12,
    "start_time": "2023-06-28T06:02:52.608Z"
   },
   {
    "duration": 41,
    "start_time": "2023-06-28T06:02:52.622Z"
   },
   {
    "duration": 30,
    "start_time": "2023-06-28T06:02:52.665Z"
   },
   {
    "duration": 3,
    "start_time": "2023-06-28T06:02:52.698Z"
   },
   {
    "duration": 249,
    "start_time": "2023-06-28T06:02:52.704Z"
   },
   {
    "duration": 197,
    "start_time": "2023-06-28T06:02:52.955Z"
   },
   {
    "duration": 312,
    "start_time": "2023-06-28T06:02:53.155Z"
   },
   {
    "duration": 9,
    "start_time": "2023-06-28T06:02:53.469Z"
   },
   {
    "duration": 232,
    "start_time": "2023-06-28T06:02:53.480Z"
   },
   {
    "duration": 308,
    "start_time": "2023-06-28T06:02:53.714Z"
   },
   {
    "duration": 10,
    "start_time": "2023-06-28T06:02:54.024Z"
   },
   {
    "duration": 294,
    "start_time": "2023-06-28T06:02:54.035Z"
   },
   {
    "duration": 21,
    "start_time": "2023-06-28T06:02:54.331Z"
   },
   {
    "duration": 12,
    "start_time": "2023-06-28T06:02:54.355Z"
   },
   {
    "duration": 12,
    "start_time": "2023-06-28T06:02:54.369Z"
   },
   {
    "duration": 18,
    "start_time": "2023-06-28T06:02:54.382Z"
   },
   {
    "duration": 51,
    "start_time": "2023-06-28T06:02:54.402Z"
   },
   {
    "duration": 8,
    "start_time": "2023-06-28T06:02:54.455Z"
   },
   {
    "duration": 294,
    "start_time": "2023-06-28T06:02:54.465Z"
   },
   {
    "duration": 11,
    "start_time": "2023-06-28T06:02:54.760Z"
   },
   {
    "duration": 296,
    "start_time": "2023-06-28T06:02:54.772Z"
   },
   {
    "duration": 13,
    "start_time": "2023-06-28T06:02:55.071Z"
   },
   {
    "duration": 473,
    "start_time": "2023-06-28T06:02:55.086Z"
   },
   {
    "duration": 11,
    "start_time": "2023-06-28T06:02:55.561Z"
   },
   {
    "duration": 286,
    "start_time": "2023-06-28T06:02:55.575Z"
   },
   {
    "duration": 13,
    "start_time": "2023-06-28T06:02:55.863Z"
   },
   {
    "duration": 144,
    "start_time": "2023-06-28T06:02:55.878Z"
   },
   {
    "duration": 7,
    "start_time": "2023-06-28T06:02:56.024Z"
   },
   {
    "duration": 25,
    "start_time": "2023-06-28T06:02:56.033Z"
   },
   {
    "duration": 28,
    "start_time": "2023-06-28T06:02:56.060Z"
   },
   {
    "duration": 20,
    "start_time": "2023-06-28T06:02:56.090Z"
   },
   {
    "duration": 56,
    "start_time": "2023-06-28T06:02:56.114Z"
   },
   {
    "duration": 32,
    "start_time": "2023-06-28T06:02:56.172Z"
   },
   {
    "duration": 18,
    "start_time": "2023-06-28T06:02:56.206Z"
   },
   {
    "duration": 1077,
    "start_time": "2023-06-28T06:02:56.226Z"
   },
   {
    "duration": 14,
    "start_time": "2023-06-28T06:02:57.305Z"
   },
   {
    "duration": 1034,
    "start_time": "2023-06-28T06:02:57.321Z"
   },
   {
    "duration": 27,
    "start_time": "2023-06-28T06:02:58.357Z"
   },
   {
    "duration": 1089,
    "start_time": "2023-06-28T06:02:58.387Z"
   },
   {
    "duration": 1494,
    "start_time": "2023-06-29T19:33:17.852Z"
   },
   {
    "duration": 388,
    "start_time": "2023-06-29T19:33:19.348Z"
   },
   {
    "duration": 12,
    "start_time": "2023-06-29T19:33:19.738Z"
   },
   {
    "duration": 30,
    "start_time": "2023-06-29T19:33:19.752Z"
   },
   {
    "duration": 13,
    "start_time": "2023-06-29T19:33:19.784Z"
   },
   {
    "duration": 12,
    "start_time": "2023-06-29T19:33:19.799Z"
   },
   {
    "duration": 17,
    "start_time": "2023-06-29T19:33:19.813Z"
   },
   {
    "duration": 17,
    "start_time": "2023-06-29T19:33:19.832Z"
   },
   {
    "duration": 16,
    "start_time": "2023-06-29T19:33:19.851Z"
   },
   {
    "duration": 12,
    "start_time": "2023-06-29T19:33:19.871Z"
   },
   {
    "duration": 14,
    "start_time": "2023-06-29T19:33:19.885Z"
   },
   {
    "duration": 11,
    "start_time": "2023-06-29T19:33:19.901Z"
   },
   {
    "duration": 3,
    "start_time": "2023-06-29T19:33:19.914Z"
   },
   {
    "duration": 281,
    "start_time": "2023-06-29T19:33:19.918Z"
   },
   {
    "duration": 199,
    "start_time": "2023-06-29T19:33:20.201Z"
   },
   {
    "duration": 364,
    "start_time": "2023-06-29T19:33:20.402Z"
   },
   {
    "duration": 18,
    "start_time": "2023-06-29T19:33:20.768Z"
   },
   {
    "duration": 701,
    "start_time": "2023-06-29T19:33:20.789Z"
   },
   {
    "duration": 767,
    "start_time": "2023-06-29T19:33:21.493Z"
   },
   {
    "duration": 12,
    "start_time": "2023-06-29T19:33:22.261Z"
   },
   {
    "duration": 788,
    "start_time": "2023-06-29T19:33:22.275Z"
   },
   {
    "duration": 14,
    "start_time": "2023-06-29T19:33:23.065Z"
   },
   {
    "duration": 13,
    "start_time": "2023-06-29T19:33:23.082Z"
   },
   {
    "duration": 64,
    "start_time": "2023-06-29T19:33:23.098Z"
   },
   {
    "duration": 28,
    "start_time": "2023-06-29T19:33:23.165Z"
   },
   {
    "duration": 22,
    "start_time": "2023-06-29T19:33:23.195Z"
   },
   {
    "duration": 20,
    "start_time": "2023-06-29T19:33:23.257Z"
   },
   {
    "duration": 539,
    "start_time": "2023-06-29T19:33:23.284Z"
   },
   {
    "duration": 9,
    "start_time": "2023-06-29T19:33:23.825Z"
   },
   {
    "duration": 435,
    "start_time": "2023-06-29T19:33:23.836Z"
   },
   {
    "duration": 12,
    "start_time": "2023-06-29T19:33:24.273Z"
   },
   {
    "duration": 318,
    "start_time": "2023-06-29T19:33:24.297Z"
   },
   {
    "duration": 12,
    "start_time": "2023-06-29T19:33:24.617Z"
   },
   {
    "duration": 418,
    "start_time": "2023-06-29T19:33:24.631Z"
   },
   {
    "duration": 15,
    "start_time": "2023-06-29T19:33:25.054Z"
   },
   {
    "duration": 120,
    "start_time": "2023-06-29T19:33:25.077Z"
   },
   {
    "duration": 1763,
    "start_time": "2023-06-29T19:33:25.199Z"
   },
   {
    "duration": 0,
    "start_time": "2023-06-29T19:33:26.967Z"
   },
   {
    "duration": 0,
    "start_time": "2023-06-29T19:33:26.968Z"
   },
   {
    "duration": 0,
    "start_time": "2023-06-29T19:33:26.971Z"
   },
   {
    "duration": 0,
    "start_time": "2023-06-29T19:33:26.972Z"
   },
   {
    "duration": 0,
    "start_time": "2023-06-29T19:33:26.975Z"
   },
   {
    "duration": 0,
    "start_time": "2023-06-29T19:33:26.977Z"
   },
   {
    "duration": 0,
    "start_time": "2023-06-29T19:33:26.978Z"
   },
   {
    "duration": 0,
    "start_time": "2023-06-29T19:33:26.979Z"
   },
   {
    "duration": 0,
    "start_time": "2023-06-29T19:33:26.981Z"
   },
   {
    "duration": 0,
    "start_time": "2023-06-29T19:33:26.984Z"
   },
   {
    "duration": 0,
    "start_time": "2023-06-29T19:33:26.986Z"
   },
   {
    "duration": 123,
    "start_time": "2023-06-29T19:33:42.013Z"
   },
   {
    "duration": 120,
    "start_time": "2023-06-29T19:33:54.517Z"
   },
   {
    "duration": 7,
    "start_time": "2023-06-29T19:33:56.091Z"
   },
   {
    "duration": 1296,
    "start_time": "2023-06-29T19:35:11.700Z"
   },
   {
    "duration": 117,
    "start_time": "2023-06-29T19:35:12.999Z"
   },
   {
    "duration": 17,
    "start_time": "2023-06-29T19:35:13.118Z"
   },
   {
    "duration": 55,
    "start_time": "2023-06-29T19:35:13.137Z"
   },
   {
    "duration": 15,
    "start_time": "2023-06-29T19:35:13.203Z"
   },
   {
    "duration": 9,
    "start_time": "2023-06-29T19:35:13.220Z"
   },
   {
    "duration": 29,
    "start_time": "2023-06-29T19:35:13.232Z"
   },
   {
    "duration": 26,
    "start_time": "2023-06-29T19:35:13.267Z"
   },
   {
    "duration": 16,
    "start_time": "2023-06-29T19:35:13.299Z"
   },
   {
    "duration": 8,
    "start_time": "2023-06-29T19:35:13.319Z"
   },
   {
    "duration": 16,
    "start_time": "2023-06-29T19:35:13.329Z"
   },
   {
    "duration": 37,
    "start_time": "2023-06-29T19:35:13.347Z"
   },
   {
    "duration": 4,
    "start_time": "2023-06-29T19:35:13.387Z"
   },
   {
    "duration": 243,
    "start_time": "2023-06-29T19:35:13.395Z"
   },
   {
    "duration": 232,
    "start_time": "2023-06-29T19:35:13.641Z"
   },
   {
    "duration": 260,
    "start_time": "2023-06-29T19:35:13.883Z"
   },
   {
    "duration": 33,
    "start_time": "2023-06-29T19:35:14.145Z"
   },
   {
    "duration": 278,
    "start_time": "2023-06-29T19:35:14.191Z"
   },
   {
    "duration": 309,
    "start_time": "2023-06-29T19:35:14.473Z"
   },
   {
    "duration": 17,
    "start_time": "2023-06-29T19:35:14.784Z"
   },
   {
    "duration": 308,
    "start_time": "2023-06-29T19:35:14.803Z"
   },
   {
    "duration": 10,
    "start_time": "2023-06-29T19:35:15.113Z"
   },
   {
    "duration": 30,
    "start_time": "2023-06-29T19:35:15.125Z"
   },
   {
    "duration": 18,
    "start_time": "2023-06-29T19:35:15.161Z"
   },
   {
    "duration": 36,
    "start_time": "2023-06-29T19:35:15.182Z"
   },
   {
    "duration": 23,
    "start_time": "2023-06-29T19:35:15.220Z"
   },
   {
    "duration": 27,
    "start_time": "2023-06-29T19:35:15.245Z"
   },
   {
    "duration": 403,
    "start_time": "2023-06-29T19:35:15.276Z"
   },
   {
    "duration": 10,
    "start_time": "2023-06-29T19:35:15.681Z"
   },
   {
    "duration": 313,
    "start_time": "2023-06-29T19:35:15.695Z"
   },
   {
    "duration": 11,
    "start_time": "2023-06-29T19:35:16.010Z"
   },
   {
    "duration": 458,
    "start_time": "2023-06-29T19:35:16.023Z"
   },
   {
    "duration": 19,
    "start_time": "2023-06-29T19:35:16.502Z"
   },
   {
    "duration": 323,
    "start_time": "2023-06-29T19:35:16.523Z"
   },
   {
    "duration": 17,
    "start_time": "2023-06-29T19:35:16.848Z"
   },
   {
    "duration": 126,
    "start_time": "2023-06-29T19:35:16.869Z"
   },
   {
    "duration": 9,
    "start_time": "2023-06-29T19:35:16.997Z"
   },
   {
    "duration": 18,
    "start_time": "2023-06-29T19:35:17.008Z"
   },
   {
    "duration": 50,
    "start_time": "2023-06-29T19:35:17.028Z"
   },
   {
    "duration": 29,
    "start_time": "2023-06-29T19:35:17.080Z"
   },
   {
    "duration": 58,
    "start_time": "2023-06-29T19:35:17.114Z"
   },
   {
    "duration": 48,
    "start_time": "2023-06-29T19:35:17.179Z"
   },
   {
    "duration": 26,
    "start_time": "2023-06-29T19:35:17.229Z"
   },
   {
    "duration": 1242,
    "start_time": "2023-06-29T19:35:17.256Z"
   },
   {
    "duration": 16,
    "start_time": "2023-06-29T19:35:18.508Z"
   },
   {
    "duration": 1120,
    "start_time": "2023-06-29T19:35:18.527Z"
   },
   {
    "duration": 27,
    "start_time": "2023-06-29T19:35:19.649Z"
   },
   {
    "duration": 1120,
    "start_time": "2023-06-29T19:35:19.678Z"
   }
  ],
  "kernelspec": {
   "display_name": "Python 3 (ipykernel)",
   "language": "python",
   "name": "python3"
  },
  "language_info": {
   "codemirror_mode": {
    "name": "ipython",
    "version": 3
   },
   "file_extension": ".py",
   "mimetype": "text/x-python",
   "name": "python",
   "nbconvert_exporter": "python",
   "pygments_lexer": "ipython3",
   "version": "3.10.9"
  },
  "toc": {
   "base_numbering": 1,
   "nav_menu": {},
   "number_sections": true,
   "sideBar": true,
   "skip_h1_title": true,
   "title_cell": "Table of Contents",
   "title_sidebar": "Contents",
   "toc_cell": false,
   "toc_position": {
    "height": "calc(100% - 180px)",
    "left": "10px",
    "top": "150px",
    "width": "402.882px"
   },
   "toc_section_display": true,
   "toc_window_display": true
  }
 },
 "nbformat": 4,
 "nbformat_minor": 5
}
