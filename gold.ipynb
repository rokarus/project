{
 "cells": [
  {
   "cell_type": "markdown",
   "metadata": {},
   "source": [
    "<div style=\"border:solid Chocolate 2px; padding: 40px\">\n",
    "\n",
    "<b> Дмитрий, привет!👋</b>\n",
    "\n",
    "Меня зовут Алексей Гриб, и я буду ревьюером твоего проекта. \n",
    "\n",
    "Сразу хочу предложить в дальнейшем общаться на \"ты\" - надеюсь, так будет комфортнее:) Но если это неудобно, обязательно дай знать, и мы придумаем что-нибудь ещё!\n",
    "    \n",
    "Цель ревью - не искать ошибки в твоём проекте, а помочь тебе сделать твою работу ещё лучше, устранив недочёты и приблизив её к реальным задачам аналитика. Поэтому не расстраивайся, если что-то не получилось с первого раза - это нормально, и это поможет тебе вырасти!\n",
    "    \n",
    "Ты можешь найти мои комментарии, обозначенные <font color='green'>зеленым</font>, <font color='gold'>желтым</font> и <font color='red'>красным</font> цветами, например:\n",
    "\n",
    "<br/>\n",
    "\n",
    "<div class=\"alert alert-success\">\n",
    "<h2> Комментарий ревьюера <a class=\"tocSkip\"> </h2>\n",
    "\n",
    "<b>Все отлично!👍:</b> похвала, рекомендации «со звёздочкой», полезные лайфхаки, которые сделают и без того красивое решение ещё более элегантным.\n",
    "</div>\n",
    "\n",
    "<br/>\n",
    "\n",
    "<div class=\"alert alert-warning\">\n",
    "    <h2> Комментарий ревьюера <a class=\"tocSkip\"> </h2>\n",
    "    \n",
    "<b>Некоторые замечания и рекомендации⚠️:</b> некритичные ошибки или развивающие рекомендации на будущее. \n",
    "</div>\n",
    "\n",
    "\n",
    "<br/>\n",
    "<div class=\"alert alert-block alert-danger\">\n",
    "<h2> Комментарий ревьюера <a class=\"tocSkip\"></h2>\n",
    "\n",
    "    \n",
    "<b>На доработку❌:</b>\n",
    "Критичные ошибки, которые обязательно нужно исправить.\n",
    "</div>\n",
    "\n",
    "Я не смогу принять проект, если в нём будет хотя бы одна критичная ошибка или несколько некритичных ошибок - тогда проект нужно будет немного доработать. Но это нестрашно - я обязательно дам тебе подсказку или укажу верное направление.\n",
    "    \n",
    "Пожалуйста, не удаляй мои комментарии, они будут особенно полезны для нашей работы в случае повторной проверки проекта. \n",
    "    \n",
    "Ты также можешь задавать свои вопросы, реагировать на мои комментарии, делать пометки и пояснения - полная творческая свобода! Но маленькая просьба - пускай они будут отличаться от моих комментариев, это поможет избежать путаницы в нашем общении:)\n",
    "Например, вот так:\n",
    "    \n",
    "<div class=\"alert alert-info\">\n",
    "<h2> Комментарий студента <a class=\"tocSkip\"> </h2>\n",
    "\n",
    "*твой текст*\n",
    "</div>\n",
    "    \n",
    "Давай посмотрим на твой проект!"
   ]
  },
  {
   "cell_type": "markdown",
   "metadata": {},
   "source": [
    "<div class=\"alert alert-info\">\n",
    "<h2> Комментарий студента <a class=\"tocSkip\"> </h2>\n",
    "\n",
    "Привет, то что было скопированно, переделал. Если я правильно понял задачу через pipline то на сколько разобрался тоже сделал. Прости что потратил время на первую итерацию, прост недельки были не лучшие. Но спасибо за дополнительную возможность дополнительно разобрать тему!\n",
    "    \n",
    "Модели через pipline достаточно долго считаются поэтому под моделью выписал итог работы модели\n",
    "    \n",
    "Везде где требовался seaborn выполнил через него ттест тоже провел\n",
    "</div>"
   ]
  },
  {
   "cell_type": "markdown",
   "metadata": {},
   "source": [
    "<div style=\"border:solid Chocolate 2px; padding: 40px\">\n",
    "\n",
    "<b> Комментарий ревьюера </b>\n",
    "\n",
    "Проект нужно переделать самостоятельно, с нуля. При наличии в новом решении текущей структуры проект снова будет возвращён на доработку.\n",
    "    \n",
    "Дополнительные задания для модельного блока:\n",
    "- дополнительно исследовать `Lasso`, `ElasticNet`: для линейных моделей оптимизировать гиперпараметр `alpha`, для случайного леса и дерева решений - не менее двух;\n",
    "- работу с моделями организовать через `Pipeline` (https://scikit-learn.org/stable/modules/generated/sklearn.pipeline.Pipeline.html), в составе пайплайна выполнить масштабирование переменных через `StandardScaler`.\n",
    "    \n",
    "Дополнительные задания для аналитического блока:\n",
    "- для визуализации использовать `sns.histplot()`, настроить правильное количество корзин и разные цвета для разных признаков;\n",
    "- при анализе схожести распределений использовать `sns.histplot()` с настройкой для плотности вероятностей, дополнительно провести `ttest` на равенство средних: сформулировать гипотезы, провести тесты, сделать выводы по проверке."
   ]
  },
  {
   "cell_type": "markdown",
   "metadata": {
    "toc": true
   },
   "source": [
    "<h1>Содержание<span class=\"tocSkip\"></span></h1>\n",
    "<div class=\"toc\"><ul class=\"toc-item\"><li><span><a href=\"#Подготовка-данных\" data-toc-modified-id=\"Подготовка-данных-1\"><span class=\"toc-item-num\">1&nbsp;&nbsp;</span>Подготовка данных</a></span><ul class=\"toc-item\"><li><span><a href=\"#Вывод:\" data-toc-modified-id=\"Вывод:-1.1\"><span class=\"toc-item-num\">1.1&nbsp;&nbsp;</span>Вывод:</a></span></li><li><span><a href=\"#Вывод-по-расчеты-recovery:\" data-toc-modified-id=\"Вывод-по-расчеты-recovery:-1.2\"><span class=\"toc-item-num\">1.2&nbsp;&nbsp;</span>Вывод по расчеты recovery:</a></span></li><li><span><a href=\"#Вывод-по-отсутствующим-признакам:\" data-toc-modified-id=\"Вывод-по-отсутствующим-признакам:-1.3\"><span class=\"toc-item-num\">1.3&nbsp;&nbsp;</span>Вывод по отсутствующим признакам:</a></span></li><li><span><a href=\"#Вывод:\" data-toc-modified-id=\"Вывод:-1.4\"><span class=\"toc-item-num\">1.4&nbsp;&nbsp;</span>Вывод:</a></span></li></ul></li><li><span><a href=\"#Анализ-данных\" data-toc-modified-id=\"Анализ-данных-2\"><span class=\"toc-item-num\">2&nbsp;&nbsp;</span>Анализ данных</a></span><ul class=\"toc-item\"><li><span><a href=\"#Вывод:\" data-toc-modified-id=\"Вывод:-2.1\"><span class=\"toc-item-num\">2.1&nbsp;&nbsp;</span>Вывод:</a></span></li><li><span><a href=\"#Вывод:\" data-toc-modified-id=\"Вывод:-2.2\"><span class=\"toc-item-num\">2.2&nbsp;&nbsp;</span>Вывод:</a></span></li><li><span><a href=\"#Вывод:\" data-toc-modified-id=\"Вывод:-2.3\"><span class=\"toc-item-num\">2.3&nbsp;&nbsp;</span>Вывод:</a></span></li></ul></li><li><span><a href=\"#Модель\" data-toc-modified-id=\"Модель-3\"><span class=\"toc-item-num\">3&nbsp;&nbsp;</span>Модель</a></span><ul class=\"toc-item\"><li><span><a href=\"#Функция-для-вычисления-итоговой-sMAPE\" data-toc-modified-id=\"Функция-для-вычисления-итоговой-sMAPE-3.1\"><span class=\"toc-item-num\">3.1&nbsp;&nbsp;</span>Функция для вычисления итоговой sMAPE</a></span></li><li><span><a href=\"#Через-pipeline\" data-toc-modified-id=\"Через-pipeline-3.2\"><span class=\"toc-item-num\">3.2&nbsp;&nbsp;</span>Через pipeline</a></span><ul class=\"toc-item\"><li><span><a href=\"#Lasso\" data-toc-modified-id=\"Lasso-3.2.1\"><span class=\"toc-item-num\">3.2.1&nbsp;&nbsp;</span>Lasso</a></span></li><li><span><a href=\"#RandomForestRegressor\" data-toc-modified-id=\"RandomForestRegressor-3.2.2\"><span class=\"toc-item-num\">3.2.2&nbsp;&nbsp;</span>RandomForestRegressor</a></span></li><li><span><a href=\"#DecisionTreeRegressor\" data-toc-modified-id=\"DecisionTreeRegressor-3.2.3\"><span class=\"toc-item-num\">3.2.3&nbsp;&nbsp;</span>DecisionTreeRegressor</a></span></li><li><span><a href=\"#ElasticNet\" data-toc-modified-id=\"ElasticNet-3.2.4\"><span class=\"toc-item-num\">3.2.4&nbsp;&nbsp;</span>ElasticNet</a></span></li></ul></li><li><span><a href=\"#Выводы:\" data-toc-modified-id=\"Выводы:-3.3\"><span class=\"toc-item-num\">3.3&nbsp;&nbsp;</span>Выводы:</a></span></li></ul></li><li><span><a href=\"#Общий-вывод:\" data-toc-modified-id=\"Общий-вывод:-4\"><span class=\"toc-item-num\">4&nbsp;&nbsp;</span>Общий вывод:</a></span></li></ul></div>"
   ]
  },
  {
   "cell_type": "markdown",
   "metadata": {},
   "source": [
    "# Восстановление золота из руды"
   ]
  },
  {
   "cell_type": "markdown",
   "metadata": {},
   "source": [
    "**Описание данных**\n",
    "Технологический процесс\n",
    "\n",
    "* Rougher feed — исходное сырье\n",
    "* Rougher additions (или reagent additions) — флотационные реагенты: Xanthate, Sulphate, Depressant\n",
    "* Xanthate — ксантогенат (промотер, или активатор флотации);\n",
    "* Sulphate — сульфат (на данном производстве сульфид натрия);\n",
    "* Depressant — депрессант (силикат натрия).\n",
    "* Rougher process (англ. «грубый процесс») — флотация\n",
    "* Rougher tails — отвальные хвосты\n",
    "* Float banks — флотационная установка\n",
    "* Cleaner process — очистка\n",
    "* Rougher Au — черновой концентрат золота\n",
    "* Final Au — финальный концентрат золота\n",
    "* Параметры этапов\n",
    "* air amount — объём воздуха\n",
    "* fluid levels — уровень жидкости\n",
    "* feed size — размер гранул сырья\n",
    "* feed rate — скорость подачи\n",
    "\n",
    "Наименование признаков\n",
    "Наименование признаков должно быть такое:\n",
    "[этап].[тип_параметра].[название_параметра]\n",
    "Пример: rougher.input.feed_ag\n",
    "\n",
    "\n",
    "Возможные значения для блока [этап]:\n",
    "* rougher — флотация\n",
    "* primary_cleaner — первичная очистка\n",
    "* secondary_cleaner — вторичная очистка\n",
    "* final — финальные характеристики\n",
    "* Возможные значения для блока [тип_параметра]:\n",
    "* input — параметры сырья\n",
    "* output — параметры продукта\n",
    "* state — параметры, характеризующие текущее состояние этапа\n",
    "* calculation — расчётные характеристики"
   ]
  },
  {
   "cell_type": "markdown",
   "metadata": {},
   "source": [
    "Подготовьте прототип модели машинного обучения для «Цифры». Компания разрабатывает решения для эффективной работы промышленных предприятий.\n",
    "\n",
    "Модель должна предсказать коэффициент восстановления золота из золотосодержащей руды. Используйте данные с параметрами добычи и очистки. \n",
    "\n",
    "Модель поможет оптимизировать производство, чтобы не запускать предприятие с убыточными характеристиками.\n",
    "\n",
    "Вам нужно:\n",
    "\n",
    "1. Подготовить данные;\n",
    "2. Провести исследовательский анализ данных;\n",
    "3. Построить и обучить модель.\n",
    "\n",
    "Чтобы выполнить проект, обращайтесь к библиотекам *pandas*, *matplotlib* и *sklearn.* Вам поможет их документация."
   ]
  },
  {
   "cell_type": "markdown",
   "metadata": {},
   "source": [
    "<div style=\"border:solid Chocolate 2px; padding: 40px\">\n",
    "\n",
    "<b> Дмитрий, привет!👋</b>\n",
    "\n",
    "Меня зовут Алексей Гриб, и я буду ревьюером твоего проекта. \n",
    "\n",
    "Сразу хочу предложить в дальнейшем общаться на \"ты\" - надеюсь, так будет комфортнее:) Но если это неудобно, обязательно дай знать, и мы придумаем что-нибудь ещё!\n",
    "    \n",
    "Цель ревью - не искать ошибки в твоём проекте, а помочь тебе сделать твою работу ещё лучше, устранив недочёты и приблизив её к реальным задачам аналитика. Поэтому не расстраивайся, если что-то не получилось с первого раза - это нормально, и это поможет тебе вырасти!\n",
    "    \n",
    "Ты можешь найти мои комментарии, обозначенные <font color='green'>зеленым</font>, <font color='gold'>желтым</font> и <font color='red'>красным</font> цветами, например:\n",
    "\n",
    "<br/>\n",
    "\n",
    "<div class=\"alert alert-success\">\n",
    "<h2> Комментарий ревьюера <a class=\"tocSkip\"> </h2>\n",
    "\n",
    "<b>Все отлично!👍:</b> похвала, рекомендации «со звёздочкой», полезные лайфхаки, которые сделают и без того красивое решение ещё более элегантным.\n",
    "</div>\n",
    "\n",
    "<br/>\n",
    "\n",
    "<div class=\"alert alert-warning\">\n",
    "    <h2> Комментарий ревьюера <a class=\"tocSkip\"> </h2>\n",
    "    \n",
    "<b>Некоторые замечания и рекомендации⚠️:</b> некритичные ошибки или развивающие рекомендации на будущее. \n",
    "</div>\n",
    "\n",
    "\n",
    "<br/>\n",
    "<div class=\"alert alert-block alert-danger\">\n",
    "<h2> Комментарий ревьюера <a class=\"tocSkip\"></h2>\n",
    "\n",
    "    \n",
    "<b>На доработку❌:</b>\n",
    "Критичные ошибки, которые обязательно нужно исправить.\n",
    "</div>\n",
    "\n",
    "Я не смогу принять проект, если в нём будет хотя бы одна критичная ошибка или несколько некритичных ошибок - тогда проект нужно будет немного доработать. Но это нестрашно - я обязательно дам тебе подсказку или укажу верное направление.\n",
    "    \n",
    "Пожалуйста, не удаляй мои комментарии, они будут особенно полезны для нашей работы в случае повторной проверки проекта. \n",
    "    \n",
    "Ты также можешь задавать свои вопросы, реагировать на мои комментарии, делать пометки и пояснения - полная творческая свобода! Но маленькая просьба - пускай они будут отличаться от моих комментариев, это поможет избежать путаницы в нашем общении:)\n",
    "Например, вот так:\n",
    "    \n",
    "<div class=\"alert alert-info\">\n",
    "<h2> Комментарий студента <a class=\"tocSkip\"> </h2>\n",
    "\n",
    "*твой текст*\n",
    "</div>\n",
    "    \n",
    "Давай посмотрим на твой проект!"
   ]
  },
  {
   "cell_type": "markdown",
   "metadata": {},
   "source": [
    "## Подготовка данных"
   ]
  },
  {
   "cell_type": "code",
   "execution_count": 30,
   "metadata": {},
   "outputs": [],
   "source": [
    "import pandas as pd\n",
    "import numpy as np\n",
    "import matplotlib.pyplot as plt\n",
    "from sklearn.pipeline import Pipeline, make_pipeline\n",
    "from sklearn.linear_model import Lasso\n",
    "from sklearn.linear_model import ElasticNet\n",
    "from sklearn.preprocessing import StandardScaler\n",
    "from sklearn.metrics import mean_absolute_error, make_scorer\n",
    "from sklearn.linear_model import LinearRegression\n",
    "from sklearn.tree import DecisionTreeRegressor\n",
    "from sklearn.ensemble import RandomForestRegressor\n",
    "from sklearn.dummy import DummyRegressor\n",
    "from sklearn.model_selection import cross_val_score, GridSearchCV\n",
    "from scipy import stats as st\n",
    "import seaborn as sns\n",
    "sns.set()"
   ]
  },
  {
   "cell_type": "markdown",
   "metadata": {},
   "source": [
    "<div class=\"alert alert-success\">\n",
    "<h2> Комментарий ревьюера <a class=\"tocSkip\"> </h2>\n",
    "\n",
    "<b>Все отлично!👍:</b> Хорошее вступление!\n",
    "    \n",
    "В нём есть всё, что необходимо, чтобы понять суть проекта с первых строк отчёта!"
   ]
  },
  {
   "cell_type": "code",
   "execution_count": 2,
   "metadata": {},
   "outputs": [],
   "source": [
    "def anlz (pi):\n",
    "    print(f'Размер:{pi.shape}')\n",
    "    print()\n",
    "    print(pi.dtypes)\n",
    "    print()\n",
    "    print(f'Кол-во дубликатов: {pi.duplicated().sum()}')\n",
    "    print()\n",
    "    print('Пропуски в %:')\n",
    "    print((pi.isnull().sum ()/(len(pi))*100).sort_values(ascending=False).head(60))   "
   ]
  },
  {
   "cell_type": "code",
   "execution_count": 3,
   "metadata": {},
   "outputs": [],
   "source": [
    "data_full = pd.read_csv('/datasets/gold_industry_full.csv')\n",
    "data_train = pd.read_csv('/datasets/gold_industry_train.csv')\n",
    "data_test = pd.read_csv('/datasets/gold_industry_test.csv')"
   ]
  },
  {
   "cell_type": "markdown",
   "metadata": {},
   "source": [
    "<div class=\"alert alert-success\">\n",
    "<h2> Комментарий ревьюера <a class=\"tocSkip\"> </h2>\n",
    "\n",
    "<b>Все отлично!👍</b> \n",
    "    \n",
    "Данные загрузили.\n",
    "    \n",
    "При считывании данных из файла здорово перестраховывать себя от ошибок, связанных, например, с неверным указанием пути к файлу. А иногда бывает, что работаешь с файлом локально, выгружаешь его на сервер, ожидая, что он будет принимать данные, которые лежат на том же сервере, а код падает с ошибкой, потому что путь к файлу не поменялся с локального на серверный.\n",
    "    \n",
    "Для этого, например, можно использовать конструкцию `try-except`: сначала пробуешь локальный путь, при возникновении ошибки используется серверный путь (подробнее можешь почитать тут: https://pythonworld.ru/tipy-dannyx-v-python/isklyucheniya-v-python-konstrukciya-try-except-dlya-obrabotki-isklyuchenij.html).\n",
    "    \n",
    "Но еще лучше использовать библиотеку `os` - её использование позволит тебе проверять существование указанных директорий (что может быть актуально при одновременной работа на локальном и сетевом окружении) и загружать данные из существующей директории, избегая ошибок. Как пример:\n",
    "    \n",
    "    import os\n",
    "\n",
    "    pth1 = '/folder_1/data.csv'\n",
    "    pth2 = '/folder_2/data.csv'\n",
    "    \n",
    "    if os.path.exists(pth1):\n",
    "        query_1 = pd.read_csv(pth1)\n",
    "    elif os.path.exists(pth2):\n",
    "        query_1 = pd.read_csv(pth2)\n",
    "    else:\n",
    "        print('Something is wrong')\n",
    "\n",
    "Ещё на этапе считывания данных можно спарсить дату: за это действие отвечает параметр `parse_dates` метода `read_csv()`, в него нужно передать список с названием полей-дат, и в большинстве случаев дата будет корректно преобразована в нужный формат сразу:)\n",
    "Также на этапе считывания данных задать индекс-столбец- за это действие отвечает параметр `index_col`."
   ]
  },
  {
   "cell_type": "code",
   "execution_count": 4,
   "metadata": {},
   "outputs": [
    {
     "name": "stdout",
     "output_type": "stream",
     "text": [
      "Размер:(19439, 87)\n",
      "\n",
      "date                       object\n",
      "rougher.input.feed_au     float64\n",
      "rougher.input.feed_ag     float64\n",
      "rougher.input.feed_pb     float64\n",
      "rougher.input.feed_sol    float64\n",
      "                           ...   \n",
      "final.output.recovery     float64\n",
      "final.output.tail_au      float64\n",
      "final.output.tail_ag      float64\n",
      "final.output.tail_pb      float64\n",
      "final.output.tail_sol     float64\n",
      "Length: 87, dtype: object\n",
      "\n",
      "Кол-во дубликатов: 0\n",
      "\n",
      "Пропуски в %:\n",
      "secondary_cleaner.output.tail_sol                     8.992232\n",
      "rougher.input.floatbank11_xanthate                    2.330367\n",
      "rougher.state.floatbank10_e_air                       2.242914\n",
      "primary_cleaner.output.concentrate_sol                1.903390\n",
      "secondary_cleaner.state.floatbank2_a_air              1.131745\n",
      "final.output.concentrate_sol                          1.085447\n",
      "rougher.input.feed_size                               0.745923\n",
      "primary_cleaner.output.concentrate_pb                 0.596739\n",
      "primary_cleaner.input.xanthate                        0.535007\n",
      "final.output.tail_pb                                  0.519574\n",
      "rougher.input.feed_pb                                 0.514430\n",
      "rougher.input.feed_sol                                0.509285\n",
      "primary_cleaner.output.tail_sol                       0.318946\n",
      "rougher.input.floatbank11_sulfate                     0.226349\n",
      "primary_cleaner.input.depressant                      0.190339\n",
      "rougher.input.floatbank10_sulfate                     0.174906\n",
      "primary_cleaner.input.sulfate                         0.123463\n",
      "rougher.output.concentrate_sol                        0.118319\n",
      "secondary_cleaner.state.floatbank2_b_air              0.118319\n",
      "primary_cleaner.output.tail_pb                        0.108030\n",
      "secondary_cleaner.state.floatbank3_a_air              0.066876\n",
      "secondary_cleaner.output.tail_pb                      0.061732\n",
      "rougher.input.feed_rate                               0.056587\n",
      "rougher.input.floatbank10_xanthate                    0.041154\n",
      "secondary_cleaner.state.floatbank4_a_air              0.030866\n",
      "final.output.tail_sol                                 0.030866\n",
      "primary_cleaner.output.tail_ag                        0.020577\n",
      "primary_cleaner.state.floatbank8_b_air                0.020577\n",
      "primary_cleaner.state.floatbank8_a_air                0.020577\n",
      "primary_cleaner.state.floatbank8_d_air                0.015433\n",
      "rougher.calculation.sulfate_to_au_concentrate         0.010289\n",
      "secondary_cleaner.output.tail_ag                      0.010289\n",
      "primary_cleaner.state.floatbank8_c_air                0.010289\n",
      "secondary_cleaner.state.floatbank6_a_air              0.010289\n",
      "rougher.calculation.floatbank11_sulfate_to_au_feed    0.010289\n",
      "rougher.calculation.floatbank10_sulfate_to_au_feed    0.010289\n",
      "secondary_cleaner.state.floatbank3_b_air              0.005144\n",
      "final.output.tail_ag                                  0.005144\n",
      "final.output.concentrate_pb                           0.005144\n",
      "final.output.concentrate_ag                           0.005144\n",
      "secondary_cleaner.state.floatbank4_b_level            0.005144\n",
      "secondary_cleaner.state.floatbank4_b_air              0.005144\n",
      "secondary_cleaner.state.floatbank2_a_level            0.005144\n",
      "secondary_cleaner.state.floatbank6_a_level            0.005144\n",
      "secondary_cleaner.state.floatbank3_a_level            0.005144\n",
      "secondary_cleaner.state.floatbank4_a_level            0.005144\n",
      "secondary_cleaner.state.floatbank2_b_level            0.005144\n",
      "secondary_cleaner.state.floatbank5_a_air              0.005144\n",
      "secondary_cleaner.state.floatbank5_b_level            0.005144\n",
      "secondary_cleaner.state.floatbank5_b_air              0.005144\n",
      "secondary_cleaner.state.floatbank3_b_level            0.005144\n",
      "secondary_cleaner.state.floatbank5_a_level            0.005144\n",
      "primary_cleaner.state.floatbank8_b_level              0.005144\n",
      "rougher.state.floatbank10_a_level                     0.005144\n",
      "primary_cleaner.state.floatbank8_d_level              0.005144\n",
      "primary_cleaner.state.floatbank8_c_level              0.005144\n",
      "rougher.state.floatbank10_a_air                       0.005144\n",
      "primary_cleaner.state.floatbank8_a_level              0.005144\n",
      "rougher.state.floatbank10_c_level                     0.005144\n",
      "rougher.state.floatbank10_c_air                       0.005144\n",
      "dtype: float64\n"
     ]
    }
   ],
   "source": [
    "anlz(data_full)"
   ]
  },
  {
   "cell_type": "code",
   "execution_count": 5,
   "metadata": {},
   "outputs": [
    {
     "data": {
      "text/html": [
       "<div>\n",
       "<style scoped>\n",
       "    .dataframe tbody tr th:only-of-type {\n",
       "        vertical-align: middle;\n",
       "    }\n",
       "\n",
       "    .dataframe tbody tr th {\n",
       "        vertical-align: top;\n",
       "    }\n",
       "\n",
       "    .dataframe thead th {\n",
       "        text-align: right;\n",
       "    }\n",
       "</style>\n",
       "<table border=\"1\" class=\"dataframe\">\n",
       "  <thead>\n",
       "    <tr style=\"text-align: right;\">\n",
       "      <th></th>\n",
       "      <th>date</th>\n",
       "      <th>rougher.input.feed_au</th>\n",
       "      <th>rougher.input.feed_ag</th>\n",
       "      <th>rougher.input.feed_pb</th>\n",
       "      <th>rougher.input.feed_sol</th>\n",
       "      <th>rougher.input.feed_rate</th>\n",
       "      <th>rougher.input.feed_size</th>\n",
       "      <th>rougher.input.floatbank10_sulfate</th>\n",
       "      <th>rougher.input.floatbank10_xanthate</th>\n",
       "      <th>rougher.state.floatbank10_a_air</th>\n",
       "      <th>...</th>\n",
       "      <th>secondary_cleaner.output.tail_sol</th>\n",
       "      <th>final.output.concentrate_au</th>\n",
       "      <th>final.output.concentrate_ag</th>\n",
       "      <th>final.output.concentrate_pb</th>\n",
       "      <th>final.output.concentrate_sol</th>\n",
       "      <th>final.output.recovery</th>\n",
       "      <th>final.output.tail_au</th>\n",
       "      <th>final.output.tail_ag</th>\n",
       "      <th>final.output.tail_pb</th>\n",
       "      <th>final.output.tail_sol</th>\n",
       "    </tr>\n",
       "  </thead>\n",
       "  <tbody>\n",
       "    <tr>\n",
       "      <th>0</th>\n",
       "      <td>2016-01-15 00:00:00</td>\n",
       "      <td>6.486150</td>\n",
       "      <td>6.100378</td>\n",
       "      <td>2.284912</td>\n",
       "      <td>36.808594</td>\n",
       "      <td>523.546326</td>\n",
       "      <td>55.486599</td>\n",
       "      <td>11.986616</td>\n",
       "      <td>6.007990</td>\n",
       "      <td>999.706909</td>\n",
       "      <td>...</td>\n",
       "      <td>8.764648</td>\n",
       "      <td>42.192020</td>\n",
       "      <td>6.055403</td>\n",
       "      <td>9.889648</td>\n",
       "      <td>5.507324</td>\n",
       "      <td>70.541216</td>\n",
       "      <td>2.143149</td>\n",
       "      <td>10.411962</td>\n",
       "      <td>0.895447</td>\n",
       "      <td>16.904297</td>\n",
       "    </tr>\n",
       "    <tr>\n",
       "      <th>1</th>\n",
       "      <td>2016-01-15 01:00:00</td>\n",
       "      <td>6.478583</td>\n",
       "      <td>6.161113</td>\n",
       "      <td>2.266033</td>\n",
       "      <td>35.753385</td>\n",
       "      <td>525.290581</td>\n",
       "      <td>57.278666</td>\n",
       "      <td>11.971193</td>\n",
       "      <td>6.005766</td>\n",
       "      <td>1000.286398</td>\n",
       "      <td>...</td>\n",
       "      <td>9.001494</td>\n",
       "      <td>42.701629</td>\n",
       "      <td>6.029369</td>\n",
       "      <td>9.968944</td>\n",
       "      <td>5.257781</td>\n",
       "      <td>69.266198</td>\n",
       "      <td>2.224930</td>\n",
       "      <td>10.462676</td>\n",
       "      <td>0.927452</td>\n",
       "      <td>16.634514</td>\n",
       "    </tr>\n",
       "    <tr>\n",
       "      <th>2</th>\n",
       "      <td>2016-01-15 02:00:00</td>\n",
       "      <td>6.362222</td>\n",
       "      <td>6.116455</td>\n",
       "      <td>2.159622</td>\n",
       "      <td>35.971630</td>\n",
       "      <td>530.026610</td>\n",
       "      <td>57.510649</td>\n",
       "      <td>11.920603</td>\n",
       "      <td>6.197377</td>\n",
       "      <td>999.719565</td>\n",
       "      <td>...</td>\n",
       "      <td>8.842896</td>\n",
       "      <td>42.657501</td>\n",
       "      <td>6.055926</td>\n",
       "      <td>10.213995</td>\n",
       "      <td>5.383759</td>\n",
       "      <td>68.116445</td>\n",
       "      <td>2.257889</td>\n",
       "      <td>10.507046</td>\n",
       "      <td>0.953716</td>\n",
       "      <td>16.208849</td>\n",
       "    </tr>\n",
       "    <tr>\n",
       "      <th>3</th>\n",
       "      <td>2016-01-15 03:00:00</td>\n",
       "      <td>6.118189</td>\n",
       "      <td>6.043309</td>\n",
       "      <td>2.037807</td>\n",
       "      <td>36.862241</td>\n",
       "      <td>542.590390</td>\n",
       "      <td>57.792734</td>\n",
       "      <td>11.630094</td>\n",
       "      <td>6.203177</td>\n",
       "      <td>999.814770</td>\n",
       "      <td>...</td>\n",
       "      <td>9.122857</td>\n",
       "      <td>42.689819</td>\n",
       "      <td>6.047977</td>\n",
       "      <td>9.977019</td>\n",
       "      <td>4.858634</td>\n",
       "      <td>68.347543</td>\n",
       "      <td>2.146849</td>\n",
       "      <td>10.422762</td>\n",
       "      <td>0.883763</td>\n",
       "      <td>16.532835</td>\n",
       "    </tr>\n",
       "    <tr>\n",
       "      <th>4</th>\n",
       "      <td>2016-01-15 04:00:00</td>\n",
       "      <td>5.663707</td>\n",
       "      <td>6.060915</td>\n",
       "      <td>1.786875</td>\n",
       "      <td>34.347666</td>\n",
       "      <td>540.531893</td>\n",
       "      <td>56.047189</td>\n",
       "      <td>10.957755</td>\n",
       "      <td>6.198826</td>\n",
       "      <td>999.678690</td>\n",
       "      <td>...</td>\n",
       "      <td>8.871028</td>\n",
       "      <td>42.774141</td>\n",
       "      <td>6.148599</td>\n",
       "      <td>10.142511</td>\n",
       "      <td>4.939416</td>\n",
       "      <td>66.927016</td>\n",
       "      <td>2.055292</td>\n",
       "      <td>10.360302</td>\n",
       "      <td>0.792826</td>\n",
       "      <td>16.525686</td>\n",
       "    </tr>\n",
       "  </tbody>\n",
       "</table>\n",
       "<p>5 rows × 87 columns</p>\n",
       "</div>"
      ],
      "text/plain": [
       "                  date  rougher.input.feed_au  rougher.input.feed_ag  \\\n",
       "0  2016-01-15 00:00:00               6.486150               6.100378   \n",
       "1  2016-01-15 01:00:00               6.478583               6.161113   \n",
       "2  2016-01-15 02:00:00               6.362222               6.116455   \n",
       "3  2016-01-15 03:00:00               6.118189               6.043309   \n",
       "4  2016-01-15 04:00:00               5.663707               6.060915   \n",
       "\n",
       "   rougher.input.feed_pb  rougher.input.feed_sol  rougher.input.feed_rate  \\\n",
       "0               2.284912               36.808594               523.546326   \n",
       "1               2.266033               35.753385               525.290581   \n",
       "2               2.159622               35.971630               530.026610   \n",
       "3               2.037807               36.862241               542.590390   \n",
       "4               1.786875               34.347666               540.531893   \n",
       "\n",
       "   rougher.input.feed_size  rougher.input.floatbank10_sulfate  \\\n",
       "0                55.486599                          11.986616   \n",
       "1                57.278666                          11.971193   \n",
       "2                57.510649                          11.920603   \n",
       "3                57.792734                          11.630094   \n",
       "4                56.047189                          10.957755   \n",
       "\n",
       "   rougher.input.floatbank10_xanthate  rougher.state.floatbank10_a_air  ...  \\\n",
       "0                            6.007990                       999.706909  ...   \n",
       "1                            6.005766                      1000.286398  ...   \n",
       "2                            6.197377                       999.719565  ...   \n",
       "3                            6.203177                       999.814770  ...   \n",
       "4                            6.198826                       999.678690  ...   \n",
       "\n",
       "   secondary_cleaner.output.tail_sol  final.output.concentrate_au  \\\n",
       "0                           8.764648                    42.192020   \n",
       "1                           9.001494                    42.701629   \n",
       "2                           8.842896                    42.657501   \n",
       "3                           9.122857                    42.689819   \n",
       "4                           8.871028                    42.774141   \n",
       "\n",
       "   final.output.concentrate_ag  final.output.concentrate_pb  \\\n",
       "0                     6.055403                     9.889648   \n",
       "1                     6.029369                     9.968944   \n",
       "2                     6.055926                    10.213995   \n",
       "3                     6.047977                     9.977019   \n",
       "4                     6.148599                    10.142511   \n",
       "\n",
       "   final.output.concentrate_sol  final.output.recovery  final.output.tail_au  \\\n",
       "0                      5.507324              70.541216              2.143149   \n",
       "1                      5.257781              69.266198              2.224930   \n",
       "2                      5.383759              68.116445              2.257889   \n",
       "3                      4.858634              68.347543              2.146849   \n",
       "4                      4.939416              66.927016              2.055292   \n",
       "\n",
       "   final.output.tail_ag  final.output.tail_pb  final.output.tail_sol  \n",
       "0             10.411962              0.895447              16.904297  \n",
       "1             10.462676              0.927452              16.634514  \n",
       "2             10.507046              0.953716              16.208849  \n",
       "3             10.422762              0.883763              16.532835  \n",
       "4             10.360302              0.792826              16.525686  \n",
       "\n",
       "[5 rows x 87 columns]"
      ]
     },
     "execution_count": 5,
     "metadata": {},
     "output_type": "execute_result"
    }
   ],
   "source": [
    "data_full.head()"
   ]
  },
  {
   "cell_type": "code",
   "execution_count": 6,
   "metadata": {},
   "outputs": [
    {
     "name": "stdout",
     "output_type": "stream",
     "text": [
      "Размер:(14579, 87)\n",
      "\n",
      "date                       object\n",
      "rougher.input.feed_au     float64\n",
      "rougher.input.feed_ag     float64\n",
      "rougher.input.feed_pb     float64\n",
      "rougher.input.feed_sol    float64\n",
      "                           ...   \n",
      "final.output.recovery     float64\n",
      "final.output.tail_au      float64\n",
      "final.output.tail_ag      float64\n",
      "final.output.tail_pb      float64\n",
      "final.output.tail_sol     float64\n",
      "Length: 87, dtype: object\n",
      "\n",
      "Кол-во дубликатов: 0\n",
      "\n",
      "Пропуски в %:\n",
      "secondary_cleaner.output.tail_sol                     6.310447\n",
      "rougher.state.floatbank10_e_air                       2.942589\n",
      "rougher.input.floatbank11_xanthate                    2.791687\n",
      "primary_cleaner.output.concentrate_sol                1.817683\n",
      "final.output.concentrate_sol                          1.316963\n",
      "rougher.input.feed_size                               0.692777\n",
      "secondary_cleaner.state.floatbank2_a_air              0.644763\n",
      "primary_cleaner.output.concentrate_pb                 0.603608\n",
      "rougher.input.feed_sol                                0.528157\n",
      "final.output.tail_pb                                  0.514439\n",
      "rougher.input.feed_pb                                 0.493861\n",
      "primary_cleaner.input.xanthate                        0.418410\n",
      "primary_cleaner.output.tail_sol                       0.308663\n",
      "rougher.input.floatbank11_sulfate                     0.246931\n",
      "rougher.input.floatbank10_sulfate                     0.212635\n",
      "primary_cleaner.input.depressant                      0.192057\n",
      "primary_cleaner.input.sulfate                         0.157761\n",
      "secondary_cleaner.state.floatbank2_b_air              0.150902\n",
      "rougher.output.concentrate_sol                        0.123465\n",
      "secondary_cleaner.state.floatbank3_a_air              0.082310\n",
      "rougher.input.floatbank10_xanthate                    0.048014\n",
      "rougher.input.feed_rate                               0.048014\n",
      "primary_cleaner.output.tail_pb                        0.041155\n",
      "secondary_cleaner.state.floatbank4_a_air              0.034296\n",
      "final.output.tail_sol                                 0.034296\n",
      "primary_cleaner.output.tail_ag                        0.027437\n",
      "secondary_cleaner.output.tail_pb                      0.027437\n",
      "primary_cleaner.state.floatbank8_a_air                0.020578\n",
      "primary_cleaner.state.floatbank8_b_air                0.020578\n",
      "secondary_cleaner.output.tail_ag                      0.006859\n",
      "final.output.tail_ag                                  0.006859\n",
      "final.output.concentrate_pb                           0.006859\n",
      "final.output.concentrate_ag                           0.006859\n",
      "primary_cleaner.state.floatbank8_d_air                0.006859\n",
      "rougher.calculation.floatbank11_sulfate_to_au_feed    0.006859\n",
      "secondary_cleaner.state.floatbank6_a_air              0.006859\n",
      "rougher.calculation.floatbank10_sulfate_to_au_feed    0.006859\n",
      "rougher.output.tail_ag                                0.006859\n",
      "rougher.calculation.sulfate_to_au_concentrate         0.006859\n",
      "secondary_cleaner.state.floatbank4_b_air              0.000000\n",
      "secondary_cleaner.state.floatbank5_a_level            0.000000\n",
      "secondary_cleaner.state.floatbank2_a_level            0.000000\n",
      "final.output.tail_au                                  0.000000\n",
      "final.output.recovery                                 0.000000\n",
      "secondary_cleaner.state.floatbank5_b_air              0.000000\n",
      "secondary_cleaner.state.floatbank2_b_level            0.000000\n",
      "secondary_cleaner.state.floatbank3_a_level            0.000000\n",
      "secondary_cleaner.output.tail_au                      0.000000\n",
      "secondary_cleaner.state.floatbank3_b_air              0.000000\n",
      "secondary_cleaner.state.floatbank3_b_level            0.000000\n",
      "secondary_cleaner.state.floatbank5_a_air              0.000000\n",
      "final.output.concentrate_au                           0.000000\n",
      "secondary_cleaner.state.floatbank6_a_level            0.000000\n",
      "secondary_cleaner.state.floatbank4_a_level            0.000000\n",
      "secondary_cleaner.state.floatbank4_b_level            0.000000\n",
      "secondary_cleaner.state.floatbank5_b_level            0.000000\n",
      "date                                                  0.000000\n",
      "primary_cleaner.output.tail_au                        0.000000\n",
      "primary_cleaner.output.concentrate_ag                 0.000000\n",
      "rougher.input.feed_ag                                 0.000000\n",
      "dtype: float64\n"
     ]
    }
   ],
   "source": [
    "anlz(data_train)"
   ]
  },
  {
   "cell_type": "code",
   "execution_count": 7,
   "metadata": {},
   "outputs": [
    {
     "data": {
      "text/html": [
       "<div>\n",
       "<style scoped>\n",
       "    .dataframe tbody tr th:only-of-type {\n",
       "        vertical-align: middle;\n",
       "    }\n",
       "\n",
       "    .dataframe tbody tr th {\n",
       "        vertical-align: top;\n",
       "    }\n",
       "\n",
       "    .dataframe thead th {\n",
       "        text-align: right;\n",
       "    }\n",
       "</style>\n",
       "<table border=\"1\" class=\"dataframe\">\n",
       "  <thead>\n",
       "    <tr style=\"text-align: right;\">\n",
       "      <th></th>\n",
       "      <th>date</th>\n",
       "      <th>rougher.input.feed_au</th>\n",
       "      <th>rougher.input.feed_ag</th>\n",
       "      <th>rougher.input.feed_pb</th>\n",
       "      <th>rougher.input.feed_sol</th>\n",
       "      <th>rougher.input.feed_rate</th>\n",
       "      <th>rougher.input.feed_size</th>\n",
       "      <th>rougher.input.floatbank10_sulfate</th>\n",
       "      <th>rougher.input.floatbank10_xanthate</th>\n",
       "      <th>rougher.state.floatbank10_a_air</th>\n",
       "      <th>...</th>\n",
       "      <th>secondary_cleaner.output.tail_sol</th>\n",
       "      <th>final.output.concentrate_au</th>\n",
       "      <th>final.output.concentrate_ag</th>\n",
       "      <th>final.output.concentrate_pb</th>\n",
       "      <th>final.output.concentrate_sol</th>\n",
       "      <th>final.output.recovery</th>\n",
       "      <th>final.output.tail_au</th>\n",
       "      <th>final.output.tail_ag</th>\n",
       "      <th>final.output.tail_pb</th>\n",
       "      <th>final.output.tail_sol</th>\n",
       "    </tr>\n",
       "  </thead>\n",
       "  <tbody>\n",
       "    <tr>\n",
       "      <th>0</th>\n",
       "      <td>2016-01-15 00:00:00</td>\n",
       "      <td>6.486150</td>\n",
       "      <td>6.100378</td>\n",
       "      <td>2.284912</td>\n",
       "      <td>36.808594</td>\n",
       "      <td>523.546326</td>\n",
       "      <td>55.486599</td>\n",
       "      <td>11.986616</td>\n",
       "      <td>6.007990</td>\n",
       "      <td>999.706909</td>\n",
       "      <td>...</td>\n",
       "      <td>8.764648</td>\n",
       "      <td>42.192020</td>\n",
       "      <td>6.055403</td>\n",
       "      <td>9.889648</td>\n",
       "      <td>5.507324</td>\n",
       "      <td>70.541216</td>\n",
       "      <td>2.143149</td>\n",
       "      <td>10.411962</td>\n",
       "      <td>0.895447</td>\n",
       "      <td>16.904297</td>\n",
       "    </tr>\n",
       "    <tr>\n",
       "      <th>1</th>\n",
       "      <td>2016-01-15 01:00:00</td>\n",
       "      <td>6.478583</td>\n",
       "      <td>6.161113</td>\n",
       "      <td>2.266033</td>\n",
       "      <td>35.753385</td>\n",
       "      <td>525.290581</td>\n",
       "      <td>57.278666</td>\n",
       "      <td>11.971193</td>\n",
       "      <td>6.005766</td>\n",
       "      <td>1000.286398</td>\n",
       "      <td>...</td>\n",
       "      <td>9.001494</td>\n",
       "      <td>42.701629</td>\n",
       "      <td>6.029369</td>\n",
       "      <td>9.968944</td>\n",
       "      <td>5.257781</td>\n",
       "      <td>69.266198</td>\n",
       "      <td>2.224930</td>\n",
       "      <td>10.462676</td>\n",
       "      <td>0.927452</td>\n",
       "      <td>16.634514</td>\n",
       "    </tr>\n",
       "    <tr>\n",
       "      <th>2</th>\n",
       "      <td>2016-01-15 02:00:00</td>\n",
       "      <td>6.362222</td>\n",
       "      <td>6.116455</td>\n",
       "      <td>2.159622</td>\n",
       "      <td>35.971630</td>\n",
       "      <td>530.026610</td>\n",
       "      <td>57.510649</td>\n",
       "      <td>11.920603</td>\n",
       "      <td>6.197377</td>\n",
       "      <td>999.719565</td>\n",
       "      <td>...</td>\n",
       "      <td>8.842896</td>\n",
       "      <td>42.657501</td>\n",
       "      <td>6.055926</td>\n",
       "      <td>10.213995</td>\n",
       "      <td>5.383759</td>\n",
       "      <td>68.116445</td>\n",
       "      <td>2.257889</td>\n",
       "      <td>10.507046</td>\n",
       "      <td>0.953716</td>\n",
       "      <td>16.208849</td>\n",
       "    </tr>\n",
       "    <tr>\n",
       "      <th>3</th>\n",
       "      <td>2016-01-15 03:00:00</td>\n",
       "      <td>6.118189</td>\n",
       "      <td>6.043309</td>\n",
       "      <td>2.037807</td>\n",
       "      <td>36.862241</td>\n",
       "      <td>542.590390</td>\n",
       "      <td>57.792734</td>\n",
       "      <td>11.630094</td>\n",
       "      <td>6.203177</td>\n",
       "      <td>999.814770</td>\n",
       "      <td>...</td>\n",
       "      <td>9.122857</td>\n",
       "      <td>42.689819</td>\n",
       "      <td>6.047977</td>\n",
       "      <td>9.977019</td>\n",
       "      <td>4.858634</td>\n",
       "      <td>68.347543</td>\n",
       "      <td>2.146849</td>\n",
       "      <td>10.422762</td>\n",
       "      <td>0.883763</td>\n",
       "      <td>16.532835</td>\n",
       "    </tr>\n",
       "    <tr>\n",
       "      <th>4</th>\n",
       "      <td>2016-01-15 04:00:00</td>\n",
       "      <td>5.663707</td>\n",
       "      <td>6.060915</td>\n",
       "      <td>1.786875</td>\n",
       "      <td>34.347666</td>\n",
       "      <td>540.531893</td>\n",
       "      <td>56.047189</td>\n",
       "      <td>10.957755</td>\n",
       "      <td>6.198826</td>\n",
       "      <td>999.678690</td>\n",
       "      <td>...</td>\n",
       "      <td>8.871028</td>\n",
       "      <td>42.774141</td>\n",
       "      <td>6.148599</td>\n",
       "      <td>10.142511</td>\n",
       "      <td>4.939416</td>\n",
       "      <td>66.927016</td>\n",
       "      <td>2.055292</td>\n",
       "      <td>10.360302</td>\n",
       "      <td>0.792826</td>\n",
       "      <td>16.525686</td>\n",
       "    </tr>\n",
       "  </tbody>\n",
       "</table>\n",
       "<p>5 rows × 87 columns</p>\n",
       "</div>"
      ],
      "text/plain": [
       "                  date  rougher.input.feed_au  rougher.input.feed_ag  \\\n",
       "0  2016-01-15 00:00:00               6.486150               6.100378   \n",
       "1  2016-01-15 01:00:00               6.478583               6.161113   \n",
       "2  2016-01-15 02:00:00               6.362222               6.116455   \n",
       "3  2016-01-15 03:00:00               6.118189               6.043309   \n",
       "4  2016-01-15 04:00:00               5.663707               6.060915   \n",
       "\n",
       "   rougher.input.feed_pb  rougher.input.feed_sol  rougher.input.feed_rate  \\\n",
       "0               2.284912               36.808594               523.546326   \n",
       "1               2.266033               35.753385               525.290581   \n",
       "2               2.159622               35.971630               530.026610   \n",
       "3               2.037807               36.862241               542.590390   \n",
       "4               1.786875               34.347666               540.531893   \n",
       "\n",
       "   rougher.input.feed_size  rougher.input.floatbank10_sulfate  \\\n",
       "0                55.486599                          11.986616   \n",
       "1                57.278666                          11.971193   \n",
       "2                57.510649                          11.920603   \n",
       "3                57.792734                          11.630094   \n",
       "4                56.047189                          10.957755   \n",
       "\n",
       "   rougher.input.floatbank10_xanthate  rougher.state.floatbank10_a_air  ...  \\\n",
       "0                            6.007990                       999.706909  ...   \n",
       "1                            6.005766                      1000.286398  ...   \n",
       "2                            6.197377                       999.719565  ...   \n",
       "3                            6.203177                       999.814770  ...   \n",
       "4                            6.198826                       999.678690  ...   \n",
       "\n",
       "   secondary_cleaner.output.tail_sol  final.output.concentrate_au  \\\n",
       "0                           8.764648                    42.192020   \n",
       "1                           9.001494                    42.701629   \n",
       "2                           8.842896                    42.657501   \n",
       "3                           9.122857                    42.689819   \n",
       "4                           8.871028                    42.774141   \n",
       "\n",
       "   final.output.concentrate_ag  final.output.concentrate_pb  \\\n",
       "0                     6.055403                     9.889648   \n",
       "1                     6.029369                     9.968944   \n",
       "2                     6.055926                    10.213995   \n",
       "3                     6.047977                     9.977019   \n",
       "4                     6.148599                    10.142511   \n",
       "\n",
       "   final.output.concentrate_sol  final.output.recovery  final.output.tail_au  \\\n",
       "0                      5.507324              70.541216              2.143149   \n",
       "1                      5.257781              69.266198              2.224930   \n",
       "2                      5.383759              68.116445              2.257889   \n",
       "3                      4.858634              68.347543              2.146849   \n",
       "4                      4.939416              66.927016              2.055292   \n",
       "\n",
       "   final.output.tail_ag  final.output.tail_pb  final.output.tail_sol  \n",
       "0             10.411962              0.895447              16.904297  \n",
       "1             10.462676              0.927452              16.634514  \n",
       "2             10.507046              0.953716              16.208849  \n",
       "3             10.422762              0.883763              16.532835  \n",
       "4             10.360302              0.792826              16.525686  \n",
       "\n",
       "[5 rows x 87 columns]"
      ]
     },
     "execution_count": 7,
     "metadata": {},
     "output_type": "execute_result"
    }
   ],
   "source": [
    "data_train.head()"
   ]
  },
  {
   "cell_type": "code",
   "execution_count": 8,
   "metadata": {},
   "outputs": [
    {
     "name": "stdout",
     "output_type": "stream",
     "text": [
      "Размер:(4860, 53)\n",
      "\n",
      "date                                           object\n",
      "rougher.input.feed_au                         float64\n",
      "rougher.input.feed_ag                         float64\n",
      "rougher.input.feed_pb                         float64\n",
      "rougher.input.feed_sol                        float64\n",
      "rougher.input.feed_rate                       float64\n",
      "rougher.input.feed_size                       float64\n",
      "rougher.input.floatbank10_sulfate             float64\n",
      "rougher.input.floatbank10_xanthate            float64\n",
      "rougher.state.floatbank10_a_air               float64\n",
      "rougher.state.floatbank10_a_level             float64\n",
      "rougher.state.floatbank10_b_air               float64\n",
      "rougher.state.floatbank10_b_level             float64\n",
      "rougher.state.floatbank10_c_air               float64\n",
      "rougher.state.floatbank10_c_level             float64\n",
      "rougher.state.floatbank10_d_air               float64\n",
      "rougher.state.floatbank10_d_level             float64\n",
      "rougher.state.floatbank10_e_air               float64\n",
      "rougher.state.floatbank10_e_level             float64\n",
      "rougher.state.floatbank10_f_air               float64\n",
      "rougher.state.floatbank10_f_level             float64\n",
      "rougher.input.floatbank11_sulfate             float64\n",
      "rougher.input.floatbank11_xanthate            float64\n",
      "primary_cleaner.input.sulfate                 float64\n",
      "primary_cleaner.input.depressant              float64\n",
      "primary_cleaner.input.feed_size               float64\n",
      "primary_cleaner.input.xanthate                float64\n",
      "primary_cleaner.state.floatbank8_a_air        float64\n",
      "primary_cleaner.state.floatbank8_a_level      float64\n",
      "primary_cleaner.state.floatbank8_b_air        float64\n",
      "primary_cleaner.state.floatbank8_b_level      float64\n",
      "primary_cleaner.state.floatbank8_c_air        float64\n",
      "primary_cleaner.state.floatbank8_c_level      float64\n",
      "primary_cleaner.state.floatbank8_d_air        float64\n",
      "primary_cleaner.state.floatbank8_d_level      float64\n",
      "secondary_cleaner.state.floatbank2_a_air      float64\n",
      "secondary_cleaner.state.floatbank2_a_level    float64\n",
      "secondary_cleaner.state.floatbank2_b_air      float64\n",
      "secondary_cleaner.state.floatbank2_b_level    float64\n",
      "secondary_cleaner.state.floatbank3_a_air      float64\n",
      "secondary_cleaner.state.floatbank3_a_level    float64\n",
      "secondary_cleaner.state.floatbank3_b_air      float64\n",
      "secondary_cleaner.state.floatbank3_b_level    float64\n",
      "secondary_cleaner.state.floatbank4_a_air      float64\n",
      "secondary_cleaner.state.floatbank4_a_level    float64\n",
      "secondary_cleaner.state.floatbank4_b_air      float64\n",
      "secondary_cleaner.state.floatbank4_b_level    float64\n",
      "secondary_cleaner.state.floatbank5_a_air      float64\n",
      "secondary_cleaner.state.floatbank5_a_level    float64\n",
      "secondary_cleaner.state.floatbank5_b_air      float64\n",
      "secondary_cleaner.state.floatbank5_b_level    float64\n",
      "secondary_cleaner.state.floatbank6_a_air      float64\n",
      "secondary_cleaner.state.floatbank6_a_level    float64\n",
      "dtype: object\n",
      "\n",
      "Кол-во дубликатов: 0\n",
      "\n",
      "Пропуски в %:\n",
      "secondary_cleaner.state.floatbank2_a_air      2.592593\n",
      "rougher.input.floatbank11_xanthate            0.946502\n",
      "rougher.input.feed_size                       0.905350\n",
      "primary_cleaner.input.xanthate                0.884774\n",
      "rougher.input.feed_pb                         0.576132\n",
      "rougher.input.feed_sol                        0.452675\n",
      "primary_cleaner.input.depressant              0.185185\n",
      "rougher.input.floatbank11_sulfate             0.164609\n",
      "rougher.state.floatbank10_e_air               0.144033\n",
      "rougher.input.feed_rate                       0.082305\n",
      "rougher.input.floatbank10_sulfate             0.061728\n",
      "primary_cleaner.state.floatbank8_d_air        0.041152\n",
      "primary_cleaner.state.floatbank8_c_air        0.041152\n",
      "primary_cleaner.state.floatbank8_d_level      0.020576\n",
      "secondary_cleaner.state.floatbank3_a_level    0.020576\n",
      "secondary_cleaner.state.floatbank2_a_level    0.020576\n",
      "secondary_cleaner.state.floatbank2_b_air      0.020576\n",
      "secondary_cleaner.state.floatbank2_b_level    0.020576\n",
      "secondary_cleaner.state.floatbank3_a_air      0.020576\n",
      "secondary_cleaner.state.floatbank4_a_air      0.020576\n",
      "secondary_cleaner.state.floatbank3_b_air      0.020576\n",
      "secondary_cleaner.state.floatbank3_b_level    0.020576\n",
      "secondary_cleaner.state.floatbank4_a_level    0.020576\n",
      "secondary_cleaner.state.floatbank4_b_air      0.020576\n",
      "secondary_cleaner.state.floatbank4_b_level    0.020576\n",
      "secondary_cleaner.state.floatbank5_a_air      0.020576\n",
      "secondary_cleaner.state.floatbank5_a_level    0.020576\n",
      "secondary_cleaner.state.floatbank5_b_air      0.020576\n",
      "secondary_cleaner.state.floatbank5_b_level    0.020576\n",
      "secondary_cleaner.state.floatbank6_a_air      0.020576\n",
      "primary_cleaner.state.floatbank8_c_level      0.020576\n",
      "secondary_cleaner.state.floatbank6_a_level    0.020576\n",
      "primary_cleaner.state.floatbank8_b_level      0.020576\n",
      "rougher.state.floatbank10_c_air               0.020576\n",
      "primary_cleaner.state.floatbank8_a_level      0.020576\n",
      "primary_cleaner.state.floatbank8_a_air        0.020576\n",
      "rougher.input.floatbank10_xanthate            0.020576\n",
      "primary_cleaner.input.sulfate                 0.020576\n",
      "rougher.state.floatbank10_a_air               0.020576\n",
      "rougher.state.floatbank10_a_level             0.020576\n",
      "rougher.state.floatbank10_b_air               0.020576\n",
      "primary_cleaner.state.floatbank8_b_air        0.020576\n",
      "rougher.state.floatbank10_b_level             0.020576\n",
      "rougher.state.floatbank10_c_level             0.020576\n",
      "rougher.input.feed_ag                         0.000000\n",
      "rougher.state.floatbank10_d_level             0.000000\n",
      "rougher.state.floatbank10_d_air               0.000000\n",
      "rougher.state.floatbank10_e_level             0.000000\n",
      "rougher.state.floatbank10_f_air               0.000000\n",
      "rougher.state.floatbank10_f_level             0.000000\n",
      "primary_cleaner.input.feed_size               0.000000\n",
      "rougher.input.feed_au                         0.000000\n",
      "date                                          0.000000\n",
      "dtype: float64\n"
     ]
    }
   ],
   "source": [
    "anlz(data_test)"
   ]
  },
  {
   "cell_type": "code",
   "execution_count": 9,
   "metadata": {},
   "outputs": [
    {
     "data": {
      "text/html": [
       "<div>\n",
       "<style scoped>\n",
       "    .dataframe tbody tr th:only-of-type {\n",
       "        vertical-align: middle;\n",
       "    }\n",
       "\n",
       "    .dataframe tbody tr th {\n",
       "        vertical-align: top;\n",
       "    }\n",
       "\n",
       "    .dataframe thead th {\n",
       "        text-align: right;\n",
       "    }\n",
       "</style>\n",
       "<table border=\"1\" class=\"dataframe\">\n",
       "  <thead>\n",
       "    <tr style=\"text-align: right;\">\n",
       "      <th></th>\n",
       "      <th>date</th>\n",
       "      <th>rougher.input.feed_au</th>\n",
       "      <th>rougher.input.feed_ag</th>\n",
       "      <th>rougher.input.feed_pb</th>\n",
       "      <th>rougher.input.feed_sol</th>\n",
       "      <th>rougher.input.feed_rate</th>\n",
       "      <th>rougher.input.feed_size</th>\n",
       "      <th>rougher.input.floatbank10_sulfate</th>\n",
       "      <th>rougher.input.floatbank10_xanthate</th>\n",
       "      <th>rougher.state.floatbank10_a_air</th>\n",
       "      <th>...</th>\n",
       "      <th>secondary_cleaner.state.floatbank4_a_air</th>\n",
       "      <th>secondary_cleaner.state.floatbank4_a_level</th>\n",
       "      <th>secondary_cleaner.state.floatbank4_b_air</th>\n",
       "      <th>secondary_cleaner.state.floatbank4_b_level</th>\n",
       "      <th>secondary_cleaner.state.floatbank5_a_air</th>\n",
       "      <th>secondary_cleaner.state.floatbank5_a_level</th>\n",
       "      <th>secondary_cleaner.state.floatbank5_b_air</th>\n",
       "      <th>secondary_cleaner.state.floatbank5_b_level</th>\n",
       "      <th>secondary_cleaner.state.floatbank6_a_air</th>\n",
       "      <th>secondary_cleaner.state.floatbank6_a_level</th>\n",
       "    </tr>\n",
       "  </thead>\n",
       "  <tbody>\n",
       "    <tr>\n",
       "      <th>0</th>\n",
       "      <td>2017-12-09 14:59:59</td>\n",
       "      <td>4.365491</td>\n",
       "      <td>6.158718</td>\n",
       "      <td>3.875727</td>\n",
       "      <td>39.135119</td>\n",
       "      <td>555.820208</td>\n",
       "      <td>94.544358</td>\n",
       "      <td>6.146982</td>\n",
       "      <td>9.308612</td>\n",
       "      <td>1196.238112</td>\n",
       "      <td>...</td>\n",
       "      <td>23.018622</td>\n",
       "      <td>-500.492702</td>\n",
       "      <td>20.020205</td>\n",
       "      <td>-500.220296</td>\n",
       "      <td>17.963512</td>\n",
       "      <td>-499.939490</td>\n",
       "      <td>12.990306</td>\n",
       "      <td>-500.080993</td>\n",
       "      <td>19.990336</td>\n",
       "      <td>-499.191575</td>\n",
       "    </tr>\n",
       "    <tr>\n",
       "      <th>1</th>\n",
       "      <td>2017-12-09 15:59:59</td>\n",
       "      <td>4.362781</td>\n",
       "      <td>6.048130</td>\n",
       "      <td>3.902537</td>\n",
       "      <td>39.713906</td>\n",
       "      <td>544.731687</td>\n",
       "      <td>123.742430</td>\n",
       "      <td>6.210119</td>\n",
       "      <td>9.297709</td>\n",
       "      <td>1201.904177</td>\n",
       "      <td>...</td>\n",
       "      <td>23.024963</td>\n",
       "      <td>-501.153409</td>\n",
       "      <td>20.054122</td>\n",
       "      <td>-500.314711</td>\n",
       "      <td>17.979515</td>\n",
       "      <td>-499.272871</td>\n",
       "      <td>12.992404</td>\n",
       "      <td>-499.976268</td>\n",
       "      <td>20.013986</td>\n",
       "      <td>-500.625471</td>\n",
       "    </tr>\n",
       "    <tr>\n",
       "      <th>2</th>\n",
       "      <td>2017-12-09 16:59:59</td>\n",
       "      <td>5.081681</td>\n",
       "      <td>6.082745</td>\n",
       "      <td>4.564078</td>\n",
       "      <td>37.208683</td>\n",
       "      <td>558.155110</td>\n",
       "      <td>82.610855</td>\n",
       "      <td>7.363824</td>\n",
       "      <td>9.003562</td>\n",
       "      <td>1200.826926</td>\n",
       "      <td>...</td>\n",
       "      <td>22.993827</td>\n",
       "      <td>-501.559663</td>\n",
       "      <td>20.029144</td>\n",
       "      <td>-500.000662</td>\n",
       "      <td>18.012723</td>\n",
       "      <td>-500.024764</td>\n",
       "      <td>13.016445</td>\n",
       "      <td>-500.058432</td>\n",
       "      <td>19.973767</td>\n",
       "      <td>-501.394155</td>\n",
       "    </tr>\n",
       "    <tr>\n",
       "      <th>3</th>\n",
       "      <td>2017-12-09 17:59:59</td>\n",
       "      <td>5.145949</td>\n",
       "      <td>6.084374</td>\n",
       "      <td>4.768124</td>\n",
       "      <td>36.808874</td>\n",
       "      <td>539.713765</td>\n",
       "      <td>77.984784</td>\n",
       "      <td>6.927072</td>\n",
       "      <td>8.955597</td>\n",
       "      <td>1199.292489</td>\n",
       "      <td>...</td>\n",
       "      <td>23.032807</td>\n",
       "      <td>-501.287889</td>\n",
       "      <td>19.977466</td>\n",
       "      <td>-500.159903</td>\n",
       "      <td>17.980463</td>\n",
       "      <td>-500.504602</td>\n",
       "      <td>12.949071</td>\n",
       "      <td>-500.009937</td>\n",
       "      <td>20.010332</td>\n",
       "      <td>-508.337973</td>\n",
       "    </tr>\n",
       "    <tr>\n",
       "      <th>4</th>\n",
       "      <td>2017-12-09 18:59:59</td>\n",
       "      <td>5.735249</td>\n",
       "      <td>6.165220</td>\n",
       "      <td>4.512346</td>\n",
       "      <td>37.810642</td>\n",
       "      <td>558.713584</td>\n",
       "      <td>86.434874</td>\n",
       "      <td>7.823471</td>\n",
       "      <td>7.490356</td>\n",
       "      <td>1198.005449</td>\n",
       "      <td>...</td>\n",
       "      <td>23.001911</td>\n",
       "      <td>-499.947838</td>\n",
       "      <td>20.023735</td>\n",
       "      <td>-499.713680</td>\n",
       "      <td>17.990955</td>\n",
       "      <td>-500.334769</td>\n",
       "      <td>13.007523</td>\n",
       "      <td>-499.968459</td>\n",
       "      <td>19.995999</td>\n",
       "      <td>-499.788805</td>\n",
       "    </tr>\n",
       "  </tbody>\n",
       "</table>\n",
       "<p>5 rows × 53 columns</p>\n",
       "</div>"
      ],
      "text/plain": [
       "                  date  rougher.input.feed_au  rougher.input.feed_ag  \\\n",
       "0  2017-12-09 14:59:59               4.365491               6.158718   \n",
       "1  2017-12-09 15:59:59               4.362781               6.048130   \n",
       "2  2017-12-09 16:59:59               5.081681               6.082745   \n",
       "3  2017-12-09 17:59:59               5.145949               6.084374   \n",
       "4  2017-12-09 18:59:59               5.735249               6.165220   \n",
       "\n",
       "   rougher.input.feed_pb  rougher.input.feed_sol  rougher.input.feed_rate  \\\n",
       "0               3.875727               39.135119               555.820208   \n",
       "1               3.902537               39.713906               544.731687   \n",
       "2               4.564078               37.208683               558.155110   \n",
       "3               4.768124               36.808874               539.713765   \n",
       "4               4.512346               37.810642               558.713584   \n",
       "\n",
       "   rougher.input.feed_size  rougher.input.floatbank10_sulfate  \\\n",
       "0                94.544358                           6.146982   \n",
       "1               123.742430                           6.210119   \n",
       "2                82.610855                           7.363824   \n",
       "3                77.984784                           6.927072   \n",
       "4                86.434874                           7.823471   \n",
       "\n",
       "   rougher.input.floatbank10_xanthate  rougher.state.floatbank10_a_air  ...  \\\n",
       "0                            9.308612                      1196.238112  ...   \n",
       "1                            9.297709                      1201.904177  ...   \n",
       "2                            9.003562                      1200.826926  ...   \n",
       "3                            8.955597                      1199.292489  ...   \n",
       "4                            7.490356                      1198.005449  ...   \n",
       "\n",
       "   secondary_cleaner.state.floatbank4_a_air  \\\n",
       "0                                 23.018622   \n",
       "1                                 23.024963   \n",
       "2                                 22.993827   \n",
       "3                                 23.032807   \n",
       "4                                 23.001911   \n",
       "\n",
       "   secondary_cleaner.state.floatbank4_a_level  \\\n",
       "0                                 -500.492702   \n",
       "1                                 -501.153409   \n",
       "2                                 -501.559663   \n",
       "3                                 -501.287889   \n",
       "4                                 -499.947838   \n",
       "\n",
       "   secondary_cleaner.state.floatbank4_b_air  \\\n",
       "0                                 20.020205   \n",
       "1                                 20.054122   \n",
       "2                                 20.029144   \n",
       "3                                 19.977466   \n",
       "4                                 20.023735   \n",
       "\n",
       "   secondary_cleaner.state.floatbank4_b_level  \\\n",
       "0                                 -500.220296   \n",
       "1                                 -500.314711   \n",
       "2                                 -500.000662   \n",
       "3                                 -500.159903   \n",
       "4                                 -499.713680   \n",
       "\n",
       "   secondary_cleaner.state.floatbank5_a_air  \\\n",
       "0                                 17.963512   \n",
       "1                                 17.979515   \n",
       "2                                 18.012723   \n",
       "3                                 17.980463   \n",
       "4                                 17.990955   \n",
       "\n",
       "   secondary_cleaner.state.floatbank5_a_level  \\\n",
       "0                                 -499.939490   \n",
       "1                                 -499.272871   \n",
       "2                                 -500.024764   \n",
       "3                                 -500.504602   \n",
       "4                                 -500.334769   \n",
       "\n",
       "   secondary_cleaner.state.floatbank5_b_air  \\\n",
       "0                                 12.990306   \n",
       "1                                 12.992404   \n",
       "2                                 13.016445   \n",
       "3                                 12.949071   \n",
       "4                                 13.007523   \n",
       "\n",
       "   secondary_cleaner.state.floatbank5_b_level  \\\n",
       "0                                 -500.080993   \n",
       "1                                 -499.976268   \n",
       "2                                 -500.058432   \n",
       "3                                 -500.009937   \n",
       "4                                 -499.968459   \n",
       "\n",
       "   secondary_cleaner.state.floatbank6_a_air  \\\n",
       "0                                 19.990336   \n",
       "1                                 20.013986   \n",
       "2                                 19.973767   \n",
       "3                                 20.010332   \n",
       "4                                 19.995999   \n",
       "\n",
       "   secondary_cleaner.state.floatbank6_a_level  \n",
       "0                                 -499.191575  \n",
       "1                                 -500.625471  \n",
       "2                                 -501.394155  \n",
       "3                                 -508.337973  \n",
       "4                                 -499.788805  \n",
       "\n",
       "[5 rows x 53 columns]"
      ]
     },
     "execution_count": 9,
     "metadata": {},
     "output_type": "execute_result"
    }
   ],
   "source": [
    "data_test.head()"
   ]
  },
  {
   "cell_type": "code",
   "execution_count": 10,
   "metadata": {
    "scrolled": true
   },
   "outputs": [
    {
     "data": {
      "text/html": [
       "<div>\n",
       "<style scoped>\n",
       "    .dataframe tbody tr th:only-of-type {\n",
       "        vertical-align: middle;\n",
       "    }\n",
       "\n",
       "    .dataframe tbody tr th {\n",
       "        vertical-align: top;\n",
       "    }\n",
       "\n",
       "    .dataframe thead th {\n",
       "        text-align: right;\n",
       "    }\n",
       "</style>\n",
       "<table border=\"1\" class=\"dataframe\">\n",
       "  <thead>\n",
       "    <tr style=\"text-align: right;\">\n",
       "      <th></th>\n",
       "      <th>rougher.input.feed_au</th>\n",
       "      <th>rougher.input.feed_ag</th>\n",
       "      <th>rougher.input.feed_pb</th>\n",
       "      <th>rougher.input.feed_sol</th>\n",
       "      <th>rougher.input.feed_rate</th>\n",
       "      <th>rougher.input.feed_size</th>\n",
       "      <th>rougher.input.floatbank10_sulfate</th>\n",
       "      <th>rougher.input.floatbank10_xanthate</th>\n",
       "      <th>rougher.state.floatbank10_a_air</th>\n",
       "      <th>rougher.state.floatbank10_a_level</th>\n",
       "      <th>...</th>\n",
       "      <th>secondary_cleaner.output.tail_sol</th>\n",
       "      <th>final.output.concentrate_au</th>\n",
       "      <th>final.output.concentrate_ag</th>\n",
       "      <th>final.output.concentrate_pb</th>\n",
       "      <th>final.output.concentrate_sol</th>\n",
       "      <th>final.output.recovery</th>\n",
       "      <th>final.output.tail_au</th>\n",
       "      <th>final.output.tail_ag</th>\n",
       "      <th>final.output.tail_pb</th>\n",
       "      <th>final.output.tail_sol</th>\n",
       "    </tr>\n",
       "  </thead>\n",
       "  <tbody>\n",
       "    <tr>\n",
       "      <th>rougher.input.feed_au</th>\n",
       "      <td>1.000000</td>\n",
       "      <td>0.845274</td>\n",
       "      <td>0.687003</td>\n",
       "      <td>0.094392</td>\n",
       "      <td>-0.190381</td>\n",
       "      <td>-0.152634</td>\n",
       "      <td>0.294588</td>\n",
       "      <td>0.208971</td>\n",
       "      <td>0.154849</td>\n",
       "      <td>-0.102113</td>\n",
       "      <td>...</td>\n",
       "      <td>0.242171</td>\n",
       "      <td>0.035095</td>\n",
       "      <td>0.315817</td>\n",
       "      <td>-0.079812</td>\n",
       "      <td>0.474520</td>\n",
       "      <td>0.295343</td>\n",
       "      <td>0.642479</td>\n",
       "      <td>0.594311</td>\n",
       "      <td>0.494324</td>\n",
       "      <td>-0.008907</td>\n",
       "    </tr>\n",
       "    <tr>\n",
       "      <th>rougher.input.feed_ag</th>\n",
       "      <td>0.845274</td>\n",
       "      <td>1.000000</td>\n",
       "      <td>0.496579</td>\n",
       "      <td>0.115878</td>\n",
       "      <td>-0.134165</td>\n",
       "      <td>-0.110868</td>\n",
       "      <td>0.106487</td>\n",
       "      <td>0.231607</td>\n",
       "      <td>0.278293</td>\n",
       "      <td>-0.124046</td>\n",
       "      <td>...</td>\n",
       "      <td>0.265350</td>\n",
       "      <td>0.020728</td>\n",
       "      <td>0.456279</td>\n",
       "      <td>-0.207999</td>\n",
       "      <td>0.479259</td>\n",
       "      <td>0.286823</td>\n",
       "      <td>0.498710</td>\n",
       "      <td>0.777677</td>\n",
       "      <td>0.277462</td>\n",
       "      <td>0.013153</td>\n",
       "    </tr>\n",
       "    <tr>\n",
       "      <th>rougher.input.feed_pb</th>\n",
       "      <td>0.687003</td>\n",
       "      <td>0.496579</td>\n",
       "      <td>1.000000</td>\n",
       "      <td>0.090636</td>\n",
       "      <td>-0.139769</td>\n",
       "      <td>-0.054133</td>\n",
       "      <td>0.257604</td>\n",
       "      <td>0.067909</td>\n",
       "      <td>0.260916</td>\n",
       "      <td>0.246938</td>\n",
       "      <td>...</td>\n",
       "      <td>-0.026652</td>\n",
       "      <td>0.011408</td>\n",
       "      <td>0.074866</td>\n",
       "      <td>0.301446</td>\n",
       "      <td>0.185576</td>\n",
       "      <td>0.175646</td>\n",
       "      <td>0.459312</td>\n",
       "      <td>0.400925</td>\n",
       "      <td>0.773465</td>\n",
       "      <td>-0.158319</td>\n",
       "    </tr>\n",
       "    <tr>\n",
       "      <th>rougher.input.feed_sol</th>\n",
       "      <td>0.094392</td>\n",
       "      <td>0.115878</td>\n",
       "      <td>0.090636</td>\n",
       "      <td>1.000000</td>\n",
       "      <td>0.621676</td>\n",
       "      <td>0.180514</td>\n",
       "      <td>0.296444</td>\n",
       "      <td>0.383095</td>\n",
       "      <td>0.171198</td>\n",
       "      <td>0.315981</td>\n",
       "      <td>...</td>\n",
       "      <td>-0.121835</td>\n",
       "      <td>0.219287</td>\n",
       "      <td>-0.036783</td>\n",
       "      <td>0.116718</td>\n",
       "      <td>0.010362</td>\n",
       "      <td>0.250058</td>\n",
       "      <td>-0.109150</td>\n",
       "      <td>0.018099</td>\n",
       "      <td>-0.012314</td>\n",
       "      <td>0.382381</td>\n",
       "    </tr>\n",
       "    <tr>\n",
       "      <th>rougher.input.feed_rate</th>\n",
       "      <td>-0.190381</td>\n",
       "      <td>-0.134165</td>\n",
       "      <td>-0.139769</td>\n",
       "      <td>0.621676</td>\n",
       "      <td>1.000000</td>\n",
       "      <td>0.122620</td>\n",
       "      <td>0.234889</td>\n",
       "      <td>0.599559</td>\n",
       "      <td>0.010749</td>\n",
       "      <td>0.142343</td>\n",
       "      <td>...</td>\n",
       "      <td>-0.053967</td>\n",
       "      <td>0.161275</td>\n",
       "      <td>-0.167154</td>\n",
       "      <td>0.066815</td>\n",
       "      <td>-0.168127</td>\n",
       "      <td>0.172786</td>\n",
       "      <td>-0.293895</td>\n",
       "      <td>-0.053626</td>\n",
       "      <td>-0.249568</td>\n",
       "      <td>0.473291</td>\n",
       "    </tr>\n",
       "    <tr>\n",
       "      <th>...</th>\n",
       "      <td>...</td>\n",
       "      <td>...</td>\n",
       "      <td>...</td>\n",
       "      <td>...</td>\n",
       "      <td>...</td>\n",
       "      <td>...</td>\n",
       "      <td>...</td>\n",
       "      <td>...</td>\n",
       "      <td>...</td>\n",
       "      <td>...</td>\n",
       "      <td>...</td>\n",
       "      <td>...</td>\n",
       "      <td>...</td>\n",
       "      <td>...</td>\n",
       "      <td>...</td>\n",
       "      <td>...</td>\n",
       "      <td>...</td>\n",
       "      <td>...</td>\n",
       "      <td>...</td>\n",
       "      <td>...</td>\n",
       "      <td>...</td>\n",
       "    </tr>\n",
       "    <tr>\n",
       "      <th>final.output.recovery</th>\n",
       "      <td>0.295343</td>\n",
       "      <td>0.286823</td>\n",
       "      <td>0.175646</td>\n",
       "      <td>0.250058</td>\n",
       "      <td>0.172786</td>\n",
       "      <td>0.048744</td>\n",
       "      <td>0.061033</td>\n",
       "      <td>0.328066</td>\n",
       "      <td>0.183251</td>\n",
       "      <td>0.065421</td>\n",
       "      <td>...</td>\n",
       "      <td>-0.030084</td>\n",
       "      <td>0.288568</td>\n",
       "      <td>0.185952</td>\n",
       "      <td>0.151987</td>\n",
       "      <td>0.265993</td>\n",
       "      <td>1.000000</td>\n",
       "      <td>-0.409200</td>\n",
       "      <td>0.125986</td>\n",
       "      <td>-0.143094</td>\n",
       "      <td>-0.050280</td>\n",
       "    </tr>\n",
       "    <tr>\n",
       "      <th>final.output.tail_au</th>\n",
       "      <td>0.642479</td>\n",
       "      <td>0.498710</td>\n",
       "      <td>0.459312</td>\n",
       "      <td>-0.109150</td>\n",
       "      <td>-0.293895</td>\n",
       "      <td>-0.187710</td>\n",
       "      <td>0.230868</td>\n",
       "      <td>-0.076709</td>\n",
       "      <td>-0.036474</td>\n",
       "      <td>-0.153775</td>\n",
       "      <td>...</td>\n",
       "      <td>0.260681</td>\n",
       "      <td>-0.031696</td>\n",
       "      <td>0.206569</td>\n",
       "      <td>-0.047446</td>\n",
       "      <td>0.267781</td>\n",
       "      <td>-0.409200</td>\n",
       "      <td>1.000000</td>\n",
       "      <td>0.444434</td>\n",
       "      <td>0.607380</td>\n",
       "      <td>0.076956</td>\n",
       "    </tr>\n",
       "    <tr>\n",
       "      <th>final.output.tail_ag</th>\n",
       "      <td>0.594311</td>\n",
       "      <td>0.777677</td>\n",
       "      <td>0.400925</td>\n",
       "      <td>0.018099</td>\n",
       "      <td>-0.053626</td>\n",
       "      <td>-0.056861</td>\n",
       "      <td>-0.054658</td>\n",
       "      <td>0.291050</td>\n",
       "      <td>0.260268</td>\n",
       "      <td>-0.095086</td>\n",
       "      <td>...</td>\n",
       "      <td>0.216936</td>\n",
       "      <td>0.080381</td>\n",
       "      <td>0.334596</td>\n",
       "      <td>-0.126886</td>\n",
       "      <td>0.286305</td>\n",
       "      <td>0.125986</td>\n",
       "      <td>0.444434</td>\n",
       "      <td>1.000000</td>\n",
       "      <td>0.307887</td>\n",
       "      <td>0.138464</td>\n",
       "    </tr>\n",
       "    <tr>\n",
       "      <th>final.output.tail_pb</th>\n",
       "      <td>0.494324</td>\n",
       "      <td>0.277462</td>\n",
       "      <td>0.773465</td>\n",
       "      <td>-0.012314</td>\n",
       "      <td>-0.249568</td>\n",
       "      <td>-0.110962</td>\n",
       "      <td>0.370162</td>\n",
       "      <td>-0.160586</td>\n",
       "      <td>0.102342</td>\n",
       "      <td>0.244610</td>\n",
       "      <td>...</td>\n",
       "      <td>-0.026049</td>\n",
       "      <td>0.081291</td>\n",
       "      <td>-0.051855</td>\n",
       "      <td>0.221372</td>\n",
       "      <td>0.221714</td>\n",
       "      <td>-0.143094</td>\n",
       "      <td>0.607380</td>\n",
       "      <td>0.307887</td>\n",
       "      <td>1.000000</td>\n",
       "      <td>-0.133032</td>\n",
       "    </tr>\n",
       "    <tr>\n",
       "      <th>final.output.tail_sol</th>\n",
       "      <td>-0.008907</td>\n",
       "      <td>0.013153</td>\n",
       "      <td>-0.158319</td>\n",
       "      <td>0.382381</td>\n",
       "      <td>0.473291</td>\n",
       "      <td>-0.028740</td>\n",
       "      <td>0.221742</td>\n",
       "      <td>0.310551</td>\n",
       "      <td>-0.113732</td>\n",
       "      <td>-0.178710</td>\n",
       "      <td>...</td>\n",
       "      <td>0.301495</td>\n",
       "      <td>0.134978</td>\n",
       "      <td>0.028890</td>\n",
       "      <td>0.094385</td>\n",
       "      <td>-0.023865</td>\n",
       "      <td>-0.050280</td>\n",
       "      <td>0.076956</td>\n",
       "      <td>0.138464</td>\n",
       "      <td>-0.133032</td>\n",
       "      <td>1.000000</td>\n",
       "    </tr>\n",
       "  </tbody>\n",
       "</table>\n",
       "<p>86 rows × 86 columns</p>\n",
       "</div>"
      ],
      "text/plain": [
       "                         rougher.input.feed_au  rougher.input.feed_ag  \\\n",
       "rougher.input.feed_au                 1.000000               0.845274   \n",
       "rougher.input.feed_ag                 0.845274               1.000000   \n",
       "rougher.input.feed_pb                 0.687003               0.496579   \n",
       "rougher.input.feed_sol                0.094392               0.115878   \n",
       "rougher.input.feed_rate              -0.190381              -0.134165   \n",
       "...                                        ...                    ...   \n",
       "final.output.recovery                 0.295343               0.286823   \n",
       "final.output.tail_au                  0.642479               0.498710   \n",
       "final.output.tail_ag                  0.594311               0.777677   \n",
       "final.output.tail_pb                  0.494324               0.277462   \n",
       "final.output.tail_sol                -0.008907               0.013153   \n",
       "\n",
       "                         rougher.input.feed_pb  rougher.input.feed_sol  \\\n",
       "rougher.input.feed_au                 0.687003                0.094392   \n",
       "rougher.input.feed_ag                 0.496579                0.115878   \n",
       "rougher.input.feed_pb                 1.000000                0.090636   \n",
       "rougher.input.feed_sol                0.090636                1.000000   \n",
       "rougher.input.feed_rate              -0.139769                0.621676   \n",
       "...                                        ...                     ...   \n",
       "final.output.recovery                 0.175646                0.250058   \n",
       "final.output.tail_au                  0.459312               -0.109150   \n",
       "final.output.tail_ag                  0.400925                0.018099   \n",
       "final.output.tail_pb                  0.773465               -0.012314   \n",
       "final.output.tail_sol                -0.158319                0.382381   \n",
       "\n",
       "                         rougher.input.feed_rate  rougher.input.feed_size  \\\n",
       "rougher.input.feed_au                  -0.190381                -0.152634   \n",
       "rougher.input.feed_ag                  -0.134165                -0.110868   \n",
       "rougher.input.feed_pb                  -0.139769                -0.054133   \n",
       "rougher.input.feed_sol                  0.621676                 0.180514   \n",
       "rougher.input.feed_rate                 1.000000                 0.122620   \n",
       "...                                          ...                      ...   \n",
       "final.output.recovery                   0.172786                 0.048744   \n",
       "final.output.tail_au                   -0.293895                -0.187710   \n",
       "final.output.tail_ag                   -0.053626                -0.056861   \n",
       "final.output.tail_pb                   -0.249568                -0.110962   \n",
       "final.output.tail_sol                   0.473291                -0.028740   \n",
       "\n",
       "                         rougher.input.floatbank10_sulfate  \\\n",
       "rougher.input.feed_au                             0.294588   \n",
       "rougher.input.feed_ag                             0.106487   \n",
       "rougher.input.feed_pb                             0.257604   \n",
       "rougher.input.feed_sol                            0.296444   \n",
       "rougher.input.feed_rate                           0.234889   \n",
       "...                                                    ...   \n",
       "final.output.recovery                             0.061033   \n",
       "final.output.tail_au                              0.230868   \n",
       "final.output.tail_ag                             -0.054658   \n",
       "final.output.tail_pb                              0.370162   \n",
       "final.output.tail_sol                             0.221742   \n",
       "\n",
       "                         rougher.input.floatbank10_xanthate  \\\n",
       "rougher.input.feed_au                              0.208971   \n",
       "rougher.input.feed_ag                              0.231607   \n",
       "rougher.input.feed_pb                              0.067909   \n",
       "rougher.input.feed_sol                             0.383095   \n",
       "rougher.input.feed_rate                            0.599559   \n",
       "...                                                     ...   \n",
       "final.output.recovery                              0.328066   \n",
       "final.output.tail_au                              -0.076709   \n",
       "final.output.tail_ag                               0.291050   \n",
       "final.output.tail_pb                              -0.160586   \n",
       "final.output.tail_sol                              0.310551   \n",
       "\n",
       "                         rougher.state.floatbank10_a_air  \\\n",
       "rougher.input.feed_au                           0.154849   \n",
       "rougher.input.feed_ag                           0.278293   \n",
       "rougher.input.feed_pb                           0.260916   \n",
       "rougher.input.feed_sol                          0.171198   \n",
       "rougher.input.feed_rate                         0.010749   \n",
       "...                                                  ...   \n",
       "final.output.recovery                           0.183251   \n",
       "final.output.tail_au                           -0.036474   \n",
       "final.output.tail_ag                            0.260268   \n",
       "final.output.tail_pb                            0.102342   \n",
       "final.output.tail_sol                          -0.113732   \n",
       "\n",
       "                         rougher.state.floatbank10_a_level  ...  \\\n",
       "rougher.input.feed_au                            -0.102113  ...   \n",
       "rougher.input.feed_ag                            -0.124046  ...   \n",
       "rougher.input.feed_pb                             0.246938  ...   \n",
       "rougher.input.feed_sol                            0.315981  ...   \n",
       "rougher.input.feed_rate                           0.142343  ...   \n",
       "...                                                    ...  ...   \n",
       "final.output.recovery                             0.065421  ...   \n",
       "final.output.tail_au                             -0.153775  ...   \n",
       "final.output.tail_ag                             -0.095086  ...   \n",
       "final.output.tail_pb                              0.244610  ...   \n",
       "final.output.tail_sol                            -0.178710  ...   \n",
       "\n",
       "                         secondary_cleaner.output.tail_sol  \\\n",
       "rougher.input.feed_au                             0.242171   \n",
       "rougher.input.feed_ag                             0.265350   \n",
       "rougher.input.feed_pb                            -0.026652   \n",
       "rougher.input.feed_sol                           -0.121835   \n",
       "rougher.input.feed_rate                          -0.053967   \n",
       "...                                                    ...   \n",
       "final.output.recovery                            -0.030084   \n",
       "final.output.tail_au                              0.260681   \n",
       "final.output.tail_ag                              0.216936   \n",
       "final.output.tail_pb                             -0.026049   \n",
       "final.output.tail_sol                             0.301495   \n",
       "\n",
       "                         final.output.concentrate_au  \\\n",
       "rougher.input.feed_au                       0.035095   \n",
       "rougher.input.feed_ag                       0.020728   \n",
       "rougher.input.feed_pb                       0.011408   \n",
       "rougher.input.feed_sol                      0.219287   \n",
       "rougher.input.feed_rate                     0.161275   \n",
       "...                                              ...   \n",
       "final.output.recovery                       0.288568   \n",
       "final.output.tail_au                       -0.031696   \n",
       "final.output.tail_ag                        0.080381   \n",
       "final.output.tail_pb                        0.081291   \n",
       "final.output.tail_sol                       0.134978   \n",
       "\n",
       "                         final.output.concentrate_ag  \\\n",
       "rougher.input.feed_au                       0.315817   \n",
       "rougher.input.feed_ag                       0.456279   \n",
       "rougher.input.feed_pb                       0.074866   \n",
       "rougher.input.feed_sol                     -0.036783   \n",
       "rougher.input.feed_rate                    -0.167154   \n",
       "...                                              ...   \n",
       "final.output.recovery                       0.185952   \n",
       "final.output.tail_au                        0.206569   \n",
       "final.output.tail_ag                        0.334596   \n",
       "final.output.tail_pb                       -0.051855   \n",
       "final.output.tail_sol                       0.028890   \n",
       "\n",
       "                         final.output.concentrate_pb  \\\n",
       "rougher.input.feed_au                      -0.079812   \n",
       "rougher.input.feed_ag                      -0.207999   \n",
       "rougher.input.feed_pb                       0.301446   \n",
       "rougher.input.feed_sol                      0.116718   \n",
       "rougher.input.feed_rate                     0.066815   \n",
       "...                                              ...   \n",
       "final.output.recovery                       0.151987   \n",
       "final.output.tail_au                       -0.047446   \n",
       "final.output.tail_ag                       -0.126886   \n",
       "final.output.tail_pb                        0.221372   \n",
       "final.output.tail_sol                       0.094385   \n",
       "\n",
       "                         final.output.concentrate_sol  final.output.recovery  \\\n",
       "rougher.input.feed_au                        0.474520               0.295343   \n",
       "rougher.input.feed_ag                        0.479259               0.286823   \n",
       "rougher.input.feed_pb                        0.185576               0.175646   \n",
       "rougher.input.feed_sol                       0.010362               0.250058   \n",
       "rougher.input.feed_rate                     -0.168127               0.172786   \n",
       "...                                               ...                    ...   \n",
       "final.output.recovery                        0.265993               1.000000   \n",
       "final.output.tail_au                         0.267781              -0.409200   \n",
       "final.output.tail_ag                         0.286305               0.125986   \n",
       "final.output.tail_pb                         0.221714              -0.143094   \n",
       "final.output.tail_sol                       -0.023865              -0.050280   \n",
       "\n",
       "                         final.output.tail_au  final.output.tail_ag  \\\n",
       "rougher.input.feed_au                0.642479              0.594311   \n",
       "rougher.input.feed_ag                0.498710              0.777677   \n",
       "rougher.input.feed_pb                0.459312              0.400925   \n",
       "rougher.input.feed_sol              -0.109150              0.018099   \n",
       "rougher.input.feed_rate             -0.293895             -0.053626   \n",
       "...                                       ...                   ...   \n",
       "final.output.recovery               -0.409200              0.125986   \n",
       "final.output.tail_au                 1.000000              0.444434   \n",
       "final.output.tail_ag                 0.444434              1.000000   \n",
       "final.output.tail_pb                 0.607380              0.307887   \n",
       "final.output.tail_sol                0.076956              0.138464   \n",
       "\n",
       "                         final.output.tail_pb  final.output.tail_sol  \n",
       "rougher.input.feed_au                0.494324              -0.008907  \n",
       "rougher.input.feed_ag                0.277462               0.013153  \n",
       "rougher.input.feed_pb                0.773465              -0.158319  \n",
       "rougher.input.feed_sol              -0.012314               0.382381  \n",
       "rougher.input.feed_rate             -0.249568               0.473291  \n",
       "...                                       ...                    ...  \n",
       "final.output.recovery               -0.143094              -0.050280  \n",
       "final.output.tail_au                 0.607380               0.076956  \n",
       "final.output.tail_ag                 0.307887               0.138464  \n",
       "final.output.tail_pb                 1.000000              -0.133032  \n",
       "final.output.tail_sol               -0.133032               1.000000  \n",
       "\n",
       "[86 rows x 86 columns]"
      ]
     },
     "execution_count": 10,
     "metadata": {},
     "output_type": "execute_result"
    }
   ],
   "source": [
    "data_full.corr()"
   ]
  },
  {
   "cell_type": "markdown",
   "metadata": {},
   "source": [
    "### Вывод:\n",
    "* Нам предоставленно 3 датасета, разной размерности\n",
    "* Драг металлы: au - золото, ag - серебро, pb - свинец\n",
    "* В данных есть пропуски в некоторых случаях до 9%\n",
    "* Все данные представленны типа float, за исключением даты ее необходимо конвертировать в формат pandas\n",
    "* Кол-во колонок одинаково в data_train и data_full составляют 87, кол-во колонок в тесет составляет 53"
   ]
  },
  {
   "cell_type": "markdown",
   "metadata": {},
   "source": [
    "<div class=\"alert alert-success\">\n",
    "<h2> Комментарий ревьюера <a class=\"tocSkip\"> </h2>\n",
    "\n",
    "<b>Все отлично!👍</b> \n",
    "    \n",
    "Данные осмотрели."
   ]
  },
  {
   "cell_type": "markdown",
   "metadata": {},
   "source": [
    "Расчитаем эффективность обогащения:\n",
    "* **С** - доля золота в концентрате после флотации\n",
    "* **F** - доля золота в концентрате до флотации\n",
    "* **T** - доля золота в отвальных хвостах после флотации\n",
    "\n",
    "Расчет произведем по формуле:\n",
    "\n",
    "\n",
    "**(C * (F-T))/(F * (C-T))*100**\n"
   ]
  },
  {
   "cell_type": "code",
   "execution_count": 11,
   "metadata": {},
   "outputs": [],
   "source": [
    "c = data_train['rougher.output.concentrate_au']\n",
    "f = data_train['rougher.input.feed_au']\n",
    "t = data_train['rougher.output.tail_au']\n",
    "\n",
    "recovery = (c * (f-t))/(f * (c-t))*100\n"
   ]
  },
  {
   "cell_type": "code",
   "execution_count": 12,
   "metadata": {},
   "outputs": [
    {
     "name": "stdout",
     "output_type": "stream",
     "text": [
      "MAE = 9.83758577644259e-15\n"
     ]
    }
   ],
   "source": [
    "mae_recovery = mean_absolute_error(data_train['rougher.output.recovery'], recovery)\n",
    "print('MAE =', mae_recovery)"
   ]
  },
  {
   "cell_type": "markdown",
   "metadata": {},
   "source": [
    "### Вывод по расчеты recovery:\n",
    "* Расчитанная возвратность и предосталенная различаються на 9.83758577644259e-15, что крайне мало и можем считать что расчет рекавери предоставлен верно."
   ]
  },
  {
   "cell_type": "markdown",
   "metadata": {},
   "source": [
    "<div class=\"alert alert-success\">\n",
    "<h2> Комментарий ревьюера <a class=\"tocSkip\"> </h2>\n",
    "\n",
    "<b>Все отлично!👍:</b> Оценили `MAE` между исходным и расчётным значением эффективности обогащения и убедились, что эффективность обогащения рассчитана правильно - отлично!\n",
    "</div>"
   ]
  },
  {
   "cell_type": "markdown",
   "metadata": {},
   "source": [
    "Проанализируем признаки, недоступные в тестовой выборке. Что это за параметры? К какому типу относятся?:"
   ]
  },
  {
   "cell_type": "code",
   "execution_count": 13,
   "metadata": {},
   "outputs": [],
   "source": [
    "def pass_features(first_data, second_data):\n",
    "    return set(first_data.columns.to_list()) - set(second_data.columns.to_list())"
   ]
  },
  {
   "cell_type": "code",
   "execution_count": 14,
   "metadata": {},
   "outputs": [
    {
     "name": "stdout",
     "output_type": "stream",
     "text": [
      "Кол-во отсутствующих признаков в data_test:34\n"
     ]
    },
    {
     "data": {
      "text/plain": [
       "{'final.output.concentrate_ag',\n",
       " 'final.output.concentrate_au',\n",
       " 'final.output.concentrate_pb',\n",
       " 'final.output.concentrate_sol',\n",
       " 'final.output.recovery',\n",
       " 'final.output.tail_ag',\n",
       " 'final.output.tail_au',\n",
       " 'final.output.tail_pb',\n",
       " 'final.output.tail_sol',\n",
       " 'primary_cleaner.output.concentrate_ag',\n",
       " 'primary_cleaner.output.concentrate_au',\n",
       " 'primary_cleaner.output.concentrate_pb',\n",
       " 'primary_cleaner.output.concentrate_sol',\n",
       " 'primary_cleaner.output.tail_ag',\n",
       " 'primary_cleaner.output.tail_au',\n",
       " 'primary_cleaner.output.tail_pb',\n",
       " 'primary_cleaner.output.tail_sol',\n",
       " 'rougher.calculation.au_pb_ratio',\n",
       " 'rougher.calculation.floatbank10_sulfate_to_au_feed',\n",
       " 'rougher.calculation.floatbank11_sulfate_to_au_feed',\n",
       " 'rougher.calculation.sulfate_to_au_concentrate',\n",
       " 'rougher.output.concentrate_ag',\n",
       " 'rougher.output.concentrate_au',\n",
       " 'rougher.output.concentrate_pb',\n",
       " 'rougher.output.concentrate_sol',\n",
       " 'rougher.output.recovery',\n",
       " 'rougher.output.tail_ag',\n",
       " 'rougher.output.tail_au',\n",
       " 'rougher.output.tail_pb',\n",
       " 'rougher.output.tail_sol',\n",
       " 'secondary_cleaner.output.tail_ag',\n",
       " 'secondary_cleaner.output.tail_au',\n",
       " 'secondary_cleaner.output.tail_pb',\n",
       " 'secondary_cleaner.output.tail_sol'}"
      ]
     },
     "execution_count": 14,
     "metadata": {},
     "output_type": "execute_result"
    }
   ],
   "source": [
    "print(f'Кол-во отсутствующих признаков в data_test:{len(pass_features(data_full, data_test))}')\n",
    "pass_features(data_train, data_test)"
   ]
  },
  {
   "cell_type": "markdown",
   "metadata": {},
   "source": [
    "Вывод: Некоторые параметры недоступны, потому что замеряются и/или рассчитываются значительно позже. Из-за этого в тестовой выборке отсутствуют некоторые признаки, которые могут быть в обучающей."
   ]
  },
  {
   "cell_type": "markdown",
   "metadata": {},
   "source": [
    "<div class=\"alert alert-success\">\n",
    "<h2> Комментарий ревьюера <a class=\"tocSkip\"> </h2>\n",
    "\n",
    "<b>Все отлично!👍:</b> Проанализировали разницу в признаках между выборками. "
   ]
  },
  {
   "cell_type": "markdown",
   "metadata": {},
   "source": [
    "<div class=\"alert alert-block alert-danger\">\n",
    "<h2> Комментарий ревьюера <a class=\"tocSkip\"></h2>\n",
    "\n",
    "    \n",
    "<b>На доработку❌:</b> Здесь стоит вспомнить разницу между онлайн и оффлайн метриками: исходя из понимания, что тестовая выборка имитирует работу модели в реальных условиях протекания технологического процесса, давай подумаем, почему в `train` есть признаки, которые недоступны в `test`?\n",
    "    \n",
    "Нужно сделать вывод о причине расхожедния количества признаков между `train` и `test`."
   ]
  },
  {
   "cell_type": "markdown",
   "metadata": {},
   "source": [
    "<div class=\"alert alert-info\">\n",
    "<h2> Комментарий студента <a class=\"tocSkip\"> </h2>\n",
    "\n",
    "Добавил\n",
    " \n",
    "</div>"
   ]
  },
  {
   "cell_type": "markdown",
   "metadata": {},
   "source": [
    "<div class=\"alert alert-success\">\n",
    "<h2> Комментарий ревьюера v.2 <a class=\"tocSkip\"> </h2>\n",
    "\n",
    "<b>Все отлично!👍:</b> Учтено."
   ]
  },
  {
   "cell_type": "markdown",
   "metadata": {},
   "source": [
    "### Вывод по отсутствующим признакам:\n",
    "* В тестовой выборке отсутствуют 34 параметра\n",
    "* 4 признака расчетных:\n",
    " - 'rougher.calculation.au_pb_ratio',\n",
    " - 'rougher.calculation.floatbank10_sulfate_to_au_feed',\n",
    " - 'rougher.calculation.floatbank11_sulfate_to_au_feed',\n",
    " - 'rougher.calculation.sulfate_to_au_concentrate'\n",
    "* 30 признаков которые относятся к параметрам продукта:\n",
    " - 'final.output.concentrate_ag'\n",
    " - 'final.output.concentrate_au'\n",
    " - 'final.output.concentrate_pb'\n",
    " - 'final.output.concentrate_sol'\n",
    " - 'final.output.recovery' **Target**\n",
    " - 'final.output.tail_ag'\n",
    " - 'final.output.tail_au'\n",
    " - 'final.output.tail_pb'\n",
    " - 'final.output.tail_sol'\n",
    " - 'primary_cleaner.output.concentrate_ag'\n",
    " - 'primary_cleaner.output.concentrate_au'\n",
    " - 'primary_cleaner.output.concentrate_pb'\n",
    " - 'primary_cleaner.output.concentrate_sol'\n",
    " - 'primary_cleaner.output.tail_ag'\n",
    " - 'primary_cleaner.output.tail_au'\n",
    " - 'primary_cleaner.output.tail_pb'\n",
    " - 'primary_cleaner.output.tail_sol'\n",
    " - rougher.calculation.au_pb_ratio'\n",
    " - 'rougher.calculation.floatbank10_sulfate_to_au_feed'\n",
    " - 'rougher.calculation.floatbank11_sulfate_to_au_feed'\n",
    " - 'rougher.calculation.sulfate_to_au_concentrate'\n",
    " - 'rougher.output.concentrate_ag'\n",
    " - 'rougher.output.concentrate_au'\n",
    " - 'rougher.output.concentrate_pb'\n",
    " - 'rougher.output.concentrate_sol'\n",
    " - 'rougher.output.recovery' **Target**\n",
    " - 'rougher.output.tail_ag'\n",
    " - 'rougher.output.tail_au'\n",
    " - 'rougher.output.tail_pb'\n",
    " - 'rougher.output.tail_sol'\n",
    " - 'secondary_cleaner.output.tail_ag'\n",
    " - 'secondary_cleaner.output.tail_au'\n",
    " - 'secondary_cleaner.output.tail_pb'\n",
    " - 'secondary_cleaner.output.tail_sol'"
   ]
  },
  {
   "cell_type": "markdown",
   "metadata": {},
   "source": [
    "Проведем предобработку:\n",
    "* Добавим целевые параметры в тест\n",
    "* Почистим от пропусков"
   ]
  },
  {
   "cell_type": "code",
   "execution_count": 15,
   "metadata": {
    "scrolled": true
   },
   "outputs": [
    {
     "name": "stdout",
     "output_type": "stream",
     "text": [
      "До добоваления таргет(4860, 53)\n",
      "После добоваления таргет(4860, 55)\n"
     ]
    }
   ],
   "source": [
    "print(f'До добоваления таргет{data_test.shape}')\n",
    "recovery_parametr = data_full[['date',\n",
    "                               'rougher.output.recovery',\n",
    "                               'final.output.recovery']].query('date in @data_test.date').copy()\n",
    "\n",
    "data_test = data_test.merge(recovery_parametr,on='date')\n",
    "print(f'После добоваления таргет{data_test.shape}')"
   ]
  },
  {
   "cell_type": "markdown",
   "metadata": {},
   "source": [
    "<div class=\"alert alert-success\">\n",
    "<h2> Комментарий ревьюера <a class=\"tocSkip\"> </h2>\n",
    "\n",
    "<b>Все отлично!👍:</b> В `test` добавили целевые признаки из `full`, используя дату как ключ при соединении - отлично!"
   ]
  },
  {
   "cell_type": "markdown",
   "metadata": {},
   "source": [
    "Проверим пропуски"
   ]
  },
  {
   "cell_type": "code",
   "execution_count": 16,
   "metadata": {},
   "outputs": [
    {
     "name": "stdout",
     "output_type": "stream",
     "text": [
      "В data_train есть пропуски:  False\n",
      "В data_test есть пропуски:  False\n"
     ]
    }
   ],
   "source": [
    "data_train = data_train.fillna(method='ffill')\n",
    "data_test = data_test.fillna(method='ffill')\n",
    "\n",
    "print('В data_train есть пропуски: ', data_train.isnull().values.any())\n",
    "print('В data_test есть пропуски: ', data_test.isnull().values.any())"
   ]
  },
  {
   "cell_type": "markdown",
   "metadata": {},
   "source": [
    "Данные индексируются датой и временем получения информации (признак date). Соседние по времени параметры часто похожи. В связи с чем применяем метод forward fill"
   ]
  },
  {
   "cell_type": "markdown",
   "metadata": {},
   "source": [
    "<div class=\"alert alert-info\">\n",
    "<h2> Комментарий студента <a class=\"tocSkip\"> </h2>\n",
    "\n",
    "Добавил\n",
    " \n",
    "</div>"
   ]
  },
  {
   "cell_type": "markdown",
   "metadata": {},
   "source": [
    "<div class=\"alert alert-success\">\n",
    "<h2> Комментарий ревьюера <a class=\"tocSkip\"> </h2>\n",
    "\n",
    "<b>Все отлично!👍:</b> Обработали пропуски с помощью стратегии заполнения `forward fill` - отлично!\n",
    "</div>"
   ]
  },
  {
   "cell_type": "markdown",
   "metadata": {},
   "source": [
    "<div class=\"alert alert-block alert-danger\">\n",
    "<h2> Комментарий ревьюера <a class=\"tocSkip\"></h2>\n",
    "\n",
    "    \n",
    "<b>На доработку❌:</b>\n",
    "\n",
    "В комментариях важно пояснить, почему была выбрана именно эта стратегия работы с пропусками.\n",
    "        \n",
    "</div>"
   ]
  },
  {
   "cell_type": "markdown",
   "metadata": {},
   "source": [
    "<div class=\"alert alert-success\">\n",
    "<h2> Комментарий ревьюера v.2 <a class=\"tocSkip\"> </h2>\n",
    "\n",
    "<b>Все отлично!👍:</b> Учтено."
   ]
  },
  {
   "cell_type": "code",
   "execution_count": 17,
   "metadata": {},
   "outputs": [],
   "source": [
    "data_train['date'] = pd.to_datetime(data_train['date'], format='%Y-%m-%d %H:%M:%S')\n",
    "data_test['date'] = pd.to_datetime(data_test['date'], format='%Y-%m-%d %H:%M:%S')\n",
    "data_full['date'] = pd.to_datetime(data_full['date'], format='%Y-%m-%d %H:%M:%S')"
   ]
  },
  {
   "cell_type": "markdown",
   "metadata": {},
   "source": [
    "<div class=\"alert alert-success\">\n",
    "<h2> Комментарий ревьюера <a class=\"tocSkip\"> </h2>\n",
    "\n",
    "<b>Все отлично!👍:</b> Даты преобоазованы - отлично!"
   ]
  },
  {
   "cell_type": "markdown",
   "metadata": {},
   "source": [
    "### Вывод:\n",
    "* Добавлеены целевые признаки\n",
    "* Пропуски заменены на значения из предыдуших строк т.к. в условии сказано что значения зависит от времени"
   ]
  },
  {
   "cell_type": "markdown",
   "metadata": {},
   "source": [
    "<div class=\"alert alert-success\">\n",
    "<h2> Комментарий ревьюера <a class=\"tocSkip\"> </h2>\n",
    "\n",
    "<b>Все отлично!👍:</b> Небольшой вывод - отлично!"
   ]
  },
  {
   "cell_type": "markdown",
   "metadata": {},
   "source": [
    "## Анализ данных"
   ]
  },
  {
   "cell_type": "markdown",
   "metadata": {},
   "source": [
    "Посмотрим, как изменяется концентрация металлов (Au, Ag, Pb) на различных этапах очистки"
   ]
  },
  {
   "cell_type": "code",
   "execution_count": 18,
   "metadata": {},
   "outputs": [
    {
     "data": {
      "image/png": "[encoded data removed]",
      "text/plain": [
       "<Figure size 1440x720 with 1 Axes>"
      ]
     },
     "metadata": {},
     "output_type": "display_data"
    },
    {
     "data": {
      "image/png": "[encoded data removed]",
      "text/plain": [
       "<Figure size 1440x720 with 1 Axes>"
      ]
     },
     "metadata": {},
     "output_type": "display_data"
    },
    {
     "data": {
      "image/png": "[encoded data removed]",
      "text/plain": [
       "<Figure size 1440x720 with 1 Axes>"
      ]
     },
     "metadata": {},
     "output_type": "display_data"
    }
   ],
   "source": [
    "for metal in ['au','ag','pb']:\n",
    "    plt.figure(figsize=(20, 10))\n",
    "    sns.histplot(data_train[f'rougher.input.feed_{metal}'],\n",
    "                 bins = 'auto',\n",
    "                 color='m',\n",
    "                 label='Сырье',\n",
    "                 kde=True)\n",
    "    sns.histplot(data_train[f'rougher.output.concentrate_{metal}'],\n",
    "                 bins = 'auto',\n",
    "                 color='b',\n",
    "                 label='После флотации',\n",
    "                 kde=True)\n",
    "    sns.histplot(data_train[f'primary_cleaner.output.concentrate_{metal}'],\n",
    "                 bins = 'auto',\n",
    "                 color='g',\n",
    "                 label='После первичной очистки',\n",
    "                 kde=True)\n",
    "    sns.histplot(data_train[f'final.output.concentrate_{metal}'],\n",
    "                 bins = 'auto',\n",
    "                 color='r',\n",
    "                 label='Финальная концетрация металла',\n",
    "                 kde=True)\n",
    "    plt.title(f'Изменения концентрации {metal} на разных этапах отчистки')\n",
    "    plt.xlabel('Концентрация металла')\n",
    "    plt.ylabel('Кол-во наблюдений')\n",
    "    plt.legend()\n",
    "    plt.show()"
   ]
  },
  {
   "cell_type": "code",
   "execution_count": 19,
   "metadata": {},
   "outputs": [],
   "source": [
    "data_train = data_train[(data_train['rougher.output.concentrate_au'] != 0) & (data_train['rougher.output.concentrate_ag'] != 0)\n",
    "                    & (data_train['rougher.output.concentrate_pb'] != 0) & (data_train['rougher.output.concentrate_sol'] != 0)]\n",
    "data_train = data_train[(data_train['final.output.concentrate_au'] != 0) & (data_train['final.output.concentrate_ag'] != 0) \n",
    "                    & (data_train['final.output.concentrate_pb'] != 0) & (data_train['final.output.concentrate_sol'] != 0)]\n",
    "data_train = data_train[(data_train['primary_cleaner.output.concentrate_au'] != 0) & (data_train['primary_cleaner.output.concentrate_ag'] != 0)\n",
    "                    & (data_train['primary_cleaner.output.concentrate_pb'] != 0) & (data_train['primary_cleaner.output.concentrate_sol'] != 0)]\n",
    "\n",
    "data_full = data_full[(data_full['rougher.output.concentrate_au'] != 0) & (data_full['rougher.output.concentrate_ag'] != 0) \n",
    "                  & (data_full['rougher.output.concentrate_pb'] != 0) & (data_full['rougher.output.concentrate_sol'] != 0)]\n",
    "data_full = data_full[(data_full['final.output.concentrate_au'] != 0) & (data_full['final.output.concentrate_ag'] != 0) \n",
    "                  & (data_full['final.output.concentrate_pb'] != 0) & (data_full['final.output.concentrate_sol'] != 0)]\n",
    "data_full =data_full[(data_full['primary_cleaner.output.concentrate_au'] != 0)&(data_full['primary_cleaner.output.concentrate_ag'] != 0)\n",
    "                     & (data_full['primary_cleaner.output.concentrate_pb'] != 0)&(data_full['primary_cleaner.output.concentrate_sol'] != 0)]"
   ]
  },
  {
   "cell_type": "markdown",
   "metadata": {},
   "source": [
    "### Вывод:\n",
    "\n",
    "* Концентрация золота растет на протяжеии всех этапов и в конце становится больше, чем в начале\n",
    "* Концентрация серебра падает начиная с этапа флотации\n",
    "* Концентрация свинца медленно растет на протяжении всех этапов очистки\n",
    "* Был обнаружен пик в районе нуля на разных этапах отчистки, что можем считать за аномалию"
   ]
  },
  {
   "cell_type": "markdown",
   "metadata": {},
   "source": [
    "<div class=\"alert alert-success\">\n",
    "<h2> Комментарий ревьюера <a class=\"tocSkip\"> </h2>\n",
    "\n",
    "<b>Все отлично!👍:</b> Исследована концентрация металлов на разных стадиях обработки, проанализирована динамика концентрации в зависимости от этапа техпроцесса - отлично, тут всё верно.\n"
   ]
  },
  {
   "cell_type": "markdown",
   "metadata": {},
   "source": [
    "<div class=\"alert alert-block alert-danger\">\n",
    "<h2> Комментарий ревьюера <a class=\"tocSkip\"></h2>\n",
    "\n",
    "    \n",
    "<b>На доработку❌:</b>\n",
    "На данном этапе следует также избавиться от аномалий - предполагается, что на этапе анализа суммарной концентрации аномалии уже были обнаружены и удалены. Давай обратим внимание на левую сторону графика по оси Х - все ли значения, которые мы там видим, кажутся адекватными?"
   ]
  },
  {
   "cell_type": "markdown",
   "metadata": {},
   "source": [
    "<div class=\"alert alert-info\">\n",
    "<h2> Комментарий студента <a class=\"tocSkip\"> </h2>\n",
    "\n",
    "Добавил, тут тож возникал вопрос, я пытался от аномалий избавиться через 1.5 квартильный размах, но не был уверен что не 0-вые значения являтся аномальными например 0.1 и так далее, вопрос на сколько верно в данном случаее удалять только 0-вые значения?\n",
    " \n",
    "</div>"
   ]
  },
  {
   "cell_type": "markdown",
   "metadata": {},
   "source": [
    "<div class=\"alert alert-success\">\n",
    "<h2> Комментарий ревьюера v.2 <a class=\"tocSkip\"> </h2>\n",
    "\n",
    "<b>Все отлично!👍:</b> Удаление нулей - достаточный шаг, но всегда можно пойти дальше и почистить лучше:)"
   ]
  },
  {
   "cell_type": "markdown",
   "metadata": {},
   "source": [
    "**Сравнение распределения размеров гранул сырья**"
   ]
  },
  {
   "cell_type": "code",
   "execution_count": 21,
   "metadata": {},
   "outputs": [
    {
     "data": {
      "image/png": "[encoded data removed]",
      "text/plain": [
       "<Figure size 1080x360 with 1 Axes>"
      ]
     },
     "metadata": {},
     "output_type": "display_data"
    }
   ],
   "source": [
    "    plt.figure(figsize=(15, 5))\n",
    "    sns.histplot(data_train['rougher.input.feed_size'],\n",
    "                 bins = 'auto',\n",
    "                 color='m',\n",
    "                 label='Train',\n",
    "                 kde=True)\n",
    "    sns.histplot(data_test['rougher.input.feed_size'],\n",
    "                 bins = 'auto',\n",
    "                 color='b',\n",
    "                 label='Test',\n",
    "                 alpha=0.7,\n",
    "                 kde=True)\n",
    "    plt.title(f'Распределение гранул на этапе rougher на train и test')\n",
    "    plt.xlabel('Размер гранул')\n",
    "    plt.ylabel('Кол-во наблюдений')\n",
    "    plt.legend()\n",
    "    plt.show()\n"
   ]
  },
  {
   "cell_type": "markdown",
   "metadata": {},
   "source": [
    "<div class=\"alert alert-success\">\n",
    "<h2> Комментарий ревьюера <a class=\"tocSkip\"> </h2>\n",
    "\n",
    "<b>Все отлично!👍:</b> Сравнили размеры гранул сырья на обучающей и тестовой выборках."
   ]
  },
  {
   "cell_type": "markdown",
   "metadata": {},
   "source": [
    "<div class=\"alert alert-block alert-danger\">\n",
    "<h2> Комментарий ревьюера <a class=\"tocSkip\"></h2>\n",
    "\n",
    "    \n",
    "<b>На доработку❌:</b> Этап первичной очистки аналтизировать не требуется по условию проекта."
   ]
  },
  {
   "cell_type": "markdown",
   "metadata": {},
   "source": [
    "<div class=\"alert alert-success\">\n",
    "<h2> Комментарий ревьюера v.2 <a class=\"tocSkip\"> </h2>\n",
    "\n",
    "<b>Все отлично!👍:</b> Учтено."
   ]
  },
  {
   "cell_type": "markdown",
   "metadata": {},
   "source": [
    "Проверим схожесть распределений на этапе флотации для train и test :\n",
    "* 0-ая гипотеза распредления равны\n",
    "* 1-ая распределния не равны"
   ]
  },
  {
   "cell_type": "markdown",
   "metadata": {},
   "source": [
    "Как правило, мы можем предположить, что совокупности имеют равные дисперсии, если отношение большей выборочной дисперсии к меньшей выборочной дисперсии составляет менее 4:1."
   ]
  },
  {
   "cell_type": "code",
   "execution_count": 22,
   "metadata": {},
   "outputs": [
    {
     "name": "stdout",
     "output_type": "stream",
     "text": [
      "Отношение дисперсий:1.3990587002273656 можем преполложить что дисперсии равны\n",
      "Тест выборок расчитаных/предоставленных\n",
      "Среднее значение train 59.175714648565844\n",
      "Среднее значение test: 59.13615007330843\n",
      "p-значение 0.914822454418158\n",
      "Статистика t-testa 0.10695924081460767\n",
      "Не отвергаем нулевую гипотезу\n"
     ]
    }
   ],
   "source": [
    "a = data_train['rougher.input.feed_size']\n",
    "b = data_test['rougher.input.feed_size']\n",
    "alpha = 0.05\n",
    "result = st.ttest_ind(a,b,equal_var=True)\n",
    "print(f'Отношение дисперсий:{np.var(a)/np.var(b)} можем преполложить что дисперсии равны')\n",
    "print('Тест выборок расчитаных/предоставленных')\n",
    "print('Среднее значение train',a.mean())\n",
    "print('Среднее значение test:',b.mean())\n",
    "print('p-значение', result.pvalue)\n",
    "print('Статистика t-testa', result.statistic)\n",
    "if (result.pvalue<alpha):\n",
    "    print('Отвергаем нулевую гипотезу')\n",
    "else:\n",
    "    print('Не отвергаем нулевую гипотезу') "
   ]
  },
  {
   "cell_type": "markdown",
   "metadata": {},
   "source": [
    "<div class=\"alert alert-block alert-danger\">\n",
    "<h2> Комментарий ревьюера <a class=\"tocSkip\"></h2>\n",
    "\n",
    "    \n",
    "<b>На доработку❌:</b>\n",
    "\n",
    "Не настроен параметр `equal_var`, отвеающий за дисперсии."
   ]
  },
  {
   "cell_type": "markdown",
   "metadata": {},
   "source": [
    "<div class=\"alert alert-warning\">\n",
    "    <h2> Комментарий ревьюера v.2 <a class=\"tocSkip\"> </h2>\n",
    "    \n",
    "<b>Некоторые замечания и рекомендации⚠️:</b>\n",
    "\n",
    "Предположение о равенстве дисперсий - очень грубое, без явного подтверждения не можем просто взять и настроить. Мы ставим `False` всегда, если выборки отличаются по размерам."
   ]
  },
  {
   "cell_type": "markdown",
   "metadata": {},
   "source": [
    "<div class=\"alert alert-block alert-danger\">\n",
    "<h2> Комментарий ревьюера <a class=\"tocSkip\"></h2>\n",
    "\n",
    "    \n",
    "<b>На доработку❌:</b>\n",
    "\n",
    "Аналогично лишний этап."
   ]
  },
  {
   "cell_type": "markdown",
   "metadata": {},
   "source": [
    "<div class=\"alert alert-success\">\n",
    "<h2> Комментарий ревьюера v.2 <a class=\"tocSkip\"> </h2>\n",
    "\n",
    "<b>Все отлично!👍:</b> Учтено."
   ]
  },
  {
   "cell_type": "markdown",
   "metadata": {},
   "source": [
    "### Вывод: \n",
    "* Из графиков и проведенного ттеста можно сделать вывод, что распределения размеров гранул сырья на обучающей и тестовой выборках совпадают, а значит оценка модели будет правильной."
   ]
  },
  {
   "cell_type": "markdown",
   "metadata": {},
   "source": [
    "<div class=\"alert alert-success\">\n",
    "<h2> Комментарий ревьюера <a class=\"tocSkip\"> </h2>\n",
    "\n",
    "<b>Все отлично!👍:</b> Сравнили размеры гранул сырья на обучающей и тестовой выборках - отлично, распределения между выборками действительно схожи, следовательно модель будет корректно работать."
   ]
  },
  {
   "cell_type": "markdown",
   "metadata": {},
   "source": [
    "**Исследование суммарной концентрации всех веществ на разных стадиях: в сырье, в черновом и финальном концентратах**"
   ]
  },
  {
   "cell_type": "code",
   "execution_count": 23,
   "metadata": {},
   "outputs": [
    {
     "data": {
      "image/png": "[encoded data removed]",
      "text/plain": [
       "<Figure size 1440x720 with 1 Axes>"
      ]
     },
     "metadata": {},
     "output_type": "display_data"
    }
   ],
   "source": [
    "sum_rougher_input = 0\n",
    "sum_rougher_output = 0\n",
    "sum_final_output = 0\n",
    "sum_primary_cleaner = 0\n",
    "for li in ['au', 'ag', 'pb', 'sol']:\n",
    "    sum_rougher_input += data_train[f'rougher.input.feed_{li}']\n",
    "    sum_rougher_output += data_train[f'rougher.output.concentrate_{li}']\n",
    "    sum_primary_cleaner += data_train[f'primary_cleaner.output.concentrate_{li}']\n",
    "    sum_final_output += data_train[f'final.output.concentrate_{li}']\n",
    "    \n",
    "plt.figure(figsize=(20, 10))\n",
    "sns.histplot(sum_rougher_input,\n",
    "             bins = 'auto',\n",
    "             color='m',\n",
    "             label='Сырье',\n",
    "             kde=True)\n",
    "sns.histplot(sum_rougher_output,\n",
    "             bins = 'auto',\n",
    "             color='b',\n",
    "             label='После флотации',\n",
    "             kde=True)\n",
    "sns.histplot(sum_primary_cleaner,\n",
    "             bins = 'auto',\n",
    "             color='r',\n",
    "             label='После первичной очистки',\n",
    "             kde=True)\n",
    "sns.histplot(sum_final_output,\n",
    "             bins = 'auto',\n",
    "             color='g',\n",
    "             label='Финальная концентрация',\n",
    "             kde=True)\n",
    "plt.title(f'Сумарная концентрация веществ на разных этапах')\n",
    "plt.xlabel('Кол-во')\n",
    "plt.ylabel('Концентрация веществ')\n",
    "plt.legend()\n",
    "plt.show()"
   ]
  },
  {
   "cell_type": "markdown",
   "metadata": {},
   "source": [
    "<div class=\"alert alert-success\">\n",
    "<h2> Комментарий ревьюера <a class=\"tocSkip\"> </h2>\n",
    "\n",
    "<b>Все отлично!👍:</b> Исследована суммарная концентрация металлов на разных стадиях техпроцесса - отлично!"
   ]
  },
  {
   "cell_type": "markdown",
   "metadata": {},
   "source": [
    "<div class=\"alert alert-block alert-danger\">\n",
    "<h2> Комментарий ревьюера <a class=\"tocSkip\"></h2>\n",
    "\n",
    "    \n",
    "<b>На доработку❌:</b>\n",
    "\n",
    "Суммарную концентрацию металлов также нужно исследовать на этапе `primary_cleaner.output.concentrate_`. Нужно также сделать вывод о динамике суммарной концентрации металлов.\n",
    "        \n",
    "</div>"
   ]
  },
  {
   "cell_type": "markdown",
   "metadata": {},
   "source": [
    "<div class=\"alert alert-success\">\n",
    "<h2> Комментарий ревьюера v.2 <a class=\"tocSkip\"> </h2>\n",
    "\n",
    "<b>Все отлично!👍:</b> Учтено."
   ]
  },
  {
   "cell_type": "markdown",
   "metadata": {},
   "source": [
    "<div class=\"alert alert-block alert-danger\">\n",
    "<h2> Комментарий ревьюера <a class=\"tocSkip\"></h2>\n",
    "\n",
    "    \n",
    "<b>На доработку❌:</b>\n",
    "Комментарии о нулевых значениях и их удаление должны быть на этапе анализа индивидуальной концентрации каждого металла - предполагается, что эти аномалии должны были быть замечены ранее, прокомментированы и удалены, и уже на этапе суммарной концентрации мы имеем дело с очищенными данными."
   ]
  },
  {
   "cell_type": "markdown",
   "metadata": {},
   "source": [
    "<div class=\"alert alert-success\">\n",
    "<h2> Комментарий ревьюера v.2 <a class=\"tocSkip\"> </h2>\n",
    "\n",
    "<b>Все отлично!👍:</b> Учтено.\n",
    "    "
   ]
  },
  {
   "cell_type": "markdown",
   "metadata": {},
   "source": [
    "### Вывод:\n",
    "* Kонцентрация веществ увеличивается к финальному этапу, а распределения суммарной концентрации веществ уменьшается"
   ]
  },
  {
   "cell_type": "markdown",
   "metadata": {},
   "source": [
    "<div class=\"alert alert-success\">\n",
    "<h2> Комментарий ревьюера <a class=\"tocSkip\"> </h2>\n",
    "\n",
    "<b>Все отлично!👍:</b> Хороший промежуточный вывод!\n",
    "</div>"
   ]
  },
  {
   "cell_type": "markdown",
   "metadata": {},
   "source": [
    "## Модель"
   ]
  },
  {
   "cell_type": "code",
   "execution_count": 24,
   "metadata": {},
   "outputs": [],
   "source": [
    "data_train = data_train.drop(columns=((pass_features(data_full, data_test))-set(['rougher.output.recovery',\n",
    "                                                                                'final.output.recovery'])),axis=1)\n",
    "data_train = data_train.drop(['date'],axis=1)\n",
    "data_test = data_test.drop(['date'],axis=1)"
   ]
  },
  {
   "cell_type": "markdown",
   "metadata": {},
   "source": [
    "теперь в обучающей и тестовой выборке одни и те же признаки"
   ]
  },
  {
   "cell_type": "markdown",
   "metadata": {},
   "source": [
    "<div class=\"alert alert-success\">\n",
    "<h2> Комментарий ревьюера <a class=\"tocSkip\"> </h2>\n",
    "\n",
    "<b>Все отлично!👍:</b> Синхронизировали тренировочную и тестовую выборки по набору признаков - хорошо!\n",
    "</div>"
   ]
  },
  {
   "cell_type": "markdown",
   "metadata": {},
   "source": [
    "### Функция для вычисления итоговой sMAPE"
   ]
  },
  {
   "cell_type": "code",
   "execution_count": 25,
   "metadata": {},
   "outputs": [],
   "source": [
    "def smape(x,y):\n",
    "    a = np.abs(x-y)\n",
    "    b = (np.abs(x)+np.abs(y))/2\n",
    "    z = 1 / len(x) * np.sum(a/b) * 100 \n",
    "    return z\n",
    "\n",
    "def final(target,predict):\n",
    "    target_rougher = target['rougher.output.recovery']\n",
    "    target_final = target['final.output.recovery']\n",
    "    predict_rougher = predict[:,0]\n",
    "    predict_final = predict[:,1]\n",
    "    return  0.25 * smape(target_rougher,predict_rougher) + 0.75 * smape(target_final,predict_final)"
   ]
  },
  {
   "cell_type": "code",
   "execution_count": 26,
   "metadata": {},
   "outputs": [],
   "source": [
    "smape_scorer = make_scorer(final, greater_is_better=False)"
   ]
  },
  {
   "cell_type": "markdown",
   "metadata": {},
   "source": [
    "<div class=\"alert alert-success\">\n",
    "<h2> Комментарий ревьюера <a class=\"tocSkip\"> </h2>\n",
    "\n",
    "<b>Все отлично!👍:</b> Есть функции для частного и взвешенного `sMAPE`, а также пользовательский скорринг для кросс-валидации - супер!\n",
    "</div>"
   ]
  },
  {
   "cell_type": "code",
   "execution_count": 27,
   "metadata": {},
   "outputs": [],
   "source": [
    "features_train = data_train.drop(['rougher.output.recovery','final.output.recovery'], axis=1)\n",
    "target_train = data_train[['rougher.output.recovery','final.output.recovery']]\n",
    "features_test = data_test.drop(['rougher.output.recovery','final.output.recovery'], axis=1)\n",
    "target_test = data_test[['rougher.output.recovery','final.output.recovery']]"
   ]
  },
  {
   "cell_type": "markdown",
   "metadata": {},
   "source": [
    "<div class=\"alert alert-success\">\n",
    "<h2> Комментарий ревьюера <a class=\"tocSkip\"> </h2>\n",
    "\n",
    "<b>Все отлично!👍:</b> Выделили признаки для обучения и целевые признаки - отлично!\n",
    "</div>"
   ]
  },
  {
   "cell_type": "markdown",
   "metadata": {},
   "source": [
    "<div class=\"alert alert-block alert-danger\">\n",
    "<h2> Комментарий ревьюера <a class=\"tocSkip\"></h2>\n",
    "\n",
    "    \n",
    "<b>На доработку❌:</b>\n",
    "Этот раздел неактуален - нужно удалить."
   ]
  },
  {
   "cell_type": "markdown",
   "metadata": {},
   "source": [
    "<div class=\"alert alert-info\">\n",
    "<h2> Комментарий студента <a class=\"tocSkip\"> </h2>\n",
    "\n",
    "Удалил\n",
    " \n",
    "</div>"
   ]
  },
  {
   "cell_type": "markdown",
   "metadata": {},
   "source": [
    "<div class=\"alert alert-success\">\n",
    "<h2> Комментарий ревьюера v.2 <a class=\"tocSkip\"> </h2>\n",
    "\n",
    "<b>Все отлично!👍:</b> Учтено."
   ]
  },
  {
   "cell_type": "markdown",
   "metadata": {},
   "source": [
    "### Через pipeline"
   ]
  },
  {
   "cell_type": "markdown",
   "metadata": {},
   "source": [
    "<div class=\"alert alert-warning\">\n",
    "    <h2> Комментарий ревьюера <a class=\"tocSkip\"> </h2>\n",
    "    \n",
    "<b>Некоторые замечания и рекомендации⚠️:</b>\n",
    "Все библиотеки стоит импортировать в начале проекта - таким образом получатель твоего отчёта сможет узнать о проблемах с его окружением сразу перед работой с проектом, а не посреди или в конце проекта."
   ]
  },
  {
   "cell_type": "markdown",
   "metadata": {},
   "source": [
    "<div class=\"alert alert-info\">\n",
    "<h2> Комментарий студента <a class=\"tocSkip\"> </h2>\n",
    "\n",
    "Добавил в начало\n",
    " \n",
    "</div>"
   ]
  },
  {
   "cell_type": "markdown",
   "metadata": {},
   "source": [
    "<div class=\"alert alert-success\">\n",
    "<h2> Комментарий ревьюера v.2 <a class=\"tocSkip\"> </h2>\n",
    "\n",
    "<b>Все отлично!👍:</b> Учтено."
   ]
  },
  {
   "cell_type": "markdown",
   "metadata": {},
   "source": [
    "#### Lasso"
   ]
  },
  {
   "cell_type": "code",
   "execution_count": 31,
   "metadata": {},
   "outputs": [],
   "source": [
    "pipe_lasso = make_pipeline(StandardScaler(),Lasso(random_state=12345))"
   ]
  },
  {
   "cell_type": "markdown",
   "metadata": {},
   "source": [
    "<div class=\"alert alert-block alert-danger\">\n",
    "<h2> Комментарий ревьюера <a class=\"tocSkip\"></h2>\n",
    "\n",
    "    \n",
    "<b>На доработку❌:</b>\n",
    "\n",
    "При использовании моделей (кроме линейной регрессии) важно настроить параметр `random_state`, чтобы результаты работы над проектом были воспроизводимы при его перезапуске."
   ]
  },
  {
   "cell_type": "markdown",
   "metadata": {},
   "source": [
    "<div class=\"alert alert-info\">\n",
    "<h2> Комментарий студента <a class=\"tocSkip\"> </h2>\n",
    "\n",
    "Добавил\n",
    " \n",
    "</div>"
   ]
  },
  {
   "cell_type": "markdown",
   "metadata": {},
   "source": [
    "<div class=\"alert alert-success\">\n",
    "<h2> Комментарий ревьюера v.2 <a class=\"tocSkip\"> </h2>\n",
    "\n",
    "<b>Все отлично!👍:</b> Учтено."
   ]
  },
  {
   "cell_type": "code",
   "execution_count": 32,
   "metadata": {},
   "outputs": [],
   "source": [
    "pg = {'lasso__alpha':[15,10,7,3,1,0.5,0.1],\n",
    "      'lasso__max_iter':[1000]}"
   ]
  },
  {
   "cell_type": "markdown",
   "metadata": {},
   "source": [
    "<div class=\"alert alert-block alert-danger\">\n",
    "<h2> Комментарий ревьюера <a class=\"tocSkip\"></h2>\n",
    "\n",
    "    \n",
    "<b>На доработку❌:</b>\n",
    "\n",
    "Количество итераций слишком мало - нужно расширить."
   ]
  },
  {
   "cell_type": "markdown",
   "metadata": {},
   "source": [
    "<div class=\"alert alert-info\">\n",
    "<h2> Комментарий студента <a class=\"tocSkip\"> </h2>\n",
    "\n",
    "Расширил до 1к, уменьшал до 100 потому что долго считалось ) \n",
    " \n",
    "</div>"
   ]
  },
  {
   "cell_type": "markdown",
   "metadata": {},
   "source": [
    "<div class=\"alert alert-success\">\n",
    "<h2> Комментарий ревьюера v.2 <a class=\"tocSkip\"> </h2>\n",
    "\n",
    "<b>Все отлично!👍:</b> Учтено."
   ]
  },
  {
   "cell_type": "code",
   "execution_count": 33,
   "metadata": {},
   "outputs": [],
   "source": [
    "search = GridSearchCV(pipe_lasso, pg, cv=5, scoring=smape_scorer)"
   ]
  },
  {
   "cell_type": "code",
   "execution_count": 34,
   "metadata": {},
   "outputs": [
    {
     "name": "stdout",
     "output_type": "stream",
     "text": [
      "Лучшее значение sMAPE для дерева решений: 8.065689083639082 при значениях гиперпараметров: {'lasso__alpha': 0.5, 'lasso__max_iter': 1000}\n",
      "CPU times: user 1min 6s, sys: 3min 38s, total: 4min 44s\n",
      "Wall time: 4min 45s\n"
     ]
    }
   ],
   "source": [
    "%%time\n",
    "search.fit(features_train,target_train)\n",
    "print('Лучшее значение sMAPE для дерева решений: {} при значениях гиперпараметров: {}'.format(-search.best_score_, search.best_params_))"
   ]
  },
  {
   "cell_type": "markdown",
   "metadata": {},
   "source": [
    "Лучшее значение sMAPE для дерева решений: 8.065689083639082 при значениях гиперпараметров:\n",
    "\n",
    "{'lasso__alpha': 0.5, 'lasso__max_iter': 1000}\n",
    "\n",
    "\n",
    "CPU times: user 1min 6s, sys: 3min 38s, total: 4min 44s\n",
    "Wall time: 4min 45s"
   ]
  },
  {
   "cell_type": "markdown",
   "metadata": {},
   "source": [
    "<div class=\"alert alert-success\">\n",
    "    \n",
    "<h2> Комментарий ревьюера <a class=\"tocSkip\"> </h2>\n",
    "\n",
    "<b>Все отлично!👍:</b> Для `Lasso` оптимизировали гиперпараметры и вывели оценку на кросс-валидации.\n",
    "</div>"
   ]
  },
  {
   "cell_type": "markdown",
   "metadata": {},
   "source": [
    "#### RandomForestRegressor"
   ]
  },
  {
   "cell_type": "code",
   "execution_count": 36,
   "metadata": {},
   "outputs": [
    {
     "name": "stdout",
     "output_type": "stream",
     "text": [
      "Лучшее значение sMAPE для RandomForestRegressor: 8.512034774599227 при значениях гиперпараметров: {'randomforestregressor__max_depth': 3, 'randomforestregressor__n_estimators': 20}\n",
      "CPU times: user 5min 47s, sys: 0 ns, total: 5min 47s\n",
      "Wall time: 5min 48s\n"
     ]
    }
   ],
   "source": [
    "%%time\n",
    "pipe_rfr = make_pipeline(StandardScaler(),RandomForestRegressor(random_state=12345))\n",
    "pg = {'randomforestregressor__max_depth':[2,3,4,5,6,7],\n",
    "      'randomforestregressor__n_estimators':[1,5,10,20,30]}\n",
    "search = GridSearchCV(pipe_rfr, pg, cv=5, scoring=smape_scorer)\n",
    "search.fit(features_train, target_train)\n",
    "print('Лучшее значение sMAPE для RandomForestRegressor: {} при значениях гиперпараметров: {}'.format(-search.best_score_, search.best_params_))"
   ]
  },
  {
   "cell_type": "markdown",
   "metadata": {},
   "source": [
    "Лучшее значение sMAPE для дерева решений: 8.547172259522188 при значениях гиперпараметров:\n",
    "\n",
    "{'randomforestregressor__max_depth': 3, 'randomforestregressor__n_estimators': 5}\n",
    "\n",
    "\n",
    "CPU times: user 7min 59s, sys: 0 ns, total: 7min 59s\n",
    "Wall time: 8min 2s"
   ]
  },
  {
   "cell_type": "markdown",
   "metadata": {},
   "source": [
    "<div class=\"alert alert-success\">\n",
    "    \n",
    "<h2> Комментарий ревьюера <a class=\"tocSkip\"> </h2>\n",
    "\n",
    "<b>Все отлично!👍:</b> Для `RandomForestRegressor` оптимизировали гиперпараметры и вывели оценку на кросс-валидации.\n",
    "</div>"
   ]
  },
  {
   "cell_type": "markdown",
   "metadata": {},
   "source": [
    "<div class=\"alert alert-warning\">\n",
    "    <h2> Комментарий ревьюера <a class=\"tocSkip\"> </h2>\n",
    "    \n",
    "<b>Некоторые замечания и рекомендации⚠️:</b> Для гиперпараметра `max_depth` рассматривается очень длинная последовательность: деревья с большой глубиной склонны к переобучению, а обучаются и предсказывают результат они дольше, поэтому делать их слишком глубокими не стоит - оптимальное значение почти всегда лежит в диапазоне от 2 до 5-6. Кроме того, можно попробовать значение `None` - в итоге оптимальная последовательность может выглядеть как `[None] + [i for i in range(2, 7)]`.\n",
    "</div>"
   ]
  },
  {
   "cell_type": "markdown",
   "metadata": {},
   "source": [
    "<div class=\"alert alert-info\">\n",
    "<h2> Комментарий студента <a class=\"tocSkip\"> </h2>\n",
    "\n",
    "Не совсем понял с реализаций. Буду призщнателен за наглядный пример \n",
    " \n",
    "</div>"
   ]
  },
  {
   "cell_type": "markdown",
   "metadata": {},
   "source": [
    "<div class=\"alert alert-warning\">\n",
    "    <h2> Комментарий ревьюера v.2 <a class=\"tocSkip\"> </h2>\n",
    "    \n",
    "<b>Некоторые замечания и рекомендации⚠️:</b> `'max_depth': [None] + [i for i in range(2, 7)]`"
   ]
  },
  {
   "cell_type": "markdown",
   "metadata": {},
   "source": [
    "#### DecisionTreeRegressor"
   ]
  },
  {
   "cell_type": "code",
   "execution_count": 46,
   "metadata": {},
   "outputs": [
    {
     "name": "stdout",
     "output_type": "stream",
     "text": [
      "Лучшее значение sMAPE для DecisionTreeRegressor: 8.747263062525537 при значениях гиперпараметров: {'decisiontreeregressor__max_depth': 3, 'decisiontreeregressor__min_samples_leaf': 1}\n",
      "CPU times: user 46.8 s, sys: 0 ns, total: 46.8 s\n",
      "Wall time: 47.9 s\n"
     ]
    }
   ],
   "source": [
    "%%time\n",
    "pipe_dtr = make_pipeline(StandardScaler(),DecisionTreeRegressor(random_state=12345))\n",
    "pg = {'decisiontreeregressor__max_depth':[1,2,3,4,5,6],\n",
    "      'decisiontreeregressor__min_samples_leaf':[1,2,3,4,5,6]}\n",
    "search = GridSearchCV(pipe_dtr, pg, cv=5, scoring=smape_scorer)\n",
    "search.fit(features_train, target_train)\n",
    "print('Лучшее значение sMAPE для DecisionTreeRegressor: {} при значениях гиперпараметров: {}'.format(-search.best_score_, search.best_params_))"
   ]
  },
  {
   "cell_type": "markdown",
   "metadata": {},
   "source": [
    "Лучшее значение sMAPE для дерева решений: 8.747263062525537 при значениях гиперпараметров:\n",
    "\n",
    "{'decisiontreeregressor__max_depth': 3, 'decisiontreeregressor__min_samples_leaf': 1}\n",
    "\n",
    "\n",
    "CPU times: user 47.2 s, sys: 0 ns, total: 47.2 s\n",
    "Wall time: 47.3 s"
   ]
  },
  {
   "cell_type": "markdown",
   "metadata": {},
   "source": [
    "<div class=\"alert alert-success\">\n",
    "    \n",
    "<h2> Комментарий ревьюера <a class=\"tocSkip\"> </h2>\n",
    "\n",
    "<b>Все отлично!👍:</b> Для `DecisionTreeRegressor` оптимизировали гиперпараметры и вывели оценку на кросс-валидации.\n",
    "</div>"
   ]
  },
  {
   "cell_type": "markdown",
   "metadata": {},
   "source": [
    "#### ElasticNet"
   ]
  },
  {
   "cell_type": "code",
   "execution_count": 38,
   "metadata": {},
   "outputs": [
    {
     "name": "stdout",
     "output_type": "stream",
     "text": [
      "Лучшее значение sMAPE для  ElasticNet: 8.03381698403388 при значениях гиперпараметров: {'elasticnet__alpha': 0.7}\n",
      "CPU times: user 1min 56s, sys: 6min 30s, total: 8min 27s\n",
      "Wall time: 8min 28s\n"
     ]
    }
   ],
   "source": [
    "%%time\n",
    "pipe_en = make_pipeline(StandardScaler(),ElasticNet(random_state=12345))\n",
    "pg = {'elasticnet__alpha':[0.5,0.3,0.7]}\n",
    "search = GridSearchCV(pipe_en, pg, cv=5, scoring=smape_scorer)\n",
    "search.fit(features_train, target_train)\n",
    "print('Лучшее значение sMAPE для  ElasticNet: {} при значениях гиперпараметров: {}'.format(-search.best_score_, search.best_params_))"
   ]
  },
  {
   "cell_type": "markdown",
   "metadata": {},
   "source": [
    "Лучшее значение sMAPE для  ElasticNet: 8.03381698403388 при значениях гиперпараметров:\n",
    "{'elasticnet__alpha': 0.7}\n",
    "\n",
    "\n",
    "CPU times: user 1min 56s, sys: 6min 30s, total: 8min 27s\n",
    "Wall time: 8min 28s"
   ]
  },
  {
   "cell_type": "markdown",
   "metadata": {},
   "source": [
    "<div class=\"alert alert-success\">\n",
    "    \n",
    "<h2> Комментарий ревьюера <a class=\"tocSkip\"> </h2>\n",
    "\n",
    "<b>Все отлично!👍:</b> Для `ElasticNet` оптимизировали гиперпараметры и вывели оценку на кросс-валидации.\n",
    "</div>"
   ]
  },
  {
   "cell_type": "markdown",
   "metadata": {},
   "source": [
    "Проверим модель на константной модели"
   ]
  },
  {
   "cell_type": "code",
   "execution_count": 41,
   "metadata": {},
   "outputs": [
    {
     "name": "stdout",
     "output_type": "stream",
     "text": [
      "sMAPE для конст.модели:  8.471360971505119\n"
     ]
    }
   ],
   "source": [
    "dummy = DummyRegressor(strategy='mean')\n",
    "dummy.fit(features_train, target_train)\n",
    "dummy_pred = dummy.predict(features_test)\n",
    "print('sMAPE для конст.модели: ', final(target_test,dummy_pred))"
   ]
  },
  {
   "cell_type": "code",
   "execution_count": 45,
   "metadata": {},
   "outputs": [
    {
     "name": "stdout",
     "output_type": "stream",
     "text": [
      "sMAPE для выбранной модели:  7.1324550099196715\n"
     ]
    }
   ],
   "source": [
    "model_final = ElasticNet(random_state=12345, alpha=0.7)\n",
    "model_final.fit(features_train, target_train)\n",
    "model_final_pr = model_final.predict(features_test)\n",
    "print('sMAPE для выбранной модели: ', final(target_test,model_final_pr))"
   ]
  },
  {
   "cell_type": "markdown",
   "metadata": {},
   "source": [
    "### Выводы:\n",
    "* Лучшее значение sMAPE для  ElasticNet: 8.03381698403388 при значениях гиперпараметров: {'elasticnet__alpha': 0.7}\n",
    "* sMAPE для тестовых данных: 7.1324550099196715\n",
    "\n"
   ]
  },
  {
   "cell_type": "markdown",
   "metadata": {},
   "source": [
    "<div class=\"alert alert-success\">\n",
    "    \n",
    "<h2> Комментарий ревьюера <a class=\"tocSkip\"> </h2>\n",
    "\n",
    "<b>Все отлично!👍:</b> Выбрали лучшую модель - отлично!"
   ]
  },
  {
   "cell_type": "markdown",
   "metadata": {},
   "source": [
    "<div class=\"alert alert-block alert-danger\">\n",
    "<h2> Комментарий ревьюера <a class=\"tocSkip\"></h2>\n",
    "\n",
    "    \n",
    "<b>На доработку❌:</b>\n",
    "\n",
    "1. Лучшую по итогу промежуточной оценки модель нужно оценить на `test`. \n",
    "    \n",
    "2. Очень важно также проверить лучшую модель на адекватность, сравнив качество её предсказаний с качеством модели, которая предсказывала бы константу - вдруг окажется, что не было бы большого смысла заниматься созданием новых признаков, тюнингом и кросс-валидацией моделей, если можно было бы просто предсказывать среднее значение тренировочной выборки? \n",
    "    \n",
    "    В качестве константной модели можно использовать `DummyRegressor` (https://scikit-learn.org/stable/modules/generated/sklearn.dummy.DummyRegressor.html) -  эта модель как раз создана для генерирования константных предсказаний.\n",
    "    \n",
    "    Важно, чтобы результат тестирования нашей модели на тествой выборке был лучше, чем результат константной модели - в противном случае наша модель является бесполезной, так как все наши усилия над проектом не принесли результата, а можель, просто предсказывющая среднее на `train`, делает нашу работу лучше."
   ]
  },
  {
   "cell_type": "markdown",
   "metadata": {},
   "source": [
    "<div class=\"alert alert-info\">\n",
    "<h2> Комментарий студента <a class=\"tocSkip\"> </h2>\n",
    "\n",
    "Проверку провел, вроде все замечания исправлены. \n",
    " \n",
    "</div>"
   ]
  },
  {
   "cell_type": "markdown",
   "metadata": {},
   "source": [
    "<div class=\"alert alert-success\">\n",
    "<h2> Комментарий ревьюера v.2 <a class=\"tocSkip\"> </h2>\n",
    "\n",
    "<b>Все отлично!👍:</b> Учтено."
   ]
  },
  {
   "cell_type": "markdown",
   "metadata": {},
   "source": [
    "## Общий вывод:\n",
    "\n",
    "Вывод:\n",
    "* Нам предоставленно 3 датасета, разной размерности\n",
    "* Драг металлы: au - золото, ag - серебро, pb - паладий\n",
    "* В данных есть пропуски в некоторых случаях до 9%\n",
    "* Все данные представленны типа float, за исключением даты ее необходимо конвертировать в формат pandas\n",
    "* Кол-во колонок одинаково в data_train и data_full составляют 87, кол-во колонок в тесет составляет 53\n",
    "\n",
    "\n",
    "Вывод по расчеты recovery:\n",
    "* Расчитанная возвратность и предосталенная различаються на 9.83758577644259e-15, что крайне мало и можем считать что расчет рекавери предоставлен верно.\n",
    "\n",
    "Вывод по отсутствующим признакам:\n",
    "* В тестовой выборке отсутствуют 34 параметра\n",
    "* 4 признака расчетных:\n",
    " - 'rougher.calculation.au_pb_ratio',\n",
    " - 'rougher.calculation.floatbank10_sulfate_to_au_feed',\n",
    " - 'rougher.calculation.floatbank11_sulfate_to_au_feed',\n",
    " - 'rougher.calculation.sulfate_to_au_concentrate'\n",
    "* 30 признаков которые относятся к параметрам продукта:\n",
    " - 'final.output.concentrate_ag'\n",
    " - 'final.output.concentrate_au'\n",
    " - 'final.output.concentrate_pb'\n",
    " - 'final.output.concentrate_sol'\n",
    " - 'final.output.recovery' **Target**\n",
    " - 'final.output.tail_ag'\n",
    " - 'final.output.tail_au'\n",
    " - 'final.output.tail_pb'\n",
    " - 'final.output.tail_sol'\n",
    " - 'primary_cleaner.output.concentrate_ag'\n",
    " - 'primary_cleaner.output.concentrate_au'\n",
    " - 'primary_cleaner.output.concentrate_pb'\n",
    " - 'primary_cleaner.output.concentrate_sol'\n",
    " - 'primary_cleaner.output.tail_ag'\n",
    " - 'primary_cleaner.output.tail_au'\n",
    " - 'primary_cleaner.output.tail_pb'\n",
    " - 'primary_cleaner.output.tail_sol'\n",
    " - rougher.calculation.au_pb_ratio'\n",
    " - 'rougher.calculation.floatbank10_sulfate_to_au_feed'\n",
    " - 'rougher.calculation.floatbank11_sulfate_to_au_feed'\n",
    " - 'rougher.calculation.sulfate_to_au_concentrate'\n",
    " - 'rougher.output.concentrate_ag'\n",
    " - 'rougher.output.concentrate_au'\n",
    " - 'rougher.output.concentrate_pb'\n",
    " - 'rougher.output.concentrate_sol'\n",
    " - 'rougher.output.recovery' **Target**\n",
    " - 'rougher.output.tail_ag'\n",
    " - 'rougher.output.tail_au'\n",
    " - 'rougher.output.tail_pb'\n",
    " - 'rougher.output.tail_sol'\n",
    " - 'secondary_cleaner.output.tail_ag'\n",
    " - 'secondary_cleaner.output.tail_au'\n",
    " - 'secondary_cleaner.output.tail_pb'\n",
    " - 'secondary_cleaner.output.tail_sol'\n",
    " \n",
    " \n",
    "Вывод:\n",
    "* Добавлеены целевые признаки\n",
    "* Пропуски заменены на значения из предыдуших строк т.к. в условии сказано что значения зависит от времени\n",
    "\n",
    "\n",
    "\n",
    "Выводы:\n",
    " Лучшее значение sMAPE для  ElasticNet: 8.03381698403388 при значениях гиперпараметров: {'elasticnet__alpha': 0.7}\n",
    "* sMAPE для тестовых данных: 7.1324550099196715\n",
    "\n"
   ]
  },
  {
   "cell_type": "markdown",
   "metadata": {},
   "source": [
    "<div class=\"alert alert-success\">\n",
    "<h2> Комментарий ревьюера <a class=\"tocSkip\"> </h2>\n",
    "\n",
    "<b>Все отлично!👍:</b> Отличный итоговый вывод по проекту!"
   ]
  },
  {
   "cell_type": "markdown",
   "metadata": {},
   "source": [
    "<div style=\"border:solid Chocolate 2px; padding: 40px\">\n",
    "\n",
    "# Комментарий ревьюера: общий вывод по проекту.\n",
    "\n",
    "Дмитрий, проект получился на довольно хорошем уровне - отличная работа над проектом, молодец!\n",
    "\n",
    "Мне нравится твой аналитический подход к выполнению проекта, ты соблюдаешь структуру работы, выполняешь её последовательно - это очень хорошо! Шаги проекта выполнены по порядку согласно плану проекта, нет смысловых и структурных ям. Важно, что не забываешь про выводы.\n",
    "    \n",
    "Работа с моделями также выполнена отлично: исследовано несколько алгоритмов, проведён подбор гиперпараметров с помощью `GridSearchCV`, выполнена промежуточная оценка моделей на кросс-валидации - молодец!\n",
    "    \n",
    "Над проектом ещё стоит поработать - есть рекомендации по дополнению некоторых твоих шагов проекта. Такие рекомендации я отметил жёлтыми комментариями. Будет здорово, если ты учтёшь их - так проект станет структурно и содержательно более совершенным.\n",
    "    \n",
    "Также в работе есть критические замечания. К этим замечаниям я оставил пояснительные комментарии красного цвета, в которых перечислил возможные варианты дальнейших действий. Уверен, ты быстро с этим управишься:)\n",
    "    \n",
    "Если о том, что нужно сделать в рамках комментариев, будут возникать вопросы - оставь их, пожалуйста, в комментариях, и я отвечу на них во время следующего ревью.\n",
    "    \n",
    "Также буду рад ответить на любые твои вопросы по проекту или на какие-либо другие, если они у тебя имеются - оставь их в комментариях, и я постараюсь ответить:)\n",
    "    \n",
    "Жду твой проект на повторном ревью. До встречи:)"
   ]
  },
  {
   "cell_type": "markdown",
   "metadata": {},
   "source": [
    "<div style=\"border:solid Chocolate 2px; padding: 40px\">\n",
    "\n",
    "# Комментарий ревьюера: общий вывод по проекту v.2.\n",
    "\n",
    "Дмитрий, все замечания учтены - проект принят!\n",
    "    \n",
    "Спасибо за хорошую работу над проектом, желаю успехов в дальнейшем обучении:)"
   ]
  }
 ],
 "metadata": {
  "ExecuteTimeLog": [
   {
    "duration": 435,
    "start_time": "2023-08-02T10:59:24.118Z"
   },
   {
    "duration": 401,
    "start_time": "2023-08-02T11:00:36.504Z"
   },
   {
    "duration": 60,
    "start_time": "2023-08-02T11:01:03.928Z"
   },
   {
    "duration": 1975,
    "start_time": "2023-08-02T11:01:37.538Z"
   },
   {
    "duration": 743,
    "start_time": "2023-08-02T11:01:55.080Z"
   },
   {
    "duration": 5,
    "start_time": "2023-08-02T11:02:26.954Z"
   },
   {
    "duration": 7451,
    "start_time": "2023-08-02T11:02:39.636Z"
   },
   {
    "duration": 4,
    "start_time": "2023-08-02T11:03:12.024Z"
   },
   {
    "duration": 7781,
    "start_time": "2023-08-02T11:03:14.209Z"
   },
   {
    "duration": 0,
    "start_time": "2023-08-02T11:05:07.682Z"
   },
   {
    "duration": 0,
    "start_time": "2023-08-02T11:05:07.683Z"
   },
   {
    "duration": 543,
    "start_time": "2023-08-02T11:05:14.854Z"
   },
   {
    "duration": 481,
    "start_time": "2023-08-02T11:05:34.661Z"
   },
   {
    "duration": 15350,
    "start_time": "2023-08-02T11:05:43.682Z"
   },
   {
    "duration": 0,
    "start_time": "2023-08-02T11:05:59.034Z"
   },
   {
    "duration": 7469,
    "start_time": "2023-08-02T11:06:33.421Z"
   },
   {
    "duration": 4,
    "start_time": "2023-08-02T11:06:52.558Z"
   },
   {
    "duration": 7935,
    "start_time": "2023-08-02T11:06:55.233Z"
   },
   {
    "duration": 7907,
    "start_time": "2023-08-02T11:07:27.716Z"
   },
   {
    "duration": 745,
    "start_time": "2023-08-02T11:07:43.960Z"
   },
   {
    "duration": 37295,
    "start_time": "2023-08-02T11:07:47.422Z"
   },
   {
    "duration": 37,
    "start_time": "2023-08-02T11:09:47.335Z"
   },
   {
    "duration": 136,
    "start_time": "2023-08-02T11:27:43.435Z"
   },
   {
    "duration": 302,
    "start_time": "2023-08-02T11:28:00.561Z"
   },
   {
    "duration": 5385,
    "start_time": "2023-08-02T11:29:04.359Z"
   },
   {
    "duration": 1306,
    "start_time": "2023-08-02T11:29:19.395Z"
   },
   {
    "duration": 695,
    "start_time": "2023-08-02T11:30:56.410Z"
   },
   {
    "duration": 233,
    "start_time": "2023-08-02T11:31:17.707Z"
   },
   {
    "duration": 60878,
    "start_time": "2023-08-02T11:31:22.150Z"
   },
   {
    "duration": 398,
    "start_time": "2023-08-02T11:32:39.159Z"
   },
   {
    "duration": 4,
    "start_time": "2023-08-02T11:33:56.528Z"
   },
   {
    "duration": 822,
    "start_time": "2023-08-02T11:34:44.739Z"
   },
   {
    "duration": 17928,
    "start_time": "2023-08-02T11:34:49.942Z"
   },
   {
    "duration": 1421,
    "start_time": "2023-08-02T11:40:18.811Z"
   },
   {
    "duration": 2428,
    "start_time": "2023-08-02T11:41:19.933Z"
   },
   {
    "duration": 47,
    "start_time": "2023-08-02T11:46:03.440Z"
   },
   {
    "duration": 3666,
    "start_time": "2023-08-02T11:46:10.221Z"
   },
   {
    "duration": 3715,
    "start_time": "2023-08-02T11:46:13.889Z"
   },
   {
    "duration": 5,
    "start_time": "2023-08-02T11:46:17.605Z"
   },
   {
    "duration": 189,
    "start_time": "2023-08-02T11:46:17.612Z"
   },
   {
    "duration": 47,
    "start_time": "2023-08-02T11:51:47.082Z"
   },
   {
    "duration": 1072,
    "start_time": "2023-08-02T11:51:54.536Z"
   },
   {
    "duration": 2011,
    "start_time": "2023-08-02T11:52:00.695Z"
   },
   {
    "duration": 5,
    "start_time": "2023-08-02T11:52:02.708Z"
   },
   {
    "duration": 1235,
    "start_time": "2023-08-02T11:53:18.289Z"
   },
   {
    "duration": 786,
    "start_time": "2023-08-02T11:53:19.526Z"
   },
   {
    "duration": 8,
    "start_time": "2023-08-02T11:53:20.313Z"
   },
   {
    "duration": 684,
    "start_time": "2023-08-02T11:53:20.323Z"
   },
   {
    "duration": 246,
    "start_time": "2023-08-02T11:53:21.009Z"
   },
   {
    "duration": 717,
    "start_time": "2023-08-02T11:53:21.257Z"
   },
   {
    "duration": 4,
    "start_time": "2023-08-02T11:53:38.803Z"
   },
   {
    "duration": 590,
    "start_time": "2023-08-02T11:53:39.196Z"
   },
   {
    "duration": 175,
    "start_time": "2023-08-02T11:53:39.788Z"
   },
   {
    "duration": 661,
    "start_time": "2023-08-02T11:53:39.978Z"
   },
   {
    "duration": 3,
    "start_time": "2023-08-02T12:18:12.379Z"
   },
   {
    "duration": 3,
    "start_time": "2023-08-02T12:18:26.755Z"
   },
   {
    "duration": 594,
    "start_time": "2023-08-02T12:18:27.779Z"
   },
   {
    "duration": 10,
    "start_time": "2023-08-03T09:18:15.164Z"
   },
   {
    "duration": 46,
    "start_time": "2023-08-03T09:18:16.901Z"
   },
   {
    "duration": 1544,
    "start_time": "2023-08-03T09:18:22.740Z"
   },
   {
    "duration": 3509,
    "start_time": "2023-08-03T09:18:24.287Z"
   },
   {
    "duration": 4,
    "start_time": "2023-08-03T09:18:27.798Z"
   },
   {
    "duration": 679,
    "start_time": "2023-08-03T09:18:27.803Z"
   },
   {
    "duration": 234,
    "start_time": "2023-08-03T09:18:28.484Z"
   },
   {
    "duration": 748,
    "start_time": "2023-08-03T09:18:28.720Z"
   },
   {
    "duration": 5,
    "start_time": "2023-08-03T09:19:24.418Z"
   },
   {
    "duration": 4,
    "start_time": "2023-08-03T09:19:29.152Z"
   },
   {
    "duration": 674,
    "start_time": "2023-08-03T09:19:29.959Z"
   },
   {
    "duration": 824,
    "start_time": "2023-08-03T09:48:37.920Z"
   },
   {
    "duration": 655,
    "start_time": "2023-08-03T09:48:38.746Z"
   },
   {
    "duration": 192,
    "start_time": "2023-08-03T09:48:43.417Z"
   },
   {
    "duration": 16,
    "start_time": "2023-08-03T09:50:19.988Z"
   },
   {
    "duration": 27,
    "start_time": "2023-08-03T09:50:36.970Z"
   },
   {
    "duration": 14,
    "start_time": "2023-08-03T09:50:54.344Z"
   },
   {
    "duration": 9,
    "start_time": "2023-08-03T09:52:18.501Z"
   },
   {
    "duration": 30,
    "start_time": "2023-08-03T09:52:28.632Z"
   },
   {
    "duration": 27,
    "start_time": "2023-08-03T10:27:11.174Z"
   },
   {
    "duration": 16,
    "start_time": "2023-08-03T10:27:28.795Z"
   },
   {
    "duration": 24,
    "start_time": "2023-08-03T10:27:36.127Z"
   },
   {
    "duration": 130,
    "start_time": "2023-08-03T10:28:55.377Z"
   },
   {
    "duration": 11,
    "start_time": "2023-08-03T10:29:04.867Z"
   },
   {
    "duration": 6,
    "start_time": "2023-08-03T10:29:08.520Z"
   },
   {
    "duration": 8,
    "start_time": "2023-08-03T10:29:23.266Z"
   },
   {
    "duration": 11,
    "start_time": "2023-08-03T10:29:37.354Z"
   },
   {
    "duration": 10,
    "start_time": "2023-08-03T10:29:44.518Z"
   },
   {
    "duration": 10,
    "start_time": "2023-08-03T10:31:00.141Z"
   },
   {
    "duration": 11,
    "start_time": "2023-08-03T10:31:22.929Z"
   },
   {
    "duration": 14,
    "start_time": "2023-08-03T10:31:33.113Z"
   },
   {
    "duration": 5,
    "start_time": "2023-08-03T10:32:06.680Z"
   },
   {
    "duration": 11,
    "start_time": "2023-08-03T10:32:12.545Z"
   },
   {
    "duration": 9,
    "start_time": "2023-08-03T10:32:20.469Z"
   },
   {
    "duration": 9,
    "start_time": "2023-08-03T10:32:24.297Z"
   },
   {
    "duration": 70,
    "start_time": "2023-08-03T10:33:12.183Z"
   },
   {
    "duration": 69,
    "start_time": "2023-08-03T10:33:16.008Z"
   },
   {
    "duration": 7,
    "start_time": "2023-08-03T10:33:25.455Z"
   },
   {
    "duration": 25,
    "start_time": "2023-08-03T10:34:00.240Z"
   },
   {
    "duration": 24,
    "start_time": "2023-08-03T10:34:08.951Z"
   },
   {
    "duration": 1302,
    "start_time": "2023-08-03T10:35:41.451Z"
   },
   {
    "duration": 865,
    "start_time": "2023-08-03T10:35:42.756Z"
   },
   {
    "duration": 809,
    "start_time": "2023-08-03T10:35:43.624Z"
   },
   {
    "duration": 250,
    "start_time": "2023-08-03T10:35:44.435Z"
   },
   {
    "duration": 760,
    "start_time": "2023-08-03T10:35:44.687Z"
   },
   {
    "duration": 22,
    "start_time": "2023-08-03T10:35:45.449Z"
   },
   {
    "duration": 37,
    "start_time": "2023-08-03T10:35:45.473Z"
   },
   {
    "duration": 12,
    "start_time": "2023-08-03T10:35:45.512Z"
   },
   {
    "duration": 9,
    "start_time": "2023-08-03T10:35:45.526Z"
   },
   {
    "duration": 43,
    "start_time": "2023-08-03T10:35:45.537Z"
   },
   {
    "duration": 4,
    "start_time": "2023-08-03T10:39:18.363Z"
   },
   {
    "duration": 107,
    "start_time": "2023-08-03T10:39:44.393Z"
   },
   {
    "duration": 63,
    "start_time": "2023-08-03T10:40:02.429Z"
   },
   {
    "duration": 7,
    "start_time": "2023-08-03T10:40:19.432Z"
   },
   {
    "duration": 19,
    "start_time": "2023-08-03T10:40:49.197Z"
   },
   {
    "duration": 8,
    "start_time": "2023-08-03T10:40:51.107Z"
   },
   {
    "duration": 15,
    "start_time": "2023-08-03T10:41:17.680Z"
   },
   {
    "duration": 14,
    "start_time": "2023-08-03T10:41:20.426Z"
   },
   {
    "duration": 20,
    "start_time": "2023-08-03T10:41:25.038Z"
   },
   {
    "duration": 22,
    "start_time": "2023-08-03T10:41:28.745Z"
   },
   {
    "duration": 4,
    "start_time": "2023-08-03T10:41:54.529Z"
   },
   {
    "duration": 39,
    "start_time": "2023-08-03T10:41:54.945Z"
   },
   {
    "duration": 4,
    "start_time": "2023-08-03T10:42:07.387Z"
   },
   {
    "duration": 18,
    "start_time": "2023-08-03T10:42:07.877Z"
   },
   {
    "duration": 46,
    "start_time": "2023-08-03T10:57:01.255Z"
   },
   {
    "duration": 47,
    "start_time": "2023-08-03T10:57:54.955Z"
   },
   {
    "duration": 35,
    "start_time": "2023-08-03T10:58:11.295Z"
   },
   {
    "duration": 3,
    "start_time": "2023-08-03T10:58:36.271Z"
   },
   {
    "duration": 39,
    "start_time": "2023-08-03T10:58:36.687Z"
   },
   {
    "duration": 3,
    "start_time": "2023-08-03T10:58:48.437Z"
   },
   {
    "duration": 40,
    "start_time": "2023-08-03T10:58:48.781Z"
   },
   {
    "duration": 1296,
    "start_time": "2023-08-03T10:58:53.800Z"
   },
   {
    "duration": 843,
    "start_time": "2023-08-03T10:58:55.098Z"
   },
   {
    "duration": 683,
    "start_time": "2023-08-03T10:58:55.943Z"
   },
   {
    "duration": 220,
    "start_time": "2023-08-03T10:58:56.628Z"
   },
   {
    "duration": 755,
    "start_time": "2023-08-03T10:58:56.875Z"
   },
   {
    "duration": 14,
    "start_time": "2023-08-03T10:58:57.632Z"
   },
   {
    "duration": 19,
    "start_time": "2023-08-03T10:58:57.647Z"
   },
   {
    "duration": 39,
    "start_time": "2023-08-03T10:58:57.668Z"
   },
   {
    "duration": 6,
    "start_time": "2023-08-03T11:02:56.000Z"
   },
   {
    "duration": 10,
    "start_time": "2023-08-03T11:03:04.437Z"
   },
   {
    "duration": 334,
    "start_time": "2023-08-03T11:04:14.029Z"
   },
   {
    "duration": 76,
    "start_time": "2023-08-03T11:04:17.070Z"
   },
   {
    "duration": 10,
    "start_time": "2023-08-03T11:04:32.202Z"
   },
   {
    "duration": 4,
    "start_time": "2023-08-03T11:05:57.442Z"
   },
   {
    "duration": 8,
    "start_time": "2023-08-03T11:06:02.647Z"
   },
   {
    "duration": 4,
    "start_time": "2023-08-03T11:08:44.326Z"
   },
   {
    "duration": 5,
    "start_time": "2023-08-03T11:08:51.272Z"
   },
   {
    "duration": 5,
    "start_time": "2023-08-03T11:09:03.632Z"
   },
   {
    "duration": 7,
    "start_time": "2023-08-03T11:09:12.414Z"
   },
   {
    "duration": 6,
    "start_time": "2023-08-03T11:09:41.659Z"
   },
   {
    "duration": 8,
    "start_time": "2023-08-03T11:12:05.753Z"
   },
   {
    "duration": 1635,
    "start_time": "2023-08-03T11:12:21.511Z"
   },
   {
    "duration": 919,
    "start_time": "2023-08-03T11:12:23.149Z"
   },
   {
    "duration": 822,
    "start_time": "2023-08-03T11:12:24.070Z"
   },
   {
    "duration": 260,
    "start_time": "2023-08-03T11:12:24.895Z"
   },
   {
    "duration": 852,
    "start_time": "2023-08-03T11:12:25.185Z"
   },
   {
    "duration": 35,
    "start_time": "2023-08-03T11:12:26.039Z"
   },
   {
    "duration": 22,
    "start_time": "2023-08-03T11:12:26.077Z"
   },
   {
    "duration": 60,
    "start_time": "2023-08-03T11:12:26.101Z"
   },
   {
    "duration": 10,
    "start_time": "2023-08-03T11:12:26.163Z"
   },
   {
    "duration": 35,
    "start_time": "2023-08-03T11:12:26.175Z"
   },
   {
    "duration": 11,
    "start_time": "2023-08-03T11:27:14.581Z"
   },
   {
    "duration": 6,
    "start_time": "2023-08-03T11:27:20.200Z"
   },
   {
    "duration": 1626,
    "start_time": "2023-08-03T11:27:32.610Z"
   },
   {
    "duration": 839,
    "start_time": "2023-08-03T11:27:34.239Z"
   },
   {
    "duration": 664,
    "start_time": "2023-08-03T11:27:35.081Z"
   },
   {
    "duration": 239,
    "start_time": "2023-08-03T11:27:35.747Z"
   },
   {
    "duration": 726,
    "start_time": "2023-08-03T11:27:35.988Z"
   },
   {
    "duration": 14,
    "start_time": "2023-08-03T11:27:36.716Z"
   },
   {
    "duration": 23,
    "start_time": "2023-08-03T11:27:36.732Z"
   },
   {
    "duration": 52,
    "start_time": "2023-08-03T11:27:36.757Z"
   },
   {
    "duration": 7,
    "start_time": "2023-08-03T11:27:36.811Z"
   },
   {
    "duration": 14,
    "start_time": "2023-08-03T11:27:36.820Z"
   },
   {
    "duration": 25,
    "start_time": "2023-08-03T11:27:36.836Z"
   },
   {
    "duration": 3614,
    "start_time": "2023-08-03T11:30:34.378Z"
   },
   {
    "duration": 3463,
    "start_time": "2023-08-03T11:31:14.574Z"
   },
   {
    "duration": 838,
    "start_time": "2023-08-03T11:34:27.205Z"
   },
   {
    "duration": 9,
    "start_time": "2023-08-03T11:34:58.140Z"
   },
   {
    "duration": 1299,
    "start_time": "2023-08-03T11:34:58.578Z"
   },
   {
    "duration": 40,
    "start_time": "2023-08-03T11:35:28.835Z"
   },
   {
    "duration": 49,
    "start_time": "2023-08-04T10:56:51.006Z"
   },
   {
    "duration": 1743,
    "start_time": "2023-08-04T10:56:58.107Z"
   },
   {
    "duration": 2070,
    "start_time": "2023-08-04T10:56:59.852Z"
   },
   {
    "duration": 569,
    "start_time": "2023-08-04T10:57:01.924Z"
   },
   {
    "duration": 215,
    "start_time": "2023-08-04T10:57:02.495Z"
   },
   {
    "duration": 609,
    "start_time": "2023-08-04T10:57:02.712Z"
   },
   {
    "duration": 11,
    "start_time": "2023-08-04T10:57:03.323Z"
   },
   {
    "duration": 45,
    "start_time": "2023-08-04T10:57:03.336Z"
   },
   {
    "duration": 62,
    "start_time": "2023-08-04T10:57:03.382Z"
   },
   {
    "duration": 8,
    "start_time": "2023-08-04T10:57:03.445Z"
   },
   {
    "duration": 18,
    "start_time": "2023-08-04T10:57:03.454Z"
   },
   {
    "duration": 34,
    "start_time": "2023-08-04T10:57:03.474Z"
   },
   {
    "duration": 2821,
    "start_time": "2023-08-04T10:57:03.510Z"
   },
   {
    "duration": 478,
    "start_time": "2023-08-04T10:57:06.332Z"
   },
   {
    "duration": 8,
    "start_time": "2023-08-04T10:57:06.814Z"
   },
   {
    "duration": 1171,
    "start_time": "2023-08-04T10:57:06.824Z"
   },
   {
    "duration": 21,
    "start_time": "2023-08-04T10:57:07.997Z"
   },
   {
    "duration": 473,
    "start_time": "2023-08-04T11:10:35.896Z"
   },
   {
    "duration": 29,
    "start_time": "2023-08-04T11:16:34.710Z"
   },
   {
    "duration": 1297,
    "start_time": "2023-08-04T11:16:36.060Z"
   },
   {
    "duration": 9,
    "start_time": "2023-08-04T11:16:48.648Z"
   },
   {
    "duration": 1089,
    "start_time": "2023-08-04T11:16:49.652Z"
   },
   {
    "duration": 113,
    "start_time": "2023-08-04T11:27:27.297Z"
   },
   {
    "duration": 12,
    "start_time": "2023-08-04T11:27:30.410Z"
   },
   {
    "duration": 4,
    "start_time": "2023-08-04T11:27:45.546Z"
   },
   {
    "duration": 11,
    "start_time": "2023-08-04T11:27:46.779Z"
   },
   {
    "duration": 16,
    "start_time": "2023-08-04T11:28:01.376Z"
   },
   {
    "duration": 17,
    "start_time": "2023-08-04T11:28:17.767Z"
   },
   {
    "duration": 3,
    "start_time": "2023-08-04T11:28:20.365Z"
   },
   {
    "duration": 13,
    "start_time": "2023-08-04T11:28:20.730Z"
   },
   {
    "duration": 1455,
    "start_time": "2023-08-04T11:28:39.430Z"
   },
   {
    "duration": 692,
    "start_time": "2023-08-04T11:28:40.887Z"
   },
   {
    "duration": 575,
    "start_time": "2023-08-04T11:28:41.580Z"
   },
   {
    "duration": 182,
    "start_time": "2023-08-04T11:28:42.157Z"
   },
   {
    "duration": 641,
    "start_time": "2023-08-04T11:28:42.341Z"
   },
   {
    "duration": 13,
    "start_time": "2023-08-04T11:28:42.984Z"
   },
   {
    "duration": 52,
    "start_time": "2023-08-04T11:28:42.999Z"
   },
   {
    "duration": 103,
    "start_time": "2023-08-04T11:28:43.052Z"
   },
   {
    "duration": 39,
    "start_time": "2023-08-04T11:28:43.157Z"
   },
   {
    "duration": 48,
    "start_time": "2023-08-04T11:28:43.198Z"
   },
   {
    "duration": 32,
    "start_time": "2023-08-04T11:28:43.247Z"
   },
   {
    "duration": 2891,
    "start_time": "2023-08-04T11:28:43.280Z"
   },
   {
    "duration": 468,
    "start_time": "2023-08-04T11:28:46.174Z"
   },
   {
    "duration": 7,
    "start_time": "2023-08-04T11:28:46.646Z"
   },
   {
    "duration": 1159,
    "start_time": "2023-08-04T11:28:46.655Z"
   },
   {
    "duration": 3,
    "start_time": "2023-08-04T11:28:47.816Z"
   },
   {
    "duration": 17,
    "start_time": "2023-08-04T11:28:47.821Z"
   },
   {
    "duration": 39,
    "start_time": "2023-08-04T11:28:47.839Z"
   },
   {
    "duration": 13,
    "start_time": "2023-08-04T11:29:09.014Z"
   },
   {
    "duration": 102,
    "start_time": "2023-08-04T11:30:51.274Z"
   },
   {
    "duration": 1706,
    "start_time": "2023-08-04T11:31:36.560Z"
   },
   {
    "duration": 2326,
    "start_time": "2023-08-04T11:32:20.086Z"
   },
   {
    "duration": 1067,
    "start_time": "2023-08-04T11:32:22.564Z"
   },
   {
    "duration": 2634,
    "start_time": "2023-08-04T11:32:23.984Z"
   },
   {
    "duration": 0,
    "start_time": "2023-08-04T11:32:26.620Z"
   },
   {
    "duration": 3626,
    "start_time": "2023-08-04T11:32:56.935Z"
   },
   {
    "duration": 1466,
    "start_time": "2023-08-04T11:33:12.031Z"
   },
   {
    "duration": 775,
    "start_time": "2023-08-04T11:33:13.499Z"
   },
   {
    "duration": 656,
    "start_time": "2023-08-04T11:33:14.276Z"
   },
   {
    "duration": 239,
    "start_time": "2023-08-04T11:33:14.934Z"
   },
   {
    "duration": 716,
    "start_time": "2023-08-04T11:33:15.176Z"
   },
   {
    "duration": 15,
    "start_time": "2023-08-04T11:33:15.894Z"
   },
   {
    "duration": 40,
    "start_time": "2023-08-04T11:33:15.912Z"
   },
   {
    "duration": 60,
    "start_time": "2023-08-04T11:33:15.954Z"
   },
   {
    "duration": 7,
    "start_time": "2023-08-04T11:33:16.015Z"
   },
   {
    "duration": 32,
    "start_time": "2023-08-04T11:33:16.024Z"
   },
   {
    "duration": 37,
    "start_time": "2023-08-04T11:33:16.058Z"
   },
   {
    "duration": 2948,
    "start_time": "2023-08-04T11:33:16.097Z"
   },
   {
    "duration": 508,
    "start_time": "2023-08-04T11:33:19.047Z"
   },
   {
    "duration": 6,
    "start_time": "2023-08-04T11:33:19.558Z"
   },
   {
    "duration": 1246,
    "start_time": "2023-08-04T11:33:19.566Z"
   },
   {
    "duration": 2,
    "start_time": "2023-08-04T11:33:20.814Z"
   },
   {
    "duration": 26,
    "start_time": "2023-08-04T11:33:20.818Z"
   },
   {
    "duration": 3007,
    "start_time": "2023-08-04T11:33:20.847Z"
   },
   {
    "duration": 2472,
    "start_time": "2023-08-04T11:34:49.115Z"
   },
   {
    "duration": 3161,
    "start_time": "2023-08-04T11:35:43.393Z"
   },
   {
    "duration": 2370,
    "start_time": "2023-08-04T11:36:08.806Z"
   },
   {
    "duration": 3121,
    "start_time": "2023-08-04T11:36:36.576Z"
   },
   {
    "duration": 23,
    "start_time": "2023-08-04T11:37:05.730Z"
   },
   {
    "duration": 9,
    "start_time": "2023-08-04T11:37:28.899Z"
   },
   {
    "duration": 3612,
    "start_time": "2023-08-04T11:37:51.637Z"
   },
   {
    "duration": 3714,
    "start_time": "2023-08-04T11:38:04.150Z"
   },
   {
    "duration": 3,
    "start_time": "2023-08-04T11:39:03.663Z"
   },
   {
    "duration": 5861,
    "start_time": "2023-08-04T11:39:51.800Z"
   },
   {
    "duration": 1999,
    "start_time": "2023-08-04T11:41:13.603Z"
   },
   {
    "duration": 2068,
    "start_time": "2023-08-04T11:41:25.675Z"
   },
   {
    "duration": 5,
    "start_time": "2023-08-04T11:43:04.639Z"
   },
   {
    "duration": 5,
    "start_time": "2023-08-04T11:43:10.889Z"
   },
   {
    "duration": 15,
    "start_time": "2023-08-04T11:43:40.138Z"
   },
   {
    "duration": 769,
    "start_time": "2023-08-04T11:43:42.836Z"
   },
   {
    "duration": 629,
    "start_time": "2023-08-04T11:43:43.607Z"
   },
   {
    "duration": 214,
    "start_time": "2023-08-04T11:43:44.239Z"
   },
   {
    "duration": 690,
    "start_time": "2023-08-04T11:43:45.091Z"
   },
   {
    "duration": 14,
    "start_time": "2023-08-04T11:43:45.784Z"
   },
   {
    "duration": 4,
    "start_time": "2023-08-04T11:43:46.119Z"
   },
   {
    "duration": 37,
    "start_time": "2023-08-04T11:43:47.512Z"
   },
   {
    "duration": 7,
    "start_time": "2023-08-04T11:43:53.450Z"
   },
   {
    "duration": 21,
    "start_time": "2023-08-04T11:44:18.479Z"
   },
   {
    "duration": 10,
    "start_time": "2023-08-04T11:44:22.160Z"
   },
   {
    "duration": 13,
    "start_time": "2023-08-04T11:44:55.255Z"
   },
   {
    "duration": 5395,
    "start_time": "2023-08-04T11:45:01.069Z"
   },
   {
    "duration": 21,
    "start_time": "2023-08-04T11:45:33.833Z"
   },
   {
    "duration": 18,
    "start_time": "2023-08-04T11:46:06.046Z"
   },
   {
    "duration": 53,
    "start_time": "2023-08-04T11:49:03.942Z"
   },
   {
    "duration": 7,
    "start_time": "2023-08-04T11:49:07.940Z"
   },
   {
    "duration": 722,
    "start_time": "2023-08-04T11:49:08.353Z"
   },
   {
    "duration": 2276,
    "start_time": "2023-08-04T11:49:15.665Z"
   },
   {
    "duration": 2315,
    "start_time": "2023-08-04T11:50:20.242Z"
   },
   {
    "duration": 708,
    "start_time": "2023-08-04T11:50:22.559Z"
   },
   {
    "duration": 592,
    "start_time": "2023-08-04T11:50:23.269Z"
   },
   {
    "duration": 183,
    "start_time": "2023-08-04T11:50:23.863Z"
   },
   {
    "duration": 650,
    "start_time": "2023-08-04T11:50:24.048Z"
   },
   {
    "duration": 14,
    "start_time": "2023-08-04T11:50:24.699Z"
   },
   {
    "duration": 30,
    "start_time": "2023-08-04T11:50:24.714Z"
   },
   {
    "duration": 44,
    "start_time": "2023-08-04T11:50:24.746Z"
   },
   {
    "duration": 9,
    "start_time": "2023-08-04T11:50:24.792Z"
   },
   {
    "duration": 36,
    "start_time": "2023-08-04T11:50:24.803Z"
   },
   {
    "duration": 26,
    "start_time": "2023-08-04T11:50:24.840Z"
   },
   {
    "duration": 2891,
    "start_time": "2023-08-04T11:50:24.868Z"
   },
   {
    "duration": 522,
    "start_time": "2023-08-04T11:50:27.760Z"
   },
   {
    "duration": 8,
    "start_time": "2023-08-04T11:50:28.285Z"
   },
   {
    "duration": 1223,
    "start_time": "2023-08-04T11:50:28.295Z"
   },
   {
    "duration": 22,
    "start_time": "2023-08-04T11:50:29.519Z"
   },
   {
    "duration": 7,
    "start_time": "2023-08-04T11:50:29.543Z"
   },
   {
    "duration": 15,
    "start_time": "2023-08-04T11:50:29.551Z"
   },
   {
    "duration": 61,
    "start_time": "2023-08-04T11:50:29.567Z"
   },
   {
    "duration": 56,
    "start_time": "2023-08-04T11:51:02.772Z"
   },
   {
    "duration": 1660,
    "start_time": "2023-08-04T11:51:08.020Z"
   },
   {
    "duration": 731,
    "start_time": "2023-08-04T11:51:09.682Z"
   },
   {
    "duration": 661,
    "start_time": "2023-08-04T11:51:10.415Z"
   },
   {
    "duration": 192,
    "start_time": "2023-08-04T11:51:11.078Z"
   },
   {
    "duration": 692,
    "start_time": "2023-08-04T11:51:11.272Z"
   },
   {
    "duration": 23,
    "start_time": "2023-08-04T11:51:11.966Z"
   },
   {
    "duration": 50,
    "start_time": "2023-08-04T11:51:11.991Z"
   },
   {
    "duration": 72,
    "start_time": "2023-08-04T11:51:12.043Z"
   },
   {
    "duration": 8,
    "start_time": "2023-08-04T11:51:12.117Z"
   },
   {
    "duration": 23,
    "start_time": "2023-08-04T11:51:12.126Z"
   },
   {
    "duration": 30,
    "start_time": "2023-08-04T11:51:12.151Z"
   },
   {
    "duration": 3018,
    "start_time": "2023-08-04T11:51:12.183Z"
   },
   {
    "duration": 556,
    "start_time": "2023-08-04T11:51:15.203Z"
   },
   {
    "duration": 9,
    "start_time": "2023-08-04T11:51:15.761Z"
   },
   {
    "duration": 1315,
    "start_time": "2023-08-04T11:51:15.772Z"
   },
   {
    "duration": 24,
    "start_time": "2023-08-04T11:51:17.089Z"
   },
   {
    "duration": 77,
    "start_time": "2023-08-04T11:51:17.115Z"
   },
   {
    "duration": 52,
    "start_time": "2023-08-04T11:56:02.975Z"
   },
   {
    "duration": 7,
    "start_time": "2023-08-04T11:56:07.202Z"
   },
   {
    "duration": 607,
    "start_time": "2023-08-04T11:56:07.806Z"
   },
   {
    "duration": 115,
    "start_time": "2023-08-04T12:11:33.762Z"
   },
   {
    "duration": 1601,
    "start_time": "2023-08-04T12:11:47.051Z"
   },
   {
    "duration": 695,
    "start_time": "2023-08-04T12:11:48.655Z"
   },
   {
    "duration": 602,
    "start_time": "2023-08-04T12:11:49.351Z"
   },
   {
    "duration": 194,
    "start_time": "2023-08-04T12:11:49.955Z"
   },
   {
    "duration": 657,
    "start_time": "2023-08-04T12:11:50.151Z"
   },
   {
    "duration": 15,
    "start_time": "2023-08-04T12:11:50.810Z"
   },
   {
    "duration": 11,
    "start_time": "2023-08-04T12:11:50.826Z"
   },
   {
    "duration": 37,
    "start_time": "2023-08-04T12:11:50.838Z"
   },
   {
    "duration": 9,
    "start_time": "2023-08-04T12:11:50.886Z"
   },
   {
    "duration": 17,
    "start_time": "2023-08-04T12:11:50.896Z"
   },
   {
    "duration": 13,
    "start_time": "2023-08-04T12:11:50.915Z"
   },
   {
    "duration": 2746,
    "start_time": "2023-08-04T12:11:50.930Z"
   },
   {
    "duration": 474,
    "start_time": "2023-08-04T12:11:53.678Z"
   },
   {
    "duration": 7,
    "start_time": "2023-08-04T12:11:54.154Z"
   },
   {
    "duration": 1278,
    "start_time": "2023-08-04T12:11:54.162Z"
   },
   {
    "duration": 138,
    "start_time": "2023-08-04T12:11:55.442Z"
   },
   {
    "duration": 54,
    "start_time": "2023-08-04T12:11:55.581Z"
   },
   {
    "duration": 131,
    "start_time": "2023-08-04T12:11:55.637Z"
   },
   {
    "duration": 3836,
    "start_time": "2023-08-04T12:12:24.138Z"
   },
   {
    "duration": 6286,
    "start_time": "2023-08-04T12:12:36.650Z"
   },
   {
    "duration": 12,
    "start_time": "2023-08-04T12:13:06.046Z"
   },
   {
    "duration": 4559,
    "start_time": "2023-08-04T12:13:29.426Z"
   },
   {
    "duration": 5136,
    "start_time": "2023-08-04T12:13:56.610Z"
   },
   {
    "duration": 124,
    "start_time": "2023-08-04T12:14:15.747Z"
   },
   {
    "duration": 12,
    "start_time": "2023-08-04T12:20:22.449Z"
   },
   {
    "duration": 2634,
    "start_time": "2023-08-04T12:20:39.054Z"
   },
   {
    "duration": 27,
    "start_time": "2023-08-04T12:20:48.900Z"
   },
   {
    "duration": 9,
    "start_time": "2023-08-04T12:22:25.742Z"
   },
   {
    "duration": 4,
    "start_time": "2023-08-04T12:22:29.222Z"
   },
   {
    "duration": 4,
    "start_time": "2023-08-04T12:22:38.006Z"
   },
   {
    "duration": 1484,
    "start_time": "2023-08-04T12:22:43.469Z"
   },
   {
    "duration": 755,
    "start_time": "2023-08-04T12:22:44.956Z"
   },
   {
    "duration": 632,
    "start_time": "2023-08-04T12:22:45.713Z"
   },
   {
    "duration": 193,
    "start_time": "2023-08-04T12:22:46.347Z"
   },
   {
    "duration": 662,
    "start_time": "2023-08-04T12:22:46.543Z"
   },
   {
    "duration": 13,
    "start_time": "2023-08-04T12:22:47.206Z"
   },
   {
    "duration": 33,
    "start_time": "2023-08-04T12:22:47.220Z"
   },
   {
    "duration": 58,
    "start_time": "2023-08-04T12:22:47.254Z"
   },
   {
    "duration": 11,
    "start_time": "2023-08-04T12:22:47.314Z"
   },
   {
    "duration": 27,
    "start_time": "2023-08-04T12:22:47.328Z"
   },
   {
    "duration": 30,
    "start_time": "2023-08-04T12:22:47.357Z"
   },
   {
    "duration": 2922,
    "start_time": "2023-08-04T12:22:47.389Z"
   },
   {
    "duration": 540,
    "start_time": "2023-08-04T12:22:50.313Z"
   },
   {
    "duration": 8,
    "start_time": "2023-08-04T12:22:50.855Z"
   },
   {
    "duration": 1270,
    "start_time": "2023-08-04T12:22:50.864Z"
   },
   {
    "duration": 5,
    "start_time": "2023-08-04T12:22:52.136Z"
   },
   {
    "duration": 119,
    "start_time": "2023-08-04T12:22:52.142Z"
   },
   {
    "duration": 4,
    "start_time": "2023-08-04T12:22:52.262Z"
   },
   {
    "duration": 4,
    "start_time": "2023-08-04T12:23:01.783Z"
   },
   {
    "duration": 4,
    "start_time": "2023-08-04T12:23:05.756Z"
   },
   {
    "duration": 1139,
    "start_time": "2023-08-04T12:23:29.634Z"
   },
   {
    "duration": 56,
    "start_time": "2023-08-04T12:23:35.056Z"
   },
   {
    "duration": 7,
    "start_time": "2023-08-04T12:23:39.176Z"
   },
   {
    "duration": 8,
    "start_time": "2023-08-04T12:23:45.268Z"
   },
   {
    "duration": 834,
    "start_time": "2023-08-04T12:23:45.278Z"
   },
   {
    "duration": 2244,
    "start_time": "2023-08-04T12:24:02.438Z"
   },
   {
    "duration": 479,
    "start_time": "2023-08-04T12:24:17.798Z"
   },
   {
    "duration": 1539,
    "start_time": "2023-08-04T12:24:51.783Z"
   },
   {
    "duration": 781,
    "start_time": "2023-08-04T12:24:53.325Z"
   },
   {
    "duration": 640,
    "start_time": "2023-08-04T12:24:54.110Z"
   },
   {
    "duration": 260,
    "start_time": "2023-08-04T12:24:54.753Z"
   },
   {
    "duration": 751,
    "start_time": "2023-08-04T12:24:55.015Z"
   },
   {
    "duration": 19,
    "start_time": "2023-08-04T12:24:55.768Z"
   },
   {
    "duration": 41,
    "start_time": "2023-08-04T12:24:55.789Z"
   },
   {
    "duration": 58,
    "start_time": "2023-08-04T12:24:55.832Z"
   },
   {
    "duration": 8,
    "start_time": "2023-08-04T12:24:55.892Z"
   },
   {
    "duration": 34,
    "start_time": "2023-08-04T12:24:55.901Z"
   },
   {
    "duration": 50,
    "start_time": "2023-08-04T12:24:55.937Z"
   },
   {
    "duration": 3092,
    "start_time": "2023-08-04T12:24:55.989Z"
   },
   {
    "duration": 525,
    "start_time": "2023-08-04T12:24:59.089Z"
   },
   {
    "duration": 9,
    "start_time": "2023-08-04T12:24:59.615Z"
   },
   {
    "duration": 1433,
    "start_time": "2023-08-04T12:24:59.626Z"
   },
   {
    "duration": 4,
    "start_time": "2023-08-04T12:25:01.060Z"
   },
   {
    "duration": 151,
    "start_time": "2023-08-04T12:25:01.066Z"
   },
   {
    "duration": 48,
    "start_time": "2023-08-04T12:25:01.219Z"
   },
   {
    "duration": 108,
    "start_time": "2023-08-04T12:30:51.996Z"
   },
   {
    "duration": 3,
    "start_time": "2023-08-04T12:31:04.846Z"
   },
   {
    "duration": 9,
    "start_time": "2023-08-04T12:31:18.399Z"
   },
   {
    "duration": 4,
    "start_time": "2023-08-04T12:31:29.357Z"
   },
   {
    "duration": 6,
    "start_time": "2023-08-04T12:31:53.479Z"
   },
   {
    "duration": 1518,
    "start_time": "2023-08-04T13:15:39.886Z"
   },
   {
    "duration": 755,
    "start_time": "2023-08-04T13:15:41.407Z"
   },
   {
    "duration": 598,
    "start_time": "2023-08-04T13:15:42.163Z"
   },
   {
    "duration": 192,
    "start_time": "2023-08-04T13:15:42.762Z"
   },
   {
    "duration": 653,
    "start_time": "2023-08-04T13:15:42.956Z"
   },
   {
    "duration": 13,
    "start_time": "2023-08-04T13:15:43.610Z"
   },
   {
    "duration": 83,
    "start_time": "2023-08-04T13:15:43.625Z"
   },
   {
    "duration": 53,
    "start_time": "2023-08-04T13:15:43.710Z"
   },
   {
    "duration": 7,
    "start_time": "2023-08-04T13:15:43.765Z"
   },
   {
    "duration": 92,
    "start_time": "2023-08-04T13:15:43.773Z"
   },
   {
    "duration": 34,
    "start_time": "2023-08-04T13:15:43.867Z"
   },
   {
    "duration": 3019,
    "start_time": "2023-08-04T13:15:43.903Z"
   },
   {
    "duration": 493,
    "start_time": "2023-08-04T13:15:46.924Z"
   },
   {
    "duration": 7,
    "start_time": "2023-08-04T13:15:47.419Z"
   },
   {
    "duration": 1761,
    "start_time": "2023-08-04T13:15:47.427Z"
   },
   {
    "duration": 103,
    "start_time": "2023-08-04T13:15:49.190Z"
   },
   {
    "duration": 2,
    "start_time": "2023-08-04T13:15:49.295Z"
   },
   {
    "duration": 31,
    "start_time": "2023-08-04T13:15:49.298Z"
   },
   {
    "duration": 21,
    "start_time": "2023-08-04T13:15:49.331Z"
   },
   {
    "duration": 4,
    "start_time": "2023-08-04T13:15:49.387Z"
   },
   {
    "duration": 17,
    "start_time": "2023-08-04T13:15:49.393Z"
   },
   {
    "duration": 30,
    "start_time": "2023-08-04T13:15:49.411Z"
   },
   {
    "duration": 13,
    "start_time": "2023-08-04T13:15:49.443Z"
   },
   {
    "duration": 30,
    "start_time": "2023-08-04T13:15:49.487Z"
   },
   {
    "duration": 168,
    "start_time": "2023-08-04T13:15:49.519Z"
   },
   {
    "duration": 3,
    "start_time": "2023-08-04T13:15:49.689Z"
   },
   {
    "duration": 432,
    "start_time": "2023-08-04T13:15:49.694Z"
   },
   {
    "duration": 542,
    "start_time": "2023-08-04T13:15:50.127Z"
   },
   {
    "duration": 18,
    "start_time": "2023-08-04T13:15:50.671Z"
   },
   {
    "duration": 146,
    "start_time": "2023-08-04T13:15:50.691Z"
   },
   {
    "duration": 0,
    "start_time": "2023-08-04T13:15:50.839Z"
   },
   {
    "duration": 0,
    "start_time": "2023-08-04T13:15:50.841Z"
   },
   {
    "duration": 0,
    "start_time": "2023-08-04T13:15:50.842Z"
   },
   {
    "duration": 0,
    "start_time": "2023-08-04T13:15:50.843Z"
   },
   {
    "duration": 0,
    "start_time": "2023-08-04T13:15:50.845Z"
   },
   {
    "duration": 48,
    "start_time": "2023-08-06T04:47:26.489Z"
   },
   {
    "duration": 1650,
    "start_time": "2023-08-06T04:47:33.771Z"
   },
   {
    "duration": 2138,
    "start_time": "2023-08-06T04:47:35.424Z"
   },
   {
    "duration": 579,
    "start_time": "2023-08-06T04:47:37.564Z"
   },
   {
    "duration": 201,
    "start_time": "2023-08-06T04:47:38.145Z"
   },
   {
    "duration": 657,
    "start_time": "2023-08-06T04:47:38.347Z"
   },
   {
    "duration": 11,
    "start_time": "2023-08-06T04:47:39.005Z"
   },
   {
    "duration": 5,
    "start_time": "2023-08-06T04:47:39.018Z"
   },
   {
    "duration": 29,
    "start_time": "2023-08-06T04:47:39.024Z"
   },
   {
    "duration": 6,
    "start_time": "2023-08-06T04:47:39.054Z"
   },
   {
    "duration": 7,
    "start_time": "2023-08-06T04:47:39.062Z"
   },
   {
    "duration": 34,
    "start_time": "2023-08-06T04:47:39.071Z"
   },
   {
    "duration": 2627,
    "start_time": "2023-08-06T04:47:39.107Z"
   },
   {
    "duration": 468,
    "start_time": "2023-08-06T04:47:41.736Z"
   },
   {
    "duration": 6,
    "start_time": "2023-08-06T04:47:42.206Z"
   },
   {
    "duration": 1019,
    "start_time": "2023-08-06T04:47:42.213Z"
   },
   {
    "duration": 47,
    "start_time": "2023-08-06T04:47:43.233Z"
   },
   {
    "duration": 3,
    "start_time": "2023-08-06T04:47:43.281Z"
   },
   {
    "duration": 27,
    "start_time": "2023-08-06T04:47:43.285Z"
   },
   {
    "duration": 21,
    "start_time": "2023-08-06T04:47:43.313Z"
   },
   {
    "duration": 4,
    "start_time": "2023-08-06T04:47:43.336Z"
   },
   {
    "duration": 4,
    "start_time": "2023-08-06T04:47:43.341Z"
   },
   {
    "duration": 18,
    "start_time": "2023-08-06T04:47:43.347Z"
   },
   {
    "duration": 147,
    "start_time": "2023-08-06T04:47:43.366Z"
   },
   {
    "duration": 0,
    "start_time": "2023-08-06T04:47:43.515Z"
   },
   {
    "duration": 0,
    "start_time": "2023-08-06T04:47:43.517Z"
   },
   {
    "duration": 0,
    "start_time": "2023-08-06T04:47:43.518Z"
   },
   {
    "duration": 0,
    "start_time": "2023-08-06T04:47:43.519Z"
   },
   {
    "duration": 0,
    "start_time": "2023-08-06T04:47:43.520Z"
   },
   {
    "duration": 0,
    "start_time": "2023-08-06T04:47:43.522Z"
   },
   {
    "duration": 0,
    "start_time": "2023-08-06T04:47:43.523Z"
   },
   {
    "duration": 0,
    "start_time": "2023-08-06T04:47:43.524Z"
   },
   {
    "duration": 0,
    "start_time": "2023-08-06T04:47:43.525Z"
   },
   {
    "duration": 0,
    "start_time": "2023-08-06T04:47:43.526Z"
   },
   {
    "duration": 0,
    "start_time": "2023-08-06T04:47:43.528Z"
   },
   {
    "duration": 0,
    "start_time": "2023-08-06T04:47:43.529Z"
   },
   {
    "duration": 5,
    "start_time": "2023-08-06T04:48:48.788Z"
   },
   {
    "duration": 4,
    "start_time": "2023-08-06T04:48:53.964Z"
   },
   {
    "duration": 152,
    "start_time": "2023-08-06T04:51:28.290Z"
   },
   {
    "duration": 3,
    "start_time": "2023-08-06T04:52:16.035Z"
   },
   {
    "duration": 2,
    "start_time": "2023-08-06T04:52:16.526Z"
   },
   {
    "duration": 40,
    "start_time": "2023-08-06T04:52:18.367Z"
   },
   {
    "duration": 40,
    "start_time": "2023-08-06T04:52:28.474Z"
   },
   {
    "duration": 40,
    "start_time": "2023-08-06T05:01:35.203Z"
   },
   {
    "duration": 43,
    "start_time": "2023-08-06T05:02:15.829Z"
   },
   {
    "duration": 45,
    "start_time": "2023-08-06T05:02:30.352Z"
   },
   {
    "duration": 43,
    "start_time": "2023-08-06T05:02:59.328Z"
   },
   {
    "duration": 27,
    "start_time": "2023-08-06T05:03:18.853Z"
   },
   {
    "duration": 5,
    "start_time": "2023-08-06T05:03:28.961Z"
   },
   {
    "duration": 5,
    "start_time": "2023-08-06T05:03:45.646Z"
   },
   {
    "duration": 5,
    "start_time": "2023-08-06T05:04:00.731Z"
   },
   {
    "duration": 49,
    "start_time": "2023-08-06T05:04:58.192Z"
   },
   {
    "duration": 113,
    "start_time": "2023-08-06T05:06:00.313Z"
   },
   {
    "duration": 150,
    "start_time": "2023-08-07T07:58:52.482Z"
   },
   {
    "duration": 1744,
    "start_time": "2023-08-07T07:58:57.667Z"
   },
   {
    "duration": 3235,
    "start_time": "2023-08-07T07:58:59.413Z"
   },
   {
    "duration": 624,
    "start_time": "2023-08-07T07:59:02.649Z"
   },
   {
    "duration": 225,
    "start_time": "2023-08-07T07:59:03.275Z"
   },
   {
    "duration": 777,
    "start_time": "2023-08-07T07:59:03.504Z"
   },
   {
    "duration": 18,
    "start_time": "2023-08-07T07:59:04.284Z"
   },
   {
    "duration": 5,
    "start_time": "2023-08-07T07:59:04.304Z"
   },
   {
    "duration": 58,
    "start_time": "2023-08-07T07:59:04.311Z"
   },
   {
    "duration": 9,
    "start_time": "2023-08-07T07:59:04.371Z"
   },
   {
    "duration": 7,
    "start_time": "2023-08-07T07:59:04.381Z"
   },
   {
    "duration": 15,
    "start_time": "2023-08-07T07:59:04.390Z"
   },
   {
    "duration": 3072,
    "start_time": "2023-08-07T07:59:04.407Z"
   },
   {
    "duration": 513,
    "start_time": "2023-08-07T07:59:07.481Z"
   },
   {
    "duration": 7,
    "start_time": "2023-08-07T07:59:07.996Z"
   },
   {
    "duration": 1367,
    "start_time": "2023-08-07T07:59:08.005Z"
   },
   {
    "duration": 60,
    "start_time": "2023-08-07T07:59:09.374Z"
   },
   {
    "duration": 3,
    "start_time": "2023-08-07T07:59:09.437Z"
   },
   {
    "duration": 19,
    "start_time": "2023-08-07T07:59:09.459Z"
   },
   {
    "duration": 29,
    "start_time": "2023-08-07T07:59:09.480Z"
   },
   {
    "duration": 14,
    "start_time": "2023-08-07T07:59:09.511Z"
   },
   {
    "duration": 6,
    "start_time": "2023-08-07T07:59:09.527Z"
   },
   {
    "duration": 17,
    "start_time": "2023-08-07T07:59:09.535Z"
   },
   {
    "duration": 15,
    "start_time": "2023-08-07T07:59:09.554Z"
   },
   {
    "duration": 52,
    "start_time": "2023-08-07T07:59:09.571Z"
   },
   {
    "duration": 478,
    "start_time": "2023-08-07T07:59:09.625Z"
   },
   {
    "duration": 0,
    "start_time": "2023-08-07T07:59:10.106Z"
   },
   {
    "duration": 0,
    "start_time": "2023-08-07T07:59:10.108Z"
   },
   {
    "duration": 0,
    "start_time": "2023-08-07T07:59:10.109Z"
   },
   {
    "duration": 0,
    "start_time": "2023-08-07T07:59:10.110Z"
   },
   {
    "duration": 0,
    "start_time": "2023-08-07T07:59:10.111Z"
   },
   {
    "duration": 0,
    "start_time": "2023-08-07T07:59:10.113Z"
   },
   {
    "duration": 0,
    "start_time": "2023-08-07T07:59:10.114Z"
   },
   {
    "duration": 0,
    "start_time": "2023-08-07T07:59:10.116Z"
   },
   {
    "duration": 0,
    "start_time": "2023-08-07T07:59:10.117Z"
   },
   {
    "duration": 0,
    "start_time": "2023-08-07T07:59:10.119Z"
   },
   {
    "duration": 377,
    "start_time": "2023-08-07T07:59:13.413Z"
   },
   {
    "duration": 6,
    "start_time": "2023-08-07T10:26:23.183Z"
   },
   {
    "duration": 3,
    "start_time": "2023-08-07T10:36:01.116Z"
   },
   {
    "duration": 11,
    "start_time": "2023-08-07T10:51:32.024Z"
   },
   {
    "duration": 7,
    "start_time": "2023-08-07T10:52:31.777Z"
   },
   {
    "duration": 11,
    "start_time": "2023-08-07T10:52:32.437Z"
   },
   {
    "duration": 1360,
    "start_time": "2023-08-07T10:53:27.225Z"
   },
   {
    "duration": 0,
    "start_time": "2023-08-07T10:53:28.587Z"
   },
   {
    "duration": 1569,
    "start_time": "2023-08-07T10:53:34.988Z"
   },
   {
    "duration": 855,
    "start_time": "2023-08-07T10:53:36.559Z"
   },
   {
    "duration": 667,
    "start_time": "2023-08-07T10:53:37.416Z"
   },
   {
    "duration": 229,
    "start_time": "2023-08-07T10:53:38.087Z"
   },
   {
    "duration": 768,
    "start_time": "2023-08-07T10:53:38.319Z"
   },
   {
    "duration": 16,
    "start_time": "2023-08-07T10:53:39.089Z"
   },
   {
    "duration": 20,
    "start_time": "2023-08-07T10:53:39.107Z"
   },
   {
    "duration": 58,
    "start_time": "2023-08-07T10:53:39.129Z"
   },
   {
    "duration": 8,
    "start_time": "2023-08-07T10:53:39.189Z"
   },
   {
    "duration": 10,
    "start_time": "2023-08-07T10:53:39.198Z"
   },
   {
    "duration": 14,
    "start_time": "2023-08-07T10:53:39.210Z"
   },
   {
    "duration": 3450,
    "start_time": "2023-08-07T10:53:39.226Z"
   },
   {
    "duration": 600,
    "start_time": "2023-08-07T10:53:42.677Z"
   },
   {
    "duration": 11,
    "start_time": "2023-08-07T10:53:43.285Z"
   },
   {
    "duration": 1559,
    "start_time": "2023-08-07T10:53:43.297Z"
   },
   {
    "duration": 66,
    "start_time": "2023-08-07T10:53:44.862Z"
   },
   {
    "duration": 11,
    "start_time": "2023-08-07T10:53:52.329Z"
   },
   {
    "duration": 806,
    "start_time": "2023-08-07T10:53:52.840Z"
   },
   {
    "duration": 2466,
    "start_time": "2023-08-07T10:53:59.121Z"
   },
   {
    "duration": 121,
    "start_time": "2023-08-07T10:58:27.188Z"
   },
   {
    "duration": 14,
    "start_time": "2023-08-07T11:00:18.780Z"
   },
   {
    "duration": 13,
    "start_time": "2023-08-07T11:00:41.979Z"
   },
   {
    "duration": 32,
    "start_time": "2023-08-07T11:00:51.884Z"
   },
   {
    "duration": 22,
    "start_time": "2023-08-07T11:01:26.480Z"
   },
   {
    "duration": 17,
    "start_time": "2023-08-07T11:02:02.579Z"
   },
   {
    "duration": 15,
    "start_time": "2023-08-07T11:02:09.601Z"
   },
   {
    "duration": 58,
    "start_time": "2023-08-07T11:02:45.191Z"
   },
   {
    "duration": 84,
    "start_time": "2023-08-07T11:02:48.822Z"
   },
   {
    "duration": 9,
    "start_time": "2023-08-07T11:02:51.321Z"
   },
   {
    "duration": 11,
    "start_time": "2023-08-07T11:02:59.779Z"
   },
   {
    "duration": 6,
    "start_time": "2023-08-07T11:03:40.938Z"
   },
   {
    "duration": 9,
    "start_time": "2023-08-07T11:03:55.578Z"
   },
   {
    "duration": 14,
    "start_time": "2023-08-07T11:04:17.439Z"
   },
   {
    "duration": 18,
    "start_time": "2023-08-07T11:04:50.184Z"
   },
   {
    "duration": 19,
    "start_time": "2023-08-07T11:05:31.812Z"
   },
   {
    "duration": 11,
    "start_time": "2023-08-07T11:05:48.711Z"
   },
   {
    "duration": 13,
    "start_time": "2023-08-07T11:06:07.189Z"
   },
   {
    "duration": 14,
    "start_time": "2023-08-07T11:06:14.425Z"
   },
   {
    "duration": 4,
    "start_time": "2023-08-07T11:06:35.594Z"
   },
   {
    "duration": 310,
    "start_time": "2023-08-07T11:06:39.028Z"
   },
   {
    "duration": 309,
    "start_time": "2023-08-07T11:06:53.484Z"
   },
   {
    "duration": 4,
    "start_time": "2023-08-07T11:07:58.607Z"
   },
   {
    "duration": 914,
    "start_time": "2023-08-07T11:08:01.235Z"
   },
   {
    "duration": 737,
    "start_time": "2023-08-07T11:08:02.151Z"
   },
   {
    "duration": 1553,
    "start_time": "2023-08-07T11:08:10.135Z"
   },
   {
    "duration": 929,
    "start_time": "2023-08-07T11:08:11.690Z"
   },
   {
    "duration": 830,
    "start_time": "2023-08-07T11:08:12.623Z"
   },
   {
    "duration": 263,
    "start_time": "2023-08-07T11:08:13.456Z"
   },
   {
    "duration": 915,
    "start_time": "2023-08-07T11:08:13.720Z"
   },
   {
    "duration": 33,
    "start_time": "2023-08-07T11:08:14.637Z"
   },
   {
    "duration": 27,
    "start_time": "2023-08-07T11:08:14.672Z"
   },
   {
    "duration": 71,
    "start_time": "2023-08-07T11:08:14.702Z"
   },
   {
    "duration": 12,
    "start_time": "2023-08-07T11:08:14.775Z"
   },
   {
    "duration": 7,
    "start_time": "2023-08-07T11:08:14.789Z"
   },
   {
    "duration": 12,
    "start_time": "2023-08-07T11:08:14.798Z"
   },
   {
    "duration": 340,
    "start_time": "2023-08-07T11:08:14.812Z"
   },
   {
    "duration": 0,
    "start_time": "2023-08-07T11:08:15.155Z"
   },
   {
    "duration": 0,
    "start_time": "2023-08-07T11:08:15.159Z"
   },
   {
    "duration": 0,
    "start_time": "2023-08-07T11:08:15.159Z"
   },
   {
    "duration": 0,
    "start_time": "2023-08-07T11:08:15.160Z"
   },
   {
    "duration": 0,
    "start_time": "2023-08-07T11:08:15.161Z"
   },
   {
    "duration": 0,
    "start_time": "2023-08-07T11:08:15.161Z"
   },
   {
    "duration": 0,
    "start_time": "2023-08-07T11:08:15.168Z"
   },
   {
    "duration": 0,
    "start_time": "2023-08-07T11:08:15.168Z"
   },
   {
    "duration": 0,
    "start_time": "2023-08-07T11:08:15.169Z"
   },
   {
    "duration": 88,
    "start_time": "2023-08-07T11:08:45.511Z"
   },
   {
    "duration": 1532,
    "start_time": "2023-08-07T11:08:49.934Z"
   },
   {
    "duration": 834,
    "start_time": "2023-08-07T11:08:51.468Z"
   },
   {
    "duration": 713,
    "start_time": "2023-08-07T11:08:52.304Z"
   },
   {
    "duration": 277,
    "start_time": "2023-08-07T11:08:53.019Z"
   },
   {
    "duration": 806,
    "start_time": "2023-08-07T11:08:53.298Z"
   },
   {
    "duration": 19,
    "start_time": "2023-08-07T11:08:54.105Z"
   },
   {
    "duration": 15,
    "start_time": "2023-08-07T11:08:54.125Z"
   },
   {
    "duration": 88,
    "start_time": "2023-08-07T11:08:54.141Z"
   },
   {
    "duration": 11,
    "start_time": "2023-08-07T11:08:54.231Z"
   },
   {
    "duration": 13,
    "start_time": "2023-08-07T11:08:54.244Z"
   },
   {
    "duration": 29,
    "start_time": "2023-08-07T11:08:54.259Z"
   },
   {
    "duration": 3403,
    "start_time": "2023-08-07T11:08:54.290Z"
   },
   {
    "duration": 559,
    "start_time": "2023-08-07T11:08:57.695Z"
   },
   {
    "duration": 11,
    "start_time": "2023-08-07T11:08:58.260Z"
   },
   {
    "duration": 1438,
    "start_time": "2023-08-07T11:08:58.272Z"
   },
   {
    "duration": 74,
    "start_time": "2023-08-07T11:08:59.712Z"
   },
   {
    "duration": 6,
    "start_time": "2023-08-07T11:08:59.789Z"
   },
   {
    "duration": 6,
    "start_time": "2023-08-07T11:08:59.797Z"
   },
   {
    "duration": 9,
    "start_time": "2023-08-07T11:08:59.805Z"
   },
   {
    "duration": 17,
    "start_time": "2023-08-07T11:08:59.815Z"
   },
   {
    "duration": 463,
    "start_time": "2023-08-07T11:08:59.834Z"
   },
   {
    "duration": 104,
    "start_time": "2023-08-07T11:10:09.425Z"
   },
   {
    "duration": 10,
    "start_time": "2023-08-07T11:10:59.073Z"
   },
   {
    "duration": 457,
    "start_time": "2023-08-07T11:11:00.586Z"
   },
   {
    "duration": 20,
    "start_time": "2023-08-07T11:11:01.816Z"
   },
   {
    "duration": 1578,
    "start_time": "2023-08-07T11:21:33.986Z"
   },
   {
    "duration": 830,
    "start_time": "2023-08-07T11:21:35.570Z"
   },
   {
    "duration": 734,
    "start_time": "2023-08-07T11:21:36.404Z"
   },
   {
    "duration": 253,
    "start_time": "2023-08-07T11:21:37.141Z"
   },
   {
    "duration": 786,
    "start_time": "2023-08-07T11:21:37.395Z"
   },
   {
    "duration": 15,
    "start_time": "2023-08-07T11:21:38.189Z"
   },
   {
    "duration": 7,
    "start_time": "2023-08-07T11:21:38.207Z"
   },
   {
    "duration": 57,
    "start_time": "2023-08-07T11:21:38.216Z"
   },
   {
    "duration": 8,
    "start_time": "2023-08-07T11:21:38.278Z"
   },
   {
    "duration": 8,
    "start_time": "2023-08-07T11:21:38.288Z"
   },
   {
    "duration": 30,
    "start_time": "2023-08-07T11:21:38.298Z"
   },
   {
    "duration": 3443,
    "start_time": "2023-08-07T11:21:38.330Z"
   },
   {
    "duration": 569,
    "start_time": "2023-08-07T11:21:41.776Z"
   },
   {
    "duration": 25,
    "start_time": "2023-08-07T11:21:42.346Z"
   },
   {
    "duration": 1491,
    "start_time": "2023-08-07T11:21:42.377Z"
   },
   {
    "duration": 62,
    "start_time": "2023-08-07T11:21:43.870Z"
   },
   {
    "duration": 6,
    "start_time": "2023-08-07T11:21:43.934Z"
   },
   {
    "duration": 37,
    "start_time": "2023-08-07T11:21:43.942Z"
   },
   {
    "duration": 39,
    "start_time": "2023-08-07T11:21:43.981Z"
   },
   {
    "duration": 29,
    "start_time": "2023-08-07T11:21:44.022Z"
   },
   {
    "duration": 642,
    "start_time": "2023-08-07T11:21:44.053Z"
   },
   {
    "duration": 0,
    "start_time": "2023-08-07T11:21:44.697Z"
   },
   {
    "duration": 968,
    "start_time": "2023-08-07T11:22:37.258Z"
   },
   {
    "duration": 951,
    "start_time": "2023-08-07T11:22:46.852Z"
   },
   {
    "duration": 1637,
    "start_time": "2023-08-07T11:22:59.853Z"
   },
   {
    "duration": 875,
    "start_time": "2023-08-07T11:23:01.493Z"
   },
   {
    "duration": 812,
    "start_time": "2023-08-07T11:23:02.374Z"
   },
   {
    "duration": 290,
    "start_time": "2023-08-07T11:23:03.189Z"
   },
   {
    "duration": 839,
    "start_time": "2023-08-07T11:23:03.484Z"
   },
   {
    "duration": 18,
    "start_time": "2023-08-07T11:23:04.325Z"
   },
   {
    "duration": 9,
    "start_time": "2023-08-07T11:23:04.361Z"
   },
   {
    "duration": 63,
    "start_time": "2023-08-07T11:23:04.374Z"
   },
   {
    "duration": 10,
    "start_time": "2023-08-07T11:23:04.440Z"
   },
   {
    "duration": 13,
    "start_time": "2023-08-07T11:23:04.452Z"
   },
   {
    "duration": 30,
    "start_time": "2023-08-07T11:23:04.466Z"
   },
   {
    "duration": 3575,
    "start_time": "2023-08-07T11:23:04.499Z"
   },
   {
    "duration": 566,
    "start_time": "2023-08-07T11:23:08.080Z"
   },
   {
    "duration": 16,
    "start_time": "2023-08-07T11:23:08.649Z"
   },
   {
    "duration": 1476,
    "start_time": "2023-08-07T11:23:08.674Z"
   },
   {
    "duration": 66,
    "start_time": "2023-08-07T11:23:10.159Z"
   },
   {
    "duration": 8,
    "start_time": "2023-08-07T11:23:10.227Z"
   },
   {
    "duration": 24,
    "start_time": "2023-08-07T11:23:10.237Z"
   },
   {
    "duration": 9,
    "start_time": "2023-08-07T11:23:10.262Z"
   },
   {
    "duration": 29,
    "start_time": "2023-08-07T11:23:10.279Z"
   },
   {
    "duration": 571,
    "start_time": "2023-08-07T11:23:10.310Z"
   },
   {
    "duration": 0,
    "start_time": "2023-08-07T11:23:10.884Z"
   },
   {
    "duration": 3,
    "start_time": "2023-08-07T11:23:19.699Z"
   },
   {
    "duration": 67,
    "start_time": "2023-08-07T11:23:22.751Z"
   },
   {
    "duration": 4,
    "start_time": "2023-08-07T11:23:23.599Z"
   },
   {
    "duration": 4,
    "start_time": "2023-08-07T11:31:53.936Z"
   },
   {
    "duration": 439,
    "start_time": "2023-08-07T11:33:07.689Z"
   },
   {
    "duration": 792,
    "start_time": "2023-08-07T11:33:44.984Z"
   },
   {
    "duration": 29,
    "start_time": "2023-08-07T11:34:02.395Z"
   },
   {
    "duration": 61,
    "start_time": "2023-08-07T11:39:05.960Z"
   },
   {
    "duration": 58,
    "start_time": "2023-08-07T11:39:31.314Z"
   },
   {
    "duration": 53,
    "start_time": "2023-08-07T11:39:31.899Z"
   },
   {
    "duration": 41,
    "start_time": "2023-08-07T11:39:32.469Z"
   },
   {
    "duration": 3,
    "start_time": "2023-08-07T11:40:29.286Z"
   },
   {
    "duration": 3,
    "start_time": "2023-08-07T11:40:33.378Z"
   },
   {
    "duration": 16,
    "start_time": "2023-08-07T11:40:44.935Z"
   },
   {
    "duration": 3,
    "start_time": "2023-08-07T11:40:57.931Z"
   },
   {
    "duration": 14,
    "start_time": "2023-08-07T11:40:59.374Z"
   },
   {
    "duration": 3,
    "start_time": "2023-08-07T11:42:15.782Z"
   },
   {
    "duration": 499,
    "start_time": "2023-08-07T11:42:17.269Z"
   },
   {
    "duration": 3,
    "start_time": "2023-08-07T11:42:49.288Z"
   },
   {
    "duration": 542,
    "start_time": "2023-08-07T11:42:49.806Z"
   },
   {
    "duration": 4,
    "start_time": "2023-08-07T11:44:09.029Z"
   },
   {
    "duration": 120,
    "start_time": "2023-08-07T11:44:09.330Z"
   },
   {
    "duration": 3,
    "start_time": "2023-08-07T11:44:34.017Z"
   },
   {
    "duration": 89,
    "start_time": "2023-08-07T11:44:34.536Z"
   },
   {
    "duration": 4,
    "start_time": "2023-08-07T11:46:23.057Z"
   },
   {
    "duration": 125,
    "start_time": "2023-08-07T11:46:23.374Z"
   },
   {
    "duration": 3,
    "start_time": "2023-08-07T11:46:35.882Z"
   },
   {
    "duration": 94,
    "start_time": "2023-08-07T11:46:37.334Z"
   },
   {
    "duration": 3,
    "start_time": "2023-08-07T11:46:55.912Z"
   },
   {
    "duration": 106,
    "start_time": "2023-08-07T11:46:56.903Z"
   },
   {
    "duration": 3,
    "start_time": "2023-08-07T11:47:07.922Z"
   },
   {
    "duration": 122,
    "start_time": "2023-08-07T11:47:09.634Z"
   },
   {
    "duration": 4,
    "start_time": "2023-08-07T11:47:34.115Z"
   },
   {
    "duration": 116,
    "start_time": "2023-08-07T11:47:34.776Z"
   },
   {
    "duration": 4,
    "start_time": "2023-08-07T11:48:28.617Z"
   },
   {
    "duration": 109,
    "start_time": "2023-08-07T11:48:29.027Z"
   },
   {
    "duration": 3,
    "start_time": "2023-08-07T11:48:42.677Z"
   },
   {
    "duration": 139,
    "start_time": "2023-08-07T11:49:13.566Z"
   },
   {
    "duration": 30,
    "start_time": "2023-08-07T11:49:28.347Z"
   },
   {
    "duration": 3,
    "start_time": "2023-08-07T11:51:21.685Z"
   },
   {
    "duration": 101,
    "start_time": "2023-08-07T11:51:22.128Z"
   },
   {
    "duration": 3,
    "start_time": "2023-08-07T11:51:37.430Z"
   },
   {
    "duration": 110,
    "start_time": "2023-08-07T11:51:37.718Z"
   },
   {
    "duration": 3,
    "start_time": "2023-08-07T11:51:48.377Z"
   },
   {
    "duration": 104,
    "start_time": "2023-08-07T11:51:49.513Z"
   },
   {
    "duration": 73,
    "start_time": "2023-08-07T11:54:00.361Z"
   },
   {
    "duration": 79,
    "start_time": "2023-08-07T11:54:14.010Z"
   },
   {
    "duration": 4,
    "start_time": "2023-08-07T11:54:28.169Z"
   },
   {
    "duration": 110,
    "start_time": "2023-08-07T11:54:29.118Z"
   },
   {
    "duration": 4,
    "start_time": "2023-08-07T11:54:35.710Z"
   },
   {
    "duration": 113,
    "start_time": "2023-08-07T11:54:36.288Z"
   },
   {
    "duration": 5,
    "start_time": "2023-08-07T11:55:07.538Z"
   },
   {
    "duration": 107,
    "start_time": "2023-08-07T11:55:08.138Z"
   },
   {
    "duration": 4,
    "start_time": "2023-08-07T11:55:40.573Z"
   },
   {
    "duration": 106,
    "start_time": "2023-08-07T11:55:41.416Z"
   },
   {
    "duration": 3,
    "start_time": "2023-08-07T11:55:48.570Z"
   },
   {
    "duration": 96,
    "start_time": "2023-08-07T11:55:49.616Z"
   },
   {
    "duration": 4,
    "start_time": "2023-08-07T11:56:00.510Z"
   },
   {
    "duration": 98,
    "start_time": "2023-08-07T11:56:00.970Z"
   },
   {
    "duration": 5,
    "start_time": "2023-08-07T11:56:11.877Z"
   },
   {
    "duration": 108,
    "start_time": "2023-08-07T11:56:12.632Z"
   },
   {
    "duration": 4,
    "start_time": "2023-08-07T11:56:19.008Z"
   },
   {
    "duration": 98,
    "start_time": "2023-08-07T11:56:19.627Z"
   },
   {
    "duration": 3,
    "start_time": "2023-08-07T11:56:26.413Z"
   },
   {
    "duration": 98,
    "start_time": "2023-08-07T11:56:27.089Z"
   },
   {
    "duration": 96,
    "start_time": "2023-08-07T11:57:24.695Z"
   },
   {
    "duration": 73,
    "start_time": "2023-08-07T11:57:41.873Z"
   },
   {
    "duration": 75,
    "start_time": "2023-08-07T11:57:51.725Z"
   },
   {
    "duration": 4,
    "start_time": "2023-08-07T11:58:07.133Z"
   },
   {
    "duration": 103,
    "start_time": "2023-08-07T11:58:07.786Z"
   },
   {
    "duration": 4,
    "start_time": "2023-08-07T11:58:17.882Z"
   },
   {
    "duration": 94,
    "start_time": "2023-08-07T11:58:18.520Z"
   },
   {
    "duration": 5,
    "start_time": "2023-08-07T11:58:25.709Z"
   },
   {
    "duration": 117,
    "start_time": "2023-08-07T11:58:29.085Z"
   },
   {
    "duration": 4,
    "start_time": "2023-08-07T11:58:57.537Z"
   },
   {
    "duration": 97,
    "start_time": "2023-08-07T11:58:58.531Z"
   },
   {
    "duration": 4,
    "start_time": "2023-08-07T11:59:06.302Z"
   },
   {
    "duration": 98,
    "start_time": "2023-08-07T11:59:07.795Z"
   },
   {
    "duration": 5,
    "start_time": "2023-08-07T11:59:14.170Z"
   },
   {
    "duration": 100,
    "start_time": "2023-08-07T11:59:14.701Z"
   },
   {
    "duration": 3,
    "start_time": "2023-08-07T11:59:19.703Z"
   },
   {
    "duration": 98,
    "start_time": "2023-08-07T11:59:20.223Z"
   },
   {
    "duration": 4,
    "start_time": "2023-08-07T12:06:40.533Z"
   },
   {
    "duration": 147,
    "start_time": "2023-08-07T12:06:41.197Z"
   },
   {
    "duration": 5,
    "start_time": "2023-08-07T12:07:06.488Z"
   },
   {
    "duration": 111,
    "start_time": "2023-08-07T12:07:07.430Z"
   },
   {
    "duration": 5,
    "start_time": "2023-08-07T12:07:42.222Z"
   },
   {
    "duration": 108,
    "start_time": "2023-08-07T12:07:42.760Z"
   },
   {
    "duration": 133,
    "start_time": "2023-08-07T12:08:01.331Z"
   },
   {
    "duration": 26,
    "start_time": "2023-08-07T12:08:16.120Z"
   },
   {
    "duration": 439,
    "start_time": "2023-08-07T12:08:34.340Z"
   },
   {
    "duration": 5,
    "start_time": "2023-08-07T12:09:46.873Z"
   },
   {
    "duration": 106,
    "start_time": "2023-08-07T12:09:47.355Z"
   },
   {
    "duration": 428,
    "start_time": "2023-08-07T12:10:48.926Z"
   },
   {
    "duration": 3,
    "start_time": "2023-08-07T12:10:49.357Z"
   },
   {
    "duration": 793,
    "start_time": "2023-08-07T12:10:49.362Z"
   },
   {
    "duration": 127,
    "start_time": "2023-08-07T12:10:50.157Z"
   },
   {
    "duration": 28,
    "start_time": "2023-08-07T12:10:50.286Z"
   },
   {
    "duration": 167,
    "start_time": "2023-08-07T12:10:50.315Z"
   },
   {
    "duration": 19,
    "start_time": "2023-08-07T12:10:50.484Z"
   },
   {
    "duration": 63,
    "start_time": "2023-08-07T12:10:50.505Z"
   },
   {
    "duration": 20,
    "start_time": "2023-08-07T12:10:50.569Z"
   },
   {
    "duration": 382,
    "start_time": "2023-08-07T12:10:50.591Z"
   },
   {
    "duration": 35,
    "start_time": "2023-08-07T12:12:15.033Z"
   },
   {
    "duration": 35,
    "start_time": "2023-08-07T12:12:25.985Z"
   },
   {
    "duration": 25,
    "start_time": "2023-08-07T12:12:31.158Z"
   },
   {
    "duration": 91,
    "start_time": "2023-08-07T12:37:50.028Z"
   },
   {
    "duration": 76,
    "start_time": "2023-08-07T12:38:06.832Z"
   },
   {
    "duration": 74,
    "start_time": "2023-08-07T12:38:14.417Z"
   },
   {
    "duration": 78,
    "start_time": "2023-08-07T12:38:28.868Z"
   },
   {
    "duration": 3,
    "start_time": "2023-08-07T12:41:39.803Z"
   },
   {
    "duration": 3,
    "start_time": "2023-08-07T12:41:59.202Z"
   },
   {
    "duration": 3,
    "start_time": "2023-08-07T12:42:28.372Z"
   },
   {
    "duration": 4,
    "start_time": "2023-08-07T12:44:37.195Z"
   },
   {
    "duration": 3,
    "start_time": "2023-08-07T12:45:13.880Z"
   },
   {
    "duration": 2,
    "start_time": "2023-08-07T12:45:16.004Z"
   },
   {
    "duration": 3,
    "start_time": "2023-08-07T12:45:27.868Z"
   },
   {
    "duration": 6,
    "start_time": "2023-08-07T12:45:51.868Z"
   },
   {
    "duration": 71,
    "start_time": "2023-08-07T12:45:52.234Z"
   },
   {
    "duration": 3,
    "start_time": "2023-08-07T12:46:29.680Z"
   },
   {
    "duration": 3,
    "start_time": "2023-08-07T12:46:37.332Z"
   },
   {
    "duration": 9,
    "start_time": "2023-08-07T12:46:37.684Z"
   },
   {
    "duration": 5,
    "start_time": "2023-08-07T12:46:38.533Z"
   },
   {
    "duration": 11,
    "start_time": "2023-08-07T12:48:05.389Z"
   },
   {
    "duration": 739,
    "start_time": "2023-08-07T12:48:36.609Z"
   },
   {
    "duration": 16,
    "start_time": "2023-08-07T12:49:51.431Z"
   },
   {
    "duration": 11,
    "start_time": "2023-08-08T08:45:03.797Z"
   },
   {
    "duration": 54,
    "start_time": "2023-08-08T08:45:52.166Z"
   },
   {
    "duration": 1355,
    "start_time": "2023-08-08T08:46:14.356Z"
   },
   {
    "duration": 3,
    "start_time": "2023-08-08T08:46:15.713Z"
   },
   {
    "duration": 3502,
    "start_time": "2023-08-08T08:46:15.717Z"
   },
   {
    "duration": 110,
    "start_time": "2023-08-08T08:46:19.221Z"
   },
   {
    "duration": 25,
    "start_time": "2023-08-08T08:46:19.332Z"
   },
   {
    "duration": 156,
    "start_time": "2023-08-08T08:46:19.358Z"
   },
   {
    "duration": 19,
    "start_time": "2023-08-08T08:46:19.515Z"
   },
   {
    "duration": 50,
    "start_time": "2023-08-08T08:46:19.536Z"
   },
   {
    "duration": 22,
    "start_time": "2023-08-08T08:46:19.589Z"
   },
   {
    "duration": 387,
    "start_time": "2023-08-08T08:46:19.614Z"
   },
   {
    "duration": 4,
    "start_time": "2023-08-08T08:46:20.003Z"
   },
   {
    "duration": 22,
    "start_time": "2023-08-08T08:46:20.009Z"
   },
   {
    "duration": 8,
    "start_time": "2023-08-08T08:46:20.033Z"
   },
   {
    "duration": 18,
    "start_time": "2023-08-08T08:46:20.042Z"
   },
   {
    "duration": 5,
    "start_time": "2023-08-08T08:47:05.024Z"
   },
   {
    "duration": 3,
    "start_time": "2023-08-08T08:49:31.965Z"
   },
   {
    "duration": 6,
    "start_time": "2023-08-08T08:49:55.331Z"
   },
   {
    "duration": 7,
    "start_time": "2023-08-08T09:05:05.044Z"
   },
   {
    "duration": 6,
    "start_time": "2023-08-08T09:05:07.764Z"
   },
   {
    "duration": 6,
    "start_time": "2023-08-08T09:11:49.342Z"
   },
   {
    "duration": 12,
    "start_time": "2023-08-08T09:14:12.682Z"
   },
   {
    "duration": 68,
    "start_time": "2023-08-08T09:15:08.820Z"
   },
   {
    "duration": 97,
    "start_time": "2023-08-08T09:15:20.824Z"
   },
   {
    "duration": 39,
    "start_time": "2023-08-08T09:15:39.836Z"
   },
   {
    "duration": 30,
    "start_time": "2023-08-08T09:15:47.859Z"
   },
   {
    "duration": 11,
    "start_time": "2023-08-08T09:15:55.854Z"
   },
   {
    "duration": 11,
    "start_time": "2023-08-08T09:16:02.865Z"
   },
   {
    "duration": 9,
    "start_time": "2023-08-08T09:16:11.012Z"
   },
   {
    "duration": 9,
    "start_time": "2023-08-08T09:16:23.013Z"
   },
   {
    "duration": 12,
    "start_time": "2023-08-08T09:16:23.457Z"
   },
   {
    "duration": 4,
    "start_time": "2023-08-08T09:16:45.559Z"
   },
   {
    "duration": 14,
    "start_time": "2023-08-08T09:16:46.098Z"
   },
   {
    "duration": 11,
    "start_time": "2023-08-08T09:16:49.431Z"
   },
   {
    "duration": 15,
    "start_time": "2023-08-08T09:16:49.902Z"
   },
   {
    "duration": 10,
    "start_time": "2023-08-08T09:17:21.702Z"
   },
   {
    "duration": 16,
    "start_time": "2023-08-08T09:17:31.699Z"
   },
   {
    "duration": 28,
    "start_time": "2023-08-08T09:17:42.223Z"
   },
   {
    "duration": 1108,
    "start_time": "2023-08-08T09:18:04.369Z"
   },
   {
    "duration": 3,
    "start_time": "2023-08-08T09:18:05.479Z"
   },
   {
    "duration": 818,
    "start_time": "2023-08-08T09:18:05.484Z"
   },
   {
    "duration": 131,
    "start_time": "2023-08-08T09:18:06.304Z"
   },
   {
    "duration": 37,
    "start_time": "2023-08-08T09:18:06.439Z"
   },
   {
    "duration": 144,
    "start_time": "2023-08-08T09:18:06.478Z"
   },
   {
    "duration": 22,
    "start_time": "2023-08-08T09:18:06.624Z"
   },
   {
    "duration": 52,
    "start_time": "2023-08-08T09:18:06.649Z"
   },
   {
    "duration": 33,
    "start_time": "2023-08-08T09:18:06.703Z"
   },
   {
    "duration": 369,
    "start_time": "2023-08-08T09:18:06.738Z"
   },
   {
    "duration": 4,
    "start_time": "2023-08-08T09:18:07.110Z"
   },
   {
    "duration": 26,
    "start_time": "2023-08-08T09:18:07.116Z"
   },
   {
    "duration": 3,
    "start_time": "2023-08-08T09:18:07.144Z"
   },
   {
    "duration": 26,
    "start_time": "2023-08-08T09:18:07.150Z"
   },
   {
    "duration": 17,
    "start_time": "2023-08-08T09:18:07.178Z"
   },
   {
    "duration": 21,
    "start_time": "2023-08-08T09:18:07.198Z"
   },
   {
    "duration": 19,
    "start_time": "2023-08-08T09:18:43.369Z"
   },
   {
    "duration": 19,
    "start_time": "2023-08-08T09:19:20.676Z"
   },
   {
    "duration": 1112,
    "start_time": "2023-08-08T09:19:26.463Z"
   },
   {
    "duration": 4,
    "start_time": "2023-08-08T09:19:27.577Z"
   },
   {
    "duration": 795,
    "start_time": "2023-08-08T09:19:27.583Z"
   },
   {
    "duration": 117,
    "start_time": "2023-08-08T09:19:28.379Z"
   },
   {
    "duration": 27,
    "start_time": "2023-08-08T09:19:28.499Z"
   },
   {
    "duration": 152,
    "start_time": "2023-08-08T09:19:28.528Z"
   },
   {
    "duration": 20,
    "start_time": "2023-08-08T09:19:28.681Z"
   },
   {
    "duration": 37,
    "start_time": "2023-08-08T09:19:28.703Z"
   },
   {
    "duration": 36,
    "start_time": "2023-08-08T09:19:28.741Z"
   },
   {
    "duration": 374,
    "start_time": "2023-08-08T09:19:28.779Z"
   },
   {
    "duration": 3,
    "start_time": "2023-08-08T09:19:29.154Z"
   },
   {
    "duration": 21,
    "start_time": "2023-08-08T09:19:29.158Z"
   },
   {
    "duration": 3,
    "start_time": "2023-08-08T09:19:29.181Z"
   },
   {
    "duration": 21,
    "start_time": "2023-08-08T09:19:29.188Z"
   },
   {
    "duration": 16,
    "start_time": "2023-08-08T09:19:29.211Z"
   },
   {
    "duration": 18,
    "start_time": "2023-08-08T09:19:29.229Z"
   },
   {
    "duration": 13,
    "start_time": "2023-08-08T09:31:07.392Z"
   },
   {
    "duration": 62,
    "start_time": "2023-08-08T09:32:10.030Z"
   },
   {
    "duration": 16,
    "start_time": "2023-08-08T09:32:20.802Z"
   },
   {
    "duration": 13,
    "start_time": "2023-08-08T09:32:35.051Z"
   },
   {
    "duration": 1105,
    "start_time": "2023-08-08T09:32:42.268Z"
   },
   {
    "duration": 4,
    "start_time": "2023-08-08T09:32:43.375Z"
   },
   {
    "duration": 812,
    "start_time": "2023-08-08T09:32:43.381Z"
   },
   {
    "duration": 119,
    "start_time": "2023-08-08T09:32:44.195Z"
   },
   {
    "duration": 26,
    "start_time": "2023-08-08T09:32:44.317Z"
   },
   {
    "duration": 154,
    "start_time": "2023-08-08T09:32:44.345Z"
   },
   {
    "duration": 22,
    "start_time": "2023-08-08T09:32:44.501Z"
   },
   {
    "duration": 52,
    "start_time": "2023-08-08T09:32:44.524Z"
   },
   {
    "duration": 21,
    "start_time": "2023-08-08T09:32:44.578Z"
   },
   {
    "duration": 362,
    "start_time": "2023-08-08T09:32:44.600Z"
   },
   {
    "duration": 3,
    "start_time": "2023-08-08T09:32:44.964Z"
   },
   {
    "duration": 15,
    "start_time": "2023-08-08T09:32:44.974Z"
   },
   {
    "duration": 3,
    "start_time": "2023-08-08T09:32:44.991Z"
   },
   {
    "duration": 26,
    "start_time": "2023-08-08T09:32:44.997Z"
   },
   {
    "duration": 48,
    "start_time": "2023-08-08T09:32:45.025Z"
   },
   {
    "duration": 40,
    "start_time": "2023-08-08T09:32:45.076Z"
   },
   {
    "duration": 15,
    "start_time": "2023-08-08T09:34:20.690Z"
   },
   {
    "duration": 13,
    "start_time": "2023-08-08T09:34:36.364Z"
   },
   {
    "duration": 93,
    "start_time": "2023-08-08T09:34:54.961Z"
   },
   {
    "duration": 17,
    "start_time": "2023-08-08T09:35:17.466Z"
   },
   {
    "duration": 14,
    "start_time": "2023-08-08T09:35:25.714Z"
   },
   {
    "duration": 1092,
    "start_time": "2023-08-08T09:35:30.679Z"
   },
   {
    "duration": 3,
    "start_time": "2023-08-08T09:35:31.773Z"
   },
   {
    "duration": 756,
    "start_time": "2023-08-08T09:35:31.777Z"
   },
   {
    "duration": 122,
    "start_time": "2023-08-08T09:35:32.535Z"
   },
   {
    "duration": 33,
    "start_time": "2023-08-08T09:35:32.660Z"
   },
   {
    "duration": 139,
    "start_time": "2023-08-08T09:35:32.695Z"
   },
   {
    "duration": 42,
    "start_time": "2023-08-08T09:35:32.836Z"
   },
   {
    "duration": 31,
    "start_time": "2023-08-08T09:35:32.880Z"
   },
   {
    "duration": 27,
    "start_time": "2023-08-08T09:35:32.913Z"
   },
   {
    "duration": 379,
    "start_time": "2023-08-08T09:35:32.941Z"
   },
   {
    "duration": 3,
    "start_time": "2023-08-08T09:35:33.322Z"
   },
   {
    "duration": 71,
    "start_time": "2023-08-08T09:35:33.326Z"
   },
   {
    "duration": 18,
    "start_time": "2023-08-08T09:35:33.399Z"
   },
   {
    "duration": 24,
    "start_time": "2023-08-08T09:35:33.419Z"
   },
   {
    "duration": 42,
    "start_time": "2023-08-08T09:35:33.444Z"
   },
   {
    "duration": 45,
    "start_time": "2023-08-08T09:35:33.487Z"
   },
   {
    "duration": 1158,
    "start_time": "2023-08-08T09:36:37.686Z"
   },
   {
    "duration": 1072,
    "start_time": "2023-08-08T09:36:49.073Z"
   },
   {
    "duration": 8,
    "start_time": "2023-08-08T09:37:01.663Z"
   },
   {
    "duration": 4,
    "start_time": "2023-08-08T09:37:14.124Z"
   },
   {
    "duration": 1154,
    "start_time": "2023-08-08T09:37:20.190Z"
   },
   {
    "duration": 3,
    "start_time": "2023-08-08T09:37:21.346Z"
   },
   {
    "duration": 818,
    "start_time": "2023-08-08T09:37:21.351Z"
   },
   {
    "duration": 112,
    "start_time": "2023-08-08T09:37:22.171Z"
   },
   {
    "duration": 27,
    "start_time": "2023-08-08T09:37:22.285Z"
   },
   {
    "duration": 154,
    "start_time": "2023-08-08T09:37:22.314Z"
   },
   {
    "duration": 24,
    "start_time": "2023-08-08T09:37:22.470Z"
   },
   {
    "duration": 38,
    "start_time": "2023-08-08T09:37:22.496Z"
   },
   {
    "duration": 42,
    "start_time": "2023-08-08T09:37:22.536Z"
   },
   {
    "duration": 375,
    "start_time": "2023-08-08T09:37:22.581Z"
   },
   {
    "duration": 4,
    "start_time": "2023-08-08T09:37:22.957Z"
   },
   {
    "duration": 26,
    "start_time": "2023-08-08T09:37:22.962Z"
   },
   {
    "duration": 4,
    "start_time": "2023-08-08T09:37:22.990Z"
   },
   {
    "duration": 26,
    "start_time": "2023-08-08T09:37:22.995Z"
   },
   {
    "duration": 23,
    "start_time": "2023-08-08T09:37:23.023Z"
   },
   {
    "duration": 4,
    "start_time": "2023-08-08T09:37:23.049Z"
   },
   {
    "duration": 20,
    "start_time": "2023-08-08T09:37:23.055Z"
   },
   {
    "duration": 11,
    "start_time": "2023-08-08T09:38:18.237Z"
   },
   {
    "duration": 129,
    "start_time": "2023-08-08T09:54:40.327Z"
   },
   {
    "duration": 42,
    "start_time": "2023-08-08T09:54:57.311Z"
   },
   {
    "duration": 11,
    "start_time": "2023-08-08T09:55:12.866Z"
   },
   {
    "duration": 1083,
    "start_time": "2023-08-08T09:56:03.292Z"
   },
   {
    "duration": 11,
    "start_time": "2023-08-08T09:56:18.507Z"
   },
   {
    "duration": 12,
    "start_time": "2023-08-08T09:56:34.791Z"
   },
   {
    "duration": 13,
    "start_time": "2023-08-08T09:56:42.748Z"
   },
   {
    "duration": 44,
    "start_time": "2023-08-08T09:56:51.925Z"
   },
   {
    "duration": 15,
    "start_time": "2023-08-08T09:59:08.492Z"
   },
   {
    "duration": 19,
    "start_time": "2023-08-08T10:00:24.931Z"
   },
   {
    "duration": 14,
    "start_time": "2023-08-08T10:01:04.043Z"
   },
   {
    "duration": 11,
    "start_time": "2023-08-08T10:01:42.932Z"
   },
   {
    "duration": 8,
    "start_time": "2023-08-08T10:01:49.553Z"
   },
   {
    "duration": 63,
    "start_time": "2023-08-08T10:01:53.559Z"
   },
   {
    "duration": 7,
    "start_time": "2023-08-08T10:01:56.546Z"
   },
   {
    "duration": 9,
    "start_time": "2023-08-08T10:02:34.066Z"
   },
   {
    "duration": 140,
    "start_time": "2023-08-08T10:02:43.515Z"
   },
   {
    "duration": 71,
    "start_time": "2023-08-08T10:02:45.354Z"
   },
   {
    "duration": 12,
    "start_time": "2023-08-08T10:02:48.223Z"
   },
   {
    "duration": 9,
    "start_time": "2023-08-08T10:05:55.487Z"
   },
   {
    "duration": 11,
    "start_time": "2023-08-08T10:06:09.100Z"
   },
   {
    "duration": 18,
    "start_time": "2023-08-08T10:06:20.218Z"
   },
   {
    "duration": 13,
    "start_time": "2023-08-08T10:06:25.666Z"
   },
   {
    "duration": 39,
    "start_time": "2023-08-08T10:06:34.790Z"
   },
   {
    "duration": 21,
    "start_time": "2023-08-08T10:08:20.394Z"
   },
   {
    "duration": 10,
    "start_time": "2023-08-08T10:11:49.483Z"
   },
   {
    "duration": 13,
    "start_time": "2023-08-08T10:12:02.365Z"
   },
   {
    "duration": 16,
    "start_time": "2023-08-08T10:12:15.463Z"
   },
   {
    "duration": 65,
    "start_time": "2023-08-08T10:13:24.521Z"
   },
   {
    "duration": 437,
    "start_time": "2023-08-08T10:13:35.392Z"
   },
   {
    "duration": 3,
    "start_time": "2023-08-08T10:16:27.257Z"
   },
   {
    "duration": 2,
    "start_time": "2023-08-08T10:19:49.466Z"
   },
   {
    "duration": 33,
    "start_time": "2023-08-08T10:20:07.209Z"
   },
   {
    "duration": 9,
    "start_time": "2023-08-08T10:20:17.955Z"
   },
   {
    "duration": 4442,
    "start_time": "2023-08-08T10:20:28.189Z"
   },
   {
    "duration": 13,
    "start_time": "2023-08-08T10:21:11.786Z"
   },
   {
    "duration": 4982,
    "start_time": "2023-08-08T10:21:24.724Z"
   },
   {
    "duration": 9,
    "start_time": "2023-08-08T10:23:46.513Z"
   },
   {
    "duration": 12,
    "start_time": "2023-08-08T10:23:59.641Z"
   },
   {
    "duration": 12,
    "start_time": "2023-08-08T10:24:06.561Z"
   },
   {
    "duration": 15,
    "start_time": "2023-08-08T10:24:29.751Z"
   },
   {
    "duration": 18,
    "start_time": "2023-08-08T10:24:35.813Z"
   },
   {
    "duration": 10,
    "start_time": "2023-08-08T10:24:46.115Z"
   },
   {
    "duration": 15,
    "start_time": "2023-08-08T10:24:53.523Z"
   },
   {
    "duration": 1189,
    "start_time": "2023-08-08T10:27:19.627Z"
   },
   {
    "duration": 11,
    "start_time": "2023-08-08T10:33:16.268Z"
   },
   {
    "duration": 12,
    "start_time": "2023-08-08T10:33:23.899Z"
   },
   {
    "duration": 26,
    "start_time": "2023-08-08T10:33:29.986Z"
   },
   {
    "duration": 32,
    "start_time": "2023-08-08T10:33:36.462Z"
   },
   {
    "duration": 28,
    "start_time": "2023-08-08T10:33:43.356Z"
   },
   {
    "duration": 11,
    "start_time": "2023-08-08T10:34:45.490Z"
   },
   {
    "duration": 15,
    "start_time": "2023-08-08T10:43:22.188Z"
   },
   {
    "duration": 9,
    "start_time": "2023-08-08T10:44:05.069Z"
   },
   {
    "duration": 8,
    "start_time": "2023-08-08T10:45:38.415Z"
   },
   {
    "duration": 8,
    "start_time": "2023-08-08T10:46:08.672Z"
   },
   {
    "duration": 13,
    "start_time": "2023-08-08T10:46:45.058Z"
   },
   {
    "duration": 10,
    "start_time": "2023-08-08T10:46:48.369Z"
   },
   {
    "duration": 1660,
    "start_time": "2023-08-08T10:46:53.644Z"
   },
   {
    "duration": 21,
    "start_time": "2023-08-08T10:47:54.646Z"
   },
   {
    "duration": 17,
    "start_time": "2023-08-08T10:50:38.954Z"
   },
   {
    "duration": 7,
    "start_time": "2023-08-08T10:50:51.268Z"
   },
   {
    "duration": 7,
    "start_time": "2023-08-08T10:51:38.403Z"
   },
   {
    "duration": 5,
    "start_time": "2023-08-08T10:52:29.621Z"
   },
   {
    "duration": 3,
    "start_time": "2023-08-08T10:52:38.103Z"
   },
   {
    "duration": 3,
    "start_time": "2023-08-08T10:53:41.967Z"
   },
   {
    "duration": 1009,
    "start_time": "2023-08-08T10:53:47.166Z"
   },
   {
    "duration": 1068,
    "start_time": "2023-08-08T10:54:08.433Z"
   },
   {
    "duration": 1118,
    "start_time": "2023-08-08T10:54:27.784Z"
   },
   {
    "duration": 958,
    "start_time": "2023-08-08T10:54:52.619Z"
   },
   {
    "duration": 1098,
    "start_time": "2023-08-08T10:55:07.069Z"
   },
   {
    "duration": 1015,
    "start_time": "2023-08-08T10:55:20.606Z"
   },
   {
    "duration": 31,
    "start_time": "2023-08-08T10:55:31.572Z"
   },
   {
    "duration": 6,
    "start_time": "2023-08-08T10:55:42.024Z"
   },
   {
    "duration": 1005,
    "start_time": "2023-08-08T10:57:06.070Z"
   },
   {
    "duration": 9,
    "start_time": "2023-08-08T10:57:13.630Z"
   },
   {
    "duration": 1030,
    "start_time": "2023-08-08T10:58:14.470Z"
   },
   {
    "duration": 9,
    "start_time": "2023-08-08T10:58:21.735Z"
   },
   {
    "duration": 10,
    "start_time": "2023-08-08T10:59:01.210Z"
   },
   {
    "duration": 1088,
    "start_time": "2023-08-08T10:59:06.801Z"
   },
   {
    "duration": 2,
    "start_time": "2023-08-08T11:00:16.415Z"
   },
   {
    "duration": 12,
    "start_time": "2023-08-08T11:00:16.829Z"
   },
   {
    "duration": 10,
    "start_time": "2023-08-08T11:00:31.327Z"
   },
   {
    "duration": 987,
    "start_time": "2023-08-08T11:00:33.607Z"
   },
   {
    "duration": 14,
    "start_time": "2023-08-08T11:01:26.092Z"
   },
   {
    "duration": 340,
    "start_time": "2023-08-08T11:01:32.890Z"
   },
   {
    "duration": 9,
    "start_time": "2023-08-08T11:04:54.562Z"
   },
   {
    "duration": 3,
    "start_time": "2023-08-08T11:05:05.086Z"
   },
   {
    "duration": 10,
    "start_time": "2023-08-08T11:05:05.575Z"
   },
   {
    "duration": 44,
    "start_time": "2023-08-08T11:05:05.895Z"
   },
   {
    "duration": 956,
    "start_time": "2023-08-08T11:08:52.961Z"
   },
   {
    "duration": 3027,
    "start_time": "2023-08-08T11:08:59.161Z"
   },
   {
    "duration": 4,
    "start_time": "2023-08-08T11:09:02.190Z"
   },
   {
    "duration": 826,
    "start_time": "2023-08-08T11:09:02.195Z"
   },
   {
    "duration": 120,
    "start_time": "2023-08-08T11:09:03.024Z"
   },
   {
    "duration": 38,
    "start_time": "2023-08-08T11:09:03.147Z"
   },
   {
    "duration": 142,
    "start_time": "2023-08-08T11:09:03.187Z"
   },
   {
    "duration": 22,
    "start_time": "2023-08-08T11:09:03.330Z"
   },
   {
    "duration": 43,
    "start_time": "2023-08-08T11:09:03.354Z"
   },
   {
    "duration": 20,
    "start_time": "2023-08-08T11:09:03.399Z"
   },
   {
    "duration": 396,
    "start_time": "2023-08-08T11:09:03.421Z"
   },
   {
    "duration": 3,
    "start_time": "2023-08-08T11:09:03.819Z"
   },
   {
    "duration": 19,
    "start_time": "2023-08-08T11:09:03.823Z"
   },
   {
    "duration": 3,
    "start_time": "2023-08-08T11:09:03.844Z"
   },
   {
    "duration": 27,
    "start_time": "2023-08-08T11:09:03.850Z"
   },
   {
    "duration": 125,
    "start_time": "2023-08-08T11:09:03.879Z"
   },
   {
    "duration": 0,
    "start_time": "2023-08-08T11:09:04.005Z"
   },
   {
    "duration": 0,
    "start_time": "2023-08-08T11:09:04.007Z"
   },
   {
    "duration": 0,
    "start_time": "2023-08-08T11:09:04.008Z"
   },
   {
    "duration": 0,
    "start_time": "2023-08-08T11:09:04.009Z"
   },
   {
    "duration": 0,
    "start_time": "2023-08-08T11:09:04.010Z"
   },
   {
    "duration": 0,
    "start_time": "2023-08-08T11:09:04.011Z"
   },
   {
    "duration": 0,
    "start_time": "2023-08-08T11:09:04.012Z"
   },
   {
    "duration": 0,
    "start_time": "2023-08-08T11:09:04.013Z"
   },
   {
    "duration": 0,
    "start_time": "2023-08-08T11:09:04.014Z"
   },
   {
    "duration": 0,
    "start_time": "2023-08-08T11:09:04.015Z"
   },
   {
    "duration": 0,
    "start_time": "2023-08-08T11:09:04.016Z"
   },
   {
    "duration": 0,
    "start_time": "2023-08-08T11:09:04.017Z"
   },
   {
    "duration": 0,
    "start_time": "2023-08-08T11:09:04.018Z"
   },
   {
    "duration": 0,
    "start_time": "2023-08-08T11:09:04.019Z"
   },
   {
    "duration": 0,
    "start_time": "2023-08-08T11:09:04.021Z"
   },
   {
    "duration": 0,
    "start_time": "2023-08-08T11:09:04.022Z"
   },
   {
    "duration": 803,
    "start_time": "2023-08-08T11:10:43.646Z"
   },
   {
    "duration": 1301,
    "start_time": "2023-08-08T11:10:48.323Z"
   },
   {
    "duration": 4,
    "start_time": "2023-08-08T11:10:49.627Z"
   },
   {
    "duration": 826,
    "start_time": "2023-08-08T11:10:49.632Z"
   },
   {
    "duration": 161,
    "start_time": "2023-08-08T11:10:50.461Z"
   },
   {
    "duration": 28,
    "start_time": "2023-08-08T11:10:50.624Z"
   },
   {
    "duration": 166,
    "start_time": "2023-08-08T11:10:50.653Z"
   },
   {
    "duration": 28,
    "start_time": "2023-08-08T11:10:50.821Z"
   },
   {
    "duration": 58,
    "start_time": "2023-08-08T11:10:50.851Z"
   },
   {
    "duration": 31,
    "start_time": "2023-08-08T11:10:50.911Z"
   },
   {
    "duration": 392,
    "start_time": "2023-08-08T11:10:50.946Z"
   },
   {
    "duration": 4,
    "start_time": "2023-08-08T11:10:51.339Z"
   },
   {
    "duration": 40,
    "start_time": "2023-08-08T11:10:51.345Z"
   },
   {
    "duration": 16,
    "start_time": "2023-08-08T11:10:51.387Z"
   },
   {
    "duration": 20,
    "start_time": "2023-08-08T11:10:51.405Z"
   },
   {
    "duration": 39,
    "start_time": "2023-08-08T11:10:51.427Z"
   },
   {
    "duration": 69,
    "start_time": "2023-08-08T11:10:51.468Z"
   },
   {
    "duration": 18,
    "start_time": "2023-08-08T11:10:51.539Z"
   },
   {
    "duration": 24,
    "start_time": "2023-08-08T11:10:51.559Z"
   },
   {
    "duration": 4805,
    "start_time": "2023-08-08T11:10:51.585Z"
   },
   {
    "duration": 21,
    "start_time": "2023-08-08T11:10:56.391Z"
   },
   {
    "duration": 1183,
    "start_time": "2023-08-08T11:10:56.414Z"
   },
   {
    "duration": 29,
    "start_time": "2023-08-08T11:10:57.599Z"
   },
   {
    "duration": 8,
    "start_time": "2023-08-08T11:10:57.629Z"
   },
   {
    "duration": 1534,
    "start_time": "2023-08-08T11:10:57.638Z"
   },
   {
    "duration": 29,
    "start_time": "2023-08-08T11:10:59.173Z"
   },
   {
    "duration": 8,
    "start_time": "2023-08-08T11:10:59.204Z"
   },
   {
    "duration": 9,
    "start_time": "2023-08-08T11:10:59.215Z"
   },
   {
    "duration": 33,
    "start_time": "2023-08-08T11:10:59.228Z"
   },
   {
    "duration": 19,
    "start_time": "2023-08-08T11:10:59.263Z"
   },
   {
    "duration": 11,
    "start_time": "2023-08-08T11:10:59.289Z"
   },
   {
    "duration": 161,
    "start_time": "2023-08-08T11:10:59.303Z"
   },
   {
    "duration": 30,
    "start_time": "2023-08-08T11:11:21.365Z"
   },
   {
    "duration": 10,
    "start_time": "2023-08-08T11:15:41.447Z"
   },
   {
    "duration": 9,
    "start_time": "2023-08-08T11:15:55.635Z"
   },
   {
    "duration": 11,
    "start_time": "2023-08-08T11:16:11.493Z"
   },
   {
    "duration": 1459,
    "start_time": "2023-08-08T11:16:20.012Z"
   },
   {
    "duration": 11,
    "start_time": "2023-08-08T11:17:54.560Z"
   },
   {
    "duration": 58,
    "start_time": "2023-08-08T11:18:01.725Z"
   },
   {
    "duration": 1470,
    "start_time": "2023-08-08T11:18:09.197Z"
   },
   {
    "duration": 5,
    "start_time": "2023-08-08T11:18:10.669Z"
   },
   {
    "duration": 808,
    "start_time": "2023-08-08T11:18:10.675Z"
   },
   {
    "duration": 105,
    "start_time": "2023-08-08T11:18:11.485Z"
   },
   {
    "duration": 24,
    "start_time": "2023-08-08T11:18:11.592Z"
   },
   {
    "duration": 144,
    "start_time": "2023-08-08T11:18:11.618Z"
   },
   {
    "duration": 25,
    "start_time": "2023-08-08T11:18:11.763Z"
   },
   {
    "duration": 46,
    "start_time": "2023-08-08T11:18:11.790Z"
   },
   {
    "duration": 20,
    "start_time": "2023-08-08T11:18:11.838Z"
   },
   {
    "duration": 371,
    "start_time": "2023-08-08T11:18:11.876Z"
   },
   {
    "duration": 3,
    "start_time": "2023-08-08T11:18:12.248Z"
   },
   {
    "duration": 22,
    "start_time": "2023-08-08T11:18:12.252Z"
   },
   {
    "duration": 15,
    "start_time": "2023-08-08T11:18:12.276Z"
   },
   {
    "duration": 14,
    "start_time": "2023-08-08T11:18:12.293Z"
   },
   {
    "duration": 29,
    "start_time": "2023-08-08T11:18:12.308Z"
   },
   {
    "duration": 20,
    "start_time": "2023-08-08T11:18:12.339Z"
   },
   {
    "duration": 15,
    "start_time": "2023-08-08T11:18:12.361Z"
   },
   {
    "duration": 11,
    "start_time": "2023-08-08T11:18:12.378Z"
   },
   {
    "duration": 24,
    "start_time": "2023-08-08T11:18:12.391Z"
   },
   {
    "duration": 4588,
    "start_time": "2023-08-08T11:18:12.417Z"
   },
   {
    "duration": 16,
    "start_time": "2023-08-08T11:18:17.007Z"
   },
   {
    "duration": 1121,
    "start_time": "2023-08-08T11:18:17.025Z"
   },
   {
    "duration": 37,
    "start_time": "2023-08-08T11:18:18.148Z"
   },
   {
    "duration": 8,
    "start_time": "2023-08-08T11:18:18.187Z"
   },
   {
    "duration": 1448,
    "start_time": "2023-08-08T11:18:18.197Z"
   },
   {
    "duration": 61,
    "start_time": "2023-08-08T11:18:19.647Z"
   },
   {
    "duration": 10,
    "start_time": "2023-08-08T11:18:19.711Z"
   },
   {
    "duration": 4,
    "start_time": "2023-08-08T11:18:19.724Z"
   },
   {
    "duration": 12,
    "start_time": "2023-08-08T11:18:19.730Z"
   },
   {
    "duration": 5,
    "start_time": "2023-08-08T11:18:19.743Z"
   },
   {
    "duration": 25,
    "start_time": "2023-08-08T11:18:19.750Z"
   },
   {
    "duration": 192,
    "start_time": "2023-08-08T11:18:19.777Z"
   },
   {
    "duration": 6,
    "start_time": "2023-08-08T11:19:39.011Z"
   },
   {
    "duration": 9,
    "start_time": "2023-08-08T11:19:40.096Z"
   },
   {
    "duration": 631,
    "start_time": "2023-08-08T11:19:41.414Z"
   },
   {
    "duration": 5057,
    "start_time": "2023-08-08T11:22:37.531Z"
   },
   {
    "duration": 8773,
    "start_time": "2023-08-08T11:22:54.509Z"
   },
   {
    "duration": 962,
    "start_time": "2023-08-08T11:23:05.224Z"
   },
   {
    "duration": 657,
    "start_time": "2023-08-08T11:23:12.247Z"
   },
   {
    "duration": 5003,
    "start_time": "2023-08-08T11:24:35.397Z"
   },
   {
    "duration": 8296,
    "start_time": "2023-08-08T11:24:40.403Z"
   },
   {
    "duration": 685,
    "start_time": "2023-08-08T11:24:48.701Z"
   },
   {
    "duration": 679,
    "start_time": "2023-08-08T11:27:24.053Z"
   },
   {
    "duration": 108,
    "start_time": "2023-08-08T11:28:21.274Z"
   },
   {
    "duration": 653,
    "start_time": "2023-08-08T11:28:36.161Z"
   },
   {
    "duration": 1384,
    "start_time": "2023-08-08T11:29:40.032Z"
   },
   {
    "duration": 4,
    "start_time": "2023-08-08T11:29:41.420Z"
   },
   {
    "duration": 1074,
    "start_time": "2023-08-08T11:29:41.425Z"
   },
   {
    "duration": 107,
    "start_time": "2023-08-08T11:29:42.500Z"
   },
   {
    "duration": 22,
    "start_time": "2023-08-08T11:29:42.608Z"
   },
   {
    "duration": 143,
    "start_time": "2023-08-08T11:29:42.631Z"
   },
   {
    "duration": 19,
    "start_time": "2023-08-08T11:29:42.776Z"
   },
   {
    "duration": 27,
    "start_time": "2023-08-08T11:29:42.797Z"
   },
   {
    "duration": 49,
    "start_time": "2023-08-08T11:29:42.826Z"
   },
   {
    "duration": 354,
    "start_time": "2023-08-08T11:29:42.878Z"
   },
   {
    "duration": 3,
    "start_time": "2023-08-08T11:29:43.234Z"
   },
   {
    "duration": 24,
    "start_time": "2023-08-08T11:29:43.238Z"
   },
   {
    "duration": 24,
    "start_time": "2023-08-08T11:29:43.263Z"
   },
   {
    "duration": 26,
    "start_time": "2023-08-08T11:29:43.289Z"
   },
   {
    "duration": 18,
    "start_time": "2023-08-08T11:29:43.316Z"
   },
   {
    "duration": 20,
    "start_time": "2023-08-08T11:29:43.335Z"
   },
   {
    "duration": 20,
    "start_time": "2023-08-08T11:29:43.356Z"
   },
   {
    "duration": 22,
    "start_time": "2023-08-08T11:29:43.378Z"
   },
   {
    "duration": 23,
    "start_time": "2023-08-08T11:29:43.401Z"
   },
   {
    "duration": 4521,
    "start_time": "2023-08-08T11:29:43.426Z"
   },
   {
    "duration": 16,
    "start_time": "2023-08-08T11:29:47.948Z"
   },
   {
    "duration": 1063,
    "start_time": "2023-08-08T11:29:47.965Z"
   },
   {
    "duration": 27,
    "start_time": "2023-08-08T11:29:49.029Z"
   },
   {
    "duration": 17,
    "start_time": "2023-08-08T11:29:49.058Z"
   },
   {
    "duration": 1491,
    "start_time": "2023-08-08T11:29:49.077Z"
   },
   {
    "duration": 24,
    "start_time": "2023-08-08T11:29:50.573Z"
   },
   {
    "duration": 13,
    "start_time": "2023-08-08T11:29:50.599Z"
   },
   {
    "duration": 30,
    "start_time": "2023-08-08T11:29:50.615Z"
   },
   {
    "duration": 40,
    "start_time": "2023-08-08T11:29:50.647Z"
   },
   {
    "duration": 30,
    "start_time": "2023-08-08T11:29:50.688Z"
   },
   {
    "duration": 44,
    "start_time": "2023-08-08T11:29:50.719Z"
   },
   {
    "duration": 5065,
    "start_time": "2023-08-08T11:29:50.765Z"
   },
   {
    "duration": 8656,
    "start_time": "2023-08-08T11:29:55.831Z"
   },
   {
    "duration": 798,
    "start_time": "2023-08-08T11:30:04.489Z"
   },
   {
    "duration": 758,
    "start_time": "2023-08-08T11:30:05.376Z"
   },
   {
    "duration": 5,
    "start_time": "2023-08-08T11:30:39.320Z"
   },
   {
    "duration": 318,
    "start_time": "2023-08-08T11:31:13.936Z"
   },
   {
    "duration": 35767,
    "start_time": "2023-08-08T11:33:25.058Z"
   },
   {
    "duration": 7101,
    "start_time": "2023-08-08T11:34:20.319Z"
   },
   {
    "duration": 29489,
    "start_time": "2023-08-08T11:34:51.091Z"
   },
   {
    "duration": 2426,
    "start_time": "2023-08-08T11:35:59.702Z"
   },
   {
    "duration": 1828,
    "start_time": "2023-08-08T11:43:41.231Z"
   },
   {
    "duration": 4,
    "start_time": "2023-08-08T11:43:43.060Z"
   },
   {
    "duration": 1660,
    "start_time": "2023-08-08T11:43:43.066Z"
   },
   {
    "duration": 116,
    "start_time": "2023-08-08T11:43:44.728Z"
   },
   {
    "duration": 30,
    "start_time": "2023-08-08T11:43:44.847Z"
   },
   {
    "duration": 140,
    "start_time": "2023-08-08T11:43:44.879Z"
   },
   {
    "duration": 22,
    "start_time": "2023-08-08T11:43:45.021Z"
   },
   {
    "duration": 63,
    "start_time": "2023-08-08T11:43:45.045Z"
   },
   {
    "duration": 18,
    "start_time": "2023-08-08T11:43:45.110Z"
   },
   {
    "duration": 375,
    "start_time": "2023-08-08T11:43:45.130Z"
   },
   {
    "duration": 3,
    "start_time": "2023-08-08T11:43:45.507Z"
   },
   {
    "duration": 31,
    "start_time": "2023-08-08T11:43:45.511Z"
   },
   {
    "duration": 3,
    "start_time": "2023-08-08T11:43:45.543Z"
   },
   {
    "duration": 13,
    "start_time": "2023-08-08T11:43:45.549Z"
   },
   {
    "duration": 23,
    "start_time": "2023-08-08T11:43:45.564Z"
   },
   {
    "duration": 28,
    "start_time": "2023-08-08T11:43:45.589Z"
   },
   {
    "duration": 18,
    "start_time": "2023-08-08T11:43:45.618Z"
   },
   {
    "duration": 12,
    "start_time": "2023-08-08T11:43:45.637Z"
   },
   {
    "duration": 15,
    "start_time": "2023-08-08T11:43:45.650Z"
   },
   {
    "duration": 4586,
    "start_time": "2023-08-08T11:43:45.666Z"
   },
   {
    "duration": 45,
    "start_time": "2023-08-08T11:43:50.255Z"
   },
   {
    "duration": 1205,
    "start_time": "2023-08-08T11:43:50.303Z"
   },
   {
    "duration": 28,
    "start_time": "2023-08-08T11:43:51.511Z"
   },
   {
    "duration": 8,
    "start_time": "2023-08-08T11:43:51.541Z"
   },
   {
    "duration": 1530,
    "start_time": "2023-08-08T11:43:51.550Z"
   },
   {
    "duration": 25,
    "start_time": "2023-08-08T11:43:53.082Z"
   },
   {
    "duration": 6,
    "start_time": "2023-08-08T11:43:53.108Z"
   },
   {
    "duration": 5,
    "start_time": "2023-08-08T11:43:53.115Z"
   },
   {
    "duration": 9,
    "start_time": "2023-08-08T11:43:53.121Z"
   },
   {
    "duration": 7,
    "start_time": "2023-08-08T11:43:53.132Z"
   },
   {
    "duration": 9,
    "start_time": "2023-08-08T11:43:53.140Z"
   },
   {
    "duration": 5313,
    "start_time": "2023-08-08T11:43:53.151Z"
   },
   {
    "duration": 30173,
    "start_time": "2023-08-08T11:43:58.466Z"
   },
   {
    "duration": 1444,
    "start_time": "2023-08-08T11:44:28.641Z"
   },
   {
    "duration": 2445,
    "start_time": "2023-08-08T11:44:30.093Z"
   },
   {
    "duration": 52,
    "start_time": "2023-08-09T06:10:28.413Z"
   },
   {
    "duration": 8,
    "start_time": "2023-08-09T06:10:36.579Z"
   },
   {
    "duration": 11,
    "start_time": "2023-08-09T06:10:43.150Z"
   },
   {
    "duration": 7,
    "start_time": "2023-08-09T06:11:21.107Z"
   },
   {
    "duration": 1517,
    "start_time": "2023-08-09T06:11:34.305Z"
   },
   {
    "duration": 4,
    "start_time": "2023-08-09T06:11:35.824Z"
   },
   {
    "duration": 3963,
    "start_time": "2023-08-09T06:11:38.230Z"
   },
   {
    "duration": 118,
    "start_time": "2023-08-09T06:11:42.195Z"
   },
   {
    "duration": 24,
    "start_time": "2023-08-09T06:11:42.314Z"
   },
   {
    "duration": 155,
    "start_time": "2023-08-09T06:11:42.340Z"
   },
   {
    "duration": 19,
    "start_time": "2023-08-09T06:11:42.497Z"
   },
   {
    "duration": 44,
    "start_time": "2023-08-09T06:11:42.518Z"
   },
   {
    "duration": 28,
    "start_time": "2023-08-09T06:11:42.563Z"
   },
   {
    "duration": 380,
    "start_time": "2023-08-09T06:11:42.593Z"
   },
   {
    "duration": 104,
    "start_time": "2023-08-09T06:11:46.495Z"
   },
   {
    "duration": 15,
    "start_time": "2023-08-09T06:11:55.128Z"
   },
   {
    "duration": 6,
    "start_time": "2023-08-09T06:12:17.531Z"
   },
   {
    "duration": 10,
    "start_time": "2023-08-09T06:12:31.216Z"
   },
   {
    "duration": 6,
    "start_time": "2023-08-09T06:13:01.693Z"
   },
   {
    "duration": 2,
    "start_time": "2023-08-09T06:49:16.715Z"
   },
   {
    "duration": 6,
    "start_time": "2023-08-09T06:49:17.401Z"
   },
   {
    "duration": 11,
    "start_time": "2023-08-09T06:52:59.898Z"
   },
   {
    "duration": 59,
    "start_time": "2023-08-09T06:53:34.738Z"
   },
   {
    "duration": 19,
    "start_time": "2023-08-09T06:53:47.399Z"
   },
   {
    "duration": 9,
    "start_time": "2023-08-09T06:54:06.981Z"
   },
   {
    "duration": 8,
    "start_time": "2023-08-09T06:57:18.134Z"
   },
   {
    "duration": 9,
    "start_time": "2023-08-09T06:57:45.902Z"
   },
   {
    "duration": 16,
    "start_time": "2023-08-09T06:59:52.658Z"
   },
   {
    "duration": 21,
    "start_time": "2023-08-09T06:59:54.130Z"
   },
   {
    "duration": 17,
    "start_time": "2023-08-09T06:59:54.813Z"
   },
   {
    "duration": 13,
    "start_time": "2023-08-09T06:59:56.019Z"
   },
   {
    "duration": 11,
    "start_time": "2023-08-09T07:00:51.277Z"
   },
   {
    "duration": 3,
    "start_time": "2023-08-09T07:00:53.311Z"
   },
   {
    "duration": 5064,
    "start_time": "2023-08-09T07:00:53.830Z"
   },
   {
    "duration": 18,
    "start_time": "2023-08-09T07:02:53.080Z"
   },
   {
    "duration": 12,
    "start_time": "2023-08-09T07:04:40.386Z"
   },
   {
    "duration": 10,
    "start_time": "2023-08-09T07:04:47.899Z"
   },
   {
    "duration": 306,
    "start_time": "2023-08-09T07:05:08.678Z"
   },
   {
    "duration": 269,
    "start_time": "2023-08-09T07:06:02.757Z"
   },
   {
    "duration": 398,
    "start_time": "2023-08-09T07:06:50.086Z"
   },
   {
    "duration": 838,
    "start_time": "2023-08-09T07:07:09.687Z"
   },
   {
    "duration": 1333,
    "start_time": "2023-08-09T07:07:55.052Z"
   },
   {
    "duration": 1345,
    "start_time": "2023-08-09T07:08:04.374Z"
   },
   {
    "duration": 1243,
    "start_time": "2023-08-09T07:08:21.916Z"
   },
   {
    "duration": 1588,
    "start_time": "2023-08-09T07:08:42.060Z"
   },
   {
    "duration": 1515,
    "start_time": "2023-08-09T07:08:48.096Z"
   },
   {
    "duration": 1597,
    "start_time": "2023-08-09T07:08:58.084Z"
   },
   {
    "duration": 1394,
    "start_time": "2023-08-09T07:09:17.886Z"
   },
   {
    "duration": 1556,
    "start_time": "2023-08-09T07:10:06.913Z"
   },
   {
    "duration": 67,
    "start_time": "2023-08-09T07:10:25.097Z"
   },
   {
    "duration": 1445,
    "start_time": "2023-08-09T07:10:28.777Z"
   },
   {
    "duration": 1732,
    "start_time": "2023-08-09T07:12:01.102Z"
   },
   {
    "duration": 1726,
    "start_time": "2023-08-09T07:12:11.995Z"
   },
   {
    "duration": 2310,
    "start_time": "2023-08-09T07:12:19.282Z"
   },
   {
    "duration": 67,
    "start_time": "2023-08-09T07:12:54.001Z"
   },
   {
    "duration": 2708,
    "start_time": "2023-08-09T07:12:57.803Z"
   },
   {
    "duration": 2315,
    "start_time": "2023-08-09T07:13:10.856Z"
   },
   {
    "duration": 60,
    "start_time": "2023-08-09T07:13:46.857Z"
   },
   {
    "duration": 2372,
    "start_time": "2023-08-09T07:13:49.772Z"
   },
   {
    "duration": 2528,
    "start_time": "2023-08-09T07:14:27.265Z"
   },
   {
    "duration": 2401,
    "start_time": "2023-08-09T07:15:39.109Z"
   },
   {
    "duration": 2388,
    "start_time": "2023-08-09T07:15:49.932Z"
   },
   {
    "duration": 2122,
    "start_time": "2023-08-09T07:16:16.262Z"
   },
   {
    "duration": 1795,
    "start_time": "2023-08-09T07:17:03.292Z"
   },
   {
    "duration": 443,
    "start_time": "2023-08-09T07:17:29.595Z"
   },
   {
    "duration": 648,
    "start_time": "2023-08-09T07:17:39.310Z"
   },
   {
    "duration": 2273,
    "start_time": "2023-08-09T07:18:17.732Z"
   },
   {
    "duration": 2436,
    "start_time": "2023-08-09T07:18:29.090Z"
   },
   {
    "duration": 2631,
    "start_time": "2023-08-09T07:19:01.454Z"
   },
   {
    "duration": 2244,
    "start_time": "2023-08-09T07:19:15.612Z"
   },
   {
    "duration": 2596,
    "start_time": "2023-08-09T07:19:23.655Z"
   },
   {
    "duration": 2436,
    "start_time": "2023-08-09T07:19:40.140Z"
   },
   {
    "duration": 2384,
    "start_time": "2023-08-09T10:04:55.940Z"
   },
   {
    "duration": 1758,
    "start_time": "2023-08-09T10:05:20.698Z"
   },
   {
    "duration": 58,
    "start_time": "2023-08-09T12:36:03.878Z"
   },
   {
    "duration": 101,
    "start_time": "2023-08-09T12:36:06.842Z"
   },
   {
    "duration": 2106,
    "start_time": "2023-08-09T12:37:05.195Z"
   },
   {
    "duration": 1293,
    "start_time": "2023-08-09T12:37:58.483Z"
   },
   {
    "duration": 6176,
    "start_time": "2023-08-09T12:38:25.696Z"
   },
   {
    "duration": 6375,
    "start_time": "2023-08-09T12:39:05.887Z"
   },
   {
    "duration": 6525,
    "start_time": "2023-08-09T12:39:13.566Z"
   },
   {
    "duration": 6491,
    "start_time": "2023-08-09T12:42:27.166Z"
   },
   {
    "duration": 6252,
    "start_time": "2023-08-09T12:42:39.410Z"
   },
   {
    "duration": 1577,
    "start_time": "2023-08-09T12:48:26.899Z"
   },
   {
    "duration": 109,
    "start_time": "2023-08-09T12:57:09.770Z"
   },
   {
    "duration": 6401,
    "start_time": "2023-08-09T12:57:14.209Z"
   },
   {
    "duration": 6168,
    "start_time": "2023-08-09T12:57:35.744Z"
   },
   {
    "duration": 6476,
    "start_time": "2023-08-09T13:02:15.125Z"
   },
   {
    "duration": 8,
    "start_time": "2023-08-09T13:03:29.731Z"
   },
   {
    "duration": 1418,
    "start_time": "2023-08-09T13:03:30.639Z"
   },
   {
    "duration": 36,
    "start_time": "2023-08-09T13:03:37.335Z"
   },
   {
    "duration": 67,
    "start_time": "2023-08-09T13:06:27.527Z"
   },
   {
    "duration": 94,
    "start_time": "2023-08-09T13:07:16.180Z"
   },
   {
    "duration": 5627,
    "start_time": "2023-08-09T13:07:45.629Z"
   },
   {
    "duration": 73,
    "start_time": "2023-08-09T13:08:25.328Z"
   },
   {
    "duration": 3532,
    "start_time": "2023-08-09T13:09:03.389Z"
   },
   {
    "duration": 72,
    "start_time": "2023-08-09T13:10:54.119Z"
   },
   {
    "duration": 2619,
    "start_time": "2023-08-09T13:11:52.317Z"
   },
   {
    "duration": 2702,
    "start_time": "2023-08-09T13:12:56.454Z"
   },
   {
    "duration": 2593,
    "start_time": "2023-08-09T13:13:09.956Z"
   },
   {
    "duration": 2773,
    "start_time": "2023-08-09T13:13:18.602Z"
   },
   {
    "duration": 2541,
    "start_time": "2023-08-09T13:15:23.352Z"
   },
   {
    "duration": 2534,
    "start_time": "2023-08-09T13:20:13.765Z"
   },
   {
    "duration": 2633,
    "start_time": "2023-08-09T13:20:55.281Z"
   },
   {
    "duration": 8,
    "start_time": "2023-08-09T13:37:40.905Z"
   },
   {
    "duration": 8,
    "start_time": "2023-08-09T13:38:12.748Z"
   },
   {
    "duration": 8,
    "start_time": "2023-08-09T13:39:19.592Z"
   },
   {
    "duration": 8,
    "start_time": "2023-08-09T13:39:27.902Z"
   },
   {
    "duration": 22,
    "start_time": "2023-08-09T15:00:08.552Z"
   },
   {
    "duration": 8,
    "start_time": "2023-08-09T15:23:12.409Z"
   },
   {
    "duration": 68,
    "start_time": "2023-08-09T15:24:05.964Z"
   },
   {
    "duration": 1830,
    "start_time": "2023-08-09T15:24:31.927Z"
   },
   {
    "duration": 1934,
    "start_time": "2023-08-09T15:25:39.670Z"
   },
   {
    "duration": 1796,
    "start_time": "2023-08-09T15:26:26.655Z"
   },
   {
    "duration": 2040,
    "start_time": "2023-08-09T15:27:08.613Z"
   },
   {
    "duration": 1541,
    "start_time": "2023-08-09T15:27:45.841Z"
   },
   {
    "duration": 5,
    "start_time": "2023-08-09T15:27:47.384Z"
   },
   {
    "duration": 777,
    "start_time": "2023-08-09T15:27:47.391Z"
   },
   {
    "duration": 117,
    "start_time": "2023-08-09T15:27:48.170Z"
   },
   {
    "duration": 26,
    "start_time": "2023-08-09T15:27:48.289Z"
   },
   {
    "duration": 165,
    "start_time": "2023-08-09T15:27:48.317Z"
   },
   {
    "duration": 20,
    "start_time": "2023-08-09T15:27:48.484Z"
   },
   {
    "duration": 50,
    "start_time": "2023-08-09T15:27:48.506Z"
   },
   {
    "duration": 22,
    "start_time": "2023-08-09T15:27:48.558Z"
   },
   {
    "duration": 385,
    "start_time": "2023-08-09T15:27:48.582Z"
   },
   {
    "duration": 6,
    "start_time": "2023-08-09T15:27:48.970Z"
   },
   {
    "duration": 26,
    "start_time": "2023-08-09T15:27:48.978Z"
   },
   {
    "duration": 8,
    "start_time": "2023-08-09T15:27:49.006Z"
   },
   {
    "duration": 7,
    "start_time": "2023-08-09T15:27:49.019Z"
   },
   {
    "duration": 34,
    "start_time": "2023-08-09T15:27:49.029Z"
   },
   {
    "duration": 25,
    "start_time": "2023-08-09T15:27:49.065Z"
   },
   {
    "duration": 27,
    "start_time": "2023-08-09T15:27:49.092Z"
   },
   {
    "duration": 15,
    "start_time": "2023-08-09T15:27:49.122Z"
   },
   {
    "duration": 6857,
    "start_time": "2023-08-09T15:27:49.139Z"
   },
   {
    "duration": 2613,
    "start_time": "2023-08-09T15:27:55.998Z"
   },
   {
    "duration": 8,
    "start_time": "2023-08-09T15:27:58.612Z"
   },
   {
    "duration": 25,
    "start_time": "2023-08-09T15:27:58.622Z"
   },
   {
    "duration": 2031,
    "start_time": "2023-08-09T15:27:58.649Z"
   },
   {
    "duration": 9,
    "start_time": "2023-08-09T15:28:00.682Z"
   },
   {
    "duration": 35,
    "start_time": "2023-08-09T15:28:00.692Z"
   },
   {
    "duration": 56,
    "start_time": "2023-08-09T15:28:00.729Z"
   },
   {
    "duration": 30,
    "start_time": "2023-08-09T15:28:00.788Z"
   },
   {
    "duration": 21,
    "start_time": "2023-08-09T15:28:00.820Z"
   },
   {
    "duration": 5126,
    "start_time": "2023-08-09T15:28:00.843Z"
   },
   {
    "duration": 29045,
    "start_time": "2023-08-09T15:28:05.972Z"
   },
   {
    "duration": 741,
    "start_time": "2023-08-09T15:28:35.019Z"
   },
   {
    "duration": 2237,
    "start_time": "2023-08-09T15:28:35.855Z"
   },
   {
    "duration": 4,
    "start_time": "2023-08-09T15:31:17.820Z"
   },
   {
    "duration": 4,
    "start_time": "2023-08-09T15:31:27.106Z"
   },
   {
    "duration": 4,
    "start_time": "2023-08-09T15:32:51.228Z"
   },
   {
    "duration": 1602,
    "start_time": "2023-08-09T15:33:07.626Z"
   },
   {
    "duration": 5,
    "start_time": "2023-08-09T15:33:09.230Z"
   },
   {
    "duration": 737,
    "start_time": "2023-08-09T15:33:09.730Z"
   },
   {
    "duration": 127,
    "start_time": "2023-08-09T15:33:10.469Z"
   },
   {
    "duration": 25,
    "start_time": "2023-08-09T15:33:10.710Z"
   },
   {
    "duration": 128,
    "start_time": "2023-08-09T15:33:11.938Z"
   },
   {
    "duration": 22,
    "start_time": "2023-08-09T15:33:15.640Z"
   },
   {
    "duration": 29,
    "start_time": "2023-08-09T15:33:17.552Z"
   },
   {
    "duration": 20,
    "start_time": "2023-08-09T15:33:19.173Z"
   },
   {
    "duration": 355,
    "start_time": "2023-08-09T15:33:20.446Z"
   },
   {
    "duration": 7,
    "start_time": "2023-08-09T15:33:24.147Z"
   },
   {
    "duration": 5,
    "start_time": "2023-08-09T15:33:25.028Z"
   },
   {
    "duration": 3,
    "start_time": "2023-08-09T15:33:27.210Z"
   },
   {
    "duration": 6,
    "start_time": "2023-08-09T15:33:29.349Z"
   },
   {
    "duration": 17,
    "start_time": "2023-08-09T15:33:33.565Z"
   },
   {
    "duration": 4,
    "start_time": "2023-08-09T15:33:36.781Z"
   },
   {
    "duration": 21,
    "start_time": "2023-08-09T15:33:37.935Z"
   },
   {
    "duration": 17,
    "start_time": "2023-08-09T15:33:39.090Z"
   },
   {
    "duration": 13,
    "start_time": "2023-08-09T15:33:41.856Z"
   },
   {
    "duration": 3,
    "start_time": "2023-08-09T15:33:52.289Z"
   },
   {
    "duration": 9,
    "start_time": "2023-08-09T15:33:54.572Z"
   },
   {
    "duration": 15,
    "start_time": "2023-08-09T15:33:55.543Z"
   },
   {
    "duration": 23,
    "start_time": "2023-08-09T15:33:57.016Z"
   },
   {
    "duration": 4,
    "start_time": "2023-08-09T15:34:04.255Z"
   },
   {
    "duration": 6505,
    "start_time": "2023-08-09T15:34:08.007Z"
   },
   {
    "duration": 4,
    "start_time": "2023-08-09T15:34:25.718Z"
   },
   {
    "duration": 2471,
    "start_time": "2023-08-09T15:34:29.270Z"
   },
   {
    "duration": 9,
    "start_time": "2023-08-09T15:34:34.520Z"
   },
   {
    "duration": 8,
    "start_time": "2023-08-09T15:34:37.022Z"
   },
   {
    "duration": 2084,
    "start_time": "2023-08-09T15:34:40.218Z"
   },
   {
    "duration": 4,
    "start_time": "2023-08-09T15:34:44.202Z"
   },
   {
    "duration": 5,
    "start_time": "2023-08-09T15:34:44.877Z"
   },
   {
    "duration": 232,
    "start_time": "2023-08-09T15:38:01.289Z"
   },
   {
    "duration": 152,
    "start_time": "2023-08-09T15:40:38.990Z"
   },
   {
    "duration": 5,
    "start_time": "2023-08-09T15:40:47.377Z"
   },
   {
    "duration": 1090,
    "start_time": "2023-08-09T15:41:28.100Z"
   },
   {
    "duration": 34,
    "start_time": "2023-08-09T15:41:45.471Z"
   },
   {
    "duration": 38,
    "start_time": "2023-08-09T15:42:09.115Z"
   },
   {
    "duration": 1557,
    "start_time": "2023-08-09T15:42:21.351Z"
   },
   {
    "duration": 5,
    "start_time": "2023-08-09T15:42:22.910Z"
   },
   {
    "duration": 816,
    "start_time": "2023-08-09T15:42:22.917Z"
   },
   {
    "duration": 124,
    "start_time": "2023-08-09T15:42:23.735Z"
   },
   {
    "duration": 28,
    "start_time": "2023-08-09T15:42:23.862Z"
   },
   {
    "duration": 167,
    "start_time": "2023-08-09T15:42:23.892Z"
   },
   {
    "duration": 37,
    "start_time": "2023-08-09T15:42:24.061Z"
   },
   {
    "duration": 62,
    "start_time": "2023-08-09T15:42:24.100Z"
   },
   {
    "duration": 23,
    "start_time": "2023-08-09T15:42:24.165Z"
   },
   {
    "duration": 434,
    "start_time": "2023-08-09T15:42:24.190Z"
   },
   {
    "duration": 6,
    "start_time": "2023-08-09T15:42:24.625Z"
   },
   {
    "duration": 35,
    "start_time": "2023-08-09T15:42:24.632Z"
   },
   {
    "duration": 41,
    "start_time": "2023-08-09T15:42:24.669Z"
   },
   {
    "duration": 16,
    "start_time": "2023-08-09T15:42:24.713Z"
   },
   {
    "duration": 43,
    "start_time": "2023-08-09T15:42:24.730Z"
   },
   {
    "duration": 29,
    "start_time": "2023-08-09T15:42:24.775Z"
   },
   {
    "duration": 38,
    "start_time": "2023-08-09T15:42:24.805Z"
   },
   {
    "duration": 17,
    "start_time": "2023-08-09T15:42:24.846Z"
   },
   {
    "duration": 33,
    "start_time": "2023-08-09T15:42:24.864Z"
   },
   {
    "duration": 28,
    "start_time": "2023-08-09T15:42:24.899Z"
   },
   {
    "duration": 6488,
    "start_time": "2023-08-09T15:42:24.929Z"
   },
   {
    "duration": 4,
    "start_time": "2023-08-09T15:42:31.419Z"
   },
   {
    "duration": 2491,
    "start_time": "2023-08-09T15:42:31.425Z"
   },
   {
    "duration": 9,
    "start_time": "2023-08-09T15:42:33.918Z"
   },
   {
    "duration": 12,
    "start_time": "2023-08-09T15:42:33.929Z"
   },
   {
    "duration": 2173,
    "start_time": "2023-08-09T15:42:33.957Z"
   },
   {
    "duration": 252,
    "start_time": "2023-08-09T15:42:36.132Z"
   },
   {
    "duration": 32,
    "start_time": "2023-08-09T15:42:36.386Z"
   },
   {
    "duration": 9,
    "start_time": "2023-08-09T15:42:36.420Z"
   },
   {
    "duration": 167,
    "start_time": "2023-08-09T15:42:36.430Z"
   },
   {
    "duration": 0,
    "start_time": "2023-08-09T15:42:36.599Z"
   },
   {
    "duration": 0,
    "start_time": "2023-08-09T15:42:36.600Z"
   },
   {
    "duration": 0,
    "start_time": "2023-08-09T15:42:36.601Z"
   },
   {
    "duration": 183,
    "start_time": "2023-08-09T15:42:50.312Z"
   },
   {
    "duration": 36,
    "start_time": "2023-08-09T15:47:50.110Z"
   },
   {
    "duration": 250,
    "start_time": "2023-08-09T15:47:55.691Z"
   },
   {
    "duration": 711,
    "start_time": "2023-08-09T15:48:54.694Z"
   },
   {
    "duration": 6239,
    "start_time": "2023-08-09T15:49:02.100Z"
   },
   {
    "duration": 2333,
    "start_time": "2023-08-09T15:49:11.657Z"
   },
   {
    "duration": 8,
    "start_time": "2023-08-09T15:49:16.566Z"
   },
   {
    "duration": 1864,
    "start_time": "2023-08-09T15:49:19.692Z"
   },
   {
    "duration": 236,
    "start_time": "2023-08-09T15:49:25.313Z"
   },
   {
    "duration": 31,
    "start_time": "2023-08-09T15:49:45.565Z"
   },
   {
    "duration": 1344,
    "start_time": "2023-08-09T15:49:50.581Z"
   },
   {
    "duration": 5210,
    "start_time": "2023-08-09T15:50:21.302Z"
   },
   {
    "duration": 742,
    "start_time": "2023-08-09T15:50:47.708Z"
   },
   {
    "duration": 6290,
    "start_time": "2023-08-09T15:50:55.117Z"
   },
   {
    "duration": 18,
    "start_time": "2023-08-09T15:51:01.409Z"
   },
   {
    "duration": 6127,
    "start_time": "2023-08-09T15:51:03.981Z"
   },
   {
    "duration": 17,
    "start_time": "2023-08-09T15:51:11.507Z"
   },
   {
    "duration": 6066,
    "start_time": "2023-08-09T15:51:13.911Z"
   },
   {
    "duration": 1560,
    "start_time": "2023-08-09T15:51:30.041Z"
   },
   {
    "duration": 4,
    "start_time": "2023-08-09T15:51:31.603Z"
   },
   {
    "duration": 810,
    "start_time": "2023-08-09T15:51:31.609Z"
   },
   {
    "duration": 127,
    "start_time": "2023-08-09T15:51:32.422Z"
   },
   {
    "duration": 24,
    "start_time": "2023-08-09T15:51:32.555Z"
   },
   {
    "duration": 177,
    "start_time": "2023-08-09T15:51:32.581Z"
   },
   {
    "duration": 21,
    "start_time": "2023-08-09T15:51:32.759Z"
   },
   {
    "duration": 27,
    "start_time": "2023-08-09T15:51:32.782Z"
   },
   {
    "duration": 20,
    "start_time": "2023-08-09T15:51:32.811Z"
   },
   {
    "duration": 379,
    "start_time": "2023-08-09T15:51:32.858Z"
   },
   {
    "duration": 6,
    "start_time": "2023-08-09T15:51:33.238Z"
   },
   {
    "duration": 15,
    "start_time": "2023-08-09T15:51:33.245Z"
   },
   {
    "duration": 13,
    "start_time": "2023-08-09T15:51:33.261Z"
   },
   {
    "duration": 8,
    "start_time": "2023-08-09T15:51:33.276Z"
   },
   {
    "duration": 23,
    "start_time": "2023-08-09T15:51:33.286Z"
   },
   {
    "duration": 2,
    "start_time": "2023-08-09T15:51:33.311Z"
   },
   {
    "duration": 23,
    "start_time": "2023-08-09T15:51:33.314Z"
   },
   {
    "duration": 29,
    "start_time": "2023-08-09T15:51:33.339Z"
   },
   {
    "duration": 6182,
    "start_time": "2023-08-09T15:51:33.370Z"
   },
   {
    "duration": 2205,
    "start_time": "2023-08-09T15:51:39.556Z"
   },
   {
    "duration": 8,
    "start_time": "2023-08-09T15:51:41.762Z"
   },
   {
    "duration": 16,
    "start_time": "2023-08-09T15:51:41.771Z"
   },
   {
    "duration": 1995,
    "start_time": "2023-08-09T15:51:41.788Z"
   },
   {
    "duration": 236,
    "start_time": "2023-08-09T15:51:43.785Z"
   },
   {
    "duration": 44,
    "start_time": "2023-08-09T15:51:44.022Z"
   },
   {
    "duration": 263,
    "start_time": "2023-08-09T15:51:44.068Z"
   },
   {
    "duration": 7,
    "start_time": "2023-08-09T15:51:44.332Z"
   },
   {
    "duration": 122,
    "start_time": "2023-08-09T15:51:44.340Z"
   },
   {
    "duration": 0,
    "start_time": "2023-08-09T15:51:44.464Z"
   },
   {
    "duration": 0,
    "start_time": "2023-08-09T15:51:44.465Z"
   },
   {
    "duration": 0,
    "start_time": "2023-08-09T15:51:44.466Z"
   },
   {
    "duration": 7,
    "start_time": "2023-08-09T15:55:33.211Z"
   },
   {
    "duration": 180,
    "start_time": "2023-08-09T15:55:46.308Z"
   },
   {
    "duration": 157,
    "start_time": "2023-08-09T15:55:49.548Z"
   },
   {
    "duration": 1202,
    "start_time": "2023-08-09T15:57:00.434Z"
   },
   {
    "duration": 140,
    "start_time": "2023-08-09T15:57:45.927Z"
   },
   {
    "duration": 156,
    "start_time": "2023-08-09T15:57:56.082Z"
   },
   {
    "duration": 1580,
    "start_time": "2023-08-09T15:58:07.558Z"
   },
   {
    "duration": 4,
    "start_time": "2023-08-09T15:58:09.141Z"
   },
   {
    "duration": 775,
    "start_time": "2023-08-09T15:58:09.146Z"
   },
   {
    "duration": 122,
    "start_time": "2023-08-09T15:58:09.923Z"
   },
   {
    "duration": 32,
    "start_time": "2023-08-09T15:58:10.048Z"
   },
   {
    "duration": 161,
    "start_time": "2023-08-09T15:58:10.081Z"
   },
   {
    "duration": 24,
    "start_time": "2023-08-09T15:58:10.243Z"
   },
   {
    "duration": 31,
    "start_time": "2023-08-09T15:58:10.269Z"
   },
   {
    "duration": 22,
    "start_time": "2023-08-09T15:58:10.302Z"
   },
   {
    "duration": 386,
    "start_time": "2023-08-09T15:58:10.326Z"
   },
   {
    "duration": 6,
    "start_time": "2023-08-09T15:58:10.714Z"
   },
   {
    "duration": 5,
    "start_time": "2023-08-09T15:58:10.722Z"
   },
   {
    "duration": 9,
    "start_time": "2023-08-09T15:58:10.729Z"
   },
   {
    "duration": 6,
    "start_time": "2023-08-09T15:58:10.758Z"
   },
   {
    "duration": 23,
    "start_time": "2023-08-09T15:58:10.765Z"
   },
   {
    "duration": 2,
    "start_time": "2023-08-09T15:58:10.790Z"
   },
   {
    "duration": 23,
    "start_time": "2023-08-09T15:58:10.794Z"
   },
   {
    "duration": 12,
    "start_time": "2023-08-09T15:58:10.819Z"
   },
   {
    "duration": 6077,
    "start_time": "2023-08-09T15:58:10.857Z"
   },
   {
    "duration": 4,
    "start_time": "2023-08-09T15:58:16.935Z"
   },
   {
    "duration": 2390,
    "start_time": "2023-08-09T15:58:16.940Z"
   },
   {
    "duration": 9,
    "start_time": "2023-08-09T15:58:19.333Z"
   },
   {
    "duration": 44,
    "start_time": "2023-08-09T15:58:19.357Z"
   },
   {
    "duration": 2016,
    "start_time": "2023-08-09T15:58:19.402Z"
   },
   {
    "duration": 230,
    "start_time": "2023-08-09T15:58:21.419Z"
   },
   {
    "duration": 283,
    "start_time": "2023-08-09T15:58:21.650Z"
   },
   {
    "duration": 232,
    "start_time": "2023-08-09T15:58:21.935Z"
   },
   {
    "duration": 6,
    "start_time": "2023-08-09T15:58:22.169Z"
   },
   {
    "duration": 119,
    "start_time": "2023-08-09T15:58:22.177Z"
   },
   {
    "duration": 0,
    "start_time": "2023-08-09T15:58:22.297Z"
   },
   {
    "duration": 0,
    "start_time": "2023-08-09T15:58:22.298Z"
   },
   {
    "duration": 0,
    "start_time": "2023-08-09T15:58:22.299Z"
   },
   {
    "duration": 1198,
    "start_time": "2023-08-09T15:58:51.734Z"
   },
   {
    "duration": 201,
    "start_time": "2023-08-09T15:59:02.164Z"
   },
   {
    "duration": 1626,
    "start_time": "2023-08-09T15:59:13.238Z"
   },
   {
    "duration": 5,
    "start_time": "2023-08-09T15:59:14.867Z"
   },
   {
    "duration": 816,
    "start_time": "2023-08-09T15:59:14.874Z"
   },
   {
    "duration": 127,
    "start_time": "2023-08-09T15:59:15.691Z"
   },
   {
    "duration": 24,
    "start_time": "2023-08-09T15:59:15.820Z"
   },
   {
    "duration": 170,
    "start_time": "2023-08-09T15:59:15.845Z"
   },
   {
    "duration": 22,
    "start_time": "2023-08-09T15:59:16.016Z"
   },
   {
    "duration": 52,
    "start_time": "2023-08-09T15:59:16.039Z"
   },
   {
    "duration": 21,
    "start_time": "2023-08-09T15:59:16.092Z"
   },
   {
    "duration": 405,
    "start_time": "2023-08-09T15:59:16.115Z"
   },
   {
    "duration": 6,
    "start_time": "2023-08-09T15:59:16.522Z"
   },
   {
    "duration": 6,
    "start_time": "2023-08-09T15:59:16.529Z"
   },
   {
    "duration": 20,
    "start_time": "2023-08-09T15:59:16.537Z"
   },
   {
    "duration": 9,
    "start_time": "2023-08-09T15:59:16.561Z"
   },
   {
    "duration": 35,
    "start_time": "2023-08-09T15:59:16.572Z"
   },
   {
    "duration": 3,
    "start_time": "2023-08-09T15:59:16.608Z"
   },
   {
    "duration": 21,
    "start_time": "2023-08-09T15:59:16.612Z"
   },
   {
    "duration": 28,
    "start_time": "2023-08-09T15:59:16.635Z"
   },
   {
    "duration": 6414,
    "start_time": "2023-08-09T15:59:16.666Z"
   },
   {
    "duration": 5,
    "start_time": "2023-08-09T15:59:23.082Z"
   },
   {
    "duration": 2443,
    "start_time": "2023-08-09T15:59:23.089Z"
   },
   {
    "duration": 9,
    "start_time": "2023-08-09T15:59:25.534Z"
   },
   {
    "duration": 23,
    "start_time": "2023-08-09T15:59:25.544Z"
   },
   {
    "duration": 1974,
    "start_time": "2023-08-09T15:59:25.569Z"
   },
   {
    "duration": 261,
    "start_time": "2023-08-09T15:59:27.546Z"
   },
   {
    "duration": 322,
    "start_time": "2023-08-09T15:59:27.809Z"
   },
   {
    "duration": 256,
    "start_time": "2023-08-09T15:59:28.132Z"
   },
   {
    "duration": 7,
    "start_time": "2023-08-09T15:59:28.390Z"
   },
   {
    "duration": 136,
    "start_time": "2023-08-09T15:59:28.399Z"
   },
   {
    "duration": 0,
    "start_time": "2023-08-09T15:59:28.537Z"
   },
   {
    "duration": 0,
    "start_time": "2023-08-09T15:59:28.539Z"
   },
   {
    "duration": 0,
    "start_time": "2023-08-09T15:59:28.541Z"
   },
   {
    "duration": 1575,
    "start_time": "2023-08-09T15:59:36.953Z"
   },
   {
    "duration": 4,
    "start_time": "2023-08-09T15:59:38.531Z"
   },
   {
    "duration": 864,
    "start_time": "2023-08-09T15:59:38.537Z"
   },
   {
    "duration": 136,
    "start_time": "2023-08-09T15:59:39.404Z"
   },
   {
    "duration": 36,
    "start_time": "2023-08-09T15:59:39.542Z"
   },
   {
    "duration": 153,
    "start_time": "2023-08-09T15:59:39.580Z"
   },
   {
    "duration": 31,
    "start_time": "2023-08-09T15:59:39.736Z"
   },
   {
    "duration": 47,
    "start_time": "2023-08-09T15:59:39.769Z"
   },
   {
    "duration": 39,
    "start_time": "2023-08-09T15:59:39.818Z"
   },
   {
    "duration": 388,
    "start_time": "2023-08-09T15:59:39.860Z"
   },
   {
    "duration": 11,
    "start_time": "2023-08-09T15:59:40.257Z"
   },
   {
    "duration": 38,
    "start_time": "2023-08-09T15:59:40.271Z"
   },
   {
    "duration": 65,
    "start_time": "2023-08-09T15:59:40.310Z"
   },
   {
    "duration": 51,
    "start_time": "2023-08-09T15:59:40.377Z"
   },
   {
    "duration": 49,
    "start_time": "2023-08-09T15:59:40.430Z"
   },
   {
    "duration": 2,
    "start_time": "2023-08-09T15:59:40.481Z"
   },
   {
    "duration": 38,
    "start_time": "2023-08-09T15:59:40.485Z"
   },
   {
    "duration": 13,
    "start_time": "2023-08-09T15:59:40.525Z"
   },
   {
    "duration": 6362,
    "start_time": "2023-08-09T15:59:40.539Z"
   },
   {
    "duration": 4,
    "start_time": "2023-08-09T15:59:46.903Z"
   },
   {
    "duration": 2620,
    "start_time": "2023-08-09T15:59:46.908Z"
   },
   {
    "duration": 8,
    "start_time": "2023-08-09T15:59:49.530Z"
   },
   {
    "duration": 23,
    "start_time": "2023-08-09T15:59:49.540Z"
   },
   {
    "duration": 2039,
    "start_time": "2023-08-09T15:59:49.566Z"
   },
   {
    "duration": 264,
    "start_time": "2023-08-09T15:59:51.607Z"
   },
   {
    "duration": 315,
    "start_time": "2023-08-09T15:59:51.873Z"
   },
   {
    "duration": 279,
    "start_time": "2023-08-09T15:59:52.191Z"
   },
   {
    "duration": 127,
    "start_time": "2023-08-09T15:59:52.474Z"
   },
   {
    "duration": 0,
    "start_time": "2023-08-09T15:59:52.602Z"
   },
   {
    "duration": 0,
    "start_time": "2023-08-09T15:59:52.604Z"
   },
   {
    "duration": 0,
    "start_time": "2023-08-09T15:59:52.605Z"
   },
   {
    "duration": 269,
    "start_time": "2023-08-09T16:00:01.539Z"
   },
   {
    "duration": 1424,
    "start_time": "2023-08-09T16:00:08.072Z"
   },
   {
    "duration": 252,
    "start_time": "2023-08-09T16:00:29.831Z"
   },
   {
    "duration": 5174,
    "start_time": "2023-08-09T16:00:46.149Z"
   },
   {
    "duration": 322,
    "start_time": "2023-08-09T16:02:23.096Z"
   },
   {
    "duration": 262,
    "start_time": "2023-08-09T16:02:25.108Z"
   },
   {
    "duration": 293,
    "start_time": "2023-08-09T16:02:39.190Z"
   },
   {
    "duration": 245,
    "start_time": "2023-08-09T16:02:39.852Z"
   },
   {
    "duration": 16,
    "start_time": "2023-08-09T16:03:04.070Z"
   },
   {
    "duration": 1554,
    "start_time": "2023-08-09T16:03:12.245Z"
   },
   {
    "duration": 4,
    "start_time": "2023-08-09T16:03:13.801Z"
   },
   {
    "duration": 798,
    "start_time": "2023-08-09T16:03:13.806Z"
   },
   {
    "duration": 129,
    "start_time": "2023-08-09T16:03:14.606Z"
   },
   {
    "duration": 47,
    "start_time": "2023-08-09T16:03:14.738Z"
   },
   {
    "duration": 150,
    "start_time": "2023-08-09T16:03:14.787Z"
   },
   {
    "duration": 36,
    "start_time": "2023-08-09T16:03:14.939Z"
   },
   {
    "duration": 30,
    "start_time": "2023-08-09T16:03:14.976Z"
   },
   {
    "duration": 21,
    "start_time": "2023-08-09T16:03:15.008Z"
   },
   {
    "duration": 439,
    "start_time": "2023-08-09T16:03:15.031Z"
   },
   {
    "duration": 6,
    "start_time": "2023-08-09T16:03:15.473Z"
   },
   {
    "duration": 6,
    "start_time": "2023-08-09T16:03:15.481Z"
   },
   {
    "duration": 3,
    "start_time": "2023-08-09T16:03:15.488Z"
   },
   {
    "duration": 6,
    "start_time": "2023-08-09T16:03:15.494Z"
   },
   {
    "duration": 16,
    "start_time": "2023-08-09T16:03:15.502Z"
   },
   {
    "duration": 51,
    "start_time": "2023-08-09T16:03:15.520Z"
   },
   {
    "duration": 13,
    "start_time": "2023-08-09T16:03:15.572Z"
   },
   {
    "duration": 6419,
    "start_time": "2023-08-09T16:03:15.587Z"
   },
   {
    "duration": 4,
    "start_time": "2023-08-09T16:03:22.007Z"
   },
   {
    "duration": 2487,
    "start_time": "2023-08-09T16:03:22.013Z"
   },
   {
    "duration": 8,
    "start_time": "2023-08-09T16:03:24.501Z"
   },
   {
    "duration": 7,
    "start_time": "2023-08-09T16:03:24.510Z"
   },
   {
    "duration": 1977,
    "start_time": "2023-08-09T16:03:24.518Z"
   },
   {
    "duration": 233,
    "start_time": "2023-08-09T16:03:26.497Z"
   },
   {
    "duration": 327,
    "start_time": "2023-08-09T16:03:26.732Z"
   },
   {
    "duration": 241,
    "start_time": "2023-08-09T16:03:27.061Z"
   },
   {
    "duration": 129,
    "start_time": "2023-08-09T16:03:27.303Z"
   },
   {
    "duration": 0,
    "start_time": "2023-08-09T16:03:27.434Z"
   },
   {
    "duration": 0,
    "start_time": "2023-08-09T16:03:27.436Z"
   },
   {
    "duration": 0,
    "start_time": "2023-08-09T16:03:27.438Z"
   },
   {
    "duration": 425,
    "start_time": "2023-08-09T16:04:04.620Z"
   },
   {
    "duration": 207,
    "start_time": "2023-08-09T16:04:06.070Z"
   },
   {
    "duration": 404,
    "start_time": "2023-08-09T16:04:17.580Z"
   },
   {
    "duration": 209,
    "start_time": "2023-08-09T16:04:19.293Z"
   },
   {
    "duration": 319,
    "start_time": "2023-08-09T16:04:41.969Z"
   },
   {
    "duration": 268,
    "start_time": "2023-08-09T16:04:44.363Z"
   },
   {
    "duration": 326,
    "start_time": "2023-08-09T16:04:55.796Z"
   },
   {
    "duration": 2,
    "start_time": "2023-08-09T16:04:56.312Z"
   },
   {
    "duration": 253,
    "start_time": "2023-08-09T16:04:56.850Z"
   },
   {
    "duration": 13,
    "start_time": "2023-08-09T16:05:20.035Z"
   },
   {
    "duration": 238,
    "start_time": "2023-08-09T16:05:20.205Z"
   },
   {
    "duration": 18,
    "start_time": "2023-08-09T16:05:21.850Z"
   },
   {
    "duration": 284,
    "start_time": "2023-08-09T16:05:25.407Z"
   },
   {
    "duration": 17,
    "start_time": "2023-08-09T16:05:25.824Z"
   },
   {
    "duration": 385,
    "start_time": "2023-08-09T16:05:26.976Z"
   },
   {
    "duration": 263,
    "start_time": "2023-08-09T16:06:10.481Z"
   },
   {
    "duration": 257,
    "start_time": "2023-08-09T16:06:12.644Z"
   },
   {
    "duration": 10,
    "start_time": "2023-08-09T16:06:14.778Z"
   },
   {
    "duration": 257,
    "start_time": "2023-08-09T16:06:15.517Z"
   },
   {
    "duration": 1516,
    "start_time": "2023-08-09T16:06:24.479Z"
   },
   {
    "duration": 4,
    "start_time": "2023-08-09T16:06:25.997Z"
   },
   {
    "duration": 796,
    "start_time": "2023-08-09T16:06:26.002Z"
   },
   {
    "duration": 125,
    "start_time": "2023-08-09T16:06:26.800Z"
   },
   {
    "duration": 44,
    "start_time": "2023-08-09T16:06:26.927Z"
   },
   {
    "duration": 143,
    "start_time": "2023-08-09T16:06:26.973Z"
   },
   {
    "duration": 20,
    "start_time": "2023-08-09T16:06:27.117Z"
   },
   {
    "duration": 64,
    "start_time": "2023-08-09T16:06:27.138Z"
   },
   {
    "duration": 27,
    "start_time": "2023-08-09T16:06:27.205Z"
   },
   {
    "duration": 400,
    "start_time": "2023-08-09T16:06:27.234Z"
   },
   {
    "duration": 6,
    "start_time": "2023-08-09T16:06:27.636Z"
   },
   {
    "duration": 47,
    "start_time": "2023-08-09T16:06:27.643Z"
   },
   {
    "duration": 21,
    "start_time": "2023-08-09T16:06:27.692Z"
   },
   {
    "duration": 37,
    "start_time": "2023-08-09T16:06:27.715Z"
   },
   {
    "duration": 29,
    "start_time": "2023-08-09T16:06:27.754Z"
   },
   {
    "duration": 46,
    "start_time": "2023-08-09T16:06:27.785Z"
   },
   {
    "duration": 13,
    "start_time": "2023-08-09T16:06:27.833Z"
   },
   {
    "duration": 6237,
    "start_time": "2023-08-09T16:06:27.848Z"
   },
   {
    "duration": 4,
    "start_time": "2023-08-09T16:06:34.087Z"
   },
   {
    "duration": 2409,
    "start_time": "2023-08-09T16:06:34.093Z"
   },
   {
    "duration": 8,
    "start_time": "2023-08-09T16:06:36.504Z"
   },
   {
    "duration": 13,
    "start_time": "2023-08-09T16:06:36.514Z"
   },
   {
    "duration": 1997,
    "start_time": "2023-08-09T16:06:36.529Z"
   },
   {
    "duration": 268,
    "start_time": "2023-08-09T16:06:38.529Z"
   },
   {
    "duration": 364,
    "start_time": "2023-08-09T16:06:38.799Z"
   },
   {
    "duration": 17,
    "start_time": "2023-08-09T16:06:39.167Z"
   },
   {
    "duration": 254,
    "start_time": "2023-08-09T16:06:39.187Z"
   },
   {
    "duration": 133,
    "start_time": "2023-08-09T16:06:39.444Z"
   },
   {
    "duration": 0,
    "start_time": "2023-08-09T16:06:39.579Z"
   },
   {
    "duration": 0,
    "start_time": "2023-08-09T16:06:39.581Z"
   },
   {
    "duration": 0,
    "start_time": "2023-08-09T16:06:39.582Z"
   },
   {
    "duration": 578,
    "start_time": "2023-08-09T16:21:23.852Z"
   },
   {
    "duration": 613,
    "start_time": "2023-08-09T16:21:35.433Z"
   },
   {
    "duration": 22,
    "start_time": "2023-08-09T16:21:52.906Z"
   },
   {
    "duration": 7680,
    "start_time": "2023-08-09T16:22:08.961Z"
   },
   {
    "duration": 1439,
    "start_time": "2023-08-09T16:22:30.113Z"
   },
   {
    "duration": 2057,
    "start_time": "2023-08-09T16:22:48.269Z"
   },
   {
    "duration": 1397,
    "start_time": "2023-08-09T16:22:52.978Z"
   },
   {
    "duration": 1575,
    "start_time": "2023-08-09T16:22:59.080Z"
   },
   {
    "duration": 3,
    "start_time": "2023-08-09T16:23:00.658Z"
   },
   {
    "duration": 907,
    "start_time": "2023-08-09T16:23:00.664Z"
   },
   {
    "duration": 124,
    "start_time": "2023-08-09T16:23:01.574Z"
   },
   {
    "duration": 79,
    "start_time": "2023-08-09T16:23:01.700Z"
   },
   {
    "duration": 317,
    "start_time": "2023-08-09T16:23:01.781Z"
   },
   {
    "duration": 29,
    "start_time": "2023-08-09T16:23:02.101Z"
   },
   {
    "duration": 243,
    "start_time": "2023-08-09T16:23:02.132Z"
   },
   {
    "duration": 64,
    "start_time": "2023-08-09T16:23:02.377Z"
   },
   {
    "duration": 484,
    "start_time": "2023-08-09T16:23:02.443Z"
   },
   {
    "duration": 5,
    "start_time": "2023-08-09T16:23:02.929Z"
   },
   {
    "duration": 34,
    "start_time": "2023-08-09T16:23:02.936Z"
   },
   {
    "duration": 18,
    "start_time": "2023-08-09T16:23:02.972Z"
   },
   {
    "duration": 15,
    "start_time": "2023-08-09T16:23:02.993Z"
   },
   {
    "duration": 38,
    "start_time": "2023-08-09T16:23:03.010Z"
   },
   {
    "duration": 49,
    "start_time": "2023-08-09T16:23:03.050Z"
   },
   {
    "duration": 20,
    "start_time": "2023-08-09T16:23:03.101Z"
   },
   {
    "duration": 6553,
    "start_time": "2023-08-09T16:23:03.123Z"
   },
   {
    "duration": 5,
    "start_time": "2023-08-09T16:23:09.677Z"
   },
   {
    "duration": 2372,
    "start_time": "2023-08-09T16:23:09.684Z"
   },
   {
    "duration": 8,
    "start_time": "2023-08-09T16:23:12.058Z"
   },
   {
    "duration": 15,
    "start_time": "2023-08-09T16:23:12.068Z"
   },
   {
    "duration": 2019,
    "start_time": "2023-08-09T16:23:12.085Z"
   },
   {
    "duration": 232,
    "start_time": "2023-08-09T16:23:14.105Z"
   },
   {
    "duration": 259,
    "start_time": "2023-08-09T16:23:14.339Z"
   },
   {
    "duration": 15,
    "start_time": "2023-08-09T16:23:14.600Z"
   },
   {
    "duration": 259,
    "start_time": "2023-08-09T16:23:14.617Z"
   },
   {
    "duration": 120,
    "start_time": "2023-08-09T16:23:14.878Z"
   },
   {
    "duration": 0,
    "start_time": "2023-08-09T16:23:15.001Z"
   },
   {
    "duration": 0,
    "start_time": "2023-08-09T16:23:15.001Z"
   },
   {
    "duration": 0,
    "start_time": "2023-08-09T16:23:15.002Z"
   },
   {
    "duration": 16,
    "start_time": "2023-08-09T16:24:00.337Z"
   },
   {
    "duration": 14,
    "start_time": "2023-08-09T16:24:13.854Z"
   },
   {
    "duration": 26,
    "start_time": "2023-08-09T16:25:05.224Z"
   },
   {
    "duration": 221,
    "start_time": "2023-08-09T16:25:08.081Z"
   },
   {
    "duration": 235,
    "start_time": "2023-08-09T16:25:12.182Z"
   },
   {
    "duration": 283,
    "start_time": "2023-08-09T16:25:29.099Z"
   },
   {
    "duration": 8,
    "start_time": "2023-08-09T16:25:35.532Z"
   },
   {
    "duration": 7,
    "start_time": "2023-08-09T16:25:41.743Z"
   },
   {
    "duration": 301,
    "start_time": "2023-08-09T16:25:48.169Z"
   },
   {
    "duration": 226,
    "start_time": "2023-08-09T16:25:55.631Z"
   },
   {
    "duration": 308,
    "start_time": "2023-08-09T16:26:08.753Z"
   },
   {
    "duration": 1475,
    "start_time": "2023-08-09T16:26:15.976Z"
   },
   {
    "duration": 3,
    "start_time": "2023-08-09T16:26:17.454Z"
   },
   {
    "duration": 811,
    "start_time": "2023-08-09T16:26:17.459Z"
   },
   {
    "duration": 135,
    "start_time": "2023-08-09T16:26:18.272Z"
   },
   {
    "duration": 31,
    "start_time": "2023-08-09T16:26:18.409Z"
   },
   {
    "duration": 175,
    "start_time": "2023-08-09T16:26:18.442Z"
   },
   {
    "duration": 24,
    "start_time": "2023-08-09T16:26:18.619Z"
   },
   {
    "duration": 32,
    "start_time": "2023-08-09T16:26:18.656Z"
   },
   {
    "duration": 22,
    "start_time": "2023-08-09T16:26:18.690Z"
   },
   {
    "duration": 453,
    "start_time": "2023-08-09T16:26:18.716Z"
   },
   {
    "duration": 5,
    "start_time": "2023-08-09T16:26:19.170Z"
   },
   {
    "duration": 39,
    "start_time": "2023-08-09T16:26:19.177Z"
   },
   {
    "duration": 5,
    "start_time": "2023-08-09T16:26:19.218Z"
   },
   {
    "duration": 16,
    "start_time": "2023-08-09T16:26:19.225Z"
   },
   {
    "duration": 21,
    "start_time": "2023-08-09T16:26:19.243Z"
   },
   {
    "duration": 22,
    "start_time": "2023-08-09T16:26:19.265Z"
   },
   {
    "duration": 14,
    "start_time": "2023-08-09T16:26:19.289Z"
   },
   {
    "duration": 6217,
    "start_time": "2023-08-09T16:26:19.304Z"
   },
   {
    "duration": 4,
    "start_time": "2023-08-09T16:26:25.523Z"
   },
   {
    "duration": 2386,
    "start_time": "2023-08-09T16:26:25.528Z"
   },
   {
    "duration": 7,
    "start_time": "2023-08-09T16:26:27.916Z"
   },
   {
    "duration": 10,
    "start_time": "2023-08-09T16:26:27.925Z"
   },
   {
    "duration": 2063,
    "start_time": "2023-08-09T16:26:27.937Z"
   },
   {
    "duration": 243,
    "start_time": "2023-08-09T16:26:30.002Z"
   },
   {
    "duration": 313,
    "start_time": "2023-08-09T16:26:30.247Z"
   },
   {
    "duration": 6,
    "start_time": "2023-08-09T16:26:30.562Z"
   },
   {
    "duration": 286,
    "start_time": "2023-08-09T16:26:30.570Z"
   },
   {
    "duration": 117,
    "start_time": "2023-08-09T16:26:30.859Z"
   },
   {
    "duration": 0,
    "start_time": "2023-08-09T16:26:30.978Z"
   },
   {
    "duration": 0,
    "start_time": "2023-08-09T16:26:30.979Z"
   },
   {
    "duration": 0,
    "start_time": "2023-08-09T16:26:30.980Z"
   },
   {
    "duration": 266,
    "start_time": "2023-08-09T16:27:04.960Z"
   },
   {
    "duration": 6,
    "start_time": "2023-08-09T16:27:05.842Z"
   },
   {
    "duration": 175,
    "start_time": "2023-08-09T16:27:08.110Z"
   },
   {
    "duration": 1454,
    "start_time": "2023-08-09T16:27:21.568Z"
   },
   {
    "duration": 4,
    "start_time": "2023-08-09T16:27:23.024Z"
   },
   {
    "duration": 806,
    "start_time": "2023-08-09T16:27:23.030Z"
   },
   {
    "duration": 126,
    "start_time": "2023-08-09T16:27:23.838Z"
   },
   {
    "duration": 26,
    "start_time": "2023-08-09T16:27:23.966Z"
   },
   {
    "duration": 162,
    "start_time": "2023-08-09T16:27:23.994Z"
   },
   {
    "duration": 22,
    "start_time": "2023-08-09T16:27:24.158Z"
   },
   {
    "duration": 58,
    "start_time": "2023-08-09T16:27:24.182Z"
   },
   {
    "duration": 21,
    "start_time": "2023-08-09T16:27:24.242Z"
   },
   {
    "duration": 379,
    "start_time": "2023-08-09T16:27:24.268Z"
   },
   {
    "duration": 11,
    "start_time": "2023-08-09T16:27:24.649Z"
   },
   {
    "duration": 10,
    "start_time": "2023-08-09T16:27:24.661Z"
   },
   {
    "duration": 10,
    "start_time": "2023-08-09T16:27:24.672Z"
   },
   {
    "duration": 7,
    "start_time": "2023-08-09T16:27:24.683Z"
   },
   {
    "duration": 16,
    "start_time": "2023-08-09T16:27:24.691Z"
   },
   {
    "duration": 20,
    "start_time": "2023-08-09T16:27:24.709Z"
   },
   {
    "duration": 14,
    "start_time": "2023-08-09T16:27:24.756Z"
   },
   {
    "duration": 6275,
    "start_time": "2023-08-09T16:27:24.773Z"
   },
   {
    "duration": 8,
    "start_time": "2023-08-09T16:27:31.050Z"
   },
   {
    "duration": 2435,
    "start_time": "2023-08-09T16:27:31.060Z"
   },
   {
    "duration": 7,
    "start_time": "2023-08-09T16:27:33.497Z"
   },
   {
    "duration": 9,
    "start_time": "2023-08-09T16:27:33.505Z"
   },
   {
    "duration": 1992,
    "start_time": "2023-08-09T16:27:33.516Z"
   },
   {
    "duration": 248,
    "start_time": "2023-08-09T16:27:35.509Z"
   },
   {
    "duration": 280,
    "start_time": "2023-08-09T16:27:35.759Z"
   },
   {
    "duration": 6,
    "start_time": "2023-08-09T16:27:36.040Z"
   },
   {
    "duration": 187,
    "start_time": "2023-08-09T16:27:36.056Z"
   },
   {
    "duration": 125,
    "start_time": "2023-08-09T16:27:36.246Z"
   },
   {
    "duration": 0,
    "start_time": "2023-08-09T16:27:36.372Z"
   },
   {
    "duration": 0,
    "start_time": "2023-08-09T16:27:36.373Z"
   },
   {
    "duration": 0,
    "start_time": "2023-08-09T16:27:36.375Z"
   },
   {
    "duration": 1529,
    "start_time": "2023-08-09T16:28:00.779Z"
   },
   {
    "duration": 4,
    "start_time": "2023-08-09T16:28:02.310Z"
   },
   {
    "duration": 814,
    "start_time": "2023-08-09T16:28:02.316Z"
   },
   {
    "duration": 122,
    "start_time": "2023-08-09T16:28:03.132Z"
   },
   {
    "duration": 27,
    "start_time": "2023-08-09T16:28:03.258Z"
   },
   {
    "duration": 150,
    "start_time": "2023-08-09T16:28:03.286Z"
   },
   {
    "duration": 29,
    "start_time": "2023-08-09T16:28:03.438Z"
   },
   {
    "duration": 29,
    "start_time": "2023-08-09T16:28:03.469Z"
   },
   {
    "duration": 20,
    "start_time": "2023-08-09T16:28:03.500Z"
   },
   {
    "duration": 385,
    "start_time": "2023-08-09T16:28:03.522Z"
   },
   {
    "duration": 5,
    "start_time": "2023-08-09T16:28:03.909Z"
   },
   {
    "duration": 22,
    "start_time": "2023-08-09T16:28:03.915Z"
   },
   {
    "duration": 8,
    "start_time": "2023-08-09T16:28:03.939Z"
   },
   {
    "duration": 9,
    "start_time": "2023-08-09T16:28:03.950Z"
   },
   {
    "duration": 26,
    "start_time": "2023-08-09T16:28:03.960Z"
   },
   {
    "duration": 21,
    "start_time": "2023-08-09T16:28:03.987Z"
   },
   {
    "duration": 14,
    "start_time": "2023-08-09T16:28:04.010Z"
   },
   {
    "duration": 6111,
    "start_time": "2023-08-09T16:28:04.026Z"
   },
   {
    "duration": 5,
    "start_time": "2023-08-09T16:28:10.139Z"
   },
   {
    "duration": 2329,
    "start_time": "2023-08-09T16:28:10.157Z"
   },
   {
    "duration": 8,
    "start_time": "2023-08-09T16:28:12.488Z"
   },
   {
    "duration": 25,
    "start_time": "2023-08-09T16:28:12.498Z"
   },
   {
    "duration": 2006,
    "start_time": "2023-08-09T16:28:12.525Z"
   },
   {
    "duration": 241,
    "start_time": "2023-08-09T16:28:14.533Z"
   },
   {
    "duration": 260,
    "start_time": "2023-08-09T16:28:14.776Z"
   },
   {
    "duration": 32,
    "start_time": "2023-08-09T16:28:15.038Z"
   },
   {
    "duration": 202,
    "start_time": "2023-08-09T16:28:15.071Z"
   },
   {
    "duration": 126,
    "start_time": "2023-08-09T16:28:15.275Z"
   },
   {
    "duration": 0,
    "start_time": "2023-08-09T16:28:15.402Z"
   },
   {
    "duration": 0,
    "start_time": "2023-08-09T16:28:15.404Z"
   },
   {
    "duration": 0,
    "start_time": "2023-08-09T16:28:15.405Z"
   },
   {
    "duration": 6,
    "start_time": "2023-08-09T16:28:39.919Z"
   },
   {
    "duration": 1456,
    "start_time": "2023-08-09T16:28:45.107Z"
   },
   {
    "duration": 4,
    "start_time": "2023-08-09T16:28:46.565Z"
   },
   {
    "duration": 791,
    "start_time": "2023-08-09T16:28:46.570Z"
   },
   {
    "duration": 140,
    "start_time": "2023-08-09T16:28:47.364Z"
   },
   {
    "duration": 24,
    "start_time": "2023-08-09T16:28:47.506Z"
   },
   {
    "duration": 146,
    "start_time": "2023-08-09T16:28:47.532Z"
   },
   {
    "duration": 31,
    "start_time": "2023-08-09T16:28:47.680Z"
   },
   {
    "duration": 29,
    "start_time": "2023-08-09T16:28:47.756Z"
   },
   {
    "duration": 71,
    "start_time": "2023-08-09T16:28:47.787Z"
   },
   {
    "duration": 486,
    "start_time": "2023-08-09T16:28:47.860Z"
   },
   {
    "duration": 4,
    "start_time": "2023-08-09T16:28:48.356Z"
   },
   {
    "duration": 13,
    "start_time": "2023-08-09T16:28:48.362Z"
   },
   {
    "duration": 38,
    "start_time": "2023-08-09T16:28:48.377Z"
   },
   {
    "duration": 7,
    "start_time": "2023-08-09T16:28:48.419Z"
   },
   {
    "duration": 35,
    "start_time": "2023-08-09T16:28:48.428Z"
   },
   {
    "duration": 30,
    "start_time": "2023-08-09T16:28:48.465Z"
   },
   {
    "duration": 13,
    "start_time": "2023-08-09T16:28:48.496Z"
   },
   {
    "duration": 6168,
    "start_time": "2023-08-09T16:28:48.511Z"
   },
   {
    "duration": 4,
    "start_time": "2023-08-09T16:28:54.681Z"
   },
   {
    "duration": 2256,
    "start_time": "2023-08-09T16:28:54.687Z"
   },
   {
    "duration": 14,
    "start_time": "2023-08-09T16:28:56.944Z"
   },
   {
    "duration": 7,
    "start_time": "2023-08-09T16:28:56.960Z"
   },
   {
    "duration": 1917,
    "start_time": "2023-08-09T16:28:56.969Z"
   },
   {
    "duration": 261,
    "start_time": "2023-08-09T16:28:58.888Z"
   },
   {
    "duration": 261,
    "start_time": "2023-08-09T16:28:59.156Z"
   },
   {
    "duration": 7,
    "start_time": "2023-08-09T16:28:59.419Z"
   },
   {
    "duration": 247,
    "start_time": "2023-08-09T16:28:59.428Z"
   },
   {
    "duration": 115,
    "start_time": "2023-08-09T16:28:59.677Z"
   },
   {
    "duration": 0,
    "start_time": "2023-08-09T16:28:59.795Z"
   },
   {
    "duration": 0,
    "start_time": "2023-08-09T16:28:59.796Z"
   },
   {
    "duration": 0,
    "start_time": "2023-08-09T16:28:59.797Z"
   },
   {
    "duration": 19,
    "start_time": "2023-08-09T16:29:25.003Z"
   },
   {
    "duration": 18,
    "start_time": "2023-08-09T16:29:33.749Z"
   },
   {
    "duration": 14,
    "start_time": "2023-08-09T16:29:37.924Z"
   },
   {
    "duration": 236,
    "start_time": "2023-08-09T16:29:42.237Z"
   },
   {
    "duration": 15,
    "start_time": "2023-08-09T16:30:07.607Z"
   },
   {
    "duration": 18,
    "start_time": "2023-08-09T16:30:27.946Z"
   },
   {
    "duration": 77,
    "start_time": "2023-08-09T16:30:30.709Z"
   },
   {
    "duration": 61,
    "start_time": "2023-08-09T16:30:43.405Z"
   },
   {
    "duration": 68,
    "start_time": "2023-08-09T16:30:50.782Z"
   },
   {
    "duration": 76,
    "start_time": "2023-08-09T16:30:59.418Z"
   },
   {
    "duration": 76,
    "start_time": "2023-08-09T16:31:08.816Z"
   },
   {
    "duration": 17,
    "start_time": "2023-08-09T16:31:19.018Z"
   },
   {
    "duration": 22,
    "start_time": "2023-08-09T16:31:25.572Z"
   },
   {
    "duration": 18,
    "start_time": "2023-08-09T16:31:29.618Z"
   },
   {
    "duration": 20,
    "start_time": "2023-08-09T16:31:36.976Z"
   },
   {
    "duration": 20,
    "start_time": "2023-08-09T16:31:45.013Z"
   },
   {
    "duration": 68,
    "start_time": "2023-08-09T16:31:49.144Z"
   },
   {
    "duration": 19,
    "start_time": "2023-08-09T16:31:52.729Z"
   },
   {
    "duration": 1518,
    "start_time": "2023-08-09T16:31:58.373Z"
   },
   {
    "duration": 4,
    "start_time": "2023-08-09T16:31:59.893Z"
   },
   {
    "duration": 777,
    "start_time": "2023-08-09T16:31:59.898Z"
   },
   {
    "duration": 114,
    "start_time": "2023-08-09T16:32:00.677Z"
   },
   {
    "duration": 27,
    "start_time": "2023-08-09T16:32:00.793Z"
   },
   {
    "duration": 166,
    "start_time": "2023-08-09T16:32:00.821Z"
   },
   {
    "duration": 23,
    "start_time": "2023-08-09T16:32:00.989Z"
   },
   {
    "duration": 49,
    "start_time": "2023-08-09T16:32:01.013Z"
   },
   {
    "duration": 23,
    "start_time": "2023-08-09T16:32:01.064Z"
   },
   {
    "duration": 418,
    "start_time": "2023-08-09T16:32:01.088Z"
   },
   {
    "duration": 6,
    "start_time": "2023-08-09T16:32:01.508Z"
   },
   {
    "duration": 67,
    "start_time": "2023-08-09T16:32:01.516Z"
   },
   {
    "duration": 39,
    "start_time": "2023-08-09T16:32:01.585Z"
   },
   {
    "duration": 54,
    "start_time": "2023-08-09T16:32:01.626Z"
   },
   {
    "duration": 51,
    "start_time": "2023-08-09T16:32:01.682Z"
   },
   {
    "duration": 98,
    "start_time": "2023-08-09T16:32:01.734Z"
   },
   {
    "duration": 34,
    "start_time": "2023-08-09T16:32:01.834Z"
   },
   {
    "duration": 6347,
    "start_time": "2023-08-09T16:32:01.870Z"
   },
   {
    "duration": 4,
    "start_time": "2023-08-09T16:32:08.219Z"
   },
   {
    "duration": 2535,
    "start_time": "2023-08-09T16:32:08.225Z"
   },
   {
    "duration": 9,
    "start_time": "2023-08-09T16:32:10.762Z"
   },
   {
    "duration": 22,
    "start_time": "2023-08-09T16:32:10.773Z"
   },
   {
    "duration": 2027,
    "start_time": "2023-08-09T16:32:10.797Z"
   },
   {
    "duration": 240,
    "start_time": "2023-08-09T16:32:12.826Z"
   },
   {
    "duration": 316,
    "start_time": "2023-08-09T16:32:13.068Z"
   },
   {
    "duration": 138,
    "start_time": "2023-08-09T16:32:13.386Z"
   },
   {
    "duration": 0,
    "start_time": "2023-08-09T16:32:13.526Z"
   },
   {
    "duration": 0,
    "start_time": "2023-08-09T16:32:13.527Z"
   },
   {
    "duration": 0,
    "start_time": "2023-08-09T16:32:13.528Z"
   },
   {
    "duration": 0,
    "start_time": "2023-08-09T16:32:13.530Z"
   },
   {
    "duration": 0,
    "start_time": "2023-08-09T16:32:13.531Z"
   },
   {
    "duration": 14,
    "start_time": "2023-08-09T16:32:36.307Z"
   },
   {
    "duration": 14,
    "start_time": "2023-08-09T16:32:44.194Z"
   },
   {
    "duration": 186,
    "start_time": "2023-08-09T16:32:47.408Z"
   },
   {
    "duration": 179,
    "start_time": "2023-08-09T16:33:04.428Z"
   },
   {
    "duration": 12,
    "start_time": "2023-08-09T16:33:07.224Z"
   },
   {
    "duration": 169,
    "start_time": "2023-08-09T16:33:10.123Z"
   },
   {
    "duration": 10,
    "start_time": "2023-08-09T16:33:12.028Z"
   },
   {
    "duration": 202,
    "start_time": "2023-08-09T16:33:13.134Z"
   },
   {
    "duration": 1567,
    "start_time": "2023-08-09T16:33:17.642Z"
   },
   {
    "duration": 4,
    "start_time": "2023-08-09T16:33:19.211Z"
   },
   {
    "duration": 767,
    "start_time": "2023-08-09T16:33:19.217Z"
   },
   {
    "duration": 120,
    "start_time": "2023-08-09T16:33:19.986Z"
   },
   {
    "duration": 24,
    "start_time": "2023-08-09T16:33:20.109Z"
   },
   {
    "duration": 150,
    "start_time": "2023-08-09T16:33:20.134Z"
   },
   {
    "duration": 21,
    "start_time": "2023-08-09T16:33:20.286Z"
   },
   {
    "duration": 47,
    "start_time": "2023-08-09T16:33:20.309Z"
   },
   {
    "duration": 36,
    "start_time": "2023-08-09T16:33:20.359Z"
   },
   {
    "duration": 354,
    "start_time": "2023-08-09T16:33:20.397Z"
   },
   {
    "duration": 5,
    "start_time": "2023-08-09T16:33:20.756Z"
   },
   {
    "duration": 15,
    "start_time": "2023-08-09T16:33:20.762Z"
   },
   {
    "duration": 8,
    "start_time": "2023-08-09T16:33:20.779Z"
   },
   {
    "duration": 7,
    "start_time": "2023-08-09T16:33:20.789Z"
   },
   {
    "duration": 21,
    "start_time": "2023-08-09T16:33:20.797Z"
   },
   {
    "duration": 41,
    "start_time": "2023-08-09T16:33:20.820Z"
   },
   {
    "duration": 13,
    "start_time": "2023-08-09T16:33:20.862Z"
   },
   {
    "duration": 6120,
    "start_time": "2023-08-09T16:33:20.876Z"
   },
   {
    "duration": 4,
    "start_time": "2023-08-09T16:33:26.999Z"
   },
   {
    "duration": 2470,
    "start_time": "2023-08-09T16:33:27.005Z"
   },
   {
    "duration": 8,
    "start_time": "2023-08-09T16:33:29.477Z"
   },
   {
    "duration": 9,
    "start_time": "2023-08-09T16:33:29.487Z"
   },
   {
    "duration": 2126,
    "start_time": "2023-08-09T16:33:29.497Z"
   },
   {
    "duration": 241,
    "start_time": "2023-08-09T16:33:31.624Z"
   },
   {
    "duration": 266,
    "start_time": "2023-08-09T16:33:31.866Z"
   },
   {
    "duration": 23,
    "start_time": "2023-08-09T16:33:32.134Z"
   },
   {
    "duration": 235,
    "start_time": "2023-08-09T16:33:32.159Z"
   },
   {
    "duration": 131,
    "start_time": "2023-08-09T16:33:32.396Z"
   },
   {
    "duration": 0,
    "start_time": "2023-08-09T16:33:32.528Z"
   },
   {
    "duration": 0,
    "start_time": "2023-08-09T16:33:32.529Z"
   },
   {
    "duration": 0,
    "start_time": "2023-08-09T16:33:32.530Z"
   },
   {
    "duration": 1543,
    "start_time": "2023-08-09T16:34:47.576Z"
   },
   {
    "duration": 5,
    "start_time": "2023-08-09T16:34:49.121Z"
   },
   {
    "duration": 780,
    "start_time": "2023-08-09T16:34:49.129Z"
   },
   {
    "duration": 125,
    "start_time": "2023-08-09T16:34:49.911Z"
   },
   {
    "duration": 33,
    "start_time": "2023-08-09T16:34:50.038Z"
   },
   {
    "duration": 143,
    "start_time": "2023-08-09T16:34:50.072Z"
   },
   {
    "duration": 20,
    "start_time": "2023-08-09T16:34:50.217Z"
   },
   {
    "duration": 42,
    "start_time": "2023-08-09T16:34:50.239Z"
   },
   {
    "duration": 20,
    "start_time": "2023-08-09T16:34:50.283Z"
   },
   {
    "duration": 384,
    "start_time": "2023-08-09T16:34:50.304Z"
   },
   {
    "duration": 5,
    "start_time": "2023-08-09T16:34:50.690Z"
   },
   {
    "duration": 27,
    "start_time": "2023-08-09T16:34:50.697Z"
   },
   {
    "duration": 7,
    "start_time": "2023-08-09T16:34:50.727Z"
   },
   {
    "duration": 7,
    "start_time": "2023-08-09T16:34:50.735Z"
   },
   {
    "duration": 25,
    "start_time": "2023-08-09T16:34:50.743Z"
   },
   {
    "duration": 32,
    "start_time": "2023-08-09T16:34:50.770Z"
   },
   {
    "duration": 13,
    "start_time": "2023-08-09T16:34:50.804Z"
   },
   {
    "duration": 6134,
    "start_time": "2023-08-09T16:34:50.818Z"
   },
   {
    "duration": 4,
    "start_time": "2023-08-09T16:34:56.955Z"
   },
   {
    "duration": 2422,
    "start_time": "2023-08-09T16:34:56.961Z"
   },
   {
    "duration": 9,
    "start_time": "2023-08-09T16:34:59.385Z"
   },
   {
    "duration": 43,
    "start_time": "2023-08-09T16:34:59.395Z"
   },
   {
    "duration": 1947,
    "start_time": "2023-08-09T16:34:59.441Z"
   },
   {
    "duration": 247,
    "start_time": "2023-08-09T16:35:01.391Z"
   },
   {
    "duration": 272,
    "start_time": "2023-08-09T16:35:01.640Z"
   },
   {
    "duration": 17,
    "start_time": "2023-08-09T16:35:01.914Z"
   },
   {
    "duration": 265,
    "start_time": "2023-08-09T16:35:01.933Z"
   },
   {
    "duration": 134,
    "start_time": "2023-08-09T16:35:02.201Z"
   },
   {
    "duration": 0,
    "start_time": "2023-08-09T16:35:02.337Z"
   },
   {
    "duration": 0,
    "start_time": "2023-08-09T16:35:02.339Z"
   },
   {
    "duration": 0,
    "start_time": "2023-08-09T16:35:02.341Z"
   },
   {
    "duration": 15,
    "start_time": "2023-08-09T16:35:10.743Z"
   },
   {
    "duration": 29,
    "start_time": "2023-08-09T16:35:29.390Z"
   },
   {
    "duration": 217,
    "start_time": "2023-08-09T16:35:31.325Z"
   },
   {
    "duration": 1437,
    "start_time": "2023-08-09T16:35:37.852Z"
   },
   {
    "duration": 5261,
    "start_time": "2023-08-09T16:35:46.733Z"
   },
   {
    "duration": 1569,
    "start_time": "2023-08-09T16:36:00.645Z"
   },
   {
    "duration": 9,
    "start_time": "2023-08-09T16:36:05.034Z"
   },
   {
    "duration": 8,
    "start_time": "2023-08-09T16:36:07.486Z"
   },
   {
    "duration": 1463,
    "start_time": "2023-08-09T16:36:34.718Z"
   },
   {
    "duration": 4,
    "start_time": "2023-08-09T16:36:36.183Z"
   },
   {
    "duration": 803,
    "start_time": "2023-08-09T16:36:36.189Z"
   },
   {
    "duration": 115,
    "start_time": "2023-08-09T16:36:36.994Z"
   },
   {
    "duration": 27,
    "start_time": "2023-08-09T16:36:37.112Z"
   },
   {
    "duration": 160,
    "start_time": "2023-08-09T16:36:37.141Z"
   },
   {
    "duration": 22,
    "start_time": "2023-08-09T16:36:37.302Z"
   },
   {
    "duration": 47,
    "start_time": "2023-08-09T16:36:37.326Z"
   },
   {
    "duration": 22,
    "start_time": "2023-08-09T16:36:37.374Z"
   },
   {
    "duration": 365,
    "start_time": "2023-08-09T16:36:37.397Z"
   },
   {
    "duration": 5,
    "start_time": "2023-08-09T16:36:37.764Z"
   },
   {
    "duration": 9,
    "start_time": "2023-08-09T16:36:37.771Z"
   },
   {
    "duration": 5,
    "start_time": "2023-08-09T16:36:37.782Z"
   },
   {
    "duration": 8,
    "start_time": "2023-08-09T16:36:37.790Z"
   },
   {
    "duration": 47,
    "start_time": "2023-08-09T16:36:37.800Z"
   },
   {
    "duration": 19,
    "start_time": "2023-08-09T16:36:37.849Z"
   },
   {
    "duration": 12,
    "start_time": "2023-08-09T16:36:37.870Z"
   },
   {
    "duration": 6211,
    "start_time": "2023-08-09T16:36:37.884Z"
   },
   {
    "duration": 5,
    "start_time": "2023-08-09T16:36:44.096Z"
   },
   {
    "duration": 2348,
    "start_time": "2023-08-09T16:36:44.103Z"
   },
   {
    "duration": 8,
    "start_time": "2023-08-09T16:36:46.453Z"
   },
   {
    "duration": 17,
    "start_time": "2023-08-09T16:36:46.463Z"
   },
   {
    "duration": 2001,
    "start_time": "2023-08-09T16:36:46.482Z"
   },
   {
    "duration": 242,
    "start_time": "2023-08-09T16:36:48.485Z"
   },
   {
    "duration": 271,
    "start_time": "2023-08-09T16:36:48.728Z"
   },
   {
    "duration": 26,
    "start_time": "2023-08-09T16:36:49.001Z"
   },
   {
    "duration": 284,
    "start_time": "2023-08-09T16:36:49.029Z"
   },
   {
    "duration": 153,
    "start_time": "2023-08-09T16:36:49.316Z"
   },
   {
    "duration": 0,
    "start_time": "2023-08-09T16:36:49.470Z"
   },
   {
    "duration": 0,
    "start_time": "2023-08-09T16:36:49.472Z"
   },
   {
    "duration": 0,
    "start_time": "2023-08-09T16:36:49.474Z"
   },
   {
    "duration": 24,
    "start_time": "2023-08-09T16:36:59.973Z"
   },
   {
    "duration": 237,
    "start_time": "2023-08-09T16:37:00.934Z"
   },
   {
    "duration": 5919,
    "start_time": "2023-08-09T16:37:10.550Z"
   },
   {
    "duration": 20,
    "start_time": "2023-08-09T16:37:30.130Z"
   },
   {
    "duration": 220,
    "start_time": "2023-08-09T16:37:31.504Z"
   },
   {
    "duration": 259,
    "start_time": "2023-08-09T16:37:34.078Z"
   },
   {
    "duration": 5267,
    "start_time": "2023-08-09T16:37:34.591Z"
   },
   {
    "duration": 43,
    "start_time": "2023-08-09T16:37:39.860Z"
   },
   {
    "duration": 1462,
    "start_time": "2023-08-09T16:37:54.471Z"
   },
   {
    "duration": 3,
    "start_time": "2023-08-09T16:37:55.935Z"
   },
   {
    "duration": 767,
    "start_time": "2023-08-09T16:37:55.940Z"
   },
   {
    "duration": 117,
    "start_time": "2023-08-09T16:37:56.709Z"
   },
   {
    "duration": 31,
    "start_time": "2023-08-09T16:37:56.828Z"
   },
   {
    "duration": 152,
    "start_time": "2023-08-09T16:37:56.861Z"
   },
   {
    "duration": 22,
    "start_time": "2023-08-09T16:37:57.016Z"
   },
   {
    "duration": 80,
    "start_time": "2023-08-09T16:37:57.040Z"
   },
   {
    "duration": 22,
    "start_time": "2023-08-09T16:37:57.122Z"
   },
   {
    "duration": 386,
    "start_time": "2023-08-09T16:37:57.147Z"
   },
   {
    "duration": 6,
    "start_time": "2023-08-09T16:37:57.535Z"
   },
   {
    "duration": 16,
    "start_time": "2023-08-09T16:37:57.542Z"
   },
   {
    "duration": 16,
    "start_time": "2023-08-09T16:37:57.559Z"
   },
   {
    "duration": 16,
    "start_time": "2023-08-09T16:37:57.577Z"
   },
   {
    "duration": 16,
    "start_time": "2023-08-09T16:37:57.595Z"
   },
   {
    "duration": 24,
    "start_time": "2023-08-09T16:37:57.613Z"
   },
   {
    "duration": 18,
    "start_time": "2023-08-09T16:37:57.638Z"
   },
   {
    "duration": 6329,
    "start_time": "2023-08-09T16:37:57.658Z"
   },
   {
    "duration": 4,
    "start_time": "2023-08-09T16:38:03.989Z"
   },
   {
    "duration": 2365,
    "start_time": "2023-08-09T16:38:03.995Z"
   },
   {
    "duration": 8,
    "start_time": "2023-08-09T16:38:06.362Z"
   },
   {
    "duration": 16,
    "start_time": "2023-08-09T16:38:06.372Z"
   },
   {
    "duration": 1993,
    "start_time": "2023-08-09T16:38:06.390Z"
   },
   {
    "duration": 252,
    "start_time": "2023-08-09T16:38:08.385Z"
   },
   {
    "duration": 293,
    "start_time": "2023-08-09T16:38:08.639Z"
   },
   {
    "duration": 5142,
    "start_time": "2023-08-09T16:38:08.934Z"
   },
   {
    "duration": 17,
    "start_time": "2023-08-09T16:38:14.077Z"
   },
   {
    "duration": 131,
    "start_time": "2023-08-09T16:38:14.098Z"
   },
   {
    "duration": 0,
    "start_time": "2023-08-09T16:38:14.232Z"
   },
   {
    "duration": 0,
    "start_time": "2023-08-09T16:38:14.233Z"
   },
   {
    "duration": 0,
    "start_time": "2023-08-09T16:38:14.235Z"
   },
   {
    "duration": 1458,
    "start_time": "2023-08-09T16:38:35.122Z"
   },
   {
    "duration": 4,
    "start_time": "2023-08-09T16:38:36.582Z"
   },
   {
    "duration": 791,
    "start_time": "2023-08-09T16:38:36.587Z"
   },
   {
    "duration": 130,
    "start_time": "2023-08-09T16:38:37.380Z"
   },
   {
    "duration": 24,
    "start_time": "2023-08-09T16:38:37.513Z"
   },
   {
    "duration": 168,
    "start_time": "2023-08-09T16:38:37.539Z"
   },
   {
    "duration": 20,
    "start_time": "2023-08-09T16:38:37.709Z"
   },
   {
    "duration": 44,
    "start_time": "2023-08-09T16:38:37.731Z"
   },
   {
    "duration": 21,
    "start_time": "2023-08-09T16:38:37.778Z"
   },
   {
    "duration": 399,
    "start_time": "2023-08-09T16:38:37.801Z"
   },
   {
    "duration": 5,
    "start_time": "2023-08-09T16:38:38.202Z"
   },
   {
    "duration": 6,
    "start_time": "2023-08-09T16:38:38.209Z"
   },
   {
    "duration": 9,
    "start_time": "2023-08-09T16:38:38.216Z"
   },
   {
    "duration": 11,
    "start_time": "2023-08-09T16:38:38.228Z"
   },
   {
    "duration": 41,
    "start_time": "2023-08-09T16:38:38.240Z"
   },
   {
    "duration": 19,
    "start_time": "2023-08-09T16:38:38.283Z"
   },
   {
    "duration": 13,
    "start_time": "2023-08-09T16:38:38.304Z"
   },
   {
    "duration": 6172,
    "start_time": "2023-08-09T16:38:38.319Z"
   },
   {
    "duration": 4,
    "start_time": "2023-08-09T16:38:44.493Z"
   },
   {
    "duration": 2351,
    "start_time": "2023-08-09T16:38:44.498Z"
   },
   {
    "duration": 8,
    "start_time": "2023-08-09T16:38:46.856Z"
   },
   {
    "duration": 12,
    "start_time": "2023-08-09T16:38:46.866Z"
   },
   {
    "duration": 2062,
    "start_time": "2023-08-09T16:38:46.879Z"
   },
   {
    "duration": 272,
    "start_time": "2023-08-09T16:38:48.943Z"
   },
   {
    "duration": 267,
    "start_time": "2023-08-09T16:38:49.217Z"
   },
   {
    "duration": 7,
    "start_time": "2023-08-09T16:38:49.485Z"
   },
   {
    "duration": 266,
    "start_time": "2023-08-09T16:38:49.494Z"
   },
   {
    "duration": 117,
    "start_time": "2023-08-09T16:38:49.762Z"
   },
   {
    "duration": 0,
    "start_time": "2023-08-09T16:38:49.880Z"
   },
   {
    "duration": 0,
    "start_time": "2023-08-09T16:38:49.882Z"
   },
   {
    "duration": 0,
    "start_time": "2023-08-09T16:38:49.883Z"
   },
   {
    "duration": 7783,
    "start_time": "2023-08-09T16:59:33.049Z"
   },
   {
    "duration": 1366,
    "start_time": "2023-08-09T16:59:49.266Z"
   },
   {
    "duration": 51,
    "start_time": "2023-08-09T17:02:07.453Z"
   },
   {
    "duration": 62,
    "start_time": "2023-08-09T17:02:08.407Z"
   },
   {
    "duration": 1433,
    "start_time": "2023-08-09T17:02:15.887Z"
   },
   {
    "duration": 4,
    "start_time": "2023-08-09T17:02:17.323Z"
   },
   {
    "duration": 784,
    "start_time": "2023-08-09T17:02:17.329Z"
   },
   {
    "duration": 124,
    "start_time": "2023-08-09T17:02:18.114Z"
   },
   {
    "duration": 36,
    "start_time": "2023-08-09T17:02:18.241Z"
   },
   {
    "duration": 168,
    "start_time": "2023-08-09T17:02:18.279Z"
   },
   {
    "duration": 35,
    "start_time": "2023-08-09T17:02:18.449Z"
   },
   {
    "duration": 42,
    "start_time": "2023-08-09T17:02:18.486Z"
   },
   {
    "duration": 40,
    "start_time": "2023-08-09T17:02:18.531Z"
   },
   {
    "duration": 400,
    "start_time": "2023-08-09T17:02:18.574Z"
   },
   {
    "duration": 6,
    "start_time": "2023-08-09T17:02:18.976Z"
   },
   {
    "duration": 7,
    "start_time": "2023-08-09T17:02:18.984Z"
   },
   {
    "duration": 4,
    "start_time": "2023-08-09T17:02:18.992Z"
   },
   {
    "duration": 9,
    "start_time": "2023-08-09T17:02:19.000Z"
   },
   {
    "duration": 53,
    "start_time": "2023-08-09T17:02:19.011Z"
   },
   {
    "duration": 25,
    "start_time": "2023-08-09T17:02:19.067Z"
   },
   {
    "duration": 15,
    "start_time": "2023-08-09T17:02:19.094Z"
   },
   {
    "duration": 6277,
    "start_time": "2023-08-09T17:02:19.112Z"
   },
   {
    "duration": 4,
    "start_time": "2023-08-09T17:02:25.390Z"
   },
   {
    "duration": 2437,
    "start_time": "2023-08-09T17:02:25.396Z"
   },
   {
    "duration": 9,
    "start_time": "2023-08-09T17:02:27.834Z"
   },
   {
    "duration": 38,
    "start_time": "2023-08-09T17:02:27.844Z"
   },
   {
    "duration": 2087,
    "start_time": "2023-08-09T17:02:27.884Z"
   },
   {
    "duration": 254,
    "start_time": "2023-08-09T17:02:29.972Z"
   },
   {
    "duration": 16,
    "start_time": "2023-08-09T17:02:30.227Z"
   },
   {
    "duration": 45,
    "start_time": "2023-08-09T17:02:30.245Z"
   },
   {
    "duration": 264,
    "start_time": "2023-08-09T17:02:30.292Z"
   },
   {
    "duration": 120,
    "start_time": "2023-08-09T17:02:30.558Z"
   },
   {
    "duration": 0,
    "start_time": "2023-08-09T17:02:30.680Z"
   },
   {
    "duration": 0,
    "start_time": "2023-08-09T17:02:30.681Z"
   },
   {
    "duration": 0,
    "start_time": "2023-08-09T17:02:30.682Z"
   },
   {
    "duration": 2026,
    "start_time": "2023-08-09T17:02:49.878Z"
   },
   {
    "duration": 6351,
    "start_time": "2023-08-09T17:02:58.295Z"
   },
   {
    "duration": 30,
    "start_time": "2023-08-09T17:04:51.463Z"
   },
   {
    "duration": 1526,
    "start_time": "2023-08-09T17:04:56.143Z"
   },
   {
    "duration": 3,
    "start_time": "2023-08-09T17:04:57.671Z"
   },
   {
    "duration": 812,
    "start_time": "2023-08-09T17:04:57.676Z"
   },
   {
    "duration": 126,
    "start_time": "2023-08-09T17:04:58.490Z"
   },
   {
    "duration": 26,
    "start_time": "2023-08-09T17:04:58.618Z"
   },
   {
    "duration": 155,
    "start_time": "2023-08-09T17:04:58.657Z"
   },
   {
    "duration": 25,
    "start_time": "2023-08-09T17:04:58.815Z"
   },
   {
    "duration": 78,
    "start_time": "2023-08-09T17:04:58.856Z"
   },
   {
    "duration": 30,
    "start_time": "2023-08-09T17:04:58.937Z"
   },
   {
    "duration": 451,
    "start_time": "2023-08-09T17:04:58.970Z"
   },
   {
    "duration": 5,
    "start_time": "2023-08-09T17:04:59.423Z"
   },
   {
    "duration": 9,
    "start_time": "2023-08-09T17:04:59.430Z"
   },
   {
    "duration": 33,
    "start_time": "2023-08-09T17:04:59.441Z"
   },
   {
    "duration": 26,
    "start_time": "2023-08-09T17:04:59.477Z"
   },
   {
    "duration": 33,
    "start_time": "2023-08-09T17:04:59.504Z"
   },
   {
    "duration": 40,
    "start_time": "2023-08-09T17:04:59.538Z"
   },
   {
    "duration": 13,
    "start_time": "2023-08-09T17:04:59.579Z"
   },
   {
    "duration": 6390,
    "start_time": "2023-08-09T17:04:59.594Z"
   },
   {
    "duration": 5,
    "start_time": "2023-08-09T17:05:05.986Z"
   },
   {
    "duration": 2533,
    "start_time": "2023-08-09T17:05:05.993Z"
   },
   {
    "duration": 8,
    "start_time": "2023-08-09T17:05:08.528Z"
   },
   {
    "duration": 22,
    "start_time": "2023-08-09T17:05:08.538Z"
   },
   {
    "duration": 2137,
    "start_time": "2023-08-09T17:05:08.562Z"
   },
   {
    "duration": 240,
    "start_time": "2023-08-09T17:05:10.701Z"
   },
   {
    "duration": 28,
    "start_time": "2023-08-09T17:05:10.942Z"
   },
   {
    "duration": 79,
    "start_time": "2023-08-09T17:05:10.972Z"
   },
   {
    "duration": 236,
    "start_time": "2023-08-09T17:05:11.053Z"
   },
   {
    "duration": 131,
    "start_time": "2023-08-09T17:05:11.291Z"
   },
   {
    "duration": 0,
    "start_time": "2023-08-09T17:05:11.424Z"
   },
   {
    "duration": 0,
    "start_time": "2023-08-09T17:05:11.425Z"
   },
   {
    "duration": 0,
    "start_time": "2023-08-09T17:05:11.426Z"
   },
   {
    "duration": 14,
    "start_time": "2023-08-09T17:14:12.184Z"
   },
   {
    "duration": 1408,
    "start_time": "2023-08-09T17:14:20.296Z"
   },
   {
    "duration": 4,
    "start_time": "2023-08-09T17:14:21.706Z"
   },
   {
    "duration": 782,
    "start_time": "2023-08-09T17:14:21.711Z"
   },
   {
    "duration": 122,
    "start_time": "2023-08-09T17:14:22.495Z"
   },
   {
    "duration": 23,
    "start_time": "2023-08-09T17:14:22.620Z"
   },
   {
    "duration": 145,
    "start_time": "2023-08-09T17:14:22.656Z"
   },
   {
    "duration": 21,
    "start_time": "2023-08-09T17:14:22.802Z"
   },
   {
    "duration": 42,
    "start_time": "2023-08-09T17:14:22.824Z"
   },
   {
    "duration": 23,
    "start_time": "2023-08-09T17:14:22.868Z"
   },
   {
    "duration": 390,
    "start_time": "2023-08-09T17:14:22.893Z"
   },
   {
    "duration": 5,
    "start_time": "2023-08-09T17:14:23.284Z"
   },
   {
    "duration": 7,
    "start_time": "2023-08-09T17:14:23.291Z"
   },
   {
    "duration": 9,
    "start_time": "2023-08-09T17:14:23.300Z"
   },
   {
    "duration": 10,
    "start_time": "2023-08-09T17:14:23.312Z"
   },
   {
    "duration": 39,
    "start_time": "2023-08-09T17:14:23.323Z"
   },
   {
    "duration": 21,
    "start_time": "2023-08-09T17:14:23.364Z"
   },
   {
    "duration": 14,
    "start_time": "2023-08-09T17:14:23.386Z"
   },
   {
    "duration": 6343,
    "start_time": "2023-08-09T17:14:23.402Z"
   },
   {
    "duration": 4,
    "start_time": "2023-08-09T17:14:29.746Z"
   },
   {
    "duration": 2301,
    "start_time": "2023-08-09T17:14:29.756Z"
   },
   {
    "duration": 10,
    "start_time": "2023-08-09T17:14:32.059Z"
   },
   {
    "duration": 39,
    "start_time": "2023-08-09T17:14:32.071Z"
   },
   {
    "duration": 2225,
    "start_time": "2023-08-09T17:14:32.112Z"
   },
   {
    "duration": 244,
    "start_time": "2023-08-09T17:14:34.339Z"
   },
   {
    "duration": 128,
    "start_time": "2023-08-09T17:14:34.585Z"
   },
   {
    "duration": 0,
    "start_time": "2023-08-09T17:14:34.714Z"
   },
   {
    "duration": 0,
    "start_time": "2023-08-09T17:14:34.718Z"
   },
   {
    "duration": 0,
    "start_time": "2023-08-09T17:14:34.719Z"
   },
   {
    "duration": 1601,
    "start_time": "2023-08-09T17:15:38.037Z"
   },
   {
    "duration": 4,
    "start_time": "2023-08-09T17:15:39.640Z"
   },
   {
    "duration": 778,
    "start_time": "2023-08-09T17:15:39.646Z"
   },
   {
    "duration": 111,
    "start_time": "2023-08-09T17:15:40.427Z"
   },
   {
    "duration": 33,
    "start_time": "2023-08-09T17:15:40.540Z"
   },
   {
    "duration": 144,
    "start_time": "2023-08-09T17:15:40.575Z"
   },
   {
    "duration": 21,
    "start_time": "2023-08-09T17:15:40.721Z"
   },
   {
    "duration": 31,
    "start_time": "2023-08-09T17:15:40.757Z"
   },
   {
    "duration": 23,
    "start_time": "2023-08-09T17:15:40.790Z"
   },
   {
    "duration": 379,
    "start_time": "2023-08-09T17:15:40.816Z"
   },
   {
    "duration": 4,
    "start_time": "2023-08-09T17:15:41.197Z"
   },
   {
    "duration": 6,
    "start_time": "2023-08-09T17:15:41.204Z"
   },
   {
    "duration": 3,
    "start_time": "2023-08-09T17:15:41.213Z"
   },
   {
    "duration": 38,
    "start_time": "2023-08-09T17:15:41.218Z"
   },
   {
    "duration": 21,
    "start_time": "2023-08-09T17:15:41.258Z"
   },
   {
    "duration": 24,
    "start_time": "2023-08-09T17:15:41.281Z"
   },
   {
    "duration": 13,
    "start_time": "2023-08-09T17:15:41.307Z"
   },
   {
    "duration": 6421,
    "start_time": "2023-08-09T17:15:41.322Z"
   },
   {
    "duration": 4,
    "start_time": "2023-08-09T17:15:47.744Z"
   },
   {
    "duration": 2467,
    "start_time": "2023-08-09T17:15:47.756Z"
   },
   {
    "duration": 7,
    "start_time": "2023-08-09T17:15:50.225Z"
   },
   {
    "duration": 11,
    "start_time": "2023-08-09T17:15:50.233Z"
   },
   {
    "duration": 1926,
    "start_time": "2023-08-09T17:15:50.257Z"
   },
   {
    "duration": 235,
    "start_time": "2023-08-09T17:15:52.185Z"
   },
   {
    "duration": 117,
    "start_time": "2023-08-09T17:15:52.422Z"
   },
   {
    "duration": 1,
    "start_time": "2023-08-09T17:15:52.540Z"
   },
   {
    "duration": 0,
    "start_time": "2023-08-09T17:15:52.542Z"
   },
   {
    "duration": 0,
    "start_time": "2023-08-09T17:15:52.543Z"
   },
   {
    "duration": 45,
    "start_time": "2023-08-09T17:21:24.714Z"
   },
   {
    "duration": 1413,
    "start_time": "2023-08-09T17:21:41.185Z"
   },
   {
    "duration": 4,
    "start_time": "2023-08-09T17:21:42.600Z"
   },
   {
    "duration": 740,
    "start_time": "2023-08-09T17:21:42.606Z"
   },
   {
    "duration": 108,
    "start_time": "2023-08-09T17:21:43.348Z"
   },
   {
    "duration": 28,
    "start_time": "2023-08-09T17:21:43.458Z"
   },
   {
    "duration": 161,
    "start_time": "2023-08-09T17:21:43.488Z"
   },
   {
    "duration": 26,
    "start_time": "2023-08-09T17:21:43.656Z"
   },
   {
    "duration": 42,
    "start_time": "2023-08-09T17:21:43.684Z"
   },
   {
    "duration": 39,
    "start_time": "2023-08-09T17:21:43.728Z"
   },
   {
    "duration": 371,
    "start_time": "2023-08-09T17:21:43.769Z"
   },
   {
    "duration": 6,
    "start_time": "2023-08-09T17:21:44.141Z"
   },
   {
    "duration": 23,
    "start_time": "2023-08-09T17:21:44.157Z"
   },
   {
    "duration": 21,
    "start_time": "2023-08-09T17:21:44.182Z"
   },
   {
    "duration": 20,
    "start_time": "2023-08-09T17:21:44.205Z"
   },
   {
    "duration": 39,
    "start_time": "2023-08-09T17:21:44.227Z"
   },
   {
    "duration": 25,
    "start_time": "2023-08-09T17:21:44.268Z"
   },
   {
    "duration": 13,
    "start_time": "2023-08-09T17:21:44.295Z"
   },
   {
    "duration": 6174,
    "start_time": "2023-08-09T17:21:44.310Z"
   },
   {
    "duration": 4,
    "start_time": "2023-08-09T17:21:50.486Z"
   },
   {
    "duration": 2351,
    "start_time": "2023-08-09T17:21:50.491Z"
   },
   {
    "duration": 12,
    "start_time": "2023-08-09T17:21:52.844Z"
   },
   {
    "duration": 13,
    "start_time": "2023-08-09T17:21:52.858Z"
   },
   {
    "duration": 1921,
    "start_time": "2023-08-09T17:21:52.873Z"
   },
   {
    "duration": 37,
    "start_time": "2023-08-09T17:21:54.795Z"
   },
   {
    "duration": 4,
    "start_time": "2023-08-09T17:21:54.834Z"
   },
   {
    "duration": 129,
    "start_time": "2023-08-09T17:21:54.840Z"
   },
   {
    "duration": 0,
    "start_time": "2023-08-09T17:21:54.971Z"
   },
   {
    "duration": 0,
    "start_time": "2023-08-09T17:21:54.973Z"
   },
   {
    "duration": 0,
    "start_time": "2023-08-09T17:21:54.974Z"
   },
   {
    "duration": 1426,
    "start_time": "2023-08-09T17:22:13.212Z"
   },
   {
    "duration": 5,
    "start_time": "2023-08-09T17:22:14.640Z"
   },
   {
    "duration": 763,
    "start_time": "2023-08-09T17:22:14.647Z"
   },
   {
    "duration": 118,
    "start_time": "2023-08-09T17:22:15.412Z"
   },
   {
    "duration": 32,
    "start_time": "2023-08-09T17:22:15.532Z"
   },
   {
    "duration": 145,
    "start_time": "2023-08-09T17:22:15.565Z"
   },
   {
    "duration": 23,
    "start_time": "2023-08-09T17:22:15.711Z"
   },
   {
    "duration": 46,
    "start_time": "2023-08-09T17:22:15.735Z"
   },
   {
    "duration": 21,
    "start_time": "2023-08-09T17:22:15.782Z"
   },
   {
    "duration": 394,
    "start_time": "2023-08-09T17:22:15.805Z"
   },
   {
    "duration": 5,
    "start_time": "2023-08-09T17:22:16.208Z"
   },
   {
    "duration": 8,
    "start_time": "2023-08-09T17:22:16.216Z"
   },
   {
    "duration": 4,
    "start_time": "2023-08-09T17:22:16.226Z"
   },
   {
    "duration": 22,
    "start_time": "2023-08-09T17:22:16.234Z"
   },
   {
    "duration": 23,
    "start_time": "2023-08-09T17:22:16.258Z"
   },
   {
    "duration": 21,
    "start_time": "2023-08-09T17:22:16.283Z"
   },
   {
    "duration": 13,
    "start_time": "2023-08-09T17:22:16.306Z"
   },
   {
    "duration": 6248,
    "start_time": "2023-08-09T17:22:16.321Z"
   },
   {
    "duration": 4,
    "start_time": "2023-08-09T17:22:22.571Z"
   },
   {
    "duration": 2367,
    "start_time": "2023-08-09T17:22:22.577Z"
   },
   {
    "duration": 13,
    "start_time": "2023-08-09T17:22:24.946Z"
   },
   {
    "duration": 17,
    "start_time": "2023-08-09T17:22:24.961Z"
   },
   {
    "duration": 1991,
    "start_time": "2023-08-09T17:22:24.980Z"
   },
   {
    "duration": 5,
    "start_time": "2023-08-09T17:22:26.974Z"
   },
   {
    "duration": 44,
    "start_time": "2023-08-09T17:22:26.980Z"
   },
   {
    "duration": 4,
    "start_time": "2023-08-09T17:22:27.026Z"
   },
   {
    "duration": 129,
    "start_time": "2023-08-09T17:22:27.031Z"
   },
   {
    "duration": 0,
    "start_time": "2023-08-09T17:22:27.162Z"
   },
   {
    "duration": 0,
    "start_time": "2023-08-09T17:22:27.163Z"
   },
   {
    "duration": 0,
    "start_time": "2023-08-09T17:22:27.164Z"
   },
   {
    "duration": 1914,
    "start_time": "2023-08-09T17:22:31.500Z"
   },
   {
    "duration": 5966,
    "start_time": "2023-08-09T17:22:39.719Z"
   },
   {
    "duration": 1487,
    "start_time": "2023-08-09T17:27:13.318Z"
   },
   {
    "duration": 4,
    "start_time": "2023-08-09T17:27:14.807Z"
   },
   {
    "duration": 761,
    "start_time": "2023-08-09T17:27:14.813Z"
   },
   {
    "duration": 113,
    "start_time": "2023-08-09T17:27:15.576Z"
   },
   {
    "duration": 24,
    "start_time": "2023-08-09T17:27:15.691Z"
   },
   {
    "duration": 150,
    "start_time": "2023-08-09T17:27:15.717Z"
   },
   {
    "duration": 22,
    "start_time": "2023-08-09T17:27:15.869Z"
   },
   {
    "duration": 29,
    "start_time": "2023-08-09T17:27:15.892Z"
   },
   {
    "duration": 43,
    "start_time": "2023-08-09T17:27:15.923Z"
   },
   {
    "duration": 356,
    "start_time": "2023-08-09T17:27:15.968Z"
   },
   {
    "duration": 6,
    "start_time": "2023-08-09T17:27:16.325Z"
   },
   {
    "duration": 12,
    "start_time": "2023-08-09T17:27:16.333Z"
   },
   {
    "duration": 13,
    "start_time": "2023-08-09T17:27:16.347Z"
   },
   {
    "duration": 9,
    "start_time": "2023-08-09T17:27:16.363Z"
   },
   {
    "duration": 16,
    "start_time": "2023-08-09T17:27:16.374Z"
   },
   {
    "duration": 20,
    "start_time": "2023-08-09T17:27:16.392Z"
   },
   {
    "duration": 13,
    "start_time": "2023-08-09T17:27:16.413Z"
   },
   {
    "duration": 6136,
    "start_time": "2023-08-09T17:27:16.428Z"
   },
   {
    "duration": 3,
    "start_time": "2023-08-09T17:27:22.566Z"
   },
   {
    "duration": 2349,
    "start_time": "2023-08-09T17:27:22.571Z"
   },
   {
    "duration": 8,
    "start_time": "2023-08-09T17:27:24.921Z"
   },
   {
    "duration": 10,
    "start_time": "2023-08-09T17:27:24.930Z"
   },
   {
    "duration": 1951,
    "start_time": "2023-08-09T17:27:24.942Z"
   },
   {
    "duration": 4,
    "start_time": "2023-08-09T17:27:26.895Z"
   },
   {
    "duration": 48,
    "start_time": "2023-08-09T17:27:26.900Z"
   },
   {
    "duration": 5,
    "start_time": "2023-08-09T17:27:26.955Z"
   },
   {
    "duration": 116,
    "start_time": "2023-08-09T17:27:26.961Z"
   },
   {
    "duration": 0,
    "start_time": "2023-08-09T17:27:27.078Z"
   },
   {
    "duration": 0,
    "start_time": "2023-08-09T17:27:27.080Z"
   },
   {
    "duration": 0,
    "start_time": "2023-08-09T17:27:27.081Z"
   },
   {
    "duration": 1590,
    "start_time": "2023-08-10T07:28:09.100Z"
   },
   {
    "duration": 149,
    "start_time": "2023-08-10T08:50:09.473Z"
   },
   {
    "duration": 1509,
    "start_time": "2023-08-10T08:50:17.269Z"
   },
   {
    "duration": 3,
    "start_time": "2023-08-10T08:50:18.779Z"
   },
   {
    "duration": 3169,
    "start_time": "2023-08-10T08:50:18.784Z"
   },
   {
    "duration": 132,
    "start_time": "2023-08-10T08:50:21.955Z"
   },
   {
    "duration": 24,
    "start_time": "2023-08-10T08:50:22.094Z"
   },
   {
    "duration": 172,
    "start_time": "2023-08-10T08:50:22.120Z"
   },
   {
    "duration": 15,
    "start_time": "2023-08-10T08:50:22.297Z"
   },
   {
    "duration": 85,
    "start_time": "2023-08-10T08:50:22.313Z"
   },
   {
    "duration": 17,
    "start_time": "2023-08-10T08:50:22.400Z"
   },
   {
    "duration": 408,
    "start_time": "2023-08-10T08:50:22.419Z"
   },
   {
    "duration": 9,
    "start_time": "2023-08-10T08:50:22.828Z"
   },
   {
    "duration": 39,
    "start_time": "2023-08-10T08:50:22.858Z"
   },
   {
    "duration": 5,
    "start_time": "2023-08-10T08:50:22.898Z"
   },
   {
    "duration": 13,
    "start_time": "2023-08-10T08:50:22.906Z"
   },
   {
    "duration": 16,
    "start_time": "2023-08-10T08:50:22.920Z"
   },
   {
    "duration": 41,
    "start_time": "2023-08-10T08:50:22.948Z"
   },
   {
    "duration": 25,
    "start_time": "2023-08-10T08:50:22.993Z"
   },
   {
    "duration": 5878,
    "start_time": "2023-08-10T08:50:23.019Z"
   },
   {
    "duration": 3,
    "start_time": "2023-08-10T08:50:28.898Z"
   },
   {
    "duration": 2262,
    "start_time": "2023-08-10T08:50:28.902Z"
   },
   {
    "duration": 19,
    "start_time": "2023-08-10T08:50:31.172Z"
   },
   {
    "duration": 193,
    "start_time": "2023-08-10T08:50:31.193Z"
   },
   {
    "duration": 1959,
    "start_time": "2023-08-10T08:50:31.388Z"
   },
   {
    "duration": 36,
    "start_time": "2023-08-10T08:50:33.348Z"
   },
   {
    "duration": 182,
    "start_time": "2023-08-10T08:50:33.386Z"
   },
   {
    "duration": 0,
    "start_time": "2023-08-10T08:50:33.576Z"
   },
   {
    "duration": 0,
    "start_time": "2023-08-10T08:50:33.577Z"
   },
   {
    "duration": 0,
    "start_time": "2023-08-10T08:50:33.584Z"
   },
   {
    "duration": 0,
    "start_time": "2023-08-10T08:50:33.585Z"
   },
   {
    "duration": 4,
    "start_time": "2023-08-10T08:51:03.606Z"
   },
   {
    "duration": 18,
    "start_time": "2023-08-10T08:52:06.267Z"
   },
   {
    "duration": 16,
    "start_time": "2023-08-10T08:52:17.681Z"
   },
   {
    "duration": 14,
    "start_time": "2023-08-10T08:52:32.415Z"
   },
   {
    "duration": 1554,
    "start_time": "2023-08-10T08:52:38.666Z"
   },
   {
    "duration": 4,
    "start_time": "2023-08-10T08:52:40.222Z"
   },
   {
    "duration": 873,
    "start_time": "2023-08-10T08:52:40.227Z"
   },
   {
    "duration": 130,
    "start_time": "2023-08-10T08:52:41.101Z"
   },
   {
    "duration": 31,
    "start_time": "2023-08-10T08:52:41.233Z"
   },
   {
    "duration": 211,
    "start_time": "2023-08-10T08:52:41.265Z"
   },
   {
    "duration": 46,
    "start_time": "2023-08-10T08:52:41.487Z"
   },
   {
    "duration": 83,
    "start_time": "2023-08-10T08:52:41.535Z"
   },
   {
    "duration": 17,
    "start_time": "2023-08-10T08:52:41.619Z"
   },
   {
    "duration": 516,
    "start_time": "2023-08-10T08:52:41.638Z"
   },
   {
    "duration": 12,
    "start_time": "2023-08-10T08:52:42.163Z"
   },
   {
    "duration": 62,
    "start_time": "2023-08-10T08:52:42.180Z"
   },
   {
    "duration": 40,
    "start_time": "2023-08-10T08:52:42.249Z"
   },
   {
    "duration": 55,
    "start_time": "2023-08-10T08:52:42.291Z"
   },
   {
    "duration": 77,
    "start_time": "2023-08-10T08:52:42.348Z"
   },
   {
    "duration": 74,
    "start_time": "2023-08-10T08:52:42.426Z"
   },
   {
    "duration": 19,
    "start_time": "2023-08-10T08:52:42.501Z"
   },
   {
    "duration": 5552,
    "start_time": "2023-08-10T08:52:42.521Z"
   },
   {
    "duration": 15,
    "start_time": "2023-08-10T08:52:48.074Z"
   },
   {
    "duration": 2231,
    "start_time": "2023-08-10T08:52:48.091Z"
   },
   {
    "duration": 25,
    "start_time": "2023-08-10T08:52:50.323Z"
   },
   {
    "duration": 62,
    "start_time": "2023-08-10T08:52:50.349Z"
   },
   {
    "duration": 1911,
    "start_time": "2023-08-10T08:52:50.412Z"
   },
   {
    "duration": 59,
    "start_time": "2023-08-10T08:52:52.325Z"
   },
   {
    "duration": 12,
    "start_time": "2023-08-10T08:52:52.385Z"
   },
   {
    "duration": 182,
    "start_time": "2023-08-10T08:52:52.398Z"
   },
   {
    "duration": 0,
    "start_time": "2023-08-10T08:52:52.582Z"
   },
   {
    "duration": 0,
    "start_time": "2023-08-10T08:52:52.583Z"
   },
   {
    "duration": 0,
    "start_time": "2023-08-10T08:52:52.588Z"
   },
   {
    "duration": 1519,
    "start_time": "2023-08-10T08:53:13.417Z"
   },
   {
    "duration": 7,
    "start_time": "2023-08-10T08:53:14.938Z"
   },
   {
    "duration": 929,
    "start_time": "2023-08-10T08:53:14.947Z"
   },
   {
    "duration": 116,
    "start_time": "2023-08-10T08:53:15.881Z"
   },
   {
    "duration": 20,
    "start_time": "2023-08-10T08:53:15.998Z"
   },
   {
    "duration": 166,
    "start_time": "2023-08-10T08:53:16.020Z"
   },
   {
    "duration": 16,
    "start_time": "2023-08-10T08:53:16.191Z"
   },
   {
    "duration": 68,
    "start_time": "2023-08-10T08:53:16.208Z"
   },
   {
    "duration": 38,
    "start_time": "2023-08-10T08:53:16.278Z"
   },
   {
    "duration": 476,
    "start_time": "2023-08-10T08:53:16.319Z"
   },
   {
    "duration": 4,
    "start_time": "2023-08-10T08:53:16.797Z"
   },
   {
    "duration": 10,
    "start_time": "2023-08-10T08:53:16.803Z"
   },
   {
    "duration": 9,
    "start_time": "2023-08-10T08:53:16.815Z"
   },
   {
    "duration": 17,
    "start_time": "2023-08-10T08:53:16.825Z"
   },
   {
    "duration": 64,
    "start_time": "2023-08-10T08:53:16.843Z"
   },
   {
    "duration": 15,
    "start_time": "2023-08-10T08:53:16.909Z"
   },
   {
    "duration": 25,
    "start_time": "2023-08-10T08:53:16.927Z"
   },
   {
    "duration": 5935,
    "start_time": "2023-08-10T08:53:16.957Z"
   },
   {
    "duration": 5,
    "start_time": "2023-08-10T08:53:22.894Z"
   },
   {
    "duration": 2284,
    "start_time": "2023-08-10T08:53:22.900Z"
   },
   {
    "duration": 19,
    "start_time": "2023-08-10T08:53:25.185Z"
   },
   {
    "duration": 15,
    "start_time": "2023-08-10T08:53:25.206Z"
   },
   {
    "duration": 1849,
    "start_time": "2023-08-10T08:53:25.223Z"
   },
   {
    "duration": 31,
    "start_time": "2023-08-10T08:53:27.073Z"
   },
   {
    "duration": 5,
    "start_time": "2023-08-10T08:53:27.106Z"
   },
   {
    "duration": 172,
    "start_time": "2023-08-10T08:53:27.112Z"
   },
   {
    "duration": 0,
    "start_time": "2023-08-10T08:53:27.291Z"
   },
   {
    "duration": 0,
    "start_time": "2023-08-10T08:53:27.292Z"
   },
   {
    "duration": 0,
    "start_time": "2023-08-10T08:53:27.294Z"
   },
   {
    "duration": 7,
    "start_time": "2023-08-10T08:53:46.357Z"
   },
   {
    "duration": 7,
    "start_time": "2023-08-10T08:56:00.481Z"
   },
   {
    "duration": 4,
    "start_time": "2023-08-10T08:57:55.599Z"
   },
   {
    "duration": 1611,
    "start_time": "2023-08-10T08:59:16.365Z"
   },
   {
    "duration": 8,
    "start_time": "2023-08-10T08:59:17.989Z"
   },
   {
    "duration": 956,
    "start_time": "2023-08-10T08:59:18.000Z"
   },
   {
    "duration": 136,
    "start_time": "2023-08-10T08:59:18.957Z"
   },
   {
    "duration": 23,
    "start_time": "2023-08-10T08:59:19.096Z"
   },
   {
    "duration": 188,
    "start_time": "2023-08-10T08:59:19.120Z"
   },
   {
    "duration": 17,
    "start_time": "2023-08-10T08:59:19.310Z"
   },
   {
    "duration": 116,
    "start_time": "2023-08-10T08:59:19.344Z"
   },
   {
    "duration": 46,
    "start_time": "2023-08-10T08:59:19.474Z"
   },
   {
    "duration": 458,
    "start_time": "2023-08-10T08:59:19.522Z"
   },
   {
    "duration": 4,
    "start_time": "2023-08-10T08:59:19.989Z"
   },
   {
    "duration": 28,
    "start_time": "2023-08-10T08:59:19.995Z"
   },
   {
    "duration": 75,
    "start_time": "2023-08-10T08:59:20.024Z"
   },
   {
    "duration": 25,
    "start_time": "2023-08-10T08:59:20.102Z"
   },
   {
    "duration": 78,
    "start_time": "2023-08-10T08:59:20.128Z"
   },
   {
    "duration": 41,
    "start_time": "2023-08-10T08:59:20.207Z"
   },
   {
    "duration": 36,
    "start_time": "2023-08-10T08:59:20.260Z"
   },
   {
    "duration": 6111,
    "start_time": "2023-08-10T08:59:20.298Z"
   },
   {
    "duration": 3,
    "start_time": "2023-08-10T08:59:26.411Z"
   },
   {
    "duration": 2472,
    "start_time": "2023-08-10T08:59:26.416Z"
   },
   {
    "duration": 9,
    "start_time": "2023-08-10T08:59:28.889Z"
   },
   {
    "duration": 31,
    "start_time": "2023-08-10T08:59:28.899Z"
   },
   {
    "duration": 1948,
    "start_time": "2023-08-10T08:59:28.932Z"
   },
   {
    "duration": 30,
    "start_time": "2023-08-10T08:59:30.886Z"
   },
   {
    "duration": 19,
    "start_time": "2023-08-10T08:59:30.917Z"
   },
   {
    "duration": 133,
    "start_time": "2023-08-10T08:59:30.937Z"
   },
   {
    "duration": 236,
    "start_time": "2023-08-10T08:59:31.080Z"
   },
   {
    "duration": 0,
    "start_time": "2023-08-10T08:59:31.317Z"
   },
   {
    "duration": 0,
    "start_time": "2023-08-10T08:59:31.318Z"
   },
   {
    "duration": 0,
    "start_time": "2023-08-10T08:59:31.319Z"
   },
   {
    "duration": 1580,
    "start_time": "2023-08-10T09:07:58.165Z"
   },
   {
    "duration": 4,
    "start_time": "2023-08-10T09:07:59.747Z"
   },
   {
    "duration": 931,
    "start_time": "2023-08-10T09:07:59.753Z"
   },
   {
    "duration": 117,
    "start_time": "2023-08-10T09:08:00.686Z"
   },
   {
    "duration": 20,
    "start_time": "2023-08-10T09:08:00.805Z"
   },
   {
    "duration": 223,
    "start_time": "2023-08-10T09:08:00.826Z"
   },
   {
    "duration": 22,
    "start_time": "2023-08-10T09:08:01.051Z"
   },
   {
    "duration": 203,
    "start_time": "2023-08-10T09:08:01.075Z"
   },
   {
    "duration": 74,
    "start_time": "2023-08-10T09:08:01.279Z"
   },
   {
    "duration": 713,
    "start_time": "2023-08-10T09:08:01.355Z"
   },
   {
    "duration": 14,
    "start_time": "2023-08-10T09:08:02.070Z"
   },
   {
    "duration": 212,
    "start_time": "2023-08-10T09:08:02.086Z"
   },
   {
    "duration": 111,
    "start_time": "2023-08-10T09:08:02.300Z"
   },
   {
    "duration": 132,
    "start_time": "2023-08-10T09:08:02.415Z"
   },
   {
    "duration": 95,
    "start_time": "2023-08-10T09:08:02.549Z"
   },
   {
    "duration": 76,
    "start_time": "2023-08-10T09:08:02.646Z"
   },
   {
    "duration": 65,
    "start_time": "2023-08-10T09:08:02.724Z"
   },
   {
    "duration": 6189,
    "start_time": "2023-08-10T09:08:02.791Z"
   },
   {
    "duration": 5,
    "start_time": "2023-08-10T09:08:08.985Z"
   },
   {
    "duration": 2377,
    "start_time": "2023-08-10T09:08:08.991Z"
   },
   {
    "duration": 12,
    "start_time": "2023-08-10T09:08:11.377Z"
   },
   {
    "duration": 8,
    "start_time": "2023-08-10T09:08:11.391Z"
   },
   {
    "duration": 1979,
    "start_time": "2023-08-10T09:08:11.400Z"
   },
   {
    "duration": 29,
    "start_time": "2023-08-10T09:08:13.381Z"
   },
   {
    "duration": 5,
    "start_time": "2023-08-10T09:08:13.412Z"
   },
   {
    "duration": 63,
    "start_time": "2023-08-10T09:08:13.418Z"
   },
   {
    "duration": 138,
    "start_time": "2023-08-10T09:08:13.483Z"
   },
   {
    "duration": 0,
    "start_time": "2023-08-10T09:08:13.623Z"
   },
   {
    "duration": 0,
    "start_time": "2023-08-10T09:08:13.624Z"
   },
   {
    "duration": 0,
    "start_time": "2023-08-10T09:08:13.626Z"
   },
   {
    "duration": 34,
    "start_time": "2023-08-10T09:08:22.230Z"
   },
   {
    "duration": 1474,
    "start_time": "2023-08-10T09:08:37.376Z"
   },
   {
    "duration": 8,
    "start_time": "2023-08-10T09:08:38.852Z"
   },
   {
    "duration": 867,
    "start_time": "2023-08-10T09:08:38.861Z"
   },
   {
    "duration": 128,
    "start_time": "2023-08-10T09:08:39.729Z"
   },
   {
    "duration": 25,
    "start_time": "2023-08-10T09:08:39.862Z"
   },
   {
    "duration": 157,
    "start_time": "2023-08-10T09:08:39.889Z"
   },
   {
    "duration": 34,
    "start_time": "2023-08-10T09:08:40.056Z"
   },
   {
    "duration": 56,
    "start_time": "2023-08-10T09:08:40.091Z"
   },
   {
    "duration": 39,
    "start_time": "2023-08-10T09:08:40.148Z"
   },
   {
    "duration": 440,
    "start_time": "2023-08-10T09:08:40.189Z"
   },
   {
    "duration": 7,
    "start_time": "2023-08-10T09:08:40.631Z"
   },
   {
    "duration": 78,
    "start_time": "2023-08-10T09:08:40.639Z"
   },
   {
    "duration": 59,
    "start_time": "2023-08-10T09:08:40.718Z"
   },
   {
    "duration": 28,
    "start_time": "2023-08-10T09:08:40.781Z"
   },
   {
    "duration": 26,
    "start_time": "2023-08-10T09:08:40.810Z"
   },
   {
    "duration": 52,
    "start_time": "2023-08-10T09:08:40.837Z"
   },
   {
    "duration": 12,
    "start_time": "2023-08-10T09:08:40.891Z"
   },
   {
    "duration": 6131,
    "start_time": "2023-08-10T09:08:40.904Z"
   },
   {
    "duration": 16,
    "start_time": "2023-08-10T09:08:47.037Z"
   },
   {
    "duration": 2375,
    "start_time": "2023-08-10T09:08:47.054Z"
   },
   {
    "duration": 19,
    "start_time": "2023-08-10T09:08:49.430Z"
   },
   {
    "duration": 53,
    "start_time": "2023-08-10T09:08:49.450Z"
   },
   {
    "duration": 2035,
    "start_time": "2023-08-10T09:08:49.505Z"
   },
   {
    "duration": 55,
    "start_time": "2023-08-10T09:08:51.544Z"
   },
   {
    "duration": 23,
    "start_time": "2023-08-10T09:08:51.601Z"
   },
   {
    "duration": 96,
    "start_time": "2023-08-10T09:08:51.626Z"
   },
   {
    "duration": 194,
    "start_time": "2023-08-10T09:08:51.723Z"
   },
   {
    "duration": 0,
    "start_time": "2023-08-10T09:08:51.919Z"
   },
   {
    "duration": 0,
    "start_time": "2023-08-10T09:08:51.921Z"
   },
   {
    "duration": 0,
    "start_time": "2023-08-10T09:08:51.923Z"
   },
   {
    "duration": 7,
    "start_time": "2023-08-10T09:11:32.567Z"
   },
   {
    "duration": 15,
    "start_time": "2023-08-10T09:24:12.391Z"
   },
   {
    "duration": 3,
    "start_time": "2023-08-10T09:24:18.225Z"
   },
   {
    "duration": 12,
    "start_time": "2023-08-10T09:24:21.098Z"
   },
   {
    "duration": 161,
    "start_time": "2023-08-10T09:24:50.646Z"
   },
   {
    "duration": 21,
    "start_time": "2023-08-10T09:24:55.471Z"
   },
   {
    "duration": 13,
    "start_time": "2023-08-10T09:25:01.088Z"
   },
   {
    "duration": 1954,
    "start_time": "2023-08-10T09:25:10.269Z"
   },
   {
    "duration": 5,
    "start_time": "2023-08-10T09:25:12.224Z"
   },
   {
    "duration": 923,
    "start_time": "2023-08-10T09:25:12.230Z"
   },
   {
    "duration": 137,
    "start_time": "2023-08-10T09:25:13.155Z"
   },
   {
    "duration": 20,
    "start_time": "2023-08-10T09:25:13.295Z"
   },
   {
    "duration": 167,
    "start_time": "2023-08-10T09:25:13.316Z"
   },
   {
    "duration": 18,
    "start_time": "2023-08-10T09:25:13.489Z"
   },
   {
    "duration": 84,
    "start_time": "2023-08-10T09:25:13.508Z"
   },
   {
    "duration": 32,
    "start_time": "2023-08-10T09:25:13.597Z"
   },
   {
    "duration": 554,
    "start_time": "2023-08-10T09:25:13.630Z"
   },
   {
    "duration": 13,
    "start_time": "2023-08-10T09:25:14.185Z"
   },
   {
    "duration": 25,
    "start_time": "2023-08-10T09:25:14.199Z"
   },
   {
    "duration": 74,
    "start_time": "2023-08-10T09:25:14.225Z"
   },
   {
    "duration": 17,
    "start_time": "2023-08-10T09:25:14.302Z"
   },
   {
    "duration": 62,
    "start_time": "2023-08-10T09:25:14.320Z"
   },
   {
    "duration": 40,
    "start_time": "2023-08-10T09:25:14.384Z"
   },
   {
    "duration": 50,
    "start_time": "2023-08-10T09:25:14.425Z"
   },
   {
    "duration": 5812,
    "start_time": "2023-08-10T09:25:14.488Z"
   },
   {
    "duration": 3,
    "start_time": "2023-08-10T09:25:20.302Z"
   },
   {
    "duration": 2220,
    "start_time": "2023-08-10T09:25:20.307Z"
   },
   {
    "duration": 38,
    "start_time": "2023-08-10T09:25:22.528Z"
   },
   {
    "duration": 20,
    "start_time": "2023-08-10T09:25:22.570Z"
   },
   {
    "duration": 1864,
    "start_time": "2023-08-10T09:25:22.592Z"
   },
   {
    "duration": 42,
    "start_time": "2023-08-10T09:25:24.457Z"
   },
   {
    "duration": 23,
    "start_time": "2023-08-10T09:25:24.501Z"
   },
   {
    "duration": 189,
    "start_time": "2023-08-10T09:25:24.526Z"
   },
   {
    "duration": 214,
    "start_time": "2023-08-10T09:25:24.717Z"
   },
   {
    "duration": 0,
    "start_time": "2023-08-10T09:25:24.932Z"
   },
   {
    "duration": 0,
    "start_time": "2023-08-10T09:25:24.934Z"
   },
   {
    "duration": 0,
    "start_time": "2023-08-10T09:25:24.935Z"
   },
   {
    "duration": 4,
    "start_time": "2023-08-10T09:25:39.020Z"
   },
   {
    "duration": 25,
    "start_time": "2023-08-10T09:25:51.073Z"
   },
   {
    "duration": 31,
    "start_time": "2023-08-10T09:27:44.381Z"
   },
   {
    "duration": 23,
    "start_time": "2023-08-10T09:27:58.961Z"
   },
   {
    "duration": 1627,
    "start_time": "2023-08-10T09:28:04.728Z"
   },
   {
    "duration": 4,
    "start_time": "2023-08-10T09:28:06.357Z"
   },
   {
    "duration": 1023,
    "start_time": "2023-08-10T09:28:06.363Z"
   },
   {
    "duration": 128,
    "start_time": "2023-08-10T09:28:07.388Z"
   },
   {
    "duration": 19,
    "start_time": "2023-08-10T09:28:07.518Z"
   },
   {
    "duration": 164,
    "start_time": "2023-08-10T09:28:07.538Z"
   },
   {
    "duration": 17,
    "start_time": "2023-08-10T09:28:07.703Z"
   },
   {
    "duration": 96,
    "start_time": "2023-08-10T09:28:07.721Z"
   },
   {
    "duration": 46,
    "start_time": "2023-08-10T09:28:07.819Z"
   },
   {
    "duration": 505,
    "start_time": "2023-08-10T09:28:07.867Z"
   },
   {
    "duration": 10,
    "start_time": "2023-08-10T09:28:08.373Z"
   },
   {
    "duration": 38,
    "start_time": "2023-08-10T09:28:08.384Z"
   },
   {
    "duration": 68,
    "start_time": "2023-08-10T09:28:08.424Z"
   },
   {
    "duration": 96,
    "start_time": "2023-08-10T09:28:08.494Z"
   },
   {
    "duration": 30,
    "start_time": "2023-08-10T09:28:08.592Z"
   },
   {
    "duration": 48,
    "start_time": "2023-08-10T09:28:08.624Z"
   },
   {
    "duration": 29,
    "start_time": "2023-08-10T09:28:08.684Z"
   },
   {
    "duration": 6245,
    "start_time": "2023-08-10T09:28:08.714Z"
   },
   {
    "duration": 7,
    "start_time": "2023-08-10T09:28:14.960Z"
   },
   {
    "duration": 2257,
    "start_time": "2023-08-10T09:28:14.968Z"
   },
   {
    "duration": 25,
    "start_time": "2023-08-10T09:28:17.227Z"
   },
   {
    "duration": 67,
    "start_time": "2023-08-10T09:28:17.264Z"
   },
   {
    "duration": 1859,
    "start_time": "2023-08-10T09:28:17.333Z"
   },
   {
    "duration": 31,
    "start_time": "2023-08-10T09:28:19.194Z"
   },
   {
    "duration": 25,
    "start_time": "2023-08-10T09:28:19.227Z"
   },
   {
    "duration": 62,
    "start_time": "2023-08-10T09:28:19.253Z"
   },
   {
    "duration": 148,
    "start_time": "2023-08-10T09:28:19.316Z"
   },
   {
    "duration": 0,
    "start_time": "2023-08-10T09:28:19.465Z"
   },
   {
    "duration": 0,
    "start_time": "2023-08-10T09:28:19.466Z"
   },
   {
    "duration": 0,
    "start_time": "2023-08-10T09:28:19.467Z"
   },
   {
    "duration": 3,
    "start_time": "2023-08-10T09:32:46.183Z"
   },
   {
    "duration": 5,
    "start_time": "2023-08-10T09:33:07.771Z"
   },
   {
    "duration": 4,
    "start_time": "2023-08-10T09:49:17.987Z"
   },
   {
    "duration": 4,
    "start_time": "2023-08-10T09:49:28.021Z"
   },
   {
    "duration": 5,
    "start_time": "2023-08-10T09:51:08.772Z"
   },
   {
    "duration": 1856,
    "start_time": "2023-08-10T09:51:37.968Z"
   },
   {
    "duration": 5,
    "start_time": "2023-08-10T09:51:44.486Z"
   },
   {
    "duration": 6,
    "start_time": "2023-08-10T09:51:54.174Z"
   },
   {
    "duration": 7,
    "start_time": "2023-08-10T09:51:57.371Z"
   },
   {
    "duration": 31,
    "start_time": "2023-08-10T09:52:36.329Z"
   },
   {
    "duration": 10,
    "start_time": "2023-08-10T09:53:15.050Z"
   },
   {
    "duration": 3,
    "start_time": "2023-08-10T09:53:28.551Z"
   },
   {
    "duration": 17919,
    "start_time": "2023-08-10T09:53:30.089Z"
   },
   {
    "duration": 1328,
    "start_time": "2023-08-10T09:54:18.392Z"
   },
   {
    "duration": 3,
    "start_time": "2023-08-10T09:54:19.722Z"
   },
   {
    "duration": 737,
    "start_time": "2023-08-10T09:54:19.726Z"
   },
   {
    "duration": 113,
    "start_time": "2023-08-10T09:54:20.465Z"
   },
   {
    "duration": 19,
    "start_time": "2023-08-10T09:54:20.580Z"
   },
   {
    "duration": 154,
    "start_time": "2023-08-10T09:54:20.601Z"
   },
   {
    "duration": 21,
    "start_time": "2023-08-10T09:54:20.757Z"
   },
   {
    "duration": 32,
    "start_time": "2023-08-10T09:54:20.780Z"
   },
   {
    "duration": 38,
    "start_time": "2023-08-10T09:54:20.814Z"
   },
   {
    "duration": 444,
    "start_time": "2023-08-10T09:54:20.853Z"
   },
   {
    "duration": 5,
    "start_time": "2023-08-10T09:54:21.298Z"
   },
   {
    "duration": 20,
    "start_time": "2023-08-10T09:54:21.304Z"
   },
   {
    "duration": 7,
    "start_time": "2023-08-10T09:54:21.326Z"
   },
   {
    "duration": 23,
    "start_time": "2023-08-10T09:54:21.337Z"
   },
   {
    "duration": 17,
    "start_time": "2023-08-10T09:54:21.361Z"
   },
   {
    "duration": 27,
    "start_time": "2023-08-10T09:54:21.379Z"
   },
   {
    "duration": 11,
    "start_time": "2023-08-10T09:54:21.408Z"
   },
   {
    "duration": 5454,
    "start_time": "2023-08-10T09:54:21.420Z"
   },
   {
    "duration": 4,
    "start_time": "2023-08-10T09:54:26.875Z"
   },
   {
    "duration": 2049,
    "start_time": "2023-08-10T09:54:26.880Z"
   },
   {
    "duration": 15,
    "start_time": "2023-08-10T09:54:28.930Z"
   },
   {
    "duration": 38,
    "start_time": "2023-08-10T09:54:28.946Z"
   },
   {
    "duration": 1784,
    "start_time": "2023-08-10T09:54:28.985Z"
   },
   {
    "duration": 29,
    "start_time": "2023-08-10T09:54:30.770Z"
   },
   {
    "duration": 55,
    "start_time": "2023-08-10T09:54:30.800Z"
   },
   {
    "duration": 162,
    "start_time": "2023-08-10T09:54:30.856Z"
   },
   {
    "duration": 82,
    "start_time": "2023-08-10T09:54:31.020Z"
   },
   {
    "duration": 68,
    "start_time": "2023-08-10T09:54:31.104Z"
   },
   {
    "duration": 17156,
    "start_time": "2023-08-10T09:54:31.174Z"
   },
   {
    "duration": 124,
    "start_time": "2023-08-10T09:54:48.331Z"
   },
   {
    "duration": 0,
    "start_time": "2023-08-10T09:54:48.457Z"
   },
   {
    "duration": 0,
    "start_time": "2023-08-10T09:54:48.458Z"
   },
   {
    "duration": 2375,
    "start_time": "2023-08-10T09:55:08.074Z"
   },
   {
    "duration": 12,
    "start_time": "2023-08-10T09:55:36.933Z"
   },
   {
    "duration": 10,
    "start_time": "2023-08-10T09:56:27.333Z"
   },
   {
    "duration": 4,
    "start_time": "2023-08-10T10:02:49.986Z"
   },
   {
    "duration": 17289,
    "start_time": "2023-08-10T10:02:51.503Z"
   },
   {
    "duration": 4,
    "start_time": "2023-08-10T10:06:19.462Z"
   },
   {
    "duration": 3,
    "start_time": "2023-08-10T10:06:22.774Z"
   },
   {
    "duration": 5,
    "start_time": "2023-08-10T10:06:24.004Z"
   },
   {
    "duration": 4,
    "start_time": "2023-08-10T10:06:25.962Z"
   },
   {
    "duration": 11500,
    "start_time": "2023-08-10T10:06:27.756Z"
   },
   {
    "duration": 0,
    "start_time": "2023-08-10T10:06:39.258Z"
   },
   {
    "duration": 2947,
    "start_time": "2023-08-10T10:06:48.509Z"
   },
   {
    "duration": 17368,
    "start_time": "2023-08-10T10:06:55.680Z"
   },
   {
    "duration": 96022,
    "start_time": "2023-08-10T10:07:36.829Z"
   },
   {
    "duration": 4,
    "start_time": "2023-08-10T10:09:55.220Z"
   },
   {
    "duration": 3,
    "start_time": "2023-08-10T10:09:56.350Z"
   },
   {
    "duration": 5,
    "start_time": "2023-08-10T10:09:56.783Z"
   },
   {
    "duration": 9,
    "start_time": "2023-08-10T10:09:57.737Z"
   },
   {
    "duration": 2143,
    "start_time": "2023-08-10T10:10:04.118Z"
   },
   {
    "duration": 9,
    "start_time": "2023-08-10T10:18:32.562Z"
   },
   {
    "duration": 7978,
    "start_time": "2023-08-10T10:18:40.238Z"
   },
   {
    "duration": 7830,
    "start_time": "2023-08-10T10:19:12.631Z"
   },
   {
    "duration": 17500,
    "start_time": "2023-08-10T10:20:07.685Z"
   },
   {
    "duration": 0,
    "start_time": "2023-08-10T10:20:33.056Z"
   },
   {
    "duration": 8053,
    "start_time": "2023-08-10T10:20:39.253Z"
   },
   {
    "duration": 8,
    "start_time": "2023-08-10T10:20:55.497Z"
   },
   {
    "duration": 8188,
    "start_time": "2023-08-10T10:20:59.152Z"
   },
   {
    "duration": 9,
    "start_time": "2023-08-10T10:23:04.662Z"
   },
   {
    "duration": 7988,
    "start_time": "2023-08-10T10:23:11.394Z"
   },
   {
    "duration": 4,
    "start_time": "2023-08-10T10:24:23.305Z"
   },
   {
    "duration": 2,
    "start_time": "2023-08-10T10:24:35.106Z"
   },
   {
    "duration": 17606,
    "start_time": "2023-08-10T10:24:37.035Z"
   },
   {
    "duration": 3197,
    "start_time": "2023-08-10T10:24:54.653Z"
   },
   {
    "duration": 4,
    "start_time": "2023-08-10T10:25:22.030Z"
   },
   {
    "duration": 17794,
    "start_time": "2023-08-10T10:25:24.262Z"
   },
   {
    "duration": 102715,
    "start_time": "2023-08-10T10:25:42.059Z"
   },
   {
    "duration": 2689,
    "start_time": "2023-08-10T10:27:24.776Z"
   },
   {
    "duration": 22693,
    "start_time": "2023-08-10T10:29:14.929Z"
   },
   {
    "duration": 5,
    "start_time": "2023-08-10T10:32:00.668Z"
   },
   {
    "duration": 3,
    "start_time": "2023-08-10T10:32:12.238Z"
   },
   {
    "duration": 4299,
    "start_time": "2023-08-10T10:32:15.868Z"
   },
   {
    "duration": 17951,
    "start_time": "2023-08-10T10:32:22.271Z"
   },
   {
    "duration": 7,
    "start_time": "2023-08-10T10:34:47.922Z"
   },
   {
    "duration": 5,
    "start_time": "2023-08-10T10:35:18.999Z"
   },
   {
    "duration": 17824,
    "start_time": "2023-08-10T10:35:19.005Z"
   },
   {
    "duration": 8368,
    "start_time": "2023-08-10T10:35:59.465Z"
   },
   {
    "duration": 8096,
    "start_time": "2023-08-10T10:36:13.566Z"
   },
   {
    "duration": 10,
    "start_time": "2023-08-10T10:40:36.665Z"
   },
   {
    "duration": 3,
    "start_time": "2023-08-10T10:40:45.385Z"
   },
   {
    "duration": 9,
    "start_time": "2023-08-10T10:42:22.328Z"
   },
   {
    "duration": 3,
    "start_time": "2023-08-10T10:42:46.196Z"
   },
   {
    "duration": 114,
    "start_time": "2023-08-10T10:43:28.461Z"
   },
   {
    "duration": 2,
    "start_time": "2023-08-10T10:43:32.719Z"
   },
   {
    "duration": 97,
    "start_time": "2023-08-10T10:49:18.453Z"
   },
   {
    "duration": 0,
    "start_time": "2023-08-10T10:49:18.552Z"
   },
   {
    "duration": 0,
    "start_time": "2023-08-10T10:49:18.553Z"
   },
   {
    "duration": 3,
    "start_time": "2023-08-10T10:49:49.900Z"
   },
   {
    "duration": 4,
    "start_time": "2023-08-10T10:49:51.127Z"
   },
   {
    "duration": 3,
    "start_time": "2023-08-10T10:49:52.059Z"
   },
   {
    "duration": 296970,
    "start_time": "2023-08-10T10:49:53.072Z"
   },
   {
    "duration": 5625,
    "start_time": "2023-08-10T10:57:57.822Z"
   },
   {
    "duration": 21267,
    "start_time": "2023-08-10T10:58:03.449Z"
   },
   {
    "duration": 18266,
    "start_time": "2023-08-10T10:58:24.718Z"
   },
   {
    "duration": 8132,
    "start_time": "2023-08-10T10:58:42.986Z"
   },
   {
    "duration": 1535,
    "start_time": "2023-08-10T10:59:00.427Z"
   },
   {
    "duration": 4,
    "start_time": "2023-08-10T10:59:01.964Z"
   },
   {
    "duration": 857,
    "start_time": "2023-08-10T10:59:01.970Z"
   },
   {
    "duration": 123,
    "start_time": "2023-08-10T10:59:02.829Z"
   },
   {
    "duration": 19,
    "start_time": "2023-08-10T10:59:02.965Z"
   },
   {
    "duration": 164,
    "start_time": "2023-08-10T10:59:02.988Z"
   },
   {
    "duration": 21,
    "start_time": "2023-08-10T10:59:03.165Z"
   },
   {
    "duration": 37,
    "start_time": "2023-08-10T10:59:03.187Z"
   },
   {
    "duration": 28,
    "start_time": "2023-08-10T10:59:03.225Z"
   },
   {
    "duration": 421,
    "start_time": "2023-08-10T10:59:03.254Z"
   },
   {
    "duration": 5,
    "start_time": "2023-08-10T10:59:03.676Z"
   },
   {
    "duration": 10,
    "start_time": "2023-08-10T10:59:03.682Z"
   },
   {
    "duration": 8,
    "start_time": "2023-08-10T10:59:03.693Z"
   },
   {
    "duration": 21,
    "start_time": "2023-08-10T10:59:03.703Z"
   },
   {
    "duration": 29,
    "start_time": "2023-08-10T10:59:03.726Z"
   },
   {
    "duration": 28,
    "start_time": "2023-08-10T10:59:03.761Z"
   },
   {
    "duration": 11,
    "start_time": "2023-08-10T10:59:03.791Z"
   },
   {
    "duration": 5621,
    "start_time": "2023-08-10T10:59:03.803Z"
   },
   {
    "duration": 34,
    "start_time": "2023-08-10T10:59:09.426Z"
   },
   {
    "duration": 2219,
    "start_time": "2023-08-10T10:59:09.465Z"
   },
   {
    "duration": 7,
    "start_time": "2023-08-10T10:59:11.686Z"
   },
   {
    "duration": 112,
    "start_time": "2023-08-10T10:59:11.694Z"
   },
   {
    "duration": 1759,
    "start_time": "2023-08-10T10:59:11.808Z"
   },
   {
    "duration": 29,
    "start_time": "2023-08-10T10:59:13.568Z"
   },
   {
    "duration": 8,
    "start_time": "2023-08-10T10:59:13.598Z"
   },
   {
    "duration": 66,
    "start_time": "2023-08-10T10:59:13.607Z"
   },
   {
    "duration": 14,
    "start_time": "2023-08-10T10:59:13.674Z"
   },
   {
    "duration": 35,
    "start_time": "2023-08-10T10:59:13.689Z"
   },
   {
    "duration": 6,
    "start_time": "2023-08-10T10:59:13.725Z"
   },
   {
    "duration": 39,
    "start_time": "2023-08-10T10:59:13.732Z"
   },
   {
    "duration": 43335,
    "start_time": "2023-08-10T10:59:13.773Z"
   },
   {
    "duration": 0,
    "start_time": "2023-08-10T10:59:57.109Z"
   },
   {
    "duration": 0,
    "start_time": "2023-08-10T10:59:57.110Z"
   },
   {
    "duration": 0,
    "start_time": "2023-08-10T10:59:57.112Z"
   },
   {
    "duration": 1,
    "start_time": "2023-08-10T10:59:57.112Z"
   },
   {
    "duration": 18408,
    "start_time": "2023-08-10T11:00:00.878Z"
   },
   {
    "duration": 10,
    "start_time": "2023-08-10T11:00:40.211Z"
   },
   {
    "duration": 21609,
    "start_time": "2023-08-10T11:00:57.361Z"
   },
   {
    "duration": 14,
    "start_time": "2023-08-10T11:01:18.972Z"
   },
   {
    "duration": 6722,
    "start_time": "2023-08-10T11:01:35.955Z"
   },
   {
    "duration": 8505,
    "start_time": "2023-08-10T11:01:46.715Z"
   },
   {
    "duration": 7939,
    "start_time": "2023-08-10T11:03:19.362Z"
   },
   {
    "duration": 1455,
    "start_time": "2023-08-10T11:03:46.805Z"
   },
   {
    "duration": 5,
    "start_time": "2023-08-10T11:03:48.265Z"
   },
   {
    "duration": 789,
    "start_time": "2023-08-10T11:03:48.271Z"
   },
   {
    "duration": 120,
    "start_time": "2023-08-10T11:03:49.063Z"
   },
   {
    "duration": 21,
    "start_time": "2023-08-10T11:03:49.185Z"
   },
   {
    "duration": 161,
    "start_time": "2023-08-10T11:03:49.208Z"
   },
   {
    "duration": 17,
    "start_time": "2023-08-10T11:03:49.370Z"
   },
   {
    "duration": 34,
    "start_time": "2023-08-10T11:03:49.389Z"
   },
   {
    "duration": 41,
    "start_time": "2023-08-10T11:03:49.424Z"
   },
   {
    "duration": 431,
    "start_time": "2023-08-10T11:03:49.466Z"
   },
   {
    "duration": 4,
    "start_time": "2023-08-10T11:03:49.899Z"
   },
   {
    "duration": 23,
    "start_time": "2023-08-10T11:03:49.904Z"
   },
   {
    "duration": 12,
    "start_time": "2023-08-10T11:03:49.928Z"
   },
   {
    "duration": 37,
    "start_time": "2023-08-10T11:03:49.953Z"
   },
   {
    "duration": 53,
    "start_time": "2023-08-10T11:03:49.991Z"
   },
   {
    "duration": 47,
    "start_time": "2023-08-10T11:03:50.056Z"
   },
   {
    "duration": 18,
    "start_time": "2023-08-10T11:03:50.104Z"
   },
   {
    "duration": 5665,
    "start_time": "2023-08-10T11:03:50.123Z"
   },
   {
    "duration": 4,
    "start_time": "2023-08-10T11:03:55.789Z"
   },
   {
    "duration": 2070,
    "start_time": "2023-08-10T11:03:55.794Z"
   },
   {
    "duration": 8,
    "start_time": "2023-08-10T11:03:57.865Z"
   },
   {
    "duration": 57,
    "start_time": "2023-08-10T11:03:57.874Z"
   },
   {
    "duration": 1729,
    "start_time": "2023-08-10T11:03:57.932Z"
   },
   {
    "duration": 30,
    "start_time": "2023-08-10T11:03:59.663Z"
   },
   {
    "duration": 8,
    "start_time": "2023-08-10T11:03:59.694Z"
   },
   {
    "duration": 16,
    "start_time": "2023-08-10T11:03:59.704Z"
   },
   {
    "duration": 14,
    "start_time": "2023-08-10T11:03:59.722Z"
   },
   {
    "duration": 36,
    "start_time": "2023-08-10T11:03:59.737Z"
   },
   {
    "duration": 14,
    "start_time": "2023-08-10T11:03:59.775Z"
   },
   {
    "duration": 7,
    "start_time": "2023-08-10T11:03:59.790Z"
   },
   {
    "duration": 7289,
    "start_time": "2023-08-10T11:03:59.799Z"
   },
   {
    "duration": 0,
    "start_time": "2023-08-10T11:04:07.090Z"
   },
   {
    "duration": 0,
    "start_time": "2023-08-10T11:04:07.091Z"
   },
   {
    "duration": 0,
    "start_time": "2023-08-10T11:04:07.092Z"
   },
   {
    "duration": 0,
    "start_time": "2023-08-10T11:04:07.093Z"
   },
   {
    "duration": 18635,
    "start_time": "2023-08-10T11:04:40.381Z"
   },
   {
    "duration": 21053,
    "start_time": "2023-08-10T11:04:59.018Z"
   },
   {
    "duration": 5110,
    "start_time": "2023-08-10T11:05:20.073Z"
   },
   {
    "duration": 8347,
    "start_time": "2023-08-10T11:05:25.187Z"
   },
   {
    "duration": 8018,
    "start_time": "2023-08-10T11:06:49.192Z"
   },
   {
    "duration": 18291,
    "start_time": "2023-08-10T11:08:01.285Z"
   },
   {
    "duration": 1586,
    "start_time": "2023-08-10T11:08:36.920Z"
   },
   {
    "duration": 3,
    "start_time": "2023-08-10T11:08:38.507Z"
   },
   {
    "duration": 754,
    "start_time": "2023-08-10T11:08:38.512Z"
   },
   {
    "duration": 117,
    "start_time": "2023-08-10T11:08:39.268Z"
   },
   {
    "duration": 21,
    "start_time": "2023-08-10T11:08:39.386Z"
   },
   {
    "duration": 182,
    "start_time": "2023-08-10T11:08:39.408Z"
   },
   {
    "duration": 15,
    "start_time": "2023-08-10T11:08:39.592Z"
   },
   {
    "duration": 43,
    "start_time": "2023-08-10T11:08:39.609Z"
   },
   {
    "duration": 22,
    "start_time": "2023-08-10T11:08:39.653Z"
   },
   {
    "duration": 410,
    "start_time": "2023-08-10T11:08:39.677Z"
   },
   {
    "duration": 5,
    "start_time": "2023-08-10T11:08:40.088Z"
   },
   {
    "duration": 28,
    "start_time": "2023-08-10T11:08:40.094Z"
   },
   {
    "duration": 47,
    "start_time": "2023-08-10T11:08:40.124Z"
   },
   {
    "duration": 31,
    "start_time": "2023-08-10T11:08:40.173Z"
   },
   {
    "duration": 42,
    "start_time": "2023-08-10T11:08:40.206Z"
   },
   {
    "duration": 36,
    "start_time": "2023-08-10T11:08:40.249Z"
   },
   {
    "duration": 23,
    "start_time": "2023-08-10T11:08:40.286Z"
   },
   {
    "duration": 5584,
    "start_time": "2023-08-10T11:08:40.310Z"
   },
   {
    "duration": 3,
    "start_time": "2023-08-10T11:08:45.895Z"
   },
   {
    "duration": 2050,
    "start_time": "2023-08-10T11:08:45.900Z"
   },
   {
    "duration": 9,
    "start_time": "2023-08-10T11:08:47.954Z"
   },
   {
    "duration": 22,
    "start_time": "2023-08-10T11:08:47.966Z"
   },
   {
    "duration": 1657,
    "start_time": "2023-08-10T11:08:47.990Z"
   },
   {
    "duration": 32,
    "start_time": "2023-08-10T11:08:49.653Z"
   },
   {
    "duration": 7,
    "start_time": "2023-08-10T11:08:49.687Z"
   },
   {
    "duration": 21,
    "start_time": "2023-08-10T11:08:49.696Z"
   },
   {
    "duration": 19,
    "start_time": "2023-08-10T11:08:49.718Z"
   },
   {
    "duration": 20,
    "start_time": "2023-08-10T11:08:49.751Z"
   },
   {
    "duration": 20,
    "start_time": "2023-08-10T11:08:49.773Z"
   },
   {
    "duration": 7,
    "start_time": "2023-08-10T11:08:49.794Z"
   },
   {
    "duration": 38470,
    "start_time": "2023-08-10T11:08:49.802Z"
   },
   {
    "duration": 0,
    "start_time": "2023-08-10T11:09:28.273Z"
   },
   {
    "duration": 0,
    "start_time": "2023-08-10T11:09:28.274Z"
   },
   {
    "duration": 0,
    "start_time": "2023-08-10T11:09:28.276Z"
   },
   {
    "duration": 0,
    "start_time": "2023-08-10T11:09:28.277Z"
   },
   {
    "duration": 17632,
    "start_time": "2023-08-10T11:09:30.970Z"
   },
   {
    "duration": 0,
    "start_time": "2023-08-10T11:09:48.603Z"
   },
   {
    "duration": 0,
    "start_time": "2023-08-10T11:09:48.604Z"
   },
   {
    "duration": 0,
    "start_time": "2023-08-10T11:09:48.605Z"
   },
   {
    "duration": 17936,
    "start_time": "2023-08-10T11:09:57.058Z"
   },
   {
    "duration": 21550,
    "start_time": "2023-08-10T11:10:14.996Z"
   },
   {
    "duration": 5203,
    "start_time": "2023-08-10T11:10:36.548Z"
   },
   {
    "duration": 8354,
    "start_time": "2023-08-10T11:10:44.383Z"
   },
   {
    "duration": 1468,
    "start_time": "2023-08-10T11:11:10.325Z"
   },
   {
    "duration": 3,
    "start_time": "2023-08-10T11:11:11.795Z"
   },
   {
    "duration": 1956,
    "start_time": "2023-08-10T11:11:11.799Z"
   },
   {
    "duration": 235,
    "start_time": "2023-08-10T11:11:13.757Z"
   },
   {
    "duration": 74,
    "start_time": "2023-08-10T11:11:13.994Z"
   },
   {
    "duration": 163,
    "start_time": "2023-08-10T11:11:14.070Z"
   },
   {
    "duration": 35,
    "start_time": "2023-08-10T11:11:14.235Z"
   },
   {
    "duration": 27,
    "start_time": "2023-08-10T11:11:14.271Z"
   },
   {
    "duration": 17,
    "start_time": "2023-08-10T11:11:14.299Z"
   },
   {
    "duration": 460,
    "start_time": "2023-08-10T11:11:14.318Z"
   },
   {
    "duration": 5,
    "start_time": "2023-08-10T11:11:14.780Z"
   },
   {
    "duration": 14,
    "start_time": "2023-08-10T11:11:14.787Z"
   },
   {
    "duration": 24,
    "start_time": "2023-08-10T11:11:14.802Z"
   },
   {
    "duration": 23,
    "start_time": "2023-08-10T11:11:14.829Z"
   },
   {
    "duration": 39,
    "start_time": "2023-08-10T11:11:14.853Z"
   },
   {
    "duration": 14,
    "start_time": "2023-08-10T11:11:14.893Z"
   },
   {
    "duration": 23,
    "start_time": "2023-08-10T11:11:14.908Z"
   },
   {
    "duration": 5562,
    "start_time": "2023-08-10T11:11:14.932Z"
   },
   {
    "duration": 4,
    "start_time": "2023-08-10T11:11:20.495Z"
   },
   {
    "duration": 2094,
    "start_time": "2023-08-10T11:11:20.500Z"
   },
   {
    "duration": 7,
    "start_time": "2023-08-10T11:11:22.595Z"
   },
   {
    "duration": 38,
    "start_time": "2023-08-10T11:11:22.604Z"
   },
   {
    "duration": 1814,
    "start_time": "2023-08-10T11:11:22.646Z"
   },
   {
    "duration": 30,
    "start_time": "2023-08-10T11:11:24.473Z"
   },
   {
    "duration": 8,
    "start_time": "2023-08-10T11:11:24.504Z"
   },
   {
    "duration": 21,
    "start_time": "2023-08-10T11:11:24.513Z"
   },
   {
    "duration": 58,
    "start_time": "2023-08-10T11:11:24.535Z"
   },
   {
    "duration": 19,
    "start_time": "2023-08-10T11:11:24.595Z"
   },
   {
    "duration": 26,
    "start_time": "2023-08-10T11:11:24.616Z"
   },
   {
    "duration": 53,
    "start_time": "2023-08-10T11:11:24.660Z"
   },
   {
    "duration": 1601,
    "start_time": "2023-08-10T11:11:24.715Z"
   },
   {
    "duration": 0,
    "start_time": "2023-08-10T11:11:26.318Z"
   },
   {
    "duration": 0,
    "start_time": "2023-08-10T11:11:26.320Z"
   },
   {
    "duration": 0,
    "start_time": "2023-08-10T11:11:26.321Z"
   },
   {
    "duration": 0,
    "start_time": "2023-08-10T11:11:26.322Z"
   },
   {
    "duration": 9083,
    "start_time": "2023-08-10T11:12:52.271Z"
   },
   {
    "duration": 20202,
    "start_time": "2023-08-10T11:13:23.010Z"
   },
   {
    "duration": 24856,
    "start_time": "2023-08-10T11:13:45.965Z"
   },
   {
    "duration": 4587,
    "start_time": "2023-08-10T11:14:19.122Z"
   },
   {
    "duration": 1561,
    "start_time": "2023-08-10T11:18:32.281Z"
   },
   {
    "duration": 6,
    "start_time": "2023-08-10T11:18:33.844Z"
   },
   {
    "duration": 1025,
    "start_time": "2023-08-10T11:18:33.855Z"
   },
   {
    "duration": 142,
    "start_time": "2023-08-10T11:18:34.881Z"
   },
   {
    "duration": 43,
    "start_time": "2023-08-10T11:18:35.025Z"
   },
   {
    "duration": 205,
    "start_time": "2023-08-10T11:18:35.069Z"
   },
   {
    "duration": 18,
    "start_time": "2023-08-10T11:18:35.275Z"
   },
   {
    "duration": 98,
    "start_time": "2023-08-10T11:18:35.294Z"
   },
   {
    "duration": 40,
    "start_time": "2023-08-10T11:18:35.395Z"
   },
   {
    "duration": 499,
    "start_time": "2023-08-10T11:18:35.437Z"
   },
   {
    "duration": 12,
    "start_time": "2023-08-10T11:18:35.938Z"
   },
   {
    "duration": 4,
    "start_time": "2023-08-10T11:18:35.951Z"
   },
   {
    "duration": 2,
    "start_time": "2023-08-10T11:18:35.957Z"
   },
   {
    "duration": 5,
    "start_time": "2023-08-10T11:18:35.962Z"
   },
   {
    "duration": 59,
    "start_time": "2023-08-10T11:18:35.968Z"
   },
   {
    "duration": 42,
    "start_time": "2023-08-10T11:18:36.029Z"
   },
   {
    "duration": 24,
    "start_time": "2023-08-10T11:18:36.073Z"
   },
   {
    "duration": 5936,
    "start_time": "2023-08-10T11:18:36.099Z"
   },
   {
    "duration": 20,
    "start_time": "2023-08-10T11:18:42.036Z"
   },
   {
    "duration": 2153,
    "start_time": "2023-08-10T11:18:42.058Z"
   },
   {
    "duration": 7,
    "start_time": "2023-08-10T11:18:44.213Z"
   },
   {
    "duration": 68,
    "start_time": "2023-08-10T11:18:44.222Z"
   },
   {
    "duration": 1839,
    "start_time": "2023-08-10T11:18:44.291Z"
   },
   {
    "duration": 35,
    "start_time": "2023-08-10T11:18:46.131Z"
   },
   {
    "duration": 12,
    "start_time": "2023-08-10T11:18:46.173Z"
   },
   {
    "duration": 19,
    "start_time": "2023-08-10T11:18:46.187Z"
   },
   {
    "duration": 15,
    "start_time": "2023-08-10T11:18:46.207Z"
   },
   {
    "duration": 9,
    "start_time": "2023-08-10T11:18:46.223Z"
   },
   {
    "duration": 50,
    "start_time": "2023-08-10T11:18:46.234Z"
   },
   {
    "duration": 13,
    "start_time": "2023-08-10T11:18:46.285Z"
   },
   {
    "duration": 18626,
    "start_time": "2023-08-10T11:18:46.299Z"
   },
   {
    "duration": 21898,
    "start_time": "2023-08-10T11:19:04.927Z"
   },
   {
    "duration": 7615,
    "start_time": "2023-08-10T11:19:26.826Z"
   },
   {
    "duration": 9112,
    "start_time": "2023-08-10T11:19:34.444Z"
   },
   {
    "duration": 8215,
    "start_time": "2023-08-10T11:20:55.861Z"
   },
   {
    "duration": 8821,
    "start_time": "2023-08-10T11:23:13.565Z"
   },
   {
    "duration": 4,
    "start_time": "2023-08-10T11:24:13.830Z"
   },
   {
    "duration": 8753,
    "start_time": "2023-08-10T11:24:16.021Z"
   },
   {
    "duration": 1461,
    "start_time": "2023-08-10T11:24:43.270Z"
   },
   {
    "duration": 7,
    "start_time": "2023-08-10T11:24:44.734Z"
   },
   {
    "duration": 911,
    "start_time": "2023-08-10T11:24:44.746Z"
   },
   {
    "duration": 123,
    "start_time": "2023-08-10T11:24:45.659Z"
   },
   {
    "duration": 19,
    "start_time": "2023-08-10T11:24:45.783Z"
   },
   {
    "duration": 168,
    "start_time": "2023-08-10T11:24:45.804Z"
   },
   {
    "duration": 20,
    "start_time": "2023-08-10T11:24:45.974Z"
   },
   {
    "duration": 56,
    "start_time": "2023-08-10T11:24:45.996Z"
   },
   {
    "duration": 20,
    "start_time": "2023-08-10T11:24:46.067Z"
   },
   {
    "duration": 441,
    "start_time": "2023-08-10T11:24:46.089Z"
   },
   {
    "duration": 16,
    "start_time": "2023-08-10T11:24:46.531Z"
   },
   {
    "duration": 36,
    "start_time": "2023-08-10T11:24:46.549Z"
   },
   {
    "duration": 3,
    "start_time": "2023-08-10T11:24:46.588Z"
   },
   {
    "duration": 7,
    "start_time": "2023-08-10T11:24:46.592Z"
   },
   {
    "duration": 32,
    "start_time": "2023-08-10T11:24:46.600Z"
   },
   {
    "duration": 34,
    "start_time": "2023-08-10T11:24:46.633Z"
   },
   {
    "duration": 22,
    "start_time": "2023-08-10T11:24:46.677Z"
   },
   {
    "duration": 5843,
    "start_time": "2023-08-10T11:24:46.701Z"
   },
   {
    "duration": 13,
    "start_time": "2023-08-10T11:24:52.546Z"
   },
   {
    "duration": 2138,
    "start_time": "2023-08-10T11:24:52.560Z"
   },
   {
    "duration": 9,
    "start_time": "2023-08-10T11:24:54.700Z"
   },
   {
    "duration": 20,
    "start_time": "2023-08-10T11:24:54.710Z"
   },
   {
    "duration": 1789,
    "start_time": "2023-08-10T11:24:54.731Z"
   },
   {
    "duration": 42,
    "start_time": "2023-08-10T11:24:56.522Z"
   },
   {
    "duration": 15,
    "start_time": "2023-08-10T11:24:56.565Z"
   },
   {
    "duration": 30,
    "start_time": "2023-08-10T11:24:56.581Z"
   },
   {
    "duration": 19,
    "start_time": "2023-08-10T11:24:56.613Z"
   },
   {
    "duration": 51,
    "start_time": "2023-08-10T11:24:56.633Z"
   },
   {
    "duration": 44,
    "start_time": "2023-08-10T11:24:56.686Z"
   },
   {
    "duration": 48,
    "start_time": "2023-08-10T11:24:56.732Z"
   },
   {
    "duration": 18842,
    "start_time": "2023-08-10T11:24:56.782Z"
   },
   {
    "duration": 22289,
    "start_time": "2023-08-10T11:25:15.626Z"
   },
   {
    "duration": 6131,
    "start_time": "2023-08-10T11:25:37.917Z"
   },
   {
    "duration": 8941,
    "start_time": "2023-08-10T11:25:44.051Z"
   },
   {
    "duration": 4,
    "start_time": "2023-08-10T11:26:32.899Z"
   },
   {
    "duration": 8587,
    "start_time": "2023-08-10T11:26:36.073Z"
   },
   {
    "duration": 1645,
    "start_time": "2023-08-10T11:27:04.867Z"
   },
   {
    "duration": 3,
    "start_time": "2023-08-10T11:27:06.514Z"
   },
   {
    "duration": 952,
    "start_time": "2023-08-10T11:27:06.519Z"
   },
   {
    "duration": 112,
    "start_time": "2023-08-10T11:27:07.477Z"
   },
   {
    "duration": 19,
    "start_time": "2023-08-10T11:27:07.590Z"
   },
   {
    "duration": 173,
    "start_time": "2023-08-10T11:27:07.611Z"
   },
   {
    "duration": 17,
    "start_time": "2023-08-10T11:27:07.786Z"
   },
   {
    "duration": 68,
    "start_time": "2023-08-10T11:27:07.804Z"
   },
   {
    "duration": 26,
    "start_time": "2023-08-10T11:27:07.874Z"
   },
   {
    "duration": 490,
    "start_time": "2023-08-10T11:27:07.902Z"
   },
   {
    "duration": 6,
    "start_time": "2023-08-10T11:27:08.394Z"
   },
   {
    "duration": 7,
    "start_time": "2023-08-10T11:27:08.401Z"
   },
   {
    "duration": 6,
    "start_time": "2023-08-10T11:27:08.410Z"
   },
   {
    "duration": 24,
    "start_time": "2023-08-10T11:27:08.420Z"
   },
   {
    "duration": 27,
    "start_time": "2023-08-10T11:27:08.445Z"
   },
   {
    "duration": 28,
    "start_time": "2023-08-10T11:27:08.473Z"
   },
   {
    "duration": 10,
    "start_time": "2023-08-10T11:27:08.503Z"
   },
   {
    "duration": 5689,
    "start_time": "2023-08-10T11:27:08.515Z"
   },
   {
    "duration": 3,
    "start_time": "2023-08-10T11:27:14.206Z"
   },
   {
    "duration": 2266,
    "start_time": "2023-08-10T11:27:14.210Z"
   },
   {
    "duration": 9,
    "start_time": "2023-08-10T11:27:16.478Z"
   },
   {
    "duration": 9,
    "start_time": "2023-08-10T11:27:16.489Z"
   },
   {
    "duration": 1829,
    "start_time": "2023-08-10T11:27:16.500Z"
   },
   {
    "duration": 46,
    "start_time": "2023-08-10T11:27:18.330Z"
   },
   {
    "duration": 9,
    "start_time": "2023-08-10T11:27:18.378Z"
   },
   {
    "duration": 19,
    "start_time": "2023-08-10T11:27:18.388Z"
   },
   {
    "duration": 8,
    "start_time": "2023-08-10T11:27:18.408Z"
   },
   {
    "duration": 54,
    "start_time": "2023-08-10T11:27:18.418Z"
   },
   {
    "duration": 17,
    "start_time": "2023-08-10T11:27:18.474Z"
   },
   {
    "duration": 27,
    "start_time": "2023-08-10T11:27:18.493Z"
   },
   {
    "duration": 18638,
    "start_time": "2023-08-10T11:27:18.522Z"
   },
   {
    "duration": 22186,
    "start_time": "2023-08-10T11:27:37.164Z"
   },
   {
    "duration": 4134,
    "start_time": "2023-08-10T11:27:59.351Z"
   },
   {
    "duration": 9196,
    "start_time": "2023-08-10T11:28:03.487Z"
   },
   {
    "duration": 5,
    "start_time": "2023-08-10T11:29:14.695Z"
   },
   {
    "duration": 19015,
    "start_time": "2023-08-10T11:29:17.461Z"
   },
   {
    "duration": 15,
    "start_time": "2023-08-10T11:29:51.561Z"
   },
   {
    "duration": 19821,
    "start_time": "2023-08-10T11:29:53.489Z"
   },
   {
    "duration": 8668,
    "start_time": "2023-08-10T11:30:13.312Z"
   },
   {
    "duration": 1472,
    "start_time": "2023-08-10T11:30:30.672Z"
   },
   {
    "duration": 6,
    "start_time": "2023-08-10T11:30:32.145Z"
   },
   {
    "duration": 880,
    "start_time": "2023-08-10T11:30:32.156Z"
   },
   {
    "duration": 133,
    "start_time": "2023-08-10T11:30:33.050Z"
   },
   {
    "duration": 25,
    "start_time": "2023-08-10T11:30:33.185Z"
   },
   {
    "duration": 164,
    "start_time": "2023-08-10T11:30:33.212Z"
   },
   {
    "duration": 19,
    "start_time": "2023-08-10T11:30:33.381Z"
   },
   {
    "duration": 37,
    "start_time": "2023-08-10T11:30:33.402Z"
   },
   {
    "duration": 38,
    "start_time": "2023-08-10T11:30:33.442Z"
   },
   {
    "duration": 435,
    "start_time": "2023-08-10T11:30:33.482Z"
   },
   {
    "duration": 4,
    "start_time": "2023-08-10T11:30:33.918Z"
   },
   {
    "duration": 11,
    "start_time": "2023-08-10T11:30:33.924Z"
   },
   {
    "duration": 54,
    "start_time": "2023-08-10T11:30:33.945Z"
   },
   {
    "duration": 6,
    "start_time": "2023-08-10T11:30:34.001Z"
   },
   {
    "duration": 14,
    "start_time": "2023-08-10T11:30:34.009Z"
   },
   {
    "duration": 22,
    "start_time": "2023-08-10T11:30:34.024Z"
   },
   {
    "duration": 57,
    "start_time": "2023-08-10T11:30:34.053Z"
   },
   {
    "duration": 5904,
    "start_time": "2023-08-10T11:30:34.111Z"
   },
   {
    "duration": 3,
    "start_time": "2023-08-10T11:30:40.017Z"
   },
   {
    "duration": 2444,
    "start_time": "2023-08-10T11:30:40.022Z"
   },
   {
    "duration": 8,
    "start_time": "2023-08-10T11:30:42.468Z"
   },
   {
    "duration": 15,
    "start_time": "2023-08-10T11:30:42.478Z"
   },
   {
    "duration": 1989,
    "start_time": "2023-08-10T11:30:42.495Z"
   },
   {
    "duration": 37,
    "start_time": "2023-08-10T11:30:44.488Z"
   },
   {
    "duration": 9,
    "start_time": "2023-08-10T11:30:44.527Z"
   },
   {
    "duration": 68,
    "start_time": "2023-08-10T11:30:44.546Z"
   },
   {
    "duration": 32,
    "start_time": "2023-08-10T11:30:44.616Z"
   },
   {
    "duration": 62,
    "start_time": "2023-08-10T11:30:44.650Z"
   },
   {
    "duration": 11,
    "start_time": "2023-08-10T11:30:44.715Z"
   },
   {
    "duration": 59,
    "start_time": "2023-08-10T11:30:44.728Z"
   },
   {
    "duration": 19461,
    "start_time": "2023-08-10T11:30:44.791Z"
   },
   {
    "duration": 21575,
    "start_time": "2023-08-10T11:31:04.253Z"
   },
   {
    "duration": 6247,
    "start_time": "2023-08-10T11:31:25.829Z"
   },
   {
    "duration": 8987,
    "start_time": "2023-08-10T11:31:32.077Z"
   },
   {
    "duration": 12,
    "start_time": "2023-08-10T11:32:35.182Z"
   },
   {
    "duration": 18869,
    "start_time": "2023-08-10T11:32:37.533Z"
   },
   {
    "duration": 21873,
    "start_time": "2023-08-10T11:32:57.912Z"
   },
   {
    "duration": 5785,
    "start_time": "2023-08-10T11:33:19.789Z"
   },
   {
    "duration": 9020,
    "start_time": "2023-08-10T11:33:27.164Z"
   },
   {
    "duration": 17,
    "start_time": "2023-08-10T11:33:40.565Z"
   },
   {
    "duration": 9147,
    "start_time": "2023-08-10T11:33:45.467Z"
   },
   {
    "duration": 11,
    "start_time": "2023-08-10T11:35:03.472Z"
   },
   {
    "duration": 8123,
    "start_time": "2023-08-10T11:35:06.268Z"
   },
   {
    "duration": 0,
    "start_time": "2023-08-10T11:35:14.392Z"
   },
   {
    "duration": 15,
    "start_time": "2023-08-10T11:35:15.556Z"
   },
   {
    "duration": 19095,
    "start_time": "2023-08-10T11:35:17.893Z"
   },
   {
    "duration": 1574,
    "start_time": "2023-08-10T11:36:24.607Z"
   },
   {
    "duration": 4,
    "start_time": "2023-08-10T11:36:26.183Z"
   },
   {
    "duration": 844,
    "start_time": "2023-08-10T11:36:26.191Z"
   },
   {
    "duration": 149,
    "start_time": "2023-08-10T11:36:27.037Z"
   },
   {
    "duration": 22,
    "start_time": "2023-08-10T11:36:27.189Z"
   },
   {
    "duration": 156,
    "start_time": "2023-08-10T11:36:27.212Z"
   },
   {
    "duration": 20,
    "start_time": "2023-08-10T11:36:27.380Z"
   },
   {
    "duration": 41,
    "start_time": "2023-08-10T11:36:27.402Z"
   },
   {
    "duration": 31,
    "start_time": "2023-08-10T11:36:27.453Z"
   },
   {
    "duration": 431,
    "start_time": "2023-08-10T11:36:27.486Z"
   },
   {
    "duration": 5,
    "start_time": "2023-08-10T11:36:27.918Z"
   },
   {
    "duration": 8,
    "start_time": "2023-08-10T11:36:27.924Z"
   },
   {
    "duration": 36,
    "start_time": "2023-08-10T11:36:27.934Z"
   },
   {
    "duration": 10,
    "start_time": "2023-08-10T11:36:27.977Z"
   },
   {
    "duration": 21,
    "start_time": "2023-08-10T11:36:27.989Z"
   },
   {
    "duration": 14,
    "start_time": "2023-08-10T11:36:28.011Z"
   },
   {
    "duration": 33,
    "start_time": "2023-08-10T11:36:28.027Z"
   },
   {
    "duration": 5617,
    "start_time": "2023-08-10T11:36:28.075Z"
   },
   {
    "duration": 4,
    "start_time": "2023-08-10T11:36:33.697Z"
   },
   {
    "duration": 2373,
    "start_time": "2023-08-10T11:36:33.703Z"
   },
   {
    "duration": 11,
    "start_time": "2023-08-10T11:36:36.077Z"
   },
   {
    "duration": 112,
    "start_time": "2023-08-10T11:36:36.089Z"
   },
   {
    "duration": 2207,
    "start_time": "2023-08-10T11:36:36.203Z"
   },
   {
    "duration": 48,
    "start_time": "2023-08-10T11:36:38.412Z"
   },
   {
    "duration": 37,
    "start_time": "2023-08-10T11:36:38.461Z"
   },
   {
    "duration": 34,
    "start_time": "2023-08-10T11:36:38.499Z"
   },
   {
    "duration": 65,
    "start_time": "2023-08-10T11:36:38.535Z"
   },
   {
    "duration": 21,
    "start_time": "2023-08-10T11:36:38.601Z"
   },
   {
    "duration": 5,
    "start_time": "2023-08-10T11:36:38.624Z"
   },
   {
    "duration": 64,
    "start_time": "2023-08-10T11:36:38.631Z"
   },
   {
    "duration": 19663,
    "start_time": "2023-08-10T11:36:38.697Z"
   },
   {
    "duration": 22959,
    "start_time": "2023-08-10T11:36:58.364Z"
   },
   {
    "duration": 5243,
    "start_time": "2023-08-10T11:37:21.325Z"
   },
   {
    "duration": 8891,
    "start_time": "2023-08-10T11:37:26.573Z"
   },
   {
    "duration": 8225,
    "start_time": "2023-08-10T11:38:09.368Z"
   },
   {
    "duration": 5,
    "start_time": "2023-08-10T11:39:39.661Z"
   },
   {
    "duration": 3,
    "start_time": "2023-08-10T11:39:40.722Z"
   },
   {
    "duration": 21165,
    "start_time": "2023-08-10T11:39:44.204Z"
   },
   {
    "duration": 9071,
    "start_time": "2023-08-10T11:40:15.318Z"
   },
   {
    "duration": 8388,
    "start_time": "2023-08-10T11:40:26.212Z"
   },
   {
    "duration": 3229,
    "start_time": "2023-08-10T11:40:36.838Z"
   },
   {
    "duration": 8507,
    "start_time": "2023-08-10T11:40:41.524Z"
   },
   {
    "duration": 1552,
    "start_time": "2023-08-10T11:41:18.827Z"
   },
   {
    "duration": 5,
    "start_time": "2023-08-10T11:41:20.384Z"
   },
   {
    "duration": 870,
    "start_time": "2023-08-10T11:41:20.390Z"
   },
   {
    "duration": 120,
    "start_time": "2023-08-10T11:41:21.262Z"
   },
   {
    "duration": 23,
    "start_time": "2023-08-10T11:41:21.384Z"
   },
   {
    "duration": 169,
    "start_time": "2023-08-10T11:41:21.408Z"
   },
   {
    "duration": 18,
    "start_time": "2023-08-10T11:41:21.579Z"
   },
   {
    "duration": 29,
    "start_time": "2023-08-10T11:41:21.599Z"
   },
   {
    "duration": 27,
    "start_time": "2023-08-10T11:41:21.629Z"
   },
   {
    "duration": 430,
    "start_time": "2023-08-10T11:41:21.659Z"
   },
   {
    "duration": 4,
    "start_time": "2023-08-10T11:41:22.091Z"
   },
   {
    "duration": 18,
    "start_time": "2023-08-10T11:41:22.096Z"
   },
   {
    "duration": 8,
    "start_time": "2023-08-10T11:41:22.115Z"
   },
   {
    "duration": 7,
    "start_time": "2023-08-10T11:41:22.125Z"
   },
   {
    "duration": 17,
    "start_time": "2023-08-10T11:41:22.137Z"
   },
   {
    "duration": 26,
    "start_time": "2023-08-10T11:41:22.156Z"
   },
   {
    "duration": 16,
    "start_time": "2023-08-10T11:41:22.184Z"
   },
   {
    "duration": 5888,
    "start_time": "2023-08-10T11:41:22.202Z"
   },
   {
    "duration": 3,
    "start_time": "2023-08-10T11:41:28.092Z"
   },
   {
    "duration": 2394,
    "start_time": "2023-08-10T11:41:28.096Z"
   },
   {
    "duration": 6,
    "start_time": "2023-08-10T11:41:30.492Z"
   },
   {
    "duration": 69,
    "start_time": "2023-08-10T11:41:30.500Z"
   },
   {
    "duration": 1929,
    "start_time": "2023-08-10T11:41:30.571Z"
   },
   {
    "duration": 46,
    "start_time": "2023-08-10T11:41:32.502Z"
   },
   {
    "duration": 11,
    "start_time": "2023-08-10T11:41:32.551Z"
   },
   {
    "duration": 36,
    "start_time": "2023-08-10T11:41:32.564Z"
   },
   {
    "duration": 17,
    "start_time": "2023-08-10T11:41:32.601Z"
   },
   {
    "duration": 13,
    "start_time": "2023-08-10T11:41:32.621Z"
   },
   {
    "duration": 46,
    "start_time": "2023-08-10T11:41:32.636Z"
   },
   {
    "duration": 19,
    "start_time": "2023-08-10T11:41:32.683Z"
   },
   {
    "duration": 18753,
    "start_time": "2023-08-10T11:41:32.703Z"
   },
   {
    "duration": 20937,
    "start_time": "2023-08-10T11:41:51.458Z"
   },
   {
    "duration": 3296,
    "start_time": "2023-08-10T11:42:12.396Z"
   },
   {
    "duration": 0,
    "start_time": "2023-08-10T11:42:15.694Z"
   },
   {
    "duration": 4534,
    "start_time": "2023-08-10T11:53:17.008Z"
   },
   {
    "duration": 8847,
    "start_time": "2023-08-10T11:53:21.548Z"
   },
   {
    "duration": 5579,
    "start_time": "2023-08-10T11:53:30.396Z"
   },
   {
    "duration": 15,
    "start_time": "2023-08-10T11:57:02.495Z"
   },
   {
    "duration": 16,
    "start_time": "2023-08-10T11:57:14.785Z"
   },
   {
    "duration": 11,
    "start_time": "2023-08-10T11:57:48.909Z"
   },
   {
    "duration": 13,
    "start_time": "2023-08-10T11:58:45.056Z"
   },
   {
    "duration": 5,
    "start_time": "2023-08-10T11:59:06.078Z"
   },
   {
    "duration": 3,
    "start_time": "2023-08-10T11:59:46.689Z"
   },
   {
    "duration": 172156,
    "start_time": "2023-08-10T12:00:29.063Z"
   },
   {
    "duration": 0,
    "start_time": "2023-08-10T12:03:21.220Z"
   },
   {
    "duration": 27,
    "start_time": "2023-08-10T12:12:09.333Z"
   },
   {
    "duration": 3,
    "start_time": "2023-08-10T12:12:23.887Z"
   },
   {
    "duration": 758,
    "start_time": "2023-08-10T12:12:53.118Z"
   },
   {
    "duration": 7,
    "start_time": "2023-08-10T12:13:27.194Z"
   },
   {
    "duration": 3795,
    "start_time": "2023-08-10T12:14:19.284Z"
   },
   {
    "duration": 3,
    "start_time": "2023-08-10T12:15:39.181Z"
   },
   {
    "duration": 8711,
    "start_time": "2023-08-10T12:15:40.563Z"
   },
   {
    "duration": 11,
    "start_time": "2023-08-10T12:15:52.424Z"
   },
   {
    "duration": 15,
    "start_time": "2023-08-10T12:16:23.561Z"
   },
   {
    "duration": 4,
    "start_time": "2023-08-10T12:20:19.489Z"
   },
   {
    "duration": 3,
    "start_time": "2023-08-10T12:21:26.104Z"
   },
   {
    "duration": 44417,
    "start_time": "2023-08-10T12:21:26.888Z"
   },
   {
    "duration": 6,
    "start_time": "2023-08-10T12:22:54.875Z"
   },
   {
    "duration": 4,
    "start_time": "2023-08-10T12:24:08.014Z"
   },
   {
    "duration": 219010,
    "start_time": "2023-08-10T12:24:44.369Z"
   },
   {
    "duration": 12,
    "start_time": "2023-08-10T12:28:42.415Z"
   },
   {
    "duration": 3,
    "start_time": "2023-08-10T12:30:45.578Z"
   },
   {
    "duration": 3,
    "start_time": "2023-08-10T12:30:52.809Z"
   },
   {
    "duration": 14,
    "start_time": "2023-08-10T12:32:35.832Z"
   },
   {
    "duration": 14,
    "start_time": "2023-08-10T12:32:43.831Z"
   },
   {
    "duration": 12,
    "start_time": "2023-08-10T12:33:08.466Z"
   },
   {
    "duration": 3,
    "start_time": "2023-08-10T12:33:32.634Z"
   },
   {
    "duration": 5,
    "start_time": "2023-08-10T12:33:44.581Z"
   },
   {
    "duration": 15,
    "start_time": "2023-08-10T13:24:31.357Z"
   },
   {
    "duration": 6,
    "start_time": "2023-08-10T13:25:04.466Z"
   },
   {
    "duration": 45440,
    "start_time": "2023-08-10T13:25:19.208Z"
   },
   {
    "duration": 8,
    "start_time": "2023-08-10T13:37:52.797Z"
   },
   {
    "duration": 1391,
    "start_time": "2023-08-10T13:37:58.772Z"
   },
   {
    "duration": 4,
    "start_time": "2023-08-10T13:38:00.166Z"
   },
   {
    "duration": 809,
    "start_time": "2023-08-10T13:38:00.171Z"
   },
   {
    "duration": 117,
    "start_time": "2023-08-10T13:38:00.982Z"
   },
   {
    "duration": 21,
    "start_time": "2023-08-10T13:38:01.101Z"
   },
   {
    "duration": 205,
    "start_time": "2023-08-10T13:38:01.124Z"
   },
   {
    "duration": 35,
    "start_time": "2023-08-10T13:38:01.330Z"
   },
   {
    "duration": 50,
    "start_time": "2023-08-10T13:38:01.367Z"
   },
   {
    "duration": 85,
    "start_time": "2023-08-10T13:38:01.418Z"
   },
   {
    "duration": 482,
    "start_time": "2023-08-10T13:38:01.506Z"
   },
   {
    "duration": 4,
    "start_time": "2023-08-10T13:38:01.989Z"
   },
   {
    "duration": 75,
    "start_time": "2023-08-10T13:38:01.994Z"
   },
   {
    "duration": 34,
    "start_time": "2023-08-10T13:38:02.071Z"
   },
   {
    "duration": 25,
    "start_time": "2023-08-10T13:38:02.107Z"
   },
   {
    "duration": 61,
    "start_time": "2023-08-10T13:38:02.133Z"
   },
   {
    "duration": 61,
    "start_time": "2023-08-10T13:38:02.196Z"
   },
   {
    "duration": 44,
    "start_time": "2023-08-10T13:38:02.258Z"
   },
   {
    "duration": 5683,
    "start_time": "2023-08-10T13:38:02.304Z"
   },
   {
    "duration": 4,
    "start_time": "2023-08-10T13:38:07.988Z"
   },
   {
    "duration": 2090,
    "start_time": "2023-08-10T13:38:07.994Z"
   },
   {
    "duration": 10,
    "start_time": "2023-08-10T13:38:10.085Z"
   },
   {
    "duration": 33,
    "start_time": "2023-08-10T13:38:10.096Z"
   },
   {
    "duration": 1849,
    "start_time": "2023-08-10T13:38:10.130Z"
   },
   {
    "duration": 30,
    "start_time": "2023-08-10T13:38:11.981Z"
   },
   {
    "duration": 8,
    "start_time": "2023-08-10T13:38:12.013Z"
   },
   {
    "duration": 44,
    "start_time": "2023-08-10T13:38:12.022Z"
   },
   {
    "duration": 8,
    "start_time": "2023-08-10T13:38:12.067Z"
   },
   {
    "duration": 14,
    "start_time": "2023-08-10T13:38:12.077Z"
   },
   {
    "duration": 12,
    "start_time": "2023-08-10T13:38:12.092Z"
   },
   {
    "duration": 22,
    "start_time": "2023-08-10T13:38:12.106Z"
   },
   {
    "duration": 18390,
    "start_time": "2023-08-10T13:38:12.129Z"
   },
   {
    "duration": 20840,
    "start_time": "2023-08-10T13:38:30.520Z"
   },
   {
    "duration": 3605,
    "start_time": "2023-08-10T13:38:51.362Z"
   },
   {
    "duration": 8290,
    "start_time": "2023-08-10T13:38:54.970Z"
   },
   {
    "duration": 2,
    "start_time": "2023-08-10T13:39:03.262Z"
   },
   {
    "duration": 199,
    "start_time": "2023-08-10T13:39:03.266Z"
   },
   {
    "duration": 16,
    "start_time": "2023-08-10T13:39:03.467Z"
   },
   {
    "duration": 123,
    "start_time": "2023-08-10T13:39:03.484Z"
   },
   {
    "duration": 0,
    "start_time": "2023-08-10T13:39:03.609Z"
   },
   {
    "duration": 0,
    "start_time": "2023-08-10T13:39:03.610Z"
   },
   {
    "duration": 0,
    "start_time": "2023-08-10T13:39:03.611Z"
   },
   {
    "duration": 80706,
    "start_time": "2023-08-10T13:40:28.766Z"
   },
   {
    "duration": 1408,
    "start_time": "2023-08-10T13:49:21.464Z"
   },
   {
    "duration": 5,
    "start_time": "2023-08-10T13:49:22.874Z"
   },
   {
    "duration": 796,
    "start_time": "2023-08-10T13:49:22.881Z"
   },
   {
    "duration": 111,
    "start_time": "2023-08-10T13:49:23.678Z"
   },
   {
    "duration": 20,
    "start_time": "2023-08-10T13:49:23.790Z"
   },
   {
    "duration": 162,
    "start_time": "2023-08-10T13:49:23.811Z"
   },
   {
    "duration": 18,
    "start_time": "2023-08-10T13:49:23.975Z"
   },
   {
    "duration": 57,
    "start_time": "2023-08-10T13:49:23.995Z"
   },
   {
    "duration": 19,
    "start_time": "2023-08-10T13:49:24.061Z"
   },
   {
    "duration": 403,
    "start_time": "2023-08-10T13:49:24.082Z"
   },
   {
    "duration": 4,
    "start_time": "2023-08-10T13:49:24.487Z"
   },
   {
    "duration": 22,
    "start_time": "2023-08-10T13:49:24.492Z"
   },
   {
    "duration": 5,
    "start_time": "2023-08-10T13:49:24.516Z"
   },
   {
    "duration": 59,
    "start_time": "2023-08-10T13:49:24.524Z"
   },
   {
    "duration": 26,
    "start_time": "2023-08-10T13:49:24.585Z"
   },
   {
    "duration": 57,
    "start_time": "2023-08-10T13:49:24.613Z"
   },
   {
    "duration": 56,
    "start_time": "2023-08-10T13:49:24.673Z"
   },
   {
    "duration": 5725,
    "start_time": "2023-08-10T13:49:24.731Z"
   },
   {
    "duration": 10,
    "start_time": "2023-08-10T13:49:30.458Z"
   },
   {
    "duration": 2183,
    "start_time": "2023-08-10T13:49:30.470Z"
   },
   {
    "duration": 7,
    "start_time": "2023-08-10T13:49:32.655Z"
   },
   {
    "duration": 62,
    "start_time": "2023-08-10T13:49:32.663Z"
   },
   {
    "duration": 1853,
    "start_time": "2023-08-10T13:49:32.726Z"
   },
   {
    "duration": 37,
    "start_time": "2023-08-10T13:49:34.581Z"
   },
   {
    "duration": 10,
    "start_time": "2023-08-10T13:49:34.620Z"
   },
   {
    "duration": 59,
    "start_time": "2023-08-10T13:49:34.632Z"
   },
   {
    "duration": 25,
    "start_time": "2023-08-10T13:49:34.693Z"
   },
   {
    "duration": 59,
    "start_time": "2023-08-10T13:49:34.721Z"
   },
   {
    "duration": 45,
    "start_time": "2023-08-10T13:49:34.781Z"
   },
   {
    "duration": 39,
    "start_time": "2023-08-10T13:49:34.827Z"
   },
   {
    "duration": 18120,
    "start_time": "2023-08-10T13:49:34.867Z"
   },
   {
    "duration": 21335,
    "start_time": "2023-08-10T13:49:52.988Z"
   },
   {
    "duration": 4027,
    "start_time": "2023-08-10T13:50:14.325Z"
   },
   {
    "duration": 8759,
    "start_time": "2023-08-10T13:50:18.354Z"
   },
   {
    "duration": 2,
    "start_time": "2023-08-10T13:50:27.114Z"
   },
   {
    "duration": 43,
    "start_time": "2023-08-10T13:50:27.118Z"
   },
   {
    "duration": 25,
    "start_time": "2023-08-10T13:50:27.167Z"
   },
   {
    "duration": 133,
    "start_time": "2023-08-10T13:50:27.193Z"
   },
   {
    "duration": 0,
    "start_time": "2023-08-10T13:50:27.328Z"
   },
   {
    "duration": 0,
    "start_time": "2023-08-10T13:50:27.329Z"
   },
   {
    "duration": 0,
    "start_time": "2023-08-10T13:50:27.330Z"
   },
   {
    "duration": 0,
    "start_time": "2023-08-10T13:50:27.330Z"
   },
   {
    "duration": 95895,
    "start_time": "2023-08-10T13:50:39.061Z"
   },
   {
    "duration": 7417,
    "start_time": "2023-08-10T13:52:43.065Z"
   },
   {
    "duration": 15285,
    "start_time": "2023-08-10T13:53:05.766Z"
   },
   {
    "duration": 1466,
    "start_time": "2023-08-10T13:57:22.615Z"
   },
   {
    "duration": 3,
    "start_time": "2023-08-10T13:57:24.083Z"
   },
   {
    "duration": 960,
    "start_time": "2023-08-10T13:57:24.088Z"
   },
   {
    "duration": 121,
    "start_time": "2023-08-10T13:57:25.056Z"
   },
   {
    "duration": 21,
    "start_time": "2023-08-10T13:57:25.184Z"
   },
   {
    "duration": 218,
    "start_time": "2023-08-10T13:57:25.206Z"
   },
   {
    "duration": 43,
    "start_time": "2023-08-10T13:57:25.426Z"
   },
   {
    "duration": 39,
    "start_time": "2023-08-10T13:57:25.477Z"
   },
   {
    "duration": 17,
    "start_time": "2023-08-10T13:57:25.517Z"
   },
   {
    "duration": 471,
    "start_time": "2023-08-10T13:57:25.535Z"
   },
   {
    "duration": 4,
    "start_time": "2023-08-10T13:57:26.007Z"
   },
   {
    "duration": 67,
    "start_time": "2023-08-10T13:57:26.012Z"
   },
   {
    "duration": 10,
    "start_time": "2023-08-10T13:57:26.081Z"
   },
   {
    "duration": 29,
    "start_time": "2023-08-10T13:57:26.095Z"
   },
   {
    "duration": 159,
    "start_time": "2023-08-10T13:57:26.125Z"
   },
   {
    "duration": 34,
    "start_time": "2023-08-10T13:57:26.286Z"
   },
   {
    "duration": 12,
    "start_time": "2023-08-10T13:57:26.321Z"
   },
   {
    "duration": 5930,
    "start_time": "2023-08-10T13:57:26.334Z"
   },
   {
    "duration": 8,
    "start_time": "2023-08-10T13:57:32.266Z"
   },
   {
    "duration": 2223,
    "start_time": "2023-08-10T13:57:32.285Z"
   },
   {
    "duration": 7,
    "start_time": "2023-08-10T13:57:34.510Z"
   },
   {
    "duration": 85,
    "start_time": "2023-08-10T13:57:34.519Z"
   },
   {
    "duration": 1981,
    "start_time": "2023-08-10T13:57:34.606Z"
   },
   {
    "duration": 30,
    "start_time": "2023-08-10T13:57:36.588Z"
   },
   {
    "duration": 8,
    "start_time": "2023-08-10T13:57:36.619Z"
   },
   {
    "duration": 57,
    "start_time": "2023-08-10T13:57:36.628Z"
   },
   {
    "duration": 7,
    "start_time": "2023-08-10T13:57:36.687Z"
   },
   {
    "duration": 11,
    "start_time": "2023-08-10T13:57:36.695Z"
   },
   {
    "duration": 12,
    "start_time": "2023-08-10T13:57:36.708Z"
   },
   {
    "duration": 9,
    "start_time": "2023-08-10T13:57:36.721Z"
   },
   {
    "duration": 19376,
    "start_time": "2023-08-10T13:57:36.732Z"
   },
   {
    "duration": 22162,
    "start_time": "2023-08-10T13:57:56.109Z"
   },
   {
    "duration": 3893,
    "start_time": "2023-08-10T13:58:18.273Z"
   },
   {
    "duration": 8921,
    "start_time": "2023-08-10T13:58:22.173Z"
   },
   {
    "duration": 3,
    "start_time": "2023-08-10T13:58:31.097Z"
   },
   {
    "duration": 91,
    "start_time": "2023-08-10T13:58:31.102Z"
   },
   {
    "duration": 102,
    "start_time": "2023-08-10T13:58:31.195Z"
   },
   {
    "duration": 224,
    "start_time": "2023-08-10T13:58:31.299Z"
   },
   {
    "duration": 0,
    "start_time": "2023-08-10T13:58:31.526Z"
   },
   {
    "duration": 0,
    "start_time": "2023-08-10T13:58:31.531Z"
   },
   {
    "duration": 0,
    "start_time": "2023-08-10T13:58:31.532Z"
   },
   {
    "duration": 0,
    "start_time": "2023-08-10T13:58:31.534Z"
   },
   {
    "duration": 91497,
    "start_time": "2023-08-10T13:58:51.171Z"
   },
   {
    "duration": 13613,
    "start_time": "2023-08-10T14:01:52.345Z"
   },
   {
    "duration": 863,
    "start_time": "2023-08-10T14:02:10.489Z"
   },
   {
    "duration": 56,
    "start_time": "2023-08-10T14:02:20.308Z"
   },
   {
    "duration": 1001,
    "start_time": "2023-08-10T14:02:21.689Z"
   },
   {
    "duration": 14877,
    "start_time": "2023-08-10T14:02:32.503Z"
   },
   {
    "duration": 1401,
    "start_time": "2023-08-10T14:02:47.382Z"
   },
   {
    "duration": 86595,
    "start_time": "2023-08-10T14:03:17.465Z"
   },
   {
    "duration": 1634,
    "start_time": "2023-08-10T14:04:44.065Z"
   },
   {
    "duration": 1580,
    "start_time": "2023-08-10T14:07:09.533Z"
   },
   {
    "duration": 3,
    "start_time": "2023-08-10T14:07:11.115Z"
   },
   {
    "duration": 944,
    "start_time": "2023-08-10T14:07:11.120Z"
   },
   {
    "duration": 131,
    "start_time": "2023-08-10T14:07:12.073Z"
   },
   {
    "duration": 21,
    "start_time": "2023-08-10T14:07:12.206Z"
   },
   {
    "duration": 177,
    "start_time": "2023-08-10T14:07:12.228Z"
   },
   {
    "duration": 18,
    "start_time": "2023-08-10T14:07:12.406Z"
   },
   {
    "duration": 94,
    "start_time": "2023-08-10T14:07:12.425Z"
   },
   {
    "duration": 59,
    "start_time": "2023-08-10T14:07:12.521Z"
   },
   {
    "duration": 441,
    "start_time": "2023-08-10T14:07:12.582Z"
   },
   {
    "duration": 4,
    "start_time": "2023-08-10T14:07:13.025Z"
   },
   {
    "duration": 32,
    "start_time": "2023-08-10T14:07:13.030Z"
   },
   {
    "duration": 28,
    "start_time": "2023-08-10T14:07:13.069Z"
   },
   {
    "duration": 6,
    "start_time": "2023-08-10T14:07:13.099Z"
   },
   {
    "duration": 13,
    "start_time": "2023-08-10T14:07:13.106Z"
   },
   {
    "duration": 41,
    "start_time": "2023-08-10T14:07:13.121Z"
   },
   {
    "duration": 33,
    "start_time": "2023-08-10T14:07:13.169Z"
   },
   {
    "duration": 5847,
    "start_time": "2023-08-10T14:07:13.203Z"
   },
   {
    "duration": 7,
    "start_time": "2023-08-10T14:07:19.051Z"
   },
   {
    "duration": 2209,
    "start_time": "2023-08-10T14:07:19.059Z"
   },
   {
    "duration": 19,
    "start_time": "2023-08-10T14:07:21.269Z"
   },
   {
    "duration": 25,
    "start_time": "2023-08-10T14:07:21.289Z"
   },
   {
    "duration": 1944,
    "start_time": "2023-08-10T14:07:21.316Z"
   },
   {
    "duration": 38,
    "start_time": "2023-08-10T14:07:23.270Z"
   },
   {
    "duration": 8,
    "start_time": "2023-08-10T14:07:23.309Z"
   },
   {
    "duration": 38,
    "start_time": "2023-08-10T14:07:23.318Z"
   },
   {
    "duration": 35,
    "start_time": "2023-08-10T14:07:23.366Z"
   },
   {
    "duration": 13,
    "start_time": "2023-08-10T14:07:23.404Z"
   },
   {
    "duration": 5,
    "start_time": "2023-08-10T14:07:23.418Z"
   },
   {
    "duration": 50,
    "start_time": "2023-08-10T14:07:23.425Z"
   },
   {
    "duration": 19199,
    "start_time": "2023-08-10T14:07:23.477Z"
   },
   {
    "duration": 22080,
    "start_time": "2023-08-10T14:07:42.686Z"
   },
   {
    "duration": 5233,
    "start_time": "2023-08-10T14:08:04.773Z"
   },
   {
    "duration": 8899,
    "start_time": "2023-08-10T14:08:10.008Z"
   },
   {
    "duration": 2,
    "start_time": "2023-08-10T14:08:18.909Z"
   },
   {
    "duration": 9,
    "start_time": "2023-08-10T14:08:18.913Z"
   },
   {
    "duration": 6,
    "start_time": "2023-08-10T14:08:18.923Z"
   },
   {
    "duration": 181,
    "start_time": "2023-08-10T14:08:18.931Z"
   },
   {
    "duration": 0,
    "start_time": "2023-08-10T14:08:19.113Z"
   },
   {
    "duration": 0,
    "start_time": "2023-08-10T14:08:19.116Z"
   },
   {
    "duration": 3,
    "start_time": "2023-08-10T14:12:04.096Z"
   },
   {
    "duration": 20,
    "start_time": "2023-08-10T14:12:10.562Z"
   },
   {
    "duration": 3,
    "start_time": "2023-08-10T14:13:51.603Z"
   },
   {
    "duration": 1561,
    "start_time": "2023-08-10T14:16:09.265Z"
   },
   {
    "duration": 3,
    "start_time": "2023-08-10T14:16:10.828Z"
   },
   {
    "duration": 936,
    "start_time": "2023-08-10T14:16:10.832Z"
   },
   {
    "duration": 136,
    "start_time": "2023-08-10T14:16:11.781Z"
   },
   {
    "duration": 53,
    "start_time": "2023-08-10T14:16:11.919Z"
   },
   {
    "duration": 184,
    "start_time": "2023-08-10T14:16:11.978Z"
   },
   {
    "duration": 31,
    "start_time": "2023-08-10T14:16:12.168Z"
   },
   {
    "duration": 78,
    "start_time": "2023-08-10T14:16:12.200Z"
   },
   {
    "duration": 19,
    "start_time": "2023-08-10T14:16:12.279Z"
   },
   {
    "duration": 474,
    "start_time": "2023-08-10T14:16:12.301Z"
   },
   {
    "duration": 5,
    "start_time": "2023-08-10T14:16:12.792Z"
   },
   {
    "duration": 22,
    "start_time": "2023-08-10T14:16:12.798Z"
   },
   {
    "duration": 51,
    "start_time": "2023-08-10T14:16:12.821Z"
   },
   {
    "duration": 26,
    "start_time": "2023-08-10T14:16:12.873Z"
   },
   {
    "duration": 16,
    "start_time": "2023-08-10T14:16:12.901Z"
   },
   {
    "duration": 14,
    "start_time": "2023-08-10T14:16:12.918Z"
   },
   {
    "duration": 30,
    "start_time": "2023-08-10T14:16:12.934Z"
   },
   {
    "duration": 5861,
    "start_time": "2023-08-10T14:16:12.966Z"
   },
   {
    "duration": 4,
    "start_time": "2023-08-10T14:16:18.828Z"
   },
   {
    "duration": 2264,
    "start_time": "2023-08-10T14:16:18.833Z"
   },
   {
    "duration": 8,
    "start_time": "2023-08-10T14:16:21.098Z"
   },
   {
    "duration": 57,
    "start_time": "2023-08-10T14:16:21.107Z"
   },
   {
    "duration": 1851,
    "start_time": "2023-08-10T14:16:21.177Z"
   },
   {
    "duration": 63,
    "start_time": "2023-08-10T14:16:23.030Z"
   },
   {
    "duration": 15,
    "start_time": "2023-08-10T14:16:23.095Z"
   },
   {
    "duration": 8,
    "start_time": "2023-08-10T14:16:23.111Z"
   },
   {
    "duration": 48,
    "start_time": "2023-08-10T14:16:23.120Z"
   },
   {
    "duration": 13,
    "start_time": "2023-08-10T14:16:23.189Z"
   },
   {
    "duration": 19493,
    "start_time": "2023-08-10T14:16:23.203Z"
   },
   {
    "duration": 22411,
    "start_time": "2023-08-10T14:16:42.698Z"
   },
   {
    "duration": 5685,
    "start_time": "2023-08-10T14:17:05.111Z"
   },
   {
    "duration": 8754,
    "start_time": "2023-08-10T14:17:10.798Z"
   },
   {
    "duration": 6,
    "start_time": "2023-08-10T14:17:19.553Z"
   },
   {
    "duration": 64,
    "start_time": "2023-08-10T14:17:19.561Z"
   },
   {
    "duration": 73,
    "start_time": "2023-08-10T14:17:19.627Z"
   },
   {
    "duration": 87,
    "start_time": "2023-08-10T14:17:19.702Z"
   },
   {
    "duration": 1631,
    "start_time": "2023-08-10T14:24:30.170Z"
   },
   {
    "duration": 5,
    "start_time": "2023-08-10T14:24:31.803Z"
   },
   {
    "duration": 1071,
    "start_time": "2023-08-10T14:24:31.809Z"
   },
   {
    "duration": 118,
    "start_time": "2023-08-10T14:24:32.881Z"
   },
   {
    "duration": 132,
    "start_time": "2023-08-10T14:24:33.001Z"
   },
   {
    "duration": 213,
    "start_time": "2023-08-10T14:24:33.134Z"
   },
   {
    "duration": 20,
    "start_time": "2023-08-10T14:24:33.349Z"
   },
   {
    "duration": 60,
    "start_time": "2023-08-10T14:24:33.371Z"
   },
   {
    "duration": 36,
    "start_time": "2023-08-10T14:24:33.432Z"
   },
   {
    "duration": 513,
    "start_time": "2023-08-10T14:24:33.476Z"
   },
   {
    "duration": 4,
    "start_time": "2023-08-10T14:24:33.991Z"
   },
   {
    "duration": 18,
    "start_time": "2023-08-10T14:24:33.996Z"
   },
   {
    "duration": 8,
    "start_time": "2023-08-10T14:24:34.015Z"
   },
   {
    "duration": 71,
    "start_time": "2023-08-10T14:24:34.027Z"
   },
   {
    "duration": 16,
    "start_time": "2023-08-10T14:24:34.100Z"
   },
   {
    "duration": 17,
    "start_time": "2023-08-10T14:24:34.117Z"
   },
   {
    "duration": 41,
    "start_time": "2023-08-10T14:24:34.136Z"
   },
   {
    "duration": 5824,
    "start_time": "2023-08-10T14:24:34.179Z"
   },
   {
    "duration": 3,
    "start_time": "2023-08-10T14:24:40.005Z"
   },
   {
    "duration": 2415,
    "start_time": "2023-08-10T14:24:40.010Z"
   },
   {
    "duration": 12,
    "start_time": "2023-08-10T14:24:42.426Z"
   },
   {
    "duration": 76,
    "start_time": "2023-08-10T14:24:42.439Z"
   },
   {
    "duration": 1982,
    "start_time": "2023-08-10T14:24:42.517Z"
   },
   {
    "duration": 45,
    "start_time": "2023-08-10T14:24:44.500Z"
   },
   {
    "duration": 24,
    "start_time": "2023-08-10T14:24:44.546Z"
   },
   {
    "duration": 44,
    "start_time": "2023-08-10T14:24:44.576Z"
   },
   {
    "duration": 43,
    "start_time": "2023-08-10T14:24:44.622Z"
   },
   {
    "duration": 40,
    "start_time": "2023-08-10T14:24:44.666Z"
   },
   {
    "duration": 19011,
    "start_time": "2023-08-10T14:24:44.709Z"
   },
   {
    "duration": 21562,
    "start_time": "2023-08-10T14:25:03.722Z"
   },
   {
    "duration": 3756,
    "start_time": "2023-08-10T14:25:25.286Z"
   },
   {
    "duration": 8384,
    "start_time": "2023-08-10T14:25:29.043Z"
   },
   {
    "duration": 3,
    "start_time": "2023-08-10T14:25:37.428Z"
   },
   {
    "duration": 38,
    "start_time": "2023-08-10T14:25:37.432Z"
   },
   {
    "duration": 17,
    "start_time": "2023-08-10T14:25:37.471Z"
   },
   {
    "duration": 4,
    "start_time": "2023-08-10T14:25:37.490Z"
   },
   {
    "duration": 1473,
    "start_time": "2023-08-10T14:28:47.421Z"
   },
   {
    "duration": 4,
    "start_time": "2023-08-10T14:28:48.896Z"
   },
   {
    "duration": 894,
    "start_time": "2023-08-10T14:28:48.901Z"
   },
   {
    "duration": 136,
    "start_time": "2023-08-10T14:28:49.798Z"
   },
   {
    "duration": 46,
    "start_time": "2023-08-10T14:28:49.936Z"
   },
   {
    "duration": 165,
    "start_time": "2023-08-10T14:28:49.984Z"
   },
   {
    "duration": 23,
    "start_time": "2023-08-10T14:28:50.163Z"
   },
   {
    "duration": 29,
    "start_time": "2023-08-10T14:28:50.188Z"
   },
   {
    "duration": 15,
    "start_time": "2023-08-10T14:28:50.218Z"
   },
   {
    "duration": 470,
    "start_time": "2023-08-10T14:28:50.236Z"
   },
   {
    "duration": 5,
    "start_time": "2023-08-10T14:28:50.708Z"
   },
   {
    "duration": 61,
    "start_time": "2023-08-10T14:28:50.714Z"
   },
   {
    "duration": 12,
    "start_time": "2023-08-10T14:28:50.781Z"
   },
   {
    "duration": 23,
    "start_time": "2023-08-10T14:28:50.795Z"
   },
   {
    "duration": 53,
    "start_time": "2023-08-10T14:28:50.820Z"
   },
   {
    "duration": 23,
    "start_time": "2023-08-10T14:28:50.882Z"
   },
   {
    "duration": 12,
    "start_time": "2023-08-10T14:28:50.907Z"
   },
   {
    "duration": 5695,
    "start_time": "2023-08-10T14:28:50.920Z"
   },
   {
    "duration": 3,
    "start_time": "2023-08-10T14:28:56.617Z"
   },
   {
    "duration": 2144,
    "start_time": "2023-08-10T14:28:56.621Z"
   },
   {
    "duration": 10,
    "start_time": "2023-08-10T14:28:58.766Z"
   },
   {
    "duration": 13,
    "start_time": "2023-08-10T14:28:58.778Z"
   },
   {
    "duration": 1884,
    "start_time": "2023-08-10T14:28:58.792Z"
   },
   {
    "duration": 33,
    "start_time": "2023-08-10T14:29:00.677Z"
   },
   {
    "duration": 16,
    "start_time": "2023-08-10T14:29:00.711Z"
   },
   {
    "duration": 64,
    "start_time": "2023-08-10T14:29:00.729Z"
   },
   {
    "duration": 26,
    "start_time": "2023-08-10T14:29:00.794Z"
   },
   {
    "duration": 33,
    "start_time": "2023-08-10T14:29:00.823Z"
   },
   {
    "duration": 19017,
    "start_time": "2023-08-10T14:29:00.857Z"
   },
   {
    "duration": 21931,
    "start_time": "2023-08-10T14:29:19.877Z"
   },
   {
    "duration": 6242,
    "start_time": "2023-08-10T14:29:41.810Z"
   },
   {
    "duration": 8847,
    "start_time": "2023-08-10T14:29:48.076Z"
   },
   {
    "duration": 21,
    "start_time": "2023-08-10T14:29:56.925Z"
   },
   {
    "duration": 52,
    "start_time": "2023-08-10T14:29:56.960Z"
   },
   {
    "duration": 73,
    "start_time": "2023-08-10T14:29:57.014Z"
   },
   {
    "duration": 32,
    "start_time": "2023-08-10T14:29:57.089Z"
   },
   {
    "duration": 57,
    "start_time": "2023-08-10T14:29:57.123Z"
   },
   {
    "duration": 0,
    "start_time": "2023-08-10T14:29:57.188Z"
   },
   {
    "duration": 481753,
    "start_time": "2023-08-10T14:30:12.330Z"
   },
   {
    "duration": 11,
    "start_time": "2023-08-10T14:39:19.123Z"
   },
   {
    "duration": 4,
    "start_time": "2023-08-10T14:39:23.932Z"
   },
   {
    "duration": 152,
    "start_time": "2023-08-10T14:40:18.201Z"
   },
   {
    "duration": 9,
    "start_time": "2023-08-10T14:44:21.121Z"
   },
   {
    "duration": 119,
    "start_time": "2023-08-10T14:45:59.243Z"
   },
   {
    "duration": 4,
    "start_time": "2023-08-10T14:46:12.265Z"
   },
   {
    "duration": 384648,
    "start_time": "2023-08-10T14:46:12.826Z"
   },
   {
    "duration": 7,
    "start_time": "2023-08-10T14:56:24.948Z"
   },
   {
    "duration": 8,
    "start_time": "2023-08-10T14:57:11.917Z"
   },
   {
    "duration": 11,
    "start_time": "2023-08-10T14:57:15.891Z"
   },
   {
    "duration": 15,
    "start_time": "2023-08-10T14:59:52.604Z"
   },
   {
    "duration": 173,
    "start_time": "2023-08-10T15:00:16.088Z"
   },
   {
    "duration": 127,
    "start_time": "2023-08-10T15:00:22.198Z"
   },
   {
    "duration": 125,
    "start_time": "2023-08-10T15:00:26.180Z"
   },
   {
    "duration": 141,
    "start_time": "2023-08-10T15:00:31.989Z"
   },
   {
    "duration": 13,
    "start_time": "2023-08-10T15:02:27.797Z"
   },
   {
    "duration": 0,
    "start_time": "2023-08-10T15:39:08.406Z"
   },
   {
    "duration": 0,
    "start_time": "2023-08-10T15:39:08.407Z"
   },
   {
    "duration": 0,
    "start_time": "2023-08-10T15:39:08.408Z"
   },
   {
    "duration": 47332,
    "start_time": "2023-08-10T15:39:13.165Z"
   },
   {
    "duration": 4,
    "start_time": "2023-08-10T15:42:41.511Z"
   },
   {
    "duration": 116265,
    "start_time": "2023-08-10T15:43:56.126Z"
   },
   {
    "duration": 132762,
    "start_time": "2023-08-10T15:49:07.586Z"
   },
   {
    "duration": 482933,
    "start_time": "2023-08-10T15:51:50.319Z"
   },
   {
    "duration": 921,
    "start_time": "2023-08-10T16:19:23.063Z"
   },
   {
    "duration": 8838,
    "start_time": "2023-08-10T16:19:30.933Z"
   },
   {
    "duration": 959,
    "start_time": "2023-08-10T16:19:43.263Z"
   },
   {
    "duration": 39,
    "start_time": "2023-08-10T16:27:36.433Z"
   },
   {
    "duration": 211178,
    "start_time": "2023-08-10T16:27:49.740Z"
   },
   {
    "duration": 12,
    "start_time": "2023-08-11T16:27:40.203Z"
   },
   {
    "duration": 218,
    "start_time": "2023-08-11T16:27:45.826Z"
   },
   {
    "duration": 74,
    "start_time": "2023-08-12T03:43:32.475Z"
   },
   {
    "duration": 1914,
    "start_time": "2023-08-12T03:43:46.833Z"
   },
   {
    "duration": 8,
    "start_time": "2023-08-12T03:43:48.749Z"
   },
   {
    "duration": 3068,
    "start_time": "2023-08-12T03:43:48.758Z"
   },
   {
    "duration": 130,
    "start_time": "2023-08-12T03:43:51.829Z"
   },
   {
    "duration": 37,
    "start_time": "2023-08-12T03:43:51.962Z"
   },
   {
    "duration": 182,
    "start_time": "2023-08-12T03:43:52.237Z"
   },
   {
    "duration": 24,
    "start_time": "2023-08-12T03:43:52.879Z"
   },
   {
    "duration": 31,
    "start_time": "2023-08-12T03:43:53.345Z"
   },
   {
    "duration": 39,
    "start_time": "2023-08-12T03:43:53.808Z"
   },
   {
    "duration": 396,
    "start_time": "2023-08-12T03:43:54.398Z"
   },
   {
    "duration": 7,
    "start_time": "2023-08-12T03:43:57.486Z"
   },
   {
    "duration": 7,
    "start_time": "2023-08-12T03:43:57.998Z"
   },
   {
    "duration": 3,
    "start_time": "2023-08-12T03:44:00.301Z"
   },
   {
    "duration": 7,
    "start_time": "2023-08-12T03:44:00.944Z"
   },
   {
    "duration": 22,
    "start_time": "2023-08-12T03:44:05.969Z"
   },
   {
    "duration": 36,
    "start_time": "2023-08-12T03:44:07.907Z"
   },
   {
    "duration": 22,
    "start_time": "2023-08-12T03:44:10.427Z"
   },
   {
    "duration": 6697,
    "start_time": "2023-08-12T03:44:12.374Z"
   },
   {
    "duration": 1952,
    "start_time": "2023-08-12T03:44:38.128Z"
   },
   {
    "duration": 10,
    "start_time": "2023-08-12T03:47:40.173Z"
   },
   {
    "duration": 10,
    "start_time": "2023-08-12T03:48:04.467Z"
   },
   {
    "duration": 17,
    "start_time": "2023-08-12T03:59:55.435Z"
   },
   {
    "duration": 10,
    "start_time": "2023-08-12T04:00:25.671Z"
   },
   {
    "duration": 139,
    "start_time": "2023-08-12T04:01:05.233Z"
   },
   {
    "duration": 12,
    "start_time": "2023-08-12T04:01:13.388Z"
   },
   {
    "duration": 46,
    "start_time": "2023-08-12T04:12:35.203Z"
   },
   {
    "duration": 6869,
    "start_time": "2023-08-12T04:12:38.013Z"
   },
   {
    "duration": 1675,
    "start_time": "2023-08-12T04:17:04.774Z"
   },
   {
    "duration": 1636,
    "start_time": "2023-08-12T04:17:52.100Z"
   },
   {
    "duration": 2431,
    "start_time": "2023-08-12T04:18:08.270Z"
   },
   {
    "duration": 2046,
    "start_time": "2023-08-12T04:21:40.244Z"
   },
   {
    "duration": 2939,
    "start_time": "2023-08-12T04:22:11.498Z"
   },
   {
    "duration": 2649,
    "start_time": "2023-08-12T04:22:49.748Z"
   },
   {
    "duration": 2712,
    "start_time": "2023-08-12T04:22:52.591Z"
   },
   {
    "duration": 120,
    "start_time": "2023-08-12T04:29:17.385Z"
   },
   {
    "duration": 49,
    "start_time": "2023-08-12T04:29:38.540Z"
   },
   {
    "duration": 6492,
    "start_time": "2023-08-12T04:29:41.032Z"
   },
   {
    "duration": 1389,
    "start_time": "2023-08-12T04:32:13.774Z"
   },
   {
    "duration": 10,
    "start_time": "2023-08-12T04:32:18.850Z"
   },
   {
    "duration": 2764,
    "start_time": "2023-08-12T04:33:27.604Z"
   },
   {
    "duration": 115,
    "start_time": "2023-08-12T04:34:27.688Z"
   },
   {
    "duration": 6,
    "start_time": "2023-08-12T04:37:02.791Z"
   },
   {
    "duration": 3,
    "start_time": "2023-08-12T04:37:17.098Z"
   },
   {
    "duration": 4,
    "start_time": "2023-08-12T04:38:35.769Z"
   },
   {
    "duration": 13,
    "start_time": "2023-08-12T04:38:42.635Z"
   },
   {
    "duration": 8,
    "start_time": "2023-08-12T04:38:50.093Z"
   },
   {
    "duration": 4,
    "start_time": "2023-08-12T04:38:50.483Z"
   },
   {
    "duration": 12,
    "start_time": "2023-08-12T04:38:52.295Z"
   },
   {
    "duration": 146,
    "start_time": "2023-08-12T04:38:53.849Z"
   },
   {
    "duration": 125,
    "start_time": "2023-08-12T04:39:11.325Z"
   },
   {
    "duration": 1756,
    "start_time": "2023-08-12T04:39:28.203Z"
   },
   {
    "duration": 5,
    "start_time": "2023-08-12T04:39:29.961Z"
   },
   {
    "duration": 933,
    "start_time": "2023-08-12T04:39:29.968Z"
   },
   {
    "duration": 159,
    "start_time": "2023-08-12T04:39:30.903Z"
   },
   {
    "duration": 33,
    "start_time": "2023-08-12T04:39:31.064Z"
   },
   {
    "duration": 281,
    "start_time": "2023-08-12T04:39:31.099Z"
   },
   {
    "duration": 30,
    "start_time": "2023-08-12T04:39:31.382Z"
   },
   {
    "duration": 109,
    "start_time": "2023-08-12T04:39:31.420Z"
   },
   {
    "duration": 65,
    "start_time": "2023-08-12T04:39:31.530Z"
   },
   {
    "duration": 476,
    "start_time": "2023-08-12T04:39:31.597Z"
   },
   {
    "duration": 6,
    "start_time": "2023-08-12T04:39:32.075Z"
   },
   {
    "duration": 74,
    "start_time": "2023-08-12T04:39:32.083Z"
   },
   {
    "duration": 87,
    "start_time": "2023-08-12T04:39:32.159Z"
   },
   {
    "duration": 32,
    "start_time": "2023-08-12T04:39:32.253Z"
   },
   {
    "duration": 77,
    "start_time": "2023-08-12T04:39:32.288Z"
   },
   {
    "duration": 45,
    "start_time": "2023-08-12T04:39:32.367Z"
   },
   {
    "duration": 55,
    "start_time": "2023-08-12T04:39:32.414Z"
   },
   {
    "duration": 6612,
    "start_time": "2023-08-12T04:39:32.471Z"
   },
   {
    "duration": 68,
    "start_time": "2023-08-12T04:39:39.085Z"
   },
   {
    "duration": 1323,
    "start_time": "2023-08-12T04:39:39.156Z"
   },
   {
    "duration": 0,
    "start_time": "2023-08-12T04:39:40.481Z"
   },
   {
    "duration": 0,
    "start_time": "2023-08-12T04:39:40.482Z"
   },
   {
    "duration": 0,
    "start_time": "2023-08-12T04:39:40.484Z"
   },
   {
    "duration": 0,
    "start_time": "2023-08-12T04:39:40.486Z"
   },
   {
    "duration": 0,
    "start_time": "2023-08-12T04:39:40.487Z"
   },
   {
    "duration": 0,
    "start_time": "2023-08-12T04:39:40.489Z"
   },
   {
    "duration": 0,
    "start_time": "2023-08-12T04:39:40.490Z"
   },
   {
    "duration": 0,
    "start_time": "2023-08-12T04:39:40.492Z"
   },
   {
    "duration": 0,
    "start_time": "2023-08-12T04:39:40.508Z"
   },
   {
    "duration": 0,
    "start_time": "2023-08-12T04:39:40.515Z"
   },
   {
    "duration": 1,
    "start_time": "2023-08-12T04:39:40.516Z"
   },
   {
    "duration": 0,
    "start_time": "2023-08-12T04:39:40.518Z"
   },
   {
    "duration": 0,
    "start_time": "2023-08-12T04:39:40.520Z"
   },
   {
    "duration": 0,
    "start_time": "2023-08-12T04:39:40.523Z"
   },
   {
    "duration": 0,
    "start_time": "2023-08-12T04:39:40.524Z"
   },
   {
    "duration": 1808,
    "start_time": "2023-08-12T04:43:06.842Z"
   },
   {
    "duration": 8,
    "start_time": "2023-08-12T04:43:08.653Z"
   },
   {
    "duration": 1099,
    "start_time": "2023-08-12T04:43:08.669Z"
   },
   {
    "duration": 184,
    "start_time": "2023-08-12T04:43:09.772Z"
   },
   {
    "duration": 40,
    "start_time": "2023-08-12T04:43:09.959Z"
   },
   {
    "duration": 276,
    "start_time": "2023-08-12T04:43:10.001Z"
   },
   {
    "duration": 42,
    "start_time": "2023-08-12T04:43:10.279Z"
   },
   {
    "duration": 152,
    "start_time": "2023-08-12T04:43:10.333Z"
   },
   {
    "duration": 34,
    "start_time": "2023-08-12T04:43:10.487Z"
   },
   {
    "duration": 514,
    "start_time": "2023-08-12T04:43:10.523Z"
   },
   {
    "duration": 14,
    "start_time": "2023-08-12T04:43:11.039Z"
   },
   {
    "duration": 39,
    "start_time": "2023-08-12T04:43:11.055Z"
   },
   {
    "duration": 63,
    "start_time": "2023-08-12T04:43:11.096Z"
   },
   {
    "duration": 86,
    "start_time": "2023-08-12T04:43:11.163Z"
   },
   {
    "duration": 129,
    "start_time": "2023-08-12T04:43:11.251Z"
   },
   {
    "duration": 128,
    "start_time": "2023-08-12T04:43:11.381Z"
   },
   {
    "duration": 226,
    "start_time": "2023-08-12T04:43:11.511Z"
   },
   {
    "duration": 7223,
    "start_time": "2023-08-12T04:43:11.743Z"
   },
   {
    "duration": 72,
    "start_time": "2023-08-12T04:43:18.968Z"
   },
   {
    "duration": 1445,
    "start_time": "2023-08-12T04:43:19.051Z"
   },
   {
    "duration": 0,
    "start_time": "2023-08-12T04:43:20.498Z"
   },
   {
    "duration": 0,
    "start_time": "2023-08-12T04:43:20.499Z"
   },
   {
    "duration": 0,
    "start_time": "2023-08-12T04:43:20.501Z"
   },
   {
    "duration": 0,
    "start_time": "2023-08-12T04:43:20.508Z"
   },
   {
    "duration": 0,
    "start_time": "2023-08-12T04:43:20.509Z"
   },
   {
    "duration": 0,
    "start_time": "2023-08-12T04:43:20.510Z"
   },
   {
    "duration": 0,
    "start_time": "2023-08-12T04:43:20.511Z"
   },
   {
    "duration": 0,
    "start_time": "2023-08-12T04:43:20.513Z"
   },
   {
    "duration": 0,
    "start_time": "2023-08-12T04:43:20.513Z"
   },
   {
    "duration": 0,
    "start_time": "2023-08-12T04:43:20.514Z"
   },
   {
    "duration": 0,
    "start_time": "2023-08-12T04:43:20.515Z"
   },
   {
    "duration": 0,
    "start_time": "2023-08-12T04:43:20.516Z"
   },
   {
    "duration": 0,
    "start_time": "2023-08-12T04:43:20.517Z"
   },
   {
    "duration": 0,
    "start_time": "2023-08-12T04:43:20.518Z"
   },
   {
    "duration": 0,
    "start_time": "2023-08-12T04:43:20.519Z"
   },
   {
    "duration": 1932,
    "start_time": "2023-08-12T04:44:23.157Z"
   },
   {
    "duration": 27,
    "start_time": "2023-08-12T04:44:28.702Z"
   },
   {
    "duration": 2470,
    "start_time": "2023-08-12T04:44:39.314Z"
   },
   {
    "duration": 16,
    "start_time": "2023-08-12T04:44:45.702Z"
   },
   {
    "duration": 4,
    "start_time": "2023-08-12T04:44:48.156Z"
   },
   {
    "duration": 4,
    "start_time": "2023-08-12T04:44:49.534Z"
   },
   {
    "duration": 9,
    "start_time": "2023-08-12T04:44:50.854Z"
   },
   {
    "duration": 131581,
    "start_time": "2023-08-12T04:44:52.940Z"
   },
   {
    "duration": 7,
    "start_time": "2023-08-12T04:48:05.987Z"
   },
   {
    "duration": 5,
    "start_time": "2023-08-12T04:48:14.772Z"
   },
   {
    "duration": 4,
    "start_time": "2023-08-12T04:50:22.486Z"
   },
   {
    "duration": 4,
    "start_time": "2023-08-12T04:50:24.301Z"
   },
   {
    "duration": 5,
    "start_time": "2023-08-12T04:50:25.655Z"
   },
   {
    "duration": 285979,
    "start_time": "2023-08-12T04:50:26.565Z"
   },
   {
    "duration": 900,
    "start_time": "2023-08-12T05:03:00.552Z"
   },
   {
    "duration": 348997,
    "start_time": "2023-08-12T05:03:21.029Z"
   },
   {
    "duration": 4,
    "start_time": "2023-08-12T05:09:10.028Z"
   },
   {
    "duration": 508518,
    "start_time": "2023-08-12T05:09:38.326Z"
   },
   {
    "duration": 16,
    "start_time": "2023-08-12T05:18:40.466Z"
   },
   {
    "duration": 10,
    "start_time": "2023-08-12T05:18:52.265Z"
   },
   {
    "duration": 28,
    "start_time": "2023-08-12T05:19:36.138Z"
   },
   {
    "duration": 3,
    "start_time": "2023-08-12T05:21:41.153Z"
   },
   {
    "duration": 369051,
    "start_time": "2023-08-12T05:22:48.030Z"
   },
   {
    "duration": 0,
    "start_time": "2023-08-12T05:40:11.332Z"
   },
   {
    "duration": 271786,
    "start_time": "2023-08-12T05:40:27.705Z"
   },
   {
    "duration": 47887,
    "start_time": "2023-08-12T05:47:08.632Z"
   }
  ],
  "kernelspec": {
   "display_name": "Python 3 (ipykernel)",
   "language": "python",
   "name": "python3"
  },
  "language_info": {
   "codemirror_mode": {
    "name": "ipython",
    "version": 3
   },
   "file_extension": ".py",
   "mimetype": "text/x-python",
   "name": "python",
   "nbconvert_exporter": "python",
   "pygments_lexer": "ipython3",
   "version": "3.9.5"
  },
  "toc": {
   "base_numbering": 1,
   "nav_menu": {},
   "number_sections": true,
   "sideBar": true,
   "skip_h1_title": true,
   "title_cell": "Содержание",
   "title_sidebar": "Contents",
   "toc_cell": true,
   "toc_position": {
    "height": "872.222px",
    "left": "195px",
    "top": "150.441px",
    "width": "260.414px"
   },
   "toc_section_display": true,
   "toc_window_display": true
  }
 },
 "nbformat": 4,
 "nbformat_minor": 2
}
